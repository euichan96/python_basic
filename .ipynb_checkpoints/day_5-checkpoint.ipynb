{
 "cells": [
  {
   "cell_type": "code",
   "execution_count": 11,
   "id": "b535b6a1",
   "metadata": {},
   "outputs": [],
   "source": [
    "# 표준 모듈 삽입\n",
    "import math\n",
    "import math as m\n",
    "from math import cos, ceil, floor\n",
    "from math import ceil as c"
   ]
  },
  {
   "cell_type": "code",
   "execution_count": 8,
   "id": "88ef886d",
   "metadata": {},
   "outputs": [
    {
     "name": "stdout",
     "output_type": "stream",
     "text": [
      "-0.8390715290764524\n",
      "6\n",
      "5\n"
     ]
    }
   ],
   "source": [
    "print(math.cos(10))\n",
    "print(math.ceil(5.6))  # 숫자보다 큰 정수 중에 가장 작은 정수(올림)\n",
    "print(math.floor(5.6)) # 숫자보다 작은 정수 중에 가장 큰 정수(버림)"
   ]
  },
  {
   "cell_type": "code",
   "execution_count": 9,
   "id": "02817d0a",
   "metadata": {},
   "outputs": [
    {
     "name": "stdout",
     "output_type": "stream",
     "text": [
      "-0.8390715290764524\n",
      "6\n",
      "5\n"
     ]
    }
   ],
   "source": [
    "# from 모듈명 import 필요한 변수 또는 함수 \n",
    "from math import cos, ceil, floor\n",
    "\n",
    "print(cos(10))\n",
    "print(ceil(5.6))\n",
    "print(floor(5.6))"
   ]
  },
  {
   "cell_type": "code",
   "execution_count": 10,
   "id": "6bad6686",
   "metadata": {},
   "outputs": [
    {
     "data": {
      "text/plain": [
       "-0.8390715290764524"
      ]
     },
     "execution_count": 10,
     "metadata": {},
     "output_type": "execute_result"
    }
   ],
   "source": [
    "# as를 사용하여 별명(alias) 사용\n",
    "import math as m\n",
    "m.cos(10)"
   ]
  },
  {
   "cell_type": "code",
   "execution_count": 97,
   "id": "0a3e7042",
   "metadata": {},
   "outputs": [
    {
     "name": "stdout",
     "output_type": "stream",
     "text": [
      "random 모듈 : \n",
      "0.20313992938217096\n",
      "12.213708603988023\n",
      "16\n",
      "4\n",
      "None [5, 2, 0, 9, 4, 7, 6, 8, 3, 1]\n",
      "[2, 3, 4]\n"
     ]
    }
   ],
   "source": [
    "# random 모듈 \n",
    "import random as rnd\n",
    "\n",
    "print(\"random 모듈 : \")\n",
    "#random() : 0.0 < x < 1.0 사이의 float 리턴\n",
    "print(rnd.random())\n",
    "\n",
    "#uniform(min, max) : min < x < max 사이의 float 리턴 \n",
    "print(rnd.uniform(10,20))\n",
    "\n",
    "#randrange([min,] max) : min < x < max 사이의 int 리턴 0부터 max\n",
    "print(rnd.randrange(10,20))\n",
    "\n",
    "#chioce(list) : 리스트 내부의 임의의 요소를 리턴\n",
    "print(rnd.choice(list(range(10))))\n",
    "      \n",
    "#shuffle(list) : 리스트 요소를 랜덤하게 섞음\n",
    "a = list(range(10))\n",
    "print(rnd.shuffle(a), a)\n",
    "\n",
    "#sample(list, k=숫자) : 리스트에서 숫자의 갯수 요소를 랜덤하게 리턴\n",
    "print(rnd.sample(a,k=3))"
   ]
  },
  {
   "cell_type": "code",
   "execution_count": 98,
   "id": "20667ee2",
   "metadata": {},
   "outputs": [
    {
     "name": "stdout",
     "output_type": "stream",
     "text": [
      "coptright :  Copyright (c) 2001-2021 Python Software Foundation.\n",
      "All Rights Reserved.\n",
      "\n",
      "Copyright (c) 2000 BeOpen.com.\n",
      "All Rights Reserved.\n",
      "\n",
      "Copyright (c) 1995-2001 Corporation for National Research Initiatives.\n",
      "All Rights Reserved.\n",
      "\n",
      "Copyright (c) 1991-1995 Stichting Mathematisch Centrum, Amsterdam.\n",
      "All Rights Reserved.\n",
      "version :  3.9.7 (default, Sep 16 2021, 16:59:28) [MSC v.1916 64 bit (AMD64)]\n"
     ]
    }
   ],
   "source": [
    "# sys 모듈 : 시스템 관련 정보를 가져 옴\n",
    "import sys\n",
    "\n",
    "print(\"coptright : \",sys.copyright)\n",
    "print(\"version : \",sys.version)"
   ]
  },
  {
   "cell_type": "code",
   "execution_count": 99,
   "id": "ea3e388f",
   "metadata": {},
   "outputs": [
    {
     "name": "stdout",
     "output_type": "stream",
     "text": [
      "현재 운영체제 :  nt\n",
      "현재 작업 경로 :  C:\\Users\\82109\\Documents\\python_basic\n",
      "현재 폴더 리스트 :  ['.ipynb_checkpoints', 'day_1.ipynb', 'day_1.py', 'day_2.ipynb', 'day_3.ipynb', 'day_4.ipynb', 'day_4_.ipynb', 'day_4_clear.ipynb', 'score.txt', 'score1.txt', 'Untitled.ipynb', 'Untitled1.ipynb', 'Untitled2.ipynb', 'Untitled3.ipynb']\n"
     ]
    }
   ],
   "source": [
    "# os 모듈 : 운영체제와 관련된 명령어\n",
    "import os\n",
    "\n",
    "print(\"현재 운영체제 : \",os.name)\n",
    "print(\"현재 작업 경로 : \",os.getcwd())\n",
    "print(\"현재 폴더 리스트 : \",os.listdir())"
   ]
  },
  {
   "cell_type": "code",
   "execution_count": 100,
   "id": "36bf0db1",
   "metadata": {},
   "outputs": [
    {
     "data": {
      "text/plain": [
       "['.ipynb_checkpoints',\n",
       " 'day_1.ipynb',\n",
       " 'day_1.py',\n",
       " 'day_2.ipynb',\n",
       " 'day_3.ipynb',\n",
       " 'day_4.ipynb',\n",
       " 'day_4_.ipynb',\n",
       " 'day_4_clear.ipynb',\n",
       " 'score.txt',\n",
       " 'score1.txt',\n",
       " 'test_dir',\n",
       " 'Untitled.ipynb',\n",
       " 'Untitled1.ipynb',\n",
       " 'Untitled2.ipynb',\n",
       " 'Untitled3.ipynb']"
      ]
     },
     "execution_count": 100,
     "metadata": {},
     "output_type": "execute_result"
    }
   ],
   "source": [
    "# 디렉토리 생성\n",
    "os.mkdir('test_dir')\n",
    "os.listdir()"
   ]
  },
  {
   "cell_type": "code",
   "execution_count": 101,
   "id": "dc3b96d8",
   "metadata": {},
   "outputs": [
    {
     "data": {
      "text/plain": [
       "['.ipynb_checkpoints',\n",
       " 'day_1.ipynb',\n",
       " 'day_1.py',\n",
       " 'day_2.ipynb',\n",
       " 'day_3.ipynb',\n",
       " 'day_4.ipynb',\n",
       " 'day_4_.ipynb',\n",
       " 'day_4_clear.ipynb',\n",
       " 'score.txt',\n",
       " 'score1.txt',\n",
       " 'Untitled.ipynb',\n",
       " 'Untitled1.ipynb',\n",
       " 'Untitled2.ipynb',\n",
       " 'Untitled3.ipynb']"
      ]
     },
     "execution_count": 101,
     "metadata": {},
     "output_type": "execute_result"
    }
   ],
   "source": [
    "# 디렉토리 삭제\n",
    "os.rmdir('test_dir')\n",
    "os.listdir()"
   ]
  },
  {
   "cell_type": "code",
   "execution_count": 102,
   "id": "7f6f62c1",
   "metadata": {},
   "outputs": [
    {
     "data": {
      "text/plain": [
       "['.ipynb_checkpoints',\n",
       " 'day_1.ipynb',\n",
       " 'day_1_1.py',\n",
       " 'day_2.ipynb',\n",
       " 'day_3.ipynb',\n",
       " 'day_4.ipynb',\n",
       " 'day_4_.ipynb',\n",
       " 'day_4_clear.ipynb',\n",
       " 'score.txt',\n",
       " 'score1.txt',\n",
       " 'Untitled.ipynb',\n",
       " 'Untitled1.ipynb',\n",
       " 'Untitled2.ipynb',\n",
       " 'Untitled3.ipynb']"
      ]
     },
     "execution_count": 102,
     "metadata": {},
     "output_type": "execute_result"
    }
   ],
   "source": [
    "#file 이름 변경 : rename(old_name, new_name)\n",
    "os.rename('day_1.py', 'day_1_1.py')\n",
    "os.listdir()"
   ]
  },
  {
   "cell_type": "code",
   "execution_count": null,
   "id": "64e26f73",
   "metadata": {},
   "outputs": [],
   "source": [
    "#file 삭제 : remove(파일명)\n",
    "#os.remove('new.py')\n",
    "os.listdir()"
   ]
  },
  {
   "cell_type": "code",
   "execution_count": 103,
   "id": "a427b2d9",
   "metadata": {},
   "outputs": [
    {
     "name": "stdout",
     "output_type": "stream",
     "text": [
      " C 드라이브의 볼륨: OS\n",
      " 볼륨 일련 번호: 0620-5A43\n",
      "\n",
      " C:\\Users\\82109\\Documents\\python_basic 디렉터리\n",
      "\n",
      "2021-12-29  오전 10:15    <DIR>          .\n",
      "2021-12-29  오전 10:15    <DIR>          ..\n",
      "2021-12-29  오전 09:15    <DIR>          .ipynb_checkpoints\n",
      "2021-12-23  오후 04:42             8,911 day_1.ipynb\n",
      "2021-12-23  오전 11:02               256 day_1_1.py\n",
      "2021-12-24  오후 05:20             7,776 day_2.ipynb\n",
      "2021-12-27  오후 03:25            11,789 day_3.ipynb\n",
      "2021-12-28  오후 01:01             1,550 day_4.ipynb\n",
      "2021-12-28  오후 04:51            22,499 day_4_.ipynb\n",
      "2021-12-28  오후 01:56            14,233 day_4_clear.ipynb\n",
      "2021-12-28  오후 02:01                33 score.txt\n",
      "2021-12-28  오후 02:07                76 score1.txt\n",
      "2021-12-23  오전 11:16               588 Untitled.ipynb\n",
      "2021-12-29  오전 10:15             7,842 Untitled1.ipynb\n",
      "2021-12-24  오후 02:30                72 Untitled2.ipynb\n",
      "2021-12-24  오후 03:15             1,290 Untitled3.ipynb\n",
      "              13개 파일              76,915 바이트\n",
      "               3개 디렉터리  711,704,035,328 바이트 남음\n"
     ]
    }
   ],
   "source": [
    "!dir"
   ]
  },
  {
   "cell_type": "code",
   "execution_count": 112,
   "id": "aa40b0a9",
   "metadata": {},
   "outputs": [
    {
     "name": "stdout",
     "output_type": "stream",
     "text": [
      "2021-12-29 10:23:18.513223\n",
      "2021-12-29 10:23:18.513224\n"
     ]
    }
   ],
   "source": [
    "# datetime 모듈 : 날짜를 형식에 맞게 편집 가능\n",
    "import datetime as dt\n",
    "print(dt.datetime.now())\n",
    "print(dt.datetime.today())"
   ]
  },
  {
   "cell_type": "code",
   "execution_count": 114,
   "id": "2da218b2",
   "metadata": {},
   "outputs": [
    {
     "name": "stdout",
     "output_type": "stream",
     "text": [
      "time start\n",
      "time end\n"
     ]
    }
   ],
   "source": [
    "# time 모듈 : 시간 멈춤\n",
    "import time\n",
    "print(\"time start\")\n",
    "time.sleep(3)\n",
    "print(\"time end\")"
   ]
  },
  {
   "cell_type": "code",
   "execution_count": 116,
   "id": "ced44bf4",
   "metadata": {},
   "outputs": [
    {
     "name": "stdout",
     "output_type": "stream",
     "text": [
      "b'<!doctype html><html itemscope=\"\" itemtype=\"http://schema.org/WebPage\" lang=\"ko\"><head><meta content=\"text/html; charset=UTF-8\" http-equiv=\"Content-Type\"><meta content=\"/logos/doodles/2021/seasonal-holidays-2021-6753651837109324-6752733080595605-cst.gif\" itemprop=\"image\"><meta content=\"2021 &#50672;&#47568;&#50672;&#49884;\" property=\"twitter:title\"><meta content=\"&#46384;&#46907;&#54620; &#50672;&#47568; &#48372;&#45236;&#49464;&#50836; #GoogleDoodle\" property=\"twitter:description\"><meta content=\"&#46384;&#46907;&#54620; &#50672;&#47568; &#48372;&#45236;&#49464;&#50836; #GoogleDoodle\" property=\"og:description\"><meta content=\"summary_large_image\" property=\"twitter:card\"><meta content=\"@GoogleDoodles\" property=\"twitter:site\"><meta content=\"https://www.google.com/logos/doodles/2021/seasonal-holidays-2021-6753651837109324-2xa.gif\" property=\"twitter:image\"><meta content=\"https://www.google.com/logos/doodles/2021/seasonal-holidays-2021-6753651837109324-2xa.gif\" property=\"og:image\"><meta content=\"1000\" property=\"og:image:width\"><meta content=\"400\" property=\"og:image:height\"><meta content=\"https://www.google.com/logos/doodles/2021/seasonal-holidays-2021-6753651837109324-2xa.gif\" property=\"og:url\"><meta content=\"video.other\" property=\"og:type\"><title>Google</title><script nonce=\"4vu/oBPgugP7Mz+lGSKkSw==\">(function(){window.google={kEI:\\'L7vLYdb6K7WJmgaMkp_gAw\\',kEXPI:\\'0,1302536,56873,6058,207,4804,2316,383,246,5,1354,4013,1238,1122515,1197740,661,380090,16114,28684,17572,4858,1362,9291,3025,2819,14764,4020,978,13228,3847,3599,593,6430,21822,919,5081,885,708,1279,2212,530,149,1103,840,2196,4101,108,3406,606,2023,1777,520,14670,2273,1,953,2845,7,4774,34,7546,5096,8101,8219,908,2,941,2614,13142,3,576,6460,148,13975,4,1252,276,2304,7039,4683,15626,4764,2658,6701,656,30,15219,714,2132,16786,5818,2539,4094,17,3121,6,908,3,3541,1,16524,283,912,5992,18443,2,14022,1931,3909,1680,743,5853,9326,1137,1160,5678,1021,2381,2719,18242,2,6,7773,4567,2578,3132,107,439,10501,2,2370,5759,4789,1252,192,13477,2466,961,86,853,128,2640,1542,1307,1483,19,2751,257,19,1340,495,135,974,99,1329,511,2,2,1,1407,1583,4152,4173,1183,2279,390,1152,216,2,295,387,3856,3,315,1093,151,741,6,2,388,9,44,309,388,33,71,151,455,963,10,1,186,116,1,207,234,727,953,1401,1933,1718,752,206,145,113,253,558,347,2,89,935,284,2379,2,29,133,5,37,5,397,2,441,193,282,89,643,171,123,1012,4,634,667,300,194,629,3195,5506177,3905,100,346,484,1802405,4193980,258,2800438,882,444,1,2,80,1,1796,1,9,2553,1,748,141,795,563,1,4265,1,1,2,1331,4142,2609,155,17,13,72,139,4,2,20,2,169,13,19,46,5,39,96,548,29,2,2,1,2,1,2,2,7,4,1,2,2,2,2,2,2,353,513,186,1,1,158,3,2,2,2,2,2,4,2,3,3,269,1601,106,24,2,4,1,4,64,3,3,40,2,2,2,9,2,2,2,1,23952848,2773820,1267532,338,3,2414,1491,9,1435,159,1358,1129,2,3589,3,2472,196,2725,126,772892\\',kBL:\\'4JUY\\'};google.sn=\\'webhp\\';google.kHL=\\'ko\\';})();(function(){\\nvar f=this||self;var h,k=[];function l(a){for(var b;a&&(!a.getAttribute||!(b=a.getAttribute(\"eid\")));)a=a.parentNode;return b||h}function m(a){for(var b=null;a&&(!a.getAttribute||!(b=a.getAttribute(\"leid\")));)a=a.parentNode;return b}\\nfunction n(a,b,c,d,g){var e=\"\";c||-1!==b.search(\"&ei=\")||(e=\"&ei=\"+l(d),-1===b.search(\"&lei=\")&&(d=m(d))&&(e+=\"&lei=\"+d));d=\"\";!c&&f._cshid&&-1===b.search(\"&cshid=\")&&\"slh\"!==a&&(d=\"&cshid=\"+f._cshid);c=c||\"/\"+(g||\"gen_204\")+\"?atyp=i&ct=\"+a+\"&cad=\"+b+e+\"&zx=\"+Date.now()+d;/^http:/i.test(c)&&\"https:\"===window.location.protocol&&(google.ml&&google.ml(Error(\"a\"),!1,{src:c,glmm:1}),c=\"\");return c};h=google.kEI;google.getEI=l;google.getLEI=m;google.ml=function(){return null};google.log=function(a,b,c,d,g){if(c=n(a,b,c,d,g)){a=new Image;var e=k.length;k[e]=a;a.onerror=a.onload=a.onabort=function(){delete k[e]};a.src=c}};google.logUrl=n;}).call(this);(function(){\\ngoogle.y={};google.sy=[];google.x=function(a,b){if(a)var c=a.id;else{do c=Math.random();while(google.y[c])}google.y[c]=[a,b];return!1};google.sx=function(a){google.sy.push(a)};google.lm=[];google.plm=function(a){google.lm.push.apply(google.lm,a)};google.lq=[];google.load=function(a,b,c){google.lq.push([[a],b,c])};google.loadAll=function(a,b){google.lq.push([a,b])};google.bx=!1;google.lx=function(){};}).call(this);google.f={};(function(){\\ndocument.documentElement.addEventListener(\"submit\",function(b){var a;if(a=b.target){var c=a.getAttribute(\"data-submitfalse\");a=\"1\"===c||\"q\"===c&&!a.elements.q.value?!0:!1}else a=!1;a&&(b.preventDefault(),b.stopPropagation())},!0);document.documentElement.addEventListener(\"click\",function(b){var a;a:{for(a=b.target;a&&a!==document.documentElement;a=a.parentElement)if(\"A\"===a.tagName){a=\"1\"===a.getAttribute(\"data-nohref\");break a}a=!1}a&&b.preventDefault()},!0);}).call(this);</script><style>#gbar,#guser{font-size:13px;padding-top:1px !important;}#gbar{height:22px}#guser{padding-bottom:7px !important;text-align:right}.gbh,.gbd{border-top:1px solid #c9d7f1;font-size:1px}.gbh{height:0;position:absolute;top:24px;width:100%}@media all{.gb1{height:22px;margin-right:.5em;vertical-align:top}#gbar{float:left}}a.gb1,a.gb4{text-decoration:underline !important}a.gb1,a.gb4{color:#00c !important}.gbi .gb4{color:#dd8e27 !important}.gbf .gb4{color:#900 !important}\\n</style><style>body,td,a,p,.h{font-family:&#44404;&#47548;,&#46027;&#50880;,arial,sans-serif}.ko{font-size:9pt}body{margin:0;overflow-y:scroll}#gog{padding:3px 8px 0}td{line-height:.8em}.gac_m td{line-height:17px}form{margin-bottom:20px}.h{color:#1558d6}em{font-weight:bold;font-style:normal}.lst{height:25px;width:496px}.gsfi,.lst{font:18px arial,sans-serif}.gsfs{font:17px arial,sans-serif}.ds{display:inline-box;display:inline-block;margin:3px 0 4px;margin-left:4px}input{font-family:inherit}body{background:#fff;color:#000}a{color:#4b11a8;text-decoration:none}a:hover,a:active{text-decoration:underline}.fl a{color:#1558d6}a:visited{color:#4b11a8}.sblc{padding-top:5px}.sblc a{display:block;margin:2px 0;margin-left:13px;font-size:11px}.lsbb{background:#f8f9fa;border:solid 1px;border-color:#dadce0 #70757a #70757a #dadce0;height:30px}.lsbb{display:block}#WqQANb a{display:inline-block;margin:0 12px}.lsb{background:url(/images/nav_logo229.png) 0 -261px repeat-x;border:none;color:#000;cursor:pointer;height:30px;margin:0;outline:0;font:15px arial,sans-serif;vertical-align:top}.lsb:active{background:#dadce0}.lst:focus{outline:none}.tiah{width:458px}</style><script nonce=\"4vu/oBPgugP7Mz+lGSKkSw==\">(function(){window.google.erd={jsr:1,bv:1493,de:true};\\nvar f=this||self;var g,h,k=null!==(g=f.mei)&&void 0!==g?g:1,l=null!==(h=f.sdo)&&void 0!==h?h:!0,p=0,q,r=google.erd,u=r.jsr;google.ml=function(a,b,d,m,c){c=void 0===c?2:c;b&&(q=a&&a.message);if(google.dl)return google.dl(a,c,d),null;if(0>u){window.console&&console.error(a,d);if(-2===u)throw a;b=!1}else b=!a||!a.message||\"Error loading script\"===a.message||p>=k&&!m?!1:!0;if(!b)return null;p++;d=d||{};var e=c;c=encodeURIComponent;b=\"/gen_204?atyp=i&ei=\"+c(google.kEI);google.kEXPI&&(b+=\"&jexpid=\"+c(google.kEXPI));b+=\"&srcpg=\"+c(google.sn)+\"&jsr=\"+c(r.jsr)+\"&bver=\"+c(r.bv)+(\"&jsel=\"+e);e=a.lineNumber;void 0!==e&&(b+=\"&line=\"+\\ne);var n=a.fileName;n&&(b+=\"&script=\"+c(n),e&&n===window.location.href&&(e=document.documentElement.outerHTML.split(\"\\\\n\")[e],b+=\"&cad=\"+c(e?e.substring(0,300):\"No script found.\")));for(var t in d)b+=\"&\",b+=c(t),b+=\"=\",b+=c(d[t]);b=b+\"&emsg=\"+c(a.name+\": \"+a.message);b=b+\"&jsst=\"+c(a.stack||\"N/A\");12288<=b.length&&(b=b.substr(0,12288));a=b;m||google.log(0,\"\",a);return a};window.onerror=function(a,b,d,m,c){q!==a&&(a=c instanceof Error?c:Error(a),void 0===d||\"lineNumber\"in a||(a.lineNumber=d),void 0===b||\"fileName\"in a||(a.fileName=b),google.ml(a,!1,void 0,!1,\"SyntaxError\"===a.name||\"SyntaxError\"===a.message.substring(0,11)?2:0));q=null;l&&p>=k&&(window.onerror=null)};})();</script></head><body bgcolor=\"#fff\"><script nonce=\"4vu/oBPgugP7Mz+lGSKkSw==\">(function(){var src=\\'/images/nav_logo229.png\\';var iesg=false;document.body.onload = function(){window.n && window.n();if (document.images){new Image().src=src;}\\nif (!iesg){document.f&&document.f.q.focus();document.gbqf&&document.gbqf.q.focus();}\\n}\\n})();</script><div id=\"mngb\"><div id=gbar><nobr><b class=gb1>&#44160;&#49353;</b> <a class=gb1 href=\"http://www.google.co.kr/imghp?hl=ko&tab=wi\">&#51060;&#48120;&#51648;</a> <a class=gb1 href=\"http://maps.google.co.kr/maps?hl=ko&tab=wl\">&#51648;&#46020;</a> <a class=gb1 href=\"https://play.google.com/?hl=ko&tab=w8\">Play</a> <a class=gb1 href=\"http://www.youtube.com/?gl=KR&tab=w1\">YouTube</a> <a class=gb1 href=\"https://news.google.com/?tab=wn\">&#45684;&#49828;</a> <a class=gb1 href=\"https://mail.google.com/mail/?tab=wm\">Gmail</a> <a class=gb1 href=\"https://drive.google.com/?tab=wo\">&#46300;&#46972;&#51060;&#48652;</a> <a class=gb1 style=\"text-decoration:none\" href=\"https://www.google.co.kr/intl/ko/about/products?tab=wh\"><u>&#45908;&#48372;&#44592;</u> &raquo;</a></nobr></div><div id=guser width=100%><nobr><span id=gbn class=gbi></span><span id=gbf class=gbf></span><span id=gbe></span><a href=\"http://www.google.co.kr/history/optout?hl=ko\" class=gb4>&#50937; &#44592;&#47197;</a> | <a  href=\"/preferences?hl=ko\" class=gb4>&#49444;&#51221;</a> | <a target=_top id=gb_70 href=\"https://accounts.google.com/ServiceLogin?hl=ko&passive=true&continue=http://www.google.com/&ec=GAZAAQ\" class=gb4>&#47196;&#44536;&#51064;</a></nobr></div><div class=gbh style=left:0></div><div class=gbh style=right:0></div></div><center><br clear=\"all\" id=\"lgpd\"><div id=\"lga\"><img alt=\"2021 &#50672;&#47568;&#50672;&#49884;\" border=\"0\" height=\"200\" src=\"/logos/doodles/2021/seasonal-holidays-2021-6753651837109324-6752733080595605-cst.gif\" title=\"2021 &#50672;&#47568;&#50672;&#49884;\" width=\"500\" id=\"hplogo\"><br></div><form action=\"/search\" name=\"f\"><table cellpadding=\"0\" cellspacing=\"0\"><tr valign=\"top\"><td width=\"25%\">&nbsp;</td><td align=\"center\" nowrap=\"\"><input name=\"ie\" value=\"ISO-8859-1\" type=\"hidden\"><input value=\"ko\" name=\"hl\" type=\"hidden\"><input name=\"source\" type=\"hidden\" value=\"hp\"><input name=\"biw\" type=\"hidden\"><input name=\"bih\" type=\"hidden\"><div class=\"ds\" style=\"height:32px;margin:4px 0\"><div style=\"position:relative;zoom:1\"><input class=\"lst tiah\" style=\"margin:0;padding:5px 8px 0 6px;vertical-align:top;color:#000;padding-right:38px\" autocomplete=\"off\" value=\"\" title=\"Google &#44160;&#49353;\" maxlength=\"2048\" name=\"q\" size=\"57\"><img src=\"/textinputassistant/tia.png\" style=\"position:absolute;cursor:pointer;right:5px;top:4px;z-index:300\" data-script-url=\"/textinputassistant/11/ko_tia.js\" id=\"tsuid1\" alt=\"\" height=\"23\" width=\"27\"><script nonce=\"4vu/oBPgugP7Mz+lGSKkSw==\">(function(){var id=\\'tsuid1\\';document.getElementById(id).onclick = function(){var s = document.createElement(\\'script\\');s.src = this.getAttribute(\\'data-script-url\\');(document.getElementById(\\'xjsc\\')||document.body).appendChild(s);};})();</script></div></div><br style=\"line-height:0\"><span class=\"ds\"><span class=\"lsbb\"><input class=\"lsb\" value=\"Google &#44160;&#49353;\" name=\"btnG\" type=\"submit\"></span></span><span class=\"ds\"><span class=\"lsbb\"><input class=\"lsb\" id=\"tsuid2\" value=\"I&#8217;m Feeling Lucky\" name=\"btnI\" type=\"submit\"><script nonce=\"4vu/oBPgugP7Mz+lGSKkSw==\">(function(){var id=\\'tsuid2\\';document.getElementById(id).onclick = function(){if (this.form.q.value){this.checked = 1;if (this.form.iflsig)this.form.iflsig.disabled = false;}\\nelse top.location=\\'/doodles/\\';};})();</script><input value=\"ALs-wAMAAAAAYcvJP9EfJrylQq-ItIO77TkiZqvBtSod\" name=\"iflsig\" type=\"hidden\"></span></span></td><td class=\"fl sblc\" align=\"left\" nowrap=\"\" width=\"25%\"><a href=\"/advanced_search?hl=ko&amp;authuser=0\">&#44256;&#44553;&#44160;&#49353;</a></td></tr></table><input id=\"gbv\" name=\"gbv\" type=\"hidden\" value=\"1\"><script nonce=\"4vu/oBPgugP7Mz+lGSKkSw==\">(function(){\\nvar a,b=\"1\";if(document&&document.getElementById)if(\"undefined\"!=typeof XMLHttpRequest)b=\"2\";else if(\"undefined\"!=typeof ActiveXObject){var c,d,e=[\"MSXML2.XMLHTTP.6.0\",\"MSXML2.XMLHTTP.3.0\",\"MSXML2.XMLHTTP\",\"Microsoft.XMLHTTP\"];for(c=0;d=e[c++];)try{new ActiveXObject(d),b=\"2\"}catch(h){}}a=b;if(\"2\"==a&&-1==location.search.indexOf(\"&gbv=2\")){var f=google.gbvu,g=document.getElementById(\"gbv\");g&&(g.value=a);f&&window.setTimeout(function(){location.href=f},0)};}).call(this);</script></form><div id=\"gac_scont\"></div><div style=\"font-size:83%;min-height:3.5em\"><br></div><span id=\"footer\"><div style=\"font-size:10pt\"><div style=\"margin:19px auto;text-align:center\" id=\"WqQANb\"><a href=\"/intl/ko/ads/\">&#44305;&#44256; &#54532;&#47196;&#44536;&#47016;</a><a href=\"http://www.google.co.kr/intl/ko/services/\">&#48708;&#51592;&#45768;&#49828; &#49556;&#47336;&#49496;</a><a href=\"/intl/ko/about.html\">Google &#51221;&#48372;</a><a href=\"http://www.google.com/setprefdomain?prefdom=KR&amp;prev=http://www.google.co.kr/&amp;sig=K_M4574tuzgQuN1QywPJ36JN7zdn0%3D\">Google.co.kr</a></div></div><p style=\"font-size:8pt;color:#70757a\">&copy; 2021 - <a href=\"/intl/ko/policies/privacy/\">&#44060;&#51064;&#51221;&#48372;&#52376;&#47532;&#48169;&#52840;</a> - <a href=\"/intl/ko/policies/terms/\">&#50557;&#44288;</a></p></span></center><script nonce=\"4vu/oBPgugP7Mz+lGSKkSw==\">(function(){window.google.cdo={height:757,width:1440};(function(){\\nvar a=window.innerWidth,b=window.innerHeight;if(!a||!b){var c=window.document,d=\"CSS1Compat\"==c.compatMode?c.documentElement:c.body;a=d.clientWidth;b=d.clientHeight}a&&b&&(a!=google.cdo.width||b!=google.cdo.height)&&google.log(\"\",\"\",\"/client_204?&atyp=i&biw=\"+a+\"&bih=\"+b+\"&ei=\"+google.kEI);}).call(this);})();</script> <script nonce=\"4vu/oBPgugP7Mz+lGSKkSw==\">(function(){google.xjs={ck:\\'\\',cs:\\'\\',excm:[]};})();</script>  <script nonce=\"4vu/oBPgugP7Mz+lGSKkSw==\">(function(){var u=\\'/xjs/_/js/k\\\\x3dxjs.hp.en.8My0PvgdGIk.O/am\\\\x3dAPAEAEACkA/d\\\\x3d1/ed\\\\x3d1/esmo\\\\x3d1/rs\\\\x3dACT90oGepRzziWU7OPYV1h0N-nkjUkWXMg/m\\\\x3dsb_he,d\\';\\nvar e=this||self,f=function(a){return a};var g;var l=function(a,b){this.g=b===h?a:\"\"};l.prototype.toString=function(){return this.g+\"\"};var h={};\\nfunction m(){var a=u;google.lx=function(){n(a);google.lx=function(){}};google.bx||google.lx()}\\nfunction n(a){google.timers&&google.timers.load&&google.tick&&google.tick(\"load\",\"xjsls\");var b=document;var c=\"SCRIPT\";\"application/xhtml+xml\"===b.contentType&&(c=c.toLowerCase());c=b.createElement(c);if(void 0===g){b=null;var k=e.trustedTypes;if(k&&k.createPolicy){try{b=k.createPolicy(\"goog#html\",{createHTML:f,createScript:f,createScriptURL:f})}catch(p){e.console&&e.console.error(p.message)}g=b}else g=b}a=(b=g)?b.createScriptURL(a):a;a=new l(a,h);c.src=a instanceof l&&a.constructor===l?a.g:\"type_error:TrustedResourceUrl\";var d;a=(c.ownerDocument&&c.ownerDocument.defaultView||window).document;(d=(b=null===(d=a.querySelector)||void 0===d?void 0:d.call(a,\"script[nonce]\"))?b.nonce||b.getAttribute(\"nonce\")||\"\":\"\")&&c.setAttribute(\"nonce\",d);document.body.appendChild(c);google.psa=!0};google.xjsu=u;setTimeout(function(){m()},0);})();function _DumpException(e){throw e;}\\nfunction _F_installCss(c){}\\n(function(){google.jl={attn:false,blt:\\'none\\',chnk:0,dw:false,dwu:true,emtn:0,end:0,ine:false,lls:\\'default\\',pdt:0,rep:0,snet:true,strt:0,ubm:false,uwp:true};})();(function(){var pmc=\\'{\\\\x22d\\\\x22:{},\\\\x22sb_he\\\\x22:{\\\\x22agen\\\\x22:true,\\\\x22cgen\\\\x22:true,\\\\x22client\\\\x22:\\\\x22heirloom-hp\\\\x22,\\\\x22dh\\\\x22:true,\\\\x22dhqt\\\\x22:true,\\\\x22ds\\\\x22:\\\\x22\\\\x22,\\\\x22ffql\\\\x22:\\\\x22ko\\\\x22,\\\\x22fl\\\\x22:true,\\\\x22host\\\\x22:\\\\x22google.com\\\\x22,\\\\x22isbh\\\\x22:28,\\\\x22jsonp\\\\x22:true,\\\\x22msgs\\\\x22:{\\\\x22cibl\\\\x22:\\\\x22&#44160;&#49353;&#50612; &#51648;&#50864;&#44592;\\\\x22,\\\\x22dym\\\\x22:\\\\x22&#51060;&#44163;&#51012; &#52286;&#51004;&#49512;&#45208;&#50836;?\\\\x22,\\\\x22lcky\\\\x22:\\\\x22I&#8217;m Feeling Lucky\\\\x22,\\\\x22lml\\\\x22:\\\\x22&#51088;&#49464;&#55176; &#50508;&#50500;&#48372;&#44592;\\\\x22,\\\\x22oskt\\\\x22:\\\\x22&#51077;&#47141; &#46020;&#44396;\\\\x22,\\\\x22psrc\\\\x22:\\\\x22&#44160;&#49353;&#50612;&#44032; \\\\\\\\u003Ca href\\\\x3d\\\\\\\\\\\\x22/history\\\\\\\\\\\\x22\\\\\\\\u003E&#50937; &#44592;&#47197;\\\\\\\\u003C/a\\\\\\\\u003E&#50640;&#49436; &#49325;&#51228;&#46104;&#50632;&#49845;&#45768;&#45796;.\\\\x22,\\\\x22psrl\\\\x22:\\\\x22&#49325;&#51228;\\\\x22,\\\\x22sbit\\\\x22:\\\\x22&#51060;&#48120;&#51648;&#47196; &#44160;&#49353;\\\\x22,\\\\x22srch\\\\x22:\\\\x22Google &#44160;&#49353;\\\\x22},\\\\x22ovr\\\\x22:{},\\\\x22pq\\\\x22:\\\\x22\\\\x22,\\\\x22refpd\\\\x22:true,\\\\x22refspre\\\\x22:true,\\\\x22rfs\\\\x22:[],\\\\x22sbas\\\\x22:\\\\x220 3px 8px 0 rgba(0,0,0,0.2),0 0 0 1px rgba(0,0,0,0.08)\\\\x22,\\\\x22sbpl\\\\x22:16,\\\\x22sbpr\\\\x22:16,\\\\x22scd\\\\x22:10,\\\\x22stok\\\\x22:\\\\x22K2BtY_vCmTmPog7_0pBxDagbJh0\\\\x22,\\\\x22uhde\\\\x22:false}}\\';google.pmc=JSON.parse(pmc);})();</script>        </body></html>'\n"
     ]
    }
   ],
   "source": [
    "# urllib 모듈 : url라이브러라\n",
    "from urllib import request\n",
    "\n",
    "target = request.urlopen('http://www.google.com')\n",
    "output = target.read()\n",
    "print(output)\n",
    "# <html> ~ </html> tag 형식으로 변환해 주는 모듈 : BeatifulSoup\n"
   ]
  },
  {
   "cell_type": "code",
   "execution_count": 117,
   "id": "4bc6afe0",
   "metadata": {},
   "outputs": [
    {
     "name": "stdout",
     "output_type": "stream",
     "text": [
      "Requirement already satisfied: beautifulSoup4 in c:\\programdata\\anaconda3\\lib\\site-packages (4.10.0)\n",
      "Requirement already satisfied: soupsieve>1.2 in c:\\programdata\\anaconda3\\lib\\site-packages (from beautifulSoup4) (2.2.1)\n"
     ]
    }
   ],
   "source": [
    "!pip install beautifulSoup4\n"
   ]
  },
  {
   "cell_type": "code",
   "execution_count": 118,
   "id": "419659ad",
   "metadata": {},
   "outputs": [
    {
     "data": {
      "text/plain": [
       "<!DOCTYPE html>\n",
       "<html itemscope=\"\" itemtype=\"http://schema.org/WebPage\" lang=\"ko\"><head><meta content=\"text/html; charset=utf-8\" http-equiv=\"Content-Type\"/><meta content=\"/logos/doodles/2021/seasonal-holidays-2021-6753651837109324-6752733080595605-cst.gif\" itemprop=\"image\"/><meta content=\"2021 연말연시\" property=\"twitter:title\"/><meta content=\"따뜻한 연말 보내세요 #GoogleDoodle\" property=\"twitter:description\"/><meta content=\"따뜻한 연말 보내세요 #GoogleDoodle\" property=\"og:description\"/><meta content=\"summary_large_image\" property=\"twitter:card\"/><meta content=\"@GoogleDoodles\" property=\"twitter:site\"/><meta content=\"https://www.google.com/logos/doodles/2021/seasonal-holidays-2021-6753651837109324-2xa.gif\" property=\"twitter:image\"/><meta content=\"https://www.google.com/logos/doodles/2021/seasonal-holidays-2021-6753651837109324-2xa.gif\" property=\"og:image\"/><meta content=\"1000\" property=\"og:image:width\"/><meta content=\"400\" property=\"og:image:height\"/><meta content=\"https://www.google.com/logos/doodles/2021/seasonal-holidays-2021-6753651837109324-2xa.gif\" property=\"og:url\"/><meta content=\"video.other\" property=\"og:type\"/><title>Google</title><script nonce=\"71vz6E6qmg75oKpIEq+Txw==\">(function(){window.google={kEI:'mL7LYbT-DOKHr7wP4s6WsA0',kEXPI:'0,1302536,56873,6058,207,4804,926,1390,383,246,5,1354,4013,1238,1122515,1197714,687,380090,16114,28684,17572,4859,1361,283,9007,3022,17587,4020,978,13228,3847,4192,6430,7432,14390,919,6674,1279,2213,529,149,1103,840,1986,210,4101,3514,606,2023,1777,520,6345,8325,3227,2845,7,4808,7546,5096,16320,908,2,3555,13142,3,346,230,4385,2074,149,12289,1686,4,1528,2304,7039,3580,1104,20389,2658,6701,656,30,15933,18918,652,5130,2575,992,3102,3138,6,908,3,3541,1,16526,281,912,5992,18443,2,3037,5945,1,5039,1931,3909,1680,744,5852,10463,1160,5678,1022,2380,2719,18233,63,2,6,7719,2123,2445,2577,3124,551,6723,3781,2,7583,545,4790,1252,11918,1751,2466,961,601,3106,1554,25,2753,19,2751,1469,147,495,1108,101,1329,510,2,2,1,1407,1583,3969,183,4079,95,472,1298,2081,1152,4,212,2,106,678,321,2,1,3430,3,315,926,318,732,6,2,398,361,388,33,69,596,471,2,699,116,1,121,239,49,32,727,486,1868,4404,202,148,113,811,1371,2665,2,162,5,37,5,841,193,994,20,172,177,2,524,184,1552,4317,69,5507982,2031,446,5996868,259,2800438,882,444,1,2,80,1,1796,1,9,2553,1,748,936,4,559,1,4265,1,1,2,1331,4142,2609,155,17,13,72,139,4,2,20,2,169,13,19,46,5,39,96,548,29,2,2,1,2,1,2,2,7,4,1,2,2,2,2,2,2,353,513,186,1,1,158,3,2,2,2,2,2,4,2,3,3,269,1601,106,24,2,4,1,4,64,2,4,40,2,2,2,9,2,2,2,1,23952848,4041352,338,3,2414,1007,484,9,1435,159,1358,1128,2,3596,3,2169,297,1995,831261',kBL:'4JUY'};google.sn='webhp';google.kHL='ko';})();(function(){\n",
       "var f=this||self;var h,k=[];function l(a){for(var b;a&&(!a.getAttribute||!(b=a.getAttribute(\"eid\")));)a=a.parentNode;return b||h}function m(a){for(var b=null;a&&(!a.getAttribute||!(b=a.getAttribute(\"leid\")));)a=a.parentNode;return b}\n",
       "function n(a,b,c,d,g){var e=\"\";c||-1!==b.search(\"&ei=\")||(e=\"&ei=\"+l(d),-1===b.search(\"&lei=\")&&(d=m(d))&&(e+=\"&lei=\"+d));d=\"\";!c&&f._cshid&&-1===b.search(\"&cshid=\")&&\"slh\"!==a&&(d=\"&cshid=\"+f._cshid);c=c||\"/\"+(g||\"gen_204\")+\"?atyp=i&ct=\"+a+\"&cad=\"+b+e+\"&zx=\"+Date.now()+d;/^http:/i.test(c)&&\"https:\"===window.location.protocol&&(google.ml&&google.ml(Error(\"a\"),!1,{src:c,glmm:1}),c=\"\");return c};h=google.kEI;google.getEI=l;google.getLEI=m;google.ml=function(){return null};google.log=function(a,b,c,d,g){if(c=n(a,b,c,d,g)){a=new Image;var e=k.length;k[e]=a;a.onerror=a.onload=a.onabort=function(){delete k[e]};a.src=c}};google.logUrl=n;}).call(this);(function(){\n",
       "google.y={};google.sy=[];google.x=function(a,b){if(a)var c=a.id;else{do c=Math.random();while(google.y[c])}google.y[c]=[a,b];return!1};google.sx=function(a){google.sy.push(a)};google.lm=[];google.plm=function(a){google.lm.push.apply(google.lm,a)};google.lq=[];google.load=function(a,b,c){google.lq.push([[a],b,c])};google.loadAll=function(a,b){google.lq.push([a,b])};google.bx=!1;google.lx=function(){};}).call(this);google.f={};(function(){\n",
       "document.documentElement.addEventListener(\"submit\",function(b){var a;if(a=b.target){var c=a.getAttribute(\"data-submitfalse\");a=\"1\"===c||\"q\"===c&&!a.elements.q.value?!0:!1}else a=!1;a&&(b.preventDefault(),b.stopPropagation())},!0);document.documentElement.addEventListener(\"click\",function(b){var a;a:{for(a=b.target;a&&a!==document.documentElement;a=a.parentElement)if(\"A\"===a.tagName){a=\"1\"===a.getAttribute(\"data-nohref\");break a}a=!1}a&&b.preventDefault()},!0);}).call(this);</script><style>#gbar,#guser{font-size:13px;padding-top:1px !important;}#gbar{height:22px}#guser{padding-bottom:7px !important;text-align:right}.gbh,.gbd{border-top:1px solid #c9d7f1;font-size:1px}.gbh{height:0;position:absolute;top:24px;width:100%}@media all{.gb1{height:22px;margin-right:.5em;vertical-align:top}#gbar{float:left}}a.gb1,a.gb4{text-decoration:underline !important}a.gb1,a.gb4{color:#00c !important}.gbi .gb4{color:#dd8e27 !important}.gbf .gb4{color:#900 !important}\n",
       "</style><style>body,td,a,p,.h{font-family:&#44404;&#47548;,&#46027;&#50880;,arial,sans-serif}.ko{font-size:9pt}body{margin:0;overflow-y:scroll}#gog{padding:3px 8px 0}td{line-height:.8em}.gac_m td{line-height:17px}form{margin-bottom:20px}.h{color:#1558d6}em{font-weight:bold;font-style:normal}.lst{height:25px;width:496px}.gsfi,.lst{font:18px arial,sans-serif}.gsfs{font:17px arial,sans-serif}.ds{display:inline-box;display:inline-block;margin:3px 0 4px;margin-left:4px}input{font-family:inherit}body{background:#fff;color:#000}a{color:#4b11a8;text-decoration:none}a:hover,a:active{text-decoration:underline}.fl a{color:#1558d6}a:visited{color:#4b11a8}.sblc{padding-top:5px}.sblc a{display:block;margin:2px 0;margin-left:13px;font-size:11px}.lsbb{background:#f8f9fa;border:solid 1px;border-color:#dadce0 #70757a #70757a #dadce0;height:30px}.lsbb{display:block}#WqQANb a{display:inline-block;margin:0 12px}.lsb{background:url(/images/nav_logo229.png) 0 -261px repeat-x;border:none;color:#000;cursor:pointer;height:30px;margin:0;outline:0;font:15px arial,sans-serif;vertical-align:top}.lsb:active{background:#dadce0}.lst:focus{outline:none}.tiah{width:458px}</style><script nonce=\"71vz6E6qmg75oKpIEq+Txw==\">(function(){window.google.erd={jsr:1,bv:1493,de:true};\n",
       "var f=this||self;var g,h,k=null!==(g=f.mei)&&void 0!==g?g:1,l=null!==(h=f.sdo)&&void 0!==h?h:!0,p=0,q,r=google.erd,u=r.jsr;google.ml=function(a,b,d,m,c){c=void 0===c?2:c;b&&(q=a&&a.message);if(google.dl)return google.dl(a,c,d),null;if(0>u){window.console&&console.error(a,d);if(-2===u)throw a;b=!1}else b=!a||!a.message||\"Error loading script\"===a.message||p>=k&&!m?!1:!0;if(!b)return null;p++;d=d||{};var e=c;c=encodeURIComponent;b=\"/gen_204?atyp=i&ei=\"+c(google.kEI);google.kEXPI&&(b+=\"&jexpid=\"+c(google.kEXPI));b+=\"&srcpg=\"+c(google.sn)+\"&jsr=\"+c(r.jsr)+\"&bver=\"+c(r.bv)+(\"&jsel=\"+e);e=a.lineNumber;void 0!==e&&(b+=\"&line=\"+\n",
       "e);var n=a.fileName;n&&(b+=\"&script=\"+c(n),e&&n===window.location.href&&(e=document.documentElement.outerHTML.split(\"\\n\")[e],b+=\"&cad=\"+c(e?e.substring(0,300):\"No script found.\")));for(var t in d)b+=\"&\",b+=c(t),b+=\"=\",b+=c(d[t]);b=b+\"&emsg=\"+c(a.name+\": \"+a.message);b=b+\"&jsst=\"+c(a.stack||\"N/A\");12288<=b.length&&(b=b.substr(0,12288));a=b;m||google.log(0,\"\",a);return a};window.onerror=function(a,b,d,m,c){q!==a&&(a=c instanceof Error?c:Error(a),void 0===d||\"lineNumber\"in a||(a.lineNumber=d),void 0===b||\"fileName\"in a||(a.fileName=b),google.ml(a,!1,void 0,!1,\"SyntaxError\"===a.name||\"SyntaxError\"===a.message.substring(0,11)?2:0));q=null;l&&p>=k&&(window.onerror=null)};})();</script></head><body bgcolor=\"#fff\"><script nonce=\"71vz6E6qmg75oKpIEq+Txw==\">(function(){var src='/images/nav_logo229.png';var iesg=false;document.body.onload = function(){window.n && window.n();if (document.images){new Image().src=src;}\n",
       "if (!iesg){document.f&&document.f.q.focus();document.gbqf&&document.gbqf.q.focus();}\n",
       "}\n",
       "})();</script><div id=\"mngb\"><div id=\"gbar\"><nobr><b class=\"gb1\">검색</b> <a class=\"gb1\" href=\"http://www.google.co.kr/imghp?hl=ko&amp;tab=wi\">이미지</a> <a class=\"gb1\" href=\"http://maps.google.co.kr/maps?hl=ko&amp;tab=wl\">지도</a> <a class=\"gb1\" href=\"https://play.google.com/?hl=ko&amp;tab=w8\">Play</a> <a class=\"gb1\" href=\"http://www.youtube.com/?gl=KR&amp;tab=w1\">YouTube</a> <a class=\"gb1\" href=\"https://news.google.com/?tab=wn\">뉴스</a> <a class=\"gb1\" href=\"https://mail.google.com/mail/?tab=wm\">Gmail</a> <a class=\"gb1\" href=\"https://drive.google.com/?tab=wo\">드라이브</a> <a class=\"gb1\" href=\"https://www.google.co.kr/intl/ko/about/products?tab=wh\" style=\"text-decoration:none\"><u>더보기</u> »</a></nobr></div><div id=\"guser\" width=\"100%\"><nobr><span class=\"gbi\" id=\"gbn\"></span><span class=\"gbf\" id=\"gbf\"></span><span id=\"gbe\"></span><a class=\"gb4\" href=\"http://www.google.co.kr/history/optout?hl=ko\">웹 기록</a> | <a class=\"gb4\" href=\"/preferences?hl=ko\">설정</a> | <a class=\"gb4\" href=\"https://accounts.google.com/ServiceLogin?hl=ko&amp;passive=true&amp;continue=http://www.google.com/&amp;ec=GAZAAQ\" id=\"gb_70\" target=\"_top\">로그인</a></nobr></div><div class=\"gbh\" style=\"left:0\"></div><div class=\"gbh\" style=\"right:0\"></div></div><center><br clear=\"all\" id=\"lgpd\"/><div id=\"lga\"><img alt=\"2021 연말연시\" border=\"0\" height=\"200\" id=\"hplogo\" src=\"/logos/doodles/2021/seasonal-holidays-2021-6753651837109324-6752733080595605-cst.gif\" title=\"2021 연말연시\" width=\"500\"/><br/></div><form action=\"/search\" name=\"f\"><table cellpadding=\"0\" cellspacing=\"0\"><tr valign=\"top\"><td width=\"25%\"> </td><td align=\"center\" nowrap=\"\"><input name=\"ie\" type=\"hidden\" value=\"ISO-8859-1\"/><input name=\"hl\" type=\"hidden\" value=\"ko\"/><input name=\"source\" type=\"hidden\" value=\"hp\"/><input name=\"biw\" type=\"hidden\"/><input name=\"bih\" type=\"hidden\"/><div class=\"ds\" style=\"height:32px;margin:4px 0\"><div style=\"position:relative;zoom:1\"><input autocomplete=\"off\" class=\"lst tiah\" maxlength=\"2048\" name=\"q\" size=\"57\" style=\"margin:0;padding:5px 8px 0 6px;vertical-align:top;color:#000;padding-right:38px\" title=\"Google 검색\" value=\"\"/><img alt=\"\" data-script-url=\"/textinputassistant/11/ko_tia.js\" height=\"23\" id=\"tsuid1\" src=\"/textinputassistant/tia.png\" style=\"position:absolute;cursor:pointer;right:5px;top:4px;z-index:300\" width=\"27\"/><script nonce=\"71vz6E6qmg75oKpIEq+Txw==\">(function(){var id='tsuid1';document.getElementById(id).onclick = function(){var s = document.createElement('script');s.src = this.getAttribute('data-script-url');(document.getElementById('xjsc')||document.body).appendChild(s);};})();</script></div></div><br style=\"line-height:0\"/><span class=\"ds\"><span class=\"lsbb\"><input class=\"lsb\" name=\"btnG\" type=\"submit\" value=\"Google 검색\"/></span></span><span class=\"ds\"><span class=\"lsbb\"><input class=\"lsb\" id=\"tsuid2\" name=\"btnI\" type=\"submit\" value=\"I’m Feeling Lucky\"/><script nonce=\"71vz6E6qmg75oKpIEq+Txw==\">(function(){var id='tsuid2';document.getElementById(id).onclick = function(){if (this.form.q.value){this.checked = 1;if (this.form.iflsig)this.form.iflsig.disabled = false;}\n",
       "else top.location='/doodles/';};})();</script><input name=\"iflsig\" type=\"hidden\" value=\"ALs-wAMAAAAAYcvMqGrS1pT_fd8v7pzJeIEW5UY21HV6\"/></span></span></td><td align=\"left\" class=\"fl sblc\" nowrap=\"\" width=\"25%\"><a href=\"/advanced_search?hl=ko&amp;authuser=0\">고급검색</a></td></tr></table><input id=\"gbv\" name=\"gbv\" type=\"hidden\" value=\"1\"/><script nonce=\"71vz6E6qmg75oKpIEq+Txw==\">(function(){\n",
       "var a,b=\"1\";if(document&&document.getElementById)if(\"undefined\"!=typeof XMLHttpRequest)b=\"2\";else if(\"undefined\"!=typeof ActiveXObject){var c,d,e=[\"MSXML2.XMLHTTP.6.0\",\"MSXML2.XMLHTTP.3.0\",\"MSXML2.XMLHTTP\",\"Microsoft.XMLHTTP\"];for(c=0;d=e[c++];)try{new ActiveXObject(d),b=\"2\"}catch(h){}}a=b;if(\"2\"==a&&-1==location.search.indexOf(\"&gbv=2\")){var f=google.gbvu,g=document.getElementById(\"gbv\");g&&(g.value=a);f&&window.setTimeout(function(){location.href=f},0)};}).call(this);</script></form><div id=\"gac_scont\"></div><div style=\"font-size:83%;min-height:3.5em\"><br/></div><span id=\"footer\"><div style=\"font-size:10pt\"><div id=\"WqQANb\" style=\"margin:19px auto;text-align:center\"><a href=\"/intl/ko/ads/\">광고 프로그램</a><a href=\"http://www.google.co.kr/intl/ko/services/\">비즈니스 솔루션</a><a href=\"/intl/ko/about.html\">Google 정보</a><a href=\"http://www.google.com/setprefdomain?prefdom=KR&amp;prev=http://www.google.co.kr/&amp;sig=K_dMrfEv9OCOHnEI0BbLQ4xZVem3Q%3D\">Google.co.kr</a></div></div><p style=\"font-size:8pt;color:#70757a\">© 2021 - <a href=\"/intl/ko/policies/privacy/\">개인정보처리방침</a> - <a href=\"/intl/ko/policies/terms/\">약관</a></p></span></center><script nonce=\"71vz6E6qmg75oKpIEq+Txw==\">(function(){window.google.cdo={height:757,width:1440};(function(){\n",
       "var a=window.innerWidth,b=window.innerHeight;if(!a||!b){var c=window.document,d=\"CSS1Compat\"==c.compatMode?c.documentElement:c.body;a=d.clientWidth;b=d.clientHeight}a&&b&&(a!=google.cdo.width||b!=google.cdo.height)&&google.log(\"\",\"\",\"/client_204?&atyp=i&biw=\"+a+\"&bih=\"+b+\"&ei=\"+google.kEI);}).call(this);})();</script> <script nonce=\"71vz6E6qmg75oKpIEq+Txw==\">(function(){google.xjs={ck:'',cs:'',excm:[]};})();</script> <script nonce=\"71vz6E6qmg75oKpIEq+Txw==\">(function(){var u='/xjs/_/js/k\\x3dxjs.hp.en.8My0PvgdGIk.O/am\\x3dAPAEAEACkA/d\\x3d1/ed\\x3d1/esmo\\x3d1/rs\\x3dACT90oGepRzziWU7OPYV1h0N-nkjUkWXMg/m\\x3dsb_he,d';\n",
       "var e=this||self,f=function(a){return a};var g;var l=function(a,b){this.g=b===h?a:\"\"};l.prototype.toString=function(){return this.g+\"\"};var h={};\n",
       "function m(){var a=u;google.lx=function(){n(a);google.lx=function(){}};google.bx||google.lx()}\n",
       "function n(a){google.timers&&google.timers.load&&google.tick&&google.tick(\"load\",\"xjsls\");var b=document;var c=\"SCRIPT\";\"application/xhtml+xml\"===b.contentType&&(c=c.toLowerCase());c=b.createElement(c);if(void 0===g){b=null;var k=e.trustedTypes;if(k&&k.createPolicy){try{b=k.createPolicy(\"goog#html\",{createHTML:f,createScript:f,createScriptURL:f})}catch(p){e.console&&e.console.error(p.message)}g=b}else g=b}a=(b=g)?b.createScriptURL(a):a;a=new l(a,h);c.src=a instanceof l&&a.constructor===l?a.g:\"type_error:TrustedResourceUrl\";var d;a=(c.ownerDocument&&c.ownerDocument.defaultView||window).document;(d=(b=null===(d=a.querySelector)||void 0===d?void 0:d.call(a,\"script[nonce]\"))?b.nonce||b.getAttribute(\"nonce\")||\"\":\"\")&&c.setAttribute(\"nonce\",d);document.body.appendChild(c);google.psa=!0};google.xjsu=u;setTimeout(function(){m()},0);})();function _DumpException(e){throw e;}\n",
       "function _F_installCss(c){}\n",
       "(function(){google.jl={attn:false,blt:'none',chnk:0,dw:false,dwu:true,emtn:0,end:0,ine:false,lls:'default',pdt:0,rep:0,snet:true,strt:0,ubm:false,uwp:true};})();(function(){var pmc='{\\x22d\\x22:{},\\x22sb_he\\x22:{\\x22agen\\x22:true,\\x22cgen\\x22:true,\\x22client\\x22:\\x22heirloom-hp\\x22,\\x22dh\\x22:true,\\x22dhqt\\x22:true,\\x22ds\\x22:\\x22\\x22,\\x22ffql\\x22:\\x22ko\\x22,\\x22fl\\x22:true,\\x22host\\x22:\\x22google.com\\x22,\\x22isbh\\x22:28,\\x22jsonp\\x22:true,\\x22msgs\\x22:{\\x22cibl\\x22:\\x22&#44160;&#49353;&#50612; &#51648;&#50864;&#44592;\\x22,\\x22dym\\x22:\\x22&#51060;&#44163;&#51012; &#52286;&#51004;&#49512;&#45208;&#50836;?\\x22,\\x22lcky\\x22:\\x22I&#8217;m Feeling Lucky\\x22,\\x22lml\\x22:\\x22&#51088;&#49464;&#55176; &#50508;&#50500;&#48372;&#44592;\\x22,\\x22oskt\\x22:\\x22&#51077;&#47141; &#46020;&#44396;\\x22,\\x22psrc\\x22:\\x22&#44160;&#49353;&#50612;&#44032; \\\\u003Ca href\\x3d\\\\\\x22/history\\\\\\x22\\\\u003E&#50937; &#44592;&#47197;\\\\u003C/a\\\\u003E&#50640;&#49436; &#49325;&#51228;&#46104;&#50632;&#49845;&#45768;&#45796;.\\x22,\\x22psrl\\x22:\\x22&#49325;&#51228;\\x22,\\x22sbit\\x22:\\x22&#51060;&#48120;&#51648;&#47196; &#44160;&#49353;\\x22,\\x22srch\\x22:\\x22Google &#44160;&#49353;\\x22},\\x22ovr\\x22:{},\\x22pq\\x22:\\x22\\x22,\\x22refpd\\x22:true,\\x22refspre\\x22:true,\\x22rfs\\x22:[],\\x22sbas\\x22:\\x220 3px 8px 0 rgba(0,0,0,0.2),0 0 0 1px rgba(0,0,0,0.08)\\x22,\\x22sbpl\\x22:16,\\x22sbpr\\x22:16,\\x22scd\\x22:10,\\x22stok\\x22:\\x22Bewo_fimS0E0tH2TpjeTFKNS1cc\\x22,\\x22uhde\\x22:false}}';google.pmc=JSON.parse(pmc);})();</script> </body></html>"
      ]
     },
     "execution_count": 118,
     "metadata": {},
     "output_type": "execute_result"
    }
   ],
   "source": [
    "from bs4 import BeautifulSoup\n",
    "\n",
    "target = request.urlopen('http://www.google.com')\n",
    "soup = BeautifulSoup(target)\n",
    "soup"
   ]
  },
  {
   "cell_type": "code",
   "execution_count": 121,
   "id": "a79630d5",
   "metadata": {},
   "outputs": [
    {
     "data": {
      "text/plain": [
       "[<a class=\"gb1\" href=\"http://www.google.co.kr/imghp?hl=ko&amp;tab=wi\">이미지</a>,\n",
       " <a class=\"gb1\" href=\"http://maps.google.co.kr/maps?hl=ko&amp;tab=wl\">지도</a>,\n",
       " <a class=\"gb1\" href=\"https://play.google.com/?hl=ko&amp;tab=w8\">Play</a>,\n",
       " <a class=\"gb1\" href=\"http://www.youtube.com/?gl=KR&amp;tab=w1\">YouTube</a>,\n",
       " <a class=\"gb1\" href=\"https://news.google.com/?tab=wn\">뉴스</a>,\n",
       " <a class=\"gb1\" href=\"https://mail.google.com/mail/?tab=wm\">Gmail</a>,\n",
       " <a class=\"gb1\" href=\"https://drive.google.com/?tab=wo\">드라이브</a>,\n",
       " <a class=\"gb1\" href=\"https://www.google.co.kr/intl/ko/about/products?tab=wh\" style=\"text-decoration:none\"><u>더보기</u> »</a>,\n",
       " <a class=\"gb4\" href=\"http://www.google.co.kr/history/optout?hl=ko\">웹 기록</a>,\n",
       " <a class=\"gb4\" href=\"/preferences?hl=ko\">설정</a>,\n",
       " <a class=\"gb4\" href=\"https://accounts.google.com/ServiceLogin?hl=ko&amp;passive=true&amp;continue=http://www.google.com/&amp;ec=GAZAAQ\" id=\"gb_70\" target=\"_top\">로그인</a>,\n",
       " <a href=\"/advanced_search?hl=ko&amp;authuser=0\">고급검색</a>,\n",
       " <a href=\"/intl/ko/ads/\">광고 프로그램</a>,\n",
       " <a href=\"http://www.google.co.kr/intl/ko/services/\">비즈니스 솔루션</a>,\n",
       " <a href=\"/intl/ko/about.html\">Google 정보</a>,\n",
       " <a href=\"http://www.google.com/setprefdomain?prefdom=KR&amp;prev=http://www.google.co.kr/&amp;sig=K_dMrfEv9OCOHnEI0BbLQ4xZVem3Q%3D\">Google.co.kr</a>,\n",
       " <a href=\"/intl/ko/policies/privacy/\">개인정보처리방침</a>,\n",
       " <a href=\"/intl/ko/policies/terms/\">약관</a>]"
      ]
     },
     "execution_count": 121,
     "metadata": {},
     "output_type": "execute_result"
    }
   ],
   "source": [
    "soup.title.string\n",
    "soup.find_all('a')\n"
   ]
  },
  {
   "cell_type": "code",
   "execution_count": 140,
   "id": "5145eaeb",
   "metadata": {},
   "outputs": [
    {
     "data": {
      "text/plain": [
       "'전국 중기예보 - 기상청 날씨누리'"
      ]
     },
     "execution_count": 140,
     "metadata": {},
     "output_type": "execute_result"
    }
   ],
   "source": [
    "# url에 연결 -> urllib.request.urlopen(url 명)\n",
    "# url 자료를 가져옴 -> <html> ~ </html> 태그 형식으로\n",
    "# BeautifulSoup(url open 정보)\n",
    "from urllib import request\n",
    "from bs4 import BeautifulSoup\n",
    "\n",
    "url = 'https://www.weather.go.kr/w/weather/forecast/mid-term.do?stnId1=108'\n",
    "target = request.urlopen(url)\n",
    "\n",
    "soup = BeautifulSoup(target)\n",
    "soup.title.string"
   ]
  },
  {
   "cell_type": "code",
   "execution_count": 163,
   "id": "78582c21",
   "metadata": {},
   "outputs": [
    {
     "name": "stdout",
     "output_type": "stream",
     "text": [
      "도시명 : 서울, 최저기온 : -9, 최고기온 0\n",
      "도시명 : 인천, 최저기온 : -8, 최고기온 0\n",
      "도시명 : 수원, 최저기온 : -10, 최고기온 1\n",
      "도시명 : 파주, 최저기온 : -15, 최고기온 0\n",
      "도시명 : 이천, 최저기온 : -12, 최고기온 0\n",
      "도시명 : 평택, 최저기온 : -11, 최고기온 1\n",
      "도시명 : 춘천, 최저기온 : -14, 최고기온 0\n",
      "도시명 : 원주, 최저기온 : -12, 최고기온 0\n",
      "도시명 : 강릉, 최저기온 : -6, 최고기온 5\n",
      "도시명 : 대전, 최저기온 : -9, 최고기온 2\n",
      "도시명 : 세종, 최저기온 : -10, 최고기온 1\n",
      "도시명 : 홍성, 최저기온 : -10, 최고기온 2\n",
      "도시명 : 청주, 최저기온 : -9, 최고기온 1\n",
      "도시명 : 충주, 최저기온 : -12, 최고기온 0\n",
      "도시명 : 영동, 최저기온 : -12, 최고기온 2\n",
      "도시명 : 광주, 최저기온 : -5, 최고기온 5\n",
      "도시명 : 목포, 최저기온 : -3, 최고기온 4\n",
      "도시명 : 여수, 최저기온 : -3, 최고기온 5\n",
      "도시명 : 순천, 최저기온 : -4, 최고기온 6\n",
      "도시명 : 광양, 최저기온 : -4, 최고기온 6\n",
      "도시명 : 나주, 최저기온 : -7, 최고기온 4\n",
      "도시명 : 전주, 최저기온 : -7, 최고기온 3\n",
      "도시명 : 군산, 최저기온 : -7, 최고기온 3\n",
      "도시명 : 정읍, 최저기온 : -8, 최고기온 2\n",
      "도시명 : 남원, 최저기온 : -8, 최고기온 4\n",
      "도시명 : 고창, 최저기온 : -6, 최고기온 3\n",
      "도시명 : 무주, 최저기온 : -12, 최고기온 2\n",
      "도시명 : 부산, 최저기온 : -4, 최고기온 6\n",
      "도시명 : 울산, 최저기온 : -5, 최고기온 5\n",
      "도시명 : 창원, 최저기온 : -5, 최고기온 4\n",
      "도시명 : 진주, 최저기온 : -8, 최고기온 5\n",
      "도시명 : 거창, 최저기온 : -10, 최고기온 5\n",
      "도시명 : 통영, 최저기온 : -4, 최고기온 5\n",
      "도시명 : 대구, 최저기온 : -7, 최고기온 4\n",
      "도시명 : 안동, 최저기온 : -12, 최고기온 2\n",
      "도시명 : 포항, 최저기온 : -5, 최고기온 6\n",
      "도시명 : 경주, 최저기온 : -8, 최고기온 5\n",
      "도시명 : 울진, 최저기온 : -6, 최고기온 6\n",
      "도시명 : 울릉도, 최저기온 : -1, 최고기온 4\n",
      "도시명 : 제주, 최저기온 : 3, 최고기온 8\n",
      "도시명 : 서귀포, 최저기온 : 3, 최고기온 10\n"
     ]
    }
   ],
   "source": [
    "#for location in soup.select(\"table.table-col\"):\n",
    "for location in soup.find_all('tr'): #('td.midterm-city'):\n",
    "    if location.find('td',class_= 'midterm-city'):\n",
    "        print(\"도시명 : {}, 최저기온 : {}, 최고기온 {}\".\\\n",
    "             format(location.find('td',class_= 'midterm-city').text,\n",
    "                   location.find('span',class_= 'tmn').text,\n",
    "                   location.find('span',class_= 'tmx').text))\n",
    "        \n",
    "    # print(tr.select_one('td.midterm-city'))\n",
    " #   print(\"도시 : \", location.select_one('td').text)\n",
    "\n",
    "#for body in location.select(\"tbody\"):\n",
    "#   print(body)\n",
    "        \n",
    "# print(\"도시 : \",location.select(\"tbody\").string)\n",
    "';'"
   ]
  },
  {
   "cell_type": "code",
   "execution_count": 165,
   "id": "e91c0d66",
   "metadata": {},
   "outputs": [
    {
     "name": "stdout",
     "output_type": "stream",
     "text": [
      "Requirement already satisfied: flask in c:\\programdata\\anaconda3\\lib\\site-packages (1.1.2)\n",
      "Requirement already satisfied: itsdangerous>=0.24 in c:\\programdata\\anaconda3\\lib\\site-packages (from flask) (2.0.1)\n",
      "Requirement already satisfied: Jinja2>=2.10.1 in c:\\programdata\\anaconda3\\lib\\site-packages (from flask) (2.11.3)\n",
      "Requirement already satisfied: Werkzeug>=0.15 in c:\\programdata\\anaconda3\\lib\\site-packages (from flask) (2.0.2)\n",
      "Requirement already satisfied: click>=5.1 in c:\\programdata\\anaconda3\\lib\\site-packages (from flask) (8.0.3)\n",
      "Requirement already satisfied: colorama in c:\\programdata\\anaconda3\\lib\\site-packages (from click>=5.1->flask) (0.4.4)\n",
      "Requirement already satisfied: MarkupSafe>=0.23 in c:\\programdata\\anaconda3\\lib\\site-packages (from Jinja2>=2.10.1->flask) (1.1.1)\n"
     ]
    }
   ],
   "source": [
    "#!pip install flask"
   ]
  },
  {
   "cell_type": "code",
   "execution_count": null,
   "id": "a594d4d1",
   "metadata": {},
   "outputs": [],
   "source": [
    "# flask 모듈\n",
    "from flask import Flask\n",
    "\n",
    "app = Flask(__name__)\n",
    "\n",
    "@app.route(\"/\")\n",
    "def hello():\n",
    "    return \"<h1> Hello </h1>\""
   ]
  }
 ],
 "metadata": {
  "kernelspec": {
   "display_name": "Python 3 (ipykernel)",
   "language": "python",
   "name": "python3"
  },
  "language_info": {
   "codemirror_mode": {
    "name": "ipython",
    "version": 3
   },
   "file_extension": ".py",
   "mimetype": "text/x-python",
   "name": "python",
   "nbconvert_exporter": "python",
   "pygments_lexer": "ipython3",
   "version": "3.9.7"
  }
 },
 "nbformat": 4,
 "nbformat_minor": 5
}
