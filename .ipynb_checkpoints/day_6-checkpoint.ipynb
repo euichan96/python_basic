{
 "cells": [
  {
   "cell_type": "code",
   "execution_count": 16,
   "id": "55640a0d",
   "metadata": {},
   "outputs": [],
   "source": [
    "# 학생, 국어, 영어, 수학 점수를 입력 받아 student_dict{} 에 저장한 후 출력\n",
    "students = []\n",
    "score_name = ['kor','eng','math']\n",
    "\n",
    "def create_student():\n",
    "    student = {}\n",
    "    name = input(\"학생 이름 입력 >\")\n",
    "    student['name'] = name    \n",
    "    if name == 'q':\n",
    "        return student\n",
    "    score = list(map(int, input(\"국어 , 영어, 수학 점수 입력 > \").split()))\n",
    "\n",
    "    for idx, value in enumerate(score):\n",
    "        student[score_name[idx]] = score[idx]\n",
    "    return student"
   ]
  },
  {
   "cell_type": "code",
   "execution_count": 17,
   "id": "a647c95c",
   "metadata": {},
   "outputs": [
    {
     "name": "stdout",
     "output_type": "stream",
     "text": [
      "학생 이름 입력 >a\n",
      "국어 , 영어, 수학 점수 입력 > 44 55 66\n",
      "학생 이름 입력 >b \n",
      "국어 , 영어, 수학 점수 입력 > 5 6 7\n",
      "학생 이름 입력 >q\n"
     ]
    }
   ],
   "source": [
    "while True:\n",
    "    student = create_student()\n",
    "    if  student['name'] == 'q':\n",
    "        break\n",
    "    students.append(student)"
   ]
  },
  {
   "cell_type": "code",
   "execution_count": 1,
   "id": "18fe72da",
   "metadata": {},
   "outputs": [
    {
     "ename": "NameError",
     "evalue": "name 'students' is not defined",
     "output_type": "error",
     "traceback": [
      "\u001b[1;31m---------------------------------------------------------------------------\u001b[0m",
      "\u001b[1;31mNameError\u001b[0m                                 Traceback (most recent call last)",
      "\u001b[1;32m~\\AppData\\Local\\Temp/ipykernel_7568/2631111994.py\u001b[0m in \u001b[0;36m<module>\u001b[1;34m\u001b[0m\n\u001b[1;32m----> 1\u001b[1;33m \u001b[1;32mfor\u001b[0m \u001b[0mitem\u001b[0m \u001b[1;32min\u001b[0m \u001b[0mstudents\u001b[0m\u001b[1;33m:\u001b[0m\u001b[1;33m\u001b[0m\u001b[1;33m\u001b[0m\u001b[0m\n\u001b[0m\u001b[0;32m      2\u001b[0m     \u001b[1;32mfor\u001b[0m \u001b[0mkey\u001b[0m \u001b[1;32min\u001b[0m \u001b[0mitem\u001b[0m\u001b[1;33m:\u001b[0m\u001b[1;33m\u001b[0m\u001b[1;33m\u001b[0m\u001b[0m\n\u001b[0;32m      3\u001b[0m         \u001b[0mprint\u001b[0m\u001b[1;33m(\u001b[0m\u001b[1;34m\"{}:{}\\t\"\u001b[0m\u001b[1;33m.\u001b[0m\u001b[0mformat\u001b[0m\u001b[1;33m(\u001b[0m\u001b[0mkey\u001b[0m\u001b[1;33m,\u001b[0m\u001b[0mitem\u001b[0m\u001b[1;33m[\u001b[0m\u001b[0mkey\u001b[0m\u001b[1;33m]\u001b[0m \u001b[1;33m)\u001b[0m\u001b[1;33m,\u001b[0m \u001b[0mend\u001b[0m\u001b[1;33m=\u001b[0m\u001b[1;34m''\u001b[0m\u001b[1;33m)\u001b[0m\u001b[1;33m\u001b[0m\u001b[1;33m\u001b[0m\u001b[0m\n\u001b[0;32m      4\u001b[0m     \u001b[0mprint\u001b[0m\u001b[1;33m(\u001b[0m\u001b[1;34m\"\\n\"\u001b[0m\u001b[1;33m)\u001b[0m\u001b[1;33m\u001b[0m\u001b[1;33m\u001b[0m\u001b[0m\n\u001b[0;32m      5\u001b[0m \u001b[1;33m\u001b[0m\u001b[0m\n",
      "\u001b[1;31mNameError\u001b[0m: name 'students' is not defined"
     ]
    }
   ],
   "source": [
    "for item in students:\n",
    "    for key in item:\n",
    "        print(\"{}:{}\\t\".format(key,item[key] ), end='')\n",
    "    print(\"\\n\")\n",
    "    "
   ]
  },
  {
   "cell_type": "code",
   "execution_count": 7,
   "id": "da666bcc",
   "metadata": {},
   "outputs": [],
   "source": [
    "def student_get_sum(student):\n",
    "    return student['kor']+student['eng']+student['math']\n",
    "\n",
    "def student_get_avg(student):\n",
    "    return student_get_sum(student)\n",
    "    \n",
    "def student_print(students):\n",
    "    for item in students:\n",
    "        for key in item:\n",
    "            print(\"{}:{}\\t\".format(key,item[key]), end='')\n",
    "        print(\"총점:{}\\t,avg:{}\".format(student_get_sum(item),\n",
    "                                    student_get_avg(item)))\n",
    "        print('\\n')\n",
    "        "
   ]
  },
  {
   "cell_type": "code",
   "execution_count": 9,
   "id": "585d24d9",
   "metadata": {},
   "outputs": [],
   "source": [
    "# class 생성하기 class 클래스명 : ~\n",
    "class Student:\n",
    "    def __init__(self, name, kor, eng, math):\n",
    "        seif.name = name\n",
    "        seif.kor = kor\n",
    "        seif.eng = eng\n",
    "        seif.math = math\n",
    "    \n",
    "    def get_sum(self):\n",
    "        return self.kor + self.eng + self.math\n",
    "    \n",
    "    def get_avg(self):\n",
    "        return self.get_sum()/3\n",
    "    \n",
    "    def to_print(self):\n",
    "        return \"{}:{}\\t {}\\n\".format(self.name, self.get_sum(), self.get_avg())\n"
   ]
  },
  {
   "cell_type": "code",
   "execution_count": 27,
   "id": "4f78996d",
   "metadata": {},
   "outputs": [],
   "source": [
    "def create_student():\n",
    "    name = input(\"학생 이름 입력 : > \")\n",
    "    if name =='q':\n",
    "        return name\n",
    "    score = list(map(int, input(\"국어, 영어, 수학 점수 입력 > \").split()))\n",
    "    kor = score[0]\n",
    "    eng = score[1]\n",
    "    math = score[2]\n",
    "    student = Student(name, kor, eng, math)\n",
    "    student.append(student)"
   ]
  },
  {
   "cell_type": "code",
   "execution_count": 28,
   "id": "62b4accd",
   "metadata": {},
   "outputs": [
    {
     "ename": "NameError",
     "evalue": "name 'students' is not defined",
     "output_type": "error",
     "traceback": [
      "\u001b[1;31m---------------------------------------------------------------------------\u001b[0m",
      "\u001b[1;31mNameError\u001b[0m                                 Traceback (most recent call last)",
      "\u001b[1;32m~\\AppData\\Local\\Temp/ipykernel_7568/1960119653.py\u001b[0m in \u001b[0;36m<module>\u001b[1;34m\u001b[0m\n\u001b[1;32m----> 1\u001b[1;33m \u001b[1;32mfor\u001b[0m \u001b[0mstudent\u001b[0m \u001b[1;32min\u001b[0m \u001b[0mstudents\u001b[0m\u001b[1;33m:\u001b[0m\u001b[1;33m\u001b[0m\u001b[1;33m\u001b[0m\u001b[0m\n\u001b[0m\u001b[0;32m      2\u001b[0m     \u001b[0mstudent\u001b[0m\u001b[1;33m.\u001b[0m\u001b[0mto_print\u001b[0m\u001b[1;33m(\u001b[0m\u001b[1;33m)\u001b[0m\u001b[1;33m\u001b[0m\u001b[1;33m\u001b[0m\u001b[0m\n",
      "\u001b[1;31mNameError\u001b[0m: name 'students' is not defined"
     ]
    }
   ],
   "source": [
    "for student in students:\n",
    "    student.to_print()"
   ]
  },
  {
   "cell_type": "code",
   "execution_count": 36,
   "id": "e3ef0d5c",
   "metadata": {},
   "outputs": [],
   "source": [
    "class Test:\n",
    "    def __init__(self, a, b, c):\n",
    "        self.a = a\n",
    "        self.b = b\n",
    "        self.c = c\n",
    "        print(\"생성자\")\n",
    "        \n",
    "    def class_print(self):\n",
    "        return self.a + self.b + self.c \n",
    "    \n",
    "    def class_return(self):\n",
    "        return a\n",
    "    \n",
    "    def __del__(self):\n",
    "        print(\"소멸자\")"
   ]
  },
  {
   "cell_type": "code",
   "execution_count": 38,
   "id": "f408e69d",
   "metadata": {},
   "outputs": [
    {
     "name": "stdout",
     "output_type": "stream",
     "text": [
      "생성자\n",
      "소멸자\n"
     ]
    }
   ],
   "source": [
    "a = Test(10,20,30)\n",
    "a.class_print()\n",
    "\n",
    "del a"
   ]
  },
  {
   "cell_type": "code",
   "execution_count": 39,
   "id": "c5045800",
   "metadata": {},
   "outputs": [
    {
     "ename": "SyntaxError",
     "evalue": "invalid syntax (Temp/ipykernel_7568/1978569490.py, line 5)",
     "output_type": "error",
     "traceback": [
      "\u001b[1;36m  File \u001b[1;32m\"C:\\Users\\82109\\AppData\\Local\\Temp/ipykernel_7568/1978569490.py\"\u001b[1;36m, line \u001b[1;32m5\u001b[0m\n\u001b[1;33m    def order(self)\u001b[0m\n\u001b[1;37m                   ^\u001b[0m\n\u001b[1;31mSyntaxError\u001b[0m\u001b[1;31m:\u001b[0m invalid syntax\n"
     ]
    }
   ],
   "source": [
    "class Store:\n",
    "    def __init__(self, 이름, 전화번호, 주소):\n",
    "        self.이름 = 이름\n",
    "        self.전화번호 = 전화번호\n",
    "    def order(self)\n",
    "        "
   ]
  },
  {
   "cell_type": "code",
   "execution_count": 40,
   "id": "2859bdbb",
   "metadata": {},
   "outputs": [],
   "source": [
    "class Student:\n",
    "    def study(self):\n",
    "        print(\"공부를 합시다\")\n",
    "class Teacher:\n",
    "    def teacher(self):\n",
    "        print(\"가르칩니다\")"
   ]
  },
  {
   "cell_type": "code",
   "execution_count": 43,
   "id": "3f862b75",
   "metadata": {},
   "outputs": [
    {
     "name": "stdout",
     "output_type": "stream",
     "text": [
      "공부를 합시다\n",
      "가르칩니다\n",
      "공부를 합시다\n",
      "공부를 합시다\n",
      "가르칩니다\n"
     ]
    }
   ],
   "source": [
    "classroom = [Student(), Teacher(), Student(), Student(), Teacher()]\n",
    "\n",
    "for person in classroom:\n",
    "    if isinstance(person, Student):\n",
    "        person.study()\n",
    "    else:\n",
    "        person.teacher()"
   ]
  },
  {
   "cell_type": "code",
   "execution_count": 51,
   "id": "591a04c7",
   "metadata": {},
   "outputs": [],
   "source": [
    "class Student:\n",
    "    def __init__(self, name, kor, eng, math):\n",
    "        self.name = name\n",
    "        self.kor = kor\n",
    "        self.eng = eng\n",
    "        self.math = math\n",
    "        \n",
    "    def get_sum(self):\n",
    "        return self.kor + self.eng + self.math\n",
    "    \n",
    "    def get_avg(self):\n",
    "        return self.get_sum()/3\n",
    "    def __str__(self,value):\n",
    "        return \"{}\\t{}\\t{}\".format(self.name, self.get_sum(), self.get_avg())\n",
    "    def __eq__(self,value):\n",
    "        return self.get_sum() == value.get_sum\n",
    "    def __ne__(self,value):\n",
    "        return self.get_sum() != value.get_sum \n",
    "    def __gt__(self,value):\n",
    "        return self.get_sum() > value.get_sum"
   ]
  },
  {
   "cell_type": "code",
   "execution_count": 55,
   "id": "005d38b8",
   "metadata": {},
   "outputs": [
    {
     "name": "stdout",
     "output_type": "stream",
     "text": [
      "False\n",
      "True\n",
      "윤인성 273\n",
      "연하진 286\n",
      "구지연 266\n",
      "나선주 286\n",
      "윤아린 291\n",
      "윤명월 244\n"
     ]
    }
   ],
   "source": [
    "students = [\n",
    "    Student(\"윤인성\", 87, 98, 88),\n",
    "    Student(\"연하진\", 92, 98, 96),\n",
    "    Student(\"구지연\", 76, 96, 94),\n",
    "    Student(\"나선주\", 98, 92, 96),\n",
    "    Student(\"윤아린\", 95, 98, 98),\n",
    "    Student(\"윤명월\", 64, 88, 92)\n",
    "]\n",
    "student_a = Student(\"윤인성\", 87, 98, 88)\n",
    "student_b = Student(\"연하진\", 92, 98, 96)\n",
    "print(student_a == student_b)\n",
    "print(student_a != student_b)\n",
    "\n",
    "for student in students:\n",
    "    if student == student_a or student_b:\n",
    "        print(student.name, student.get_sum())\n"
   ]
  },
  {
   "cell_type": "code",
   "execution_count": 95,
   "id": "df3e72c3",
   "metadata": {},
   "outputs": [],
   "source": [
    "class Student:\n",
    "    count = 0\n",
    "    students = []\n",
    "    def __init__(self, name, kor, eng, math):\n",
    "        self.name = name\n",
    "        self.kor = kor\n",
    "        self.eng = eng\n",
    "        self.math = math\n",
    "        \n",
    "        Student.count += 1\n",
    "        Student.students.append(self)\n",
    "        \n",
    "    @classmethod\n",
    "    def print(cls):\n",
    "        print(\"-------학생 목록--------\")\n",
    "        print(\"이름 \\t 국어 \\t 영어 \\t 수학 \\t 총점 \\t 평균\")\n",
    "        for student in cls.students:\n",
    "            print(str(student))\n",
    "        print(\"------------------------\")\n",
    "    \n",
    "    def get_sum(self):\n",
    "        return self.kor + self.eng + self.math\n",
    "    \n",
    "    def get_avg(self):\n",
    "        return self.get_sum()/3\n",
    "    \n",
    "    def __str__(self):\n",
    "        return \"{}\\t{}\\t{}\\t{}\\t{}\\t{:.3f}\".format(self.name, self.kor , self.eng , self.math , self.get_sum(), self.get_avg())\n"
   ]
  },
  {
   "cell_type": "code",
   "execution_count": 98,
   "id": "2e13dfc5",
   "metadata": {},
   "outputs": [
    {
     "name": "stdout",
     "output_type": "stream",
     "text": [
      "이름을 입력하세요 > q\n",
      "-------학생 목록--------\n",
      "이름 \t 국어 \t 영어 \t 수학 \t 총점 \t 평균\n",
      "윤인성\t87\t98\t88\t273\t91.000\n",
      "연하진\t92\t98\t96\t286\t95.333\n",
      "구지연\t76\t96\t94\t266\t88.667\n",
      "나선주\t98\t92\t96\t286\t95.333\n",
      "윤아린\t95\t98\t98\t291\t97.000\n",
      "윤명월\t64\t88\t92\t244\t81.333\n",
      "윤인성\t87\t98\t88\t273\t91.000\n",
      "연하진\t92\t98\t96\t286\t95.333\n",
      "구지연\t76\t96\t94\t266\t88.667\n",
      "나선주\t98\t92\t96\t286\t95.333\n",
      "윤아린\t95\t98\t98\t291\t97.000\n",
      "윤명월\t64\t88\t92\t244\t81.333\n",
      "------------------------\n",
      "전체 인원 수 :  12 3292 274.3333333333333\n"
     ]
    }
   ],
   "source": [
    "while True:\n",
    "    name = input('이름을 입력하세요 > ' )\n",
    "    if name == 'q':\n",
    "        break\n",
    "    score = list(map(int, input('국어 영어 수학 점수를 입력하세요 > ').split()))\n",
    "    kor = score[0]\n",
    "    eng = score[1]\n",
    "    math = score[2]\n",
    "    Student(name, kor, eng, math)\n",
    "\n",
    "Student(\"윤인성\", 87, 98, 88),\n",
    "Student(\"연하진\", 92, 98, 96),\n",
    "Student(\"구지연\", 76, 96, 94),\n",
    "Student(\"나선주\", 98, 92, 96),\n",
    "Student(\"윤아린\", 95, 98, 98),\n",
    "Student(\"윤명월\", 64, 88, 92) \n",
    "\n",
    "Student.print()\n",
    "total = 0\n",
    "for student in Student.students:\n",
    "    total += student.kor + student.eng + student.math\n",
    "print(\"전체 인원 수 : \", Student.count, total, total/Student.count)"
   ]
  },
  {
   "cell_type": "code",
   "execution_count": 118,
   "id": "830906c0",
   "metadata": {},
   "outputs": [],
   "source": [
    "class Circle:\n",
    "    def __init__(self, radius):\n",
    "        self.__radius = radius\n",
    "    def get_circle(self):\n",
    "        return self.__radius * 2 * 3.14\n",
    "    def get_area(self):\n",
    "        return self.__radius * self.__radius * 3.14\n",
    "\n",
    "    def get_radius(self):\n",
    "        return self.__radius\n",
    "    def set_radius(self, value):\n",
    "        self.__radius  = value"
   ]
  },
  {
   "cell_type": "code",
   "execution_count": 122,
   "id": "4982619a",
   "metadata": {},
   "outputs": [
    {
     "name": "stdout",
     "output_type": "stream",
     "text": [
      "314.0\n",
      "10\n",
      "5\n",
      "78.5\n",
      "5\n"
     ]
    }
   ],
   "source": [
    "circle = Circle(10)\n",
    "print(circle.get_area())\n",
    "\n",
    "print(circle.get_radius())\n",
    "\n",
    "circle.set_radius(5)\n",
    "print(circle.get_radius())\n",
    "\n",
    "print(circle.get_area())\n",
    "\n",
    "print(circle.get_radius())"
   ]
  },
  {
   "cell_type": "code",
   "execution_count": 138,
   "id": "4b85055c",
   "metadata": {},
   "outputs": [
    {
     "name": "stdout",
     "output_type": "stream",
     "text": [
      "이름을 입력하세요 > 박\n",
      "점수를 입력하세요 > 123\n",
      "이름을 입력하세요 > 의\n",
      "점수를 입력하세요 > 234\n",
      "이름을 입력하세요 > 찬\n",
      "점수를 입력하세요 > 345\n",
      "이름을 입력하세요 > q\n",
      "이름 :  박  점수 :  123\n",
      "이름 :  의  점수 :  234\n",
      "이름 :  찬  점수 :  345\n"
     ]
    }
   ],
   "source": [
    "#리스트로\n",
    "stu_list = []\n",
    "score_list = []\n",
    "while True:\n",
    "    name = input(\"이름을 입력하세요 > \")\n",
    "    if name == 'q':\n",
    "        break\n",
    "    score = int(input(\"점수를 입력하세요 > \"))\n",
    "    \n",
    "    stu_list.append(name)\n",
    "    score_list.append(score)\n",
    "\n",
    "for i in range(len(stu_list)):\n",
    "    print(\"이름 : \",stu_list[i],\" 점수 : \",score_list[i])"
   ]
  },
  {
   "cell_type": "code",
   "execution_count": 164,
   "id": "d8274d55",
   "metadata": {},
   "outputs": [
    {
     "name": "stdout",
     "output_type": "stream",
     "text": [
      "이름을 입력하세요 > 박 \n",
      "점수를 입력하세요 > 13\n",
      "이름을 입력하세요 > 의\n",
      "점수를 입력하세요 > 24\n",
      "이름을 입력하세요 > q\n",
      "{'박 ': 13, '의': 24}\n"
     ]
    }
   ],
   "source": [
    "#디렉트리로\n",
    "dit_list = {}\n",
    "while True:\n",
    "    name = input(\"이름을 입력하세요 > \")\n",
    "    if name == 'q':\n",
    "        break\n",
    "    \n",
    "    score = int(input(\"점수를 입력하세요 > \"))\n",
    "    \n",
    "    dit_list[name] = score\n",
    "print(dit_list)\n",
    "\n"
   ]
  },
  {
   "cell_type": "code",
   "execution_count": 167,
   "id": "3aa23a12",
   "metadata": {},
   "outputs": [],
   "source": [
    "class Student_class:\n",
    "    count = 0\n",
    "    students = []\n",
    "    def __init__(self, name, score):\n",
    "        self.name = name\n",
    "        self.score = score\n",
    "        Student_class.students.append(self)\n",
    "        \n",
    "    @classmethod\n",
    "    def print(cls):\n",
    "        print(\"이름 \\t 점수 \\t\")\n",
    "        for student in cls.students:\n",
    "            print(str(student))\n",
    "        \n",
    "    def __str__(self):\n",
    "        return \"{} \\t {}\".format(self.name, self.score)\n",
    "    "
   ]
  },
  {
   "cell_type": "code",
   "execution_count": 168,
   "id": "a97900e1",
   "metadata": {},
   "outputs": [
    {
     "name": "stdout",
     "output_type": "stream",
     "text": [
      "이름 \t 점수 \t\n",
      "윤인성 \t 87\n",
      "구지연 \t 76\n",
      "나선주 \t 98\n",
      "윤아린 \t 95\n",
      "윤명월 \t 64\n"
     ]
    }
   ],
   "source": [
    "Student_class(\"윤인성\", 87)\n",
    "Student_class(\"구지연\", 76)\n",
    "Student_class(\"나선주\", 98)\n",
    "Student_class(\"윤아린\", 95)\n",
    "Student_class(\"윤명월\", 64) \n",
    "Student_class.print()"
   ]
  }
 ],
 "metadata": {
  "kernelspec": {
   "display_name": "Python 3 (ipykernel)",
   "language": "python",
   "name": "python3"
  },
  "language_info": {
   "codemirror_mode": {
    "name": "ipython",
    "version": 3
   },
   "file_extension": ".py",
   "mimetype": "text/x-python",
   "name": "python",
   "nbconvert_exporter": "python",
   "pygments_lexer": "ipython3",
   "version": "3.9.7"
  }
 },
 "nbformat": 4,
 "nbformat_minor": 5
}
