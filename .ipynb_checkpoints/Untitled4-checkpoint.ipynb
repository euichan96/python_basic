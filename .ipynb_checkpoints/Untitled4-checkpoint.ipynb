{
 "cells": [
  {
   "cell_type": "code",
   "execution_count": 14,
   "id": "82f3d0bf",
   "metadata": {},
   "outputs": [],
   "source": [
    "from urllib import request\n",
    "from bs4 import BeautifulSoup\n"
   ]
  },
  {
   "cell_type": "code",
   "execution_count": 76,
   "id": "292858f9",
   "metadata": {},
   "outputs": [
    {
     "name": "stdout",
     "output_type": "stream",
     "text": [
      "순위 : 1 \t 영화제목 : 매트릭스  평점 9.40\n",
      "순위 : 2 \t 영화제목 : 코다  평점 9.24\n",
      "순위 : 3 \t 영화제목 : 꽃다발 같은 사랑을 했다  평점 9.03\n",
      "순위 : 4 \t 영화제목 : 스파이더맨: 노 웨이 홈  평점 9.03\n",
      "순위 : 5 \t 영화제목 : 러브 액츄얼리  평점 8.93\n",
      "순위 : 6 \t 영화제목 : 기쿠지로의 여름  평점 8.92\n",
      "순위 : 7 \t 영화제목 : 아멜리에  평점 8.81\n",
      "순위 : 8 \t 영화제목 : 고양이를 부탁해  평점 8.81\n",
      "순위 : 9 \t 영화제목 : 너의 이름은.  평점 8.80\n",
      "순위 : 10 \t 영화제목 : 공각기동대  평점 8.72\n",
      "순위 : 11 \t 영화제목 : 돈 룩 업  평점 8.65\n",
      "순위 : 12 \t 영화제목 : 너와 파도를 탈 수 있다면  평점 8.53\n",
      "순위 : 13 \t 영화제목 : 태일이  평점 8.49\n",
      "순위 : 14 \t 영화제목 : 초속5센티미터  평점 8.35\n",
      "순위 : 15 \t 영화제목 : 엔칸토: 마법의 세계  평점 8.32\n",
      "순위 : 16 \t 영화제목 : 연애 빠진 로맨스  평점 8.31\n",
      "순위 : 17 \t 영화제목 : 킹스맨: 퍼스트 에이전트  평점 8.22\n",
      "순위 : 18 \t 영화제목 : 프렌치 디스패치  평점 8.03\n",
      "순위 : 19 \t 영화제목 : 날씨의 아이  평점 7.96\n",
      "순위 : 20 \t 영화제목 : 라스트 나잇 인 소호  평점 7.84\n",
      "순위 : 21 \t 영화제목 : 유체이탈자  평점 7.59\n",
      "순위 : 22 \t 영화제목 : 디어 에반 핸슨  평점 7.50\n",
      "순위 : 23 \t 영화제목 : 아네트  평점 7.28\n",
      "순위 : 24 \t 영화제목 : 장르만 로맨스  평점 6.66\n",
      "순위 : 25 \t 영화제목 : 베놈 2: 렛 데어 비 카니지  평점 6.11\n",
      "순위 : 26 \t 영화제목 : 매트릭스: 리저렉션  평점 5.65\n",
      "순위 : 27 \t 영화제목 : 이터널스  평점 5.57\n"
     ]
    }
   ],
   "source": [
    "url = \"https://movie.naver.com/movie/sdb/rank/rmovie.naver?sel=cur&date=20211229\"\n",
    "\n",
    "resp = request.urlopen(url)\n",
    "soup = BeautifulSoup(resp)\n",
    "output = '<table>'\n",
    "count = 0\n",
    "for location in soup.find_all('tr'):\n",
    "        output += '<tr>'\n",
    "        \n",
    "        if location.find_all('td'):\n",
    "            if location.find('td',class_= 'title') and \\\n",
    "                location.find('td',class_= 'point'):\n",
    "                count = count +1\n",
    "                print(\"순위 : {} \\t 영화제목 : {}  평점 {}\".\\\n",
    "                      format(count,\n",
    "                            location.find('td',class_= 'title').text.strip(),\n",
    "                             location.find('td',class_= 'point').string))"
   ]
  },
  {
   "cell_type": "code",
   "execution_count": null,
   "id": "5c8e234f",
   "metadata": {},
   "outputs": [],
   "source": []
  }
 ],
 "metadata": {
  "kernelspec": {
   "display_name": "Python 3 (ipykernel)",
   "language": "python",
   "name": "python3"
  },
  "language_info": {
   "codemirror_mode": {
    "name": "ipython",
    "version": 3
   },
   "file_extension": ".py",
   "mimetype": "text/x-python",
   "name": "python",
   "nbconvert_exporter": "python",
   "pygments_lexer": "ipython3",
   "version": "3.9.7"
  }
 },
 "nbformat": 4,
 "nbformat_minor": 5
}
