{
 "cells": [
  {
   "cell_type": "code",
   "execution_count": 23,
   "id": "7583b573",
   "metadata": {},
   "outputs": [],
   "source": [
    "#private 변수\n",
    "class Circle:\n",
    "    count = 0\n",
    "    def __init__(self, radius):\n",
    "        self.__radius = radius\n",
    "        \n",
    "    def get_area(self):\n",
    "        return self.__radius * self.__radius\n",
    "    \n",
    "    @property\n",
    "    def get_radius(self):\n",
    "        return self.__radius \n",
    "    \n",
    "    @radius.setter\n",
    "    def radius(self, value):\n",
    "        self.__radius = value\n",
    "    \n",
    "# 함수로만 접근가능 \n",
    "    "
   ]
  },
  {
   "cell_type": "code",
   "execution_count": 30,
   "id": "bb6c2aad",
   "metadata": {},
   "outputs": [
    {
     "name": "stdout",
     "output_type": "stream",
     "text": [
      "10\n",
      "<bound method Circle.get_radius of <__main__.Circle object at 0x00000228EE151190>>\n"
     ]
    }
   ],
   "source": [
    "circle = Circle(10, 10)\n",
    "print(circle.radius) #가능\n",
    "# print(circle.__radius) #불가능\n",
    "print(circle.get_radius)"
   ]
  },
  {
   "cell_type": "code",
   "execution_count": 34,
   "id": "1cbea40c",
   "metadata": {},
   "outputs": [],
   "source": [
    "#상속 : 부모의 속성을 상속\n",
    "class Parent:\n",
    "    def __init__(self):\n",
    "        self.value = \"테스트\"\n",
    "        print(\"Parent class init\")\n",
    "        \n",
    "    def test(self):\n",
    "        print(\"Parent test 함수\")\n",
    "        \n",
    "class Child(Parent):\n",
    "    def __init__(self):\n",
    "        Parent.__init__(self)\n",
    "        print(\"Child class init\")\n",
    "    \n",
    "    def child_test(self):\n",
    "        print(\"child test 함수\")\n",
    "\n",
    "    def test(self):\n",
    "        print(\"child test() 재정의\")"
   ]
  },
  {
   "cell_type": "code",
   "execution_count": 42,
   "id": "5215e07d",
   "metadata": {},
   "outputs": [
    {
     "name": "stdout",
     "output_type": "stream",
     "text": [
      "Parent class init\n",
      "Parent test 함수\n",
      "테스트 None\n",
      "\n",
      "Parent class init\n",
      "Child class init\n",
      "\n",
      "\n",
      "Parent test 함수\n",
      "\n"
     ]
    },
    {
     "ename": "AttributeError",
     "evalue": "'Child' object has no attribute 'child_test'",
     "output_type": "error",
     "traceback": [
      "\u001b[1;31m---------------------------------------------------------------------------\u001b[0m",
      "\u001b[1;31mAttributeError\u001b[0m                            Traceback (most recent call last)",
      "\u001b[1;32m~\\AppData\\Local\\Temp/ipykernel_19892/24043844.py\u001b[0m in \u001b[0;36m<module>\u001b[1;34m\u001b[0m\n\u001b[0;32m      8\u001b[0m \u001b[0mchild\u001b[0m\u001b[1;33m.\u001b[0m\u001b[0mtest\u001b[0m\u001b[1;33m(\u001b[0m\u001b[1;33m)\u001b[0m\u001b[1;33m\u001b[0m\u001b[1;33m\u001b[0m\u001b[0m\n\u001b[0;32m      9\u001b[0m \u001b[0mprint\u001b[0m\u001b[1;33m(\u001b[0m\u001b[1;33m)\u001b[0m\u001b[1;33m\u001b[0m\u001b[1;33m\u001b[0m\u001b[0m\n\u001b[1;32m---> 10\u001b[1;33m \u001b[0mchild\u001b[0m\u001b[1;33m.\u001b[0m\u001b[0mchild_test\u001b[0m\u001b[1;33m(\u001b[0m\u001b[1;33m)\u001b[0m\u001b[1;33m\u001b[0m\u001b[1;33m\u001b[0m\u001b[0m\n\u001b[0m",
      "\u001b[1;31mAttributeError\u001b[0m: 'Child' object has no attribute 'child_test'"
     ]
    }
   ],
   "source": [
    "parent = Parent()\n",
    "print(parent.value, parent.test())\n",
    "print()\n",
    "child = Child()\n",
    "print()\n",
    "child.value\n",
    "print()\n",
    "child.test()\n",
    "print()\n",
    "child.child_test()"
   ]
  }
 ],
 "metadata": {
  "kernelspec": {
   "display_name": "Python 3 (ipykernel)",
   "language": "python",
   "name": "python3"
  },
  "language_info": {
   "codemirror_mode": {
    "name": "ipython",
    "version": 3
   },
   "file_extension": ".py",
   "mimetype": "text/x-python",
   "name": "python",
   "nbconvert_exporter": "python",
   "pygments_lexer": "ipython3",
   "version": "3.9.7"
  }
 },
 "nbformat": 4,
 "nbformat_minor": 5
}
