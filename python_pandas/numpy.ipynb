{
 "cells": [
  {
   "cell_type": "code",
   "execution_count": 2,
   "id": "51f73690",
   "metadata": {},
   "outputs": [],
   "source": [
    "#numpy 관련\n",
    "import numpy as np"
   ]
  },
  {
   "cell_type": "code",
   "execution_count": 16,
   "id": "03e55a2a",
   "metadata": {},
   "outputs": [
    {
     "name": "stdout",
     "output_type": "stream",
     "text": [
      "[ 0  1  2  3  4  5  6  7  8  9 10 11 12 13 14] <class 'numpy.ndarray'>\n",
      "[[ 0  1  2  3  4]\n",
      " [ 5  6  7  8  9]\n",
      " [10 11 12 13 14]] <class 'numpy.ndarray'> 2\n",
      "\n",
      "(3, 5) 15 int32\n",
      "4\n"
     ]
    }
   ],
   "source": [
    "arr = np.arange(15)\n",
    "print(arr, type(arr))\n",
    "arr = arr.reshape(3,5) # 배열 재정의\n",
    "print(arr, type(arr), arr.ndim) # 몇 차원인지?\n",
    "print()\n",
    "print(arr.shape, arr.size, arr.dtype.name)#크기(3 * 5), 자료 갯수, 자료형\n",
    "print(arr.dtype.itemsize) # 데이터의 저장 공간 사이즈 : 4바이트"
   ]
  },
  {
   "cell_type": "code",
   "execution_count": 18,
   "id": "b5827edb",
   "metadata": {},
   "outputs": [
    {
     "name": "stdout",
     "output_type": "stream",
     "text": [
      "[[-5.  -4.5 -4.  -3.5 -3. ]\n",
      " [-2.5 -2.  -1.5 -1.  -0.5]\n",
      " [ 0.   0.5  1.   1.5  2. ]\n",
      " [ 2.5  3.   3.5  4.   4.5]]\n"
     ]
    },
    {
     "data": {
      "text/plain": [
       "1"
      ]
     },
     "execution_count": 18,
     "metadata": {},
     "output_type": "execute_result"
    }
   ],
   "source": [
    "arr = np.arange(-5,5,0.5)\n",
    "arr = arr.reshape(4, int(arr.size/4)) # 배열 재정의\n",
    "print(arr)\n",
    "arr1 = arr.flatten() #다차원을 1차원으로 변형\n",
    "arr1.ndim"
   ]
  },
  {
   "cell_type": "code",
   "execution_count": 23,
   "id": "6f4ffb35",
   "metadata": {},
   "outputs": [
    {
     "name": "stdout",
     "output_type": "stream",
     "text": [
      "[1 2 3] <class 'numpy.ndarray'>\n",
      "1 (3,)\n",
      "\n",
      "[[1 2 3]\n",
      " [4 5 6]] <class 'numpy.ndarray'>\n",
      "2 (2, 3)\n"
     ]
    }
   ],
   "source": [
    "# 기존의 파이썬 리스트로 array 생성\n",
    "list_a = np.array([1,2,3])\n",
    "list_b = np.array([[1,2,3],[4,5,6]])\n",
    "print(list_a, type(list_a))\n",
    "print(list_a.ndim, list_a.shape)\n",
    "print()\n",
    "print(list_b, type(list_b))\n",
    "print(list_b.ndim, list_b.shape)"
   ]
  }
 ],
 "metadata": {
  "kernelspec": {
   "display_name": "Python 3 (ipykernel)",
   "language": "python",
   "name": "python3"
  },
  "language_info": {
   "codemirror_mode": {
    "name": "ipython",
    "version": 3
   },
   "file_extension": ".py",
   "mimetype": "text/x-python",
   "name": "python",
   "nbconvert_exporter": "python",
   "pygments_lexer": "ipython3",
   "version": "3.9.7"
  }
 },
 "nbformat": 4,
 "nbformat_minor": 5
}
