{
 "cells": [
  {
   "cell_type": "code",
   "execution_count": 2,
   "id": "51f73690",
   "metadata": {},
   "outputs": [],
   "source": [
    "#numpy 관련\n",
    "import numpy as np"
   ]
  },
  {
   "cell_type": "code",
   "execution_count": 3,
   "id": "03e55a2a",
   "metadata": {},
   "outputs": [
    {
     "name": "stdout",
     "output_type": "stream",
     "text": [
      "[ 0  1  2  3  4  5  6  7  8  9 10 11 12 13 14] <class 'numpy.ndarray'>\n",
      "[[ 0  1  2  3  4]\n",
      " [ 5  6  7  8  9]\n",
      " [10 11 12 13 14]] <class 'numpy.ndarray'> 2\n",
      "\n",
      "(3, 5) 15 int32\n",
      "4\n"
     ]
    }
   ],
   "source": [
    "arr = np.arange(15)\n",
    "print(arr, type(arr))\n",
    "arr = arr.reshape(3,5) # 배열 재정의\n",
    "print(arr, type(arr), arr.ndim) # 몇 차원인지?\n",
    "print()\n",
    "print(arr.shape, arr.size, arr.dtype.name)#크기(3 * 5), 자료 갯수, 자료형\n",
    "print(arr.dtype.itemsize) # 데이터의 저장 공간 사이즈 : 4바이트"
   ]
  },
  {
   "cell_type": "code",
   "execution_count": 4,
   "id": "b5827edb",
   "metadata": {},
   "outputs": [
    {
     "name": "stdout",
     "output_type": "stream",
     "text": [
      "[[-5.  -4.5 -4.  -3.5 -3. ]\n",
      " [-2.5 -2.  -1.5 -1.  -0.5]\n",
      " [ 0.   0.5  1.   1.5  2. ]\n",
      " [ 2.5  3.   3.5  4.   4.5]]\n"
     ]
    },
    {
     "data": {
      "text/plain": [
       "1"
      ]
     },
     "execution_count": 4,
     "metadata": {},
     "output_type": "execute_result"
    }
   ],
   "source": [
    "arr = np.arange(-5,5,0.5)\n",
    "arr = arr.reshape(4, int(arr.size/4)) # 배열 재정의\n",
    "print(arr)\n",
    "arr1 = arr.flatten() #다차원을 1차원으로 변형\n",
    "arr1.ndim"
   ]
  },
  {
   "cell_type": "code",
   "execution_count": 5,
   "id": "6f4ffb35",
   "metadata": {},
   "outputs": [
    {
     "name": "stdout",
     "output_type": "stream",
     "text": [
      "[1 2 3] <class 'numpy.ndarray'>\n",
      "1 (3,)\n",
      "\n",
      "[[1 2 3]\n",
      " [4 5 6]] <class 'numpy.ndarray'>\n",
      "2 (2, 3)\n"
     ]
    }
   ],
   "source": [
    "# 기존의 파이썬 리스트로 array 생성\n",
    "list_a = np.array([1,2,3])\n",
    "list_b = np.array([[1,2,3],[4,5,6]])\n",
    "print(list_a, type(list_a))\n",
    "print(list_a.ndim, list_a.shape)\n",
    "print()\n",
    "print(list_b, type(list_b))\n",
    "print(list_b.ndim, list_b.shape)"
   ]
  },
  {
   "cell_type": "code",
   "execution_count": 15,
   "id": "891a0ac6",
   "metadata": {},
   "outputs": [
    {
     "name": "stdout",
     "output_type": "stream",
     "text": [
      "[0. 0. 0. 0. 0.]\n",
      "[[0. 0. 0.]\n",
      " [0. 0. 0.]]\n",
      "[[0 0]\n",
      " [0 0]\n",
      " [0 0]\n",
      " [0 0]\n",
      " [0 0]]\n",
      "['' '' '' '' '']\n",
      "[[[1 1 1 1]\n",
      "  [1 1 1 1]\n",
      "  [1 1 1 1]]\n",
      "\n",
      " [[1 1 1 1]\n",
      "  [1 1 1 1]\n",
      "  [1 1 1 1]]]\n",
      "[[1. 1. 1.]\n",
      " [1. 1. 1.]]\n",
      "[[1.04182483e-311 2.47032823e-322 0.00000000e+000]\n",
      " [0.00000000e+000 1.89146896e-307 1.33664410e+160]\n",
      " [4.46537987e-090 6.09987504e+170 9.99374493e-048]\n",
      " [6.81444132e-038 3.99910963e+252 1.77502913e+160]]\n",
      "[ 0  1 -1  0] [1 0 0 0]\n"
     ]
    }
   ],
   "source": [
    "a = np.zeros(5)\n",
    "print(a)\n",
    "b = np.zeros((2,3))\n",
    "print(b)\n",
    "print(np.zeros((5,2),dtype='i'))\n",
    "print(np.zeros(5,dtype='U4'))\n",
    "print(np.ones((2,3,4),dtype='i8'))\n",
    "print(np.ones_like(b,dtype='f'))\n",
    "print(np.empty((4,3)))\n",
    "print(np.array([0,1,-1,0]),np.array([1,0,0,0]))\n"
   ]
  },
  {
   "cell_type": "code",
   "execution_count": 16,
   "id": "14afc63e",
   "metadata": {},
   "outputs": [
    {
     "data": {
      "text/plain": [
       "array([[ 4.,  3.],\n",
       "       [ 9.,  8.],\n",
       "       [14., 13.]])"
      ]
     },
     "execution_count": 16,
     "metadata": {},
     "output_type": "execute_result"
    }
   ],
   "source": [
    "x1 = np.array([-1.0, -2.0])\n",
    "x2 = np.array([[5.0],[10.0],[15.0]])\n",
    "x1 + x2"
   ]
  },
  {
   "cell_type": "code",
   "execution_count": 29,
   "id": "81f20a6d",
   "metadata": {},
   "outputs": [
    {
     "name": "stdout",
     "output_type": "stream",
     "text": [
      "[ 0  1  4  9 16 25 36 49 64 81]\n",
      "4\n",
      "[ 9 16]\n",
      "[  0   1  -4   9 -16  25  36  49  64  81]\n",
      "[ 81  64  49  36  25 -16   9  -4   1   0]\n",
      "0\t1\t-4\t9\t-16\t25\t36\t49\t64\t81\t\n",
      "[[ 1  2  3  4  5]\n",
      " [ 6  7  8  9 10]\n",
      " [11 12 13 14 15]\n",
      " [16 17 18 19 20]]\n",
      "20\n",
      "\n",
      "[[ 2  3  4  5]\n",
      " [ 7  8  9 10]\n",
      " [12 13 14 15]]\n",
      "\n",
      "[ 6  7  8  9 10]\n",
      "[16 17 18 19 20]\n"
     ]
    }
   ],
   "source": [
    "#  numpy indexing, slicing, iterating\n",
    "arr = np.arange(10) **2\n",
    "print(arr)\n",
    "print(arr[2])\n",
    "print(arr[3:5])\n",
    "arr[0:6:2] = -arr[0:6:2]\n",
    "print(arr)\n",
    "print(arr[::-1])\n",
    "for i in arr:\n",
    "    print(i,end='\\t')\n",
    "print()\n",
    "arr = np.arange(1,21,1).reshape(4,5)\n",
    "print(arr)\n",
    "print(arr[3,4])\n",
    "print()\n",
    "print(arr[0:3, 1:]) \n",
    "print()\n",
    "print(arr[1, ]) #1행출력\n",
    "print(arr[-1, ]) # 마지막 행출력"
   ]
  },
  {
   "cell_type": "code",
   "execution_count": 32,
   "id": "7325329b",
   "metadata": {},
   "outputs": [
    {
     "name": "stdout",
     "output_type": "stream",
     "text": [
      "[0 1 2 3 4 5] [ 1.          0.54030231 -0.41614684 -0.9899925  -0.65364362  0.28366219] [  1.           2.71828183   7.3890561   20.08553692  54.59815003\n",
      " 148.4131591 ]\n",
      "[-4.60517019 -2.81341072 -2.20727491 -1.83258146 -1.56064775 -1.34707365\n",
      " -1.17118298 -1.02165125 -0.89159812 -0.77652879 -0.67334455 -0.5798185\n",
      " -0.49429632 -0.41551544 -0.34249031 -0.27443685 -0.21072103 -0.15082289\n",
      " -0.09431068 -0.04082199]\n"
     ]
    }
   ],
   "source": [
    "# numpy 일반함수\n",
    "# np.cos(), sin(), tanh(), exp()\n",
    "arr = np.arange(0, 6, 1)\n",
    "print(arr, np.cos(arr), np.exp(arr))\n",
    "\n",
    "arr = np.arange(0.01, 1, 0.05)\n",
    "print(np.log(arr))"
   ]
  },
  {
   "cell_type": "code",
   "execution_count": 37,
   "id": "557504d5",
   "metadata": {},
   "outputs": [
    {
     "name": "stdout",
     "output_type": "stream",
     "text": [
      "[2 5 4]\n",
      "[1 3 2]\n",
      "9\n",
      "[56  1  9  6 12]\n",
      "[[0.73679735 0.98472542 0.58216049]\n",
      " [0.92724917 0.0591591  0.93334748]]\n",
      "[[-0.12241144 -1.3856053   0.47455006]\n",
      " [ 0.86601251 -1.56302966  0.11140029]]\n",
      "0 : 6\n",
      "[[0.1 0.8 0.2]\n",
      " [0.3 0.2 0.5]\n",
      " [0.9 0.5 0.3]]\n",
      "[1 2 0]\n",
      "[2 0 1]\n"
     ]
    }
   ],
   "source": [
    "arr1 = np.array([2,3,4])\n",
    "arr2 = np.array([1,5,2])\n",
    "print(np.maximum(arr1,arr2))\n",
    "print(np.minimum(arr1,arr2))\n",
    "print(np.sum(arr1))\n",
    "print(np.random.choice(100,5)) # 0~100사이의 수 중에서 5개 출력\n",
    "print(np.random.rand(2,3))  #2행 3열의 랜덤 값 리턴\n",
    "print(np.random.randn(2,3)) #2행 3열의 랜덤 값 리턴(표준 정규분포)\n",
    "\n",
    "#위치를 반환하는 함수 argmax, argmin\n",
    "arr = np.array([6,2,3,1,4,5])\n",
    "print(np.argmax(arr), \":\", arr[np.argmax(arr)])\n",
    "\n",
    "arr3 = np.array([[0.1, 0.8, 0.2], [0.3,0.2,0.5],[0.9,0.5,0.3]])\n",
    "print(arr3)\n",
    "print(np.argmax(arr3, axis = 1))\n",
    "print(np.argmax(arr3, axis = 0))\n"
   ]
  },
  {
   "cell_type": "code",
   "execution_count": 40,
   "id": "0e138a94",
   "metadata": {},
   "outputs": [
    {
     "name": "stdout",
     "output_type": "stream",
     "text": [
      "26\n",
      "4.8076923076923075\n",
      "115.23224852071006\n",
      "10.734628476137871\n",
      "23 -24 5.0\n",
      "23.0\n"
     ]
    }
   ],
   "source": [
    "#기술 통계 함수\n",
    "# count(), mean(), var(), std(), median(), max(), min(), percetile()\n",
    "arr = np.array([18, 5, 10, 23, 19, -8, 10, 0, 0, 5, 2, 15, 8,\n",
    "               2, 5, 4, 15, -1, 4, -7, -24, 7, 9, -6, 23, -13])\n",
    "print(len(arr))       #arr의 갯수\n",
    "print(np.mean(arr))   #평균\n",
    "print(np.var(arr))    #분산\n",
    "print(np.std(arr))    #표준편차\n",
    "print(np.max(arr),np.min(arr),np.median(arr)) #최댓값,최솟값,중앙값\n",
    "\n",
    "print(np.percentile(arr,100))\n",
    "\n",
    "\n",
    "\n",
    "\n"
   ]
  },
  {
   "cell_type": "code",
   "execution_count": 45,
   "id": "c9943df6",
   "metadata": {},
   "outputs": [
    {
     "data": {
      "text/plain": [
       "array([0.5488135 , 0.71518937, 0.60276338, 0.54488318, 0.4236548 ])"
      ]
     },
     "execution_count": 45,
     "metadata": {},
     "output_type": "execute_result"
    }
   ],
   "source": [
    "#난수 발생과 카운팅\n",
    "np.random.seed(0)\n",
    "np.random.rand(5)"
   ]
  },
  {
   "cell_type": "code",
   "execution_count": 46,
   "id": "a8b73a74",
   "metadata": {},
   "outputs": [
    {
     "name": "stdout",
     "output_type": "stream",
     "text": [
      "[0 1 2 3 4 5 6 7 8 9]\n",
      "[3 1 8 7 9 0 6 4 2 5]\n"
     ]
    }
   ],
   "source": [
    "#데이터 순서를 바꾸는 방법\n",
    "arr = np.arange(10)\n",
    "print(arr)\n",
    "np.random.shuffle(arr)\n",
    "print(arr)"
   ]
  },
  {
   "cell_type": "code",
   "execution_count": 55,
   "id": "265a32aa",
   "metadata": {},
   "outputs": [
    {
     "data": {
      "text/plain": [
       "array([3, 2, 3, 3, 3, 3, 3, 0, 2, 0])"
      ]
     },
     "execution_count": 55,
     "metadata": {},
     "output_type": "execute_result"
    }
   ],
   "source": [
    "#샘플링 : choice()\n",
    "np.random.choice(arr,5,replace = False)  #셔플과 같은 결과\n",
    "np.random.choice(10,3,replace = False)   #10개중 3개만 선택\n",
    "np.random.choice(5,10) # 5개 숫자중 10개를 추출 중복 허용\n",
    "np.random.choice(5,10, p=[0.1, 0, 0.3, 0.6, 0]) #선택확률 다르게"
   ]
  },
  {
   "cell_type": "code",
   "execution_count": 175,
   "id": "48a0089c",
   "metadata": {},
   "outputs": [
    {
     "data": {
      "text/plain": [
       "array([[11, 19, 18, 19, 14],\n",
       "       [11, 16, 11, 12, 13],\n",
       "       [10, 14, 15, 13, 18]])"
      ]
     },
     "execution_count": 175,
     "metadata": {},
     "output_type": "execute_result"
    }
   ],
   "source": [
    "#randint() 정수 난수 발생                   최대값은 포함 x\n",
    "np.random.randint(10, size =10) #(최대, 갯수) 최소, 갯수 생략 가능\n",
    "np.random.randint(10, 20, size =10) # (최소, 최대, 갯수)\n",
    "np.random.randint(10, 20, size=(3,5)) #3행 5열의 array 반환"
   ]
  },
  {
   "cell_type": "code",
   "execution_count": 194,
   "id": "3b90ac14",
   "metadata": {},
   "outputs": [
    {
     "name": "stdout",
     "output_type": "stream",
     "text": [
      "[ 1  2  3  4  5  6  7  8  9 10 11 12 13 14 15 16 17 18 19 20]\n",
      "[ 3  6  9 12 15 18]\n",
      "[ 1  5  9 13 17]\n",
      "[9]\n"
     ]
    }
   ],
   "source": [
    "arr = np.arange(1,21)\n",
    "print(arr)\n",
    "print(arr[arr%3==0])\n",
    "print(arr[arr%4==1])\n",
    "print(arr[(arr%4==1) & (arr%3==0)])"
   ]
  },
  {
   "cell_type": "code",
   "execution_count": 191,
   "id": "f50d7301",
   "metadata": {},
   "outputs": [
    {
     "name": "stdout",
     "output_type": "stream",
     "text": [
      "3\n",
      "6\n",
      "9\n",
      "12\n",
      "15\n",
      "18\n",
      "\n",
      "1\n",
      "5\n",
      "9\n",
      "13\n",
      "17\n",
      "\n",
      "8\n",
      "12\n",
      "20\n"
     ]
    }
   ],
   "source": [
    "for i in arr:\n",
    "    if i%3==0:\n",
    "        print(i)\n",
    "print()     \n",
    "for i in arr:\n",
    "    if i%4==1:\n",
    "        print(i)\n",
    "print()\n",
    "for i in arr:\n",
    "    if i%4==1 & i%3==0:\n",
    "        print(i)"
   ]
  },
  {
   "cell_type": "code",
   "execution_count": null,
   "id": "e5045d36",
   "metadata": {},
   "outputs": [],
   "source": []
  }
 ],
 "metadata": {
  "kernelspec": {
   "display_name": "Python 3 (ipykernel)",
   "language": "python",
   "name": "python3"
  },
  "language_info": {
   "codemirror_mode": {
    "name": "ipython",
    "version": 3
   },
   "file_extension": ".py",
   "mimetype": "text/x-python",
   "name": "python",
   "nbconvert_exporter": "python",
   "pygments_lexer": "ipython3",
   "version": "3.9.7"
  }
 },
 "nbformat": 4,
 "nbformat_minor": 5
}
