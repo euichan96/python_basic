{
 "cells": [
  {
   "cell_type": "code",
   "execution_count": 2,
   "id": "25f7e310",
   "metadata": {},
   "outputs": [],
   "source": [
    "# 시리즈 : 1차원 배열 -> 인덱스와 값이 존재\n",
    "import pandas as pd # pandas의 구조자료는 series와 dataframe이 존재"
   ]
  },
  {
   "cell_type": "code",
   "execution_count": 10,
   "id": "a6d2a4af",
   "metadata": {},
   "outputs": [
    {
     "name": "stdout",
     "output_type": "stream",
     "text": [
      "<class 'dict'> {'a': 1, '2': 2, 'c': 3}\n",
      "<class 'pandas.core.series.Series'> \n",
      " a    1\n",
      "2    2\n",
      "c    3\n",
      "dtype: int64\n",
      "<class 'list'> [1, 2, 3]\n",
      "<class 'pandas.core.series.Series'> \n",
      " 0    1\n",
      "1    2\n",
      "2    3\n",
      "dtype: int64\n"
     ]
    }
   ],
   "source": [
    "dist_data = {'a':1,'2':2,'c':3}\n",
    "list_data = [1,2,3]\n",
    "\n",
    "srd = pd.Series(dist_data)\n",
    "srl = pd.Series(list_data)\n",
    "\n",
    "print(type(dist_data),dist_data)\n",
    "print(type(srd),'\\n',srd)\n",
    "\n",
    "print(type(list_data),list_data)\n",
    "print(type(srl),'\\n',srl)"
   ]
  },
  {
   "cell_type": "code",
   "execution_count": 15,
   "id": "bb8d0ccc",
   "metadata": {},
   "outputs": [
    {
     "name": "stdout",
     "output_type": "stream",
     "text": [
      "srd.index Index(['a', '2', 'c'], dtype='object')\n",
      "srl.index RangeIndex(start=0, stop=3, step=1)\n",
      "srd.values [1 2 3]\n",
      "srl.values [1 2 3]\n"
     ]
    }
   ],
   "source": [
    "# 인덱스 확인\n",
    "print(\"srd.index\", srd.index)\n",
    "print(\"srl.index\", srl.index)\n",
    "\n",
    "# 시리즈의 값을 확인\n",
    "print(\"srd.values\", srd.values)\n",
    "print(\"srl.values\", srl.values)"
   ]
  },
  {
   "cell_type": "code",
   "execution_count": 22,
   "id": "5c88bbfe",
   "metadata": {},
   "outputs": [],
   "source": [
    "# 각 자료의 원소 선택\n",
    "sr_data = pd.Series(list(range(10)))\n",
    "# srl[ idx_start : ids_end ] start 포함, end 포함하지 않음\n",
    "sr_data[1:10]\n",
    "srd['a']\n",
    "sr_key = pd.Series({'a':1,'b':2,'c':3,'d':4})"
   ]
  },
  {
   "cell_type": "code",
   "execution_count": 27,
   "id": "c97803eb",
   "metadata": {},
   "outputs": [
    {
     "name": "stdout",
     "output_type": "stream",
     "text": [
      "a    1\n",
      "b    2\n",
      "dtype: int64\n",
      "a    1\n",
      "c    3\n",
      "dtype: int64\n",
      "a    1\n",
      "b    2\n",
      "c    3\n",
      "dtype: int64\n",
      "a    1\n",
      "b    2\n",
      "dtype: int64\n"
     ]
    }
   ],
   "source": [
    "print(sr_key[['a','b']]) \n",
    "print(sr_key[[0,2]]) \n",
    "\n",
    "print(sr_key['a':'c']) # c포함\n",
    "print(sr_key[0:2]) # 2미포함"
   ]
  },
  {
   "cell_type": "code",
   "execution_count": 36,
   "id": "e9b7c36e",
   "metadata": {},
   "outputs": [],
   "source": [
    "sr_list = pd.Series(list(range(5)), index=['a','b','c','d','x'])\n",
    "sr_list\n",
    "sr_list = pd.Series(list(range(10)), index=[x for x in 'abcdefghij'])"
   ]
  },
  {
   "cell_type": "code",
   "execution_count": 43,
   "id": "75517a01",
   "metadata": {},
   "outputs": [
    {
     "name": "stdout",
     "output_type": "stream",
     "text": [
      "9 9\n",
      "b    1\n",
      "c    2\n",
      "d    3\n",
      "dtype: int64\n",
      "['b':'e']\n",
      " b    1\n",
      "c    2\n",
      "d    3\n",
      "e    4\n",
      "dtype: int64\n",
      "[['b','d']]\n",
      " b    1\n",
      "d    3\n",
      "dtype: int64\n"
     ]
    }
   ],
   "source": [
    "# 마지막 자료를 출력 : 인덱스명과 첨자 둘다\n",
    "print(sr_list[-1], sr_list['j'])\n",
    "# 1번째부터 3번째 까지의 자료 출력, 인덱스명으로도 출력\n",
    "print(sr_list[1:4])\n",
    "print(\"['b':'e']\\n\",sr_list['b':'e'])\n",
    "# 인덱스명 'b'와 'd'의 값을 출력\n",
    "print(\"[['b','d']]\\n\",sr_list[['b','d']])\n"
   ]
  },
  {
   "cell_type": "code",
   "execution_count": 46,
   "id": "8c7057ad",
   "metadata": {},
   "outputs": [
    {
     "data": {
      "text/html": [
       "<div>\n",
       "<style scoped>\n",
       "    .dataframe tbody tr th:only-of-type {\n",
       "        vertical-align: middle;\n",
       "    }\n",
       "\n",
       "    .dataframe tbody tr th {\n",
       "        vertical-align: top;\n",
       "    }\n",
       "\n",
       "    .dataframe thead th {\n",
       "        text-align: right;\n",
       "    }\n",
       "</style>\n",
       "<table border=\"1\" class=\"dataframe\">\n",
       "  <thead>\n",
       "    <tr style=\"text-align: right;\">\n",
       "      <th></th>\n",
       "      <th>c0</th>\n",
       "      <th>c1</th>\n",
       "      <th>c2</th>\n",
       "    </tr>\n",
       "  </thead>\n",
       "  <tbody>\n",
       "    <tr>\n",
       "      <th>0</th>\n",
       "      <td>1</td>\n",
       "      <td>4</td>\n",
       "      <td>7</td>\n",
       "    </tr>\n",
       "    <tr>\n",
       "      <th>1</th>\n",
       "      <td>2</td>\n",
       "      <td>5</td>\n",
       "      <td>8</td>\n",
       "    </tr>\n",
       "    <tr>\n",
       "      <th>2</th>\n",
       "      <td>3</td>\n",
       "      <td>6</td>\n",
       "      <td>9</td>\n",
       "    </tr>\n",
       "  </tbody>\n",
       "</table>\n",
       "</div>"
      ],
      "text/plain": [
       "   c0  c1  c2\n",
       "0   1   4   7\n",
       "1   2   5   8\n",
       "2   3   6   9"
      ]
     },
     "execution_count": 46,
     "metadata": {},
     "output_type": "execute_result"
    }
   ],
   "source": [
    "# dataframe : 2차원, pandas.DataFrame(data(2차원) , [index= ],[columns= ])\n",
    "# 딕셔너리 데이터프레임 생성\n",
    "dict_data = {'c0':[1,2,3],'c1':[4,5,6],'c2':[7,8,9]}\n",
    "df = pd.DataFrame(dict_data)\n",
    "df"
   ]
  },
  {
   "cell_type": "code",
   "execution_count": 50,
   "id": "81fe2c63",
   "metadata": {},
   "outputs": [
    {
     "data": {
      "text/html": [
       "<div>\n",
       "<style scoped>\n",
       "    .dataframe tbody tr th:only-of-type {\n",
       "        vertical-align: middle;\n",
       "    }\n",
       "\n",
       "    .dataframe tbody tr th {\n",
       "        vertical-align: top;\n",
       "    }\n",
       "\n",
       "    .dataframe thead th {\n",
       "        text-align: right;\n",
       "    }\n",
       "</style>\n",
       "<table border=\"1\" class=\"dataframe\">\n",
       "  <thead>\n",
       "    <tr style=\"text-align: right;\">\n",
       "      <th></th>\n",
       "      <th>나이</th>\n",
       "      <th>성별</th>\n",
       "      <th>학교</th>\n",
       "    </tr>\n",
       "  </thead>\n",
       "  <tbody>\n",
       "    <tr>\n",
       "      <th>준서</th>\n",
       "      <td>15</td>\n",
       "      <td>남</td>\n",
       "      <td>수리중</td>\n",
       "    </tr>\n",
       "    <tr>\n",
       "      <th>예은</th>\n",
       "      <td>17</td>\n",
       "      <td>여</td>\n",
       "      <td>덕명중</td>\n",
       "    </tr>\n",
       "  </tbody>\n",
       "</table>\n",
       "</div>"
      ],
      "text/plain": [
       "    나이 성별   학교\n",
       "준서  15  남  수리중\n",
       "예은  17  여  덕명중"
      ]
     },
     "execution_count": 50,
     "metadata": {},
     "output_type": "execute_result"
    }
   ],
   "source": [
    "#dataframe -> index명과 cloumn명을 부여\n",
    "df = pd.DataFrame([[15,'남','수리중'],[17,'여','덕명중']],\n",
    "                 index=['준서','예은'],\n",
    "                 columns=['나이','성별','학교'])\n",
    "df"
   ]
  },
  {
   "cell_type": "code",
   "execution_count": null,
   "id": "85685b8d",
   "metadata": {},
   "outputs": [],
   "source": [
    "#새로운 행을 추가 df.loc['인덱스명'] = [값, ..]\n",
    "df.loc['철수'] = ['17','남','덕명중']\n",
    "df"
   ]
  },
  {
   "cell_type": "code",
   "execution_count": 69,
   "id": "abef0226",
   "metadata": {},
   "outputs": [
    {
     "data": {
      "text/html": [
       "<div>\n",
       "<style scoped>\n",
       "    .dataframe tbody tr th:only-of-type {\n",
       "        vertical-align: middle;\n",
       "    }\n",
       "\n",
       "    .dataframe tbody tr th {\n",
       "        vertical-align: top;\n",
       "    }\n",
       "\n",
       "    .dataframe thead th {\n",
       "        text-align: right;\n",
       "    }\n",
       "</style>\n",
       "<table border=\"1\" class=\"dataframe\">\n",
       "  <thead>\n",
       "    <tr style=\"text-align: right;\">\n",
       "      <th></th>\n",
       "      <th>연령</th>\n",
       "      <th>성별</th>\n",
       "      <th>소속</th>\n",
       "    </tr>\n",
       "  </thead>\n",
       "  <tbody>\n",
       "    <tr>\n",
       "      <th>준서</th>\n",
       "      <td>15</td>\n",
       "      <td>남</td>\n",
       "      <td>수리중</td>\n",
       "    </tr>\n",
       "    <tr>\n",
       "      <th>b</th>\n",
       "      <td>17</td>\n",
       "      <td>여</td>\n",
       "      <td>덕명중</td>\n",
       "    </tr>\n",
       "    <tr>\n",
       "      <th>c</th>\n",
       "      <td>17</td>\n",
       "      <td>남</td>\n",
       "      <td>덕명중</td>\n",
       "    </tr>\n",
       "  </tbody>\n",
       "</table>\n",
       "</div>"
      ],
      "text/plain": [
       "    연령 성별   소속\n",
       "준서  15  남  수리중\n",
       "b   17  여  덕명중\n",
       "c   17  남  덕명중"
      ]
     },
     "execution_count": 69,
     "metadata": {},
     "output_type": "execute_result"
    }
   ],
   "source": [
    "# 인덱스 명을 변경 -> 행 인덱스, 열 이름\n",
    "# 객체명.index = 새로운 인덱스명\n",
    "# 객체명.column = 새로우 컬럼명\n",
    "df.index = ['a', 'b', 'c']\n",
    "df\n",
    "df.columns = ['연령','남녀','소속']\n",
    "df\n",
    "\n",
    "# 일부 인덱스 명만 수정\n",
    "# 객체명.rename(index={기존인덱스:새로운인덱스, ,,,})\n",
    "# 객체명.rename{column={기존인덱스:새로운인덱스, ,,,})\n",
    "\n",
    "# '남녀'를 '연령'으로 컬럼 변경, a ->'준서'로 변경\n",
    "df.rename(index={'a':'준서'},columns={'남녀':'성별'}, inplace=True)\n",
    "df"
   ]
  },
  {
   "cell_type": "code",
   "execution_count": 74,
   "id": "087102ae",
   "metadata": {},
   "outputs": [
    {
     "data": {
      "text/html": [
       "<div>\n",
       "<style scoped>\n",
       "    .dataframe tbody tr th:only-of-type {\n",
       "        vertical-align: middle;\n",
       "    }\n",
       "\n",
       "    .dataframe tbody tr th {\n",
       "        vertical-align: top;\n",
       "    }\n",
       "\n",
       "    .dataframe thead th {\n",
       "        text-align: right;\n",
       "    }\n",
       "</style>\n",
       "<table border=\"1\" class=\"dataframe\">\n",
       "  <thead>\n",
       "    <tr style=\"text-align: right;\">\n",
       "      <th></th>\n",
       "      <th>연령</th>\n",
       "      <th>소속</th>\n",
       "    </tr>\n",
       "  </thead>\n",
       "  <tbody>\n",
       "    <tr>\n",
       "      <th>준서</th>\n",
       "      <td>15</td>\n",
       "      <td>수리중</td>\n",
       "    </tr>\n",
       "    <tr>\n",
       "      <th>b</th>\n",
       "      <td>17</td>\n",
       "      <td>덕명중</td>\n",
       "    </tr>\n",
       "    <tr>\n",
       "      <th>c</th>\n",
       "      <td>17</td>\n",
       "      <td>덕명중</td>\n",
       "    </tr>\n",
       "  </tbody>\n",
       "</table>\n",
       "</div>"
      ],
      "text/plain": [
       "    연령   소속\n",
       "준서  15  수리중\n",
       "b   17  덕명중\n",
       "c   17  덕명중"
      ]
     },
     "execution_count": 74,
     "metadata": {},
     "output_type": "execute_result"
    }
   ],
   "source": [
    "# 행 삭제 -> 객체.drop(행인덱스 또는 배열. axis=0)\n",
    "# 열 삭제 -> 객체.drop(열이름 또는 배열. axis=1)\n",
    "df.drop('준서', axis=0)\n",
    "df.drop('성별', axis=1) #이것도 적용시 inplace=True 필요 "
   ]
  },
  {
   "cell_type": "code",
   "execution_count": 72,
   "id": "5fe040a1",
   "metadata": {},
   "outputs": [
    {
     "data": {
      "text/html": [
       "<div>\n",
       "<style scoped>\n",
       "    .dataframe tbody tr th:only-of-type {\n",
       "        vertical-align: middle;\n",
       "    }\n",
       "\n",
       "    .dataframe tbody tr th {\n",
       "        vertical-align: top;\n",
       "    }\n",
       "\n",
       "    .dataframe thead th {\n",
       "        text-align: right;\n",
       "    }\n",
       "</style>\n",
       "<table border=\"1\" class=\"dataframe\">\n",
       "  <thead>\n",
       "    <tr style=\"text-align: right;\">\n",
       "      <th></th>\n",
       "      <th>연령</th>\n",
       "      <th>성별</th>\n",
       "      <th>소속</th>\n",
       "    </tr>\n",
       "  </thead>\n",
       "  <tbody>\n",
       "    <tr>\n",
       "      <th>준서</th>\n",
       "      <td>15</td>\n",
       "      <td>남</td>\n",
       "      <td>수리중</td>\n",
       "    </tr>\n",
       "    <tr>\n",
       "      <th>b</th>\n",
       "      <td>17</td>\n",
       "      <td>여</td>\n",
       "      <td>덕명중</td>\n",
       "    </tr>\n",
       "    <tr>\n",
       "      <th>c</th>\n",
       "      <td>17</td>\n",
       "      <td>남</td>\n",
       "      <td>덕명중</td>\n",
       "    </tr>\n",
       "  </tbody>\n",
       "</table>\n",
       "</div>"
      ],
      "text/plain": [
       "    연령 성별   소속\n",
       "준서  15  남  수리중\n",
       "b   17  여  덕명중\n",
       "c   17  남  덕명중"
      ]
     },
     "execution_count": 72,
     "metadata": {},
     "output_type": "execute_result"
    }
   ],
   "source": [
    "df"
   ]
  },
  {
   "cell_type": "code",
   "execution_count": 75,
   "id": "ad4cfcd4",
   "metadata": {},
   "outputs": [],
   "source": [
    "# 이름을 키로 국어, 영어, 수학, 과학 점수를 값으로\n",
    "# 입력 받아 리스트에 저장한 후\n",
    "# 해당 자료를 데이터 프레임으로 전환 -> 인덱스 명은 이름으로"
   ]
  },
  {
   "cell_type": "code",
   "execution_count": 92,
   "id": "b79cec53",
   "metadata": {},
   "outputs": [],
   "source": [
    "students = {}\n",
    "def create_student():\n",
    "    while True:\n",
    "        name = input(\"이름 입력 > \")\n",
    "        if name == 'q':\n",
    "            break\n",
    "        score = list(map(int, input('국어, 영어, 수학, 과학 점수 입력 > ').split()))\n",
    "        students[name] = score"
   ]
  },
  {
   "cell_type": "code",
   "execution_count": 93,
   "id": "3e3e0be3",
   "metadata": {},
   "outputs": [
    {
     "name": "stdout",
     "output_type": "stream",
     "text": [
      "이름 입력 > 박의찬\n",
      "국어, 영어, 수학, 과학 점수 입력 > 30 50 70 40\n",
      "이름 입력 > 의찬\n",
      "국어, 영어, 수학, 과학 점수 입력 > 20 59 38 39\n",
      "이름 입력 > q\n"
     ]
    }
   ],
   "source": [
    "create_student()\n"
   ]
  },
  {
   "cell_type": "code",
   "execution_count": 112,
   "id": "783264ca",
   "metadata": {},
   "outputs": [
    {
     "data": {
      "text/html": [
       "<div>\n",
       "<style scoped>\n",
       "    .dataframe tbody tr th:only-of-type {\n",
       "        vertical-align: middle;\n",
       "    }\n",
       "\n",
       "    .dataframe tbody tr th {\n",
       "        vertical-align: top;\n",
       "    }\n",
       "\n",
       "    .dataframe thead th {\n",
       "        text-align: right;\n",
       "    }\n",
       "</style>\n",
       "<table border=\"1\" class=\"dataframe\">\n",
       "  <thead>\n",
       "    <tr style=\"text-align: right;\">\n",
       "      <th></th>\n",
       "      <th>국어</th>\n",
       "      <th>영어</th>\n",
       "      <th>수학</th>\n",
       "      <th>과학</th>\n",
       "    </tr>\n",
       "  </thead>\n",
       "  <tbody>\n",
       "    <tr>\n",
       "      <th>박의찬</th>\n",
       "      <td>30</td>\n",
       "      <td>50</td>\n",
       "      <td>70</td>\n",
       "      <td>40</td>\n",
       "    </tr>\n",
       "    <tr>\n",
       "      <th>의찬</th>\n",
       "      <td>20</td>\n",
       "      <td>59</td>\n",
       "      <td>38</td>\n",
       "      <td>39</td>\n",
       "    </tr>\n",
       "  </tbody>\n",
       "</table>\n",
       "</div>"
      ],
      "text/plain": [
       "     국어  영어  수학  과학\n",
       "박의찬  30  50  70  40\n",
       "의찬   20  59  38  39"
      ]
     },
     "execution_count": 112,
     "metadata": {},
     "output_type": "execute_result"
    }
   ],
   "source": [
    "df = pd.DataFrame(students)\n",
    "df.index = ['국어', '영어', '수학','과학']\n",
    "df = df.transpose()\n",
    "df"
   ]
  },
  {
   "cell_type": "code",
   "execution_count": 111,
   "id": "b634a7c4",
   "metadata": {},
   "outputs": [
    {
     "data": {
      "text/html": [
       "<div>\n",
       "<style scoped>\n",
       "    .dataframe tbody tr th:only-of-type {\n",
       "        vertical-align: middle;\n",
       "    }\n",
       "\n",
       "    .dataframe tbody tr th {\n",
       "        vertical-align: top;\n",
       "    }\n",
       "\n",
       "    .dataframe thead th {\n",
       "        text-align: right;\n",
       "    }\n",
       "</style>\n",
       "<table border=\"1\" class=\"dataframe\">\n",
       "  <thead>\n",
       "    <tr style=\"text-align: right;\">\n",
       "      <th></th>\n",
       "      <th>0</th>\n",
       "      <th>1</th>\n",
       "      <th>2</th>\n",
       "      <th>3</th>\n",
       "    </tr>\n",
       "  </thead>\n",
       "  <tbody>\n",
       "    <tr>\n",
       "      <th>박의찬</th>\n",
       "      <td>30</td>\n",
       "      <td>50</td>\n",
       "      <td>70</td>\n",
       "      <td>40</td>\n",
       "    </tr>\n",
       "    <tr>\n",
       "      <th>의찬</th>\n",
       "      <td>20</td>\n",
       "      <td>59</td>\n",
       "      <td>38</td>\n",
       "      <td>39</td>\n",
       "    </tr>\n",
       "  </tbody>\n",
       "</table>\n",
       "</div>"
      ],
      "text/plain": [
       "      0   1   2   3\n",
       "박의찬  30  50  70  40\n",
       "의찬   20  59  38  39"
      ]
     },
     "execution_count": 111,
     "metadata": {},
     "output_type": "execute_result"
    }
   ],
   "source": [
    "df = pd.DataFrame.from_dict(students, orient='index')\n",
    "df"
   ]
  },
  {
   "cell_type": "code",
   "execution_count": 113,
   "id": "06d44488",
   "metadata": {},
   "outputs": [
    {
     "data": {
      "text/html": [
       "<div>\n",
       "<style scoped>\n",
       "    .dataframe tbody tr th:only-of-type {\n",
       "        vertical-align: middle;\n",
       "    }\n",
       "\n",
       "    .dataframe tbody tr th {\n",
       "        vertical-align: top;\n",
       "    }\n",
       "\n",
       "    .dataframe thead th {\n",
       "        text-align: right;\n",
       "    }\n",
       "</style>\n",
       "<table border=\"1\" class=\"dataframe\">\n",
       "  <thead>\n",
       "    <tr style=\"text-align: right;\">\n",
       "      <th></th>\n",
       "      <th>국어</th>\n",
       "      <th>영어</th>\n",
       "      <th>수학</th>\n",
       "      <th>과학</th>\n",
       "    </tr>\n",
       "  </thead>\n",
       "  <tbody>\n",
       "    <tr>\n",
       "      <th>박의찬</th>\n",
       "      <td>30</td>\n",
       "      <td>50</td>\n",
       "      <td>70</td>\n",
       "      <td>40</td>\n",
       "    </tr>\n",
       "    <tr>\n",
       "      <th>의찬</th>\n",
       "      <td>20</td>\n",
       "      <td>59</td>\n",
       "      <td>38</td>\n",
       "      <td>39</td>\n",
       "    </tr>\n",
       "  </tbody>\n",
       "</table>\n",
       "</div>"
      ],
      "text/plain": [
       "     국어  영어  수학  과학\n",
       "박의찬  30  50  70  40\n",
       "의찬   20  59  38  39"
      ]
     },
     "execution_count": 113,
     "metadata": {},
     "output_type": "execute_result"
    }
   ],
   "source": [
    "df1 =df[:]\n",
    "df1"
   ]
  },
  {
   "cell_type": "code",
   "execution_count": 115,
   "id": "ca04f2e5",
   "metadata": {},
   "outputs": [],
   "source": [
    "a=[1,2,3,4]\n",
    "b=a.copy()"
   ]
  },
  {
   "cell_type": "code",
   "execution_count": 122,
   "id": "6717938f",
   "metadata": {},
   "outputs": [
    {
     "data": {
      "text/html": [
       "<div>\n",
       "<style scoped>\n",
       "    .dataframe tbody tr th:only-of-type {\n",
       "        vertical-align: middle;\n",
       "    }\n",
       "\n",
       "    .dataframe tbody tr th {\n",
       "        vertical-align: top;\n",
       "    }\n",
       "\n",
       "    .dataframe thead th {\n",
       "        text-align: right;\n",
       "    }\n",
       "</style>\n",
       "<table border=\"1\" class=\"dataframe\">\n",
       "  <thead>\n",
       "    <tr style=\"text-align: right;\">\n",
       "      <th></th>\n",
       "      <th>수학</th>\n",
       "      <th>영어</th>\n",
       "      <th>음악</th>\n",
       "      <th>체육</th>\n",
       "    </tr>\n",
       "  </thead>\n",
       "  <tbody>\n",
       "    <tr>\n",
       "      <th>서준</th>\n",
       "      <td>90</td>\n",
       "      <td>38</td>\n",
       "      <td>37</td>\n",
       "      <td>37</td>\n",
       "    </tr>\n",
       "    <tr>\n",
       "      <th>우현</th>\n",
       "      <td>49</td>\n",
       "      <td>42</td>\n",
       "      <td>22</td>\n",
       "      <td>66</td>\n",
       "    </tr>\n",
       "    <tr>\n",
       "      <th>인아</th>\n",
       "      <td>48</td>\n",
       "      <td>66</td>\n",
       "      <td>62</td>\n",
       "      <td>88</td>\n",
       "    </tr>\n",
       "  </tbody>\n",
       "</table>\n",
       "</div>"
      ],
      "text/plain": [
       "    수학  영어  음악  체육\n",
       "서준  90  38  37  37\n",
       "우현  49  42  22  66\n",
       "인아  48  66  62  88"
      ]
     },
     "execution_count": 122,
     "metadata": {},
     "output_type": "execute_result"
    }
   ],
   "source": [
    "# 데이터프레임 원소 선택\n",
    "exam_data = {'수학':[90,49,48],'영어':[38,42,66],'음악':[37,22,62],'체육':[37,66,88]}\n",
    "df_exam = pd.DataFrame(exam_data, index=['서준','우현','인아'])\n",
    "df_exam"
   ]
  },
  {
   "cell_type": "code",
   "execution_count": 124,
   "id": "3aa19a4c",
   "metadata": {},
   "outputs": [
    {
     "name": "stdout",
     "output_type": "stream",
     "text": [
      "수학    90\n",
      "영어    38\n",
      "음악    37\n",
      "체육    37\n",
      "Name: 서준, dtype: int64\n",
      "수학    90\n",
      "영어    38\n",
      "음악    37\n",
      "체육    37\n",
      "Name: 서준, dtype: int64\n",
      "    수학  영어  음악  체육\n",
      "서준  90  38  37  37\n",
      "우현  49  42  22  66\n",
      "    수학  영어  음악  체육\n",
      "서준  90  38  37  37\n",
      "우현  49  42  22  66\n",
      "    수학  영어  음악  체육\n",
      "서준  90  38  37  37\n"
     ]
    }
   ],
   "source": [
    "# 행 인덱스(이름)를 사용하여 1개 행 선택('서준')\n",
    "print(df_exam.loc['서준'])\n",
    "# 행 인덱스(정수)를 사용하여 1개 행 선택(0행)\n",
    "print(df_exam.iloc[0])\n",
    "\n",
    "# 두개의 행 을 선택'서준','우현'\n",
    "print(df_exam.loc[['서준','우현']])\n",
    "print(df_exam.iloc[[0,1]]) \n",
    "print(df_exam.iloc[0:1]) #1은 포함 안함"
   ]
  },
  {
   "cell_type": "code",
   "execution_count": 129,
   "id": "9508a654",
   "metadata": {},
   "outputs": [
    {
     "name": "stdout",
     "output_type": "stream",
     "text": [
      "서준    90\n",
      "우현    49\n",
      "인아    48\n",
      "Name: 수학, dtype: int64 \n",
      " 서준    38\n",
      "우현    42\n",
      "인아    66\n",
      "Name: 영어, dtype: int64\n",
      "    수학  음악\n",
      "서준  90  37\n",
      "우현  49  22\n",
      "인아  48  62\n"
     ]
    }
   ],
   "source": [
    "#컬럼(열)을 선택: df.컬럼명 or df['컬럼명']\n",
    "print(df_exam.수학, '\\n', df_exam['영어'])\n",
    "print(df_exam[ ['수학','음악'] ])"
   ]
  },
  {
   "cell_type": "code",
   "execution_count": 132,
   "id": "bf4a9d8b",
   "metadata": {},
   "outputs": [
    {
     "name": "stdout",
     "output_type": "stream",
     "text": [
      "    수학  영어  음악  체육\n",
      "서준  90  38  37  37\n",
      "우현  49  42  22  66\n",
      "인아  48  66  62  88\n",
      "    수학  영어  음악  체육\n",
      "인아  48  66  62  88\n",
      "우현  49  42  22  66\n",
      "서준  90  38  37  37\n"
     ]
    },
    {
     "data": {
      "text/html": [
       "<div>\n",
       "<style scoped>\n",
       "    .dataframe tbody tr th:only-of-type {\n",
       "        vertical-align: middle;\n",
       "    }\n",
       "\n",
       "    .dataframe tbody tr th {\n",
       "        vertical-align: top;\n",
       "    }\n",
       "\n",
       "    .dataframe thead th {\n",
       "        text-align: right;\n",
       "    }\n",
       "</style>\n",
       "<table border=\"1\" class=\"dataframe\">\n",
       "  <thead>\n",
       "    <tr style=\"text-align: right;\">\n",
       "      <th></th>\n",
       "      <th>수학</th>\n",
       "      <th>영어</th>\n",
       "      <th>음악</th>\n",
       "      <th>체육</th>\n",
       "    </tr>\n",
       "  </thead>\n",
       "  <tbody>\n",
       "    <tr>\n",
       "      <th>서준</th>\n",
       "      <td>90</td>\n",
       "      <td>38</td>\n",
       "      <td>37</td>\n",
       "      <td>37</td>\n",
       "    </tr>\n",
       "    <tr>\n",
       "      <th>인아</th>\n",
       "      <td>48</td>\n",
       "      <td>66</td>\n",
       "      <td>62</td>\n",
       "      <td>88</td>\n",
       "    </tr>\n",
       "  </tbody>\n",
       "</table>\n",
       "</div>"
      ],
      "text/plain": [
       "    수학  영어  음악  체육\n",
       "서준  90  38  37  37\n",
       "인아  48  66  62  88"
      ]
     },
     "execution_count": 132,
     "metadata": {},
     "output_type": "execute_result"
    }
   ],
   "source": [
    "#범위 슬라이싱 : 객체.iloc[start : end : step]\n",
    "print(df_exam.iloc[0:3:1])\n",
    "print(df_exam.iloc[::-1])\n",
    "df_exam.iloc[::2]"
   ]
  },
  {
   "cell_type": "code",
   "execution_count": 160,
   "id": "bcf52901",
   "metadata": {},
   "outputs": [
    {
     "name": "stdout",
     "output_type": "stream",
     "text": [
      "38 38\n",
      "\n",
      "    영어  음악\n",
      "서준  38  37\n",
      "인아  66  62\n",
      "\n",
      "    수학  영어  음악\n",
      "서준  90  38  37\n",
      "우현  49  42  22\n",
      "인아  48  66  62\n",
      "\n",
      "    수학  체육\n",
      "서준  90  37\n",
      "\n",
      "수학    90\n",
      "체육    37\n",
      "Name: 서준, dtype: int64\n"
     ]
    },
    {
     "data": {
      "text/html": [
       "<div>\n",
       "<style scoped>\n",
       "    .dataframe tbody tr th:only-of-type {\n",
       "        vertical-align: middle;\n",
       "    }\n",
       "\n",
       "    .dataframe tbody tr th {\n",
       "        vertical-align: top;\n",
       "    }\n",
       "\n",
       "    .dataframe thead th {\n",
       "        text-align: right;\n",
       "    }\n",
       "</style>\n",
       "<table border=\"1\" class=\"dataframe\">\n",
       "  <thead>\n",
       "    <tr style=\"text-align: right;\">\n",
       "      <th></th>\n",
       "      <th>수학</th>\n",
       "      <th>영어</th>\n",
       "      <th>음악</th>\n",
       "      <th>체육</th>\n",
       "      <th>국어</th>\n",
       "    </tr>\n",
       "  </thead>\n",
       "  <tbody>\n",
       "    <tr>\n",
       "      <th>서준</th>\n",
       "      <td>90</td>\n",
       "      <td>38</td>\n",
       "      <td>37</td>\n",
       "      <td>37</td>\n",
       "      <td>100</td>\n",
       "    </tr>\n",
       "    <tr>\n",
       "      <th>우현</th>\n",
       "      <td>49</td>\n",
       "      <td>42</td>\n",
       "      <td>22</td>\n",
       "      <td>66</td>\n",
       "      <td>29</td>\n",
       "    </tr>\n",
       "    <tr>\n",
       "      <th>인아</th>\n",
       "      <td>48</td>\n",
       "      <td>66</td>\n",
       "      <td>62</td>\n",
       "      <td>88</td>\n",
       "      <td>49</td>\n",
       "    </tr>\n",
       "    <tr>\n",
       "      <th>철수</th>\n",
       "      <td>80</td>\n",
       "      <td>70</td>\n",
       "      <td>40</td>\n",
       "      <td>80</td>\n",
       "      <td>30</td>\n",
       "    </tr>\n",
       "  </tbody>\n",
       "</table>\n",
       "</div>"
      ],
      "text/plain": [
       "    수학  영어  음악  체육   국어\n",
       "서준  90  38  37  37  100\n",
       "우현  49  42  22  66   29\n",
       "인아  48  66  62  88   49\n",
       "철수  80  70  40  80   30"
      ]
     },
     "execution_count": 160,
     "metadata": {},
     "output_type": "execute_result"
    }
   ],
   "source": [
    "# 데이터프레임의 각 원소를 선택\n",
    "# 인덱스 이름 : 데이터프레임 객체.loc[행 인덱스명,컬럼명]\n",
    "# 정수 위치 인덱스 : 데이터프레임 객체.iloc[행번호,열번호]\n",
    "# 서준의 영어 점수를 출력\n",
    "print(df_exam.loc['서준','영어'], df_exam.iloc[0,1])\n",
    "print()\n",
    "#서준과 인아의 영어 음악 점수를 출력\n",
    "print(df_exam.loc[['서준','인아'],['영어','음악']])\n",
    "print()\n",
    "#서준부터 인아까지  수학부터 음악까지 출력\n",
    "print(df_exam.loc['서준':'인아','수학':'음악'])\n",
    "print()\n",
    "#서준의 수학과 체육 점수만 출력\n",
    "print(df_exam.loc[['서준'],['수학','체육']]) # dataframe\n",
    "print()\n",
    "print(df_exam.loc['서준',['수학','체육']])   # series\n",
    "df_exam\n"
   ]
  },
  {
   "cell_type": "code",
   "execution_count": 161,
   "id": "7b853e98",
   "metadata": {},
   "outputs": [],
   "source": [
    "#철수 추가\n",
    "#df_exam.loc['철수'] = [80,70,40,80]\n",
    "#df_exam"
   ]
  },
  {
   "cell_type": "code",
   "execution_count": 162,
   "id": "3f199738",
   "metadata": {},
   "outputs": [
    {
     "data": {
      "text/html": [
       "<div>\n",
       "<style scoped>\n",
       "    .dataframe tbody tr th:only-of-type {\n",
       "        vertical-align: middle;\n",
       "    }\n",
       "\n",
       "    .dataframe tbody tr th {\n",
       "        vertical-align: top;\n",
       "    }\n",
       "\n",
       "    .dataframe thead th {\n",
       "        text-align: right;\n",
       "    }\n",
       "</style>\n",
       "<table border=\"1\" class=\"dataframe\">\n",
       "  <thead>\n",
       "    <tr style=\"text-align: right;\">\n",
       "      <th></th>\n",
       "      <th>수학</th>\n",
       "      <th>영어</th>\n",
       "      <th>음악</th>\n",
       "      <th>체육</th>\n",
       "      <th>국어</th>\n",
       "    </tr>\n",
       "  </thead>\n",
       "  <tbody>\n",
       "    <tr>\n",
       "      <th>서준</th>\n",
       "      <td>90</td>\n",
       "      <td>38</td>\n",
       "      <td>37</td>\n",
       "      <td>37</td>\n",
       "      <td>100</td>\n",
       "    </tr>\n",
       "    <tr>\n",
       "      <th>우현</th>\n",
       "      <td>49</td>\n",
       "      <td>42</td>\n",
       "      <td>22</td>\n",
       "      <td>66</td>\n",
       "      <td>29</td>\n",
       "    </tr>\n",
       "    <tr>\n",
       "      <th>인아</th>\n",
       "      <td>48</td>\n",
       "      <td>66</td>\n",
       "      <td>62</td>\n",
       "      <td>88</td>\n",
       "      <td>49</td>\n",
       "    </tr>\n",
       "    <tr>\n",
       "      <th>철수</th>\n",
       "      <td>80</td>\n",
       "      <td>70</td>\n",
       "      <td>40</td>\n",
       "      <td>80</td>\n",
       "      <td>30</td>\n",
       "    </tr>\n",
       "  </tbody>\n",
       "</table>\n",
       "</div>"
      ],
      "text/plain": [
       "    수학  영어  음악  체육   국어\n",
       "서준  90  38  37  37  100\n",
       "우현  49  42  22  66   29\n",
       "인아  48  66  62  88   49\n",
       "철수  80  70  40  80   30"
      ]
     },
     "execution_count": 162,
     "metadata": {},
     "output_type": "execute_result"
    }
   ],
   "source": [
    "# 새로운 열 추가\n",
    "df_exam['국어'] = [100,29,49,30]\n",
    "df_exam\n"
   ]
  },
  {
   "cell_type": "code",
   "execution_count": 167,
   "id": "a98dcc22",
   "metadata": {},
   "outputs": [
    {
     "data": {
      "text/html": [
       "<div>\n",
       "<style scoped>\n",
       "    .dataframe tbody tr th:only-of-type {\n",
       "        vertical-align: middle;\n",
       "    }\n",
       "\n",
       "    .dataframe tbody tr th {\n",
       "        vertical-align: top;\n",
       "    }\n",
       "\n",
       "    .dataframe thead th {\n",
       "        text-align: right;\n",
       "    }\n",
       "</style>\n",
       "<table border=\"1\" class=\"dataframe\">\n",
       "  <thead>\n",
       "    <tr style=\"text-align: right;\">\n",
       "      <th></th>\n",
       "      <th>수학</th>\n",
       "      <th>영어</th>\n",
       "      <th>음악</th>\n",
       "      <th>체육</th>\n",
       "      <th>국어</th>\n",
       "    </tr>\n",
       "  </thead>\n",
       "  <tbody>\n",
       "    <tr>\n",
       "      <th>서준</th>\n",
       "      <td>90</td>\n",
       "      <td>38</td>\n",
       "      <td>37</td>\n",
       "      <td>37</td>\n",
       "      <td>100</td>\n",
       "    </tr>\n",
       "    <tr>\n",
       "      <th>우현</th>\n",
       "      <td>49</td>\n",
       "      <td>42</td>\n",
       "      <td>22</td>\n",
       "      <td>66</td>\n",
       "      <td>29</td>\n",
       "    </tr>\n",
       "    <tr>\n",
       "      <th>인아</th>\n",
       "      <td>48</td>\n",
       "      <td>66</td>\n",
       "      <td>62</td>\n",
       "      <td>88</td>\n",
       "      <td>49</td>\n",
       "    </tr>\n",
       "    <tr>\n",
       "      <th>철수</th>\n",
       "      <td>80</td>\n",
       "      <td>70</td>\n",
       "      <td>40</td>\n",
       "      <td>80</td>\n",
       "      <td>30</td>\n",
       "    </tr>\n",
       "    <tr>\n",
       "      <th>추가</th>\n",
       "      <td>90</td>\n",
       "      <td>38</td>\n",
       "      <td>37</td>\n",
       "      <td>37</td>\n",
       "      <td>100</td>\n",
       "    </tr>\n",
       "  </tbody>\n",
       "</table>\n",
       "</div>"
      ],
      "text/plain": [
       "    수학  영어  음악  체육   국어\n",
       "서준  90  38  37  37  100\n",
       "우현  49  42  22  66   29\n",
       "인아  48  66  62  88   49\n",
       "철수  80  70  40  80   30\n",
       "추가  90  38  37  37  100"
      ]
     },
     "execution_count": 167,
     "metadata": {},
     "output_type": "execute_result"
    }
   ],
   "source": [
    "# 기존의 행을 복사해서 추가\n",
    "df_exam.loc['추가']=df_exam.loc['서준']\n",
    "df_exam"
   ]
  },
  {
   "cell_type": "code",
   "execution_count": 250,
   "id": "4d989f11",
   "metadata": {},
   "outputs": [
    {
     "data": {
      "text/html": [
       "<div>\n",
       "<style scoped>\n",
       "    .dataframe tbody tr th:only-of-type {\n",
       "        vertical-align: middle;\n",
       "    }\n",
       "\n",
       "    .dataframe tbody tr th {\n",
       "        vertical-align: top;\n",
       "    }\n",
       "\n",
       "    .dataframe thead th {\n",
       "        text-align: right;\n",
       "    }\n",
       "</style>\n",
       "<table border=\"1\" class=\"dataframe\">\n",
       "  <thead>\n",
       "    <tr style=\"text-align: right;\">\n",
       "      <th></th>\n",
       "      <th>kor</th>\n",
       "      <th>eng</th>\n",
       "      <th>math</th>\n",
       "    </tr>\n",
       "  </thead>\n",
       "  <tbody>\n",
       "  </tbody>\n",
       "</table>\n",
       "</div>"
      ],
      "text/plain": [
       "Empty DataFrame\n",
       "Columns: [kor, eng, math]\n",
       "Index: []"
      ]
     },
     "execution_count": 250,
     "metadata": {},
     "output_type": "execute_result"
    }
   ],
   "source": [
    "df = pd.DataFrame(columns=['kor','eng','math'])\n",
    "df\n"
   ]
  },
  {
   "cell_type": "code",
   "execution_count": 251,
   "id": "9ddb9866",
   "metadata": {},
   "outputs": [],
   "source": [
    "#df_exam.loc['철수'] = [80,70,40,80]\n",
    "def Create_score():\n",
    "    while True:\n",
    "        name = input(\"이름 입력 > \")\n",
    "        if name == 'q':\n",
    "            break\n",
    "        score = list(map(int, input(\"국어 영어 수학 점수 입력 > \").split()))\n",
    "        # if len(score) != 3 or score.isdigit\n",
    "        df.loc[name] = score[:]\n"
   ]
  },
  {
   "cell_type": "code",
   "execution_count": 252,
   "id": "7d55651c",
   "metadata": {},
   "outputs": [],
   "source": [
    "def Search_score():\n",
    "    while True:\n",
    "        search = input(\"검색할 이름 입력 > \")\n",
    "        if search == 'q':\n",
    "            break\n",
    "        if search in df.index:\n",
    "            print(df.loc[search])\n",
    "        else:\n",
    "            print(\"자료 없음\")"
   ]
  },
  {
   "cell_type": "code",
   "execution_count": 253,
   "id": "2764d1ae",
   "metadata": {},
   "outputs": [],
   "source": [
    "def Search_title():\n",
    "     while True:\n",
    "        search = input(\"검색할 이름과 과목을 입력 > \").split()\n",
    "        if search[0] == 'q':\n",
    "            break\n",
    "        if search[0] in df.index:\n",
    "            if search[1] in df.columns:\n",
    "                print(\"검색한 \",search[0],\"의 \",search[1],\"성적은 \",df.loc[search[0],search[1]],\"입니다.\")\n",
    "            else:\n",
    "                print(\"과목 자료 없음\")\n",
    "        else:\n",
    "            print(\"이름 자료 없음\")"
   ]
  },
  {
   "cell_type": "code",
   "execution_count": 254,
   "id": "36c1e114",
   "metadata": {},
   "outputs": [],
   "source": [
    "def Add_score():\n",
    "    while True:\n",
    "        name = input(\"추가할 이름 입력 > \")\n",
    "        if name == 'q':\n",
    "            break\n",
    "        score = list(map(int, input(\"국어 영어 수학 점수 입력 > \").split()))\n",
    "        df.loc[name] = score[:]\n",
    "        print(df)"
   ]
  },
  {
   "cell_type": "code",
   "execution_count": 255,
   "id": "0dd892cf",
   "metadata": {},
   "outputs": [
    {
     "name": "stdout",
     "output_type": "stream",
     "text": [
      "이름 입력 > 박의찬\n",
      "국어 영어 수학 점수 입력 > 30 50 20\n",
      "이름 입력 > q\n",
      "검색할 이름 입력 > 으찬\n",
      "자료 없음\n",
      "검색할 이름 입력 > 박의찬\n",
      "kor     30\n",
      "eng     50\n",
      "math    20\n",
      "Name: 박의찬, dtype: object\n",
      "검색할 이름 입력 > q\n",
      "검색할 이름과 과목을 입력 > 의찬 math\n",
      "이름 자료 없음\n",
      "검색할 이름과 과목을 입력 > 박의찬 fff\n",
      "과목 자료 없음\n",
      "검색할 이름과 과목을 입력 > 박의찬 math\n",
      "검색한  박의찬 의  math 성적은  20 입니다.\n",
      "검색할 이름과 과목을 입력 > q\n",
      "추가할 이름 입력 > 송석현\n",
      "국어 영어 수학 점수 입력 > 40 50 30\n",
      "    kor eng math\n",
      "박의찬  30  50   20\n",
      "송석현  40  50   30\n",
      "추가할 이름 입력 > q\n"
     ]
    },
    {
     "data": {
      "text/html": [
       "<div>\n",
       "<style scoped>\n",
       "    .dataframe tbody tr th:only-of-type {\n",
       "        vertical-align: middle;\n",
       "    }\n",
       "\n",
       "    .dataframe tbody tr th {\n",
       "        vertical-align: top;\n",
       "    }\n",
       "\n",
       "    .dataframe thead th {\n",
       "        text-align: right;\n",
       "    }\n",
       "</style>\n",
       "<table border=\"1\" class=\"dataframe\">\n",
       "  <thead>\n",
       "    <tr style=\"text-align: right;\">\n",
       "      <th></th>\n",
       "      <th>kor</th>\n",
       "      <th>eng</th>\n",
       "      <th>math</th>\n",
       "    </tr>\n",
       "  </thead>\n",
       "  <tbody>\n",
       "    <tr>\n",
       "      <th>박의찬</th>\n",
       "      <td>30</td>\n",
       "      <td>50</td>\n",
       "      <td>20</td>\n",
       "    </tr>\n",
       "    <tr>\n",
       "      <th>송석현</th>\n",
       "      <td>40</td>\n",
       "      <td>50</td>\n",
       "      <td>30</td>\n",
       "    </tr>\n",
       "  </tbody>\n",
       "</table>\n",
       "</div>"
      ],
      "text/plain": [
       "    kor eng math\n",
       "박의찬  30  50   20\n",
       "송석현  40  50   30"
      ]
     },
     "execution_count": 255,
     "metadata": {},
     "output_type": "execute_result"
    }
   ],
   "source": [
    "Create_score()\n",
    "Search_score()\n",
    "Search_title()\n",
    "Add_score()\n",
    "df"
   ]
  },
  {
   "cell_type": "code",
   "execution_count": 257,
   "id": "f1e76a13",
   "metadata": {},
   "outputs": [
    {
     "data": {
      "text/html": [
       "<div>\n",
       "<style scoped>\n",
       "    .dataframe tbody tr th:only-of-type {\n",
       "        vertical-align: middle;\n",
       "    }\n",
       "\n",
       "    .dataframe tbody tr th {\n",
       "        vertical-align: top;\n",
       "    }\n",
       "\n",
       "    .dataframe thead th {\n",
       "        text-align: right;\n",
       "    }\n",
       "</style>\n",
       "<table border=\"1\" class=\"dataframe\">\n",
       "  <thead>\n",
       "    <tr style=\"text-align: right;\">\n",
       "      <th></th>\n",
       "      <th>kor</th>\n",
       "      <th>eng</th>\n",
       "      <th>math</th>\n",
       "    </tr>\n",
       "  </thead>\n",
       "  <tbody>\n",
       "    <tr>\n",
       "      <th>박의찬</th>\n",
       "      <td>30</td>\n",
       "      <td>50</td>\n",
       "      <td>20</td>\n",
       "    </tr>\n",
       "    <tr>\n",
       "      <th>송석현</th>\n",
       "      <td>40</td>\n",
       "      <td>50</td>\n",
       "      <td>30</td>\n",
       "    </tr>\n",
       "  </tbody>\n",
       "</table>\n",
       "</div>"
      ],
      "text/plain": [
       "    kor eng math\n",
       "박의찬  30  50   20\n",
       "송석현  40  50   30"
      ]
     },
     "execution_count": 257,
     "metadata": {},
     "output_type": "execute_result"
    }
   ],
   "source": [
    "df\n"
   ]
  },
  {
   "cell_type": "code",
   "execution_count": 259,
   "id": "d8cfaae2",
   "metadata": {},
   "outputs": [],
   "source": [
    "def Retouch():\n",
    "     while True:\n",
    "        search = input(\"수정할분의 이름과 과목을 입력 > \").split()\n",
    "        if search[0] == 'q':\n",
    "            break\n",
    "        if search[0] in df.index:\n",
    "            if search[1] in df.columns:\n",
    "                print(\"수정할 \",search[0],\"의 \",search[1],\"성적은 \",df.loc[search[0],search[1]],\"입니다.\")\n",
    "                score = int(input(\"새로운 점수를 입력하세요 > \"))\n",
    "                df.loc[search[0],search[1]] = score\n",
    "            else:\n",
    "                print(\"과목 자료 없음\")\n",
    "        else:\n",
    "            print(\"이름 자료 없음\")\n",
    "        "
   ]
  },
  {
   "cell_type": "code",
   "execution_count": 261,
   "id": "f3b67360",
   "metadata": {},
   "outputs": [
    {
     "name": "stdout",
     "output_type": "stream",
     "text": [
      "수정할분의 이름과 과목을 입력 > 박의찬 math\n",
      "수정할  박의찬 의  math 성적은  20 입니다.\n",
      "새로운 점수를 입력하세요 > 100\n",
      "수정할분의 이름과 과목을 입력 > q\n"
     ]
    }
   ],
   "source": [
    "Retouch()"
   ]
  },
  {
   "cell_type": "code",
   "execution_count": 262,
   "id": "90849fcd",
   "metadata": {},
   "outputs": [
    {
     "data": {
      "text/html": [
       "<div>\n",
       "<style scoped>\n",
       "    .dataframe tbody tr th:only-of-type {\n",
       "        vertical-align: middle;\n",
       "    }\n",
       "\n",
       "    .dataframe tbody tr th {\n",
       "        vertical-align: top;\n",
       "    }\n",
       "\n",
       "    .dataframe thead th {\n",
       "        text-align: right;\n",
       "    }\n",
       "</style>\n",
       "<table border=\"1\" class=\"dataframe\">\n",
       "  <thead>\n",
       "    <tr style=\"text-align: right;\">\n",
       "      <th></th>\n",
       "      <th>kor</th>\n",
       "      <th>eng</th>\n",
       "      <th>math</th>\n",
       "    </tr>\n",
       "  </thead>\n",
       "  <tbody>\n",
       "    <tr>\n",
       "      <th>박의찬</th>\n",
       "      <td>30</td>\n",
       "      <td>50</td>\n",
       "      <td>100</td>\n",
       "    </tr>\n",
       "    <tr>\n",
       "      <th>송석현</th>\n",
       "      <td>40</td>\n",
       "      <td>50</td>\n",
       "      <td>30</td>\n",
       "    </tr>\n",
       "  </tbody>\n",
       "</table>\n",
       "</div>"
      ],
      "text/plain": [
       "    kor eng math\n",
       "박의찬  30  50  100\n",
       "송석현  40  50   30"
      ]
     },
     "execution_count": 262,
     "metadata": {},
     "output_type": "execute_result"
    }
   ],
   "source": [
    "df"
   ]
  },
  {
   "cell_type": "code",
   "execution_count": null,
   "id": "88d9045c",
   "metadata": {},
   "outputs": [],
   "source": []
  }
 ],
 "metadata": {
  "kernelspec": {
   "display_name": "Python 3 (ipykernel)",
   "language": "python",
   "name": "python3"
  },
  "language_info": {
   "codemirror_mode": {
    "name": "ipython",
    "version": 3
   },
   "file_extension": ".py",
   "mimetype": "text/x-python",
   "name": "python",
   "nbconvert_exporter": "python",
   "pygments_lexer": "ipython3",
   "version": "3.9.7"
  }
 },
 "nbformat": 4,
 "nbformat_minor": 5
}
