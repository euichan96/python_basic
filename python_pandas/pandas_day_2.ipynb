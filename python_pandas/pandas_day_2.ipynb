{
 "cells": [
  {
   "cell_type": "code",
   "execution_count": 8,
   "id": "497ad574",
   "metadata": {},
   "outputs": [],
   "source": [
    "#데이터프레임 의 행과 열을 바꿈 : 전치행렬\n",
    "import pandas as pd"
   ]
  },
  {
   "cell_type": "code",
   "execution_count": 11,
   "id": "207c092a",
   "metadata": {},
   "outputs": [
    {
     "name": "stdout",
     "output_type": "stream",
     "text": [
      "    수학  영어  국어\n",
      "이름            \n",
      "서준  90  94  39\n",
      "우현  80  35  50\n",
      "인아  70  62  59\n"
     ]
    }
   ],
   "source": [
    "exam_data = {'이름':['서준','우현','인아'],'수학':[90,80,70],'영어':[94,35,62],'국어':[39,50,59]}\n",
    "df = pd.DataFrame(exam_data)\n",
    "\n",
    "df.set_index('이름',inplace=True)\n",
    "print(df)"
   ]
  },
  {
   "cell_type": "code",
   "execution_count": 12,
   "id": "4e2b0310",
   "metadata": {},
   "outputs": [
    {
     "name": "stdout",
     "output_type": "stream",
     "text": [
      "이름  서준  우현  인아\n",
      "수학  90  80  70\n",
      "영어  94  35  62\n",
      "국어  39  50  59\n"
     ]
    }
   ],
   "source": [
    "df=df.T\n",
    "print(df)"
   ]
  },
  {
   "cell_type": "code",
   "execution_count": 38,
   "id": "2793655b",
   "metadata": {},
   "outputs": [
    {
     "data": {
      "text/html": [
       "<div>\n",
       "<style scoped>\n",
       "    .dataframe tbody tr th:only-of-type {\n",
       "        vertical-align: middle;\n",
       "    }\n",
       "\n",
       "    .dataframe tbody tr th {\n",
       "        vertical-align: top;\n",
       "    }\n",
       "\n",
       "    .dataframe thead th {\n",
       "        text-align: right;\n",
       "    }\n",
       "</style>\n",
       "<table border=\"1\" class=\"dataframe\">\n",
       "  <thead>\n",
       "    <tr style=\"text-align: right;\">\n",
       "      <th></th>\n",
       "      <th>c0</th>\n",
       "      <th>c1</th>\n",
       "      <th>c2</th>\n",
       "      <th>c3</th>\n",
       "    </tr>\n",
       "  </thead>\n",
       "  <tbody>\n",
       "    <tr>\n",
       "      <th>r1</th>\n",
       "      <td>1</td>\n",
       "      <td>4</td>\n",
       "      <td>7</td>\n",
       "      <td>10</td>\n",
       "    </tr>\n",
       "    <tr>\n",
       "      <th>r2</th>\n",
       "      <td>2</td>\n",
       "      <td>5</td>\n",
       "      <td>8</td>\n",
       "      <td>11</td>\n",
       "    </tr>\n",
       "    <tr>\n",
       "      <th>r3</th>\n",
       "      <td>3</td>\n",
       "      <td>6</td>\n",
       "      <td>9</td>\n",
       "      <td>12</td>\n",
       "    </tr>\n",
       "  </tbody>\n",
       "</table>\n",
       "</div>"
      ],
      "text/plain": [
       "    c0  c1  c2  c3\n",
       "r1   1   4   7  10\n",
       "r2   2   5   8  11\n",
       "r3   3   6   9  12"
      ]
     },
     "execution_count": 38,
     "metadata": {},
     "output_type": "execute_result"
    }
   ],
   "source": [
    "#reindex(새로운 인덱스 배열) : 기존의 자료변경 안함, 새로운 데이터프레임 반환\n",
    "dict_data={'c0':[1,2,3],'c1':[4,5,6],'c2':[7,8,9],'c3':[10,11,12]}\n",
    "df = pd.DataFrame(dict_data, index=['r1','r2','r3'])\n",
    "df"
   ]
  },
  {
   "cell_type": "code",
   "execution_count": 39,
   "id": "7ba0db02",
   "metadata": {},
   "outputs": [
    {
     "name": "stdout",
     "output_type": "stream",
     "text": [
      "     c0   c1   c2    c3\n",
      "r0  NaN  NaN  NaN   NaN\n",
      "r1  1.0  4.0  7.0  10.0\n",
      "r2  2.0  5.0  8.0  11.0\n",
      "r3  3.0  6.0  9.0  12.0\n",
      "r4  NaN  NaN  NaN   NaN\n"
     ]
    },
    {
     "data": {
      "text/html": [
       "<div>\n",
       "<style scoped>\n",
       "    .dataframe tbody tr th:only-of-type {\n",
       "        vertical-align: middle;\n",
       "    }\n",
       "\n",
       "    .dataframe tbody tr th {\n",
       "        vertical-align: top;\n",
       "    }\n",
       "\n",
       "    .dataframe thead th {\n",
       "        text-align: right;\n",
       "    }\n",
       "</style>\n",
       "<table border=\"1\" class=\"dataframe\">\n",
       "  <thead>\n",
       "    <tr style=\"text-align: right;\">\n",
       "      <th></th>\n",
       "      <th>c0</th>\n",
       "      <th>c1</th>\n",
       "      <th>c2</th>\n",
       "      <th>c3</th>\n",
       "    </tr>\n",
       "  </thead>\n",
       "  <tbody>\n",
       "    <tr>\n",
       "      <th>r0</th>\n",
       "      <td>1.0</td>\n",
       "      <td>4.0</td>\n",
       "      <td>7.0</td>\n",
       "      <td>10.0</td>\n",
       "    </tr>\n",
       "    <tr>\n",
       "      <th>r1</th>\n",
       "      <td>1.0</td>\n",
       "      <td>4.0</td>\n",
       "      <td>7.0</td>\n",
       "      <td>10.0</td>\n",
       "    </tr>\n",
       "    <tr>\n",
       "      <th>r2</th>\n",
       "      <td>2.0</td>\n",
       "      <td>5.0</td>\n",
       "      <td>8.0</td>\n",
       "      <td>11.0</td>\n",
       "    </tr>\n",
       "    <tr>\n",
       "      <th>r3</th>\n",
       "      <td>3.0</td>\n",
       "      <td>6.0</td>\n",
       "      <td>9.0</td>\n",
       "      <td>12.0</td>\n",
       "    </tr>\n",
       "    <tr>\n",
       "      <th>r4</th>\n",
       "      <td>NaN</td>\n",
       "      <td>NaN</td>\n",
       "      <td>NaN</td>\n",
       "      <td>NaN</td>\n",
       "    </tr>\n",
       "  </tbody>\n",
       "</table>\n",
       "</div>"
      ],
      "text/plain": [
       "     c0   c1   c2    c3\n",
       "r0  1.0  4.0  7.0  10.0\n",
       "r1  1.0  4.0  7.0  10.0\n",
       "r2  2.0  5.0  8.0  11.0\n",
       "r3  3.0  6.0  9.0  12.0\n",
       "r4  NaN  NaN  NaN   NaN"
      ]
     },
     "execution_count": 39,
     "metadata": {},
     "output_type": "execute_result"
    }
   ],
   "source": [
    "#index를 ['r0', 'r1, 'r2' , 'r3', 'r4']\n",
    "new_index = ['r0', 'r1', 'r2' , 'r3', 'r4']\n",
    "ndf = df.reindex(new_index) # 존재하지 않는 인덱의 값은 Nan으로 채워 줌\n",
    "print(ndf)\n",
    "\n",
    "# 존재하지 않는 인덱의 값은 0로 채워 줌\n",
    "ndf1 = df.reindex(new_index, fill_value=0) \n",
    "ndf1\n",
    "\n",
    "# method : ffill 이전자료 복사, bfill: 이후자료 복사\n",
    "ndf2 = df.reindex(new_index, method='bfill') \n",
    "ndf2"
   ]
  },
  {
   "cell_type": "code",
   "execution_count": 40,
   "id": "cb0d65ac",
   "metadata": {},
   "outputs": [
    {
     "name": "stdout",
     "output_type": "stream",
     "text": [
      "    c0  c1  c2  c3\n",
      "r1   1   4   7  10\n",
      "r2   2   5   8  11\n",
      "r3   3   6   9  12\n",
      "  index  c0  c1  c2  c3\n",
      "0    r1   1   4   7  10\n",
      "1    r2   2   5   8  11\n",
      "2    r3   3   6   9  12\n"
     ]
    },
    {
     "data": {
      "text/html": [
       "<div>\n",
       "<style scoped>\n",
       "    .dataframe tbody tr th:only-of-type {\n",
       "        vertical-align: middle;\n",
       "    }\n",
       "\n",
       "    .dataframe tbody tr th {\n",
       "        vertical-align: top;\n",
       "    }\n",
       "\n",
       "    .dataframe thead th {\n",
       "        text-align: right;\n",
       "    }\n",
       "</style>\n",
       "<table border=\"1\" class=\"dataframe\">\n",
       "  <thead>\n",
       "    <tr style=\"text-align: right;\">\n",
       "      <th></th>\n",
       "      <th>c0</th>\n",
       "      <th>c1</th>\n",
       "      <th>c2</th>\n",
       "      <th>c3</th>\n",
       "    </tr>\n",
       "  </thead>\n",
       "  <tbody>\n",
       "    <tr>\n",
       "      <th>r1</th>\n",
       "      <td>1</td>\n",
       "      <td>4</td>\n",
       "      <td>7</td>\n",
       "      <td>10</td>\n",
       "    </tr>\n",
       "    <tr>\n",
       "      <th>r2</th>\n",
       "      <td>2</td>\n",
       "      <td>5</td>\n",
       "      <td>8</td>\n",
       "      <td>11</td>\n",
       "    </tr>\n",
       "    <tr>\n",
       "      <th>r3</th>\n",
       "      <td>3</td>\n",
       "      <td>6</td>\n",
       "      <td>9</td>\n",
       "      <td>12</td>\n",
       "    </tr>\n",
       "  </tbody>\n",
       "</table>\n",
       "</div>"
      ],
      "text/plain": [
       "    c0  c1  c2  c3\n",
       "r1   1   4   7  10\n",
       "r2   2   5   8  11\n",
       "r3   3   6   9  12"
      ]
     },
     "execution_count": 40,
     "metadata": {},
     "output_type": "execute_result"
    }
   ],
   "source": [
    "# reset_index() : 인덱스 초기화\n",
    "print(df)\n",
    "print(df.reset_index()) # 기존의 인덱스가 컬럼으로 변환, 인덱스는 초기화\n",
    "df.reset_index(drop=True) # 기존의 인덱스를 삭제, 인덱스는 초기화\n",
    "df"
   ]
  },
  {
   "cell_type": "code",
   "execution_count": 41,
   "id": "d993fd9d",
   "metadata": {},
   "outputs": [
    {
     "data": {
      "text/html": [
       "<div>\n",
       "<style scoped>\n",
       "    .dataframe tbody tr th:only-of-type {\n",
       "        vertical-align: middle;\n",
       "    }\n",
       "\n",
       "    .dataframe tbody tr th {\n",
       "        vertical-align: top;\n",
       "    }\n",
       "\n",
       "    .dataframe thead th {\n",
       "        text-align: right;\n",
       "    }\n",
       "</style>\n",
       "<table border=\"1\" class=\"dataframe\">\n",
       "  <thead>\n",
       "    <tr style=\"text-align: right;\">\n",
       "      <th></th>\n",
       "      <th>c0</th>\n",
       "      <th>c1</th>\n",
       "      <th>c2</th>\n",
       "      <th>c3</th>\n",
       "    </tr>\n",
       "  </thead>\n",
       "  <tbody>\n",
       "    <tr>\n",
       "      <th>r3</th>\n",
       "      <td>3</td>\n",
       "      <td>6</td>\n",
       "      <td>9</td>\n",
       "      <td>12</td>\n",
       "    </tr>\n",
       "    <tr>\n",
       "      <th>r2</th>\n",
       "      <td>2</td>\n",
       "      <td>5</td>\n",
       "      <td>8</td>\n",
       "      <td>11</td>\n",
       "    </tr>\n",
       "    <tr>\n",
       "      <th>r1</th>\n",
       "      <td>1</td>\n",
       "      <td>4</td>\n",
       "      <td>7</td>\n",
       "      <td>10</td>\n",
       "    </tr>\n",
       "  </tbody>\n",
       "</table>\n",
       "</div>"
      ],
      "text/plain": [
       "    c0  c1  c2  c3\n",
       "r3   3   6   9  12\n",
       "r2   2   5   8  11\n",
       "r1   1   4   7  10"
      ]
     },
     "execution_count": 41,
     "metadata": {},
     "output_type": "execute_result"
    }
   ],
   "source": [
    "#인덱스를 기준으로 정렬\n",
    "df.sort_index(ascending=False) #ascending=True로 설정되어있음"
   ]
  },
  {
   "cell_type": "code",
   "execution_count": 42,
   "id": "680f15c5",
   "metadata": {},
   "outputs": [
    {
     "data": {
      "text/html": [
       "<div>\n",
       "<style scoped>\n",
       "    .dataframe tbody tr th:only-of-type {\n",
       "        vertical-align: middle;\n",
       "    }\n",
       "\n",
       "    .dataframe tbody tr th {\n",
       "        vertical-align: top;\n",
       "    }\n",
       "\n",
       "    .dataframe thead th {\n",
       "        text-align: right;\n",
       "    }\n",
       "</style>\n",
       "<table border=\"1\" class=\"dataframe\">\n",
       "  <thead>\n",
       "    <tr style=\"text-align: right;\">\n",
       "      <th></th>\n",
       "      <th>c0</th>\n",
       "      <th>c1</th>\n",
       "      <th>c2</th>\n",
       "      <th>c3</th>\n",
       "    </tr>\n",
       "  </thead>\n",
       "  <tbody>\n",
       "    <tr>\n",
       "      <th>r3</th>\n",
       "      <td>3</td>\n",
       "      <td>6</td>\n",
       "      <td>9</td>\n",
       "      <td>12</td>\n",
       "    </tr>\n",
       "    <tr>\n",
       "      <th>r2</th>\n",
       "      <td>2</td>\n",
       "      <td>5</td>\n",
       "      <td>14</td>\n",
       "      <td>11</td>\n",
       "    </tr>\n",
       "    <tr>\n",
       "      <th>r1</th>\n",
       "      <td>2</td>\n",
       "      <td>4</td>\n",
       "      <td>7</td>\n",
       "      <td>10</td>\n",
       "    </tr>\n",
       "  </tbody>\n",
       "</table>\n",
       "</div>"
      ],
      "text/plain": [
       "    c0  c1  c2  c3\n",
       "r3   3   6   9  12\n",
       "r2   2   5  14  11\n",
       "r1   2   4   7  10"
      ]
     },
     "execution_count": 42,
     "metadata": {},
     "output_type": "execute_result"
    }
   ],
   "source": [
    "#컬럼을 기준으로 정렬\n",
    "df.loc['r1','c0'] = 2\n",
    "df.loc['r2','c2'] = 14\n",
    "df.sort_values(by=['c0','c2'], ascending=False)"
   ]
  },
  {
   "cell_type": "code",
   "execution_count": 44,
   "id": "eb46cf2a",
   "metadata": {},
   "outputs": [],
   "source": [
    "# 인덱스를 설정 df.index = []\n",
    "# 컬럼명을 설정 df.columns = []\n",
    "# 인덱스의 이름을 변경 df.rename({기존인덱스:새로운인덱스, ..},inplace = )\n",
    "# 컬럼명을 변경 df.rename({기존컬럼:새로운컬럼},inplace = )\n",
    "# 인덱스를 삭제 df.drop([인덱스명], axis=0)\n",
    "# 컬럼 삭제 df.drop([컬럼명], axis=1)\n",
    "# 새로운 인덱스 이름 부여 : ndf = df.reindex(new_index,[fill_value = 또는 method = ])\n",
    "# 인덱스 제거 df.reset_index([drop=True]) 인덱스를 컬럼으로 변환하지 않음\n",
    "# 인덱스 기준으로 정렬 df.sort_index([ascending=])\n",
    "# 컬럼 기준으로 정렬 df.sort_values(by=[컬럼명])"
   ]
  },
  {
   "cell_type": "code",
   "execution_count": 45,
   "id": "51a30976",
   "metadata": {},
   "outputs": [],
   "source": [
    "# 시리즈 연산 : 시리즈 +,*,/,- 사칙연산 가능\n",
    "#1 인덱스로 정렬\n",
    "#2 매칭되는 값에 대해 연산 , Nan이 있으면 결과는 Nan\n",
    "#3 결과 리턴 => 인덱스로 정렬된 상태\n"
   ]
  },
  {
   "cell_type": "code",
   "execution_count": 51,
   "id": "64a1a79e",
   "metadata": {},
   "outputs": [
    {
     "name": "stdout",
     "output_type": "stream",
     "text": [
      "국어    100\n",
      "수학     90\n",
      "영어     80\n",
      "dtype: int64\n",
      "국어    300\n",
      "수학    290\n",
      "영어    280\n",
      "dtype: int64\n",
      "국어    0.50\n",
      "수학    0.45\n",
      "영어    0.40\n",
      "dtype: float64\n",
      "국어    50\n",
      "수학    40\n",
      "영어    30\n",
      "dtype: int64\n"
     ]
    }
   ],
   "source": [
    "student = pd.Series({'국어':100,'수학':90,'영어':80})\n",
    "print(student)\n",
    "\n",
    "print(student+200)\n",
    "print(student/200)\n",
    "print(student-50)"
   ]
  },
  {
   "cell_type": "code",
   "execution_count": 57,
   "id": "909ae440",
   "metadata": {},
   "outputs": [
    {
     "name": "stdout",
     "output_type": "stream",
     "text": [
      "과학      NaN\n",
      "국어      NaN\n",
      "수학    160.0\n",
      "영어    170.0\n",
      "dtype: float64\n"
     ]
    }
   ],
   "source": [
    "#시리즈 연산\n",
    "import numpy as np\n",
    "student1 = pd.Series({'국어':np.nan,'수학':90,'영어':80})\n",
    "student2 = pd.Series({'수학':70, '국어':80,'영어':90, '과학':100})\n",
    "print(student1 + student2)"
   ]
  },
  {
   "cell_type": "code",
   "execution_count": 59,
   "id": "df2ba523",
   "metadata": {},
   "outputs": [
    {
     "name": "stdout",
     "output_type": "stream",
     "text": [
      "과학    100.0\n",
      "국어     80.0\n",
      "수학    160.0\n",
      "영어    170.0\n",
      "dtype: float64\n",
      "과학   -100.0\n",
      "국어    -80.0\n",
      "수학     20.0\n",
      "영어    -10.0\n",
      "dtype: float64\n",
      "과학       0.0\n",
      "국어       0.0\n",
      "수학    6300.0\n",
      "영어    7200.0\n",
      "dtype: float64\n",
      "과학    0.000000\n",
      "국어    0.000000\n",
      "수학    1.285714\n",
      "영어    0.888889\n",
      "dtype: float64\n"
     ]
    }
   ],
   "source": [
    "#시리즈 연산 메서드 : 시리즈.add(시리즈1,fill_value=0)\n",
    "print(student1.add(student2,fill_value=0))\n",
    "print(student1.sub(student2,fill_value=0))\n",
    "print(student1.mul(student2,fill_value=0))\n",
    "print(student1.div(student2,fill_value=0))"
   ]
  },
  {
   "cell_type": "code",
   "execution_count": 60,
   "id": "bdf96fca",
   "metadata": {},
   "outputs": [],
   "source": [
    "#데이터 프레임 연산(사칙연산)\n",
    "# seaborn 에서 dataset 가져오기\n",
    "import seaborn as sns"
   ]
  },
  {
   "cell_type": "code",
   "execution_count": 65,
   "id": "02ff36f9",
   "metadata": {},
   "outputs": [
    {
     "data": {
      "text/html": [
       "<div>\n",
       "<style scoped>\n",
       "    .dataframe tbody tr th:only-of-type {\n",
       "        vertical-align: middle;\n",
       "    }\n",
       "\n",
       "    .dataframe tbody tr th {\n",
       "        vertical-align: top;\n",
       "    }\n",
       "\n",
       "    .dataframe thead th {\n",
       "        text-align: right;\n",
       "    }\n",
       "</style>\n",
       "<table border=\"1\" class=\"dataframe\">\n",
       "  <thead>\n",
       "    <tr style=\"text-align: right;\">\n",
       "      <th></th>\n",
       "      <th>age</th>\n",
       "      <th>fare</th>\n",
       "    </tr>\n",
       "  </thead>\n",
       "  <tbody>\n",
       "    <tr>\n",
       "      <th>0</th>\n",
       "      <td>22.0</td>\n",
       "      <td>7.2500</td>\n",
       "    </tr>\n",
       "    <tr>\n",
       "      <th>1</th>\n",
       "      <td>38.0</td>\n",
       "      <td>71.2833</td>\n",
       "    </tr>\n",
       "    <tr>\n",
       "      <th>2</th>\n",
       "      <td>26.0</td>\n",
       "      <td>7.9250</td>\n",
       "    </tr>\n",
       "    <tr>\n",
       "      <th>3</th>\n",
       "      <td>35.0</td>\n",
       "      <td>53.1000</td>\n",
       "    </tr>\n",
       "    <tr>\n",
       "      <th>4</th>\n",
       "      <td>35.0</td>\n",
       "      <td>8.0500</td>\n",
       "    </tr>\n",
       "    <tr>\n",
       "      <th>...</th>\n",
       "      <td>...</td>\n",
       "      <td>...</td>\n",
       "    </tr>\n",
       "    <tr>\n",
       "      <th>886</th>\n",
       "      <td>27.0</td>\n",
       "      <td>13.0000</td>\n",
       "    </tr>\n",
       "    <tr>\n",
       "      <th>887</th>\n",
       "      <td>19.0</td>\n",
       "      <td>30.0000</td>\n",
       "    </tr>\n",
       "    <tr>\n",
       "      <th>888</th>\n",
       "      <td>NaN</td>\n",
       "      <td>23.4500</td>\n",
       "    </tr>\n",
       "    <tr>\n",
       "      <th>889</th>\n",
       "      <td>26.0</td>\n",
       "      <td>30.0000</td>\n",
       "    </tr>\n",
       "    <tr>\n",
       "      <th>890</th>\n",
       "      <td>32.0</td>\n",
       "      <td>7.7500</td>\n",
       "    </tr>\n",
       "  </tbody>\n",
       "</table>\n",
       "<p>891 rows × 2 columns</p>\n",
       "</div>"
      ],
      "text/plain": [
       "      age     fare\n",
       "0    22.0   7.2500\n",
       "1    38.0  71.2833\n",
       "2    26.0   7.9250\n",
       "3    35.0  53.1000\n",
       "4    35.0   8.0500\n",
       "..    ...      ...\n",
       "886  27.0  13.0000\n",
       "887  19.0  30.0000\n",
       "888   NaN  23.4500\n",
       "889  26.0  30.0000\n",
       "890  32.0   7.7500\n",
       "\n",
       "[891 rows x 2 columns]"
      ]
     },
     "execution_count": 65,
     "metadata": {},
     "output_type": "execute_result"
    }
   ],
   "source": [
    "titanic = sns.load_dataset('titanic')\n",
    "titanic.columns # age, fare 컬럼의 자료만 검색\n",
    "df = titanic.loc[:,['age','fare']]\n",
    "df"
   ]
  },
  {
   "cell_type": "code",
   "execution_count": 68,
   "id": "3d11d833",
   "metadata": {},
   "outputs": [
    {
     "name": "stdout",
     "output_type": "stream",
     "text": [
      "    age     fare\n",
      "0  22.0   7.2500\n",
      "1  38.0  71.2833\n",
      "2  26.0   7.9250\n",
      "3  35.0  53.1000\n",
      "4  35.0   8.0500 \n",
      "\n",
      "     age     fare\n",
      "0  32.0  17.2500\n",
      "1  48.0  81.2833\n",
      "2  36.0  17.9250\n",
      "3  45.0  63.1000\n",
      "4  45.0  18.0500\n"
     ]
    }
   ],
   "source": [
    "print(df.head(), '\\n\\n', (df+10).head())"
   ]
  },
  {
   "cell_type": "code",
   "execution_count": 70,
   "id": "625a8196",
   "metadata": {},
   "outputs": [
    {
     "name": "stdout",
     "output_type": "stream",
     "text": [
      "      age   fare\n",
      "886  27.0  13.00\n",
      "887  19.0  30.00\n",
      "888   NaN  23.45\n",
      "889  26.0  30.00\n",
      "890  32.0   7.75 \n",
      "\n",
      "       age   fare\n",
      "886  37.0  23.00\n",
      "887  29.0  40.00\n",
      "888   NaN  33.45\n",
      "889  36.0  40.00\n",
      "890  42.0  17.75\n"
     ]
    }
   ],
   "source": [
    "print(df.tail(), '\\n\\n', (df+10).tail())"
   ]
  },
  {
   "cell_type": "code",
   "execution_count": 71,
   "id": "9af8087e",
   "metadata": {},
   "outputs": [
    {
     "data": {
      "text/html": [
       "<div>\n",
       "<style scoped>\n",
       "    .dataframe tbody tr th:only-of-type {\n",
       "        vertical-align: middle;\n",
       "    }\n",
       "\n",
       "    .dataframe tbody tr th {\n",
       "        vertical-align: top;\n",
       "    }\n",
       "\n",
       "    .dataframe thead th {\n",
       "        text-align: right;\n",
       "    }\n",
       "</style>\n",
       "<table border=\"1\" class=\"dataframe\">\n",
       "  <thead>\n",
       "    <tr style=\"text-align: right;\">\n",
       "      <th></th>\n",
       "      <th>age</th>\n",
       "      <th>fare</th>\n",
       "    </tr>\n",
       "  </thead>\n",
       "  <tbody>\n",
       "    <tr>\n",
       "      <th>886</th>\n",
       "      <td>37.0</td>\n",
       "      <td>23.00</td>\n",
       "    </tr>\n",
       "    <tr>\n",
       "      <th>887</th>\n",
       "      <td>29.0</td>\n",
       "      <td>40.00</td>\n",
       "    </tr>\n",
       "    <tr>\n",
       "      <th>888</th>\n",
       "      <td>10.0</td>\n",
       "      <td>33.45</td>\n",
       "    </tr>\n",
       "    <tr>\n",
       "      <th>889</th>\n",
       "      <td>36.0</td>\n",
       "      <td>40.00</td>\n",
       "    </tr>\n",
       "    <tr>\n",
       "      <th>890</th>\n",
       "      <td>42.0</td>\n",
       "      <td>17.75</td>\n",
       "    </tr>\n",
       "  </tbody>\n",
       "</table>\n",
       "</div>"
      ],
      "text/plain": [
       "      age   fare\n",
       "886  37.0  23.00\n",
       "887  29.0  40.00\n",
       "888  10.0  33.45\n",
       "889  36.0  40.00\n",
       "890  42.0  17.75"
      ]
     },
     "execution_count": 71,
     "metadata": {},
     "output_type": "execute_result"
    }
   ],
   "source": [
    "add_df = df.add(10, fill_value = 0)\n",
    "add_df.tail()"
   ]
  },
  {
   "cell_type": "code",
   "execution_count": 83,
   "id": "718d2714",
   "metadata": {},
   "outputs": [
    {
     "name": "stdout",
     "output_type": "stream",
     "text": [
      "      class     sex   age alive\n",
      "0     Third    male  22.0    no\n",
      "1     First  female  38.0   yes\n",
      "2     Third  female  26.0   yes\n",
      "3     First  female  35.0   yes\n",
      "4     Third    male  35.0    no\n",
      "..      ...     ...   ...   ...\n",
      "96    First    male  71.0    no\n",
      "97    First    male  23.0   yes\n",
      "98   Second  female  34.0   yes\n",
      "99   Second    male  34.0    no\n",
      "100   Third  female  28.0    no\n",
      "\n",
      "[101 rows x 4 columns]\n",
      "           sex   age alive\n",
      "class                     \n",
      "Third     male  22.0    no\n",
      "First   female  38.0   yes\n",
      "Third   female  26.0   yes\n",
      "First   female  35.0   yes\n",
      "Third     male  35.0    no\n",
      "...        ...   ...   ...\n",
      "First     male  71.0    no\n",
      "First     male  23.0   yes\n",
      "Second  female  34.0   yes\n",
      "Second    male  34.0    no\n",
      "Third   female  28.0    no\n",
      "\n",
      "[101 rows x 3 columns]\n"
     ]
    },
    {
     "data": {
      "text/html": [
       "<div>\n",
       "<style scoped>\n",
       "    .dataframe tbody tr th:only-of-type {\n",
       "        vertical-align: middle;\n",
       "    }\n",
       "\n",
       "    .dataframe tbody tr th {\n",
       "        vertical-align: top;\n",
       "    }\n",
       "\n",
       "    .dataframe thead th {\n",
       "        text-align: right;\n",
       "    }\n",
       "</style>\n",
       "<table border=\"1\" class=\"dataframe\">\n",
       "  <thead>\n",
       "    <tr style=\"text-align: right;\">\n",
       "      <th></th>\n",
       "      <th>sex</th>\n",
       "      <th>age</th>\n",
       "      <th>alive</th>\n",
       "    </tr>\n",
       "    <tr>\n",
       "      <th>class</th>\n",
       "      <th></th>\n",
       "      <th></th>\n",
       "      <th></th>\n",
       "    </tr>\n",
       "  </thead>\n",
       "  <tbody>\n",
       "    <tr>\n",
       "      <th>First</th>\n",
       "      <td>female</td>\n",
       "      <td>NaN</td>\n",
       "      <td>yes</td>\n",
       "    </tr>\n",
       "    <tr>\n",
       "      <th>First</th>\n",
       "      <td>male</td>\n",
       "      <td>NaN</td>\n",
       "      <td>no</td>\n",
       "    </tr>\n",
       "    <tr>\n",
       "      <th>First</th>\n",
       "      <td>male</td>\n",
       "      <td>NaN</td>\n",
       "      <td>yes</td>\n",
       "    </tr>\n",
       "    <tr>\n",
       "      <th>First</th>\n",
       "      <td>male</td>\n",
       "      <td>65.0</td>\n",
       "      <td>no</td>\n",
       "    </tr>\n",
       "    <tr>\n",
       "      <th>First</th>\n",
       "      <td>female</td>\n",
       "      <td>49.0</td>\n",
       "      <td>yes</td>\n",
       "    </tr>\n",
       "    <tr>\n",
       "      <th>...</th>\n",
       "      <td>...</td>\n",
       "      <td>...</td>\n",
       "      <td>...</td>\n",
       "    </tr>\n",
       "    <tr>\n",
       "      <th>Third</th>\n",
       "      <td>female</td>\n",
       "      <td>18.0</td>\n",
       "      <td>no</td>\n",
       "    </tr>\n",
       "    <tr>\n",
       "      <th>Third</th>\n",
       "      <td>male</td>\n",
       "      <td>21.0</td>\n",
       "      <td>no</td>\n",
       "    </tr>\n",
       "    <tr>\n",
       "      <th>Third</th>\n",
       "      <td>male</td>\n",
       "      <td>NaN</td>\n",
       "      <td>yes</td>\n",
       "    </tr>\n",
       "    <tr>\n",
       "      <th>Third</th>\n",
       "      <td>male</td>\n",
       "      <td>NaN</td>\n",
       "      <td>no</td>\n",
       "    </tr>\n",
       "    <tr>\n",
       "      <th>Third</th>\n",
       "      <td>female</td>\n",
       "      <td>28.0</td>\n",
       "      <td>no</td>\n",
       "    </tr>\n",
       "  </tbody>\n",
       "</table>\n",
       "<p>101 rows × 3 columns</p>\n",
       "</div>"
      ],
      "text/plain": [
       "          sex   age alive\n",
       "class                    \n",
       "First  female   NaN   yes\n",
       "First    male   NaN    no\n",
       "First    male   NaN   yes\n",
       "First    male  65.0    no\n",
       "First  female  49.0   yes\n",
       "...       ...   ...   ...\n",
       "Third  female  18.0    no\n",
       "Third    male  21.0    no\n",
       "Third    male   NaN   yes\n",
       "Third    male   NaN    no\n",
       "Third  female  28.0    no\n",
       "\n",
       "[101 rows x 3 columns]"
      ]
     },
     "execution_count": 83,
     "metadata": {},
     "output_type": "execute_result"
    }
   ],
   "source": [
    "#seaborn에서 titanic 데이터셋 자료를 가져와서\n",
    "# 'class', 'sex', 'age', 'alive' 컬럼과 \n",
    "#0행부터 100행까지만 자료를 가져오세요\n",
    "titanic_test = sns.load_dataset('titanic')\n",
    "titanic_test.columns # age, fare 컬럼의 자료만 검색\n",
    "test_df = titanic.loc[0:100,['class','sex', 'age', 'alive']]\n",
    "print(test_df)\n",
    "#인덱스를  'class'로 지정하고 인덱스 정렬\n",
    "test_df.set_index('class', inplace=True)\n",
    "print(test_df)\n",
    "test_df.sort_index()"
   ]
  },
  {
   "cell_type": "code",
   "execution_count": null,
   "id": "0a55d583",
   "metadata": {},
   "outputs": [],
   "source": [
    "#np.arange([start], stop, [step])\n",
    "#np.array.reshape(차수, ...), np.flatten() -> 1차원으로 변경\n",
    "#np.ndim, np.shape, np.ntype, np.dtype.name, np.size"
   ]
  }
 ],
 "metadata": {
  "kernelspec": {
   "display_name": "Python 3 (ipykernel)",
   "language": "python",
   "name": "python3"
  },
  "language_info": {
   "codemirror_mode": {
    "name": "ipython",
    "version": 3
   },
   "file_extension": ".py",
   "mimetype": "text/x-python",
   "name": "python",
   "nbconvert_exporter": "python",
   "pygments_lexer": "ipython3",
   "version": "3.9.7"
  }
 },
 "nbformat": 4,
 "nbformat_minor": 5
}
