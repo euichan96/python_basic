{
 "cells": [
  {
   "cell_type": "code",
   "execution_count": 101,
   "id": "76ff7230",
   "metadata": {},
   "outputs": [],
   "source": [
    "#!/usr/bin/env python\n",
    "# coding: utf-8\n",
    "\n",
    "# In[ ]:\n",
    "\n",
    "\n",
    "#그래프 matplotilb 를 사용\n",
    "import matplotlib.pyplot as plt\n",
    "import numpy as np\n",
    "import pandas as pd\n",
    "import platform\n",
    "\n",
    "#한글 폰트 사용시 마이너스 폰트 깨짐 해결\n",
    "if platform.system() == 'Darwin': #맥\n",
    "        plt.rc('font', family='AppleGothic') \n",
    "elif platform.system() == 'Windows': #윈도우\n",
    "        plt.rc('font', family='Malgun Gothic') \n",
    "elif platform.system() == 'Linux': #리눅스 (구글 콜랩)\n",
    "        plt.rc('font', family='Malgun Gothic') \n",
    "\n",
    "plt.rcParams['axes.unicode_minus'] = False "
   ]
  },
  {
   "cell_type": "code",
   "execution_count": 102,
   "id": "d88e219b",
   "metadata": {},
   "outputs": [
    {
     "name": "stdout",
     "output_type": "stream",
     "text": [
      "<class 'pandas.core.frame.DataFrame'>\n",
      "RangeIndex: 398 entries, 0 to 397\n",
      "Data columns (total 9 columns):\n",
      " #   Column        Non-Null Count  Dtype  \n",
      "---  ------        --------------  -----  \n",
      " 0   mpg           398 non-null    float64\n",
      " 1   cylinders     398 non-null    int64  \n",
      " 2   displacement  398 non-null    float64\n",
      " 3   horsepower    398 non-null    object \n",
      " 4   weight        398 non-null    float64\n",
      " 5   acceleration  398 non-null    float64\n",
      " 6   model year    398 non-null    int64  \n",
      " 7   origin        398 non-null    int64  \n",
      " 8   name          398 non-null    object \n",
      "dtypes: float64(4), int64(3), object(2)\n",
      "memory usage: 28.1+ KB\n"
     ]
    }
   ],
   "source": [
    "# auto-mpg.cav파일을 읽어서\n",
    "df = pd.read_csv('dataset/auto-mpg.csv', header=None)\n",
    "#1 컬럼명 저장\n",
    "df.columns = ['mpg', 'cylinders', 'displacement', 'horsepower', \n",
    "             'weight', 'acceleration', 'model year', 'origin', 'name']\n",
    "#2 데이터 정보 확인\n",
    "df.info()"
   ]
  },
  {
   "cell_type": "code",
   "execution_count": 103,
   "id": "058959dc",
   "metadata": {},
   "outputs": [
    {
     "name": "stdout",
     "output_type": "stream",
     "text": [
      "<class 'pandas.core.frame.DataFrame'>\n",
      "Int64Index: 398 entries, 0 to 397\n",
      "Data columns (total 9 columns):\n",
      " #   Column        Non-Null Count  Dtype  \n",
      "---  ------        --------------  -----  \n",
      " 0   mpg           398 non-null    float64\n",
      " 1   cylinders     398 non-null    int64  \n",
      " 2   displacement  398 non-null    float64\n",
      " 3   horsepower    398 non-null    object \n",
      " 4   weight        398 non-null    float64\n",
      " 5   acceleration  398 non-null    float64\n",
      " 6   model year    398 non-null    int64  \n",
      " 7   origin        398 non-null    int64  \n",
      " 8   name          398 non-null    object \n",
      "dtypes: float64(4), int64(3), object(2)\n",
      "memory usage: 31.1+ KB\n"
     ]
    },
    {
     "name": "stderr",
     "output_type": "stream",
     "text": [
      "C:\\ProgramData\\Anaconda3\\lib\\site-packages\\pandas\\core\\indexes\\base.py:4616: FutureWarning: Using a non-tuple sequence for multidimensional indexing is deprecated; use `arr[tuple(seq)]` instead of `arr[seq]`. In the future this will be interpreted as an array index, `arr[np.array(seq)]`, which will result either in an error or a different result.\n",
      "  result = getitem(key)\n"
     ]
    }
   ],
   "source": [
    "#3 누락 데이터 처리 -> 삭제  ? nan 데이터가 없다.... \n",
    "df_ass = df.copy()\n",
    "nan_col = [df_ass.isnull().sum()>0]\n",
    "nan_col_names = list(df_ass.columns[nan_col])\n",
    "df_ass = df_ass.dropna(subset=nan_col_names, how='any', axis='index')\n",
    "df_ass.info()"
   ]
  },
  {
   "cell_type": "code",
   "execution_count": 105,
   "id": "6d3a0de1",
   "metadata": {},
   "outputs": [
    {
     "data": {
      "image/png": "[encoded data removed]",
      "text/plain": [
       "<Figure size 1440x360 with 2 Axes>"
      ]
     },
     "metadata": {
      "needs_background": "light"
     },
     "output_type": "display_data"
    }
   ],
   "source": [
    "fig = plt.figure(figsize=(20,5))\n",
    "ax1 = fig.add_subplot(1,2,1) \n",
    "ax2 = fig.add_subplot(1,2,2)\n",
    "#4 weigh와 mpg의 scatter 그래프 작성\n",
    "df_ass.plot(x = 'weight', y = 'mpg' , kind = 'scatter', ax=ax1)\n",
    "\n",
    "#5 제조국가별로 mpg를 boxplot으로 표현\n",
    "ax2.boxplot(x = [df_ass[df_ass['origin']==1]['mpg'],\n",
    "                 df_ass[df_ass['origin']==2]['mpg'],\n",
    "                 df_ass[df_ass['origin']==3]['mpg']],\n",
    "           labels = ['USA','EU','JAPAN'])\n",
    "\n",
    "plt.show()"
   ]
  },
  {
   "cell_type": "code",
   "execution_count": null,
   "id": "68c8a8e6",
   "metadata": {},
   "outputs": [],
   "source": [
    "#6 중복 데이터를 제거 (행 제거)\n",
    "df_ass.drop_duplicates()\n",
    "\n",
    "#7 제조국가 1:USA, 2:EU, 3:JPN을 컬럼의 값을 변경\n",
    "#origin\n",
    "df.origin.unique() #숫자를 category변경 : 나라이름으로 변경\n",
    "df.origin.replace({1:'USA',2:'EU',3:'JPN'},inplace=True)\n",
    "df.origin.unique() \n",
    "df.origin = df.origin.astype('category')\n",
    "df.info()"
   ]
  }
 ],
 "metadata": {
  "kernelspec": {
   "display_name": "Python 3 (ipykernel)",
   "language": "python",
   "name": "python3"
  },
  "language_info": {
   "codemirror_mode": {
    "name": "ipython",
    "version": 3
   },
   "file_extension": ".py",
   "mimetype": "text/x-python",
   "name": "python",
   "nbconvert_exporter": "python",
   "pygments_lexer": "ipython3",
   "version": "3.9.7"
  }
 },
 "nbformat": 4,
 "nbformat_minor": 5
}
