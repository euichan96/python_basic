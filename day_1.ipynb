{
 "cells": [
  {
   "cell_type": "markdown",
   "id": "db015e7a",
   "metadata": {},
   "source": [
    "# python\n",
    "### 기본 문법 1일차"
   ]
  },
  {
   "cell_type": "code",
   "execution_count": 1,
   "id": "1d87fbb8",
   "metadata": {
    "scrolled": false
   },
   "outputs": [
    {
     "name": "stdout",
     "output_type": "stream",
     "text": [
      "hello\n"
     ]
    }
   ],
   "source": [
    "print(\"hello\")"
   ]
  },
  {
   "cell_type": "code",
   "execution_count": 4,
   "id": "52538bb4",
   "metadata": {},
   "outputs": [
    {
     "name": "stdout",
     "output_type": "stream",
     "text": [
      "['False', 'None', 'True', '__peg_parser__', 'and', 'as', 'assert', 'async', 'await', 'break', 'class', 'continue', 'def', 'del', 'elif', 'else', 'except', 'finally', 'for', 'from', 'global', 'if', 'import', 'in', 'is', 'lambda', 'nonlocal', 'not', 'or', 'pass', 'raise', 'return', 'try', 'while', 'with', 'yield']\n"
     ]
    },
    {
     "data": {
      "text/plain": [
       "<function print>"
      ]
     },
     "execution_count": 4,
     "metadata": {},
     "output_type": "execute_result"
    }
   ],
   "source": [
    "import keyword\n",
    "print(keyword.kwlist)\n",
    "print"
   ]
  },
  {
   "cell_type": "code",
   "execution_count": 6,
   "id": "5feeac76",
   "metadata": {},
   "outputs": [
    {
     "name": "stdout",
     "output_type": "stream",
     "text": [
      "hello world!!\n",
      "연산식 : 10 + 20 = 30\n"
     ]
    }
   ],
   "source": [
    "# 사용해보기\n",
    "print(\"hello world!!\")\n",
    "print(\"연산식 : 10 + 20 =\",10 + 20 )"
   ]
  },
  {
   "cell_type": "code",
   "execution_count": 9,
   "id": "4223c1c1",
   "metadata": {},
   "outputs": [
    {
     "name": "stdout",
     "output_type": "stream",
     "text": [
      "test str\n",
      "test test test \n",
      "edrftyuik\n"
     ]
    }
   ],
   "source": [
    "#문자열 연산자 : +, *\n",
    "print(\"test \"+ \"str\")\n",
    "print(\"test \"*3)\n",
    "#문자열 슬라이싱\n",
    "print(\"edrftyuikol\"[0:-2])\n",
    "\n"
   ]
  },
  {
   "cell_type": "code",
   "execution_count": 24,
   "id": "f4e1bc14",
   "metadata": {},
   "outputs": [
    {
     "name": "stdout",
     "output_type": "stream",
     "text": [
      "첫번째 숫자 입력하세요!  4\n",
      "두번째 숫자 입력하세요!  5\n",
      "두 숫자의 합은 : 9입니다!\n"
     ]
    }
   ],
   "source": [
    "int_a = int(input(\"첫번째 숫자 입력하세요!  \"))\n",
    "int_b = int(input(\"두번째 숫자 입력하세요!  \"))\n",
    "hap = int_a + int_b\n",
    "print(\"두 숫자의 합은 : {:d}입니다!\".format(hap))"
   ]
  },
  {
   "cell_type": "code",
   "execution_count": 27,
   "id": "fbb0dd70",
   "metadata": {},
   "outputs": [
    {
     "name": "stdout",
     "output_type": "stream",
     "text": [
      "10 10.000000 10.000\n"
     ]
    }
   ],
   "source": [
    "# 문자열 관련 함수 : format\n",
    "a_str = \"{} test {}\".format(10, 'add')\n",
    "a_str\n",
    "print(\"{:d} {:f} {:.3f}\".format(10, 10.0, 10.0))"
   ]
  },
  {
   "cell_type": "code",
   "execution_count": 34,
   "id": "d8986712",
   "metadata": {},
   "outputs": [
    {
     "name": "stdout",
     "output_type": "stream",
     "text": [
      "52\n",
      "   52\n",
      "        52\n",
      "00052\n",
      "-0052\n"
     ]
    }
   ],
   "source": [
    "output_a = \"{:d}\".format(52)\n",
    "output_b = \"{:5d}\".format(52)\n",
    "output_c = \"{:10d}\".format(52)\n",
    "output_d = \"{:05d}\".format(52)\n",
    "output_e = \"{:05d}\".format(-52)\n",
    "print(output_a)\n",
    "print(output_b)\n",
    "print(output_c)\n",
    "print(output_d)\n",
    "print(output_e)"
   ]
  },
  {
   "cell_type": "code",
   "execution_count": 41,
   "id": "f6bd6348",
   "metadata": {},
   "outputs": [
    {
     "name": "stdout",
     "output_type": "stream",
     "text": [
      "  TEST GHJKLGBHNJM,TEST654 \n",
      "  test ghjklgbhnjm,test654 \n",
      "/test ghjklgbhnjm,test654/\n",
      "/test ghjklgbhnjm,test654 /\n",
      "/  test ghjklgbhnjm,test654/\n",
      "False\n",
      "True\n"
     ]
    }
   ],
   "source": [
    "# 문자열 관련 함수 : upper(), lower(), srtip(), lsrtip(), rsrtip() \n",
    "a_str = \"  test ghjklgbhnjm,test654 \"\n",
    "print(a_str.upper())\n",
    "print(a_str.lower())\n",
    "print(\"/{}/\".format(a_str.strip()))\n",
    "print(\"/{}/\".format(a_str.lstrip()))\n",
    "print(\"/{}/\".format(a_str.rstrip()))\n",
    "\n",
    "print(a_str.strip().isalnum())\n",
    "print(a_str.strip()[:4].isalnum())"
   ]
  },
  {
   "cell_type": "code",
   "execution_count": 44,
   "id": "9816ac94",
   "metadata": {},
   "outputs": [
    {
     "name": "stdout",
     "output_type": "stream",
     "text": [
      "2\n",
      "19\n",
      "True\n"
     ]
    }
   ],
   "source": [
    "print(a_str.find('test')) # 인덱스 반환 :앞에서 부터 검색 단어\n",
    "print(a_str.rfind('test')) # 인덱스 반환 : 뒤에서 부터 검색\n",
    "\n",
    "print('test' in a_str) # -> 문자가 존재하면 true"
   ]
  },
  {
   "cell_type": "code",
   "execution_count": 50,
   "id": "01a5198f",
   "metadata": {},
   "outputs": [
    {
     "data": {
      "text/plain": [
       "'t'"
      ]
     },
     "execution_count": 50,
     "metadata": {},
     "output_type": "execute_result"
    }
   ],
   "source": [
    "a_list = a_str.split()\n",
    "a_list[0]\n",
    "a_list[0][0]"
   ]
  },
  {
   "cell_type": "code",
   "execution_count": 56,
   "id": "6bff03ce",
   "metadata": {},
   "outputs": [
    {
     "name": "stdout",
     "output_type": "stream",
     "text": [
      "첫번째 숫자 입력하세요!  2\n",
      "두번째 숫자 입력하세요!  1\n",
      "두 숫자의 합은 : 3입니다!\n",
      "두 숫자의 차는 : 1입니다!\n"
     ]
    }
   ],
   "source": [
    "int_a = int(input(\"첫번째 숫자 입력하세요!  \"))\n",
    "int_b = int(input(\"두번째 숫자 입력하세요!  \"))\n",
    "\n",
    "hap = int_a + int_b\n",
    "cha = int_a - int_b\n",
    "\n",
    "print(\"두 숫자의 합은 : {:d}입니다!\".format(hap))\n",
    "print(\"두 숫자의 차는 : {:d}입니다!\".format(abs(cha))) #절댓값 함수"
   ]
  },
  {
   "cell_type": "code",
   "execution_count": 60,
   "id": "c4a606ee",
   "metadata": {},
   "outputs": [
    {
     "name": "stdout",
     "output_type": "stream",
     "text": [
      "영문자를 입력하세요!  adad\n",
      "ADAD\n",
      "adad\n",
      "True\n"
     ]
    }
   ],
   "source": [
    "input_str = input(\"영문자를 입력하세요!  \")\n",
    "print(input_str.upper())\n",
    "print(input_str.lower())\n",
    "print(input_str.isalpha())"
   ]
  },
  {
   "cell_type": "code",
   "execution_count": 61,
   "id": "939dbe2c",
   "metadata": {},
   "outputs": [
    {
     "name": "stdout",
     "output_type": "stream",
     "text": [
      "숫자를 입력하세요!  5\n"
     ]
    },
    {
     "data": {
      "text/plain": [
       "True"
      ]
     },
     "execution_count": 61,
     "metadata": {},
     "output_type": "execute_result"
    }
   ],
   "source": [
    "input_int = input(\"숫자를 입력하세요!  \")\n",
    "input_int.isdigit()"
   ]
  },
  {
   "cell_type": "code",
   "execution_count": 73,
   "id": "3d80242e",
   "metadata": {},
   "outputs": [
    {
     "name": "stdout",
     "output_type": "stream",
     "text": [
      "문자를 5개 입력하세요!  abcd dbdbdb dnksnkfn dhgkghdk test\n",
      "d\n",
      "t\n",
      "5\n",
      "True\n"
     ]
    }
   ],
   "source": [
    "input_str = input(\"문자를 5개 입력하세요!  \")\n",
    "str_list = input_str.split()\n",
    "print(str_list[2][0])\n",
    "print(str_list[4][-1])\n",
    "print(len(str_list))\n",
    "print('test' in input_str)"
   ]
  },
  {
   "cell_type": "code",
   "execution_count": 80,
   "id": "5674c171",
   "metadata": {},
   "outputs": [
    {
     "name": "stdout",
     "output_type": "stream",
     "text": [
      "숫자를 여러개를 입력하세요!  1 3 5 7 9\n",
      "10 27\n"
     ]
    }
   ],
   "source": [
    "input_num = input(\"숫자를 여러개를 입력하세요!  \")\n",
    "int_list = input_num.split()\n",
    "int_list = list(map(int, int_list))\n",
    "print(int_list[0]+int_list[-1], int_list[1]*int_list[-1])"
   ]
  }
 ],
 "metadata": {
  "kernelspec": {
   "display_name": "Python 3 (ipykernel)",
   "language": "python",
   "name": "python3"
  },
  "language_info": {
   "codemirror_mode": {
    "name": "ipython",
    "version": 3
   },
   "file_extension": ".py",
   "mimetype": "text/x-python",
   "name": "python",
   "nbconvert_exporter": "python",
   "pygments_lexer": "ipython3",
   "version": "3.9.7"
  }
 },
 "nbformat": 4,
 "nbformat_minor": 5
}
