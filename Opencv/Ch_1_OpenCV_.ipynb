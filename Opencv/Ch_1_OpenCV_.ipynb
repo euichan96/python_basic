{
 "cells": [
  {
   "cell_type": "code",
   "execution_count": 1,
   "id": "97353420",
   "metadata": {},
   "outputs": [
    {
     "name": "stdout",
     "output_type": "stream",
     "text": [
      "Collecting opencv-python\n",
      "  Downloading opencv_python-4.5.5.62-cp36-abi3-win_amd64.whl (35.4 MB)\n",
      "Requirement already satisfied: numpy>=1.17.3 in c:\\programdata\\anaconda3\\envs\\tensorflow\\lib\\site-packages (from opencv-python) (1.22.1)\n",
      "Installing collected packages: opencv-python\n",
      "Successfully installed opencv-python-4.5.5.62\n"
     ]
    }
   ],
   "source": [
    "#! pip install opencv-python"
   ]
  },
  {
   "cell_type": "code",
   "execution_count": 1,
   "id": "6bc83723",
   "metadata": {},
   "outputs": [
    {
     "data": {
      "text/plain": [
       "<function platform.python_version()>"
      ]
     },
     "execution_count": 1,
     "metadata": {},
     "output_type": "execute_result"
    }
   ],
   "source": [
    "\n",
    "import platform\n",
    "\n",
    "platform.python_version"
   ]
  },
  {
   "cell_type": "code",
   "execution_count": 2,
   "id": "65d37ce2",
   "metadata": {},
   "outputs": [
    {
     "data": {
      "text/plain": [
       "'4.5.5'"
      ]
     },
     "execution_count": 2,
     "metadata": {},
     "output_type": "execute_result"
    }
   ],
   "source": [
    "import numpy as np\n",
    "import cv2\n",
    "import sys\n",
    "cv2.__version__"
   ]
  },
  {
   "cell_type": "code",
   "execution_count": 3,
   "id": "4c422c2a",
   "metadata": {},
   "outputs": [
    {
     "name": "stdout",
     "output_type": "stream",
     "text": [
      "(480, 640, 3)\n",
      "-1\n"
     ]
    }
   ],
   "source": [
    "img = cv2.imread('./fig/puppy.bmp')\n",
    "print(img.shape)\n",
    "\n",
    "if img is None:\n",
    "    print('ima read failed')\n",
    "    sys.exit()\n",
    "\n",
    "cv2.namedWindow\n",
    "\n",
    "cv2.namedWindow('puppy')\n",
    "\n",
    "cv2.imshow('image', img)\n",
    "value = cv2.waitKey()\n",
    "print(value)\n",
    "\n",
    "cv2.destroyAllWindows()"
   ]
  },
  {
   "cell_type": "code",
   "execution_count": 7,
   "id": "d9597254",
   "metadata": {},
   "outputs": [
    {
     "name": "stdout",
     "output_type": "stream",
     "text": [
      "(853, 1280, 3)\n",
      "width = 1280, height = 853\n"
     ]
    }
   ],
   "source": [
    "import numpy as np\n",
    "import cv2\n",
    "import sys\n",
    "\n",
    "img = cv2.imread('./fig/puppy_1280_853.jpg', cv2.IMREAD_COLOR)\n",
    "# 알파\n",
    "# cv2.IMREAD_COLOR: BGR color로 읽기\n",
    "# cv2.IMREAD_GRAYSCALE: 그레이 color로 읽기\n",
    "# cv2.IMREAD_UNCHANGED: 파일 속성대로 읽기\n",
    "\n",
    "print(img.shape)\n",
    "h, w = img.shape[:2] # y축 x축 보통과 반대\n",
    "print(f'width = {w}, height = {h}')\n",
    "\n",
    "if img is None:\n",
    "    print('ima read failed')\n",
    "    sys.exit()\n",
    "\n",
    "cv2.namedWindow('puppy')\n",
    "cv2.imshow('image', img)\n",
    "\n",
    "cv2.waitKey()\n",
    "cv2.destroyAllWindows()"
   ]
  },
  {
   "cell_type": "code",
   "execution_count": 11,
   "id": "632b54b5",
   "metadata": {},
   "outputs": [
    {
     "data": {
      "text/plain": [
       "True"
      ]
     },
     "execution_count": 11,
     "metadata": {},
     "output_type": "execute_result"
    }
   ],
   "source": [
    "# cv2.imwrite(filename, img, params =None) -> retval\n",
    "\n",
    "# filename: 저장할 파일 이름\n",
    "# img: 저장할 자료 (numpy.ndarray)\n",
    "# params: 파일저장 옵션\n",
    "# retval: 성공 True, 실패 False\n",
    "\n",
    "img  = cv2.resize(img, (int(w*2), int(h*2)), interpolation = cv2.INTER_LINEAR)\n",
    "# opencv는 x축 먼저\n",
    "cv2.imwrite('./fig/puppy_res_2.png', img)"
   ]
  },
  {
   "cell_type": "code",
   "execution_count": null,
   "id": "0eb158a3",
   "metadata": {},
   "outputs": [],
   "source": []
  },
  {
   "cell_type": "code",
   "execution_count": 19,
   "id": "43273ccf",
   "metadata": {},
   "outputs": [
    {
     "name": "stdout",
     "output_type": "stream",
     "text": [
      "113\n"
     ]
    }
   ],
   "source": [
    "img = cv2.imread('./fig/cat.bmp', cv2.IMREAD_COLOR)\n",
    "\n",
    "if img is None:\n",
    "    print('imf read failed')\n",
    "    sys.exit()\n",
    "\n",
    "cv2.namedWindow('image', cv2.WINDOW_AUTOSIZE)\n",
    "cv2.imshow('image',img)\n",
    "\n",
    "while True:\n",
    "    Key = cv2.waitKey()\n",
    "    if Key == ord('q'):\n",
    "        break\n",
    "\n",
    "values = cv2.waitKey(3000)\n",
    "print(values)\n",
    "\n",
    "cv2.destroyAllWindows()"
   ]
  },
  {
   "cell_type": "code",
   "execution_count": null,
   "id": "bb51343f",
   "metadata": {},
   "outputs": [],
   "source": [
    "# waitKey([, delay]) -> retval\n",
    "# delay: Delay in milliseconds. 0 is the special value that means \"forever\"\n",
    "# cv2.waitKey() -> ASCII code\n",
    "# retval\n",
    "\n",
    "img = cv2.imread('./fig/puppy.bmp', cv2.IMREAD_COLOR)\n",
    "\n",
    "if img is None:\n",
    "    print('image read failed')\n",
    "    sys.exit()\n",
    "\n",
    "cv2.namedWindow('image', cv2.WINDOW_AUTOSIZE)\n",
    "cv2.imshow('image', img)\n",
    "\n",
    "while True:\n",
    "    if cv2.waitKey() == 27:\n",
    "        break\n",
    "cv2.destroyAllWindows()"
   ]
  },
  {
   "cell_type": "code",
   "execution_count": null,
   "id": "f9fc0c31",
   "metadata": {},
   "outputs": [],
   "source": [
    "import matplotlib.pyplot as plt"
   ]
  },
  {
   "cell_type": "code",
   "execution_count": null,
   "id": "7aae90ef",
   "metadata": {},
   "outputs": [],
   "source": [
    "imgBGR = cv2.imread('./fig/puppy.bmp', cv2.IMREAD_COLOR)\n",
    "imgRGB = cv2.cvtColor(imgBGR, cv2.COLOR_BGR2RGB)\n",
    "imgGRAY = cv2.imread('./fig/puppy.bmp', cv2.IMREAD_GRAYSCALE)\n",
    "\n",
    "if img is None:\n",
    "    print('image read failed')\n",
    "    sys.exit()\n",
    "    \n",
    "plt.figure(figsize = (12, 6))\n",
    "plt.subplot(131), plt.imshow(imgBGR), plt.axis('off')\n",
    "plt.subplot(132), plt.imshow(imgRGB), plt.axis('off')\n",
    "plt.subplot(133), plt.imshow(imgGRAY, cmap = 'gray'), plt.axis('off')\n",
    "\n",
    "plt.show()\n",
    "plt.close()\n",
    "cv2.imshow('image', img)\n",
    "\n",
    "while True:\n",
    "    if cv2.waitKey == 27:\n",
    "        break\n",
    "\n",
    "cv2.destroyAllWindows()"
   ]
  },
  {
   "cell_type": "code",
   "execution_count": null,
   "id": "5100077a",
   "metadata": {},
   "outputs": [],
   "source": []
  },
  {
   "cell_type": "code",
   "execution_count": null,
   "id": "3123a58c",
   "metadata": {},
   "outputs": [],
   "source": []
  },
  {
   "cell_type": "code",
   "execution_count": 36,
   "id": "22bf4342",
   "metadata": {},
   "outputs": [],
   "source": [
    "# waitKey([, delay]) -> retval\n",
    "# delay: Delay in milliseconds. 0 is the special value that means \"forever\"\n",
    "# cv2.waitKey() -> ASCII code\n",
    "# retval\n",
    "\n",
    "img = cv2.imread('./fig/cat_basket_look_lying_sadness-593801.jpg', cv2.IMREAD_COLOR)\n",
    "\n",
    "if img is None:\n",
    "    print('image read failed')\n",
    "    sys.exit()\n",
    "\n",
    "cv2.namedWindow('image', cv2.WINDOW_AUTOSIZE)\n",
    "cv2.imshow('image', img)\n",
    "\n",
    "while True:\n",
    "    if cv2.waitKey() == 27:\n",
    "        break\n",
    "cv2.destroyAllWindows()"
   ]
  },
  {
   "cell_type": "code",
   "execution_count": null,
   "id": "ab1f6c3d",
   "metadata": {},
   "outputs": [],
   "source": []
  }
 ],
 "metadata": {
  "kernelspec": {
   "display_name": "Python [conda env:tensorflow] *",
   "language": "python",
   "name": "conda-env-tensorflow-py"
  },
  "language_info": {
   "codemirror_mode": {
    "name": "ipython",
    "version": 3
   },
   "file_extension": ".py",
   "mimetype": "text/x-python",
   "name": "python",
   "nbconvert_exporter": "python",
   "pygments_lexer": "ipython3",
   "version": "3.8.12"
  }
 },
 "nbformat": 4,
 "nbformat_minor": 5
}
