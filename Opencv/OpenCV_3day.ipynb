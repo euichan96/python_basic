{
 "cells": [
  {
   "cell_type": "code",
   "execution_count": 1,
   "id": "9b8cd4d2",
   "metadata": {},
   "outputs": [],
   "source": [
    "import numpy as np\n",
    "import cv2\n",
    "import sys"
   ]
  },
  {
   "cell_type": "code",
   "execution_count": 2,
   "id": "94f6b192",
   "metadata": {},
   "outputs": [],
   "source": [
    "img = cv2.imread('./fig/puppy.bmp', 1)\n",
    "\n",
    "if img is None:\n",
    "    print('failed')\n",
    "    sys.exit()\n",
    "\n",
    "\n",
    "\n",
    "cv2.namedWindow('image', cv2.WINDOW_AUTOSIZE)\n",
    "cv2.imshow('image',img)\n",
    "\n",
    "while True:\n",
    "    if cv2.waitKey() ==27:\n",
    "        break\n",
    "        \n",
    "cv2.destroyAllWindows()"
   ]
  },
  {
   "cell_type": "code",
   "execution_count": 3,
   "id": "96f5886c",
   "metadata": {},
   "outputs": [
    {
     "ename": "error",
     "evalue": "OpenCV(4.5.5) D:\\a\\opencv-python\\opencv-python\\opencv\\modules\\imgproc\\src\\demosaicing.cpp:1721: error: (-215:Assertion failed) scn == 1 && (dcn == 3 || dcn == 4) in function 'cv::demosaicing'\n",
     "output_type": "error",
     "traceback": [
      "\u001b[1;31m---------------------------------------------------------------------------\u001b[0m",
      "\u001b[1;31merror\u001b[0m                                     Traceback (most recent call last)",
      "\u001b[1;32m~\\AppData\\Local\\Temp/ipykernel_1856/4022608388.py\u001b[0m in \u001b[0;36m<module>\u001b[1;34m\u001b[0m\n\u001b[0;32m      3\u001b[0m \u001b[0mimgBGR\u001b[0m \u001b[1;33m=\u001b[0m \u001b[0mcv2\u001b[0m\u001b[1;33m.\u001b[0m\u001b[0mimread\u001b[0m\u001b[1;33m(\u001b[0m\u001b[1;34m'./fig/puppy.bmp'\u001b[0m\u001b[1;33m,\u001b[0m \u001b[1;36m1\u001b[0m\u001b[1;33m)\u001b[0m\u001b[1;33m\u001b[0m\u001b[1;33m\u001b[0m\u001b[0m\n\u001b[0;32m      4\u001b[0m \u001b[1;33m\u001b[0m\u001b[0m\n\u001b[1;32m----> 5\u001b[1;33m \u001b[0mimgRGB\u001b[0m \u001b[1;33m=\u001b[0m \u001b[0mcv2\u001b[0m\u001b[1;33m.\u001b[0m\u001b[0mcvtColor\u001b[0m\u001b[1;33m(\u001b[0m\u001b[0mimgBGR\u001b[0m\u001b[1;33m,\u001b[0m \u001b[0mcv2\u001b[0m\u001b[1;33m.\u001b[0m\u001b[0mCOLOR_BAYER_BG2BGR\u001b[0m\u001b[1;33m)\u001b[0m\u001b[1;33m\u001b[0m\u001b[1;33m\u001b[0m\u001b[0m\n\u001b[0m\u001b[0;32m      6\u001b[0m \u001b[1;33m\u001b[0m\u001b[0m\n\u001b[0;32m      7\u001b[0m \u001b[0mplt\u001b[0m\u001b[1;33m.\u001b[0m\u001b[0mfigure\u001b[0m\u001b[1;33m(\u001b[0m\u001b[0mfigsize\u001b[0m\u001b[1;33m=\u001b[0m\u001b[1;33m(\u001b[0m\u001b[1;36m12\u001b[0m\u001b[1;33m,\u001b[0m\u001b[1;36m6\u001b[0m\u001b[1;33m)\u001b[0m\u001b[1;33m)\u001b[0m\u001b[1;33m\u001b[0m\u001b[1;33m\u001b[0m\u001b[0m\n",
      "\u001b[1;31merror\u001b[0m: OpenCV(4.5.5) D:\\a\\opencv-python\\opencv-python\\opencv\\modules\\imgproc\\src\\demosaicing.cpp:1721: error: (-215:Assertion failed) scn == 1 && (dcn == 3 || dcn == 4) in function 'cv::demosaicing'\n"
     ]
    }
   ],
   "source": [
    "import matplotlib.pyplot as plt\n",
    "\n",
    "imgBGR = cv2.imread('./fig/puppy.bmp', 1)\n",
    "\n",
    "imgRGB = cv2.cvtColor(imgBGR, cv2.COLOR_BAYER_BG2BGR)\n",
    "\n",
    "plt.figure(figsize=(12,6))\n",
    "plt.subplot(121), plt.imshow(imgBGR), plt.axis('off')\n",
    "plt.subplot(122), plt.imshow(imgRGB), plt.axis('off')\n",
    "plt.show()"
   ]
  },
  {
   "cell_type": "code",
   "execution_count": 5,
   "id": "6e87e214",
   "metadata": {},
   "outputs": [],
   "source": [
    "import os\n",
    "\n",
    "img_list = os.listdir('./fig/images/')\n",
    "\n",
    "file_lists = []\n",
    "for i in img_list:\n",
    "    file_list = './fig/images/' + i\n",
    "    file_lists.append(file_list)\n",
    "    \n",
    "cv2.namedWindow('scene', cv2.WINDOW_NORMAL)\n",
    "cv2.setWindowProperty('scene', cv2.WND_PROP_FULLSCREEN,\n",
    "                     cv2.WINDOW_FULLSCREEN)\n",
    "\n",
    "idx = 0\n",
    "while True:\n",
    "    img = cv2.imread(file_lists[idx])\n",
    "    \n",
    "    if img is None:\n",
    "        print('failed')\n",
    "        break\n",
    "    \n",
    "    cv2.imshow('scene', img)\n",
    "    \n",
    "    if cv2.waitKey(3000) == 27:\n",
    "        break\n",
    "        \n",
    "    idx += 1\n",
    "    \n",
    "    if idx >= len(file_lists):\n",
    "        idx = 0 \n",
    "\n",
    "cv2.destroyAllWindows()"
   ]
  },
  {
   "cell_type": "code",
   "execution_count": 33,
   "id": "daa101ab",
   "metadata": {},
   "outputs": [],
   "source": [
    "img = cv2.imread('./fig/puppy.bmp', 1)\n",
    "\n",
    "img1 = img[200:400, 300:500]\n",
    "img2 = img[200:400, 300:500].copy()\n",
    "\n",
    "cv2.circle(img1, (100, 100), 50, (0,0,255), -1)\n",
    "\n",
    "cv2.imshow('image',img)\n",
    "cv2.imshow('image1',img1)\n",
    "cv2.imshow('image2',img2)\n",
    "\n",
    "cv2.waitKey()\n",
    "        \n",
    "cv2.destroyAllWindows()"
   ]
  },
  {
   "cell_type": "code",
   "execution_count": 13,
   "id": "37ab2861",
   "metadata": {},
   "outputs": [],
   "source": [
    "img1 = np.zeros((400, 600, 3), dtype = np.uint8)\n",
    "img2 = np.ones((400, 600), dtype = np.uint8)*200\n",
    "img3 = np.full((400, 600, 3), 255, dtype = np.uint8)\n",
    "img4 = np.random.randint(0, 255,(400, 600), dtype = np.uint8)\n",
    "\n",
    "cv2.imshow('image1', img1)\n",
    "cv2.imshow('image2', img2)\n",
    "cv2.imshow('image3', img3)\n",
    "cv2.imshow('image4', img4)\n",
    "\n",
    "\n",
    "\n",
    "cv2.waitKey()\n",
    "        \n",
    "cv2.destroyAllWindows()"
   ]
  },
  {
   "cell_type": "code",
   "execution_count": 16,
   "id": "50ad934b",
   "metadata": {},
   "outputs": [],
   "source": [
    "src  = cv2.imread('./fig/airplane.bmp')\n",
    "mask = cv2.imread('./fig/mask_plane.bmp', 0)\n",
    "dst  = cv2.imread('./fig/field.bmp')\n",
    "\n",
    "cv2.copyTo(src, mask,dst)\n",
    "\n",
    "cv2.imshow('src', src)\n",
    "cv2.imshow('mask', mask)\n",
    "cv2.imshow('dst', dst)\n",
    "\n",
    "cv2.waitKey()\n",
    "        \n",
    "cv2.destroyAllWindows()\n"
   ]
  },
  {
   "cell_type": "code",
   "execution_count": 62,
   "id": "4016b96a",
   "metadata": {},
   "outputs": [],
   "source": [
    "src = cv2.imread('./fig/cow.png', 1)\n",
    "dst = cv2.imread('./fig/green.png', 1)\n",
    "\n",
    "srcGray = cv2.cvtColor(src, cv2.COLOR_BGR2GRAY)\n",
    "\n",
    "# threshold(src, thresh, maxval, type[, dst]) -> retval, dst\n",
    "_, mask = cv2.threshold(srcGray, 240, 255, cv2.THRESH_BINARY_INV)\n",
    "\n",
    "\n",
    "\n",
    "h, w  = src.shape[:2]\n",
    "dst1 = dst[400:400+h, 300:300+w]\n",
    "#dst1 = cv2.resize(dst1, (w, h), interpolation = cv2.INTER_AREA)\n",
    "\n",
    "\n",
    "if src is None or dst is None:\n",
    "    print(failed)\n",
    "    sys.exit()\n",
    "\n",
    "#cv2.copyTo(src, mask, dst1)\n",
    "dst1[mask > 0] = src[mask > 0]    \n",
    "\n",
    "\n",
    "\n",
    "cv2.imshow('src', src)\n",
    "cv2.imshow('dst1', dst1)\n",
    "cv2.imshow('mask', mask)\n",
    "cv2.imshow('srcGray', srcGray)\n",
    "cv2.imshow('dst', dst)\n",
    "cv2.waitKey()\n",
    "cv2.destroyAllWindows()"
   ]
  },
  {
   "cell_type": "code",
   "execution_count": 72,
   "id": "cacb0ff5",
   "metadata": {},
   "outputs": [],
   "source": [
    "src = cv2.imread('./fig/puppy.bmp')\n",
    "sunglass = cv2.imread('./fig/imgbin_sunglasses_1.png', cv2.IMREAD_UNCHANGED)#알파채널을 뽑을 수 있다.\n",
    "sunglass = cv2.resize(sunglass, (300, 150), interpolation = cv2.INTER_AREA)\n",
    "\n",
    "mask = sunglass[:,:,-1] #알파채널 분리\n",
    "sunglass = sunglass[:,:,:3]\n",
    "\n",
    "h,w = mask.shape[:2]\n",
    "src_c = src[120:120+h, 220:220+w]\n",
    "\n",
    "cv2.copyTo(sunglass, mask, src_c)\n",
    "\n",
    "cv2.imshow('src',src)\n",
    "cv2.imshow('src_c',src_c)\n",
    "cv2.imshow('mask',mask)\n",
    "cv2.imshow('sunglass',sunglass)\n",
    "z\n",
    "cv2.waitKey()\n",
    "cv2.destroyAllWindows()"
   ]
  },
  {
   "cell_type": "code",
   "execution_count": 107,
   "id": "70bda266",
   "metadata": {},
   "outputs": [],
   "source": [
    "src = cv2.imread('./fig/puppy_1280_853.jpg')\n",
    "sunglass = cv2.imread('./fig/pngegg.png', cv2.IMREAD_UNCHANGED)#알파채널을 뽑을 수 있다.\n",
    "sunglass = cv2.resize(sunglass, (400, 600), interpolation = cv2.INTER_AREA)\n",
    "\n",
    "mask = sunglass[:,:,-1] #알파채널 분리\n",
    "sunglass = sunglass[:,:,:3]\n",
    "\n",
    "h,w = mask.shape[:2]\n",
    "src_c = src[0:0+h, 0:0+w]\n",
    "\n",
    "cv2.copyTo(sunglass, mask, src_c)\n",
    "\n",
    "cv2.imshow('src',src)\n",
    "cv2.imshow('src_c',src_c)\n",
    "cv2.imshow('mask',mask)\n",
    "cv2.imshow('sunglass',sunglass)\n",
    "\n",
    "cv2.waitKey()\n",
    "cv2.destroyAllWindows()"
   ]
  },
  {
   "cell_type": "code",
   "execution_count": null,
   "id": "0ca9a142",
   "metadata": {},
   "outputs": [],
   "source": []
  }
 ],
 "metadata": {
  "kernelspec": {
   "display_name": "Python [conda env:tensorflow] *",
   "language": "python",
   "name": "conda-env-tensorflow-py"
  },
  "language_info": {
   "codemirror_mode": {
    "name": "ipython",
    "version": 3
   },
   "file_extension": ".py",
   "mimetype": "text/x-python",
   "name": "python",
   "nbconvert_exporter": "python",
   "pygments_lexer": "ipython3",
   "version": "3.8.12"
  }
 },
 "nbformat": 4,
 "nbformat_minor": 5
}
