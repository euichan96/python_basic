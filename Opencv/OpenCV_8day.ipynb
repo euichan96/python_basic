{
 "cells": [
  {
   "cell_type": "code",
   "execution_count": 1,
   "id": "5a4a1412",
   "metadata": {},
   "outputs": [],
   "source": [
    "import numpy as np\n",
    "import cv2"
   ]
  },
  {
   "cell_type": "code",
   "execution_count": 8,
   "id": "2438ec79",
   "metadata": {},
   "outputs": [],
   "source": [
    "src = cv2.imread('./fig/cow.png', cv2.IMREAD_GRAYSCALE)\n",
    "\n",
    "dft = cv2.dft(np.float32(src), flags = cv2.DFT_COMPLEX_OUTPUT)\n",
    "dft_shift = np.fft.fftshift(dft)\n",
    "# float32 형식  -> uint8로 바꾸어야함\n",
    "dft_output = cv2.magnitude(dft_shift[:,:,0], dft_shift[:,:,1])\n",
    "dft_output = 16*np.log(dft_output)\n",
    "dft_output = cv2.normalize(dft_output, None, 0, 255,\n",
    "                          cv2.NORM_MINMAX, cv2.CV_8UC1)\n",
    "#dft_output = dft_output.astype(np.uint8)\n",
    "\n",
    "inv_shift = np.fft.ifftshift(dft_shift)\n",
    "inv_dft = cv2.dft(dft_shift, flags = cv2.DFT_INVERSE)\n",
    "inv_output = cv2.magnitude(inv_dft[:,:,0], inv_dft[:,:,1])\n",
    "inv_output = cv2.normalize(inv_output, None, 0, 255,\n",
    "                          cv2.NORM_MINMAX, cv2.CV_8UC1)\n",
    "\n",
    "cv2.imshow('src', src)\n",
    "cv2.imshow('dft', dft_output)\n",
    "cv2.imshow('inv', inv_output)\n",
    "\n",
    "cv2.waitKey()\n",
    "cv2.destroyAllWindows()"
   ]
  },
  {
   "cell_type": "code",
   "execution_count": null,
   "id": "3968f42d",
   "metadata": {},
   "outputs": [],
   "source": []
  },
  {
   "cell_type": "code",
   "execution_count": 9,
   "id": "d936682b",
   "metadata": {},
   "outputs": [],
   "source": [
    "## 히스토그램 역투영\n",
    "\n",
    "src_girl = cv2.imread('./fig/autumn.jpg', cv2.IMREAD_REDUCED_COLOR_2)\n",
    "src = cv2.imread('./fig/chromakey.png', cv2.IMREAD_REDUCED_COLOR_2)\n",
    "\n",
    "x,y,w,h = cv2.selectROI(src)\n",
    "\n",
    "src_ycrcb = cv2.cvtColor(src, cv2.COLOR_BGR2YCrCb)\n",
    "crop = src_ycrcb[y:y+h, x:x+w]\n",
    "\n",
    "hist = cv2.calcHist([crop], [1,2], None, [256,256], [0,256,0,256])\n",
    "\n",
    "backproj = cv2.calcBackProject([src_ycrcb], [1,2], hist, [0,256,0,256],1)\n",
    "\n",
    "h1, w1  = src.shape[:2]\n",
    "src_girl_1 = src_girl[400:400+h1, 300:300+w1]\n",
    "\n",
    "\n",
    "dst = cv2.copyTo(src, backproj, src_girl_1)\n",
    "\n",
    "cv2.imshow('src',src)\n",
    "cv2.imshow('src_girl',src_girl)\n",
    "\n",
    "cv2.imshow('crop',crop)\n",
    "cv2.imshow('hist',hist)\n",
    "cv2.imshow('backproj',backproj)\n",
    "cv2.imshow('dst',dst)\n",
    "\n",
    "cv2.waitKey()\n",
    "cv2.destroyAllWindows()"
   ]
  },
  {
   "cell_type": "code",
   "execution_count": 4,
   "id": "51d4fecb",
   "metadata": {},
   "outputs": [
    {
     "ename": "error",
     "evalue": "OpenCV(4.5.5) D:\\a\\opencv-python\\opencv-python\\opencv\\modules\\highgui\\src\\window.cpp:862: error: (-215:Assertion failed) trackbar in function 'cv::getTrackbarPos'\n",
     "output_type": "error",
     "traceback": [
      "\u001b[1;31m---------------------------------------------------------------------------\u001b[0m",
      "\u001b[1;31merror\u001b[0m                                     Traceback (most recent call last)",
      "\u001b[1;32m~\\AppData\\Local\\Temp/ipykernel_7428/2593841697.py\u001b[0m in \u001b[0;36mcall_track\u001b[1;34m(pos)\u001b[0m\n\u001b[0;32m      6\u001b[0m \u001b[1;33m\u001b[0m\u001b[0m\n\u001b[0;32m      7\u001b[0m     \u001b[0mhmin\u001b[0m \u001b[1;33m=\u001b[0m \u001b[0mcv2\u001b[0m\u001b[1;33m.\u001b[0m\u001b[0mgetTrackbarPos\u001b[0m\u001b[1;33m(\u001b[0m\u001b[1;34m'hmin'\u001b[0m\u001b[1;33m,\u001b[0m \u001b[1;34m'mask'\u001b[0m\u001b[1;33m)\u001b[0m\u001b[1;33m\u001b[0m\u001b[1;33m\u001b[0m\u001b[0m\n\u001b[1;32m----> 8\u001b[1;33m     \u001b[0mhmax\u001b[0m \u001b[1;33m=\u001b[0m \u001b[0mcv2\u001b[0m\u001b[1;33m.\u001b[0m\u001b[0mgetTrackbarPos\u001b[0m\u001b[1;33m(\u001b[0m\u001b[1;34m'hmax'\u001b[0m\u001b[1;33m,\u001b[0m \u001b[1;34m'mask'\u001b[0m\u001b[1;33m)\u001b[0m\u001b[1;33m\u001b[0m\u001b[1;33m\u001b[0m\u001b[0m\n\u001b[0m\u001b[0;32m      9\u001b[0m     \u001b[0msmin\u001b[0m \u001b[1;33m=\u001b[0m \u001b[0mcv2\u001b[0m\u001b[1;33m.\u001b[0m\u001b[0mgetTrackbarPos\u001b[0m\u001b[1;33m(\u001b[0m\u001b[1;34m'smin'\u001b[0m\u001b[1;33m,\u001b[0m \u001b[1;34m'mask'\u001b[0m\u001b[1;33m)\u001b[0m\u001b[1;33m\u001b[0m\u001b[1;33m\u001b[0m\u001b[0m\n\u001b[0;32m     10\u001b[0m \u001b[1;33m\u001b[0m\u001b[0m\n",
      "\u001b[1;31merror\u001b[0m: OpenCV(4.5.5) D:\\a\\opencv-python\\opencv-python\\opencv\\modules\\highgui\\src\\window.cpp:862: error: (-215:Assertion failed) trackbar in function 'cv::getTrackbarPos'\n"
     ]
    },
    {
     "ename": "error",
     "evalue": "OpenCV(4.5.5) D:\\a\\opencv-python\\opencv-python\\opencv\\modules\\highgui\\src\\window.cpp:862: error: (-215:Assertion failed) trackbar in function 'cv::getTrackbarPos'\n",
     "output_type": "error",
     "traceback": [
      "\u001b[1;31m---------------------------------------------------------------------------\u001b[0m",
      "\u001b[1;31merror\u001b[0m                                     Traceback (most recent call last)",
      "\u001b[1;32m~\\AppData\\Local\\Temp/ipykernel_7428/2593841697.py\u001b[0m in \u001b[0;36mcall_track\u001b[1;34m(pos)\u001b[0m\n\u001b[0;32m      7\u001b[0m     \u001b[0mhmin\u001b[0m \u001b[1;33m=\u001b[0m \u001b[0mcv2\u001b[0m\u001b[1;33m.\u001b[0m\u001b[0mgetTrackbarPos\u001b[0m\u001b[1;33m(\u001b[0m\u001b[1;34m'hmin'\u001b[0m\u001b[1;33m,\u001b[0m \u001b[1;34m'mask'\u001b[0m\u001b[1;33m)\u001b[0m\u001b[1;33m\u001b[0m\u001b[1;33m\u001b[0m\u001b[0m\n\u001b[0;32m      8\u001b[0m     \u001b[0mhmax\u001b[0m \u001b[1;33m=\u001b[0m \u001b[0mcv2\u001b[0m\u001b[1;33m.\u001b[0m\u001b[0mgetTrackbarPos\u001b[0m\u001b[1;33m(\u001b[0m\u001b[1;34m'hmax'\u001b[0m\u001b[1;33m,\u001b[0m \u001b[1;34m'mask'\u001b[0m\u001b[1;33m)\u001b[0m\u001b[1;33m\u001b[0m\u001b[1;33m\u001b[0m\u001b[0m\n\u001b[1;32m----> 9\u001b[1;33m     \u001b[0msmin\u001b[0m \u001b[1;33m=\u001b[0m \u001b[0mcv2\u001b[0m\u001b[1;33m.\u001b[0m\u001b[0mgetTrackbarPos\u001b[0m\u001b[1;33m(\u001b[0m\u001b[1;34m'smin'\u001b[0m\u001b[1;33m,\u001b[0m \u001b[1;34m'mask'\u001b[0m\u001b[1;33m)\u001b[0m\u001b[1;33m\u001b[0m\u001b[1;33m\u001b[0m\u001b[0m\n\u001b[0m\u001b[0;32m     10\u001b[0m \u001b[1;33m\u001b[0m\u001b[0m\n\u001b[0;32m     11\u001b[0m     dst_mask = cv2.inRange(src_hsv, (hmin,smin,0 ),\n",
      "\u001b[1;31merror\u001b[0m: OpenCV(4.5.5) D:\\a\\opencv-python\\opencv-python\\opencv\\modules\\highgui\\src\\window.cpp:862: error: (-215:Assertion failed) trackbar in function 'cv::getTrackbarPos'\n"
     ]
    }
   ],
   "source": [
    "import numpy as np\n",
    "import cv2\n",
    "\n",
    "def call_track(pos):\n",
    "    global src_hsv, dst\n",
    "    \n",
    "    hmin = cv2.getTrackbarPos('hmin', 'mask')\n",
    "    hmax = cv2.getTrackbarPos('hmax', 'mask')\n",
    "    smin = cv2.getTrackbarPos('smin', 'mask')\n",
    "    \n",
    "    dst_mask = cv2.inRange(src_hsv, (hmin,smin,0 ),\n",
    "                          (hmax,255,255))\n",
    "    dst1 = dst.copy()\n",
    "    cv2.copyTo(src, dst_mask, dst1)\n",
    "    cv2.imshow('mask', dst_mask)\n",
    "    cv2.imshow('dst', dst1)\n",
    "\n",
    "src = cv2.imread('./fig/autumn.jpg')\n",
    "dst = cv2.imread('./fig/chromakey.png')\n",
    "\n",
    "h, w = dst.shape[:2]\n",
    "src = cv2.resize(src, (w,h), interpolation = cv2.INTER_AREA)\n",
    "\n",
    "src_hsv = cv2.cvtColor(dst, cv2.COLOR_BGR2HSV)\n",
    "\n",
    "### 트랙바\n",
    "cv2.namedWindow('mask')\n",
    "cv2.createTrackbar('hmin', 'mask', 10, 255, call_track)\n",
    "cv2.createTrackbar('hmax', 'mask', 50, 255, call_track)\n",
    "cv2.createTrackbar('smin', 'mask', 0, 255, call_track)\n",
    "\n",
    "\n",
    "#mask = cv2.inRange(src_hsv, (50,150,0), (80,255,255))\n",
    "\n",
    "#cv2.copyTo(src, mask, dst)\n",
    "\n",
    "cv2.imshow('src',src)\n",
    "#cv2.imshow('mask',mask)\n",
    "cv2.imshow('dst',dst)\n",
    "\n",
    "\n",
    "cv2.waitKey()\n",
    "cv2.destroyAllWindows()"
   ]
  },
  {
   "cell_type": "code",
   "execution_count": null,
   "id": "e3cd84bc",
   "metadata": {},
   "outputs": [],
   "source": []
  }
 ],
 "metadata": {
  "kernelspec": {
   "display_name": "Python [conda env:tensorflow] *",
   "language": "python",
   "name": "conda-env-tensorflow-py"
  },
  "language_info": {
   "codemirror_mode": {
    "name": "ipython",
    "version": 3
   },
   "file_extension": ".py",
   "mimetype": "text/x-python",
   "name": "python",
   "nbconvert_exporter": "python",
   "pygments_lexer": "ipython3",
   "version": "3.8.12"
  }
 },
 "nbformat": 4,
 "nbformat_minor": 5
}
