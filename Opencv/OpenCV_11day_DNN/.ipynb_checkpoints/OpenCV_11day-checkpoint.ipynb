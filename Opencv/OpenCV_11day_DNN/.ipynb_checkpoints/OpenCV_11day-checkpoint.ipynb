{
 "cells": [
  {
   "cell_type": "code",
   "execution_count": 52,
   "id": "18cd14b2",
   "metadata": {},
   "outputs": [],
   "source": [
    "import sys\n",
    "import numpy as np\n",
    "import cv2"
   ]
  },
  {
   "cell_type": "code",
   "execution_count": 12,
   "id": "653a15f9",
   "metadata": {},
   "outputs": [],
   "source": [
    "src = cv2.imread('./fig/blue_eyes.png')\n",
    "\n",
    "kernel_3 = np.ones((3,3), np.uint8)/9.\n",
    "kernel_5 = np.ones((5,5), np.uint8)/25.\n",
    "kernel_9 = np.ones((9,9), np.uint8)/81.\n",
    "#print(kernel.dtype)\n",
    "dst_3 = cv2.filter2D(src, -1, kernel_3)\n",
    "dst_5 = cv2.filter2D(src, -1, kernel_5)\n",
    "dst_9 = cv2.filter2D(src, -1, kernel_9)\n",
    "\n",
    "dst_blur = cv2.blur(src,(3,3))\n",
    "\n",
    "cv2.imshow('src', src)\n",
    "cv2.imshow('dst_3', dst_3)\n",
    "cv2.imshow('dst_5', dst_5)\n",
    "cv2.imshow('dst_9', dst_9)\n",
    "cv2.imshow('dst_blur', dst_blur)\n",
    "\n",
    "cv2.waitKey()\n",
    "cv2.destroyAllWindows()  "
   ]
  },
  {
   "cell_type": "code",
   "execution_count": 13,
   "id": "7d460e69",
   "metadata": {},
   "outputs": [],
   "source": [
    "for kszie in (3, 5, 7, 9):\n",
    "    dst = cv2.blur(src, (kszie, kszie))\n",
    "    \n",
    "    text = f'{kszie} X {kszie}'\n",
    "    cv2.putText(dst, text, (10,30), cv2.FONT_HERSHEY_COMPLEX,\n",
    "               0.8, (0, 0, 255), 1, cv2.LINE_AA)\n",
    "    cv2.imshow('dst', dst)\n",
    "    if cv2.waitKey(3000) == 27:\n",
    "        break\n",
    "\n",
    "cv2.destroyAllWindows()      "
   ]
  },
  {
   "cell_type": "code",
   "execution_count": 17,
   "id": "72e80ab3",
   "metadata": {},
   "outputs": [],
   "source": [
    "# Gaussian 필터\n",
    "src = cv2.imread('./fig/blue_eyes.png')\n",
    "\n",
    "dst_gaussian_1 = cv2.GaussianBlur(src, (0,0), 1)\n",
    "dst_gaussian_2 = cv2.GaussianBlur(src, (0,0), 2)\n",
    "dst_gaussian_half = cv2.GaussianBlur(src, (0,0), 0.5)\n",
    "\n",
    "dst_blur = cv2.blur(src, (7, 7))\n",
    "\n",
    "cv2.imshow('src', src)\n",
    "cv2.imshow('dst_gaussian_1', dst_gaussian_1)\n",
    "cv2.imshow('dst_gaussian_2', dst_gaussian_2)\n",
    "cv2.imshow('dst_gaussian_half', dst_gaussian_half)\n",
    "cv2.imshow('dst_blur', dst_blur)\n",
    "\n",
    "cv2.waitKey()\n",
    "cv2.destroyAllWindows()  "
   ]
  },
  {
   "cell_type": "code",
   "execution_count": 21,
   "id": "c6c875d1",
   "metadata": {},
   "outputs": [],
   "source": [
    "# Sharpen filter\n",
    "import sys\n",
    "import numpy as np\n",
    "import cv2\n",
    "\n",
    "src = cv2.imread('./fig/blue_eyes.png',0)\n",
    "src = cv2.GaussianBlur(src, (0,0), 1)\n",
    "\n",
    "blr = cv2.GaussianBlur(src, (0,0), 1) \n",
    "\n",
    "##2 *src - blr\n",
    "# dst_sharp = np.clip(2.0*src - blr, 0 ,255).astype(np.uint8)\n",
    "dst_sharp = cv2.addWeighted(src, 2, blr, -1, 0)\n",
    "\n",
    "cv2.imshow('src', src)\n",
    "cv2.imshow('blr', blr)\n",
    "cv2.imshow('dst_sharp', dst_sharp)\n",
    "\n",
    "cv2.waitKey()\n",
    "cv2.destroyAllWindows()  "
   ]
  },
  {
   "cell_type": "code",
   "execution_count": 23,
   "id": "38a55c94",
   "metadata": {},
   "outputs": [
    {
     "ename": "error",
     "evalue": "OpenCV(4.5.5) :-1: error: (-5:Bad argument) in function 'merge'\n> Overload resolution failed:\n>  - merge() takes at most 2 arguments (3 given)\n>  - merge() takes at most 2 arguments (3 given)\n",
     "output_type": "error",
     "traceback": [
      "\u001b[1;31m---------------------------------------------------------------------------\u001b[0m",
      "\u001b[1;31merror\u001b[0m                                     Traceback (most recent call last)",
      "\u001b[1;32m~\\AppData\\Local\\Temp/ipykernel_18480/2533466781.py\u001b[0m in \u001b[0;36m<module>\u001b[1;34m\u001b[0m\n\u001b[0;32m      9\u001b[0m \u001b[1;33m\u001b[0m\u001b[0m\n\u001b[0;32m     10\u001b[0m \u001b[0mv_gaussian\u001b[0m \u001b[1;33m=\u001b[0m \u001b[0mcv2\u001b[0m\u001b[1;33m.\u001b[0m\u001b[0mGaussianBlur\u001b[0m\u001b[1;33m(\u001b[0m\u001b[0mv\u001b[0m\u001b[1;33m,\u001b[0m \u001b[1;33m(\u001b[0m\u001b[1;36m0\u001b[0m\u001b[1;33m,\u001b[0m\u001b[1;36m0\u001b[0m\u001b[1;33m)\u001b[0m\u001b[1;33m,\u001b[0m \u001b[1;36m1\u001b[0m\u001b[1;33m)\u001b[0m\u001b[1;33m\u001b[0m\u001b[1;33m\u001b[0m\u001b[0m\n\u001b[1;32m---> 11\u001b[1;33m \u001b[0msrc_hsv_g\u001b[0m \u001b[1;33m=\u001b[0m \u001b[0mcv2\u001b[0m\u001b[1;33m.\u001b[0m\u001b[0mmerge\u001b[0m\u001b[1;33m(\u001b[0m\u001b[0mh\u001b[0m\u001b[1;33m,\u001b[0m \u001b[0ms\u001b[0m\u001b[1;33m,\u001b[0m \u001b[0mv_gaussian\u001b[0m\u001b[1;33m)\u001b[0m\u001b[1;33m\u001b[0m\u001b[1;33m\u001b[0m\u001b[0m\n\u001b[0m\u001b[0;32m     12\u001b[0m \u001b[1;33m\u001b[0m\u001b[0m\n\u001b[0;32m     13\u001b[0m \u001b[0mdst\u001b[0m \u001b[1;33m=\u001b[0m \u001b[0mcv2\u001b[0m\u001b[1;33m.\u001b[0m\u001b[0maddWeighted\u001b[0m\u001b[1;33m(\u001b[0m\u001b[0msrc_hsv\u001b[0m\u001b[1;33m,\u001b[0m \u001b[1;36m2\u001b[0m\u001b[1;33m,\u001b[0m \u001b[0msrc_hsv_g\u001b[0m\u001b[1;33m,\u001b[0m \u001b[1;33m-\u001b[0m\u001b[1;36m1\u001b[0m\u001b[1;33m,\u001b[0m \u001b[1;36m0\u001b[0m\u001b[1;33m)\u001b[0m\u001b[1;33m\u001b[0m\u001b[1;33m\u001b[0m\u001b[0m\n",
      "\u001b[1;31merror\u001b[0m: OpenCV(4.5.5) :-1: error: (-5:Bad argument) in function 'merge'\n> Overload resolution failed:\n>  - merge() takes at most 2 arguments (3 given)\n>  - merge() takes at most 2 arguments (3 given)\n"
     ]
    }
   ],
   "source": [
    "# Sharpen filter\n",
    "import sys\n",
    "import numpy as np\n",
    "import cv2\n",
    "\n",
    "src = cv2.imread('./fig/blue_eyes.png',1)\n",
    "src_hsv = cv2.cvtColor(src, cv2.COLOR_BGR2HSV)\n",
    "h, s, v = cv2.split(src_hsv)\n",
    "\n",
    "v_gaussian = cv2.GaussianBlur(v, (0,0), 1)\n",
    "src_hsv_g = cv2.merge(h, s, v_gaussian)\n",
    "\n",
    "dst = cv2.addWeighted(src_hsv, 2, src_hsv_g, -1, 0)\n",
    "dst = cv2.cvtColor(dst, cv2.COLOR_BGR2HSV)\n",
    "\n",
    "\n",
    "cv2.imshow('src', src)\n",
    "cv2.imshow('dst', dst)\n",
    "\n",
    "cv2.waitKey()\n",
    "cv2.destroyAllWindows()  "
   ]
  },
  {
   "cell_type": "code",
   "execution_count": 27,
   "id": "bdae162c",
   "metadata": {},
   "outputs": [],
   "source": [
    "## Median filter\n",
    "\n",
    "src = cv2.imread('./fig/blue_eyes.png', cv2.IMREAD_GRAYSCALE)\n",
    "\n",
    "dst_Gaussian = cv2.GaussianBlur(src, (0,0), 3)\n",
    "dst_bilateral = cv2.bilateralFilter(src, -1, 10, 3)\n",
    "\n",
    "cv2.imshow('src', src)\n",
    "cv2.imshow('dst_Gaussian', dst_Gaussian)\n",
    "cv2.imshow('dst_bilateral', dst_bilateral)\n",
    "\n",
    "cv2.waitKey()\n",
    "cv2.destroyAllWindows()  "
   ]
  },
  {
   "cell_type": "code",
   "execution_count": 57,
   "id": "768a227b",
   "metadata": {},
   "outputs": [],
   "source": [
    "## cartoon filter\n",
    "src = cv2.imread('../eui.jpg')\n",
    "\n",
    "blr = cv2.GaussianBlur(src, (0,0), 4)\n",
    "\n",
    "# 구조화 요소 커널, 사각형 (3x3) 생성\n",
    "k = cv2.getStructuringElement(cv2.MORPH_RECT, (4,4))\n",
    "# 팽창 연산 적용 ---②\n",
    "\n",
    "edge = cv2.Canny(src, 50, 150) ##칼라로 바꾸어야 합성가능\n",
    "edge = cv2.dilate(edge, k)\n",
    "edge = cv2.cvtColor(255 - edge , cv2.COLOR_GRAY2BGR)\n",
    "\n",
    "dst = cv2.bitwise_and(blr, edge)\n",
    "\n",
    "cv2.imshow('src', src)\n",
    "cv2.imshow('blr', blr)\n",
    "cv2.imshow('edge', edge)\n",
    "cv2.imshow('dst', dst)\n",
    "\n",
    "cv2.waitKey()\n",
    "cv2.destroyAllWindows()  "
   ]
  },
  {
   "cell_type": "code",
   "execution_count": 58,
   "id": "0c446274",
   "metadata": {},
   "outputs": [],
   "source": [
    "## cartoon filter\n",
    "src = cv2.imread('../iu_hat.jpg')\n",
    "\n",
    "blr = cv2.GaussianBlur(src, (0,0), 4)\n",
    "\n",
    "# 구조화 요소 커널, 사각형 (3x3) 생성\n",
    "k = cv2.getStructuringElement(cv2.MORPH_RECT, (4,4))\n",
    "# 팽창 연산 적용 ---②\n",
    "\n",
    "edge = cv2.Canny(src, 50, 150) ##칼라로 바꾸어야 합성가능\n",
    "edge = cv2.dilate(edge, k)\n",
    "edge = cv2.cvtColor(255 - edge , cv2.COLOR_GRAY2BGR)\n",
    "\n",
    "dst = cv2.bitwise_and(blr, edge)\n",
    "\n",
    "cv2.imshow('src', src)\n",
    "cv2.imshow('blr', blr)\n",
    "cv2.imshow('edge', edge)\n",
    "cv2.imshow('dst', dst)\n",
    "\n",
    "cv2.waitKey()\n",
    "cv2.destroyAllWindows()  "
   ]
  },
  {
   "cell_type": "code",
   "execution_count": 66,
   "id": "39c278f9",
   "metadata": {},
   "outputs": [],
   "source": [
    "src = cv2.imread('../fig/puppy.bmp')\n",
    "\n",
    "affine = np.array([[2,0,0],[0,2,0]],np.float32)\n",
    "\n",
    "h, w = src.shape[:2]\n",
    "dst = cv2.warpAffine(src, affine, (0, 0))\n",
    "\n",
    "cv2.imshow('src', src)\n",
    "cv2.imshow('dst', dst)\n",
    "\n",
    "cv2.waitKey()\n",
    "cv2.destroyAllWindows()  "
   ]
  },
  {
   "cell_type": "code",
   "execution_count": 71,
   "id": "50ae8163",
   "metadata": {},
   "outputs": [],
   "source": [
    "src = cv2.imread('../fig/cat.bmp')\n",
    "\n",
    "dst1 = cv2.resize(src, (1920, 1280), interpolation = cv2.INTER_LINEAR)\n",
    "dst2 = cv2.resize(src, (1920, 1280), interpolation = cv2.INTER_NEAREST)\n",
    "dst3 = cv2.resize(src, (1920, 1280), interpolation = cv2.INTER_CUBIC)\n",
    "\n",
    "cv2.imshow('src', src)\n",
    "cv2.imshow('dst1', dst1)\n",
    "cv2.imshow('dst2', dst2)\n",
    "cv2.imshow('dst3', dst3)\n",
    "\n",
    "\n",
    "cv2.waitKey()\n",
    "cv2.destroyAllWindows()  "
   ]
  },
  {
   "cell_type": "code",
   "execution_count": null,
   "id": "5a0227d7",
   "metadata": {},
   "outputs": [],
   "source": []
  }
 ],
 "metadata": {
  "kernelspec": {
   "display_name": "Python [conda env:tensorflow] *",
   "language": "python",
   "name": "conda-env-tensorflow-py"
  },
  "language_info": {
   "codemirror_mode": {
    "name": "ipython",
    "version": 3
   },
   "file_extension": ".py",
   "mimetype": "text/x-python",
   "name": "python",
   "nbconvert_exporter": "python",
   "pygments_lexer": "ipython3",
   "version": "3.8.12"
  }
 },
 "nbformat": 4,
 "nbformat_minor": 5
}
