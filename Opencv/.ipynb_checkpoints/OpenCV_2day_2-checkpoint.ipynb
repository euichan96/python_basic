{
 "cells": [
  {
   "cell_type": "code",
   "execution_count": 1,
   "id": "496b9ae3",
   "metadata": {},
   "outputs": [],
   "source": [
    "import numpy as np\n",
    "import cv2\n",
    "import sys"
   ]
  },
  {
   "cell_type": "code",
   "execution_count": 33,
   "id": "6c855cfd",
   "metadata": {},
   "outputs": [],
   "source": [
    "img = cv2.imread('./fig/puppy.bmp',0)\n",
    "img2 = cv2.imread('./fig/puppy_1280_853.jpg',1)\n",
    "\n",
    "if img is None or img2 is None:\n",
    "    print('failed')\n",
    "    sys.exit()\n",
    "\n",
    "cv2.imshow('img', img)\n",
    "cv2.imshow('img2', img2)\n",
    "\n",
    "cv2.waitKey()\n",
    "\n",
    "cv2.destroyAllWindows()"
   ]
  },
  {
   "cell_type": "code",
   "execution_count": 3,
   "id": "9f638ea5",
   "metadata": {},
   "outputs": [
    {
     "name": "stdout",
     "output_type": "stream",
     "text": [
      "image dimension = 640 X 480\n"
     ]
    }
   ],
   "source": [
    "h, w  = img.shape[:2]\n",
    "print(f'image dimension = {w} X {h}')"
   ]
  },
  {
   "cell_type": "code",
   "execution_count": 57,
   "id": "50a05fb6",
   "metadata": {},
   "outputs": [],
   "source": [
    "img = cv2.imread('./fig/puppy.bmp',0)\n",
    "img1 = cv2.imread('./fig/puppy_1280_853.jpg',1)\n",
    "\n",
    "x = 200\n",
    "y = 300\n",
    "\n",
    "img[10:y, 30:x] = 255 # BGR\n",
    "#img[10:y, 30:x] = [0, 0, 255] # BGR\n",
    "\n",
    "if img is None or img2 is None:\n",
    "    print('failed')\n",
    "    sys.exit()\n",
    "\n",
    "cv2.imshow('img', img)\n",
    "cv2.waitKey()\n",
    "\n",
    "cv2.destroyAllWindows()"
   ]
  },
  {
   "cell_type": "code",
   "execution_count": 56,
   "id": "88005f2f",
   "metadata": {},
   "outputs": [],
   "source": [
    "#영상 생성 \n",
    "img1 = np.ones([400, 600, 3], dtype = np.uint8)*208\n",
    "img2 = np.full((400, 600, 3), (0,200,255), dtype = np.uint8)\n",
    "img3 = np.zeros((400, 600, 3), dtype = np.uint8)\n",
    "img4 = np.random.randint(0, 255, (400, 600), dtype = np.uint8)\n",
    "\n",
    "cv2.imshow('img1', img1)\n",
    "cv2.imshow('img2', img2)\n",
    "cv2.imshow('img3', img3)\n",
    "cv2.imshow('img4', img4)\n",
    "\n",
    "cv2.waitKey()\n",
    "\n",
    "cv2.destroyAllWindows()\n"
   ]
  },
  {
   "cell_type": "code",
   "execution_count": null,
   "id": "adf0454a",
   "metadata": {},
   "outputs": [],
   "source": []
  },
  {
   "cell_type": "code",
   "execution_count": null,
   "id": "f672a3d3",
   "metadata": {},
   "outputs": [],
   "source": []
  },
  {
   "cell_type": "code",
   "execution_count": null,
   "id": "12b5d45d",
   "metadata": {},
   "outputs": [],
   "source": []
  },
  {
   "cell_type": "code",
   "execution_count": 60,
   "id": "8baea0b6",
   "metadata": {},
   "outputs": [],
   "source": [
    "img = cv2.imread('./fig/puppy.bmp',0)\n",
    "\n",
    "x = 200\n",
    "y = 300\n",
    "\n",
    "img[150:250, 250:500] = 30 # BGR\n",
    "\n",
    "if img is None or img2 is None:\n",
    "    print('failed')\n",
    "    sys.exit()\n",
    "\n",
    "cv2.imshow('img', img)\n",
    "cv2.waitKey()\n",
    "\n",
    "cv2.destroyAllWindows()"
   ]
  },
  {
   "cell_type": "code",
   "execution_count": 72,
   "id": "bdf06b2d",
   "metadata": {},
   "outputs": [],
   "source": [
    "img = cv2.imread('./fig/puppy.bmp')\n",
    "\n",
    "img1 = img[200:400, 300:500]\n",
    "img2 = img[200:400, 300:500].copy()\n",
    "\n",
    "#\n",
    "cv2.circle(img1, (100, 100), 50, (0,0,255), 5, cv2.LINE_AA)\n",
    "\n",
    "cv2.imshow('img', img)\n",
    "cv2.imshow('img1', img1)\n",
    "cv2.imshow('img2', img2)\n",
    "\n",
    "\n",
    "cv2.waitKey()\n",
    "cv2.destroyAllWindows()"
   ]
  },
  {
   "cell_type": "code",
   "execution_count": 111,
   "id": "fa4e55e2",
   "metadata": {},
   "outputs": [],
   "source": [
    "img = cv2.imread('./fig/rudolf.png')\n",
    "\n",
    "img1 = img[410:630, 407:607]\n",
    "img2 = img[410:630, 407:607].copy()\n",
    "\n",
    "#\n",
    "cv2.circle(img1, (100, 100), 60, (0,0,255), -1)\n",
    "\n",
    "cv2.imshow('img', img)\n",
    "cv2.imshow('img1', img1)\n",
    "cv2.imshow('img2', img2)\n",
    "\n",
    "\n",
    "cv2.waitKey()\n",
    "cv2.destroyAllWindows()"
   ]
  },
  {
   "cell_type": "code",
   "execution_count": 122,
   "id": "99d89501",
   "metadata": {},
   "outputs": [],
   "source": [
    "src = cv2.imread('./fig/airplane.bmp')\n",
    "mask = cv2.imread('./fig/mask_plane.bmp')\n",
    "dst = cv2.imread('./fig/field.bmp')\n",
    "\n",
    "\n",
    "# cv2.copyTo(src, mask, dst = None) -> dst\n",
    "cv2.copyTo(src, mask, dst)\n",
    "# dst = cv2.copyTo(src, mask, dst)\n",
    "# dst[mask > 0] = src[mask > 0]\n",
    "\n",
    "\n",
    "cv2.imshow('src', src)\n",
    "cv2.imshow('mask', mask)\n",
    "cv2.imshow('dst', dst)\n",
    "\n",
    "\n",
    "\n",
    "cv2.waitKey()\n",
    "cv2.destroyAllWindows()"
   ]
  },
  {
   "cell_type": "code",
   "execution_count": null,
   "id": "af1ed769",
   "metadata": {},
   "outputs": [],
   "source": []
  }
 ],
 "metadata": {
  "kernelspec": {
   "display_name": "Python [conda env:tensorflow] *",
   "language": "python",
   "name": "conda-env-tensorflow-py"
  },
  "language_info": {
   "codemirror_mode": {
    "name": "ipython",
    "version": 3
   },
   "file_extension": ".py",
   "mimetype": "text/x-python",
   "name": "python",
   "nbconvert_exporter": "python",
   "pygments_lexer": "ipython3",
   "version": "3.8.12"
  }
 },
 "nbformat": 4,
 "nbformat_minor": 5
}
