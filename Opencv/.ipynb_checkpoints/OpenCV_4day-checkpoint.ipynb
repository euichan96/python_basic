{
 "cells": [
  {
   "cell_type": "code",
   "execution_count": 6,
   "id": "1871174e",
   "metadata": {},
   "outputs": [],
   "source": [
    "import numpy as np\n",
    "import cv2\n",
    "import sys"
   ]
  },
  {
   "cell_type": "code",
   "execution_count": 2,
   "id": "f2376f18",
   "metadata": {},
   "outputs": [],
   "source": [
    "img = cv2.imread('./fig/puppy.bmp', 1)\n",
    "\n",
    "if img is None:\n",
    "    sys.exit('failed')\n",
    "\n",
    "#h, w = img.shape[:2]\n",
    "#img_re = cv2.resize(img, (w//2, h//2), interpolation = cv2.INTER_AREA)\n",
    "    \n",
    "cv2.namedWindow('image', cv2.WINDOW_AUTOSIZE)\n",
    "cv2.imshow('image',img)\n",
    "\n",
    "while True:\n",
    "    if cv2.waitKey() ==27:\n",
    "        break\n",
    "        \n",
    "cv2.destroyAllWindows()"
   ]
  },
  {
   "cell_type": "code",
   "execution_count": 3,
   "id": "9503bbfc",
   "metadata": {},
   "outputs": [
    {
     "ename": "error",
     "evalue": "OpenCV(4.5.5) D:\\a\\opencv-python\\opencv-python\\opencv\\modules\\imgproc\\src\\demosaicing.cpp:1721: error: (-215:Assertion failed) scn == 1 && (dcn == 3 || dcn == 4) in function 'cv::demosaicing'\n",
     "output_type": "error",
     "traceback": [
      "\u001b[1;31m---------------------------------------------------------------------------\u001b[0m",
      "\u001b[1;31merror\u001b[0m                                     Traceback (most recent call last)",
      "\u001b[1;32m~\\AppData\\Local\\Temp/ipykernel_784/1837968954.py\u001b[0m in \u001b[0;36m<module>\u001b[1;34m\u001b[0m\n\u001b[0;32m      2\u001b[0m \u001b[1;33m\u001b[0m\u001b[0m\n\u001b[0;32m      3\u001b[0m \u001b[0mimgBRG\u001b[0m \u001b[1;33m=\u001b[0m \u001b[0mcv2\u001b[0m\u001b[1;33m.\u001b[0m\u001b[0mimread\u001b[0m\u001b[1;33m(\u001b[0m\u001b[1;34m'./fig/puppy.bmp'\u001b[0m\u001b[1;33m)\u001b[0m\u001b[1;33m\u001b[0m\u001b[1;33m\u001b[0m\u001b[0m\n\u001b[1;32m----> 4\u001b[1;33m \u001b[0mimgRGB\u001b[0m \u001b[1;33m=\u001b[0m \u001b[0mcv2\u001b[0m\u001b[1;33m.\u001b[0m\u001b[0mcvtColor\u001b[0m\u001b[1;33m(\u001b[0m\u001b[0mimgBRG\u001b[0m\u001b[1;33m,\u001b[0m \u001b[0mcv2\u001b[0m\u001b[1;33m.\u001b[0m\u001b[0mCOLOR_BAYER_BG2BGR\u001b[0m\u001b[1;33m)\u001b[0m\u001b[1;33m\u001b[0m\u001b[1;33m\u001b[0m\u001b[0m\n\u001b[0m\u001b[0;32m      5\u001b[0m \u001b[1;33m\u001b[0m\u001b[0m\n\u001b[0;32m      6\u001b[0m \u001b[0mplt\u001b[0m\u001b[1;33m.\u001b[0m\u001b[0mfigure\u001b[0m\u001b[1;33m(\u001b[0m\u001b[0mfigsize\u001b[0m \u001b[1;33m=\u001b[0m \u001b[1;33m(\u001b[0m\u001b[1;36m20\u001b[0m\u001b[1;33m,\u001b[0m \u001b[1;36m6\u001b[0m\u001b[1;33m)\u001b[0m\u001b[1;33m)\u001b[0m\u001b[1;33m\u001b[0m\u001b[1;33m\u001b[0m\u001b[0m\n",
      "\u001b[1;31merror\u001b[0m: OpenCV(4.5.5) D:\\a\\opencv-python\\opencv-python\\opencv\\modules\\imgproc\\src\\demosaicing.cpp:1721: error: (-215:Assertion failed) scn == 1 && (dcn == 3 || dcn == 4) in function 'cv::demosaicing'\n"
     ]
    }
   ],
   "source": [
    "import matplotlib.pyplot as plt\n",
    "\n",
    "imgBRG = cv2.imread('./fig/puppy.bmp')\n",
    "imgRGB = cv2.cvtColor(imgBRG, cv2.COLOR_BAYER_BG2BGR)\n",
    "\n",
    "plt.figure(figsize = (20, 6))\n",
    "plt.subplot(131), plt.imshow(imgBGR), plt.axis('off')\n",
    "plt.subplot(132), plt.imshow(imgRGB), plt.axis('off')\n",
    "plt.show()"
   ]
  },
  {
   "cell_type": "code",
   "execution_count": 7,
   "id": "f3f910f0",
   "metadata": {},
   "outputs": [],
   "source": [
    "import os"
   ]
  },
  {
   "cell_type": "code",
   "execution_count": 3,
   "id": "22470e1e",
   "metadata": {},
   "outputs": [
    {
     "name": "stdout",
     "output_type": "stream",
     "text": [
      "<class 'list'>\n"
     ]
    },
    {
     "data": {
      "text/plain": [
       "<function destroyAllWindows>"
      ]
     },
     "execution_count": 3,
     "metadata": {},
     "output_type": "execute_result"
    }
   ],
   "source": [
    "img_list = os.listdir('./fig/images/')\n",
    "print(type(img_list))\n",
    "\n",
    "img_files = []\n",
    "for i in img_list:\n",
    "    img_file = './fig/images/' + i\n",
    "    img_files.append(img_file)\n",
    "\n",
    "cv2.namedWindow('scene', cv2.WINDOW_NORMAL)\n",
    "cv2.setWindowProperty('scene', cv2.WND_PROP_FULLSCREEN,\n",
    "                     cv2.WINDOW_FULLSCREEN)\n",
    "\n",
    "idx = 0\n",
    "while True:\n",
    "    img = cv2.imread(img_files[idx])\n",
    "    cv2.imshow('scene', img)\n",
    "    \n",
    "    if cv2.waitKey(3000) == ord('q'):\n",
    "        break\n",
    "   \n",
    "    idx +=1\n",
    "    if idx >= len(img_files):\n",
    "        break\n",
    "    \n",
    "cv2.destroyAllWindows"
   ]
  },
  {
   "cell_type": "code",
   "execution_count": null,
   "id": "ea643cfc",
   "metadata": {},
   "outputs": [],
   "source": [
    "\n"
   ]
  },
  {
   "cell_type": "code",
   "execution_count": 3,
   "id": "9001a812",
   "metadata": {},
   "outputs": [],
   "source": [
    "img1 = np.ones((400,600,3),dtype=np.uint8)*255\n",
    "\n",
    "cv2.imshow('image', img1)\n",
    "cv2.waitKey()\n",
    "cv2.destroyAllWindows()"
   ]
  },
  {
   "cell_type": "code",
   "execution_count": 4,
   "id": "35021eeb",
   "metadata": {},
   "outputs": [],
   "source": [
    "img = cv2.imread('./fig/puppy.bmp')\n",
    "\n",
    "img1 = img\n",
    "img2 = img.copy()"
   ]
  },
  {
   "cell_type": "code",
   "execution_count": 10,
   "id": "678ddaae",
   "metadata": {},
   "outputs": [],
   "source": [
    "src  = cv2.imread('./fig/airplane.bmp')\n",
    "mask = cv2.imread('./fig/mask_plane.bmp')\n",
    "dst  = cv2.imread('./fig/field.bmp')\n",
    "\n",
    "cv2.copyTo(src, mask, dst)\n",
    "                  \n",
    "cv2.imshow('src', src)\n",
    "cv2.imshow('mask', mask)\n",
    "cv2.imshow('dst', dst)\n",
    "\n",
    "cv2.waitKey()\n",
    "cv2.destroyAllWindows()"
   ]
  },
  {
   "cell_type": "code",
   "execution_count": 12,
   "id": "60f9295e",
   "metadata": {},
   "outputs": [],
   "source": [
    "src = cv2.imread('./fig/cow.png', 1)\n",
    "dst = cv2.imread('./fig/green.png', 1)\n",
    "\n",
    "srcGray = cv2.cvtColor(src, cv2.COLOR_BGR2GRAY)\n",
    "\n",
    "# threshold(src, thresh, maxval, type[, dst]) -> retval, dst\n",
    "_, mask = cv2.threshold(srcGray, 240, 255, cv2.THRESH_BINARY_INV)\n",
    "\n",
    "h, w  = src.shape[:2]\n",
    "dst1 = dst[400:400+h, 300:300+w]\n",
    "\n",
    "if src is None or dst is None:\n",
    "    sys.exit('failed')\n",
    "\n",
    "#cv2.copyTo(src, mask, dst1)\n",
    "dst1[mask > 0] = src[mask > 0]    \n",
    "\n",
    "cv2.imshow('src', src)\n",
    "cv2.imshow('mask', mask)\n",
    "cv2.imshow('dst', dst)\n",
    "cv2.waitKey()\n",
    "cv2.destroyAllWindows()"
   ]
  },
  {
   "cell_type": "code",
   "execution_count": 18,
   "id": "00b17028",
   "metadata": {},
   "outputs": [],
   "source": [
    "src = cv2.imread('./fig/puppy.bmp')\n",
    "sunglass = cv2.imread('./fig/imgbin_sunglasses_1.png', \n",
    "                     cv2.IMREAD_UNCHANGED)\n",
    "\n",
    "sunglass = cv2.resize(sunglass, (300, 150))\n",
    "\n",
    "mask =sunglass[:,:,-1]\n",
    "glass =sunglass[:,:,:-1]\n",
    "\n",
    "h,w = mask.shape[:2]\n",
    "src_crop = src[120:120+h, 220:220+w]\n",
    "\n",
    "#cv2.copyTo(glass, mask, src_crop)\n",
    "src_crop[mask > 0] = 255, 0, 0\n",
    "\n",
    "cv2.imshow('mask', mask)\n",
    "cv2.imshow('glass', glass)\n",
    "cv2.imshow('src', src)\n",
    "\n",
    "cv2.waitKey()\n",
    "cv2.destroyAllWindows()"
   ]
  },
  {
   "cell_type": "code",
   "execution_count": 49,
   "id": "3b647aee",
   "metadata": {},
   "outputs": [],
   "source": [
    "##opencv 그리기\n",
    "canvas = np.full((600,1200,3),255,np.uint8)\n",
    "\n",
    "# line(img, pt1, pt2, color[, thickness[, lineType[, shift]]]) -> img\n",
    "cv2.line(canvas, (100, 100), (600, 100), (0,0,255), 5, cv2.LINE_8)\n",
    "cv2.line(canvas, (600, 100), (300, 600), (0,0,255), 5, cv2.LINE_8)\n",
    "cv2.arrowedLine(canvas, (800, 100), (800, 600), (0,255,0), 10, cv2.LINE_8)\n",
    "\n",
    "#rectangle(img, pt1, pt2, color[, thickness[, lineType[, shift]]]) -> img\n",
    "cv2.rectangle(canvas,(50, 400), (400, 600), (0,0,255), -1)\n",
    "cv2.rectangle(canvas,(50, 400, 300, 100), (0,255,0), -1)\n",
    "\n",
    "#circle(img, center, radius, color[, thickness[, lineType[, shift]]]) -> img\n",
    "cv2.circle(canvas, (600, 150), 100, (0,0,255), 5, cv2.LINE_AA)\n",
    "\n",
    "#ellipse(img, center, axes, angle, startAngle, endAngle, color[, thickness[, lineType[, shift]]]) -> img\n",
    "cv2.ellipse(canvas, (600, 150), (50, 100), 10, 0, 360, (0, 0, 255), 5, cv2.LINE_AA)\n",
    "\n",
    "text = 'Hello World'\n",
    "cv2.putText(canvas, text, (700, 300), cv2.FONT_HERSHEY_COMPLEX,\n",
    "            1.2, (255,0,0),1,cv2.LINE_AA)\n",
    "\n",
    "\n",
    "cv2.imshow('canvas', canvas)\n",
    "cv2.waitKey()\n",
    "cv2.destroyAllWindows()"
   ]
  },
  {
   "cell_type": "code",
   "execution_count": 132,
   "id": "8b61b8ab",
   "metadata": {},
   "outputs": [],
   "source": [
    "##opencv 그리기\n",
    "canvas = np.full((900,1800,3),255,np.uint8)\n",
    "\n",
    "# line(img, pt1, pt2, color[, thickness[, lineType[, shift]]]) -> img\n",
    "cv2.line(canvas, (100, 100), (300, 100), (0,0,255), 5, cv2.LINE_8)\n",
    "cv2.line(canvas, (300, 100), (300, 300), (0,0,255), 5, cv2.LINE_8)\n",
    "cv2.line(canvas, (200, 300), (200, 400), (0,0,255), 5, cv2.LINE_8)\n",
    "cv2.line(canvas, (100, 400), (300, 400), (0,0,255), 5, cv2.LINE_8)\n",
    "#고\n",
    "\n",
    "cv2.line(canvas, (400, 100), (600, 100), (0,0,255), 5, cv2.LINE_8)\n",
    "cv2.line(canvas, (600, 100), (600, 250), (0,0,255), 5, cv2.LINE_8)\n",
    "cv2.line(canvas, (600, 250), (400, 250), (0,0,255), 5, cv2.LINE_8)\n",
    "cv2.line(canvas, (400, 250), (400, 400), (0,0,255), 5, cv2.LINE_8)\n",
    "cv2.line(canvas, (400, 400), (600, 400), (0,0,255), 5, cv2.LINE_8)\n",
    "\n",
    "cv2.line(canvas, (700, 100), (700, 400), (0,0,255), 5, cv2.LINE_8)\n",
    "cv2.line(canvas, (700, 175), (650, 175), (0,0,255), 5, cv2.LINE_8)\n",
    "cv2.line(canvas, (700, 225), (650, 225), (0,0,255), 5, cv2.LINE_8)\n",
    "#려\n",
    "\n",
    "cv2.circle(canvas, (900, 200), 100, (0,0,255), 5, cv2.LINE_AA)\n",
    "cv2.line(canvas, (1050, 100), (1050, 300), (0,0,255), 5, cv2.LINE_8)\n",
    "cv2.line(canvas, (900, 400), (900, 350), (0,0,255), 5, cv2.LINE_8)\n",
    "cv2.line(canvas, (900, 400), (1000, 400), (0,0,255), 5, cv2.LINE_8)\n",
    "#인\n",
    "\n",
    "cv2.line(canvas, (1200, 100), (1100, 300), (0,0,255), 5, cv2.LINE_8)\n",
    "cv2.line(canvas, (1200, 100), (1300, 300), (0,0,255), 5, cv2.LINE_8)\n",
    "cv2.line(canvas, (1350, 100), (1350, 300), (0,0,255), 5, cv2.LINE_8)\n",
    "cv2.line(canvas, (1350, 200), (1400, 200), (0,0,255), 5, cv2.LINE_8)\n",
    "\n",
    "cv2.rectangle(canvas,(1150, 350), (1350, 400), (0,0,255),5, cv2.LINE_AA)\n",
    "#삼\n",
    "\n",
    "\n",
    "cv2.putText(canvas, 'Korean Ginseng', (1400, 400), cv2.FONT_HERSHEY_COMPLEX,\n",
    "            1.2, (255,0,0),1,cv2.LINE_AA)\n",
    "\n",
    "\n",
    "cv2.imshow('canvas', canvas)\n",
    "cv2.waitKey()\n",
    "cv2.destroyAllWindows()"
   ]
  },
  {
   "cell_type": "code",
   "execution_count": 144,
   "id": "4fdf765a",
   "metadata": {},
   "outputs": [],
   "source": [
    "##webcam\n",
    "\n",
    "cap = cv2.VideoCapture(0)\n",
    "\n",
    "if not cap.isOpened():\n",
    "    print('Video open failed')\n",
    "    cap.release()\n",
    "    sys.exit()\n",
    "\n",
    "w   = int(cap.get(cv2.CAP_PROP_FRAME_WIDTH))\n",
    "h   = int(cap.get(cv2.CAP_PROP_FRAME_HEIGHT))\n",
    "fps = int(cap.get(cv2.CAP_PROP_FPS)*0.7)\n",
    "\n",
    "fourcc = cv2.VideoWriter_fourcc(*'DIVX')\n",
    "out = cv2.VideoWriter('output.avi', fourcc, fps, (w,h))\n",
    "\n",
    "while True:\n",
    "    \n",
    "    ret, frame = cap.read()\n",
    "    \n",
    "    if not ret:\n",
    "        print('Video read failed')\n",
    "        break\n",
    "    \n",
    "    \n",
    "    edge = cv2.Canny(frame, 50, 150)\n",
    "# GaussianBlur(src, ksize, sigmaX[, dst[, sigmaY[, borderType]]]) -> dst\n",
    "    blur = cv2.GaussianBlur(frame, (0,0), 2)\n",
    "    edge = cv2.cvtColor(edge, cv2.COLOR_GRAY2BGR)\n",
    "    \n",
    "    cv2.imshow('image', frame)\n",
    "    cv2.imshow('edge', edge)\n",
    "    cv2.imshow('blur', blur)\n",
    "    out.write(frame)\n",
    "    out.write(edge)\n",
    "    \n",
    "    if cv2.waitKey(20) == 27:\n",
    "        break\n",
    "        \n",
    "cap.release()\n",
    "out.release()\n",
    "cv2.destroyAllWindows()\n"
   ]
  },
  {
   "cell_type": "code",
   "execution_count": null,
   "id": "f49f5756",
   "metadata": {},
   "outputs": [],
   "source": [
    "\n"
   ]
  }
 ],
 "metadata": {
  "kernelspec": {
   "display_name": "Python [conda env:tensorflow] *",
   "language": "python",
   "name": "conda-env-tensorflow-py"
  },
  "language_info": {
   "codemirror_mode": {
    "name": "ipython",
    "version": 3
   },
   "file_extension": ".py",
   "mimetype": "text/x-python",
   "name": "python",
   "nbconvert_exporter": "python",
   "pygments_lexer": "ipython3",
   "version": "3.8.12"
  }
 },
 "nbformat": 4,
 "nbformat_minor": 5
}
