{
 "cells": [
  {
   "cell_type": "code",
   "execution_count": 5,
   "id": "b97d3950",
   "metadata": {},
   "outputs": [],
   "source": [
    "import sys\n",
    "import numpy as np\n",
    "import cv2"
   ]
  },
  {
   "cell_type": "code",
   "execution_count": 11,
   "id": "74848953",
   "metadata": {},
   "outputs": [
    {
     "ename": "NameError",
     "evalue": "name 'img' is not defined",
     "output_type": "error",
     "traceback": [
      "\u001b[1;31m---------------------------------------------------------------------------\u001b[0m",
      "\u001b[1;31mNameError\u001b[0m                                 Traceback (most recent call last)",
      "\u001b[1;32m~\\AppData\\Local\\Temp/ipykernel_17892/3372841370.py\u001b[0m in \u001b[0;36m<module>\u001b[1;34m\u001b[0m\n\u001b[0;32m     45\u001b[0m                        1, (255, 255, 0), 2, cv2.LINE_AA)\n\u001b[0;32m     46\u001b[0m \u001b[1;33m\u001b[0m\u001b[0m\n\u001b[1;32m---> 47\u001b[1;33m     \u001b[0mcv2\u001b[0m\u001b[1;33m.\u001b[0m\u001b[0mimshow\u001b[0m\u001b[1;33m(\u001b[0m\u001b[1;34m'image'\u001b[0m\u001b[1;33m,\u001b[0m \u001b[0mimg\u001b[0m\u001b[1;33m)\u001b[0m\u001b[1;33m\u001b[0m\u001b[1;33m\u001b[0m\u001b[0m\n\u001b[0m\u001b[0;32m     48\u001b[0m \u001b[1;33m\u001b[0m\u001b[0m\n\u001b[0;32m     49\u001b[0m     \u001b[1;32mif\u001b[0m \u001b[0mcv2\u001b[0m\u001b[1;33m.\u001b[0m\u001b[0mwaitKey\u001b[0m\u001b[1;33m(\u001b[0m\u001b[1;36m20\u001b[0m\u001b[1;33m)\u001b[0m \u001b[1;33m==\u001b[0m  \u001b[1;36m27\u001b[0m\u001b[1;33m:\u001b[0m\u001b[1;33m\u001b[0m\u001b[1;33m\u001b[0m\u001b[0m\n",
      "\u001b[1;31mNameError\u001b[0m: name 'img' is not defined"
     ]
    }
   ],
   "source": [
    "##face detection\n",
    "\n",
    "model = './OpenCV_10day_DNN/opencv_face_detector/opencv_face_detector_uint8.pb'\n",
    "config = './OpenCV_10day_DNN/opencv_face_detector/opencv_face_detector.pbtxt'\n",
    "\n",
    "cap = cv2.VideoCapture(0)\n",
    "\n",
    "if not cap.isOpened():\n",
    "    print('Video open failed')\n",
    "    cap.release()\n",
    "    sys.exit()\n",
    "\n",
    "net = cv2.dnn.readNet(model, config)\n",
    "\n",
    "if net.empty():\n",
    "    print('load failed')\n",
    "    sys.exit()\n",
    "\n",
    "while True:\n",
    "    ret, frame = cap.read()\n",
    "    \n",
    "    if not ret:\n",
    "        print('frame read failed')\n",
    "        break\n",
    "        \n",
    "    blob = cv2.dnn.blobFromImage(frame, 1, (300,300), (104,177,123))\n",
    "    net.setInput(blob)\n",
    "    out = net.forward()\n",
    "    \n",
    "    detect = out[0,0,:,:]\n",
    "    h,w = frame.shape[:2]\n",
    "    \n",
    "    for i in range(detect.shape[0]):\n",
    "        confidence = detect[i,2]\n",
    "        \n",
    "        if confidence > 0.5:\n",
    "            x1 = (detect[i, 3]*w)\n",
    "            y1 = (detect[i, 4]*h)\n",
    "            x2 = (detect[i, 5]*w)\n",
    "            y2 = (detect[i, 6]*h)\n",
    "            cv2.rectangle(frame, (x1,y1),(x2,y2),(0,0,255),2)\n",
    "            \n",
    "            text = 'Face: {}%'.format(round(confidence*100, 2))\n",
    "            cv2.putText(img, text, (x1, y1-3), cv2.FONT_HERSHEY_COMPLEX,\n",
    "                       1, (255, 255, 0), 2, cv2.LINE_AA)\n",
    "\n",
    "    cv2.imshow('image', img)\n",
    "    \n",
    "    if cv2.waitKey(20) ==  27:\n",
    "        break\n",
    "\n",
    "cap.release()\n",
    "cv2.destroyAllWindows()            \n",
    "            "
   ]
  },
  {
   "cell_type": "code",
   "execution_count": null,
   "id": "ea6fdfaa",
   "metadata": {},
   "outputs": [],
   "source": [
    "src = cv2.imread()\n",
    "\n",
    "\n",
    "\n",
    "cv2.imshow('src', src)\n",
    "    \n",
    "cv2.waitKey()\n",
    "cv2.destroyAllWindows()     "
   ]
  }
 ],
 "metadata": {
  "kernelspec": {
   "display_name": "Python [conda env:tensorflow] *",
   "language": "python",
   "name": "conda-env-tensorflow-py"
  },
  "language_info": {
   "codemirror_mode": {
    "name": "ipython",
    "version": 3
   },
   "file_extension": ".py",
   "mimetype": "text/x-python",
   "name": "python",
   "nbconvert_exporter": "python",
   "pygments_lexer": "ipython3",
   "version": "3.8.12"
  }
 },
 "nbformat": 4,
 "nbformat_minor": 5
}
