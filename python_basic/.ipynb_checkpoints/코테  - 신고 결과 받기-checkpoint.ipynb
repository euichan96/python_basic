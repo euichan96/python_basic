{
 "cells": [
  {
   "cell_type": "code",
   "execution_count": 1,
   "id": "35ecbb56",
   "metadata": {},
   "outputs": [],
   "source": [
    "# 시간초과로 복잡도 최소화 필요 \n",
    "# 해결하지 못하여 해결방법을 찾기 위해 깃허브로 이동\n",
    "\n",
    "def solution(id_list, report, k):\n",
    "    id_len = len(id_list)\n",
    "    answer = [0] * id_len\n",
    "    total_report_list = []\n",
    "    report_count = []\n",
    "    \n",
    "    for name in id_list:\n",
    "        report_list = []\n",
    "        for man in report:\n",
    "            a = man.split()\n",
    "            if a[0] == name:\n",
    "                report_list.append(a[1]) \n",
    "                \n",
    "        report_list = set(report_list)        #중복제거\n",
    "        \n",
    "        total_report_list.append(report_list) # total_report_list == 유저가 신고한 ID \n",
    "        report_count += report_list\n",
    "    \n",
    "    for name in id_list:\n",
    "        if k <= report_count.count(name):\n",
    "            for i in range(id_len):\n",
    "                if name in total_report_list[i]:\n",
    "                    answer[i] += 1\n",
    "    return answer"
   ]
  },
  {
   "cell_type": "code",
   "execution_count": null,
   "id": "4da405af",
   "metadata": {},
   "outputs": [],
   "source": []
  }
 ],
 "metadata": {
  "kernelspec": {
   "display_name": "Python 3 (ipykernel)",
   "language": "python",
   "name": "python3"
  },
  "language_info": {
   "codemirror_mode": {
    "name": "ipython",
    "version": 3
   },
   "file_extension": ".py",
   "mimetype": "text/x-python",
   "name": "python",
   "nbconvert_exporter": "python",
   "pygments_lexer": "ipython3",
   "version": "3.9.7"
  }
 },
 "nbformat": 4,
 "nbformat_minor": 5
}
