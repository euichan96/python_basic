{
 "cells": [
  {
   "cell_type": "code",
   "execution_count": 1,
   "id": "54266bb3",
   "metadata": {},
   "outputs": [],
   "source": [
    "#boolean 연습 : ==, !=, >, <, >=, <="
   ]
  },
  {
   "cell_type": "code",
   "execution_count": 3,
   "id": "a305216c",
   "metadata": {},
   "outputs": [
    {
     "name": "stdout",
     "output_type": "stream",
     "text": [
      "숫자입력5\n",
      "양수\n"
     ]
    }
   ],
   "source": [
    "input_num = int(input(\"숫자입력\"))\n",
    "if input_num > 0:\n",
    "    print('양수')\n",
    "if input_num < 0:\n",
    "    print('음수')  \n",
    "if input_num == 0:\n",
    "    print('0')"
   ]
  },
  {
   "cell_type": "code",
   "execution_count": null,
   "id": "63aa6d70",
   "metadata": {},
   "outputs": [],
   "source": [
    "input_num_1 = int(input(\"숫자입력\"))\n",
    "if input_num == 0:"
   ]
  },
  {
   "cell_type": "code",
   "execution_count": 8,
   "id": "b5b696fd",
   "metadata": {},
   "outputs": [
    {
     "name": "stdout",
     "output_type": "stream",
     "text": [
      "숫자입력5\n",
      "홀수\n"
     ]
    }
   ],
   "source": [
    "input_num_2 = int(input(\"숫자입력\"))\n",
    "if input_num_2 % 2 ==0:\n",
    "    print(\"짝수\")\n",
    "else:\n",
    "    print(\"홀수\")"
   ]
  },
  {
   "cell_type": "code",
   "execution_count": null,
   "id": "9589381a",
   "metadata": {},
   "outputs": [],
   "source": [
    "import datetime\n",
    "\n",
    "now = datetime.datetime.now()\n",
    "\n",
    "if 3 <= now.month <= 5:\n",
    "    print(\"봄\")\n",
    "if 6 <= now.month <= 8:\n",
    "    print(\"여름\")\n",
    "if 9 <= now.month <= 11:\n",
    "    print(\"가을\")\n",
    "if 1 <= now.month <= 2 or now.month ==12:\n",
    "    print(\"겨울\")\n",
    "\n",
    "if 0 <= now.hour <= 12:\n",
    "    print(\"오전\")\n",
    "if 13 <= now.hour <= 24:\n",
    "    print(\"오전\")"
   ]
  },
  {
   "cell_type": "code",
   "execution_count": null,
   "id": "a0c5dd7c",
   "metadata": {},
   "outputs": [],
   "source": [
    "\n",
    "\n",
    "\n"
   ]
  },
  {
   "cell_type": "code",
   "execution_count": 15,
   "id": "eb16f772",
   "metadata": {},
   "outputs": [
    {
     "name": "stdout",
     "output_type": "stream",
     "text": [
      "계산식 입력10 * 20\n",
      "10 * 20\n",
      "10 * 20 = 200\n"
     ]
    }
   ],
   "source": [
    "input_str = input(\"계산식 입력\")\n",
    "input_str = input_str.split()\n",
    "input_1 = input_str[0]\n",
    "input_2 = input_str[1]\n",
    "input_3 = input_str[2]\n",
    "\n",
    "print(input_1,input_2,input_3)\n",
    "if input_1. isdigit() and  input_3.isdigit() :\n",
    "    if input_2 in \"+-*/\":\n",
    "        input_1 = int(input_1)\n",
    "        input_3 = int(input_3)\n",
    "        if input_2 == \"+\":\n",
    "            print(input_1, \" + \", input_3, \"=\" ,input_1 + input_3)\n",
    "        if input_2 == \"*\":\n",
    "            print(input_1, \"*\", input_3, \"=\" ,input_1 * input_3)\n",
    "        if input_2 == \"-\":\n",
    "            print(input_1, \"-\", input_3, \"=\" ,input_1 - input_3)\n",
    "        if input_2 == \"/\":\n",
    "            print(input_1, \"/\", input_3, \"=\" ,input_1 / input_3)\n",
    "    else:\n",
    "        print(\"계산불가\")\n",
    "else:\n",
    "    print(\"계산불가\")       "
   ]
  },
  {
   "cell_type": "code",
   "execution_count": null,
   "id": "7c3421de",
   "metadata": {},
   "outputs": [],
   "source": []
  },
  {
   "cell_type": "code",
   "execution_count": null,
   "id": "07c2e08a",
   "metadata": {},
   "outputs": [],
   "source": []
  }
 ],
 "metadata": {
  "kernelspec": {
   "display_name": "Python 3 (ipykernel)",
   "language": "python",
   "name": "python3"
  },
  "language_info": {
   "codemirror_mode": {
    "name": "ipython",
    "version": 3
   },
   "file_extension": ".py",
   "mimetype": "text/x-python",
   "name": "python",
   "nbconvert_exporter": "python",
   "pygments_lexer": "ipython3",
   "version": "3.9.7"
  }
 },
 "nbformat": 4,
 "nbformat_minor": 5
}
