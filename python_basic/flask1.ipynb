{
 "cells": [
  {
   "cell_type": "code",
   "execution_count": 6,
   "id": "d92e5038",
   "metadata": {},
   "outputs": [],
   "source": [
    "# flask 모듈\n",
    "from flask import Flask\n",
    "\n",
    "app = Flask(__name__)\n",
    "\n",
    "@app.route(\"/\")\n",
    "def hello():\n",
    "    return url_report()\n",
    "\n",
    "def url_report():\n",
    "    from urllib import request\n",
    "    from bs4 import BeautifulSoup\n",
    "    \n",
    "    url = 'https://www.weather.go.kr/w/weather/forecast/mid-term.do?stnId1=108'\n",
    "    target =request.urlopen(url)\n",
    "    soup = BeautifulSoup(target)\n",
    "    output = '<table>'\n",
    "    for location in soup.find_all('tr'):\n",
    "        output += '<tr>'\n",
    "        if location.find('td', class_='midterm-city'):\n",
    "            output += \"<td>{}</td>\".format(location.find('td',class_='midterm-city').text)\n",
    "            output += \"<td>{}</td>\".format(location.find('span',class_='tmn').text)\n",
    "            output += \"<td>{}</td>\".format(location.find('span',class_='tmx').text)\n",
    "    return(output)"
   ]
  }
 ],
 "metadata": {
  "kernelspec": {
   "display_name": "Python 3 (ipykernel)",
   "language": "python",
   "name": "python3"
  },
  "language_info": {
   "codemirror_mode": {
    "name": "ipython",
    "version": 3
   },
   "file_extension": ".py",
   "mimetype": "text/x-python",
   "name": "python",
   "nbconvert_exporter": "python",
   "pygments_lexer": "ipython3",
   "version": "3.9.7"
  }
 },
 "nbformat": 4,
 "nbformat_minor": 5
}
