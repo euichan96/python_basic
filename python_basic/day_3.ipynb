{
 "cells": [
  {
   "cell_type": "code",
   "execution_count": 4,
   "id": "f2e330fd",
   "metadata": {},
   "outputs": [
    {
     "ename": "SyntaxError",
     "evalue": "unexpected EOF while parsing (Temp/ipykernel_12756/3634283292.py, line 12)",
     "output_type": "error",
     "traceback": [
      "\u001b[1;36m  File \u001b[1;32m\"C:\\Users\\82109\\AppData\\Local\\Temp/ipykernel_12756/3634283292.py\"\u001b[1;36m, line \u001b[1;32m12\u001b[0m\n\u001b[1;33m    print(\"{}번째 반복 : {}\".format(i, j)\u001b[0m\n\u001b[1;37m                                     ^\u001b[0m\n\u001b[1;31mSyntaxError\u001b[0m\u001b[1;31m:\u001b[0m unexpected EOF while parsing\n"
     ]
    }
   ],
   "source": [
    "list_a = [67,5678,226,222]\n",
    "# 역으로 리스트의 값을 출력\n",
    "for i in range(len(list_a)-1, -1, -1):\n",
    "    print(\"{}번째 반복 : {}\".format(i, list_a[i]))\n",
    "print()\n",
    "\n",
    "for i in reversed(range(len(list_a))):\n",
    "    print(\"{}번째 반복 : {}\".format(i, list_a[i]))\n",
    "print()\n",
    "\n",
    "#for i, j in range(len(list_a)):\n",
    "#    print(\"{}번째 반복 : {}\".format(i, j)"
   ]
  },
  {
   "cell_type": "code",
   "execution_count": null,
   "id": "3e2b95d7",
   "metadata": {},
   "outputs": [],
   "source": []
  },
  {
   "cell_type": "code",
   "execution_count": 54,
   "id": "7dbbf3fc",
   "metadata": {},
   "outputs": [
    {
     "name": "stdout",
     "output_type": "stream",
     "text": [
      "이름 성적 입력(탈출 q 입력)박 100\n",
      "이름 성적 입력(탈출 q 입력)의 40\n",
      "이름 성적 입력(탈출 q 입력)찬 20\n",
      "이름 성적 입력(탈출 q 입력)q\n",
      "검색할 이름 : 의\n",
      "의의 성적 : 40\n",
      "{'박': 100, '의': 40, '찬': 20}\n"
     ]
    }
   ],
   "source": [
    "dict_score = {}\n",
    "while True:\n",
    "    input_list = input(\"이름 성적 입력(탈출 q 입력)\").split()\n",
    "    input_name = input_list[0]\n",
    "    if input_name == 'q':\n",
    "        break\n",
    "    \n",
    "    if len(input_list) != 2 and input_list[i].isdigit():\n",
    "        # 입력데이터가 2개가 아니면 다시 입력\n",
    "        continue\n",
    "        \n",
    "    dict_score[input_list[0]] = int(input_list[1])\n",
    "#검색\n",
    "search_name = input(\"검색할 이름 : \")\n",
    "check_value = ''\n",
    "if search_name in dict_score:\n",
    "    print(\"{}의 성적 : {}\".format(search_name, dict_score[search_name]))\n",
    "else:\n",
    "    print(\"자료 없음\")\n",
    "print(dict_score)"
   ]
  },
  {
   "cell_type": "code",
   "execution_count": 20,
   "id": "2a74b2dc",
   "metadata": {},
   "outputs": [
    {
     "name": "stdout",
     "output_type": "stream",
     "text": [
      "계산식 입력 q 탈출1 + 1\n",
      "1 + 1 = 2\n",
      "계산식 입력 q 탈출1 + n\n"
     ]
    },
    {
     "ename": "ValueError",
     "evalue": "invalid literal for int() with base 10: 'n'",
     "output_type": "error",
     "traceback": [
      "\u001b[1;31m---------------------------------------------------------------------------\u001b[0m",
      "\u001b[1;31mValueError\u001b[0m                                Traceback (most recent call last)",
      "\u001b[1;32m~\\AppData\\Local\\Temp/ipykernel_12756/2175420929.py\u001b[0m in \u001b[0;36m<module>\u001b[1;34m\u001b[0m\n\u001b[0;32m      6\u001b[0m         \u001b[0mnum1\u001b[0m \u001b[1;33m=\u001b[0m \u001b[0mint\u001b[0m\u001b[1;33m(\u001b[0m\u001b[0minput_num\u001b[0m\u001b[1;33m[\u001b[0m\u001b[1;36m0\u001b[0m\u001b[1;33m]\u001b[0m\u001b[1;33m)\u001b[0m\u001b[1;33m\u001b[0m\u001b[1;33m\u001b[0m\u001b[0m\n\u001b[0;32m      7\u001b[0m         \u001b[0mvalue\u001b[0m \u001b[1;33m=\u001b[0m \u001b[0minput_num\u001b[0m\u001b[1;33m[\u001b[0m\u001b[1;36m1\u001b[0m\u001b[1;33m]\u001b[0m\u001b[1;33m\u001b[0m\u001b[1;33m\u001b[0m\u001b[0m\n\u001b[1;32m----> 8\u001b[1;33m         \u001b[0mnum2\u001b[0m \u001b[1;33m=\u001b[0m \u001b[0mint\u001b[0m\u001b[1;33m(\u001b[0m\u001b[0minput_num\u001b[0m\u001b[1;33m[\u001b[0m\u001b[1;36m2\u001b[0m\u001b[1;33m]\u001b[0m\u001b[1;33m)\u001b[0m\u001b[1;33m\u001b[0m\u001b[1;33m\u001b[0m\u001b[0m\n\u001b[0m\u001b[0;32m      9\u001b[0m     \u001b[1;32melse\u001b[0m\u001b[1;33m:\u001b[0m\u001b[1;33m\u001b[0m\u001b[1;33m\u001b[0m\u001b[0m\n\u001b[0;32m     10\u001b[0m         \u001b[1;32mcontinue\u001b[0m\u001b[1;33m\u001b[0m\u001b[1;33m\u001b[0m\u001b[0m\n",
      "\u001b[1;31mValueError\u001b[0m: invalid literal for int() with base 10: 'n'"
     ]
    }
   ],
   "source": [
    "while True:\n",
    "    input_num = input(\"계산식 입력 q 탈출\").split()\n",
    "    if input_num[0] == 'q':\n",
    "        break\n",
    "    if input_num[0].isdigit and input_num[2].isdigit and value in \"+-*/%\":\n",
    "        num1 = int(input_num[0])\n",
    "        value = input_num[1]\n",
    "        num2 = int(input_num[2])\n",
    "    else: \n",
    "        continue\n",
    "    if value == '+':\n",
    "        result = num1 + num2\n",
    "    elif value == '-':\n",
    "        result = num1 - num2 \n",
    "    elif value == '*':\n",
    "        result = num1 * num2 \n",
    "    elif value == '/':\n",
    "        result = num1 / num2 \n",
    "    elif value == '%':\n",
    "        result = num1 % num2\n",
    "        \n",
    "    print(\"{} {} {} = {}\".format( num1, value ,num2 , result))"
   ]
  },
  {
   "cell_type": "code",
   "execution_count": 39,
   "id": "c7fea462",
   "metadata": {},
   "outputs": [
    {
     "name": "stdout",
     "output_type": "stream",
     "text": [
      "5초 동안 26779878반복 실행\n"
     ]
    }
   ],
   "source": [
    "import time\n",
    "\n",
    "number = 0\n",
    "target_time = time.time() + 5\n",
    "while time.time() < target_time:\n",
    "    number +=1\n",
    "print(\"5초 동안 {}반복 실행\".format(number))"
   ]
  },
  {
   "cell_type": "code",
   "execution_count": 37,
   "id": "b34775a9",
   "metadata": {},
   "outputs": [
    {
     "name": "stdout",
     "output_type": "stream",
     "text": [
      "[0, 2, 4, 6, 8]\n"
     ]
    }
   ],
   "source": [
    "# 리스트 내포 : [ i for i in 반복 조건식 ]\n",
    "array = [i for i in range(10) if i%2==0 ]\n",
    "print(array)\n",
    "\n"
   ]
  },
  {
   "cell_type": "code",
   "execution_count": 42,
   "id": "982099ab",
   "metadata": {},
   "outputs": [
    {
     "name": "stdout",
     "output_type": "stream",
     "text": [
      "2500\n"
     ]
    }
   ],
   "source": [
    "add_sum = sum([i for i in range(100) if i%2])\n",
    "print(add_sum)\n"
   ]
  },
  {
   "cell_type": "code",
   "execution_count": 49,
   "id": "bb8fded2",
   "metadata": {},
   "outputs": [
    {
     "name": "stdout",
     "output_type": "stream",
     "text": [
      "1::2::3::4::5\n"
     ]
    },
    {
     "data": {
      "text/plain": [
       "['1', '2', '3', '4', '5']"
      ]
     },
     "execution_count": 49,
     "metadata": {},
     "output_type": "execute_result"
    }
   ],
   "source": [
    "# 문자열 연결 함수 : 문자열.join(리스트)\n",
    "list_a = ['1','2','3','4','5'] \n",
    "join_list = \"::\".join(list_a)\n",
    "\n",
    "print(join_list)\n",
    "join_list.split(sep=\"::\")"
   ]
  },
  {
   "cell_type": "code",
   "execution_count": 50,
   "id": "03f255a8",
   "metadata": {},
   "outputs": [
    {
     "name": "stdout",
     "output_type": "stream",
     "text": [
      "4\n",
      "3\n",
      "2\n"
     ]
    }
   ],
   "source": [
    "# 이터레이터 함수\n",
    "numbers = [1,2,3,4]\n",
    "r_num = reversed(numbers)\n",
    "print(next(r_num))\n",
    "print(next(r_num))\n",
    "print(next(r_num))"
   ]
  },
  {
   "cell_type": "code",
   "execution_count": 62,
   "id": "22717304",
   "metadata": {},
   "outputs": [
    {
     "name": "stdout",
     "output_type": "stream",
     "text": [
      "이름 전화번호를 입력하세요. 홍길동 010 1234 1234 >홍 123 123 123\n",
      "이름 전화번호를 입력하세요. 홍길동 010 1234 1234 >의 13 145 15\n",
      "이름 전화번호를 입력하세요. 홍길동 010 1234 1234 >방 145 145 14555\n",
      "이름 전화번호를 입력하세요. 홍길동 010 1234 1234 >q\n",
      "{'홍': '123-123-123', '의': '13-145-15', '방': '145-145-14555'}\n"
     ]
    }
   ],
   "source": [
    "dict_phone = {}\n",
    "while True:\n",
    "    input_phone = input(\"이름 전화번호를 입력하세요. 홍길동 010 1234 1234 >\")\n",
    "    phone = input_phone.split()\n",
    "    if phone[0] == 'q':\n",
    "        break\n",
    "    \n",
    "    if len(phone) !=4:\n",
    "        continue\n",
    "        \n",
    "    name = phone[0]\n",
    "    \n",
    "    if phone[1].isdigit and phone[2].isdigit and phone[3].isdigit:\n",
    "        phone[1] = phone[1] + \"-\" + phone[2] + \"-\" + phone[3]\n",
    "    \n",
    "    dict_phone[name] = phone[1]\n",
    "print(dict_phone)"
   ]
  },
  {
   "cell_type": "code",
   "execution_count": 66,
   "id": "16e28940",
   "metadata": {},
   "outputs": [
    {
     "name": "stdout",
     "output_type": "stream",
     "text": [
      "검색할 이름 : 홍\n",
      "홍  :  123-123-123\n"
     ]
    }
   ],
   "source": [
    "# 검색\n",
    "search_name = input(\"검색할 이름 : \")\n",
    "if search_name in dict_phone:\n",
    "    print(search_name, \" : \",dict_phone[search_name])\n",
    "else:\n",
    "    print(\"자료 없음\")"
   ]
  },
  {
   "cell_type": "code",
   "execution_count": 77,
   "id": "86fd4a1f",
   "metadata": {},
   "outputs": [],
   "source": [
    "# 함수 적용\n",
    "def add (num1,num2):\n",
    "    result = num1+num2\n",
    "    return result\n",
    "def sub (num1,num2):\n",
    "    result = num1-num2\n",
    "    return result\n",
    "def mul (num1,num2):\n",
    "    result = num1*num2\n",
    "    return result\n",
    "def div (num1,num2):\n",
    "    result = num1/num2\n",
    "    return result"
   ]
  },
  {
   "cell_type": "code",
   "execution_count": 86,
   "id": "786a0913",
   "metadata": {},
   "outputs": [
    {
     "name": "stdout",
     "output_type": "stream",
     "text": [
      "계산식 입력1 + 4\n",
      " 1 + 4 = 5\n",
      "계산식 입력1 * 4\n",
      " 1 * 4 = 4\n",
      "계산식 입력q\n"
     ]
    }
   ],
   "source": [
    "cal_dict = {\n",
    "    '+' : add,\n",
    "    '-' : sub,\n",
    "    '*' : mul,\n",
    "    '/' : div\n",
    "}\n",
    "\n",
    "while True:\n",
    "    cal_list = input(\"계산식 입력\").split()\n",
    "    if cal_list[0]=='q':\n",
    "        break\n",
    "    if len(cal_list) != 3 or not cal_list[1] in'+-*/':\n",
    "        continue\n",
    "        \n",
    "    result = cal_dict[cal_list[1]](int(cal_list[0]),int(cal_list[2]))\n",
    "    \n",
    "    if result == \"ERR\":\n",
    "        print(\"에러\")\n",
    "    else:\n",
    "        print(\" {} {} {} = {}\".format(cal_list[0],cal_list[1],cal_list[2],result))\n",
    "                                   \n",
    "                                   "
   ]
  },
  {
   "cell_type": "code",
   "execution_count": null,
   "id": "a911640a",
   "metadata": {},
   "outputs": [],
   "source": []
  }
 ],
 "metadata": {
  "kernelspec": {
   "display_name": "Python 3 (ipykernel)",
   "language": "python",
   "name": "python3"
  },
  "language_info": {
   "codemirror_mode": {
    "name": "ipython",
    "version": 3
   },
   "file_extension": ".py",
   "mimetype": "text/x-python",
   "name": "python",
   "nbconvert_exporter": "python",
   "pygments_lexer": "ipython3",
   "version": "3.9.7"
  }
 },
 "nbformat": 4,
 "nbformat_minor": 5
}
