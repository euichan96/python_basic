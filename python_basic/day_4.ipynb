{
 "cells": [
  {
   "cell_type": "code",
   "execution_count": 4,
   "id": "4238cf8d",
   "metadata": {},
   "outputs": [],
   "source": [
    "dictionary = {1:1,2:1}\n",
    "def fibo_m(n):\n",
    "    global count\n",
    "    count += 1 \n",
    "    \n",
    "    if n in dictionary:\n",
    "        return dictionary[n]\n",
    "    else:\n",
    "        output = fibo_m(n-1) + fibo_m(n-2)\n",
    "        dictionary[n] = output\n",
    "        return output"
   ]
  },
  {
   "cell_type": "code",
   "execution_count": 6,
   "id": "d9abc804",
   "metadata": {},
   "outputs": [
    {
     "data": {
      "text/plain": [
       "354224848179261915075"
      ]
     },
     "execution_count": 6,
     "metadata": {},
     "output_type": "execute_result"
    }
   ],
   "source": [
    "count = 0\n",
    "fibo_m(100)"
   ]
  },
  {
   "cell_type": "code",
   "execution_count": null,
   "id": "3ef26f25",
   "metadata": {},
   "outputs": [],
   "source": [
    "def file_write(file):\n",
    "    \n",
    "    \n",
    "def file_search(file):\n",
    "    \n",
    "def file_total(file):"
   ]
  }
 ],
 "metadata": {
  "kernelspec": {
   "display_name": "Python 3 (ipykernel)",
   "language": "python",
   "name": "python3"
  },
  "language_info": {
   "codemirror_mode": {
    "name": "ipython",
    "version": 3
   },
   "file_extension": ".py",
   "mimetype": "text/x-python",
   "name": "python",
   "nbconvert_exporter": "python",
   "pygments_lexer": "ipython3",
   "version": "3.9.7"
  }
 },
 "nbformat": 4,
 "nbformat_minor": 5
}
