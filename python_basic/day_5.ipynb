{
 "cells": [
  {
   "cell_type": "code",
   "execution_count": 1,
   "id": "e62f0854",
   "metadata": {},
   "outputs": [],
   "source": [
    "# 표준 모듈 삽입\n",
    "import math\n",
    "import math as m\n",
    "from math import cos, ceil, floor\n",
    "from math import ceil as c"
   ]
  },
  {
   "cell_type": "code",
   "execution_count": 2,
   "id": "260659ec",
   "metadata": {},
   "outputs": [
    {
     "name": "stdout",
     "output_type": "stream",
     "text": [
      "-0.8390715290764524\n",
      "6\n",
      "5\n"
     ]
    }
   ],
   "source": [
    "print(math.cos(10))\n",
    "print(math.ceil(5.6))  # 숫자보다 큰 정수 중에 가장 작은 정수(올림)\n",
    "print(math.floor(5.6)) # 숫자보다 작은 정수 중에 가장 큰 정수(버림)"
   ]
  },
  {
   "cell_type": "code",
   "execution_count": 3,
   "id": "46adfca6",
   "metadata": {},
   "outputs": [
    {
     "name": "stdout",
     "output_type": "stream",
     "text": [
      "-0.8390715290764524\n",
      "6\n",
      "5\n"
     ]
    }
   ],
   "source": [
    "# from 모듈명 import 필요한 변수 또는 함수 \n",
    "from math import cos, ceil, floor\n",
    "\n",
    "print(cos(10))\n",
    "print(ceil(5.6))\n",
    "print(floor(5.6))"
   ]
  },
  {
   "cell_type": "code",
   "execution_count": 4,
   "id": "9c5c57c8",
   "metadata": {},
   "outputs": [
    {
     "data": {
      "text/plain": [
       "-0.8390715290764524"
      ]
     },
     "execution_count": 4,
     "metadata": {},
     "output_type": "execute_result"
    }
   ],
   "source": [
    "# as를 사용하여 별명(alias) 사용\n",
    "import math as m\n",
    "m.cos(10)"
   ]
  },
  {
   "cell_type": "code",
   "execution_count": 5,
   "id": "d5547023",
   "metadata": {},
   "outputs": [
    {
     "name": "stdout",
     "output_type": "stream",
     "text": [
      "random 모듈 : \n",
      "0.4174179633737476\n",
      "13.974190334420182\n",
      "17\n",
      "5\n",
      "None [8, 6, 1, 4, 3, 0, 2, 9, 7, 5]\n",
      "[1, 4, 0]\n"
     ]
    }
   ],
   "source": [
    "# random 모듈 \n",
    "import random as rnd\n",
    "\n",
    "print(\"random 모듈 : \")\n",
    "#random() : 0.0 < x < 1.0 사이의 float 리턴\n",
    "print(rnd.random())\n",
    "\n",
    "#uniform(min, max) : min < x < max 사이의 float 리턴 \n",
    "print(rnd.uniform(10,20))\n",
    "\n",
    "#randrange([min,] max) : min < x < max 사이의 int 리턴 0부터 max\n",
    "print(rnd.randrange(10,20))\n",
    "\n",
    "#chioce(list) : 리스트 내부의 임의의 요소를 리턴\n",
    "print(rnd.choice(list(range(10))))\n",
    "      \n",
    "#shuffle(list) : 리스트 요소를 랜덤하게 섞음\n",
    "a = list(range(10))\n",
    "print(rnd.shuffle(a), a)\n",
    "\n",
    "#sample(list, k=숫자) : 리스트에서 숫자의 갯수 요소를 랜덤하게 리턴\n",
    "print(rnd.sample(a,k=3))"
   ]
  },
  {
   "cell_type": "code",
   "execution_count": 6,
   "id": "34ad6f39",
   "metadata": {},
   "outputs": [
    {
     "name": "stdout",
     "output_type": "stream",
     "text": [
      "coptright :  Copyright (c) 2001-2021 Python Software Foundation.\n",
      "All Rights Reserved.\n",
      "\n",
      "Copyright (c) 2000 BeOpen.com.\n",
      "All Rights Reserved.\n",
      "\n",
      "Copyright (c) 1995-2001 Corporation for National Research Initiatives.\n",
      "All Rights Reserved.\n",
      "\n",
      "Copyright (c) 1991-1995 Stichting Mathematisch Centrum, Amsterdam.\n",
      "All Rights Reserved.\n",
      "version :  3.9.7 (default, Sep 16 2021, 16:59:28) [MSC v.1916 64 bit (AMD64)]\n"
     ]
    }
   ],
   "source": [
    "# sys 모듈 : 시스템 관련 정보를 가져 옴\n",
    "import sys\n",
    "\n",
    "print(\"coptright : \",sys.copyright)\n",
    "print(\"version : \",sys.version)"
   ]
  },
  {
   "cell_type": "code",
   "execution_count": 7,
   "id": "92bebceb",
   "metadata": {},
   "outputs": [
    {
     "name": "stdout",
     "output_type": "stream",
     "text": [
      "현재 운영체제 :  nt\n",
      "현재 작업 경로 :  C:\\Users\\82109\\Documents\\python_basic\n",
      "현재 폴더 리스트 :  ['.git', '.ipynb_checkpoints', 'day_1.ipynb', 'day_1_1.py', 'day_2.ipynb', 'day_3.ipynb', 'day_4.ipynb', 'day_4_.ipynb', 'day_4_clear.ipynb', 'day_5.ipynb', 'day_5.py', 'flask1.ipynb', 'flask1.py', 'modual_basic', 'score.txt', 'score1.txt', 'test_package', 'Untitled Folder', 'Untitled.ipynb', 'Untitled1.ipynb', 'Untitled2.ipynb', 'Untitled3.ipynb', '__pycache__']\n"
     ]
    }
   ],
   "source": [
    "# os 모듈 : 운영체제와 관련된 명령어\n",
    "import os\n",
    "\n",
    "print(\"현재 운영체제 : \",os.name)\n",
    "print(\"현재 작업 경로 : \",os.getcwd())\n",
    "print(\"현재 폴더 리스트 : \",os.listdir())"
   ]
  },
  {
   "cell_type": "code",
   "execution_count": 8,
   "id": "39a0b061",
   "metadata": {},
   "outputs": [
    {
     "data": {
      "text/plain": [
       "['.git',\n",
       " '.ipynb_checkpoints',\n",
       " 'day_1.ipynb',\n",
       " 'day_1_1.py',\n",
       " 'day_2.ipynb',\n",
       " 'day_3.ipynb',\n",
       " 'day_4.ipynb',\n",
       " 'day_4_.ipynb',\n",
       " 'day_4_clear.ipynb',\n",
       " 'day_5.ipynb',\n",
       " 'day_5.py',\n",
       " 'flask1.ipynb',\n",
       " 'flask1.py',\n",
       " 'modual_basic',\n",
       " 'score.txt',\n",
       " 'score1.txt',\n",
       " 'test_dir',\n",
       " 'test_package',\n",
       " 'Untitled Folder',\n",
       " 'Untitled.ipynb',\n",
       " 'Untitled1.ipynb',\n",
       " 'Untitled2.ipynb',\n",
       " 'Untitled3.ipynb',\n",
       " '__pycache__']"
      ]
     },
     "execution_count": 8,
     "metadata": {},
     "output_type": "execute_result"
    }
   ],
   "source": [
    "# 디렉토리 생성\n",
    "os.mkdir('test_dir')\n",
    "os.listdir()"
   ]
  },
  {
   "cell_type": "code",
   "execution_count": 9,
   "id": "b99e7630",
   "metadata": {},
   "outputs": [
    {
     "data": {
      "text/plain": [
       "['.git',\n",
       " '.ipynb_checkpoints',\n",
       " 'day_1.ipynb',\n",
       " 'day_1_1.py',\n",
       " 'day_2.ipynb',\n",
       " 'day_3.ipynb',\n",
       " 'day_4.ipynb',\n",
       " 'day_4_.ipynb',\n",
       " 'day_4_clear.ipynb',\n",
       " 'day_5.ipynb',\n",
       " 'day_5.py',\n",
       " 'flask1.ipynb',\n",
       " 'flask1.py',\n",
       " 'modual_basic',\n",
       " 'score.txt',\n",
       " 'score1.txt',\n",
       " 'test_package',\n",
       " 'Untitled Folder',\n",
       " 'Untitled.ipynb',\n",
       " 'Untitled1.ipynb',\n",
       " 'Untitled2.ipynb',\n",
       " 'Untitled3.ipynb',\n",
       " '__pycache__']"
      ]
     },
     "execution_count": 9,
     "metadata": {},
     "output_type": "execute_result"
    }
   ],
   "source": [
    "# 디렉토리 삭제\n",
    "os.rmdir('test_dir')\n",
    "os.listdir()"
   ]
  },
  {
   "cell_type": "code",
   "execution_count": 10,
   "id": "a34a0296",
   "metadata": {},
   "outputs": [
    {
     "ename": "FileNotFoundError",
     "evalue": "[WinError 2] 지정된 파일을 찾을 수 없습니다: 'day_1.py' -> 'day_1_1.py'",
     "output_type": "error",
     "traceback": [
      "\u001b[1;31m---------------------------------------------------------------------------\u001b[0m",
      "\u001b[1;31mFileNotFoundError\u001b[0m                         Traceback (most recent call last)",
      "\u001b[1;32m~\\AppData\\Local\\Temp/ipykernel_16044/4038453252.py\u001b[0m in \u001b[0;36m<module>\u001b[1;34m\u001b[0m\n\u001b[0;32m      1\u001b[0m \u001b[1;31m#file 이름 변경 : rename(old_name, new_name)\u001b[0m\u001b[1;33m\u001b[0m\u001b[1;33m\u001b[0m\u001b[0m\n\u001b[1;32m----> 2\u001b[1;33m \u001b[0mos\u001b[0m\u001b[1;33m.\u001b[0m\u001b[0mrename\u001b[0m\u001b[1;33m(\u001b[0m\u001b[1;34m'day_1.py'\u001b[0m\u001b[1;33m,\u001b[0m \u001b[1;34m'day_1_1.py'\u001b[0m\u001b[1;33m)\u001b[0m\u001b[1;33m\u001b[0m\u001b[1;33m\u001b[0m\u001b[0m\n\u001b[0m\u001b[0;32m      3\u001b[0m \u001b[0mos\u001b[0m\u001b[1;33m.\u001b[0m\u001b[0mlistdir\u001b[0m\u001b[1;33m(\u001b[0m\u001b[1;33m)\u001b[0m\u001b[1;33m\u001b[0m\u001b[1;33m\u001b[0m\u001b[0m\n",
      "\u001b[1;31mFileNotFoundError\u001b[0m: [WinError 2] 지정된 파일을 찾을 수 없습니다: 'day_1.py' -> 'day_1_1.py'"
     ]
    }
   ],
   "source": [
    "#file 이름 변경 : rename(old_name, new_name)\n",
    "os.rename('day_1.py', 'day_1_1.py')\n",
    "os.listdir()"
   ]
  },
  {
   "cell_type": "code",
   "execution_count": 11,
   "id": "222ee3aa",
   "metadata": {},
   "outputs": [
    {
     "data": {
      "text/plain": [
       "['.git',\n",
       " '.ipynb_checkpoints',\n",
       " 'day_1.ipynb',\n",
       " 'day_1_1.py',\n",
       " 'day_2.ipynb',\n",
       " 'day_3.ipynb',\n",
       " 'day_4.ipynb',\n",
       " 'day_4_.ipynb',\n",
       " 'day_4_clear.ipynb',\n",
       " 'day_5.ipynb',\n",
       " 'day_5.py',\n",
       " 'flask1.ipynb',\n",
       " 'flask1.py',\n",
       " 'modual_basic',\n",
       " 'score.txt',\n",
       " 'score1.txt',\n",
       " 'test_package',\n",
       " 'Untitled Folder',\n",
       " 'Untitled.ipynb',\n",
       " 'Untitled1.ipynb',\n",
       " 'Untitled2.ipynb',\n",
       " 'Untitled3.ipynb',\n",
       " '__pycache__']"
      ]
     },
     "execution_count": 11,
     "metadata": {},
     "output_type": "execute_result"
    }
   ],
   "source": [
    "#file 삭제 : remove(파일명)\n",
    "#os.remove('new.py')\n",
    "os.listdir()"
   ]
  },
  {
   "cell_type": "code",
   "execution_count": null,
   "id": "3b84f8ae",
   "metadata": {},
   "outputs": [],
   "source": [
    "!dir"
   ]
  },
  {
   "cell_type": "code",
   "execution_count": 12,
   "id": "71d9560e",
   "metadata": {},
   "outputs": [
    {
     "name": "stdout",
     "output_type": "stream",
     "text": [
      "2021-12-29 17:09:41.873183\n",
      "2021-12-29 17:09:41.873184\n"
     ]
    }
   ],
   "source": [
    "# datetime 모듈 : 날짜를 형식에 맞게 편집 가능\n",
    "import datetime as dt\n",
    "print(dt.datetime.now())\n",
    "print(dt.datetime.today())"
   ]
  },
  {
   "cell_type": "code",
   "execution_count": null,
   "id": "08c68f17",
   "metadata": {},
   "outputs": [],
   "source": [
    "# time 모듈 : 시간 멈춤\n",
    "import time\n",
    "print(\"time start\")\n",
    "time.sleep(3)\n",
    "print(\"time end\")"
   ]
  },
  {
   "cell_type": "code",
   "execution_count": null,
   "id": "e3becde9",
   "metadata": {},
   "outputs": [],
   "source": [
    "# urllib 모듈 : url라이브러라\n",
    "from urllib import request\n",
    "\n",
    "target = request.urlopen('http://www.google.com')\n",
    "output = target.read()\n",
    "print(output)\n",
    "# <html> ~ </html> tag 형식으로 변환해 주는 모듈 : BeatifulSoup\n"
   ]
  },
  {
   "cell_type": "code",
   "execution_count": null,
   "id": "fd3b0dbe",
   "metadata": {},
   "outputs": [],
   "source": [
    "!pip install beautifulSoup4\n"
   ]
  },
  {
   "cell_type": "code",
   "execution_count": null,
   "id": "6d131dd6",
   "metadata": {},
   "outputs": [],
   "source": [
    "from bs4 import BeautifulSoup\n",
    "\n",
    "target = request.urlopen('http://www.google.com')\n",
    "soup = BeautifulSoup(target)\n",
    "soup"
   ]
  },
  {
   "cell_type": "code",
   "execution_count": null,
   "id": "d3b1025a",
   "metadata": {},
   "outputs": [],
   "source": [
    "soup.title.string\n",
    "soup.find_all('a')\n"
   ]
  },
  {
   "cell_type": "code",
   "execution_count": null,
   "id": "7661cf74",
   "metadata": {},
   "outputs": [],
   "source": [
    "# url에 연결 -> urllib.request.urlopen(url 명)\n",
    "# url 자료를 가져옴 -> <html> ~ </html> 태그 형식으로\n",
    "# BeautifulSoup(url open 정보)\n",
    "from urllib import request\n",
    "from bs4 import BeautifulSoup\n",
    "\n",
    "url = 'https://www.weather.go.kr/w/weather/forecast/mid-term.do?stnId1=108'\n",
    "target = request.urlopen(url)\n",
    "\n",
    "soup = BeautifulSoup(target)\n",
    "soup.title.string"
   ]
  },
  {
   "cell_type": "code",
   "execution_count": 2,
   "id": "0b5c5071",
   "metadata": {},
   "outputs": [
    {
     "ename": "NameError",
     "evalue": "name 'soup' is not defined",
     "output_type": "error",
     "traceback": [
      "\u001b[1;31m---------------------------------------------------------------------------\u001b[0m",
      "\u001b[1;31mNameError\u001b[0m                                 Traceback (most recent call last)",
      "\u001b[1;32m~\\AppData\\Local\\Temp/ipykernel_1780/3893990574.py\u001b[0m in \u001b[0;36m<module>\u001b[1;34m\u001b[0m\n\u001b[0;32m      1\u001b[0m \u001b[1;31m#for location in soup.select(\"table.table-col\"):\u001b[0m\u001b[1;33m\u001b[0m\u001b[1;33m\u001b[0m\u001b[0m\n\u001b[1;32m----> 2\u001b[1;33m \u001b[1;32mfor\u001b[0m \u001b[0mlocation\u001b[0m \u001b[1;32min\u001b[0m \u001b[0msoup\u001b[0m\u001b[1;33m.\u001b[0m\u001b[0mfind_all\u001b[0m\u001b[1;33m(\u001b[0m\u001b[1;34m'tr'\u001b[0m\u001b[1;33m)\u001b[0m\u001b[1;33m:\u001b[0m \u001b[1;31m#('td.midterm-city'):\u001b[0m\u001b[1;33m\u001b[0m\u001b[1;33m\u001b[0m\u001b[0m\n\u001b[0m\u001b[0;32m      3\u001b[0m     \u001b[1;32mif\u001b[0m \u001b[0mlocation\u001b[0m\u001b[1;33m.\u001b[0m\u001b[0mfind\u001b[0m\u001b[1;33m(\u001b[0m\u001b[1;34m'td'\u001b[0m\u001b[1;33m,\u001b[0m\u001b[0mclass_\u001b[0m\u001b[1;33m=\u001b[0m \u001b[1;34m'midterm-city'\u001b[0m\u001b[1;33m)\u001b[0m\u001b[1;33m:\u001b[0m\u001b[1;33m\u001b[0m\u001b[1;33m\u001b[0m\u001b[0m\n\u001b[0;32m      4\u001b[0m         print(\"도시명 : {}, 최저기온 : {}, 최고기온 {}\".\\\n\u001b[0;32m      5\u001b[0m              format(location.find('td',class_= 'midterm-city').text,\n",
      "\u001b[1;31mNameError\u001b[0m: name 'soup' is not defined"
     ]
    }
   ],
   "source": [
    "#for location in soup.select(\"table.table-col\"):\n",
    "for location in soup.find_all('tr'): #('td.midterm-city'):\n",
    "    if location.find('td',class_= 'midterm-city'):\n",
    "        print(\"도시명 : {}, 최저기온 : {}, 최고기온 {}\".\\\n",
    "             format(location.find('td',class_= 'midterm-city').text,\n",
    "                   location.find('span',class_= 'tmn').text,\n",
    "                   location.find('span',class_= 'tmx').text))\n",
    "        \n",
    "    # print(tr.select_one('td.midterm-city'))\n",
    " #   print(\"도시 : \", location.select_one('td').text)\n",
    "\n",
    "#for body in location.select(\"tbody\"):\n",
    "#   print(body)\n",
    "        \n",
    "# print(\"도시 : \",location.select(\"tbody\").string)\n",
    "';'"
   ]
  },
  {
   "cell_type": "code",
   "execution_count": null,
   "id": "fd3d45f8",
   "metadata": {},
   "outputs": [],
   "source": [
    "#!pip install flask"
   ]
  },
  {
   "cell_type": "code",
   "execution_count": null,
   "id": "1db430f2",
   "metadata": {},
   "outputs": [],
   "source": [
    "# flask 모듈\n",
    "from flask import Flask\n",
    "\n",
    "app = Flask(__name__)\n",
    "\n",
    "@app.route(\"/\")\n",
    "def hello():\n",
    "    return \"<h1> Hello </h1>\""
   ]
  },
  {
   "cell_type": "code",
   "execution_count": null,
   "id": "d0ca92d9",
   "metadata": {},
   "outputs": [],
   "source": [
    "# 함수 데코레이터\n",
    "def test(function):\n",
    "    def wrapper():\n",
    "        print(\"start\")\n",
    "        function()\n",
    "        print(\"end\")\n",
    "    return wrapper\n",
    "# 데코레이터 함수\n",
    "\n",
    "@test\n",
    "def hello():\n",
    "    print(\"hello\")\n",
    "#함수 호출\n",
    "hello()"
   ]
  },
  {
   "cell_type": "code",
   "execution_count": 14,
   "id": "774594a9",
   "metadata": {},
   "outputs": [
    {
     "name": "stdout",
     "output_type": "stream",
     "text": [
      "module_a :  a 모듈의 변수\n",
      "module_b :  b 모듈의 변수\n"
     ]
    }
   ],
   "source": [
    "# 내가 만든 패키지 모듈 불러오기\n",
    "import test_package.module_a as a\n",
    "import test_package.module_b as b\n",
    "\n",
    "print(\"module_a : \",a.variable_a)\n",
    "print(\"module_b : \",b.variable_b)"
   ]
  },
  {
   "cell_type": "code",
   "execution_count": 13,
   "id": "b4560d6b",
   "metadata": {},
   "outputs": [
    {
     "name": "stdout",
     "output_type": "stream",
     "text": [
      "init 실행\n",
      "module_a :  a 모듈의 변수\n",
      "module_b :  b 모듈의 변수\n"
     ]
    }
   ],
   "source": [
    "from test_package import *\n",
    "\n",
    "print(\"module_a : \",module_a.variable_a)\n",
    "print(\"module_b : \",module_b.variable_b)"
   ]
  },
  {
   "cell_type": "code",
   "execution_count": null,
   "id": "99b769d4",
   "metadata": {},
   "outputs": [],
   "source": [
    "# flask 모듈\n",
    "from flask import Flask\n",
    "\n",
    "app = Flask(__name__)\n",
    "\n",
    "@app.route(\"/\")\n",
    "def hello():\n",
    "    return url_report()\n",
    "\n",
    "def url_report():\n",
    "    from urllib import request\n",
    "    from bs4 import BeautifulSoup\n",
    "    \n",
    "    url = 'https://www.weather.go.kr/w/weather/forecast/mid-term.do?stnId1=108'\n",
    "    target =request.urlopen(url)\n",
    "    soup = BeautifulSoup(target)\n",
    "    output = '<table>'\n",
    "    for location in soup.find_all('tr'):\n",
    "        output += '<tr>'\n",
    "        if location.find('td', class_='midterm-city'):\n",
    "            output += \"<td>{}</td>\".format(location.find('td',class_='midterm-city').text)\n",
    "            output += \"<td>{}</td>\".format(location.find('span',class_='tmn').text)\n",
    "            output += \"<td>{}</td>\".format(location.find('span',class_='tmx').text)\n",
    "    return(output)"
   ]
  }
 ],
 "metadata": {
  "kernelspec": {
   "display_name": "Python 3 (ipykernel)",
   "language": "python",
   "name": "python3"
  },
  "language_info": {
   "codemirror_mode": {
    "name": "ipython",
    "version": 3
   },
   "file_extension": ".py",
   "mimetype": "text/x-python",
   "name": "python",
   "nbconvert_exporter": "python",
   "pygments_lexer": "ipython3",
   "version": "3.9.7"
  }
 },
 "nbformat": 4,
 "nbformat_minor": 5
}
