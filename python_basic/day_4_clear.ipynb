{
 "cells": [
  {
   "cell_type": "code",
   "execution_count": 1,
   "id": "963522cc",
   "metadata": {},
   "outputs": [],
   "source": [
    "# 팩토리얼 함수 구현\n",
    "def factorial(n):\n",
    "    output = 1\n",
    "    for i in range(1, n+1):\n",
    "        output *= i\n",
    "    return output"
   ]
  },
  {
   "cell_type": "code",
   "execution_count": 4,
   "id": "a44be61a",
   "metadata": {},
   "outputs": [],
   "source": [
    "# 팩토리얼 함수 구현\n",
    "def factorial1(n):\n",
    "    # n이 0이면 1을 return 아니면 n*f(n-1)\n",
    "    if n == 0:\n",
    "        return 1\n",
    "    else:\n",
    "        return n * factorial1(n-1)"
   ]
  },
  {
   "cell_type": "code",
   "execution_count": 5,
   "id": "f59b3b83",
   "metadata": {},
   "outputs": [
    {
     "name": "stdout",
     "output_type": "stream",
     "text": [
      "120\n"
     ]
    },
    {
     "data": {
      "text/plain": [
       "120"
      ]
     },
     "execution_count": 5,
     "metadata": {},
     "output_type": "execute_result"
    }
   ],
   "source": [
    "print(factorial(5))   # fatorial 실행\n",
    "factorial1(5)"
   ]
  },
  {
   "cell_type": "code",
   "execution_count": 14,
   "id": "8a2b22ac",
   "metadata": {},
   "outputs": [],
   "source": [
    "# 피보나치 수열 -> f(n) = f(n-1) + f(n-2), n==1, n==2\n",
    "def fibo(n):\n",
    "    global count \n",
    "    count += 1\n",
    "    if n == 1 or n == 2:\n",
    "        return 1\n",
    "    else:\n",
    "        return fibo(n-1) + fibo(n-2)"
   ]
  },
  {
   "cell_type": "code",
   "execution_count": 17,
   "id": "b95c80b2",
   "metadata": {},
   "outputs": [],
   "source": [
    "# 피보나치 수열 -> f(n) = f(n-1) + f(n-2), n==1, n==2\n",
    "dictionary = {1:1,2:1}\n",
    "def fibo_m(n):\n",
    "    global count \n",
    "    count += 1  # 계산횟수 증가\n",
    "\n",
    "    if n in dictionary:  # 메모 되어 있으면 메모된 값을 사용\n",
    "        return dictionary[n]\n",
    "    else:               # 아니면 메모 시킴\n",
    "        output = fibo_m(n-1) + fibo_m(n-2)\n",
    "        dictionary[n] = output\n",
    "        return output"
   ]
  },
  {
   "cell_type": "code",
   "execution_count": 22,
   "id": "a82439d0",
   "metadata": {},
   "outputs": [
    {
     "name": "stdout",
     "output_type": "stream",
     "text": [
      "count :  1219\n",
      "count :  171\n",
      "{1: 1, 2: 1, 3: 2, 4: 3, 5: 5, 6: 8, 7: 13, 8: 21, 9: 34, 10: 55, 11: 89, 12: 144, 13: 233, 14: 377, 15: 610, 16: 987, 17: 1597, 18: 2584, 19: 4181, 20: 6765, 21: 10946, 22: 17711, 23: 28657, 24: 46368, 25: 75025, 26: 121393, 27: 196418, 28: 317811, 29: 514229, 30: 832040, 31: 1346269, 32: 2178309, 33: 3524578, 34: 5702887, 35: 9227465, 36: 14930352, 37: 24157817, 38: 39088169, 39: 63245986, 40: 102334155, 41: 165580141, 42: 267914296, 43: 433494437, 44: 701408733, 45: 1134903170, 46: 1836311903, 47: 2971215073, 48: 4807526976, 49: 7778742049, 50: 12586269025, 51: 20365011074, 52: 32951280099, 53: 53316291173, 54: 86267571272, 55: 139583862445, 56: 225851433717, 57: 365435296162, 58: 591286729879, 59: 956722026041, 60: 1548008755920, 61: 2504730781961, 62: 4052739537881, 63: 6557470319842, 64: 10610209857723, 65: 17167680177565, 66: 27777890035288, 67: 44945570212853, 68: 72723460248141, 69: 117669030460994, 70: 190392490709135, 71: 308061521170129, 72: 498454011879264, 73: 806515533049393, 74: 1304969544928657, 75: 2111485077978050, 76: 3416454622906707, 77: 5527939700884757, 78: 8944394323791464, 79: 14472334024676221, 80: 23416728348467685, 81: 37889062373143906, 82: 61305790721611591, 83: 99194853094755497, 84: 160500643816367088, 85: 259695496911122585, 86: 420196140727489673, 87: 679891637638612258, 88: 1100087778366101931, 89: 1779979416004714189, 90: 2880067194370816120, 91: 4660046610375530309, 92: 7540113804746346429, 93: 12200160415121876738, 94: 19740274219868223167, 95: 31940434634990099905, 96: 51680708854858323072, 97: 83621143489848422977, 98: 135301852344706746049, 99: 218922995834555169026, 100: 354224848179261915075}\n"
     ]
    }
   ],
   "source": [
    "count = 0\n",
    "fibo(15)\n",
    "print(\"count : \", count)\n",
    "count = 0\n",
    "fibo_m(100)\n",
    "print(\"count : \", count)\n",
    "print(dictionary)"
   ]
  },
  {
   "cell_type": "code",
   "execution_count": 27,
   "id": "38d7fc7c",
   "metadata": {},
   "outputs": [
    {
     "name": "stdout",
     "output_type": "stream",
     "text": [
      "10\n",
      "20\n",
      "30\n",
      "40\n",
      "10\n",
      "a:10, b:20, c:30\n",
      "before => a:10, b:20\n",
      "after => a:20, b:10\n"
     ]
    }
   ],
   "source": [
    "# tuple : 수정할 수 없는 자료 ( ), \n",
    "tuple_test = (10,20,30,40)\n",
    "for value in tuple_test:\n",
    "    print(value)\n",
    "print(tuple_test[0])\n",
    "# tuple_test[0] = 10  # error\n",
    "a,b,c = 10,20,30\n",
    "print(\"a:{}, b:{}, c:{}\".format(a,b,c))\n",
    "\n",
    "(a,b) = 10, 20\n",
    "print(\"before => a:{}, b:{}\".format(a,b))\n",
    "a,b = b,a  # a와 b의 값이 바뀜\n",
    "print(\"after => a:{}, b:{}\".format(a,b))"
   ]
  },
  {
   "cell_type": "code",
   "execution_count": 29,
   "id": "b99030a8",
   "metadata": {},
   "outputs": [
    {
     "name": "stdout",
     "output_type": "stream",
     "text": [
      "0번째 값 : 1\n",
      "1번째 값 : 2\n",
      "2번째 값 : 3\n",
      "3번째 값 : 4\n",
      "4번째 값 : 5\n",
      "88 / 3 = 29, 1\n"
     ]
    }
   ],
   "source": [
    "for idx, value in enumerate([1,2,3,4,5]):   # 튜플을 리턴하는 함수 enumerate\n",
    "    print(\"{}번째 값 : {}\".format(idx, value))\n",
    "\n",
    "a, b = divmod(88,3)\n",
    "print(\"88 / 3 = {}, {}\".format(a,b))"
   ]
  },
  {
   "cell_type": "code",
   "execution_count": 33,
   "id": "e074a764",
   "metadata": {},
   "outputs": [
    {
     "name": "stdout",
     "output_type": "stream",
     "text": [
      "[1, 4, 9, 16, 25]\n",
      "\n",
      " [1, 2]\n"
     ]
    }
   ],
   "source": [
    "# map과  filter 함수 => map(함수, 리스트), filter(함수, 리스트)\n",
    "# def power(x):\n",
    "#     return x*x\n",
    "# def under_3(x):\n",
    "#     return x < 3\n",
    "# lambda 함수로 변경 -> lambda 매개변수 : 리턴값\n",
    "power = lambda x: x*x\n",
    "under_3 = lambda x: x < 3\n",
    "\n",
    "a_list = [1,2,3,4,5]\n",
    "b_list = list(map(power, a_list))\n",
    "print(b_list)\n",
    "c_list = list(filter(under_3, a_list))\n",
    "print(\"\\n\",c_list)"
   ]
  },
  {
   "cell_type": "code",
   "execution_count": 34,
   "id": "081fcc50",
   "metadata": {},
   "outputs": [
    {
     "data": {
      "text/plain": [
       "[1, 4, 9, 16, 25]"
      ]
     },
     "execution_count": 34,
     "metadata": {},
     "output_type": "execute_result"
    }
   ],
   "source": [
    "b_list = list(map(lambda x: x*x, a_list))\n",
    "b_list"
   ]
  },
  {
   "cell_type": "code",
   "execution_count": 35,
   "id": "034a14ec",
   "metadata": {},
   "outputs": [
    {
     "data": {
      "text/plain": [
       "[1, 2]"
      ]
     },
     "execution_count": 35,
     "metadata": {},
     "output_type": "execute_result"
    }
   ],
   "source": [
    "c_list = list(filter(lambda x: x < 3, a_list))\n",
    "c_list"
   ]
  },
  {
   "cell_type": "code",
   "execution_count": 36,
   "id": "519a4e0d",
   "metadata": {},
   "outputs": [],
   "source": [
    "# file 처리 : open, close, write, read ..\n",
    "file = open(\"a.txt\", \"w\")\n",
    "file.write(\"Hello Python file write !!\")\n",
    "file.close()"
   ]
  },
  {
   "cell_type": "code",
   "execution_count": 38,
   "id": "9a3c40eb",
   "metadata": {},
   "outputs": [
    {
     "name": "stdout",
     "output_type": "stream",
     "text": [
      "Hello Python file write !!\n"
     ]
    }
   ],
   "source": [
    "# file 처리 : open, close, write, read ..\n",
    "file = open(\"a.txt\", \"r\")\n",
    "file_data = file.read()\n",
    "print(file_data)\n",
    "file.close()"
   ]
  },
  {
   "cell_type": "code",
   "execution_count": 42,
   "id": "821a9654",
   "metadata": {},
   "outputs": [],
   "source": [
    "# 파일을 자동으로 close() 시킴\n",
    "with open(\"a.txt\", \"w\") as file:\n",
    "    file.write(\"with python file open!!\\n\")\n",
    "    file.write(\"with python file open!!\\n\")\n",
    "    file.write(\"with python file open!!\\n\")    \n",
    "# file_data = file.read()  # error    "
   ]
  },
  {
   "cell_type": "code",
   "execution_count": 43,
   "id": "7c1a6a1b",
   "metadata": {},
   "outputs": [
    {
     "name": "stdout",
     "output_type": "stream",
     "text": [
      "with python file open!!\n",
      "\n",
      "with python file open!!\n",
      "\n",
      "with python file open!!\n",
      "\n"
     ]
    }
   ],
   "source": [
    "# 저장된 파일의 내용을 라인 단위로 읽어옴\n",
    "with open(\"a.txt\", \"r\") as file:\n",
    "    for line in file:\n",
    "        print(line)"
   ]
  },
  {
   "cell_type": "code",
   "execution_count": null,
   "id": "b33315cb",
   "metadata": {},
   "outputs": [],
   "source": [
    "# 키보드에서 이름 성적을 입력받아 파일에 저장\n",
    "with open(\"score.txt\", \"w+\") as file:\n",
    "    name, score = input(\"이름 성적 입력 > \").split()\n",
    "    file.write(name + ',' + score)"
   ]
  },
  {
   "cell_type": "code",
   "execution_count": 47,
   "id": "95245df7",
   "metadata": {},
   "outputs": [
    {
     "name": "stdout",
     "output_type": "stream",
     "text": [
      "홍길동 :  90\n"
     ]
    }
   ],
   "source": [
    "with open(\"score.txt\", \"r\") as file:\n",
    "    for line in file:\n",
    "        name, score = line.split(',')\n",
    "        print(name, ': ', score)"
   ]
  },
  {
   "cell_type": "code",
   "execution_count": 55,
   "id": "0e5e7fba",
   "metadata": {},
   "outputs": [
    {
     "name": "stdout",
     "output_type": "stream",
     "text": [
      "이름 성적 입력 > abcd 88\n",
      "홍길동 :  90\n",
      "\n",
      "김철수 :  100\n",
      "\n",
      "abcd :  88\n",
      "\n"
     ]
    }
   ],
   "source": [
    "file = open(\"score.txt\", \"a+\")  # w, a, r\n",
    "name, score = input(\"이름 성적 입력 > \").split()\n",
    "file.write(name + ',' + score + '\\n')  #  파일의 마지막 위치를 가리킴\n",
    "\n",
    "file.seek(0, 0)  # 파일의 처음 위치로 이동\n",
    "for line in file:\n",
    "    name, score = line.split(',')\n",
    "    print(name, ': ', score)\n",
    "file.close()"
   ]
  },
  {
   "cell_type": "code",
   "execution_count": null,
   "id": "27a7a9fa",
   "metadata": {},
   "outputs": [],
   "source": [
    "# 이름, 국어, 영어, 수학 성적을 입력받아 파일 저장한 후 file_write()\n",
    "# 이름에 'q'가 입력되면 입력 종료\n",
    "# 검색할 이름을 입력받아 파일에서 데이터 검색   file_search()\n",
    "  # 검색한 이름과 성적 출력\n",
    "# 전체 학생의 인원수와 총점 평균을 구함  file_total()"
   ]
  },
  {
   "cell_type": "code",
   "execution_count": 73,
   "id": "a6794e0d",
   "metadata": {},
   "outputs": [],
   "source": [
    "# file_write() : 입력된 자료를 파일에 저장\n",
    "def file_write(file):\n",
    "    while True:\n",
    "        name = input(\"이름 입력 >\")\n",
    "        if name == 'q':\n",
    "            return\n",
    "        # 30 40 50 -> 문자열 분리 후 \"30,40,50\" 의 형식으로 join \n",
    "        score = ','.join(input(\"점수 3과목 입력 >\").split()) \n",
    "        file.write(name + ',' + score + '\\n')\n",
    "        \n",
    "# 검색할 이름의 점수 출력\n",
    "def file_search(file):\n",
    "    s_name = input(\"검색할 이름 입력 > \")\n",
    "    file.seek(0,0)  # 파일의 위치를 처음으로 이동    \n",
    "    for line in file:\n",
    "        f_data = line.split(',')  # f_data = ['name','90','80','100']\n",
    "        if f_data[0] == s_name:\n",
    "            return s_name, f_data[1:]\n",
    "    return None, None\n",
    "\n",
    "def file_total(file):   \n",
    "    total = 0\n",
    "    count = 0\n",
    "    file.seek(0,0)\n",
    "    for line in file:\n",
    "        count += 1\n",
    "        f_data = line.split(',')\n",
    "#         f_score = list(map(lambda x: int(x), [ x for x in f_data[1:] ]))\n",
    "        f_score = [ int(x) for x in f_data[1:] ]      \n",
    "        total += sum(f_score)\n",
    "    return total, count"
   ]
  },
  {
   "cell_type": "code",
   "execution_count": null,
   "id": "8a4993e2",
   "metadata": {},
   "outputs": [],
   "source": [
    "# file open\n",
    "file = open(\"score.txt\", \"a+\")\n",
    "file_write(file)  # file write "
   ]
  },
  {
   "cell_type": "code",
   "execution_count": 74,
   "id": "2ee7ac33",
   "metadata": {},
   "outputs": [
    {
     "name": "stdout",
     "output_type": "stream",
     "text": [
      "검색할 이름 입력 > a\n",
      "검색된 자료 없음\n",
      "총 인원수 : 5\t 총 점 : 1313.00,  평 균 : 262.60\n"
     ]
    }
   ],
   "source": [
    "name, score = file_search(file)   # 이름, 점수 검색\n",
    "if name:\n",
    "    print(\"{}의 성적은 {}, {}, {}\".format(name, score[0],score[1],score[2]))\n",
    "else:\n",
    "    print('검색된 자료 없음')\n",
    "    \n",
    "total, count = file_total(file)  #  총점, 인원수 \n",
    "print(\"총 인원수 : {}\\t 총 점 : {:5.2f},  평 균 : {:5.2f}\".format(count,\n",
    "                                              total, total/count))"
   ]
  }
 ],
 "metadata": {
  "kernelspec": {
   "display_name": "Python 3 (ipykernel)",
   "language": "python",
   "name": "python3"
  },
  "language_info": {
   "codemirror_mode": {
    "name": "ipython",
    "version": 3
   },
   "file_extension": ".py",
   "mimetype": "text/x-python",
   "name": "python",
   "nbconvert_exporter": "python",
   "pygments_lexer": "ipython3",
   "version": "3.9.7"
  }
 },
 "nbformat": 4,
 "nbformat_minor": 5
}
