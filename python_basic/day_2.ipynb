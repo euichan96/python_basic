{
 "cells": [
  {
   "cell_type": "code",
   "execution_count": 1,
   "id": "54266bb3",
   "metadata": {},
   "outputs": [],
   "source": [
    "#boolean 연습 : ==, !=, >, <, >=, <="
   ]
  },
  {
   "cell_type": "code",
   "execution_count": 3,
   "id": "a305216c",
   "metadata": {},
   "outputs": [
    {
     "name": "stdout",
     "output_type": "stream",
     "text": [
      "숫자입력5\n",
      "양수\n"
     ]
    }
   ],
   "source": [
    "input_num = int(input(\"숫자입력\"))\n",
    "if input_num > 0:\n",
    "    print('양수')\n",
    "if input_num < 0:\n",
    "    print('음수')  \n",
    "if input_num == 0:\n",
    "    print('0')"
   ]
  },
  {
   "cell_type": "code",
   "execution_count": null,
   "id": "63aa6d70",
   "metadata": {},
   "outputs": [],
   "source": [
    "input_num_1 = int(input(\"숫자입력\"))\n",
    "if input_num == 0:"
   ]
  },
  {
   "cell_type": "code",
   "execution_count": 8,
   "id": "b5b696fd",
   "metadata": {},
   "outputs": [
    {
     "name": "stdout",
     "output_type": "stream",
     "text": [
      "숫자입력5\n",
      "홀수\n"
     ]
    }
   ],
   "source": [
    "input_num_2 = int(input(\"숫자입력\"))\n",
    "if input_num_2 % 2 ==0:\n",
    "    print(\"짝수\")\n",
    "else:\n",
    "    print(\"홀수\")"
   ]
  },
  {
   "cell_type": "code",
   "execution_count": null,
   "id": "9589381a",
   "metadata": {},
   "outputs": [],
   "source": [
    "import datetime\n",
    "\n",
    "now = datetime.datetime.now()\n",
    "\n",
    "if 3 <= now.month <= 5:\n",
    "    print(\"봄\")\n",
    "if 6 <= now.month <= 8:\n",
    "    print(\"여름\")\n",
    "if 9 <= now.month <= 11:\n",
    "    print(\"가을\")\n",
    "if 1 <= now.month <= 2 or now.month ==12:\n",
    "    print(\"겨울\")\n",
    "\n",
    "if 0 <= now.hour <= 12:\n",
    "    print(\"오전\")\n",
    "if 13 <= now.hour <= 24:\n",
    "    print(\"오전\")"
   ]
  },
  {
   "cell_type": "code",
   "execution_count": null,
   "id": "a0c5dd7c",
   "metadata": {},
   "outputs": [],
   "source": [
    "\n"
   ]
  },
  {
   "cell_type": "code",
   "execution_count": 15,
   "id": "eb16f772",
   "metadata": {},
   "outputs": [
    {
     "name": "stdout",
     "output_type": "stream",
     "text": [
      "계산식 입력10 * 20\n",
      "10 * 20\n",
      "10 * 20 = 200\n"
     ]
    }
   ],
   "source": [
    "input_str = input(\"계산식 입력\")\n",
    "input_str = input_str.split()\n",
    "input_1 = input_str[0]\n",
    "input_2 = input_str[1]\n",
    "input_3 = input_str[2]\n",
    "\n",
    "print(input_1,input_2,input_3)\n",
    "if input_1. isdigit() and  input_3.isdigit() :\n",
    "    if input_2 in \"+-*/\":\n",
    "        input_1 = int(input_1)\n",
    "        input_3 = int(input_3)\n",
    "        if input_2 == \"+\":\n",
    "            print(input_1, \" + \", input_3, \"=\" ,input_1 + input_3)\n",
    "        if input_2 == \"*\":\n",
    "            print(input_1, \"*\", input_3, \"=\" ,input_1 * input_3)\n",
    "        if input_2 == \"-\":\n",
    "            print(input_1, \"-\", input_3, \"=\" ,input_1 - input_3)\n",
    "        if input_2 == \"/\":\n",
    "            print(input_1, \"/\", input_3, \"=\" ,input_1 / input_3)\n",
    "    else:\n",
    "        print(\"계산불가\")\n",
    "else:\n",
    "    print(\"계산불가\")       "
   ]
  },
  {
   "cell_type": "code",
   "execution_count": 4,
   "id": "7c3421de",
   "metadata": {},
   "outputs": [
    {
     "name": "stdout",
     "output_type": "stream",
     "text": [
      "[1, 2, 3, 4, 5, 6]\n"
     ]
    },
    {
     "data": {
      "text/plain": [
       "[1, 2, 3, [4, 5, 6], 4, 5, 6]"
      ]
     },
     "execution_count": 4,
     "metadata": {},
     "output_type": "execute_result"
    }
   ],
   "source": [
    "list_a = [1,2,3]\n",
    "list_b = [4,5,6]\n",
    "print(list_a + list_b)\n",
    "list_a.append(list_b)\n",
    "list_a.extend(list_b)\n",
    "list_a"
   ]
  },
  {
   "cell_type": "code",
   "execution_count": 50,
   "id": "07c2e08a",
   "metadata": {},
   "outputs": [
    {
     "name": "stdout",
     "output_type": "stream",
     "text": [
      "입력1 10\n",
      "1와 10의 합은 : 55\n"
     ]
    }
   ],
   "source": [
    "input_num_3 = input(\"입력\")\n",
    "input_num_3 = input_num_3.split()\n",
    "num_1 = int(input_num_3[0])\n",
    "num_2 = int(input_num_3[1])\n",
    "hap=0\n",
    "\n",
    "for i in range(num_1,num_2+1):\n",
    "       hap += i\n",
    "        \n",
    "print(\"{}와 {}의 합은 : {}\".format(num_1,num_2,hap))       \n"
   ]
  },
  {
   "cell_type": "code",
   "execution_count": 49,
   "id": "e71be4d5",
   "metadata": {},
   "outputs": [
    {
     "name": "stdout",
     "output_type": "stream",
     "text": [
      "입력1 4 4 4 1 1 1\n",
      "7\n",
      "16\n"
     ]
    }
   ],
   "source": [
    "input_num_3 = input(\"숫자 여러개 입력(제한 없음)\")\n",
    "input_num_3 = input_num_3.split()\n",
    "count = len(input_num_3)\n",
    "list_a = list(map(int, input_num_3))\n",
    "hap=0\n",
    "for i in range(len(list_a)):\n",
    "    hap+=list_a[i]\n",
    "print(hap)"
   ]
  },
  {
   "cell_type": "code",
   "execution_count": 56,
   "id": "a39bf24e",
   "metadata": {},
   "outputs": [
    {
     "name": "stdout",
     "output_type": "stream",
     "text": [
      "이름 국어 영어 수학 점수 입력 > a 1 2 3\n",
      "이름 국어 영어 수학 점수 입력 > b 1 2 3\n",
      "이름 국어 영어 수학 점수 입력 > c 3 2 1\n",
      "이름 국어 영어 수학 점수 입력 > quit\n",
      "{'a': [1, 2, 3, 6], 'b': [1, 2, 3, 6], 'c': [3, 2, 1, 6]}\n"
     ]
    }
   ],
   "source": [
    "score_name = {}\n",
    "for i in range(100):\n",
    "    input_str = input(\"이름 국어 영어 수학 점수 입력 > \").split()\n",
    "    name = input_str[0]\n",
    "    if name == \"quit\":\n",
    "        break\n",
    "    score_list = []\n",
    "    for i in range(1,4):\n",
    "        score_list.append(int(input_str[i]))\n",
    "    hap=0\n",
    "    for i in range(3):   \n",
    "        hap += score_list[i]\n",
    "    score_list.append(hap)\n",
    "    score_name[name] = score_list\n",
    "print(score_name)\n",
    "    "
   ]
  },
  {
   "cell_type": "code",
   "execution_count": 95,
   "id": "c7818310",
   "metadata": {},
   "outputs": [
    {
     "name": "stdout",
     "output_type": "stream",
     "text": [
      "숫자 여러개 입력(제한 없음)2 1 1 2 3 1 \n",
      "{'0': 0, '1': 3, '2': 2, '3': 1, '4': 0, '5': 0, '6': 0, '7': 0, '8': 0, '9': 0}\n"
     ]
    }
   ],
   "source": [
    "numbers = input(\"숫자 여러개 입력(제한 없음)\")\n",
    "numbers = list(map(int, numbers.split()))\n",
    "score_count = [0,0,0,0,0,0,0,0,0,0]\n",
    "count =       ['0','1','2','3','4','5','6','7','8','9']\n",
    "for i in numbers:\n",
    "    score_count[i] += 1\n",
    "    \n",
    "score_dict = {}\n",
    "for i in range(len(count)):\n",
    "      score_dict[count[i]] = score_count[i]\n",
    "        \n",
    "print(score_dict)\n",
    "# [0, 2, 2, 2, 0, 0, 0, 0, 0, 0] 이런식으로 나오는데\n",
    "# 배열을 합쳐서['0':[0], '1':[2],]... 이런식으로 표현하려면 어떻게 할 수 있나요?..?"
   ]
  }
 ],
 "metadata": {
  "kernelspec": {
   "display_name": "Python 3 (ipykernel)",
   "language": "python",
   "name": "python3"
  },
  "language_info": {
   "codemirror_mode": {
    "name": "ipython",
    "version": 3
   },
   "file_extension": ".py",
   "mimetype": "text/x-python",
   "name": "python",
   "nbconvert_exporter": "python",
   "pygments_lexer": "ipython3",
   "version": "3.9.7"
  }
 },
 "nbformat": 4,
 "nbformat_minor": 5
}
