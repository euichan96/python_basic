{
 "cells": [
  {
   "cell_type": "code",
   "execution_count": 1,
   "id": "40056e35",
   "metadata": {},
   "outputs": [],
   "source": [
    "#파파고 api를 활용한 번역 프로그램 작성\n",
    "text='''Yesterday\n",
    "All my troubles seemed so far away\n",
    "Now it looks as though they're here to stay\n",
    "Oh, I believe in yesterday\n",
    "Suddenly\n",
    "I'm not half the man I used to be\n",
    "There's a shadow hanging over me\n",
    "Oh, yesterday came suddenly\n",
    "Why she had to go, I don't know\n",
    "She wouldn't say\n",
    "I said something wrong\n",
    "Now I long for yesterday\n",
    "Yesterday\n",
    "Love was such an easy game to play\n",
    "Now I need a place to hide away\n",
    "Oh, I believe in yesterday\n",
    "Why she'''"
   ]
  },
  {
   "cell_type": "code",
   "execution_count": 4,
   "id": "45695757",
   "metadata": {},
   "outputs": [],
   "source": [
    "import requests"
   ]
  },
  {
   "cell_type": "code",
   "execution_count": 13,
   "id": "31c7130d",
   "metadata": {},
   "outputs": [],
   "source": [
    "requests_url = \"https://openapi.naver.com/v1/papago/n2mt\"\n",
    "\n",
    "headers = {\"Content-Type\": \"application/x-www-form-urlencoded; charset=UTF-8\",\n",
    "          \"X-Naver-Client-Id\": \"0wcWI4efZlpE7yLzvnDG\",\n",
    "          \"X-Naver-Client-Secret\": \"Hl2elNmLEA\"}\n",
    "\n",
    "params = {\"source\":\"en\", \"target\":\"ko\", \"text\":text}\n",
    "\n",
    "# -H \"Content-Type: application/x-www-form-urlencoded; charset=UTF-8\" \\\n",
    "# -H \"X-Naver-Client-Id: 0wcWI4efZlpE7yLzvnDG\" \\\n",
    "# -H \"X-Naver-Client-Secret: Hl2elNmLEA\" \\\n",
    "# -d \"source=ko&target=en&text=만나서 반갑습니다.\" -v"
   ]
  },
  {
   "cell_type": "code",
   "execution_count": 16,
   "id": "8e288d78",
   "metadata": {},
   "outputs": [
    {
     "name": "stdout",
     "output_type": "stream",
     "text": [
      "<class 'str'>\n",
      "{\"message\":{\"@type\":\"response\",\"@service\":\"naverservice.nmt.proxy\",\"@version\":\"1.0.0\",\"result\":{\"srcLangType\":\"en\",\"tarLangType\":\"ko\",\"translatedText\":\"어제\\n내 모든 시름들이 멀리 사라져버린듯 했다\\n이제 그들은 여기 머무르러 온 것처럼 보인다.\\n오, 나는 어제를 다시 그리게 돼.\\n갑자기\\n예전의 나의 반도 안 되는구나.\\n그림자가 드리워져 있어요\\n오, 어제가 갑자기 왔다.\\n왜 그녀가 가야만 했는지 모르겠어\\n그녀는 말하지 않았다.\\n내가 잘못 말했어.\\n이제 나는 어제가 그립다.\\n어제\\n사랑은 정말 하기 쉬운 게임이었다.\\n이제 숨을 곳이 필요해\\n오, 나는 어제를 다시 그리게 돼.\\n왜그녀\",\"engineType\":\"UNDEF_MULTI_SENTENCE\",\"pivot\":null}}}\n",
      "<class 'dict'>\n"
     ]
    }
   ],
   "source": [
    "response = requests.post(requests_url, headers=headers, data=params)\n",
    "print(type(response.text))\n",
    "print(response.text)\n",
    "\n",
    "res =response.json()\n",
    "print(type(res))"
   ]
  },
  {
   "cell_type": "code",
   "execution_count": 19,
   "id": "1c2c6e8f",
   "metadata": {},
   "outputs": [
    {
     "ename": "KeyError",
     "evalue": "'tanslatedText'",
     "output_type": "error",
     "traceback": [
      "\u001b[1;31m---------------------------------------------------------------------------\u001b[0m",
      "\u001b[1;31mKeyError\u001b[0m                                  Traceback (most recent call last)",
      "\u001b[1;32m~\\AppData\\Local\\Temp/ipykernel_2976/1633538625.py\u001b[0m in \u001b[0;36m<module>\u001b[1;34m\u001b[0m\n\u001b[1;32m----> 1\u001b[1;33m \u001b[0mprint\u001b[0m\u001b[1;33m(\u001b[0m\u001b[0mres\u001b[0m\u001b[1;33m[\u001b[0m\u001b[1;34m'message'\u001b[0m\u001b[1;33m]\u001b[0m\u001b[1;33m[\u001b[0m\u001b[1;34m'result'\u001b[0m\u001b[1;33m]\u001b[0m\u001b[1;33m[\u001b[0m\u001b[1;34m'tanslatedText'\u001b[0m\u001b[1;33m]\u001b[0m\u001b[1;33m)\u001b[0m\u001b[1;33m\u001b[0m\u001b[1;33m\u001b[0m\u001b[0m\n\u001b[0m",
      "\u001b[1;31mKeyError\u001b[0m: 'tanslatedText'"
     ]
    }
   ],
   "source": [
    "print(res['message']['result']['tanslatedText'])"
   ]
  },
  {
   "cell_type": "code",
   "execution_count": 20,
   "id": "ffe28f77",
   "metadata": {},
   "outputs": [],
   "source": [
    "# 학생, 국어, 영어, 수학 점수를 입력 받아 student_dict() 에 저장한 후 출력\n",
    "\n",
    "students={}\n",
    "def create_student():\n",
    "    student = {}\n",
    "    name = input(\"이름 입력 > \")\n",
    "    if name == 'q':\n",
    "        return student\n",
    "    score = list(map(int, input(\"국어 영어 수학 점수 입력 > \".split())))\n",
    "    \n",
    "    for idx, value in enumerate(score):\n",
    "        student[idx] = score[idx]\n",
    "    return student\n",
    "    "
   ]
  },
  {
   "cell_type": "code",
   "execution_count": 21,
   "id": "bc1ec162",
   "metadata": {},
   "outputs": [
    {
     "name": "stdout",
     "output_type": "stream",
     "text": [
      "이름 입력 > a\n"
     ]
    },
    {
     "ename": "TypeError",
     "evalue": "'NoneType' object is not subscriptable",
     "output_type": "error",
     "traceback": [
      "\u001b[1;31m---------------------------------------------------------------------------\u001b[0m",
      "\u001b[1;31mTypeError\u001b[0m                                 Traceback (most recent call last)",
      "\u001b[1;32m~\\AppData\\Local\\Temp/ipykernel_2976/2147702333.py\u001b[0m in \u001b[0;36m<module>\u001b[1;34m\u001b[0m\n\u001b[0;32m      1\u001b[0m \u001b[1;32mwhile\u001b[0m \u001b[1;32mTrue\u001b[0m\u001b[1;33m:\u001b[0m\u001b[1;33m\u001b[0m\u001b[1;33m\u001b[0m\u001b[0m\n\u001b[0;32m      2\u001b[0m     \u001b[0mstudent\u001b[0m \u001b[1;33m=\u001b[0m \u001b[0mcreate_student\u001b[0m\u001b[1;33m(\u001b[0m\u001b[1;33m)\u001b[0m\u001b[1;33m\u001b[0m\u001b[1;33m\u001b[0m\u001b[0m\n\u001b[1;32m----> 3\u001b[1;33m     \u001b[1;32mif\u001b[0m \u001b[0mstudent\u001b[0m\u001b[1;33m[\u001b[0m\u001b[1;34m'name'\u001b[0m\u001b[1;33m]\u001b[0m \u001b[1;33m==\u001b[0m \u001b[1;34m'q'\u001b[0m\u001b[1;33m:\u001b[0m\u001b[1;33m\u001b[0m\u001b[1;33m\u001b[0m\u001b[0m\n\u001b[0m\u001b[0;32m      4\u001b[0m         \u001b[1;32mbreak\u001b[0m\u001b[1;33m\u001b[0m\u001b[1;33m\u001b[0m\u001b[0m\n\u001b[0;32m      5\u001b[0m     \u001b[0mstudents\u001b[0m\u001b[1;33m.\u001b[0m\u001b[0mappend\u001b[0m\u001b[1;33m(\u001b[0m\u001b[0mstudent\u001b[0m\u001b[1;33m)\u001b[0m\u001b[1;33m\u001b[0m\u001b[1;33m\u001b[0m\u001b[0m\n",
      "\u001b[1;31mTypeError\u001b[0m: 'NoneType' object is not subscriptable"
     ]
    }
   ],
   "source": [
    "while True:\n",
    "    student = create_student()\n",
    "    if student['name'] == 'q':\n",
    "        break\n",
    "    students.append(student)\n",
    "\n",
    "for value in students:\n",
    "    for value in values():\n",
    "        for key in value:\n",
    "            print(\"{} : {}\\t\".format(key, value[key]),sep='')\n",
    "        print(\"\\n\")\n",
    "        "
   ]
  },
  {
   "cell_type": "code",
   "execution_count": null,
   "id": "faa9075c",
   "metadata": {},
   "outputs": [],
   "source": [
    "for item in students:\n",
    "    for key in item:\n",
    "        print(\"{}:{}\")"
   ]
  }
 ],
 "metadata": {
  "kernelspec": {
   "display_name": "Python 3 (ipykernel)",
   "language": "python",
   "name": "python3"
  },
  "language_info": {
   "codemirror_mode": {
    "name": "ipython",
    "version": 3
   },
   "file_extension": ".py",
   "mimetype": "text/x-python",
   "name": "python",
   "nbconvert_exporter": "python",
   "pygments_lexer": "ipython3",
   "version": "3.9.7"
  }
 },
 "nbformat": 4,
 "nbformat_minor": 5
}
