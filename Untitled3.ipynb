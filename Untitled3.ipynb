{
 "cells": [
  {
   "cell_type": "code",
   "execution_count": 9,
   "id": "f1fd1980",
   "metadata": {},
   "outputs": [
    {
     "name": "stdout",
     "output_type": "stream",
     "text": [
      "입력10 20\n",
      "10 20 10 10\n",
      "10 20 21 31\n",
      "10 20 1 32\n",
      "10와 20의 합은 : 32\n"
     ]
    }
   ],
   "source": [
    "input_num_3 = input(\"입력\")\n",
    "input_num_3 = input_num_3.split()\n",
    "num_1 = int(input_num_3[0])\n",
    "num_2 = int(input_num_3[1])\n",
    "hap = 0\n",
    "for v in (num_1, num_2+1, 1):\n",
    "    hap += v \n",
    "    print(num_1, num_2 , v ,hap)\n",
    "print(\"{}와 {}의 합은 : {}\".format(num_1,num_2,hap))      "
   ]
  },
  {
   "cell_type": "code",
   "execution_count": null,
   "id": "f9c235fe",
   "metadata": {},
   "outputs": [],
   "source": []
  }
 ],
 "metadata": {
  "kernelspec": {
   "display_name": "Python 3 (ipykernel)",
   "language": "python",
   "name": "python3"
  },
  "language_info": {
   "codemirror_mode": {
    "name": "ipython",
    "version": 3
   },
   "file_extension": ".py",
   "mimetype": "text/x-python",
   "name": "python",
   "nbconvert_exporter": "python",
   "pygments_lexer": "ipython3",
   "version": "3.9.7"
  }
 },
 "nbformat": 4,
 "nbformat_minor": 5
}
