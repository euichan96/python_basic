{
 "cells": [
  {
   "cell_type": "code",
   "execution_count": 1,
   "metadata": {},
   "outputs": [
    {
     "name": "stdout",
     "output_type": "stream",
     "text": [
      "유니코학생은 나이가 20이고 평균은 95.869입니다\n",
      "유니코학생은 나이가 20이고 평균은 95.869입니다\n",
      "유니코학생은 나이가 20이고 평균은 95.87입니다\n",
      "유니코학생은 나이가 20이고 평균은 95.87입니다\n",
      "유니코학생은 나이가 20이고 평균은 95.87입니다\n"
     ]
    }
   ],
   "source": [
    "stname = \"유니코\"; stage=20; stavg=95.869\n",
    "print(stname+\"학생은 나이가 \"+str(stage)+\"이고 평균은 \"+str(stavg)+\"입니다\")\n",
    "print(stname, \"학생은 나이가 \", stage, \"이고 평균은 \", stavg, \"입니다\", sep=\"\")\n",
    "print(\"%s학생은 나이가 %d이고 평균은 %.2f입니다\" % (stname, stage, stavg))\n",
    "print(\"{}학생은 나이가 {}이고 평균은 {:.2f}입니다\".format(stname, stage, stavg))\n",
    "print(f\"{stname}학생은 나이가 {stage}이고 평균은 {stavg:.2f}입니다\")"
   ]
  },
  {
   "cell_type": "code",
   "execution_count": 2,
   "metadata": {},
   "outputs": [
    {
     "name": "stdout",
     "output_type": "stream",
     "text": [
      "유니코학생은 나이가 20이고 평균은 95.869입니다\n",
      "유니코학생은 나이가 20이고 평균은 95.87입니다\n",
      "유니코학생은 나이가 20이고 평균은 95.87입니다\n",
      "유니코학생은 나이가 20이고 평균은 95.87입니다\n"
     ]
    }
   ],
   "source": [
    "v1 = stname+\"학생은 나이가 \"+str(stage)+\"이고 평균은 \"+str(stavg)+\"입니다\"\n",
    "v2 = \"%s학생은 나이가 %d이고 평균은 %.2f입니다\" % (stname, stage, stavg)\n",
    "v3 = \"{}학생은 나이가 {}이고 평균은 {:.2f}입니다\".format(stname, stage, stavg)\n",
    "v4 = f\"{stname}학생은 나이가 {stage}이고 평균은 {stavg:.2f}입니다\"\n",
    "print(v1)\n",
    "print(v2)\n",
    "print(v3)\n",
    "print(v4)"
   ]
  },
  {
   "cell_type": "code",
   "execution_count": 3,
   "metadata": {},
   "outputs": [
    {
     "name": "stdout",
     "output_type": "stream",
     "text": [
      "3.8.12 (default, Oct 12 2021, 03:01:40) [MSC v.1916 64 bit (AMD64)]\n"
     ]
    }
   ],
   "source": [
    "import sys\n",
    "print(sys.version)"
   ]
  },
  {
   "cell_type": "code",
   "execution_count": 4,
   "metadata": {},
   "outputs": [
    {
     "name": "stdout",
     "output_type": "stream",
     "text": [
      "C:\\Users\\82109\\Documents\\python_basic\\machine_learning\\2022-01-11\n"
     ]
    }
   ],
   "source": [
    "import os\n",
    "print(os.getcwd())"
   ]
  },
  {
   "cell_type": "code",
   "execution_count": 5,
   "metadata": {},
   "outputs": [
    {
     "name": "stdout",
     "output_type": "stream",
     "text": [
      "Available kernels:\n",
      "  pydatavenv    C:\\Users\\82109\\AppData\\Roaming\\jupyter\\kernels\\pydatavenv\n",
      "  python3       C:\\ProgramData\\Anaconda3\\share\\jupyter\\kernels\\python3\n"
     ]
    }
   ],
   "source": [
    "!jupyter kernelspec list"
   ]
  },
  {
   "cell_type": "code",
   "execution_count": 6,
   "metadata": {},
   "outputs": [
    {
     "name": "stdout",
     "output_type": "stream",
     "text": [
      " C 드라이브의 볼륨: OS\n",
      " 볼륨 일련 번호: 0620-5A43\n",
      "\n",
      " C:\\Users\\82109\\Documents\\python_basic\\machine_learning\\2022-01-11 디렉터리\n",
      "\n",
      "2022-01-11  오후 02:27    <DIR>          .\n",
      "2022-01-11  오후 02:27    <DIR>          ..\n",
      "2022-01-11  오후 02:22    <DIR>          .ipynb_checkpoints\n",
      "2022-01-11  오후 02:27            27,147 exam1.ipynb\n",
      "2022-01-11  오전 10:38               957 first.ipynb\n",
      "2022-01-11  오후 02:22    <DIR>          images\n",
      "2022-01-11  오후 02:21    <DIR>          output\n",
      "2022-01-11  오전 10:51               954 second.ipynb\n",
      "               3개 파일              29,058 바이트\n",
      "               5개 디렉터리  710,627,659,776 바이트 남음\n"
     ]
    }
   ],
   "source": [
    "!dir"
   ]
  },
  {
   "cell_type": "code",
   "execution_count": 8,
   "metadata": {},
   "outputs": [
    {
     "name": "stdout",
     "output_type": "stream",
     "text": [
      "<class 'http.client.HTTPResponse'>\n",
      "200\n",
      "11\n",
      "OK\n",
      "[ header 정보 ]----------\n",
      "('Server', 'NWS')\n",
      "('Content-Type', 'text/html; charset=UTF-8')\n",
      "('Cache-Control', 'no-cache, no-store, must-revalidate')\n",
      "('Pragma', 'no-cache')\n",
      "('P3P', 'CP=\"CAO DSP CURa ADMa TAIa PSAa OUR LAW STP PHY ONL UNI PUR FIN COM NAV INT DEM STA PRE\"')\n",
      "('X-Frame-Options', 'DENY')\n",
      "('X-XSS-Protection', '1; mode=block')\n",
      "('Strict-Transport-Security', 'max-age=63072000; includeSubdomains')\n",
      "('Referrer-Policy', 'unsafe-url')\n",
      "('Vary', 'Accept-Encoding')\n",
      "('Date', 'Tue, 11 Jan 2022 06:24:47 GMT')\n",
      "('Transfer-Encoding', 'chunked')\n",
      "('Connection', 'close')\n",
      "('Connection', 'Transfer-Encoding')\n",
      "('Set-Cookie', 'PM_CK_loc=40c6ebf84493aca3d2f2f8d06ca47ca7e802fdd421a228b86299f9cb7c38c0d8; Expires=Wed, 12 Jan 2022 06:24:47 GMT; Path=/; HttpOnly')\n"
     ]
    }
   ],
   "source": [
    "import urllib.request\n",
    "res = urllib.request.urlopen(\"http://www.naver.com/\")\n",
    "print(type(res))\n",
    "print(res.status)\n",
    "print(res.version)\n",
    "print(res.msg)\n",
    "res_header = res.getheaders()\n",
    "print(\"[ header 정보 ]----------\")\n",
    "for s in res_header :\n",
    "    print(s)"
   ]
  },
  {
   "cell_type": "code",
   "execution_count": 9,
   "metadata": {},
   "outputs": [
    {
     "name": "stdout",
     "output_type": "stream",
     "text": [
      "<http.client.HTTPResponse object at 0x000001F6D88D5F40>\n",
      "[ header 정보 ]----------\n",
      "('Date', 'Tue, 11 Jan 2022 06:26:02 GMT')\n",
      "('Server', 'Apache/2.2.15 (CentOS)')\n",
      "('Content-Length', '461')\n",
      "('Connection', 'close')\n",
      "('Content-Type', 'text/html')\n",
      "[ body 내용 ]-----------\n",
      "<!DOCTYPE html>\n",
      "<html>\n",
      "<head>\n",
      "<meta charset=\"UTF-8\">\n",
      "<title>Insert title here</title>\n",
      "</head>\n",
      "<body>\n",
      "<h1>블럭스타일 태그</h1>\n",
      "<div style=\"background-color:yellow\">테스트입니다1</div>\n",
      "<div>테스트입니다2</div>\n",
      "<div>테스트입니다3</div>\n",
      "<hr>\n",
      "<h1>인라인스타일 태그</h1>\n",
      "<span style=\"background-color:yellow\">테스트입니다1</span>\n",
      "<span>테스트입니다2</span>\n",
      "<span>테스트입니다3</span>\n",
      "</body>\n",
      "</html>\n"
     ]
    }
   ],
   "source": [
    "import urllib.request\n",
    "res = urllib.request.urlopen(\"http://unico2013.dothome.co.kr/crawling/tagstyle.html\")\n",
    "print(res)\n",
    "print(\"[ header 정보 ]----------\")\n",
    "res_header = res.getheaders()\n",
    "for s in res_header :\n",
    "    print(s)\n",
    "print(\"[ body 내용 ]-----------\")\n",
    "#print(res.read())\n",
    "print(res.read().decode('utf-8'))\n"
   ]
  },
  {
   "cell_type": "code",
   "execution_count": 10,
   "metadata": {},
   "outputs": [
    {
     "name": "stdout",
     "output_type": "stream",
     "text": [
      "===========================================================\n",
      "<class 'http.client.HTTPResponse'>\n",
      "<class 'http.client.HTTPMessage'>\n",
      "https://www.python.org/  페이지의 인코딩 정보 : utf-8\n",
      "<!doctype html>\n",
      "<!--[if lt IE 7]>   <html class=\"no-js ie6 lt-ie7 lt-ie8 lt-ie9\">   <![endif]-->\n",
      "<!--[if IE 7]>      <html class=\"no-js ie7 lt-ie8 lt-ie9\">          <![endif]-->\n",
      "<!--[if IE 8]>      <html class=\"no-js ie8 lt-ie9\">                 <![endif]-->\n",
      "<!--[if gt IE 8]><!--><html class=\"no-js\" lang=\"en\" dir=\"ltr\">  <!--<![endif]-->\n",
      "\n",
      "<head>\n",
      "    <meta charset=\"utf-8\">\n",
      "    <meta http-equiv=\"X-UA-Compatible\" content=\"IE=edge\">\n",
      "\n",
      "    <link rel=\"prefetch\" href=\"//ajax.googleapis.com/ajax/libs/jqu\n",
      "===========================================================\n",
      "https://www.naver.com/  페이지의 인코딩 정보 : utf-8\n",
      "\n",
      "<!doctype html>                          <html lang=\"ko\" data-dark=\"false\"> <head> <meta charset=\"utf-8\"> <title>NAVER</title> <meta http-equiv=\"X-UA-Compatible\" content=\"IE=edge\"> <meta name=\"viewport\" content=\"width=1190\"> <meta name=\"apple-mobile-web-app-title\" content=\"NAVER\"/> <meta name=\"robots\" content=\"index,nofollow\"/> <meta name=\"description\" content=\"네이버 메인에서 다양한 정보와 유용한 컨텐츠를 만나 보세요\"/> <meta property=\"og:title\" content=\"네이버\"> <m\n",
      "===========================================================\n",
      "http://www.yes24.com/Main/default.aspx  페이지의 인코딩 정보 : ks_c_5601-1987\n",
      "\n",
      "\t<!DOCTYPE html>\n",
      "\t<html lang=\"ko\">\n",
      "\n",
      "<head>\n",
      "\t<meta http-equiv=\"X-UA-Compatible\" content=\"IE=Edge\" />\n",
      "\t<meta http-equiv=\"Content-Type\" content=\"text/html;charset=euc-kr\" />\n",
      "\t<meta http-equiv=\"Accept-CH\" content=\"dpr, width, viewport-width, rtt, downlink, ect, UA, UA-Platform, UA-Arch, UA-Model, UA-Mobile, UA-Full-Version\" />\n",
      "\t<meta http-equiv=\"Accept-CH-Lifetime\" content=\"86400\" />\n",
      "\t<meta name=\"referrer\" content=\"unsafe-url\" />\n",
      "\t<meta name=\"viewport\" content=\"width=1170\" />\n",
      "\n",
      "\t<title>Y\n",
      "===========================================================\n"
     ]
    }
   ],
   "source": [
    "import urllib.request\n",
    "print(\"===========================================================\")\n",
    "url = 'https://www.python.org/'\n",
    "f = urllib.request.urlopen(url)\n",
    "print(type(f))\n",
    "print(type(f.info()))\n",
    "encoding = f.info().get_content_charset()\n",
    "print(url, ' 페이지의 인코딩 정보 :', encoding)\n",
    "text = f.read(500).decode(encoding)\n",
    "print(text)\n",
    "print(\"===========================================================\")\n",
    "url = 'https://www.naver.com/'\n",
    "f = urllib.request.urlopen(url)\n",
    "encoding = f.info().get_content_charset()\n",
    "print(url, ' 페이지의 인코딩 정보 :', encoding)\n",
    "text = f.read(500).decode(encoding)\n",
    "print(text)\n",
    "print(\"===========================================================\")\n",
    "\n",
    "url = 'http://www.yes24.com/Main/default.aspx'\n",
    "f = urllib.request.urlopen(url)\n",
    "encoding = f.info().get_content_charset()\n",
    "print(url, ' 페이지의 인코딩 정보 :', encoding)\n",
    "\n",
    "text = f.read(500).decode(encoding)\n",
    "print(text)\n",
    "print(\"===========================================================\")"
   ]
  },
  {
   "cell_type": "code",
   "execution_count": 11,
   "metadata": {},
   "outputs": [
    {
     "name": "stdout",
     "output_type": "stream",
     "text": [
      "[ URL 문자열 정보 추출 1 ]\n",
      "타입정보 :  <class 'urllib.parse.ParseResult'>\n",
      "도메인정보 :  movie.daum.net\n",
      "패스정보 :  /moviedb/main\n",
      "쿼리정보 :  movieId=93252\n",
      "스킴정보 :  https\n",
      "포트정보 :  None\n",
      "프래그먼트정보 :  \n",
      "URL 문자열정보 :  https://movie.daum.net/moviedb/main?movieId=93252\n",
      "urllib.parse.ParseResult 객체정보 :  ParseResult(scheme='https', netloc='movie.daum.net', path='/moviedb/main', params='', query='movieId=93252', fragment='')\n",
      "\n",
      "[ URL 문자열 정보 추출 2 ]\n",
      "도메인정보 :  docs.python.org\n",
      "패스정보 :  /3/library/urllib.parse.html\n",
      "쿼리정보 :  \n",
      "스킴정보 :  https\n",
      "포트정보 :  None\n",
      "프래그먼트정보 :  urlparse-result-object\n",
      "URL 문자열정보 :  https://docs.python.org/3/library/urllib.parse.html#urlparse-result-object\n",
      "urllib.parse.ParseResult 객체정보 :  ParseResult(scheme='https', netloc='docs.python.org', path='/3/library/urllib.parse.html', params='', query='', fragment='urlparse-result-object')\n",
      "\n",
      "[ Query문자열 또는 요청 파라미터 인코딩 ]\n",
      "number=12524&type=issue&action=show\n",
      "addr=%EC%84%9C%EC%9A%B8%EC%8B%9C+%EA%B0%95%EB%82%A8%EA%B5%AC+%EC%97%AD%EC%82%BC%EB%8F%99\n"
     ]
    }
   ],
   "source": [
    "from urllib.parse import urlparse\n",
    "from urllib.parse import urlencode\n",
    "print(\"[ URL 문자열 정보 추출 1 ]\")\n",
    "url1 = urlparse('https://movie.daum.net/moviedb/main?movieId=93252')\n",
    "print(\"타입정보 : \",type(url1))\n",
    "print(\"도메인정보 : \",url1.netloc) \n",
    "print(\"패스정보 : \",url1.path)\n",
    "print(\"쿼리정보 : \",url1.query) \n",
    "print(\"스킴정보 : \",url1.scheme)\n",
    "print(\"포트정보 : \",url1.port)\n",
    "print(\"프래그먼트정보 : \",url1.fragment)\n",
    "print(\"URL 문자열정보 : \",url1.geturl())\n",
    "print(\"urllib.parse.ParseResult 객체정보 : \",url1)\n",
    "print(\"\\n[ URL 문자열 정보 추출 2 ]\")\n",
    "url2 = urlparse('https://docs.python.org/3/library/urllib.parse.html#urlparse-result-object')\n",
    "print(\"도메인정보 : \",url2.netloc) \n",
    "print(\"패스정보 : \", url2.path)  \n",
    "print(\"쿼리정보 : \",url2.query)\n",
    "print(\"스킴정보 : \",url2.scheme)\n",
    "print(\"포트정보 : \",url2.port)\n",
    "print(\"프래그먼트정보 : \",url2.fragment)\n",
    "print(\"URL 문자열정보 : \",url2.geturl())\n",
    "print(\"urllib.parse.ParseResult 객체정보 : \",url2)\n",
    "\n",
    "print(\"\\n[ Query문자열 또는 요청 파라미터 인코딩 ]\")\n",
    "params1 = urlencode({'number': 12524, 'type': 'issue', 'action': 'show'})\n",
    "print(params1)\n",
    "params2 = urlencode({'addr': '서울시 강남구 역삼동'})\n",
    "print(params2)"
   ]
  },
  {
   "cell_type": "code",
   "execution_count": 16,
   "metadata": {},
   "outputs": [
    {
     "name": "stdout",
     "output_type": "stream",
     "text": [
      "URL 인코딩 규칙이 적용된 문자열 : name=%EC%9C%A0%EB%8B%88%EC%BD%94&age=10\n",
      "﻿<!DOCTYPE html>\n",
      "<html>\n",
      "  <head>\n",
      "    <meta charset=\"utf-8\">\n",
      "    <title>POST TEST</title>\n",
      "  </head>\n",
      "  <body>\n",
      "   <h1>GET : 이름은 유니코이고 나이는 10이네요!!</h1>   </body>\n",
      "</html>\n"
     ]
    }
   ],
   "source": [
    "import urllib.request\n",
    "import urllib.parse\n",
    "params = urllib.parse.urlencode({'name': '유니코', 'age': 10})\n",
    "print(\"URL 인코딩 규칙이 적용된 문자열 : %s\" % params)\n",
    "url = \"http://unico2013.dothome.co.kr/crawling/get.php?%s\" % params\n",
    "with urllib.request.urlopen(url) as f:\n",
    "    print(f.read().decode('utf-8'))"
   ]
  },
  {
   "cell_type": "code",
   "execution_count": null,
   "metadata": {},
   "outputs": [],
   "source": [
    "import urllib.request\n",
    "import urllib.parse\n",
    "data = urllib.parse.urlencode({'name': '유니코', 'age': 10})\n",
    "print(\"URL 인코딩 규칙이 적용된 문자열 : %s\" % data)\n",
    "postdata = data.encode('ascii')\n",
    "print(\"변환된 바이트 문자열 : %s\" % postdata)\n",
    "url = \"http://unico2013.dothome.co.kr/crawling/post.php\"\n",
    "with urllib.request.urlopen(url, postdata) as f:\n",
    "    print(f.read().decode('utf-8'))"
   ]
  },
  {
   "cell_type": "code",
   "execution_count": null,
   "metadata": {},
   "outputs": [],
   "source": [
    "import urllib.request\n",
    "import urllib.parse\n",
    "data = urllib.parse.urlencode({'name': '유니코', 'age': 10})\n",
    "postdata = data.encode('ascii')\n",
    "req = urllib.request.Request(url='http://unico2013.dothome.co.kr/crawling/post.php',\n",
    "            data=postdata)\n",
    "print(req)\n",
    "with urllib.request.urlopen(req) as f:\n",
    "    print(f.read().decode('utf-8'))"
   ]
  },
  {
   "cell_type": "code",
   "execution_count": 13,
   "metadata": {},
   "outputs": [
    {
     "name": "stdout",
     "output_type": "stream",
     "text": [
      "<class 'requests.models.Response'>\n",
      "<!DOCTYPE html>\n",
      "<html>\n",
      "<head>\n",
      "<meta charset=\"UTF-8\">\n",
      "<title>테스트</title>\n",
      "</head>\n",
      "<body>\n",
      "<h1>웹 크롤링을 테스트 합니다.</h1>\n",
      "</body>\n",
      "</html>\n",
      "----------------------------------------------------------\n",
      "<class 'requests.models.Response'>\n",
      "응답된 콘텐츠가 없어요\n",
      "----------------------------------------------------------\n",
      "<class 'requests.models.Response'>\n",
      "﻿<!DOCTYPE html>\n",
      "<html>\n",
      "  <head>\n",
      "    <meta charset=\"utf-8\">\n",
      "    <title>POST TEST</title>\n",
      "  </head>\n",
      "  <body>\n",
      "   <h1>POST : 이름은 백도이고 나이는 12이네요!!</h1>   </body>\n",
      "</html>\n"
     ]
    }
   ],
   "source": [
    "import requests\n",
    "\n",
    "r = requests.request('get', 'http://unico2013.dothome.co.kr/crawling/exam.html')\n",
    "r.encoding = 'utf-8'\n",
    "print(type(r))\n",
    "if r.text :\n",
    "    print(r.text)\n",
    "else :\n",
    "    print('응답된 콘텐츠가 없어요')\n",
    "print('----------------------------------------------------------')\n",
    "r = requests.request('head', 'http://unico2013.dothome.co.kr/crawling/exam.html')\n",
    "r.encoding = 'utf-8'\n",
    "print(type(r))\n",
    "if r.text :\n",
    "    print(r.text)\n",
    "else :\n",
    "    print('응답된 콘텐츠가 없어요')\n",
    "print('----------------------------------------------------------')\n",
    "r = requests.request('post', 'http://unico2013.dothome.co.kr/crawling/post.php', data= {'name':'백도', 'age' : 12})\n",
    "r.encoding = 'utf-8'\n",
    "print(type(r))\n",
    "if r.text :\n",
    "    print(r.text)\n",
    "else :\n",
    "    print('응답된 콘텐츠가 없어요')\n"
   ]
  },
  {
   "cell_type": "code",
   "execution_count": null,
   "metadata": {},
   "outputs": [],
   "source": [
    "import requests\n",
    "\n",
    "r = requests.get('http://unico2013.dothome.co.kr/crawling/exam.html')\n",
    "r.encoding = 'utf-8'\n",
    "print(type(r))\n",
    "print(r.headers)\n",
    "if r.text :\n",
    "    print(r.text)\n",
    "else :\n",
    "    print('응답된 콘텐츠가 없어요')"
   ]
  },
  {
   "cell_type": "code",
   "execution_count": null,
   "metadata": {},
   "outputs": [],
   "source": [
    "import requests\n",
    "\n",
    "r = requests.head('http://unico2013.dothome.co.kr/crawling/exam.html')\n",
    "print(type(r))\n",
    "print(r.headers)\n",
    "if r.text :\n",
    "    print(r.text)\n",
    "else :\n",
    "    print('응답된 콘텐츠가 없어요')"
   ]
  },
  {
   "cell_type": "code",
   "execution_count": 14,
   "metadata": {},
   "outputs": [
    {
     "name": "stdout",
     "output_type": "stream",
     "text": [
      "http://unico2013.dothome.co.kr/crawling/get.php?key1=value1&key2=value2\n",
      "------------------------------------\n",
      "http://unico2013.dothome.co.kr/crawling/get.php?key1=value1&key2=value2&key2=value3\n",
      "------------------------------------\n",
      "http://unico2013.dothome.co.kr/crawling/get.php?key1=value1&key1=value2\n"
     ]
    }
   ],
   "source": [
    "import requests\n",
    "\n",
    "dicdata = {'key1': 'value1', 'key2': 'value2'}\n",
    "urlstr = 'http://unico2013.dothome.co.kr/crawling/get.php'\n",
    "r = requests.get(urlstr, params=dicdata)\n",
    "print(r.url)\n",
    "print('------------------------------------')\n",
    "dicdata = {'key1': 'value1', 'key2': ['value2', 'value3']}\n",
    "r = requests.request('GET', urlstr, params=dicdata)\n",
    "print(r.url)\n",
    "print('------------------------------------')\n",
    "tupledata = [('key1', 'value1'), ('key1', 'value2')]\n",
    "r = requests.get(urlstr, params=tupledata)\n",
    "print(r.url)"
   ]
  },
  {
   "cell_type": "code",
   "execution_count": 15,
   "metadata": {},
   "outputs": [
    {
     "name": "stdout",
     "output_type": "stream",
     "text": [
      "ï»¿<!DOCTYPE html>\n",
      "<html>\n",
      "  <head>\n",
      "    <meta charset=\"utf-8\">\n",
      "    <title>POST TEST</title>\n",
      "  </head>\n",
      "  <body>\n",
      "   <h1>GET : ì´ë¦ê³¼ ëì´ë¥¼ ì ë¬í´ ì£¼ì¸ì!!</h1>   </body>\n",
      "</html>\n",
      "------------------------------------\n",
      "﻿<!DOCTYPE html>\n",
      "<html>\n",
      "  <head>\n",
      "    <meta charset=\"utf-8\">\n",
      "    <title>POST TEST</title>\n",
      "  </head>\n",
      "  <body>\n",
      "   <h1>GET : 이름과 나이를 전달해 주세요!!</h1>   </body>\n",
      "</html>\n",
      "------------------------------------\n",
      "b'\\xef\\xbb\\xbf<!DOCTYPE html>\\r\\n<html>\\r\\n  <head>\\r\\n    <meta charset=\"utf-8\">\\r\\n    <title>POST TEST</title>\\r\\n  </head>\\r\\n  <body>\\r\\n   <h1>GET : \\xec\\x9d\\xb4\\xeb\\xa6\\x84\\xea\\xb3\\xbc \\xeb\\x82\\x98\\xec\\x9d\\xb4\\xeb\\xa5\\xbc \\xec\\xa0\\x84\\xeb\\x8b\\xac\\xed\\x95\\xb4 \\xec\\xa3\\xbc\\xec\\x84\\xb8\\xec\\x9a\\x94!!</h1>   </body>\\r\\n</html>'\n",
      "------------------------------------\n",
      "﻿<!DOCTYPE html>\n",
      "<html>\n",
      "  <head>\n",
      "    <meta charset=\"utf-8\">\n",
      "    <title>POST TEST</title>\n",
      "  </head>\n",
      "  <body>\n",
      "   <h1>GET : 이름과 나이를 전달해 주세요!!</h1>   </body>\n",
      "</html>\n"
     ]
    }
   ],
   "source": [
    "import requests\n",
    "\n",
    "urlstr = 'http://unico2013.dothome.co.kr/crawling/get.php'\n",
    "r = requests.get(urlstr)\n",
    "print(r.text)\n",
    "print('------------------------------------')\n",
    "r.encoding = 'utf-8'\n",
    "print(r.text)\n",
    "print('------------------------------------')\n",
    "print(r.content)\n",
    "print('------------------------------------')\n",
    "print(r.content.decode('utf-8'))"
   ]
  },
  {
   "cell_type": "code",
   "execution_count": 2,
   "metadata": {},
   "outputs": [
    {
     "name": "stdout",
     "output_type": "stream",
     "text": [
      "<class 'PIL.JpegImagePlugin.JpegImageFile'>\n"
     ]
    }
   ],
   "source": [
    "import requests\n",
    "from PIL import Image\n",
    "from io import BytesIO\n",
    "\n",
    "r = requests.get('http://unico2013.dothome.co.kr/image/flower.jpg')\n",
    "i = Image.open(BytesIO(r.content))\n",
    "print(type(i))\n",
    "i.save(\"c:/Temp/test.jpg\")"
   ]
  },
  {
   "cell_type": "code",
   "execution_count": 3,
   "metadata": {},
   "outputs": [
    {
     "name": "stdout",
     "output_type": "stream",
     "text": [
      "<class 'bs4.BeautifulSoup'>\n"
     ]
    }
   ],
   "source": [
    "html_doc = \"\"\"\n",
    "<!DOCTYPE html>\n",
    "<html>\n",
    "    <head>\n",
    "        <meta charset=\"utf-8\">\n",
    "        <title>Test BeautifulSoup</title>\n",
    "    </head>\n",
    "    <body>\n",
    "        <h1>테스트</h1>\n",
    "    </body>\n",
    "</html> \"\"\"\n",
    "from bs4 import BeautifulSoup\n",
    "bs = BeautifulSoup(html_doc, 'html.parser')\n",
    "print(type(bs))"
   ]
  },
  {
   "cell_type": "code",
   "execution_count": 4,
   "metadata": {},
   "outputs": [
    {
     "name": "stdout",
     "output_type": "stream",
     "text": [
      "<!DOCTYPE html>\n",
      "<html>\n",
      " <head>\n",
      "  <meta charset=\"utf-8\"/>\n",
      "  <title>\n",
      "   Test BeautifulSoup\n",
      "  </title>\n",
      " </head>\n",
      " <body>\n",
      "  <p align=\"center\">\n",
      "   P태그의 컨텐트\n",
      "  </p>\n",
      "  <img src=\"http://unico2013.dothome.co.kr/image/flower.jpg\" width=\"300\"/>\n",
      " </body>\n",
      "</html>\n",
      "\n"
     ]
    }
   ],
   "source": [
    "html_doc = \"\"\"\n",
    "<!DOCTYPE html>\n",
    "<html>\n",
    "     <head>\n",
    "          <meta charset='utf-8'>\n",
    "          <title>Test BeautifulSoup</title>\n",
    "     </head>\n",
    "     <body>\n",
    "          <p align=\"center\">P태그의 컨텐트</p>\n",
    "          <img src=\"http://unico2013.dothome.co.kr/image/flower.jpg\" width=\"300\">\n",
    "     </body>\n",
    "</html> \"\"\"\n",
    "from bs4 import BeautifulSoup\n",
    "bs = BeautifulSoup(html_doc, 'html.parser')\n",
    "print(bs.prettify())"
   ]
  },
  {
   "cell_type": "code",
   "execution_count": 5,
   "metadata": {},
   "outputs": [
    {
     "name": "stdout",
     "output_type": "stream",
     "text": [
      "<class 'bs4.element.Tag'> : <title>Test BeautifulSoup</title>\n",
      "<class 'str'> : title\n",
      "<class 'bs4.element.NavigableString'> : Test BeautifulSoup\n",
      "-------------------------\n",
      "<class 'str'> : center\n",
      "<class 'str'> : http://unico2013.dothome.co.kr/image/flower.jpg\n",
      "<class 'dict'> : {'src': 'http://unico2013.dothome.co.kr/image/flower.jpg', 'width': '300'}\n"
     ]
    }
   ],
   "source": [
    "html_doc = \"\"\"\n",
    "<!DOCTYPE html>\n",
    "<html>\n",
    "     <head>\n",
    "          <meta charset='utf-8'>\n",
    "          <title>Test BeautifulSoup</title>\n",
    "     </head>\n",
    "     <body>\n",
    "          <p align=\"center\">P태그의 컨텐트</p>\n",
    "          <img src=\"http://unico2013.dothome.co.kr/image/flower.jpg\" width=\"300\">\n",
    "          <ul>\n",
    "               <li>테스트1<strong>강조</strong></li>\n",
    "               <li>테스트2</li>\n",
    "               <li>테스트3</li>\n",
    "          </ul>\n",
    "     </body>\n",
    "</html> \"\"\"\n",
    "from bs4 import BeautifulSoup\n",
    "bs = BeautifulSoup(html_doc, 'html.parser')\n",
    "print(type(bs.title), ':', bs.title)\n",
    "print(type(bs.title.name), ':', bs.title.name)\n",
    "print(type(bs.title.string), ':', bs.title.string)\n",
    "print('-------------------------')\n",
    "print(type(bs.p['align']), ':', bs.p['align'])\n",
    "print(type(bs.img['src']), ':', bs.img['src'])\n",
    "print(type(bs.img.attrs), ':', bs.img.attrs)"
   ]
  },
  {
   "cell_type": "code",
   "execution_count": 7,
   "metadata": {},
   "outputs": [
    {
     "name": "stdout",
     "output_type": "stream",
     "text": [
      "[ string 속성 ]\n",
      "<class 'bs4.element.NavigableString'> : P태그의 컨텐트\n",
      "<class 'NoneType'> : None\n",
      "<class 'NoneType'> : None\n",
      "<class 'bs4.element.NavigableString'> : 강조\n",
      "[ text 속성 ]\n",
      "<class 'str'> : P태그의 컨텐트\n",
      "<class 'str'> : \n",
      "테스트1강조\n",
      "테스트2\n",
      "테스트3\n",
      "\n",
      "<class 'str'> : 테스트1강조\n",
      "<class 'str'> : 강조\n",
      "[ contents 속성 ]\n",
      "<class 'list'> : ['P태그의 컨텐트']\n",
      "<class 'list'> : ['\\n', <li>테스트1<strong>강조</strong></li>, '\\n', <li>테스트2</li>, '\\n', <li>테스트3</li>, '\\n']\n",
      "<class 'list'> : ['테스트1', <strong>강조</strong>]\n",
      "<class 'list'> : ['강조']\n",
      "[ find_all()의 text=True 매개변수 ]\n",
      "[<li>테스트2</li>, <li>테스트3</li>]\n"
     ]
    }
   ],
   "source": [
    "html_doc = \"\"\"\n",
    "<!DOCTYPE html>\n",
    "<html>\n",
    "     <head>\n",
    "          <meta charset='utf-8'>\n",
    "          <title>Test BeautifulSoup</title>\n",
    "     </head>\n",
    "     <body>\n",
    "          <p align=\"center\">P태그의 컨텐트</p>\n",
    "          <img src=\"http://unico2013.dothome.co.kr/image/flower.jpg\" width=\"300\">\n",
    "          <ul>\n",
    "               <li>테스트1<strong>강조</strong></li>\n",
    "               <li>테스트2</li>\n",
    "               <li>테스트3</li>\n",
    "          </ul>\n",
    "     </body>\n",
    "</html> \"\"\"\n",
    "from bs4 import BeautifulSoup\n",
    "bs = BeautifulSoup(html_doc, 'html.parser')\n",
    "print(\"[ string 속성 ]\")\n",
    "print(type(bs.p.string), ':', bs.p.string)\n",
    "print(type(bs.ul.string), ':', bs.ul.string)\n",
    "print(type(bs.ul.li.string), ':', bs.ul.li.string)\n",
    "print(type(bs.ul.li.strong.string), ':', bs.ul.li.strong.string)\n",
    "print(\"[ text 속성 ]\")\n",
    "print(type(bs.p.text), ':', bs.p.text)\n",
    "print(type(bs.ul.text), ':', bs.ul.text)\n",
    "print(type(bs.ul.li.text), ':', bs.ul.li.text)\n",
    "print(type(bs.ul.li.strong.text), ':', bs.ul.li.strong.text)\n",
    "print(\"[ contents 속성 ]\")\n",
    "print(type(bs.p.contents), ':', bs.p.contents)\n",
    "print(type(bs.ul.contents), ':', bs.ul.contents)\n",
    "print(type(bs.ul.li.contents), ':', bs.ul.li.contents)\n",
    "print(type(bs.ul.li.strong.contents), ':', bs.ul.li.strong.contents)\n",
    "print(\"[ find_all()의 text=True 매개변수 ]\")\n",
    "print(bs.find_all(\"li\", text=True))  # 콘텐츠가 텍스트로만 구성된"
   ]
  },
  {
   "cell_type": "code",
   "execution_count": 8,
   "metadata": {},
   "outputs": [
    {
     "name": "stdout",
     "output_type": "stream",
     "text": [
      "<class 'bs4.element.Tag'>\n",
      "<class 'bs4.element.ResultSet'>\n",
      "---------------------------------\n",
      "<title>Test BeautifulSoup</title>\n",
      "<p align=\"center\"> text contents </p>\n",
      "<img src=\"http://unico2013.dothome.co.kr/image/flower.jpg\" width=\"500\"/>\n",
      "---------------------------------\n",
      "[<p align=\"center\"> text contents </p>, <p align=\"right\">  text contents 2 </p>, <p align=\"left\">   text contents 3 </p>, <p>text contents 4</p>]\n",
      "----------------\n",
      "<p align=\"center\"> text contents </p>\n",
      "<p align=\"right\">  text contents 2 </p>\n",
      "<p align=\"left\">   text contents 3 </p>\n",
      "<p>text contents 4</p>\n"
     ]
    }
   ],
   "source": [
    "html_doc=\"\"\"\n",
    "<!DOCTYPE html>\n",
    "<html>\n",
    "  <head>\n",
    "     <meta charset='utf-8'>\n",
    "     <title>Test BeautifulSoup</title>\n",
    "  </head>\n",
    "  <body>\n",
    "     <p align=\"center\"> text contents </p>\n",
    "     <p align=\"right\">  text contents 2 </p>\n",
    "     <p align=\"left\">   text contents 3 </p>\n",
    "     <img src=\"http://unico2013.dothome.co.kr/image/flower.jpg\" width=\"500\">\n",
    "     <div>\n",
    "       <p>text contents 4</p> \n",
    "     </div>\n",
    "  </body>\n",
    "</html> \"\"\"\n",
    "\n",
    "from bs4 import BeautifulSoup\n",
    "bs = BeautifulSoup(html_doc, 'html.parser')\n",
    "print(type(bs.find('p')))\n",
    "print(type(bs.find_all('p')))\n",
    "print(\"---------------------------------\")\n",
    "print(bs.find('title'))\n",
    "print(bs.find('p'))\n",
    "print(bs.find('img'))\n",
    "print(\"---------------------------------\")\n",
    "ptags = bs.find_all('p')\n",
    "print(ptags)\n",
    "print(\"----------------\")\n",
    "for tag in ptags :\n",
    "    print(tag)"
   ]
  },
  {
   "cell_type": "code",
   "execution_count": null,
   "metadata": {},
   "outputs": [
    {
     "name": "stdout",
     "output_type": "stream",
     "text": [
      "<p align=\"center\"> text contents </p>\n",
      "<p align=\"right\" class=\"myp\">  text contents 2 </p>\n",
      "<p a=\"b\" align=\"left\">   text contents 3 </p>\n",
      "-------------------------------------\n",
      "<p align=\"center\"> text contents </p>\n",
      "<p align=\"right\" class=\"myp\">  text contents 2 </p>\n",
      "<p a=\"b\" align=\"left\">   text contents 3 </p>\n",
      "[   text contents 3 ]\n",
      "[text contents 3]\n",
      "[text contents 3]\n"
     ]
    }
   ],
   "source": [
    "html=\"\"\"\n",
    "<!DOCTYPE html>\n",
    "<html>\n",
    "  <head>\n",
    "     <meta charset='utf-8'>\n",
    "     <title>Test BeautifulSoup</title>\n",
    "  </head>\n",
    "  <body>\n",
    "     <p align=\"center\"> text contents </p>\n",
    "     <p align=\"right\" class=\"myp\">  text contents 2 </p>\n",
    "     <p align=\"left\" a=\"b\">   text contents 3 </p>\n",
    "     <img src=\"http://unico2013.dothome.co.kr/image/flower.jpg\" width=\"500\">\n",
    "  </body>\n",
    "</html> \"\"\"\n",
    "\n",
    "from bs4 import BeautifulSoup\n",
    "bs = BeautifulSoup(html, 'html.parser')\n",
    "print(bs.find('p', align=\"center\"))\n",
    "print(bs.find('p', class_=\"myp\"))\n",
    "print(bs.find('p', align=\"left\"))\n",
    "print(\"-------------------------------------\")\n",
    "print(bs.find('p', attrs={\"align\":\"center\"}))\n",
    "print(bs.find('p', attrs={\"align\":\"right\", \"class\":\"myp\"}))\n",
    "print(bs.find('p', attrs={\"align\":\"left\"}))\n",
    "\n",
    "pdom = bs.find('p', align=\"left\")\n",
    "print(\"[\"+pdom.text+\"]\")\n",
    "print(\"[\"+pdom.get_text(strip=True)+\"]\")\n",
    "print(\"[\"+pdom.string.strip()+\"]\")"
   ]
  },
  {
   "cell_type": "code",
   "execution_count": null,
   "metadata": {},
   "outputs": [
    {
     "name": "stdout",
     "output_type": "stream",
     "text": [
      "<class 'bytes'>\n",
      "==============================\n",
      "[<h1>CSS 선택자 학습</h1>]\n",
      "<class 'bs4.element.ResultSet'>\n",
      "<class 'bs4.element.Tag'>\n",
      "<h1>태그의 갯수 : 1 \n",
      "f_subtitle이라는 id 속성을 갖는 태그 갯수 : 1 \n",
      "subtitle이라는 class 속성을 갖는 태그 갯수 : 2 \n",
      "aside 태그의 <h2> 자식 태그 갯수 : 1 \n",
      "src 속성을 갖는 태그 갯수 : 1 \n",
      "CSS 선택자 학습\n",
      "------------------------------\n",
      "교육과정 소개\n",
      "------------------------------\n",
      "웹 클라이언트 기술\n",
      "학습 순서(수집)\n",
      "------------------------------\n",
      "학습 순서(수집)\n",
      "------------------------------\n",
      "https://www.python.org/static/img/python-logo.png\n"
     ]
    }
   ],
   "source": [
    "import requests\n",
    "from bs4 import BeautifulSoup\n",
    "\n",
    "req = requests.get('http://unico2013.dothome.co.kr/crawling/exercise_css.html')\n",
    "html = req.content\n",
    "print(type(html))\n",
    "html = html.decode('utf-8')\n",
    "#print(html)\n",
    "print(\"==============================\")\n",
    "bs = BeautifulSoup(html, 'html.parser')\n",
    "title = bs.select('h1')\n",
    "title1 = bs.select('#f_subtitle')\n",
    "title2 = bs.select('.subtitle')\n",
    "title3 = bs.select('aside > h2')\n",
    "img = bs.select('[src]')\n",
    "print(title)\n",
    "print(type(title))\n",
    "print(type(title[0]))\n",
    "print(\"<h1>태그의 갯수 : %d \" %len(title))\n",
    "print(\"f_subtitle이라는 id 속성을 갖는 태그 갯수 : %d \" %len(title1))\n",
    "print(\"subtitle이라는 class 속성을 갖는 태그 갯수 : %d \" %len(title2))\n",
    "print(\"aside 태그의 <h2> 자식 태그 갯수 : %d \" %len(title3))\n",
    "print(\"src 속성을 갖는 태그 갯수 : %d \" %len(img))\n",
    "\n",
    "for content in title:\n",
    "    print(content.string)\n",
    "print(\"------------------------------\")\n",
    "for content in title1:\n",
    "    print(content.text)\n",
    "print(\"------------------------------\")\n",
    "for content in title2:\n",
    "    print(content.text)\n",
    "print(\"------------------------------\")\n",
    "for content in title3:\n",
    "    print(content.text)\n",
    "print(\"------------------------------\")\n",
    "for content in img:\n",
    "   print(content[\"src\"])"
   ]
  },
  {
   "cell_type": "code",
   "execution_count": null,
   "metadata": {},
   "outputs": [
    {
     "name": "stdout",
     "output_type": "stream",
     "text": [
      "영화 제목 : 아수라\n",
      "평점 : 10\n",
      "리뷰글 : 감독과 작가의 혜안에 Respect! \n",
      "-----------------------------------------\n",
      "영화 제목 : 스파이더맨: 노 웨이 홈\n",
      "평점 : 10\n",
      "리뷰글 : 나는야 스덕 ㅈㄴ게마싯다 이번거빨리 4 나와줘 \n",
      "-----------------------------------------\n",
      "영화 제목 : 하우스 오브 구찌\n",
      "평점 : 10\n",
      "리뷰글 : 레이디가가의 재능이 빛을 발한 영화배드신은 그야말로 올해 최고의 배드신 ㅋㅋㅋ \n",
      "-----------------------------------------\n",
      "영화 제목 : 씽2게더\n",
      "평점 : 10\n",
      "리뷰글 : 캐릭터들 성격이 뚜렷하고 매력이 있어서 좋았음.Ost나 영상미도 좋고 \n",
      "-----------------------------------------\n",
      "영화 제목 : 웨스트 사이드 스토리\n",
      "평점 : 10\n",
      "리뷰글 : wrns님아 ㅋㅋ 개봉 첫 조조시간이 8시20분인가 그거인데 8시20분 영화여도 156분가량의 러닝타임이라 지금은 상영중인데 개봉하자마 봤다고? ㅋㅋㅋ \n",
      "-----------------------------------------\n",
      "영화 제목 : 아수라\n",
      "평점 : 10\n",
      "리뷰글 : 소름돋네 진짜 찢 애들이 테러했네ㄷㄷㄷㄷ \n",
      "-----------------------------------------\n",
      "영화 제목 : 아수라\n",
      "평점 : 10\n",
      "리뷰글 : 아수라는진짜실화였다 \n",
      "-----------------------------------------\n",
      "영화 제목 : 스파이더맨: 노 웨이 홈\n",
      "평점 : 8\n",
      "리뷰글 : 모든 스파이더맨 시리즈의 등장인물들과 팬들을 위한 헌정영화라고 생각됐음... 그래서 쌩으로 처음보는사람은 재미있게 보기힘들듯 합니다ㅜ이전 스파이더맨 영화 시리즈들이랑 스파이더맨 등장하는 마블 시리즈들 대충이라도 흝어보고가면 좋을듯합니다,,, \n",
      "-----------------------------------------\n",
      "영화 제목 : 특송\n",
      "평점 : 10\n",
      "리뷰글 : 박소담배우 액션도 잘하는구나... 영화 시작부터 카체이싱 너무 멋있었음bb \n",
      "-----------------------------------------\n",
      "영화 제목 : 웨스트 사이드 스토리\n",
      "평점 : 10\n",
      "리뷰글 : 미접종자라 못보지만 재밌습니다  물론 이 영화를 못보는 제 상황이재밌네요 \n",
      "-----------------------------------------\n"
     ]
    }
   ],
   "source": [
    "import requests\n",
    "from bs4 import BeautifulSoup\n",
    "import re\n",
    "req = requests.get('http://movie.naver.com/movie/point/af/list.nhn?page=1')\n",
    "html = req.text\n",
    "soup = BeautifulSoup(html, 'html.parser')\n",
    "titles = soup.select('.movie')\n",
    "points = soup.select('td.title > div > em')\n",
    "reviews = soup.select('td.title')\n",
    "movie_title = []\n",
    "movie_point = []\n",
    "movie_review = [] \n",
    "\n",
    "for dom in titles:\n",
    "    movie_title.append(dom.text)\n",
    "for dom in points:\n",
    "    movie_point.append(dom.text)\n",
    "for dom in reviews:\n",
    "    content = dom.contents[6] \n",
    "    #content=re.sub(\"신고\", '', content)\n",
    "    content=re.sub(\"[\\n\\t]\", '', content)    \n",
    "    movie_review.append(content)\n",
    "commentLength = len(movie_title)   \n",
    "for i in range(commentLength):\n",
    "    print(\"영화 제목 : \" + movie_title[i])\n",
    "    print(\"평점 : \" + movie_point[i])\n",
    "    print(\"리뷰글 : \" + movie_review[i])\n",
    "    print(\"-----------------------------------------\")   \n"
   ]
  },
  {
   "cell_type": "code",
   "execution_count": null,
   "metadata": {},
   "outputs": [],
   "source": [
    "import requests\n",
    "from bs4 import BeautifulSoup\n",
    "import re\n",
    "for n in range(1,31):\n",
    "    req = requests.get('http://movie.naver.com/movie/point/af/list.nhn?page='+str(n))\n",
    "    html = req.text\n",
    "    soup = BeautifulSoup(html, 'html.parser')\n",
    "    titles = soup.select('.movie' )\n",
    "    points = soup.select('td.title > div > em')\n",
    "    reviews = soup.select('td.title')\n",
    "    movie_title = []\n",
    "    movie_point = []\n",
    "    movie_review = [] \n",
    "    for dom in titles:\n",
    "        movie_title.append(dom.text)\n",
    "    for dom in points:\n",
    "        movie_point.append(dom.text)\n",
    "    for dom in reviews:\n",
    "        content = dom.contents[6]\n",
    "        content=re.sub(\"[\\n\\t]\", '', content)\n",
    "        movie_review.append(content)\n",
    "\n",
    "    commentLength = len(movie_title)   \n",
    "    for i in range(commentLength):\n",
    "        print(movie_point[i] + \",\"+movie_title[i]+\",\"+movie_review[i])\n",
    "    print(\"-----------------------------------------------------\")\n"
   ]
  },
  {
   "cell_type": "code",
   "execution_count": null,
   "metadata": {},
   "outputs": [],
   "source": [
    "print(reviews[0].contents)"
   ]
  },
  {
   "cell_type": "code",
   "execution_count": null,
   "metadata": {},
   "outputs": [
    {
     "name": "stdout",
     "output_type": "stream",
     "text": [
      "-- 도서 제목 --\n",
      "['Do it! 점프 투 파이썬', '혼자 공부하는 파이썬', '혼자 공부하는 머신러닝+딥러닝', '이것이 취업을 위한 코딩 테스트다 with 파이썬 ', 'Do it! 파이썬 생활 프로그래밍', 'Do it! 점프 투 파이썬 + Do it! 파이썬 생활 프로그래밍', '밑바닥부터 시작하는 딥러닝 ', 'Do it! 첫 파이썬', 'Do it! 점프 투 파이썬 + Do it! 첫 파이썬 ', '파이썬 알고리즘 인터뷰', '핸즈온 머신러닝', '파이썬 머신러닝 완벽 가이드', 'Do it! 자료구조와 함께 배우는 알고리즘 입문 : 파이썬 편', 'Do it! 점프 투 파이썬 + Do it! 자료구조와 함께 배우는 알고리즘 입문 : 파이썬 편 + Do it! 파이썬 생활 프로그래밍', '파이썬을 이용한 비트코인 자동매매', '파이썬 증권 데이터 분석 ', '모두의 인공지능 기초 수학', '혼자 공부하는 첫 프로그래밍 with 파이썬 ', '밑바닥부터 시작하는 딥러닝 2', '모두의 데이터 분석 with 파이썬', '모두의 알고리즘 with 파이썬', '프로그래머를 위한 수학 : 파이썬으로 하는 3D 그래픽스, 시뮬레이션, 머신러닝', '웹 크롤링 & 데이터 분석 with 파이썬', '한권으로 파이썬과 드론 날로 먹기 인공지능 편']\n",
      "-- 도서 링크 URL --\n",
      "['/Product/Goods/74419916', '/Product/Goods/74269975', '/Product/Goods/96024871', '/Product/Goods/91433923', '/Product/Goods/91437485', '/Product/Goods/91446225', '/Product/Goods/34970929', '/Product/Goods/89904189', '/Product/Goods/91446188', '/Product/Goods/91084402', '/Product/Goods/89959711', '/Product/Goods/87044746', '/Product/Goods/91219874', '/Product/Goods/91446242', '/Product/Goods/98135876', '/Product/Goods/90578506', '/Product/Goods/91358533', '/Product/Goods/90617738', '/Product/Goods/72173703', '/Product/Goods/72227684', '/Product/Goods/40443936', '/Product/Goods/106045879', '/Product/Goods/106175772', '/Product/Goods/106157392']\n"
     ]
    }
   ],
   "source": [
    "import requests\n",
    "from bs4 import BeautifulSoup\n",
    "title = []\n",
    "link = []\n",
    "urlstr = 'http://www.yes24.com/SearchCorner/Search?domain=BOOK&query=python'\n",
    "r = requests.get(urlstr)\n",
    "#r.encoding = \"utf-8\"\n",
    "bs = BeautifulSoup(r.text, 'html.parser')\n",
    "booklist = bs.select('a.gd_name')\n",
    "\n",
    "for bookdom in booklist:\n",
    "    title.append(bookdom.string)\n",
    "    link.append(bookdom[\"href\"])\n",
    "\n",
    "print(\"-- 도서 제목 --\")\n",
    "print(title)\n",
    "print(\"-- 도서 링크 URL --\")\n",
    "print(link)\n",
    "with open('booklink.csv', \"wt\", encoding=\"utf-8\") as f:\n",
    "    f.write('booktitle,booklink\\n')  \n",
    "    for i in range(len(title)):\n",
    "        f.write(title[i]+\",\"+link[i]+'\\n')  "
   ]
  },
  {
   "cell_type": "code",
   "execution_count": null,
   "metadata": {},
   "outputs": [
    {
     "name": "stdout",
     "output_type": "stream",
     "text": [
      "{'서울': ['-5~4', '-5~4', '-2~1', '-2~1', '-9~-1', '-9~-1', '-7~0', '-7~0', '-7~-1', '-7~-1', '-9~-1', '-7~1', '-6~1'], '인천': ['-3~3', '-3~3', '-2~0', '-2~0', '-8~-2', '-8~-2', '-7~-1', '-7~-1', '-6~-1', '-6~-1', '-8~-1', '-6~1', '-4~1'], '수원': ['-6~5', '-6~5', '-3~1', '-3~1', '-9~0', '-9~0', '-9~1', '-9~1', '-8~1', '-8~1', '-9~0', '-8~2', '-7~2'], '파주': ['-7~3', '-7~3', '-6~0', '-6~0', '-12~-2', '-12~-2', '-12~-1', '-12~-1', '-12~-1', '-12~-1', '-13~0', '-11~1', '-9~1'], '이천': ['-7~4', '-7~4', '-4~2', '-4~2', '-10~0', '-10~0', '-9~-1', '-9~-1', '-9~0', '-9~0', '-11~1', '-10~2', '-8~2'], '평택': ['-6~5', '-6~5', '-1~2', '-1~2', '-8~-1', '-8~-1', '-8~-1', '-8~-1', '-9~-1', '-9~-1', '-9~0', '-8~1', '-6~1'], '춘천': ['-11~2', '-11~2', '-4~1', '-4~1', '-11~0', '-11~0', '-10~1', '-10~1', '-9~0', '-9~0', '-12~0', '-9~1', '-10~1'], '원주': ['-8~4', '-8~4', '-2~2', '-2~2', '-9~0', '-9~0', '-9~1', '-9~1', '-7~0', '-7~0', '-10~0', '-8~2', '-8~1'], '강릉': ['-1~8', '-1~8', '2~7', '2~7', '-5~4', '-5~4', '-5~5', '-5~5', '-2~5', '-2~5', '-4~5', '-2~6', '-3~5'], '대전': ['-6~6', '-6~6', '0~4', '0~4', '-7~1', '-7~1', '-8~2', '-8~2', '-6~2', '-6~2', '-8~2', '-7~3', '-6~3'], '세종': ['-7~5', '-7~5', '-1~3', '-1~3', '-8~0', '-8~0', '-9~1', '-9~1', '-7~1', '-7~1', '-9~1', '-8~3', '-6~3'], '홍성': ['-7~5', '-7~5', '-2~2', '-2~2', '-8~0', '-8~0', '-9~1', '-9~1', '-7~1', '-7~1', '-8~0', '-8~2', '-5~2'], '청주': ['-5~5', '-5~5', '0~3', '0~3', '-7~0', '-7~0', '-8~1', '-8~1', '-6~1', '-6~1', '-8~1', '-7~2', '-6~3'], '충주': ['-9~4', '-9~4', '-2~2', '-2~2', '-10~0', '-10~0', '-10~1', '-10~1', '-8~0', '-8~0', '-10~0', '-9~2', '-8~2'], '영동': ['-9~6', '-9~6', '-2~4', '-2~4', '-9~1', '-9~1', '-11~3', '-11~3', '-9~3', '-9~3', '-10~2', '-9~3', '-8~3'], '광주': ['-3~7', '-3~7', '1~6', '1~6', '-4~3', '-4~3', '-5~4', '-5~4', '-3~4', '-3~4', '-4~3', '-4~5', '-3~5'], '목포': ['-2~5', '-2~5', '3~6', '3~6', '-2~2', '-2~2', '-3~3', '-3~3', '-2~4', '-2~4', '-2~2', '-3~3', '-1~4'], '여수': ['0~7', '0~7', '3~8', '3~8', '-2~4', '-2~4', '-2~6', '-2~6', '0~6', '0~6', '-2~4', '-1~6', '0~5'], '순천': ['-3~9', '-3~9', '1~7', '1~7', '-4~4', '-4~4', '-4~6', '-4~6', '-2~6', '-2~6', '-4~5', '-4~7', '-2~6'], '광양': ['-1~8', '-1~8', '2~8', '2~8', '-3~5', '-3~5', '-4~6', '-4~6', '-2~6', '-2~6', '-4~5', '-4~7', '-2~7'], '나주': ['-5~7', '-5~7', '-1~6', '-1~6', '-5~2', '-5~2', '-7~3', '-7~3', '-6~5', '-6~5', '-6~3', '-6~4', '-5~4'], '전주': ['-5~7', '-5~7', '1~4', '1~4', '-5~2', '-5~2', '-7~2', '-7~2', '-4~3', '-4~3', '-6~2', '-6~3', '-5~4'], '군산': ['-5~6', '-5~6', '0~4', '0~4', '-6~1', '-6~1', '-6~2', '-6~2', '-5~2', '-5~2', '-6~2', '-7~3', '-5~3'], '정읍': ['-5~5', '-5~5', '1~4', '1~4', '-6~0', '-6~0', '-7~1', '-7~1', '-6~2', '-6~2', '-6~1', '-6~3', '-4~3'], '남원': ['-5~6', '-5~6', '0~4', '0~4', '-7~2', '-7~2', '-8~3', '-8~3', '-6~3', '-6~3', '-7~3', '-7~4', '-5~4'], '고창': ['-5~5', '-5~5', '0~5', '0~5', '-5~0', '-5~0', '-6~1', '-6~1', '-6~2', '-6~2', '-5~1', '-6~3', '-4~3'], '무주': ['-8~5', '-8~5', '0~4', '0~4', '-9~0', '-9~0', '-11~2', '-11~2', '-8~2', '-8~2', '-10~2', '-8~3', '-7~3'], '부산': ['0~8', '0~8', '3~11', '3~11', '-3~6', '-3~6', '-3~7', '-3~7', '-1~8', '-1~8', '-2~6', '-1~8', '0~7'], '울산': ['-2~8', '-2~8', '0~9', '0~9', '-4~5', '-4~5', '-4~6', '-4~6', '-3~7', '-3~7', '-4~6', '-3~7', '-3~6'], '창원': ['-3~7', '-3~7', '0~9', '0~9', '-4~5', '-4~5', '-5~6', '-5~6', '-3~6', '-3~6', '-4~4', '-4~6', '-2~5'], '진주': ['-7~8', '-7~8', '-3~9', '-3~9', '-7~5', '-7~5', '-7~7', '-7~7', '-6~6', '-6~6', '-7~5', '-7~7', '-6~6'], '거창': ['-7~7', '-7~7', '-3~6', '-3~6', '-8~3', '-8~3', '-9~4', '-9~4', '-7~4', '-7~4', '-8~4', '-9~6', '-7~5'], '통영': ['-1~8', '-1~8', '3~9', '3~9', '-3~6', '-3~6', '-3~6', '-3~6', '-1~7', '-1~7', '-3~5', '-2~7', '-1~7'], '대구': ['-5~6', '-5~6', '-2~7', '-2~7', '-6~4', '-6~4', '-7~4', '-7~4', '-5~5', '-5~5', '-7~4', '-6~5', '-4~5'], '안동': ['-8~5', '-8~5', '-3~4', '-3~4', '-8~1', '-8~1', '-9~2', '-9~2', '-8~2', '-8~2', '-9~3', '-8~4', '-7~3'], '포항': ['-1~8', '-1~8', '1~8', '1~8', '-5~4', '-5~4', '-5~5', '-5~5', '-2~5', '-2~5', '-4~5', '-3~6', '-3~6'], '경주': ['-5~7', '-5~7', '-3~8', '-3~8', '-7~3', '-7~3', '-8~4', '-8~4', '-6~4', '-6~4', '-7~5', '-7~6', '-5~6'], '울진': ['-3~8', '-3~8', '0~8', '0~8', '-5~4', '-5~4', '-5~5', '-5~5', '-3~5', '-3~5', '-4~5', '-3~6', '-3~6'], '울릉도': ['2~7', '2~7', '4~6', '4~6', '-1~2', '-1~2', '-1~2', '-1~2', '-1~3', '-1~3', '-1~2', '0~3', '1~3'], '제주': ['3~10', '3~10', '7~10', '7~10', '4~6', '4~6', '3~7', '3~7', '4~7', '4~7', '3~5', '3~6', '3~8'], '서귀포': ['4~10', '4~10', '7~12', '7~12', '3~9', '3~9', '3~9', '3~9', '3~10', '3~10', '2~8', '2~9', '4~10']}\n"
     ]
    }
   ],
   "source": [
    "from bs4 import BeautifulSoup\n",
    "import urllib.request as req\n",
    "import io\n",
    "\n",
    "url = \"http://www.kma.go.kr/weather/forecast/mid-term-rss3.jsp?stnId=108\"\n",
    "savename = \"C:/Temp/forecast.xml\"\n",
    "req.urlretrieve(url, savename)\n",
    "\n",
    "xml = open(savename, \"r\", encoding=\"utf-8\").read()\n",
    "soup = BeautifulSoup(xml, 'html.parser') # lxml\n",
    "\n",
    "info = {}\n",
    "for location in soup.find_all(\"location\"):\n",
    "    loc = location.find('city').string\n",
    "    min_w = location.find_all('tmn')\n",
    "    max_w = location.find_all('tmx')\n",
    "    weather = [a.string+\"~\"+b.string for a, b in zip(min_w, max_w)]\n",
    "\n",
    "    if not (loc in info):\n",
    "        info[loc] = []\n",
    "    for data in weather:\n",
    "        info[loc].append(data)\n",
    "print(info)\n",
    "\n",
    "with open('C:/Temp/forecast.txt', \"wt\", encoding=\"utf-8\") as f:\n",
    "    for loc in sorted(info.keys()):\n",
    "        f.write(str(loc)+'\\n')\n",
    "        for name in info[loc]:\n",
    "            f.write('\\t'+str(name)+'\\n')"
   ]
  },
  {
   "cell_type": "code",
   "execution_count": null,
   "metadata": {},
   "outputs": [],
   "source": [
    "import json\n",
    "import urllib.request\n",
    "\n",
    "#User-Agent를 조작하는 경우 \n",
    "hdr = {'User-Agent':'Mozilla/5.0 (Windows NT 10.0; Win64; x64) '+ \n",
    "        'AppleWebKit/537.36 (KHTML, like Gecko) Chrome/75.0.3770.80 Safari/537.36'}\n",
    "\n",
    "req = urllib.request.Request('http://unico2013.dothome.co.kr/crawling/header.php', headers = hdr)\n",
    "#req = urllib.request.Request('http://unico2013.dothome.co.kr/crawling/header.php')\n",
    "data = urllib.request.urlopen(req).read()\n",
    "print(data)\n",
    "page = data.decode('utf-8', 'ignore')\n",
    "print(page)\n",
    "res_content = json.loads(data)\n",
    "\n",
    "print(res_content[\"result\"])\n"
   ]
  },
  {
   "cell_type": "code",
   "execution_count": null,
   "metadata": {},
   "outputs": [],
   "source": []
  }
 ],
 "metadata": {
  "kernelspec": {
   "display_name": "pydatavenv",
   "language": "python",
   "name": "pydatavenv"
  },
  "language_info": {
   "codemirror_mode": {
    "name": "ipython",
    "version": 3
   },
   "file_extension": ".py",
   "mimetype": "text/x-python",
   "name": "python",
   "nbconvert_exporter": "python",
   "pygments_lexer": "ipython3",
   "version": "3.8.12"
  }
 },
 "nbformat": 4,
 "nbformat_minor": 4
}
