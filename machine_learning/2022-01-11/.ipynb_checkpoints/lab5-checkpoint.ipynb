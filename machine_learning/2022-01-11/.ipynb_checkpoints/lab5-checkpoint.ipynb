{
 "cells": [
  {
   "cell_type": "code",
   "execution_count": 14,
   "id": "ea1799c6-b0f4-47b3-92dc-0f6adc8ba294",
   "metadata": {},
   "outputs": [],
   "source": [
    "from selenium import webdriver\n",
    "from selenium.webdriver.common.keys import Keys \n",
    "from selenium.webdriver.chrome.service import Service\n",
    "from webdriver_manager.chrome import ChromeDriverManager\n",
    "from selenium.webdriver.common.by import By"
   ]
  },
  {
   "cell_type": "code",
   "execution_count": 15,
   "id": "37289e4f-ddc6-4e9c-89d4-d5bf848a0597",
   "metadata": {},
   "outputs": [
    {
     "name": "stderr",
     "output_type": "stream",
     "text": [
      "\n",
      "\n",
      "====== WebDriver manager ======\n",
      "Current google-chrome version is 97.0.4692\n",
      "Get LATEST chromedriver version for 97.0.4692 google-chrome\n",
      "Driver [C:\\Users\\82109\\.wdm\\drivers\\chromedriver\\win32\\97.0.4692.71\\chromedriver.exe] found in cache\n"
     ]
    },
    {
     "name": "stdout",
     "output_type": "stream",
     "text": [
      "WebDriver 객체 :  <class 'selenium.webdriver.chrome.webdriver.WebDriver'>\n"
     ]
    }
   ],
   "source": [
    "driver = webdriver.Chrome(service=Service(ChromeDriverManager().install()))\n",
    "print(\"WebDriver 객체 : \", type(driver))"
   ]
  },
  {
   "cell_type": "code",
   "execution_count": 16,
   "id": "454a1fc3-3174-4893-9960-2034a38bb30e",
   "metadata": {},
   "outputs": [],
   "source": [
    "driver.get('http://www.naver.com') "
   ]
  },
  {
   "cell_type": "code",
   "execution_count": 17,
   "id": "11b88230-03c2-43f3-98b0-56e5e3f9fb11",
   "metadata": {},
   "outputs": [
    {
     "name": "stdout",
     "output_type": "stream",
     "text": [
      "찾아온 태그 객체 :  <class 'selenium.webdriver.remote.webelement.WebElement'>\n"
     ]
    }
   ],
   "source": [
    "target=driver.find_element(By.CSS_SELECTOR, \"[name = 'query']\")\n",
    "print(\"찾아온 태그 객체 : \", type(target))\n",
    "target.send_keys('파이썬')\n",
    "\n",
    "target.send_keys(Keys.ENTER)"
   ]
  },
  {
   "cell_type": "code",
   "execution_count": 10,
   "id": "6b73bed7-a892-44ae-9f85-6257a2c4e01d",
   "metadata": {},
   "outputs": [
    {
     "name": "stdout",
     "output_type": "stream",
     "text": [
      "찾아온 태그 객체 :  <class 'selenium.webdriver.remote.webelement.WebElement'>\n"
     ]
    }
   ],
   "source": [
    "target=driver.find_element(By.CSS_SELECTOR, \"[id = 'query']\")\n",
    "print(\"찾아온 태그 객체 : \", type(target))\n",
    "target.send_keys('파이썬')\n",
    "\n",
    "target.send_keys(Keys.ENTER)"
   ]
  },
  {
   "cell_type": "code",
   "execution_count": 11,
   "id": "f565054a-651a-46f8-8805-cbaaeba24d58",
   "metadata": {},
   "outputs": [
    {
     "name": "stdout",
     "output_type": "stream",
     "text": [
      "찾아온 태그 객체 :  <class 'selenium.webdriver.remote.webelement.WebElement'>\n"
     ]
    }
   ],
   "source": [
    "target=driver.find_element(By.CSS_SELECTOR, \"[class = 'input_text']\")\n",
    "print(\"찾아온 태그 객체 : \", type(target))\n",
    "target.send_keys('파이썬')\n",
    "\n",
    "target.send_keys(Keys.ENTER)"
   ]
  },
  {
   "cell_type": "code",
   "execution_count": null,
   "id": "f65767e1-154c-47a3-82a5-06488f050448",
   "metadata": {},
   "outputs": [],
   "source": []
  },
  {
   "cell_type": "code",
   "execution_count": null,
   "id": "86685514-e866-4d0f-88b2-8b1ab69456cc",
   "metadata": {},
   "outputs": [],
   "source": []
  },
  {
   "cell_type": "code",
   "execution_count": null,
   "id": "a3b1bcd4-103b-43f9-8201-dcf93365329c",
   "metadata": {},
   "outputs": [],
   "source": []
  }
 ],
 "metadata": {
  "kernelspec": {
   "display_name": "pydatavenv",
   "language": "python",
   "name": "pydatavenv"
  },
  "language_info": {
   "codemirror_mode": {
    "name": "ipython",
    "version": 3
   },
   "file_extension": ".py",
   "mimetype": "text/x-python",
   "name": "python",
   "nbconvert_exporter": "python",
   "pygments_lexer": "ipython3",
   "version": "3.8.12"
  }
 },
 "nbformat": 4,
 "nbformat_minor": 5
}
