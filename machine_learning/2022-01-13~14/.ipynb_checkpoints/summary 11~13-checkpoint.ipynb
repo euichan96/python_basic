{
 "cells": [
  {
   "cell_type": "code",
   "execution_count": 30,
   "id": "d8ac3dd4",
   "metadata": {},
   "outputs": [
    {
     "name": "stdout",
     "output_type": "stream",
     "text": [
      "numpy version -  1.20.3\n",
      "pandas version -  1.3.4\n",
      "sklearn version -  0.24.2\n"
     ]
    }
   ],
   "source": [
    "import numpy as np\n",
    "import pandas as pd\n",
    "\n",
    "print('numpy version - ', np.__version__)\n",
    "print('pandas version - ', pd.__version__)\n",
    "\n",
    "\n",
    "import sklearn\n",
    "from sklearn.datasets import load_iris, load_breast_cancer\n",
    "\n",
    "print('sklearn version - ', sklearn.__version__)\n",
    "\n",
    "import seaborn as sns\n",
    "\n",
    "# 데이터 분류함수\n",
    "from sklearn.model_selection import train_test_split, KFold , StratifiedKFold , cross_val_score, cross_validate, GridSearchCV \n",
    "from sklearn.tree            import DecisionTreeClassifier\n",
    "from sklearn.metrics         import accuracy_score\n",
    "\n",
    "from sklearn.preprocessing   import LabelEncoder, OneHotEncoder, StandardScaler, MinMaxScaler "
   ]
  },
  {
   "cell_type": "markdown",
   "id": "f0c41826",
   "metadata": {},
   "source": [
    "## 스케일링 전 모델 학습 "
   ]
  },
  {
   "cell_type": "code",
   "execution_count": 63,
   "id": "ffe50e1e",
   "metadata": {},
   "outputs": [],
   "source": [
    "sample_frm = pd.read_csv('https://raw.githubusercontent.com/rasbt/pattern_classification/master/data/wine_data.csv' , \n",
    "                                   header  = None , \n",
    "                                   usecols = [0, 2, 13])\n",
    "\n",
    "sample_frm.columns = ['target', 'x', 'y']\n",
    "sample_frm_data = sample_frm.drop(['target'], axis=1)\n"
   ]
  },
  {
   "cell_type": "code",
   "execution_count": 64,
   "id": "f50e5465",
   "metadata": {},
   "outputs": [
    {
     "name": "stdout",
     "output_type": "stream",
     "text": [
      "01\n"
     ]
    }
   ],
   "source": [
    "print('01')\n",
    "x_train, x_test ,y_train, y_test = train_test_split(sample_frm_data,\n",
    "                                                    sample_frm.target,\n",
    "                                                    test_size=0.2,\n",
    "                                                    shuffle=True,\n",
    "                                                    random_state=100)"
   ]
  },
  {
   "cell_type": "code",
   "execution_count": 65,
   "id": "e234af85",
   "metadata": {},
   "outputs": [
    {
     "data": {
      "text/plain": [
       "((142, 2), (36, 2), (142,), (36,))"
      ]
     },
     "execution_count": 65,
     "metadata": {},
     "output_type": "execute_result"
    }
   ],
   "source": [
    "x_train.shape, x_test.shape ,y_train.shape, y_test.shape"
   ]
  },
  {
   "cell_type": "code",
   "execution_count": 66,
   "id": "9fba116c",
   "metadata": {},
   "outputs": [
    {
     "name": "stdout",
     "output_type": "stream",
     "text": [
      "02\n"
     ]
    },
    {
     "data": {
      "text/plain": [
       "DecisionTreeClassifier()"
      ]
     },
     "execution_count": 66,
     "metadata": {},
     "output_type": "execute_result"
    }
   ],
   "source": [
    "print('02')\n",
    "\n",
    "sample_frm_model = DecisionTreeClassifier()\n",
    "sample_frm_model.fit(x_train, y_train) #학습데이터만"
   ]
  },
  {
   "cell_type": "code",
   "execution_count": 67,
   "id": "02526dab",
   "metadata": {},
   "outputs": [
    {
     "name": "stdout",
     "output_type": "stream",
     "text": [
      "03\n",
      "04\n",
      "acc -  0.7777777777777778\n"
     ]
    }
   ],
   "source": [
    "print('03')\n",
    "y_pred = sample_frm_model.predict(x_test) \n",
    "\n",
    "print('04')\n",
    "print('acc - ',accuracy_score(y_test, y_pred))"
   ]
  },
  {
   "cell_type": "markdown",
   "id": "3ad12974",
   "metadata": {},
   "source": [
    "## 스케일링 후 모델 학습 "
   ]
  },
  {
   "cell_type": "code",
   "execution_count": 68,
   "id": "af346aa2",
   "metadata": {},
   "outputs": [
    {
     "name": "stdout",
     "output_type": "stream",
     "text": [
      "01\n"
     ]
    }
   ],
   "source": [
    "print('01')\n",
    "x_train, x_test ,y_train, y_test = train_test_split(sample_frm_data,\n",
    "                                                    sample_frm.target,\n",
    "                                                    test_size=0.2,\n",
    "                                                    shuffle=True,\n",
    "                                                    random_state=100)"
   ]
  },
  {
   "cell_type": "code",
   "execution_count": 69,
   "id": "f4d36d2c",
   "metadata": {},
   "outputs": [
    {
     "data": {
      "text/plain": [
       "((142, 2), (36, 2), (142,), (36,))"
      ]
     },
     "execution_count": 69,
     "metadata": {},
     "output_type": "execute_result"
    }
   ],
   "source": [
    "x_train.shape, x_test.shape, y_train.shape, y_test.shape"
   ]
  },
  {
   "cell_type": "code",
   "execution_count": 70,
   "id": "b8e88da1",
   "metadata": {},
   "outputs": [],
   "source": [
    "sample_dtc_model = DecisionTreeClassifier()\n",
    "param = {\n",
    "    'criterion' : ['gini', 'entropy'],\n",
    "    'max_depth' : [1,2,3],\n",
    "    'min_samples_split' : [2,3],\n",
    "    'splitter' : ['random', 'best']\n",
    "}\n",
    "\n"
   ]
  },
  {
   "cell_type": "code",
   "execution_count": 71,
   "id": "97845894",
   "metadata": {},
   "outputs": [
    {
     "name": "stdout",
     "output_type": "stream",
     "text": [
      "GridSearchCV를 이용한 최적의 모델을 만드는 방법 - \n"
     ]
    }
   ],
   "source": [
    "print('GridSearchCV를 이용한 최적의 모델을 만드는 방법 - ')\n",
    "grid_tree = GridSearchCV(sample_dtc_model,\n",
    "                         param_grid=param,\n",
    "                         cv = 5,\n",
    "                         refit=True\n",
    "                        )"
   ]
  },
  {
   "cell_type": "code",
   "execution_count": 72,
   "id": "59f1da08",
   "metadata": {},
   "outputs": [
    {
     "data": {
      "text/plain": [
       "{'mean_fit_time': array([0.00140824, 0.0011981 , 0.00081825, 0.00100274, 0.0006021 ,\n",
       "        0.00100179, 0.00082664, 0.00105987, 0.00099964, 0.0009912 ,\n",
       "        0.00099502, 0.00079803, 0.00102506, 0.00104885, 0.000809  ,\n",
       "        0.0008213 , 0.00099077, 0.00069652, 0.00099888, 0.00081415,\n",
       "        0.00101209, 0.00139985, 0.00102029, 0.00100021]),\n",
       " 'std_fit_time': array([4.89432790e-04, 4.00797513e-04, 4.11281572e-04, 2.58379748e-05,\n",
       "        4.91616002e-04, 1.58654264e-05, 4.14244179e-04, 6.20204892e-04,\n",
       "        6.68432158e-05, 3.81414886e-05, 1.02521098e-05, 3.99315132e-04,\n",
       "        5.96760513e-05, 8.08525738e-05, 4.06048117e-04, 4.12415336e-04,\n",
       "        3.57464435e-05, 4.04761856e-04, 2.07128533e-05, 4.09107925e-04,\n",
       "        2.21295599e-05, 4.89706784e-04, 4.12023176e-05, 4.62310777e-07]),\n",
       " 'mean_score_time': array([0.00080552, 0.00081611, 0.00080738, 0.00037694, 0.00080934,\n",
       "        0.00079193, 0.00040116, 0.00060673, 0.00038161, 0.00080338,\n",
       "        0.00059137, 0.00061069, 0.00054855, 0.00059295, 0.00079088,\n",
       "        0.00041223, 0.00061312, 0.00063376, 0.00058894, 0.00040507,\n",
       "        0.00114417, 0.00080009, 0.00061331, 0.00059991]),\n",
       " 'std_score_time': array([0.00040281, 0.00040875, 0.00040678, 0.00046308, 0.00040533,\n",
       "        0.00039801, 0.00049159, 0.00049679, 0.00046762, 0.00040527,\n",
       "        0.00048473, 0.00049941, 0.00044793, 0.00048436, 0.00039701,\n",
       "        0.00050527, 0.00050129, 0.00051843, 0.00048173, 0.00049617,\n",
       "        0.0002765 , 0.00040004, 0.00050137, 0.00048982]),\n",
       " 'param_criterion': masked_array(data=['gini', 'gini', 'gini', 'gini', 'gini', 'gini', 'gini',\n",
       "                    'gini', 'gini', 'gini', 'gini', 'gini', 'entropy',\n",
       "                    'entropy', 'entropy', 'entropy', 'entropy', 'entropy',\n",
       "                    'entropy', 'entropy', 'entropy', 'entropy', 'entropy',\n",
       "                    'entropy'],\n",
       "              mask=[False, False, False, False, False, False, False, False,\n",
       "                    False, False, False, False, False, False, False, False,\n",
       "                    False, False, False, False, False, False, False, False],\n",
       "        fill_value='?',\n",
       "             dtype=object),\n",
       " 'param_max_depth': masked_array(data=[1, 1, 1, 1, 2, 2, 2, 2, 3, 3, 3, 3, 1, 1, 1, 1, 2, 2,\n",
       "                    2, 2, 3, 3, 3, 3],\n",
       "              mask=[False, False, False, False, False, False, False, False,\n",
       "                    False, False, False, False, False, False, False, False,\n",
       "                    False, False, False, False, False, False, False, False],\n",
       "        fill_value='?',\n",
       "             dtype=object),\n",
       " 'param_min_samples_split': masked_array(data=[2, 2, 3, 3, 2, 2, 3, 3, 2, 2, 3, 3, 2, 2, 3, 3, 2, 2,\n",
       "                    3, 3, 2, 2, 3, 3],\n",
       "              mask=[False, False, False, False, False, False, False, False,\n",
       "                    False, False, False, False, False, False, False, False,\n",
       "                    False, False, False, False, False, False, False, False],\n",
       "        fill_value='?',\n",
       "             dtype=object),\n",
       " 'param_splitter': masked_array(data=['random', 'best', 'random', 'best', 'random', 'best',\n",
       "                    'random', 'best', 'random', 'best', 'random', 'best',\n",
       "                    'random', 'best', 'random', 'best', 'random', 'best',\n",
       "                    'random', 'best', 'random', 'best', 'random', 'best'],\n",
       "              mask=[False, False, False, False, False, False, False, False,\n",
       "                    False, False, False, False, False, False, False, False,\n",
       "                    False, False, False, False, False, False, False, False],\n",
       "        fill_value='?',\n",
       "             dtype=object),\n",
       " 'params': [{'criterion': 'gini',\n",
       "   'max_depth': 1,\n",
       "   'min_samples_split': 2,\n",
       "   'splitter': 'random'},\n",
       "  {'criterion': 'gini',\n",
       "   'max_depth': 1,\n",
       "   'min_samples_split': 2,\n",
       "   'splitter': 'best'},\n",
       "  {'criterion': 'gini',\n",
       "   'max_depth': 1,\n",
       "   'min_samples_split': 3,\n",
       "   'splitter': 'random'},\n",
       "  {'criterion': 'gini',\n",
       "   'max_depth': 1,\n",
       "   'min_samples_split': 3,\n",
       "   'splitter': 'best'},\n",
       "  {'criterion': 'gini',\n",
       "   'max_depth': 2,\n",
       "   'min_samples_split': 2,\n",
       "   'splitter': 'random'},\n",
       "  {'criterion': 'gini',\n",
       "   'max_depth': 2,\n",
       "   'min_samples_split': 2,\n",
       "   'splitter': 'best'},\n",
       "  {'criterion': 'gini',\n",
       "   'max_depth': 2,\n",
       "   'min_samples_split': 3,\n",
       "   'splitter': 'random'},\n",
       "  {'criterion': 'gini',\n",
       "   'max_depth': 2,\n",
       "   'min_samples_split': 3,\n",
       "   'splitter': 'best'},\n",
       "  {'criterion': 'gini',\n",
       "   'max_depth': 3,\n",
       "   'min_samples_split': 2,\n",
       "   'splitter': 'random'},\n",
       "  {'criterion': 'gini',\n",
       "   'max_depth': 3,\n",
       "   'min_samples_split': 2,\n",
       "   'splitter': 'best'},\n",
       "  {'criterion': 'gini',\n",
       "   'max_depth': 3,\n",
       "   'min_samples_split': 3,\n",
       "   'splitter': 'random'},\n",
       "  {'criterion': 'gini',\n",
       "   'max_depth': 3,\n",
       "   'min_samples_split': 3,\n",
       "   'splitter': 'best'},\n",
       "  {'criterion': 'entropy',\n",
       "   'max_depth': 1,\n",
       "   'min_samples_split': 2,\n",
       "   'splitter': 'random'},\n",
       "  {'criterion': 'entropy',\n",
       "   'max_depth': 1,\n",
       "   'min_samples_split': 2,\n",
       "   'splitter': 'best'},\n",
       "  {'criterion': 'entropy',\n",
       "   'max_depth': 1,\n",
       "   'min_samples_split': 3,\n",
       "   'splitter': 'random'},\n",
       "  {'criterion': 'entropy',\n",
       "   'max_depth': 1,\n",
       "   'min_samples_split': 3,\n",
       "   'splitter': 'best'},\n",
       "  {'criterion': 'entropy',\n",
       "   'max_depth': 2,\n",
       "   'min_samples_split': 2,\n",
       "   'splitter': 'random'},\n",
       "  {'criterion': 'entropy',\n",
       "   'max_depth': 2,\n",
       "   'min_samples_split': 2,\n",
       "   'splitter': 'best'},\n",
       "  {'criterion': 'entropy',\n",
       "   'max_depth': 2,\n",
       "   'min_samples_split': 3,\n",
       "   'splitter': 'random'},\n",
       "  {'criterion': 'entropy',\n",
       "   'max_depth': 2,\n",
       "   'min_samples_split': 3,\n",
       "   'splitter': 'best'},\n",
       "  {'criterion': 'entropy',\n",
       "   'max_depth': 3,\n",
       "   'min_samples_split': 2,\n",
       "   'splitter': 'random'},\n",
       "  {'criterion': 'entropy',\n",
       "   'max_depth': 3,\n",
       "   'min_samples_split': 2,\n",
       "   'splitter': 'best'},\n",
       "  {'criterion': 'entropy',\n",
       "   'max_depth': 3,\n",
       "   'min_samples_split': 3,\n",
       "   'splitter': 'random'},\n",
       "  {'criterion': 'entropy',\n",
       "   'max_depth': 3,\n",
       "   'min_samples_split': 3,\n",
       "   'splitter': 'best'}],\n",
       " 'split0_test_score': array([0.65517241, 0.72413793, 0.4137931 , 0.72413793, 0.82758621,\n",
       "        0.75862069, 0.65517241, 0.75862069, 0.68965517, 0.82758621,\n",
       "        0.79310345, 0.82758621, 0.65517241, 0.72413793, 0.5862069 ,\n",
       "        0.72413793, 0.75862069, 0.75862069, 0.68965517, 0.75862069,\n",
       "        0.72413793, 0.82758621, 0.79310345, 0.82758621]),\n",
       " 'split1_test_score': array([0.4137931 , 0.62068966, 0.37931034, 0.62068966, 0.48275862,\n",
       "        0.68965517, 0.37931034, 0.68965517, 0.79310345, 0.79310345,\n",
       "        0.68965517, 0.79310345, 0.34482759, 0.5862069 , 0.4137931 ,\n",
       "        0.5862069 , 0.62068966, 0.65517241, 0.5862069 , 0.65517241,\n",
       "        0.65517241, 0.68965517, 0.62068966, 0.68965517]),\n",
       " 'split2_test_score': array([0.71428571, 0.64285714, 0.53571429, 0.64285714, 0.71428571,\n",
       "        0.75      , 0.60714286, 0.75      , 0.78571429, 0.75      ,\n",
       "        0.5       , 0.75      , 0.64285714, 0.64285714, 0.64285714,\n",
       "        0.64285714, 0.75      , 0.75      , 0.60714286, 0.75      ,\n",
       "        0.71428571, 0.75      , 0.71428571, 0.75      ]),\n",
       " 'split3_test_score': array([0.42857143, 0.75      , 0.67857143, 0.75      , 0.75      ,\n",
       "        0.82142857, 0.82142857, 0.82142857, 0.75      , 0.85714286,\n",
       "        0.78571429, 0.85714286, 0.57142857, 0.75      , 0.42857143,\n",
       "        0.75      , 0.78571429, 0.82142857, 0.64285714, 0.82142857,\n",
       "        0.85714286, 0.85714286, 0.78571429, 0.85714286]),\n",
       " 'split4_test_score': array([0.67857143, 0.71428571, 0.42857143, 0.71428571, 0.60714286,\n",
       "        0.75      , 0.67857143, 0.75      , 0.75      , 0.78571429,\n",
       "        0.57142857, 0.78571429, 0.46428571, 0.71428571, 0.75      ,\n",
       "        0.71428571, 0.71428571, 0.75      , 0.42857143, 0.75      ,\n",
       "        0.64285714, 0.78571429, 0.82142857, 0.78571429]),\n",
       " 'mean_test_score': array([0.57807882, 0.69039409, 0.48719212, 0.69039409, 0.67635468,\n",
       "        0.75394089, 0.62832512, 0.75394089, 0.75369458, 0.80270936,\n",
       "        0.6679803 , 0.80270936, 0.53571429, 0.68349754, 0.56428571,\n",
       "        0.68349754, 0.72586207, 0.74704433, 0.5908867 , 0.74704433,\n",
       "        0.71871921, 0.7820197 , 0.74704433, 0.7820197 ]),\n",
       " 'std_test_score': array([0.12956602, 0.04976101, 0.1090346 , 0.04976101, 0.12000257,\n",
       "        0.04180957, 0.14352105, 0.04180957, 0.03662422, 0.03671851,\n",
       "        0.11621232, 0.03671851, 0.11710262, 0.06023162, 0.12822652,\n",
       "        0.06023162, 0.05732941, 0.05315063, 0.08841781, 0.05315063,\n",
       "        0.07616216, 0.05880461, 0.07237189, 0.05880461]),\n",
       " 'rank_test_score': array([21, 13, 24, 13, 17,  5, 19,  5,  7,  1, 18,  1, 23, 15, 22, 15, 11,\n",
       "         8, 20,  8, 12,  3,  8,  3])}"
      ]
     },
     "execution_count": 72,
     "metadata": {},
     "output_type": "execute_result"
    }
   ],
   "source": [
    "grid_tree.fit(x_train, y_train)\n",
    "grid_tree.cv_results_"
   ]
  },
  {
   "cell_type": "code",
   "execution_count": 73,
   "id": "ec02ce96",
   "metadata": {},
   "outputs": [
    {
     "data": {
      "text/html": [
       "<div>\n",
       "<style scoped>\n",
       "    .dataframe tbody tr th:only-of-type {\n",
       "        vertical-align: middle;\n",
       "    }\n",
       "\n",
       "    .dataframe tbody tr th {\n",
       "        vertical-align: top;\n",
       "    }\n",
       "\n",
       "    .dataframe thead th {\n",
       "        text-align: right;\n",
       "    }\n",
       "</style>\n",
       "<table border=\"1\" class=\"dataframe\">\n",
       "  <thead>\n",
       "    <tr style=\"text-align: right;\">\n",
       "      <th></th>\n",
       "      <th>params</th>\n",
       "      <th>rank_test_score</th>\n",
       "    </tr>\n",
       "  </thead>\n",
       "  <tbody>\n",
       "    <tr>\n",
       "      <th>0</th>\n",
       "      <td>{'criterion': 'gini', 'max_depth': 1, 'min_sam...</td>\n",
       "      <td>21</td>\n",
       "    </tr>\n",
       "    <tr>\n",
       "      <th>1</th>\n",
       "      <td>{'criterion': 'gini', 'max_depth': 1, 'min_sam...</td>\n",
       "      <td>13</td>\n",
       "    </tr>\n",
       "    <tr>\n",
       "      <th>2</th>\n",
       "      <td>{'criterion': 'gini', 'max_depth': 1, 'min_sam...</td>\n",
       "      <td>24</td>\n",
       "    </tr>\n",
       "    <tr>\n",
       "      <th>3</th>\n",
       "      <td>{'criterion': 'gini', 'max_depth': 1, 'min_sam...</td>\n",
       "      <td>13</td>\n",
       "    </tr>\n",
       "    <tr>\n",
       "      <th>4</th>\n",
       "      <td>{'criterion': 'gini', 'max_depth': 2, 'min_sam...</td>\n",
       "      <td>17</td>\n",
       "    </tr>\n",
       "    <tr>\n",
       "      <th>5</th>\n",
       "      <td>{'criterion': 'gini', 'max_depth': 2, 'min_sam...</td>\n",
       "      <td>5</td>\n",
       "    </tr>\n",
       "    <tr>\n",
       "      <th>6</th>\n",
       "      <td>{'criterion': 'gini', 'max_depth': 2, 'min_sam...</td>\n",
       "      <td>19</td>\n",
       "    </tr>\n",
       "    <tr>\n",
       "      <th>7</th>\n",
       "      <td>{'criterion': 'gini', 'max_depth': 2, 'min_sam...</td>\n",
       "      <td>5</td>\n",
       "    </tr>\n",
       "    <tr>\n",
       "      <th>8</th>\n",
       "      <td>{'criterion': 'gini', 'max_depth': 3, 'min_sam...</td>\n",
       "      <td>7</td>\n",
       "    </tr>\n",
       "    <tr>\n",
       "      <th>9</th>\n",
       "      <td>{'criterion': 'gini', 'max_depth': 3, 'min_sam...</td>\n",
       "      <td>1</td>\n",
       "    </tr>\n",
       "    <tr>\n",
       "      <th>10</th>\n",
       "      <td>{'criterion': 'gini', 'max_depth': 3, 'min_sam...</td>\n",
       "      <td>18</td>\n",
       "    </tr>\n",
       "    <tr>\n",
       "      <th>11</th>\n",
       "      <td>{'criterion': 'gini', 'max_depth': 3, 'min_sam...</td>\n",
       "      <td>1</td>\n",
       "    </tr>\n",
       "    <tr>\n",
       "      <th>12</th>\n",
       "      <td>{'criterion': 'entropy', 'max_depth': 1, 'min_...</td>\n",
       "      <td>23</td>\n",
       "    </tr>\n",
       "    <tr>\n",
       "      <th>13</th>\n",
       "      <td>{'criterion': 'entropy', 'max_depth': 1, 'min_...</td>\n",
       "      <td>15</td>\n",
       "    </tr>\n",
       "    <tr>\n",
       "      <th>14</th>\n",
       "      <td>{'criterion': 'entropy', 'max_depth': 1, 'min_...</td>\n",
       "      <td>22</td>\n",
       "    </tr>\n",
       "    <tr>\n",
       "      <th>15</th>\n",
       "      <td>{'criterion': 'entropy', 'max_depth': 1, 'min_...</td>\n",
       "      <td>15</td>\n",
       "    </tr>\n",
       "    <tr>\n",
       "      <th>16</th>\n",
       "      <td>{'criterion': 'entropy', 'max_depth': 2, 'min_...</td>\n",
       "      <td>11</td>\n",
       "    </tr>\n",
       "    <tr>\n",
       "      <th>17</th>\n",
       "      <td>{'criterion': 'entropy', 'max_depth': 2, 'min_...</td>\n",
       "      <td>8</td>\n",
       "    </tr>\n",
       "    <tr>\n",
       "      <th>18</th>\n",
       "      <td>{'criterion': 'entropy', 'max_depth': 2, 'min_...</td>\n",
       "      <td>20</td>\n",
       "    </tr>\n",
       "    <tr>\n",
       "      <th>19</th>\n",
       "      <td>{'criterion': 'entropy', 'max_depth': 2, 'min_...</td>\n",
       "      <td>8</td>\n",
       "    </tr>\n",
       "    <tr>\n",
       "      <th>20</th>\n",
       "      <td>{'criterion': 'entropy', 'max_depth': 3, 'min_...</td>\n",
       "      <td>12</td>\n",
       "    </tr>\n",
       "    <tr>\n",
       "      <th>21</th>\n",
       "      <td>{'criterion': 'entropy', 'max_depth': 3, 'min_...</td>\n",
       "      <td>3</td>\n",
       "    </tr>\n",
       "    <tr>\n",
       "      <th>22</th>\n",
       "      <td>{'criterion': 'entropy', 'max_depth': 3, 'min_...</td>\n",
       "      <td>8</td>\n",
       "    </tr>\n",
       "    <tr>\n",
       "      <th>23</th>\n",
       "      <td>{'criterion': 'entropy', 'max_depth': 3, 'min_...</td>\n",
       "      <td>3</td>\n",
       "    </tr>\n",
       "  </tbody>\n",
       "</table>\n",
       "</div>"
      ],
      "text/plain": [
       "                                               params  rank_test_score\n",
       "0   {'criterion': 'gini', 'max_depth': 1, 'min_sam...               21\n",
       "1   {'criterion': 'gini', 'max_depth': 1, 'min_sam...               13\n",
       "2   {'criterion': 'gini', 'max_depth': 1, 'min_sam...               24\n",
       "3   {'criterion': 'gini', 'max_depth': 1, 'min_sam...               13\n",
       "4   {'criterion': 'gini', 'max_depth': 2, 'min_sam...               17\n",
       "5   {'criterion': 'gini', 'max_depth': 2, 'min_sam...                5\n",
       "6   {'criterion': 'gini', 'max_depth': 2, 'min_sam...               19\n",
       "7   {'criterion': 'gini', 'max_depth': 2, 'min_sam...                5\n",
       "8   {'criterion': 'gini', 'max_depth': 3, 'min_sam...                7\n",
       "9   {'criterion': 'gini', 'max_depth': 3, 'min_sam...                1\n",
       "10  {'criterion': 'gini', 'max_depth': 3, 'min_sam...               18\n",
       "11  {'criterion': 'gini', 'max_depth': 3, 'min_sam...                1\n",
       "12  {'criterion': 'entropy', 'max_depth': 1, 'min_...               23\n",
       "13  {'criterion': 'entropy', 'max_depth': 1, 'min_...               15\n",
       "14  {'criterion': 'entropy', 'max_depth': 1, 'min_...               22\n",
       "15  {'criterion': 'entropy', 'max_depth': 1, 'min_...               15\n",
       "16  {'criterion': 'entropy', 'max_depth': 2, 'min_...               11\n",
       "17  {'criterion': 'entropy', 'max_depth': 2, 'min_...                8\n",
       "18  {'criterion': 'entropy', 'max_depth': 2, 'min_...               20\n",
       "19  {'criterion': 'entropy', 'max_depth': 2, 'min_...                8\n",
       "20  {'criterion': 'entropy', 'max_depth': 3, 'min_...               12\n",
       "21  {'criterion': 'entropy', 'max_depth': 3, 'min_...                3\n",
       "22  {'criterion': 'entropy', 'max_depth': 3, 'min_...                8\n",
       "23  {'criterion': 'entropy', 'max_depth': 3, 'min_...                3"
      ]
     },
     "execution_count": 73,
     "metadata": {},
     "output_type": "execute_result"
    }
   ],
   "source": [
    "score_frm = pd.DataFrame(grid_tree.cv_results_)\n",
    "score_frm[['params', 'rank_test_score']]"
   ]
  },
  {
   "cell_type": "code",
   "execution_count": 74,
   "id": "aafb045f",
   "metadata": {},
   "outputs": [
    {
     "name": "stdout",
     "output_type": "stream",
     "text": [
      "최적의 파라미터 확인 - \n",
      "{'criterion': 'gini', 'max_depth': 3, 'min_samples_split': 2, 'splitter': 'best'}\n",
      "최적의 파라미터의 정확도 - \n",
      "0.8027093596059114\n"
     ]
    }
   ],
   "source": [
    "print('최적의 파라미터 확인 - ')\n",
    "print(grid_tree.best_params_)\n",
    "\n",
    "print('최적의 파라미터의 정확도 - ')\n",
    "print(grid_tree.best_score_)"
   ]
  },
  {
   "cell_type": "code",
   "execution_count": 75,
   "id": "03e13a0a",
   "metadata": {},
   "outputs": [
    {
     "name": "stdout",
     "output_type": "stream",
     "text": [
      "acc - 0.75 \n",
      " \n"
     ]
    }
   ],
   "source": [
    "estimator = grid_tree.best_estimator_\n",
    "y_pred = estimator.predict(x_test)\n",
    "\n",
    "print(f'acc - {accuracy_score(y_test, y_pred)} \\n ')"
   ]
  },
  {
   "cell_type": "markdown",
   "id": "b7754cb2",
   "metadata": {},
   "source": [
    "## 표준화 & 정규화"
   ]
  },
  {
   "cell_type": "code",
   "execution_count": 113,
   "id": "46f8ad5d",
   "metadata": {},
   "outputs": [],
   "source": [
    "sample_frm = pd.read_csv('https://raw.githubusercontent.com/rasbt/pattern_classification/master/data/wine_data.csv' , \n",
    "                                   header  = None , \n",
    "                                   usecols = [0, 2, 13])\n",
    "\n",
    "sample_frm.columns = ['target', 'x', 'y']"
   ]
  },
  {
   "cell_type": "code",
   "execution_count": null,
   "id": "d2919148",
   "metadata": {},
   "outputs": [],
   "source": [
    "print('01')\n",
    "x_train, x_test ,y_train, y_test = train_test_split(s_score_frm,\n",
    "                                                    sample_frm_all.target,\n",
    "                                                    test_size=0.2,\n",
    "                                                    shuffle=True,\n",
    "                                                    random_state=100)"
   ]
  },
  {
   "cell_type": "code",
   "execution_count": 114,
   "id": "e2ac6a4c",
   "metadata": {},
   "outputs": [
    {
     "data": {
      "text/plain": [
       "((142, 2), (36, 2), (142,), (36,))"
      ]
     },
     "execution_count": 114,
     "metadata": {},
     "output_type": "execute_result"
    }
   ],
   "source": [
    "x_train.shape, x_test.shape ,y_train.shape, y_test.shape"
   ]
  },
  {
   "cell_type": "markdown",
   "id": "62f317a7",
   "metadata": {},
   "source": [
    "## 표준화"
   ]
  },
  {
   "cell_type": "code",
   "execution_count": 116,
   "id": "09711686",
   "metadata": {},
   "outputs": [
    {
     "name": "stdout",
     "output_type": "stream",
     "text": [
      "학습데이터의 정규화 - \n",
      "테스트데이터의 정규화 - \n"
     ]
    }
   ],
   "source": [
    "print('학습데이터의 정규화 - ')\n",
    "scaler = MinMaxScaler()\n",
    "scaler.fit(x_train)\n",
    "m_train_scaler = scaler.transform(x_train)\n",
    "\n",
    "print('테스트데이터의 정규화 - ')\n",
    "m_test_scaler = scaler.transform(x_test)"
   ]
  },
  {
   "cell_type": "code",
   "execution_count": 88,
   "id": "8e372e93",
   "metadata": {},
   "outputs": [
    {
     "name": "stdout",
     "output_type": "stream",
     "text": [
      "표준화\n"
     ]
    },
    {
     "data": {
      "text/html": [
       "<div>\n",
       "<style scoped>\n",
       "    .dataframe tbody tr th:only-of-type {\n",
       "        vertical-align: middle;\n",
       "    }\n",
       "\n",
       "    .dataframe tbody tr th {\n",
       "        vertical-align: top;\n",
       "    }\n",
       "\n",
       "    .dataframe thead th {\n",
       "        text-align: right;\n",
       "    }\n",
       "</style>\n",
       "<table border=\"1\" class=\"dataframe\">\n",
       "  <thead>\n",
       "    <tr style=\"text-align: right;\">\n",
       "      <th></th>\n",
       "      <th>x</th>\n",
       "      <th>y</th>\n",
       "    </tr>\n",
       "  </thead>\n",
       "  <tbody>\n",
       "    <tr>\n",
       "      <th>0</th>\n",
       "      <td>-0.562250</td>\n",
       "      <td>1.013009</td>\n",
       "    </tr>\n",
       "    <tr>\n",
       "      <th>1</th>\n",
       "      <td>-0.499413</td>\n",
       "      <td>0.965242</td>\n",
       "    </tr>\n",
       "    <tr>\n",
       "      <th>2</th>\n",
       "      <td>0.021231</td>\n",
       "      <td>1.395148</td>\n",
       "    </tr>\n",
       "    <tr>\n",
       "      <th>3</th>\n",
       "      <td>-0.346811</td>\n",
       "      <td>2.334574</td>\n",
       "    </tr>\n",
       "    <tr>\n",
       "      <th>4</th>\n",
       "      <td>0.227694</td>\n",
       "      <td>-0.037874</td>\n",
       "    </tr>\n",
       "    <tr>\n",
       "      <th>...</th>\n",
       "      <td>...</td>\n",
       "      <td>...</td>\n",
       "    </tr>\n",
       "    <tr>\n",
       "      <th>173</th>\n",
       "      <td>2.974543</td>\n",
       "      <td>-0.021952</td>\n",
       "    </tr>\n",
       "    <tr>\n",
       "      <th>174</th>\n",
       "      <td>1.412609</td>\n",
       "      <td>0.009893</td>\n",
       "    </tr>\n",
       "    <tr>\n",
       "      <th>175</th>\n",
       "      <td>1.744744</td>\n",
       "      <td>0.280575</td>\n",
       "    </tr>\n",
       "    <tr>\n",
       "      <th>176</th>\n",
       "      <td>0.227694</td>\n",
       "      <td>0.296498</td>\n",
       "    </tr>\n",
       "    <tr>\n",
       "      <th>177</th>\n",
       "      <td>1.583165</td>\n",
       "      <td>-0.595160</td>\n",
       "    </tr>\n",
       "  </tbody>\n",
       "</table>\n",
       "<p>178 rows × 2 columns</p>\n",
       "</div>"
      ],
      "text/plain": [
       "            x         y\n",
       "0   -0.562250  1.013009\n",
       "1   -0.499413  0.965242\n",
       "2    0.021231  1.395148\n",
       "3   -0.346811  2.334574\n",
       "4    0.227694 -0.037874\n",
       "..        ...       ...\n",
       "173  2.974543 -0.021952\n",
       "174  1.412609  0.009893\n",
       "175  1.744744  0.280575\n",
       "176  0.227694  0.296498\n",
       "177  1.583165 -0.595160\n",
       "\n",
       "[178 rows x 2 columns]"
      ]
     },
     "execution_count": 88,
     "metadata": {},
     "output_type": "execute_result"
    }
   ],
   "source": [
    "score_frm = pd.DataFrame(data  = sample_frm,\n",
    "                        columns=['x', 'y']\n",
    "                       )\n",
    "\n",
    "s_scaler = StandardScaler()\n",
    "s_score_frm = s_scaler.fit_transform(score_frm)\n",
    "s_score_frm = pd.DataFrame(data=s_score_frm,\n",
    "                         columns=['x', 'y']\n",
    "                         )\n",
    "s_score_frm"
   ]
  },
  {
   "cell_type": "code",
   "execution_count": 103,
   "id": "309703c1",
   "metadata": {},
   "outputs": [
    {
     "name": "stdout",
     "output_type": "stream",
     "text": [
      "01\n"
     ]
    }
   ],
   "source": [
    "print('01')\n",
    "x_train, x_test ,y_train, y_test = train_test_split(s_score_frm,\n",
    "                                                    sample_frm_all.target,\n",
    "                                                    test_size=0.2,\n",
    "                                                    shuffle=True,\n",
    "                                                    random_state=100)"
   ]
  },
  {
   "cell_type": "code",
   "execution_count": 104,
   "id": "8722a719",
   "metadata": {},
   "outputs": [
    {
     "data": {
      "text/plain": [
       "((142, 2), (36, 2), (142,), (36,))"
      ]
     },
     "execution_count": 104,
     "metadata": {},
     "output_type": "execute_result"
    }
   ],
   "source": [
    "x_train.shape, x_test.shape ,y_train.shape, y_test.shape"
   ]
  },
  {
   "cell_type": "code",
   "execution_count": 105,
   "id": "0d548b03",
   "metadata": {},
   "outputs": [
    {
     "name": "stdout",
     "output_type": "stream",
     "text": [
      "02\n"
     ]
    },
    {
     "data": {
      "text/plain": [
       "DecisionTreeClassifier()"
      ]
     },
     "execution_count": 105,
     "metadata": {},
     "output_type": "execute_result"
    }
   ],
   "source": [
    "print('02')\n",
    "\n",
    "sample_frm_model = DecisionTreeClassifier()\n",
    "sample_frm_model.fit(x_train, y_train) #학습데이터만"
   ]
  },
  {
   "cell_type": "code",
   "execution_count": 106,
   "id": "a5b03b14",
   "metadata": {},
   "outputs": [
    {
     "name": "stdout",
     "output_type": "stream",
     "text": [
      "03\n",
      "04\n",
      "acc -  0.75\n"
     ]
    }
   ],
   "source": [
    "print('03')\n",
    "y_pred = sample_frm_model.predict(x_test) \n",
    "\n",
    "print('04')\n",
    "print('acc - ',accuracy_score(y_test, y_pred))"
   ]
  },
  {
   "cell_type": "markdown",
   "id": "aae54ae7",
   "metadata": {},
   "source": [
    "## 정규화"
   ]
  },
  {
   "cell_type": "code",
   "execution_count": 117,
   "id": "45bf2414",
   "metadata": {},
   "outputs": [
    {
     "name": "stdout",
     "output_type": "stream",
     "text": [
      "01\n"
     ]
    }
   ],
   "source": [
    "print('01')\n",
    "x_train, x_test ,y_train, y_test = train_test_split(s_score_frm,\n",
    "                                                    sample_frm_all.target,\n",
    "                                                    test_size=0.2,\n",
    "                                                    shuffle=True,\n",
    "                                                    random_state=100)"
   ]
  },
  {
   "cell_type": "code",
   "execution_count": 118,
   "id": "9a8f9b82",
   "metadata": {},
   "outputs": [
    {
     "data": {
      "text/plain": [
       "((142, 2), (36, 2), (142,), (36,))"
      ]
     },
     "execution_count": 118,
     "metadata": {},
     "output_type": "execute_result"
    }
   ],
   "source": [
    "x_train.shape, x_test.shape ,y_train.shape, y_test.shape"
   ]
  },
  {
   "cell_type": "code",
   "execution_count": 126,
   "id": "bf39da4b",
   "metadata": {
    "scrolled": false
   },
   "outputs": [
    {
     "name": "stdout",
     "output_type": "stream",
     "text": [
      "02 \n",
      " 학습데이터의 정규화 - \n",
      "테스트데이터의 정규화 - \n"
     ]
    }
   ],
   "source": [
    "print('02 \\n 학습데이터의 정규화 - ')\n",
    "scaler = MinMaxScaler()\n",
    "scaler.fit(x_train)\n",
    "m_train_scaler = scaler.transform(x_train)\n",
    "\n",
    "print('테스트데이터의 정규화 - ')\n",
    "m_test_scaler = scaler.transform(x_test)"
   ]
  },
  {
   "cell_type": "code",
   "execution_count": 127,
   "id": "30e75189",
   "metadata": {},
   "outputs": [
    {
     "ename": "ValueError",
     "evalue": "Unknown label type: 'continuous-multioutput'",
     "output_type": "error",
     "traceback": [
      "\u001b[1;31m---------------------------------------------------------------------------\u001b[0m",
      "\u001b[1;31mValueError\u001b[0m                                Traceback (most recent call last)",
      "\u001b[1;32m~\\AppData\\Local\\Temp/ipykernel_13200/12088002.py\u001b[0m in \u001b[0;36m<module>\u001b[1;34m\u001b[0m\n\u001b[0;32m      1\u001b[0m \u001b[0msample_frm_model\u001b[0m \u001b[1;33m=\u001b[0m \u001b[0mDecisionTreeClassifier\u001b[0m\u001b[1;33m(\u001b[0m\u001b[1;33m)\u001b[0m\u001b[1;33m\u001b[0m\u001b[1;33m\u001b[0m\u001b[0m\n\u001b[1;32m----> 2\u001b[1;33m \u001b[0msample_frm_model\u001b[0m\u001b[1;33m.\u001b[0m\u001b[0mfit\u001b[0m\u001b[1;33m(\u001b[0m\u001b[0mm_train_scaler\u001b[0m\u001b[1;33m,\u001b[0m \u001b[0mm_test_scaler\u001b[0m\u001b[1;33m)\u001b[0m \u001b[1;31m#학습데이터만\u001b[0m\u001b[1;33m\u001b[0m\u001b[1;33m\u001b[0m\u001b[0m\n\u001b[0m",
      "\u001b[1;32mC:\\ProgramData\\Anaconda3\\lib\\site-packages\\sklearn\\tree\\_classes.py\u001b[0m in \u001b[0;36mfit\u001b[1;34m(self, X, y, sample_weight, check_input, X_idx_sorted)\u001b[0m\n\u001b[0;32m    901\u001b[0m         \"\"\"\n\u001b[0;32m    902\u001b[0m \u001b[1;33m\u001b[0m\u001b[0m\n\u001b[1;32m--> 903\u001b[1;33m         super().fit(\n\u001b[0m\u001b[0;32m    904\u001b[0m             \u001b[0mX\u001b[0m\u001b[1;33m,\u001b[0m \u001b[0my\u001b[0m\u001b[1;33m,\u001b[0m\u001b[1;33m\u001b[0m\u001b[1;33m\u001b[0m\u001b[0m\n\u001b[0;32m    905\u001b[0m             \u001b[0msample_weight\u001b[0m\u001b[1;33m=\u001b[0m\u001b[0msample_weight\u001b[0m\u001b[1;33m,\u001b[0m\u001b[1;33m\u001b[0m\u001b[1;33m\u001b[0m\u001b[0m\n",
      "\u001b[1;32mC:\\ProgramData\\Anaconda3\\lib\\site-packages\\sklearn\\tree\\_classes.py\u001b[0m in \u001b[0;36mfit\u001b[1;34m(self, X, y, sample_weight, check_input, X_idx_sorted)\u001b[0m\n\u001b[0;32m    189\u001b[0m \u001b[1;33m\u001b[0m\u001b[0m\n\u001b[0;32m    190\u001b[0m         \u001b[1;32mif\u001b[0m \u001b[0mis_classification\u001b[0m\u001b[1;33m:\u001b[0m\u001b[1;33m\u001b[0m\u001b[1;33m\u001b[0m\u001b[0m\n\u001b[1;32m--> 191\u001b[1;33m             \u001b[0mcheck_classification_targets\u001b[0m\u001b[1;33m(\u001b[0m\u001b[0my\u001b[0m\u001b[1;33m)\u001b[0m\u001b[1;33m\u001b[0m\u001b[1;33m\u001b[0m\u001b[0m\n\u001b[0m\u001b[0;32m    192\u001b[0m             \u001b[0my\u001b[0m \u001b[1;33m=\u001b[0m \u001b[0mnp\u001b[0m\u001b[1;33m.\u001b[0m\u001b[0mcopy\u001b[0m\u001b[1;33m(\u001b[0m\u001b[0my\u001b[0m\u001b[1;33m)\u001b[0m\u001b[1;33m\u001b[0m\u001b[1;33m\u001b[0m\u001b[0m\n\u001b[0;32m    193\u001b[0m \u001b[1;33m\u001b[0m\u001b[0m\n",
      "\u001b[1;32mC:\\ProgramData\\Anaconda3\\lib\\site-packages\\sklearn\\utils\\multiclass.py\u001b[0m in \u001b[0;36mcheck_classification_targets\u001b[1;34m(y)\u001b[0m\n\u001b[0;32m    181\u001b[0m     if y_type not in ['binary', 'multiclass', 'multiclass-multioutput',\n\u001b[0;32m    182\u001b[0m                       'multilabel-indicator', 'multilabel-sequences']:\n\u001b[1;32m--> 183\u001b[1;33m         \u001b[1;32mraise\u001b[0m \u001b[0mValueError\u001b[0m\u001b[1;33m(\u001b[0m\u001b[1;34m\"Unknown label type: %r\"\u001b[0m \u001b[1;33m%\u001b[0m \u001b[0my_type\u001b[0m\u001b[1;33m)\u001b[0m\u001b[1;33m\u001b[0m\u001b[1;33m\u001b[0m\u001b[0m\n\u001b[0m\u001b[0;32m    184\u001b[0m \u001b[1;33m\u001b[0m\u001b[0m\n\u001b[0;32m    185\u001b[0m \u001b[1;33m\u001b[0m\u001b[0m\n",
      "\u001b[1;31mValueError\u001b[0m: Unknown label type: 'continuous-multioutput'"
     ]
    }
   ],
   "source": [
    "# 주말 해결 오류\n",
    "sample_frm_model = DecisionTreeClassifier()\n",
    "sample_frm_model.fit(m_train_scaler, m_test_scaler) #학습데이터만"
   ]
  },
  {
   "cell_type": "code",
   "execution_count": 123,
   "id": "9776cb5c",
   "metadata": {},
   "outputs": [
    {
     "name": "stdout",
     "output_type": "stream",
     "text": [
      "03\n",
      "04\n",
      "acc -  0.75\n"
     ]
    }
   ],
   "source": [
    "print('03')\n",
    "y_pred = sample_frm_model.predict(x_test) \n",
    "\n",
    "print('04')\n",
    "print('acc - ',accuracy_score(y_test, y_pred))"
   ]
  },
  {
   "cell_type": "code",
   "execution_count": null,
   "id": "7d39f318",
   "metadata": {},
   "outputs": [],
   "source": []
  },
  {
   "cell_type": "code",
   "execution_count": null,
   "id": "c5a6899e",
   "metadata": {},
   "outputs": [],
   "source": []
  }
 ],
 "metadata": {
  "kernelspec": {
   "display_name": "Python 3 (ipykernel)",
   "language": "python",
   "name": "python3"
  },
  "language_info": {
   "codemirror_mode": {
    "name": "ipython",
    "version": 3
   },
   "file_extension": ".py",
   "mimetype": "text/x-python",
   "name": "python",
   "nbconvert_exporter": "python",
   "pygments_lexer": "ipython3",
   "version": "3.9.7"
  }
 },
 "nbformat": 4,
 "nbformat_minor": 5
}
