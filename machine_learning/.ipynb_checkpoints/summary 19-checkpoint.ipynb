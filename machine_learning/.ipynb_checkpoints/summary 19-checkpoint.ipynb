{
 "cells": [
  {
   "cell_type": "code",
   "execution_count": 1,
   "id": "bc8d088e",
   "metadata": {},
   "outputs": [
    {
     "name": "stdout",
     "output_type": "stream",
     "text": [
      "numpy  version -  1.20.3\n",
      "pandas version -  1.3.4\n",
      "sklearn version -  0.24.2\n"
     ]
    }
   ],
   "source": [
    "import numpy  as np\n",
    "import pandas as pd\n",
    "\n",
    "print('numpy  version - ' , np.__version__) \n",
    "print('pandas version - ' , pd.__version__) \n",
    "\n",
    "from   io import StringIO\n",
    "import missingno as msno\n",
    "# ml\n",
    "import sklearn\n",
    "from   sklearn.datasets import load_iris, load_breast_cancer\n",
    "\n",
    "print('sklearn version - ' , sklearn.__version__)\n",
    "\n",
    "from sklearn.model_selection import train_test_split, KFold , StratifiedKFold , cross_val_score, cross_validate, GridSearchCV \n",
    "from sklearn.tree            import DecisionTreeClassifier\n",
    "from sklearn.ensemble        import RandomForestClassifier         \n",
    "from sklearn.linear_model    import LogisticRegression , LinearRegression\n",
    "\n",
    "\n",
    "from sklearn.metrics         import accuracy_score, recall_score, precision_score, f1_score, confusion_matrix, make_scorer , precision_recall_curve \n",
    "from sklearn.impute          import SimpleImputer\n",
    "\n",
    "from sklearn.preprocessing   import LabelEncoder, OneHotEncoder, StandardScaler, MinMaxScaler\n",
    "\n",
    "from IPython.display import Image\n",
    "\n",
    "import matplotlib.pyplot as plt\n",
    "%matplotlib inline\n",
    "\n",
    "import seaborn as sns\n",
    "\n",
    "from sklearn.decomposition import PCA\n",
    "from sklearn.cluster import KMeans"
   ]
  },
  {
   "cell_type": "markdown",
   "id": "aec6f75e",
   "metadata": {},
   "source": [
    "## 고등학교 진학률 데이터를 활용하여 속성이 비슷한 중학교끼리 클러스터\n",
    "- 데이터 인코딩, 지도시각화(위도, 경도, folium)\n",
    "\n",
    "### 진행절차\n",
    "#### 01. 데이터 전처리 - (지역, 코드 , 유형, 주야)\n",
    "#### 02. 군집모형생성 - 분석에 사용할 피처는 과학고, 외고국제고, 자사고 진학률\n",
    "#### 03. 표준화\n",
    "#### 04. 모형 객체 생성\n",
    "#### 05. 모형 학습\n",
    "#### 06. 예측\n",
    "#### 07. 예측 결과를 데이터 프레임에 추가\n",
    "#### 08. 클러스터 값으로 그룹화, 그룹별 내용 출력\n",
    "#### 09. 지도 그래프 시각화"
   ]
  },
  {
   "cell_type": "code",
   "execution_count": 3,
   "id": "f7611dc5",
   "metadata": {},
   "outputs": [
    {
     "ename": "FileNotFoundError",
     "evalue": "[Errno 2] No such file or directory: '2022-01-19/data/middle_shcool_graduates_report.xlsx'",
     "output_type": "error",
     "traceback": [
      "\u001b[1;31m---------------------------------------------------------------------------\u001b[0m",
      "\u001b[1;31mFileNotFoundError\u001b[0m                         Traceback (most recent call last)",
      "\u001b[1;32m~\\AppData\\Local\\Temp/ipykernel_8144/963921954.py\u001b[0m in \u001b[0;36m<module>\u001b[1;34m\u001b[0m\n\u001b[1;32m----> 1\u001b[1;33m \u001b[0mschool\u001b[0m \u001b[1;33m=\u001b[0m \u001b[0mpd\u001b[0m\u001b[1;33m.\u001b[0m\u001b[0mread_excel\u001b[0m\u001b[1;33m(\u001b[0m\u001b[1;34m'2022-01-19/data/middle_shcool_graduates_report.xlsx'\u001b[0m\u001b[1;33m)\u001b[0m\u001b[1;33m\u001b[0m\u001b[1;33m\u001b[0m\u001b[0m\n\u001b[0m\u001b[0;32m      2\u001b[0m \u001b[0mschool_frm\u001b[0m \u001b[1;33m=\u001b[0m \u001b[0mschool\u001b[0m\u001b[1;33m.\u001b[0m\u001b[0mcopy\u001b[0m\u001b[1;33m(\u001b[0m\u001b[1;33m)\u001b[0m\u001b[1;33m\u001b[0m\u001b[1;33m\u001b[0m\u001b[0m\n\u001b[0;32m      3\u001b[0m \u001b[0mschool_frm\u001b[0m\u001b[1;33m.\u001b[0m\u001b[0mhead\u001b[0m\u001b[1;33m(\u001b[0m\u001b[1;36m1\u001b[0m\u001b[1;33m)\u001b[0m\u001b[1;33m\u001b[0m\u001b[1;33m\u001b[0m\u001b[0m\n",
      "\u001b[1;32mC:\\ProgramData\\Anaconda3\\lib\\site-packages\\pandas\\util\\_decorators.py\u001b[0m in \u001b[0;36mwrapper\u001b[1;34m(*args, **kwargs)\u001b[0m\n\u001b[0;32m    309\u001b[0m                     \u001b[0mstacklevel\u001b[0m\u001b[1;33m=\u001b[0m\u001b[0mstacklevel\u001b[0m\u001b[1;33m,\u001b[0m\u001b[1;33m\u001b[0m\u001b[1;33m\u001b[0m\u001b[0m\n\u001b[0;32m    310\u001b[0m                 )\n\u001b[1;32m--> 311\u001b[1;33m             \u001b[1;32mreturn\u001b[0m \u001b[0mfunc\u001b[0m\u001b[1;33m(\u001b[0m\u001b[1;33m*\u001b[0m\u001b[0margs\u001b[0m\u001b[1;33m,\u001b[0m \u001b[1;33m**\u001b[0m\u001b[0mkwargs\u001b[0m\u001b[1;33m)\u001b[0m\u001b[1;33m\u001b[0m\u001b[1;33m\u001b[0m\u001b[0m\n\u001b[0m\u001b[0;32m    312\u001b[0m \u001b[1;33m\u001b[0m\u001b[0m\n\u001b[0;32m    313\u001b[0m         \u001b[1;32mreturn\u001b[0m \u001b[0mwrapper\u001b[0m\u001b[1;33m\u001b[0m\u001b[1;33m\u001b[0m\u001b[0m\n",
      "\u001b[1;32mC:\\ProgramData\\Anaconda3\\lib\\site-packages\\pandas\\io\\excel\\_base.py\u001b[0m in \u001b[0;36mread_excel\u001b[1;34m(io, sheet_name, header, names, index_col, usecols, squeeze, dtype, engine, converters, true_values, false_values, skiprows, nrows, na_values, keep_default_na, na_filter, verbose, parse_dates, date_parser, thousands, comment, skipfooter, convert_float, mangle_dupe_cols, storage_options)\u001b[0m\n\u001b[0;32m    362\u001b[0m     \u001b[1;32mif\u001b[0m \u001b[1;32mnot\u001b[0m \u001b[0misinstance\u001b[0m\u001b[1;33m(\u001b[0m\u001b[0mio\u001b[0m\u001b[1;33m,\u001b[0m \u001b[0mExcelFile\u001b[0m\u001b[1;33m)\u001b[0m\u001b[1;33m:\u001b[0m\u001b[1;33m\u001b[0m\u001b[1;33m\u001b[0m\u001b[0m\n\u001b[0;32m    363\u001b[0m         \u001b[0mshould_close\u001b[0m \u001b[1;33m=\u001b[0m \u001b[1;32mTrue\u001b[0m\u001b[1;33m\u001b[0m\u001b[1;33m\u001b[0m\u001b[0m\n\u001b[1;32m--> 364\u001b[1;33m         \u001b[0mio\u001b[0m \u001b[1;33m=\u001b[0m \u001b[0mExcelFile\u001b[0m\u001b[1;33m(\u001b[0m\u001b[0mio\u001b[0m\u001b[1;33m,\u001b[0m \u001b[0mstorage_options\u001b[0m\u001b[1;33m=\u001b[0m\u001b[0mstorage_options\u001b[0m\u001b[1;33m,\u001b[0m \u001b[0mengine\u001b[0m\u001b[1;33m=\u001b[0m\u001b[0mengine\u001b[0m\u001b[1;33m)\u001b[0m\u001b[1;33m\u001b[0m\u001b[1;33m\u001b[0m\u001b[0m\n\u001b[0m\u001b[0;32m    365\u001b[0m     \u001b[1;32melif\u001b[0m \u001b[0mengine\u001b[0m \u001b[1;32mand\u001b[0m \u001b[0mengine\u001b[0m \u001b[1;33m!=\u001b[0m \u001b[0mio\u001b[0m\u001b[1;33m.\u001b[0m\u001b[0mengine\u001b[0m\u001b[1;33m:\u001b[0m\u001b[1;33m\u001b[0m\u001b[1;33m\u001b[0m\u001b[0m\n\u001b[0;32m    366\u001b[0m         raise ValueError(\n",
      "\u001b[1;32mC:\\ProgramData\\Anaconda3\\lib\\site-packages\\pandas\\io\\excel\\_base.py\u001b[0m in \u001b[0;36m__init__\u001b[1;34m(self, path_or_buffer, engine, storage_options)\u001b[0m\n\u001b[0;32m   1189\u001b[0m                 \u001b[0mext\u001b[0m \u001b[1;33m=\u001b[0m \u001b[1;34m\"xls\"\u001b[0m\u001b[1;33m\u001b[0m\u001b[1;33m\u001b[0m\u001b[0m\n\u001b[0;32m   1190\u001b[0m             \u001b[1;32melse\u001b[0m\u001b[1;33m:\u001b[0m\u001b[1;33m\u001b[0m\u001b[1;33m\u001b[0m\u001b[0m\n\u001b[1;32m-> 1191\u001b[1;33m                 ext = inspect_excel_format(\n\u001b[0m\u001b[0;32m   1192\u001b[0m                     \u001b[0mcontent_or_path\u001b[0m\u001b[1;33m=\u001b[0m\u001b[0mpath_or_buffer\u001b[0m\u001b[1;33m,\u001b[0m \u001b[0mstorage_options\u001b[0m\u001b[1;33m=\u001b[0m\u001b[0mstorage_options\u001b[0m\u001b[1;33m\u001b[0m\u001b[1;33m\u001b[0m\u001b[0m\n\u001b[0;32m   1193\u001b[0m                 )\n",
      "\u001b[1;32mC:\\ProgramData\\Anaconda3\\lib\\site-packages\\pandas\\io\\excel\\_base.py\u001b[0m in \u001b[0;36minspect_excel_format\u001b[1;34m(content_or_path, storage_options)\u001b[0m\n\u001b[0;32m   1068\u001b[0m         \u001b[0mcontent_or_path\u001b[0m \u001b[1;33m=\u001b[0m \u001b[0mBytesIO\u001b[0m\u001b[1;33m(\u001b[0m\u001b[0mcontent_or_path\u001b[0m\u001b[1;33m)\u001b[0m\u001b[1;33m\u001b[0m\u001b[1;33m\u001b[0m\u001b[0m\n\u001b[0;32m   1069\u001b[0m \u001b[1;33m\u001b[0m\u001b[0m\n\u001b[1;32m-> 1070\u001b[1;33m     with get_handle(\n\u001b[0m\u001b[0;32m   1071\u001b[0m         \u001b[0mcontent_or_path\u001b[0m\u001b[1;33m,\u001b[0m \u001b[1;34m\"rb\"\u001b[0m\u001b[1;33m,\u001b[0m \u001b[0mstorage_options\u001b[0m\u001b[1;33m=\u001b[0m\u001b[0mstorage_options\u001b[0m\u001b[1;33m,\u001b[0m \u001b[0mis_text\u001b[0m\u001b[1;33m=\u001b[0m\u001b[1;32mFalse\u001b[0m\u001b[1;33m\u001b[0m\u001b[1;33m\u001b[0m\u001b[0m\n\u001b[0;32m   1072\u001b[0m     ) as handle:\n",
      "\u001b[1;32mC:\\ProgramData\\Anaconda3\\lib\\site-packages\\pandas\\io\\common.py\u001b[0m in \u001b[0;36mget_handle\u001b[1;34m(path_or_buf, mode, encoding, compression, memory_map, is_text, errors, storage_options)\u001b[0m\n\u001b[0;32m    709\u001b[0m         \u001b[1;32melse\u001b[0m\u001b[1;33m:\u001b[0m\u001b[1;33m\u001b[0m\u001b[1;33m\u001b[0m\u001b[0m\n\u001b[0;32m    710\u001b[0m             \u001b[1;31m# Binary mode\u001b[0m\u001b[1;33m\u001b[0m\u001b[1;33m\u001b[0m\u001b[0m\n\u001b[1;32m--> 711\u001b[1;33m             \u001b[0mhandle\u001b[0m \u001b[1;33m=\u001b[0m \u001b[0mopen\u001b[0m\u001b[1;33m(\u001b[0m\u001b[0mhandle\u001b[0m\u001b[1;33m,\u001b[0m \u001b[0mioargs\u001b[0m\u001b[1;33m.\u001b[0m\u001b[0mmode\u001b[0m\u001b[1;33m)\u001b[0m\u001b[1;33m\u001b[0m\u001b[1;33m\u001b[0m\u001b[0m\n\u001b[0m\u001b[0;32m    712\u001b[0m         \u001b[0mhandles\u001b[0m\u001b[1;33m.\u001b[0m\u001b[0mappend\u001b[0m\u001b[1;33m(\u001b[0m\u001b[0mhandle\u001b[0m\u001b[1;33m)\u001b[0m\u001b[1;33m\u001b[0m\u001b[1;33m\u001b[0m\u001b[0m\n\u001b[0;32m    713\u001b[0m \u001b[1;33m\u001b[0m\u001b[0m\n",
      "\u001b[1;31mFileNotFoundError\u001b[0m: [Errno 2] No such file or directory: '2022-01-19/data/middle_shcool_graduates_report.xlsx'"
     ]
    }
   ],
   "source": [
    "school = pd.read_excel('2022-01-19/data/middle_shcool_graduates_report.xlsx')\n",
    "school_frm = school.copy()\n",
    "school_frm.head(1)"
   ]
  },
  {
   "cell_type": "code",
   "execution_count": null,
   "id": "e75e8d5e",
   "metadata": {},
   "outputs": [],
   "source": [
    "school_frm.info()\n",
    "school_frm.drop(['Unnamed: 0'], axis=1, inplace=True)"
   ]
  },
  {
   "cell_type": "code",
   "execution_count": null,
   "id": "669c997a",
   "metadata": {},
   "outputs": [],
   "source": [
    "print ('01. 데이터 전처리 - (지역, 코드 , 유형, 주야)') \n",
    "label_encoder = LabelEncoder()\n",
    "school_frm['지역'] = label_encoder.fit_transform(school_frm['지역'])\n",
    "school_frm['코드'] = label_encoder.fit_transform(school_frm['코드'])\n",
    "school_frm['유형'] = label_encoder.fit_transform(school_frm['유형'])\n",
    "school_frm['주야'] = label_encoder.fit_transform(school_frm['주야'])"
   ]
  },
  {
   "cell_type": "code",
   "execution_count": null,
   "id": "22dd4e94",
   "metadata": {},
   "outputs": [],
   "source": [
    "def feature_scaling(method='None' , input_data = None) :\n",
    "    if method == 'standard' :\n",
    "        return StandardScaler().fit_transform(input_data)\n",
    "    if method == 'minmax' :\n",
    "        return MinMaxScaler().fit_transform(input_data)"
   ]
  },
  {
   "cell_type": "code",
   "execution_count": null,
   "id": "2e5155e4",
   "metadata": {},
   "outputs": [],
   "source": [
    "print('02. 군집모형생성 - 분석에 사용할 피처는 과학고, 외고국제고, 자사고 진학률')\n",
    "\n",
    "school_data = school_frm[['과학고', '외고_국제고', '자사고']]\n",
    "school_data"
   ]
  },
  {
   "cell_type": "code",
   "execution_count": null,
   "id": "7f771aa1",
   "metadata": {},
   "outputs": [],
   "source": [
    "print('03. 표준화')\n",
    "school_scaler = feature_scaling(method='standard', input_data = school_data)\n",
    "school_scaler"
   ]
  },
  {
   "cell_type": "code",
   "execution_count": null,
   "id": "b1750479",
   "metadata": {
    "scrolled": true
   },
   "outputs": [],
   "source": [
    "print('04. 모형 객체 생성')\n",
    "print('군집모형 - ')\n",
    "kmeans = KMeans(n_clusters = 3)\n",
    "\n",
    "print('05. 모형 학습')\n",
    "kmeans.fit(school_scaler)\n",
    "\n",
    "print('06. 모형 예측')\n",
    "print('군집예측 - ')\n",
    "print(kmeans.labels_)"
   ]
  },
  {
   "cell_type": "code",
   "execution_count": null,
   "id": "9e82c0cd",
   "metadata": {},
   "outputs": [],
   "source": [
    "print('07. 예측 결과를 데이터 프레임에 추가')\n",
    "school_frm['cid'] = kmeans.labels_\n",
    "school_frm"
   ]
  },
  {
   "cell_type": "code",
   "execution_count": null,
   "id": "6854fcca",
   "metadata": {},
   "outputs": [],
   "source": [
    "print('08. 클러스터 값으로 그룹화, 그룹별 내용 출력')\n",
    "school_pca = PCA(n_components = 2) \n",
    "\n",
    "school_pca_trans  = school_pca.fit_transform(school_scaler)\n",
    "school_pca_trans"
   ]
  },
  {
   "cell_type": "code",
   "execution_count": null,
   "id": "122fc696",
   "metadata": {},
   "outputs": [],
   "source": [
    "school_frm['std_pca_x'] = school_pca_trans[ : , 0]\n",
    "school_frm['std_pca_y'] = school_pca_trans[ : , 1]\n",
    "school_frm"
   ]
  },
  {
   "cell_type": "code",
   "execution_count": null,
   "id": "427b0349",
   "metadata": {},
   "outputs": [],
   "source": []
  },
  {
   "cell_type": "code",
   "execution_count": null,
   "id": "c6cef3af",
   "metadata": {},
   "outputs": [],
   "source": [
    "school_kmeans = KMeans(n_clusters=3)\n",
    "school_kmeans.fit(school_frm.iloc[ : , -2 : ])"
   ]
  },
  {
   "cell_type": "code",
   "execution_count": null,
   "id": "60c4cdb9",
   "metadata": {},
   "outputs": [],
   "source": [
    "plt.figure(figsize=(20,10))\n",
    "\n",
    "plt.scatter(school_frm['std_pca_x'] , \n",
    "            school_frm['std_pca_y'] , \n",
    "            c = school_frm['cid'])\n",
    "\n",
    "plt.scatter(school_kmeans.cluster_centers_[ : , 0],\n",
    "            school_kmeans.cluster_centers_[ : , 1],\n",
    "            marker = '^', \n",
    "            c = ['r', 'b', 'y'], \n",
    "            s = 100)\n",
    "\n",
    "plt.show()\n",
    "plt.close()"
   ]
  },
  {
   "cell_type": "code",
   "execution_count": null,
   "id": "9008170d",
   "metadata": {},
   "outputs": [],
   "source": [
    "import folium\n",
    "school_frm['cid'].unique()"
   ]
  },
  {
   "cell_type": "code",
   "execution_count": null,
   "id": "30981baf",
   "metadata": {},
   "outputs": [],
   "source": [
    "print(\"09. 지도 그래프 시각화\")\n",
    "school_map = folium.Map(location=[37.56639984255284, 126.97796323615714],\n",
    "                        zoom_start = 12,\n",
    "                        tiles = 'cartodb positron') \n",
    "\n",
    "def cid_color(x):\n",
    "    if x == 0:\n",
    "            return folium.Icon(color = 'darkpurple')\n",
    "    if x == 1:\n",
    "            return folium.Icon(color = 'orange')\n",
    "    if x == 2:\n",
    "            return folium.Icon(color = 'pink')\n",
    "            \n",
    "\n",
    "for name, lat, lng, cid in zip(school_frm['학교명'], school_frm['위도'], school_frm['경도'], school_frm['cid']):\n",
    "    folium.Marker(\n",
    "        [lat, lng],\n",
    "        popup=name,\n",
    "        icon = cid_color(cid)\n",
    "    ).add_to(school_map)\n",
    "    \n",
    "school_map"
   ]
  },
  {
   "cell_type": "code",
   "execution_count": null,
   "id": "e85289a3",
   "metadata": {},
   "outputs": [],
   "source": [
    "개원,개포 핑크"
   ]
  },
  {
   "cell_type": "code",
   "execution_count": null,
   "id": "317340d1",
   "metadata": {},
   "outputs": [],
   "source": [
    "서울대학교 사범대학 부설중학교 주황"
   ]
  },
  {
   "cell_type": "code",
   "execution_count": null,
   "id": "dbcef45b",
   "metadata": {},
   "outputs": [],
   "source": []
  },
  {
   "cell_type": "code",
   "execution_count": null,
   "id": "c5c11fda",
   "metadata": {},
   "outputs": [],
   "source": []
  },
  {
   "cell_type": "code",
   "execution_count": null,
   "id": "e6427de3",
   "metadata": {},
   "outputs": [],
   "source": []
  }
 ],
 "metadata": {
  "kernelspec": {
   "display_name": "Python 3 (ipykernel)",
   "language": "python",
   "name": "python3"
  },
  "language_info": {
   "codemirror_mode": {
    "name": "ipython",
    "version": 3
   },
   "file_extension": ".py",
   "mimetype": "text/x-python",
   "name": "python",
   "nbconvert_exporter": "python",
   "pygments_lexer": "ipython3",
   "version": "3.9.7"
  }
 },
 "nbformat": 4,
 "nbformat_minor": 5
}
