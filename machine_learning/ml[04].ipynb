{
 "cells": [
  {
   "cell_type": "code",
   "execution_count": 30,
   "id": "05ae38cb",
   "metadata": {},
   "outputs": [
    {
     "name": "stdout",
     "output_type": "stream",
     "text": [
      "numpy  version -  1.20.3\n",
      "pandas version -  1.3.4\n",
      "sklearn version -  0.24.2\n"
     ]
    }
   ],
   "source": [
    "import numpy  as np\n",
    "import pandas as pd\n",
    "\n",
    "print('numpy  version - ' , np.__version__) \n",
    "print('pandas version - ' , pd.__version__) \n",
    "\n",
    "from   io import StringIO\n",
    "import missingno as msno\n",
    "# ml\n",
    "import sklearn\n",
    "from   sklearn.datasets import load_iris, load_breast_cancer\n",
    "\n",
    "print('sklearn version - ' , sklearn.__version__)\n",
    "\n",
    "from sklearn.model_selection import train_test_split, KFold , StratifiedKFold , cross_val_score, cross_validate, GridSearchCV \n",
    "from sklearn.tree            import DecisionTreeClassifier\n",
    "from sklearn.ensemble        import RandomForestClassifier         \n",
    "from sklearn.linear_model    import LogisticRegression, LinearRegression\n",
    "\n",
    "\n",
    "from sklearn.metrics         import accuracy_score, recall_score, precision_score, f1_score, confusion_matrix, make_scorer, precision_recall_curve\n",
    "from sklearn.impute          import SimpleImputer\n",
    "\n",
    "from sklearn.preprocessing   import LabelEncoder, OneHotEncoder, StandardScaler, MinMaxScaler\n",
    "\n",
    "from IPython.display import Image\n",
    "\n",
    "import matplotlib.pyplot as plt\n",
    "%matplotlib inline\n",
    "\n",
    "import seaborn as sns"
   ]
  },
  {
   "cell_type": "markdown",
   "id": "4731736b",
   "metadata": {},
   "source": [
    "## Regression(회귀)\n",
    "- 회귀란 종속변수(target)와 하나이상의 독립변수(feature)간의 관계를 모델링하는 선형 또는 비성현 접근법\n",
    "- 예측(분류가 아닌)이고 예측을 위해서는 종속변수의 타입은 연속된 숫자이여야 한다.\n",
    "- 회귀분석은 데이터 값이 평균과 같은 일정한 값으로 돌아가려는 경향을 이용한 통계학 기법이다.\n",
    "- Y = (w * x) + b     \n",
    "- cost(w, b) - 업데이트를 통해서 예측값과 실제값의 차이를 계산\n",
    "- w : weight, b : bias\n",
    "- 회귀계수 : coefficients -> 독립변수가 종속변수에 미치는 영향의 강도\n",
    "- 회귀유형 : 독립변수가 1개이면  단일회귀 - 선형회귀\n",
    "- 회귀유형 : 독립변수가 여러개이면  다중회귀 - 비선형회귀"
   ]
  },
  {
   "cell_type": "code",
   "execution_count": 21,
   "id": "b6f56064",
   "metadata": {},
   "outputs": [
    {
     "name": "stdout",
     "output_type": "stream",
     "text": [
      "단일회귀 - \n"
     ]
    },
    {
     "data": {
      "text/html": [
       "<div>\n",
       "<style scoped>\n",
       "    .dataframe tbody tr th:only-of-type {\n",
       "        vertical-align: middle;\n",
       "    }\n",
       "\n",
       "    .dataframe tbody tr th {\n",
       "        vertical-align: top;\n",
       "    }\n",
       "\n",
       "    .dataframe thead th {\n",
       "        text-align: right;\n",
       "    }\n",
       "</style>\n",
       "<table border=\"1\" class=\"dataframe\">\n",
       "  <thead>\n",
       "    <tr style=\"text-align: right;\">\n",
       "      <th></th>\n",
       "      <th>height</th>\n",
       "      <th>mass</th>\n",
       "    </tr>\n",
       "  </thead>\n",
       "  <tbody>\n",
       "    <tr>\n",
       "      <th>0</th>\n",
       "      <td>1.47</td>\n",
       "      <td>52.21</td>\n",
       "    </tr>\n",
       "    <tr>\n",
       "      <th>1</th>\n",
       "      <td>1.50</td>\n",
       "      <td>53.12</td>\n",
       "    </tr>\n",
       "    <tr>\n",
       "      <th>2</th>\n",
       "      <td>1.52</td>\n",
       "      <td>54.35</td>\n",
       "    </tr>\n",
       "    <tr>\n",
       "      <th>3</th>\n",
       "      <td>1.57</td>\n",
       "      <td>55.53</td>\n",
       "    </tr>\n",
       "    <tr>\n",
       "      <th>4</th>\n",
       "      <td>1.60</td>\n",
       "      <td>56.33</td>\n",
       "    </tr>\n",
       "    <tr>\n",
       "      <th>5</th>\n",
       "      <td>1.63</td>\n",
       "      <td>57.78</td>\n",
       "    </tr>\n",
       "    <tr>\n",
       "      <th>6</th>\n",
       "      <td>1.66</td>\n",
       "      <td>58.12</td>\n",
       "    </tr>\n",
       "    <tr>\n",
       "      <th>7</th>\n",
       "      <td>1.70</td>\n",
       "      <td>59.36</td>\n",
       "    </tr>\n",
       "    <tr>\n",
       "      <th>8</th>\n",
       "      <td>1.75</td>\n",
       "      <td>60.50</td>\n",
       "    </tr>\n",
       "    <tr>\n",
       "      <th>9</th>\n",
       "      <td>1.78</td>\n",
       "      <td>61.34</td>\n",
       "    </tr>\n",
       "    <tr>\n",
       "      <th>10</th>\n",
       "      <td>1.82</td>\n",
       "      <td>63.12</td>\n",
       "    </tr>\n",
       "  </tbody>\n",
       "</table>\n",
       "</div>"
      ],
      "text/plain": [
       "    height   mass\n",
       "0     1.47  52.21\n",
       "1     1.50  53.12\n",
       "2     1.52  54.35\n",
       "3     1.57  55.53\n",
       "4     1.60  56.33\n",
       "5     1.63  57.78\n",
       "6     1.66  58.12\n",
       "7     1.70  59.36\n",
       "8     1.75  60.50\n",
       "9     1.78  61.34\n",
       "10    1.82  63.12"
      ]
     },
     "execution_count": 21,
     "metadata": {},
     "output_type": "execute_result"
    }
   ],
   "source": [
    "print('단일회귀 - ')\n",
    "frm = pd.DataFrame({\n",
    "    \"height\" : [1.47, 1.50, 1.52, 1.57, 1.60, 1.63, 1.66, 1.70, 1.75, 1.78, 1.82],\n",
    "    \"mass\"   : [52.21, 53.12, 54.35, 55.53, 56.33, 57.78, 58.12, 59.36, 60.5, 61.34, 63.12]\n",
    "})\n",
    "frm"
   ]
  },
  {
   "cell_type": "code",
   "execution_count": 22,
   "id": "e0a037d2",
   "metadata": {},
   "outputs": [
    {
     "name": "stdout",
     "output_type": "stream",
     "text": [
      "독립변수 또는 설명변수 - \n",
      "type -  <class 'pandas.core.frame.DataFrame'> (11, 1)\n"
     ]
    }
   ],
   "source": [
    "print(\"독립변수 또는 설명변수 - \")\n",
    "print('type - ',type(frm[['height']]), frm[['height']].shape)\n",
    "x = frm[['height']]"
   ]
  },
  {
   "cell_type": "code",
   "execution_count": 23,
   "id": "9c75a32c",
   "metadata": {},
   "outputs": [
    {
     "name": "stdout",
     "output_type": "stream",
     "text": [
      "종속변수 - \n",
      "type -  <class 'pandas.core.frame.DataFrame'> (11, 1)\n"
     ]
    }
   ],
   "source": [
    "print(\"종속변수 - \")\n",
    "print('type - ',type(frm[['mass']]), frm[['mass']].shape)\n",
    "y = frm[['mass']]"
   ]
  },
  {
   "cell_type": "code",
   "execution_count": 28,
   "id": "d22db62c",
   "metadata": {},
   "outputs": [
    {
     "data": {
      "image/png": "[encoded data removed]",
      "text/plain": [
       "<Figure size 1080x360 with 1 Axes>"
      ]
     },
     "metadata": {
      "needs_background": "light"
     },
     "output_type": "display_data"
    }
   ],
   "source": [
    "plt.figure(figsize=(15,5))\n",
    "\n",
    "plt.plot(x,y,'o')\n",
    "\n",
    "plt.show()\n",
    "plt.close()"
   ]
  },
  {
   "cell_type": "code",
   "execution_count": 27,
   "id": "6177cf0d",
   "metadata": {},
   "outputs": [
    {
     "data": {
      "image/png": "[encoded data removed]",
      "text/plain": [
       "<Figure size 360x360 with 6 Axes>"
      ]
     },
     "metadata": {
      "needs_background": "light"
     },
     "output_type": "display_data"
    }
   ],
   "source": [
    "sns.pairplot(frm)\n",
    "plt.show()\n",
    "plt.close()"
   ]
  },
  {
   "cell_type": "code",
   "execution_count": 32,
   "id": "3954d49e",
   "metadata": {},
   "outputs": [
    {
     "data": {
      "text/plain": [
       "LinearRegression()"
      ]
     },
     "execution_count": 32,
     "metadata": {},
     "output_type": "execute_result"
    }
   ],
   "source": [
    "linear_model = LinearRegression()\n",
    "linear_model.fit(x,y)"
   ]
  },
  {
   "cell_type": "code",
   "execution_count": 35,
   "id": "44fabbcd",
   "metadata": {},
   "outputs": [
    {
     "name": "stdout",
     "output_type": "stream",
     "text": [
      "사용자 데이터를 입력하여 예측값을 확인 - \n",
      "user pred -  [[61.98511905]]\n",
      "y_pred -  [[52.50321429]\n",
      " [53.39214286]\n",
      " [53.9847619 ]\n",
      " [55.46630952]\n",
      " [56.3552381 ]\n",
      " [57.24416667]\n",
      " [58.13309524]\n",
      " [59.31833333]\n",
      " [60.79988095]\n",
      " [61.68880952]\n",
      " [62.87404762]]\n"
     ]
    }
   ],
   "source": [
    "print('사용자 데이터를 입력하여 예측값을 확인 - ')\n",
    "user_pred = linear_model.predict([[1.79]])\n",
    "print('user pred - ',user_pred)\n",
    "y_pred = linear_model.predict(x)\n",
    "print('y_pred - ',y_pred)"
   ]
  },
  {
   "cell_type": "code",
   "execution_count": 45,
   "id": "57497436",
   "metadata": {},
   "outputs": [
    {
     "name": "stdout",
     "output_type": "stream",
     "text": [
      "w = 기울기 :  [[29.63095238]]\n",
      "\n",
      "b = 절편   :  [8.94571429]\n"
     ]
    }
   ],
   "source": [
    "print(\"w = 기울기 : \",linear_model.coef_)\n",
    "print()\n",
    "print(\"b = 절편   : \",linear_model.intercept_)"
   ]
  },
  {
   "cell_type": "code",
   "execution_count": 46,
   "id": "7bd6d691",
   "metadata": {},
   "outputs": [
    {
     "data": {
      "text/plain": [
       "61.9851190502"
      ]
     },
     "execution_count": 46,
     "metadata": {},
     "output_type": "execute_result"
    }
   ],
   "source": [
    "(29.63095238 * 1.79) + 8.94571429  #위에 1.79 = user pred - [[61.98511905]]"
   ]
  },
  {
   "cell_type": "code",
   "execution_count": 47,
   "id": "41abe5d1",
   "metadata": {},
   "outputs": [
    {
     "name": "stdout",
     "output_type": "stream",
     "text": [
      "R - squared(결정계수) - \n",
      "\n",
      "R -  0.9929305685984781\n"
     ]
    }
   ],
   "source": [
    "print(\"R - squared(결정계수) - \")\n",
    "print()\n",
    "print(\"R - \", linear_model.score(x,y))"
   ]
  },
  {
   "cell_type": "code",
   "execution_count": 49,
   "id": "df123bb9",
   "metadata": {},
   "outputs": [
    {
     "data": {
      "image/png": "[encoded data removed]",
      "text/plain": [
       "<Figure size 1080x360 with 1 Axes>"
      ]
     },
     "metadata": {
      "needs_background": "light"
     },
     "output_type": "display_data"
    }
   ],
   "source": [
    "plt.figure(figsize=(15,5))\n",
    "\n",
    "plt.plot(x,y,'o')\n",
    "plt.plot(x,y_pred)\n",
    "\n",
    "plt.show()\n",
    "plt.close()"
   ]
  },
  {
   "cell_type": "code",
   "execution_count": 55,
   "id": "ba4c296d",
   "metadata": {},
   "outputs": [
    {
     "name": "stdout",
     "output_type": "stream",
     "text": [
      "<class 'pandas.core.frame.DataFrame'>\n",
      "RangeIndex: 398 entries, 0 to 397\n",
      "Data columns (total 9 columns):\n",
      " #   Column        Non-Null Count  Dtype  \n",
      "---  ------        --------------  -----  \n",
      " 0   mpg           398 non-null    float64\n",
      " 1   cylinders     398 non-null    int64  \n",
      " 2   displacement  398 non-null    float64\n",
      " 3   horsepower    398 non-null    object \n",
      " 4   weight        398 non-null    float64\n",
      " 5   acc           398 non-null    float64\n",
      " 6   model year    398 non-null    int64  \n",
      " 7   orgin         398 non-null    int64  \n",
      " 8   name          398 non-null    object \n",
      "dtypes: float64(4), int64(3), object(2)\n",
      "memory usage: 28.1+ KB\n"
     ]
    }
   ],
   "source": [
    "mpg_frm = pd.read_csv('./data/auto-mpg.csv', header=None)\n",
    "mpg_frm.columns = ['mpg', 'cylinders', 'displacement', 'horsepower','weight', 'acc','model year', 'orgin', 'name']\n",
    "mpg_frm.info()"
   ]
  },
  {
   "cell_type": "code",
   "execution_count": 56,
   "id": "54fe27a5",
   "metadata": {},
   "outputs": [
    {
     "data": {
      "text/html": [
       "<div>\n",
       "<style scoped>\n",
       "    .dataframe tbody tr th:only-of-type {\n",
       "        vertical-align: middle;\n",
       "    }\n",
       "\n",
       "    .dataframe tbody tr th {\n",
       "        vertical-align: top;\n",
       "    }\n",
       "\n",
       "    .dataframe thead th {\n",
       "        text-align: right;\n",
       "    }\n",
       "</style>\n",
       "<table border=\"1\" class=\"dataframe\">\n",
       "  <thead>\n",
       "    <tr style=\"text-align: right;\">\n",
       "      <th></th>\n",
       "      <th>mpg</th>\n",
       "      <th>cylinders</th>\n",
       "      <th>displacement</th>\n",
       "      <th>weight</th>\n",
       "      <th>acc</th>\n",
       "      <th>model year</th>\n",
       "      <th>orgin</th>\n",
       "    </tr>\n",
       "  </thead>\n",
       "  <tbody>\n",
       "    <tr>\n",
       "      <th>count</th>\n",
       "      <td>398.000000</td>\n",
       "      <td>398.000000</td>\n",
       "      <td>398.000000</td>\n",
       "      <td>398.000000</td>\n",
       "      <td>398.000000</td>\n",
       "      <td>398.000000</td>\n",
       "      <td>398.000000</td>\n",
       "    </tr>\n",
       "    <tr>\n",
       "      <th>mean</th>\n",
       "      <td>23.514573</td>\n",
       "      <td>5.454774</td>\n",
       "      <td>193.425879</td>\n",
       "      <td>2970.424623</td>\n",
       "      <td>15.568090</td>\n",
       "      <td>76.010050</td>\n",
       "      <td>1.572864</td>\n",
       "    </tr>\n",
       "    <tr>\n",
       "      <th>std</th>\n",
       "      <td>7.815984</td>\n",
       "      <td>1.701004</td>\n",
       "      <td>104.269838</td>\n",
       "      <td>846.841774</td>\n",
       "      <td>2.757689</td>\n",
       "      <td>3.697627</td>\n",
       "      <td>0.802055</td>\n",
       "    </tr>\n",
       "    <tr>\n",
       "      <th>min</th>\n",
       "      <td>9.000000</td>\n",
       "      <td>3.000000</td>\n",
       "      <td>68.000000</td>\n",
       "      <td>1613.000000</td>\n",
       "      <td>8.000000</td>\n",
       "      <td>70.000000</td>\n",
       "      <td>1.000000</td>\n",
       "    </tr>\n",
       "    <tr>\n",
       "      <th>25%</th>\n",
       "      <td>17.500000</td>\n",
       "      <td>4.000000</td>\n",
       "      <td>104.250000</td>\n",
       "      <td>2223.750000</td>\n",
       "      <td>13.825000</td>\n",
       "      <td>73.000000</td>\n",
       "      <td>1.000000</td>\n",
       "    </tr>\n",
       "    <tr>\n",
       "      <th>50%</th>\n",
       "      <td>23.000000</td>\n",
       "      <td>4.000000</td>\n",
       "      <td>148.500000</td>\n",
       "      <td>2803.500000</td>\n",
       "      <td>15.500000</td>\n",
       "      <td>76.000000</td>\n",
       "      <td>1.000000</td>\n",
       "    </tr>\n",
       "    <tr>\n",
       "      <th>75%</th>\n",
       "      <td>29.000000</td>\n",
       "      <td>8.000000</td>\n",
       "      <td>262.000000</td>\n",
       "      <td>3608.000000</td>\n",
       "      <td>17.175000</td>\n",
       "      <td>79.000000</td>\n",
       "      <td>2.000000</td>\n",
       "    </tr>\n",
       "    <tr>\n",
       "      <th>max</th>\n",
       "      <td>46.600000</td>\n",
       "      <td>8.000000</td>\n",
       "      <td>455.000000</td>\n",
       "      <td>5140.000000</td>\n",
       "      <td>24.800000</td>\n",
       "      <td>82.000000</td>\n",
       "      <td>3.000000</td>\n",
       "    </tr>\n",
       "  </tbody>\n",
       "</table>\n",
       "</div>"
      ],
      "text/plain": [
       "              mpg   cylinders  displacement       weight         acc  \\\n",
       "count  398.000000  398.000000    398.000000   398.000000  398.000000   \n",
       "mean    23.514573    5.454774    193.425879  2970.424623   15.568090   \n",
       "std      7.815984    1.701004    104.269838   846.841774    2.757689   \n",
       "min      9.000000    3.000000     68.000000  1613.000000    8.000000   \n",
       "25%     17.500000    4.000000    104.250000  2223.750000   13.825000   \n",
       "50%     23.000000    4.000000    148.500000  2803.500000   15.500000   \n",
       "75%     29.000000    8.000000    262.000000  3608.000000   17.175000   \n",
       "max     46.600000    8.000000    455.000000  5140.000000   24.800000   \n",
       "\n",
       "       model year       orgin  \n",
       "count  398.000000  398.000000  \n",
       "mean    76.010050    1.572864  \n",
       "std      3.697627    0.802055  \n",
       "min     70.000000    1.000000  \n",
       "25%     73.000000    1.000000  \n",
       "50%     76.000000    1.000000  \n",
       "75%     79.000000    2.000000  \n",
       "max     82.000000    3.000000  "
      ]
     },
     "execution_count": 56,
     "metadata": {},
     "output_type": "execute_result"
    }
   ],
   "source": [
    "mpg_frm.describe()"
   ]
  },
  {
   "cell_type": "code",
   "execution_count": 58,
   "id": "365ce24f",
   "metadata": {},
   "outputs": [
    {
     "data": {
      "text/plain": [
       "array(['130.0', '165.0', '150.0', '140.0', '198.0', '220.0', '215.0',\n",
       "       '225.0', '190.0', '170.0', '160.0', '95.00', '97.00', '85.00',\n",
       "       '88.00', '46.00', '87.00', '90.00', '113.0', '200.0', '210.0',\n",
       "       '193.0', '?', '100.0', '105.0', '175.0', '153.0', '180.0', '110.0',\n",
       "       '72.00', '86.00', '70.00', '76.00', '65.00', '69.00', '60.00',\n",
       "       '80.00', '54.00', '208.0', '155.0', '112.0', '92.00', '145.0',\n",
       "       '137.0', '158.0', '167.0', '94.00', '107.0', '230.0', '49.00',\n",
       "       '75.00', '91.00', '122.0', '67.00', '83.00', '78.00', '52.00',\n",
       "       '61.00', '93.00', '148.0', '129.0', '96.00', '71.00', '98.00',\n",
       "       '115.0', '53.00', '81.00', '79.00', '120.0', '152.0', '102.0',\n",
       "       '108.0', '68.00', '58.00', '149.0', '89.00', '63.00', '48.00',\n",
       "       '66.00', '139.0', '103.0', '125.0', '133.0', '138.0', '135.0',\n",
       "       '142.0', '77.00', '62.00', '132.0', '84.00', '64.00', '74.00',\n",
       "       '116.0', '82.00'], dtype=object)"
      ]
     },
     "execution_count": 58,
     "metadata": {},
     "output_type": "execute_result"
    }
   ],
   "source": [
    "mpg_frm['horsepower'].unique()"
   ]
  },
  {
   "cell_type": "code",
   "execution_count": 59,
   "id": "8d6994f9",
   "metadata": {},
   "outputs": [],
   "source": [
    "mpg_frm['horsepower'].replace('?',np.NaN, inplace=True)"
   ]
  },
  {
   "cell_type": "code",
   "execution_count": 61,
   "id": "92c90faf",
   "metadata": {},
   "outputs": [
    {
     "data": {
      "text/plain": [
       "array(['130.0', '165.0', '150.0', '140.0', '198.0', '220.0', '215.0',\n",
       "       '225.0', '190.0', '170.0', '160.0', '95.00', '97.00', '85.00',\n",
       "       '88.00', '46.00', '87.00', '90.00', '113.0', '200.0', '210.0',\n",
       "       '193.0', nan, '100.0', '105.0', '175.0', '153.0', '180.0', '110.0',\n",
       "       '72.00', '86.00', '70.00', '76.00', '65.00', '69.00', '60.00',\n",
       "       '80.00', '54.00', '208.0', '155.0', '112.0', '92.00', '145.0',\n",
       "       '137.0', '158.0', '167.0', '94.00', '107.0', '230.0', '49.00',\n",
       "       '75.00', '91.00', '122.0', '67.00', '83.00', '78.00', '52.00',\n",
       "       '61.00', '93.00', '148.0', '129.0', '96.00', '71.00', '98.00',\n",
       "       '115.0', '53.00', '81.00', '79.00', '120.0', '152.0', '102.0',\n",
       "       '108.0', '68.00', '58.00', '149.0', '89.00', '63.00', '48.00',\n",
       "       '66.00', '139.0', '103.0', '125.0', '133.0', '138.0', '135.0',\n",
       "       '142.0', '77.00', '62.00', '132.0', '84.00', '64.00', '74.00',\n",
       "       '116.0', '82.00'], dtype=object)"
      ]
     },
     "execution_count": 61,
     "metadata": {},
     "output_type": "execute_result"
    }
   ],
   "source": [
    "mpg_frm['horsepower'].unique() # ? -> nan"
   ]
  },
  {
   "cell_type": "code",
   "execution_count": 62,
   "id": "db4a3bc9",
   "metadata": {},
   "outputs": [],
   "source": [
    "mpg_frm.dropna(subset=['horsepower'], axis = 0, inplace = True)"
   ]
  },
  {
   "cell_type": "code",
   "execution_count": 63,
   "id": "79337e48",
   "metadata": {},
   "outputs": [
    {
     "data": {
      "text/plain": [
       "array(['130.0', '165.0', '150.0', '140.0', '198.0', '220.0', '215.0',\n",
       "       '225.0', '190.0', '170.0', '160.0', '95.00', '97.00', '85.00',\n",
       "       '88.00', '46.00', '87.00', '90.00', '113.0', '200.0', '210.0',\n",
       "       '193.0', '100.0', '105.0', '175.0', '153.0', '180.0', '110.0',\n",
       "       '72.00', '86.00', '70.00', '76.00', '65.00', '69.00', '60.00',\n",
       "       '80.00', '54.00', '208.0', '155.0', '112.0', '92.00', '145.0',\n",
       "       '137.0', '158.0', '167.0', '94.00', '107.0', '230.0', '49.00',\n",
       "       '75.00', '91.00', '122.0', '67.00', '83.00', '78.00', '52.00',\n",
       "       '61.00', '93.00', '148.0', '129.0', '96.00', '71.00', '98.00',\n",
       "       '115.0', '53.00', '81.00', '79.00', '120.0', '152.0', '102.0',\n",
       "       '108.0', '68.00', '58.00', '149.0', '89.00', '63.00', '48.00',\n",
       "       '66.00', '139.0', '103.0', '125.0', '133.0', '138.0', '135.0',\n",
       "       '142.0', '77.00', '62.00', '132.0', '84.00', '64.00', '74.00',\n",
       "       '116.0', '82.00'], dtype=object)"
      ]
     },
     "execution_count": 63,
     "metadata": {},
     "output_type": "execute_result"
    }
   ],
   "source": [
    "mpg_frm['horsepower'].unique()"
   ]
  },
  {
   "cell_type": "code",
   "execution_count": 65,
   "id": "e6fbfe6a",
   "metadata": {},
   "outputs": [
    {
     "data": {
      "text/plain": [
       "array([130., 165., 150., 140., 198., 220., 215., 225., 190., 170., 160.,\n",
       "        95.,  97.,  85.,  88.,  46.,  87.,  90., 113., 200., 210., 193.,\n",
       "       100., 105., 175., 153., 180., 110.,  72.,  86.,  70.,  76.,  65.,\n",
       "        69.,  60.,  80.,  54., 208., 155., 112.,  92., 145., 137., 158.,\n",
       "       167.,  94., 107., 230.,  49.,  75.,  91., 122.,  67.,  83.,  78.,\n",
       "        52.,  61.,  93., 148., 129.,  96.,  71.,  98., 115.,  53.,  81.,\n",
       "        79., 120., 152., 102., 108.,  68.,  58., 149.,  89.,  63.,  48.,\n",
       "        66., 139., 103., 125., 133., 138., 135., 142.,  77.,  62., 132.,\n",
       "        84.,  64.,  74., 116.,  82.])"
      ]
     },
     "execution_count": 65,
     "metadata": {},
     "output_type": "execute_result"
    }
   ],
   "source": [
    "mpg_frm['horsepower'] = mpg_frm['horsepower'].astype('float')\n",
    "mpg_frm['horsepower'].unique()"
   ]
  },
  {
   "cell_type": "code",
   "execution_count": 66,
   "id": "35e524d0",
   "metadata": {},
   "outputs": [
    {
     "name": "stdout",
     "output_type": "stream",
     "text": [
      "다중회귀 - \n"
     ]
    },
    {
     "data": {
      "text/html": [
       "<div>\n",
       "<style scoped>\n",
       "    .dataframe tbody tr th:only-of-type {\n",
       "        vertical-align: middle;\n",
       "    }\n",
       "\n",
       "    .dataframe tbody tr th {\n",
       "        vertical-align: top;\n",
       "    }\n",
       "\n",
       "    .dataframe thead th {\n",
       "        text-align: right;\n",
       "    }\n",
       "</style>\n",
       "<table border=\"1\" class=\"dataframe\">\n",
       "  <thead>\n",
       "    <tr style=\"text-align: right;\">\n",
       "      <th></th>\n",
       "      <th>mpg</th>\n",
       "      <th>cylinders</th>\n",
       "      <th>horsepower</th>\n",
       "      <th>weight</th>\n",
       "    </tr>\n",
       "  </thead>\n",
       "  <tbody>\n",
       "    <tr>\n",
       "      <th>0</th>\n",
       "      <td>18.0</td>\n",
       "      <td>8</td>\n",
       "      <td>130.0</td>\n",
       "      <td>3504.0</td>\n",
       "    </tr>\n",
       "    <tr>\n",
       "      <th>1</th>\n",
       "      <td>15.0</td>\n",
       "      <td>8</td>\n",
       "      <td>165.0</td>\n",
       "      <td>3693.0</td>\n",
       "    </tr>\n",
       "    <tr>\n",
       "      <th>2</th>\n",
       "      <td>18.0</td>\n",
       "      <td>8</td>\n",
       "      <td>150.0</td>\n",
       "      <td>3436.0</td>\n",
       "    </tr>\n",
       "    <tr>\n",
       "      <th>3</th>\n",
       "      <td>16.0</td>\n",
       "      <td>8</td>\n",
       "      <td>150.0</td>\n",
       "      <td>3433.0</td>\n",
       "    </tr>\n",
       "    <tr>\n",
       "      <th>4</th>\n",
       "      <td>17.0</td>\n",
       "      <td>8</td>\n",
       "      <td>140.0</td>\n",
       "      <td>3449.0</td>\n",
       "    </tr>\n",
       "    <tr>\n",
       "      <th>...</th>\n",
       "      <td>...</td>\n",
       "      <td>...</td>\n",
       "      <td>...</td>\n",
       "      <td>...</td>\n",
       "    </tr>\n",
       "    <tr>\n",
       "      <th>393</th>\n",
       "      <td>27.0</td>\n",
       "      <td>4</td>\n",
       "      <td>86.0</td>\n",
       "      <td>2790.0</td>\n",
       "    </tr>\n",
       "    <tr>\n",
       "      <th>394</th>\n",
       "      <td>44.0</td>\n",
       "      <td>4</td>\n",
       "      <td>52.0</td>\n",
       "      <td>2130.0</td>\n",
       "    </tr>\n",
       "    <tr>\n",
       "      <th>395</th>\n",
       "      <td>32.0</td>\n",
       "      <td>4</td>\n",
       "      <td>84.0</td>\n",
       "      <td>2295.0</td>\n",
       "    </tr>\n",
       "    <tr>\n",
       "      <th>396</th>\n",
       "      <td>28.0</td>\n",
       "      <td>4</td>\n",
       "      <td>79.0</td>\n",
       "      <td>2625.0</td>\n",
       "    </tr>\n",
       "    <tr>\n",
       "      <th>397</th>\n",
       "      <td>31.0</td>\n",
       "      <td>4</td>\n",
       "      <td>82.0</td>\n",
       "      <td>2720.0</td>\n",
       "    </tr>\n",
       "  </tbody>\n",
       "</table>\n",
       "<p>392 rows × 4 columns</p>\n",
       "</div>"
      ],
      "text/plain": [
       "      mpg  cylinders  horsepower  weight\n",
       "0    18.0          8       130.0  3504.0\n",
       "1    15.0          8       165.0  3693.0\n",
       "2    18.0          8       150.0  3436.0\n",
       "3    16.0          8       150.0  3433.0\n",
       "4    17.0          8       140.0  3449.0\n",
       "..    ...        ...         ...     ...\n",
       "393  27.0          4        86.0  2790.0\n",
       "394  44.0          4        52.0  2130.0\n",
       "395  32.0          4        84.0  2295.0\n",
       "396  28.0          4        79.0  2625.0\n",
       "397  31.0          4        82.0  2720.0\n",
       "\n",
       "[392 rows x 4 columns]"
      ]
     },
     "execution_count": 66,
     "metadata": {},
     "output_type": "execute_result"
    }
   ],
   "source": [
    "print('다중회귀 - ')\n",
    "mpg_subset_frm = mpg_frm[['mpg', 'cylinders', 'horsepower','weight']]\n",
    "mpg_subset_frm"
   ]
  },
  {
   "cell_type": "code",
   "execution_count": 67,
   "id": "24ff8358",
   "metadata": {},
   "outputs": [
    {
     "data": {
      "image/png": "[encoded data removed]",
      "text/plain": [
       "<Figure size 720x720 with 20 Axes>"
      ]
     },
     "metadata": {
      "needs_background": "light"
     },
     "output_type": "display_data"
    }
   ],
   "source": [
    "sns.pairplot(mpg_subset_frm)\n",
    "plt.show()\n",
    "plt.close()"
   ]
  },
  {
   "cell_type": "code",
   "execution_count": 68,
   "id": "8badd062",
   "metadata": {},
   "outputs": [
    {
     "name": "stdout",
     "output_type": "stream",
     "text": [
      "종속변수 독립변수 분리 - \n",
      "종속변수 - \n",
      "독립변수 - \n"
     ]
    }
   ],
   "source": [
    "print('종속변수 독립변수 분리 - ')\n",
    "print('종속변수 - ')\n",
    "y = mpg_subset_frm['mpg']\n",
    "print('독립변수 - ')\n",
    "x = mpg_subset_frm[['cylinders', 'horsepower','weight']]"
   ]
  },
  {
   "cell_type": "code",
   "execution_count": 69,
   "id": "eb2a2af5",
   "metadata": {},
   "outputs": [
    {
     "data": {
      "text/plain": [
       "((313, 3), (79, 3), (313,), (79,))"
      ]
     },
     "execution_count": 69,
     "metadata": {},
     "output_type": "execute_result"
    }
   ],
   "source": [
    "x_train, x_test ,y_train, y_test = train_test_split(x, y,\n",
    "                                                    test_size=0.2,\n",
    "                                                    random_state=111)\n",
    "x_train.shape, x_test.shape ,y_train.shape, y_test.shape"
   ]
  },
  {
   "cell_type": "code",
   "execution_count": 70,
   "id": "74388c19",
   "metadata": {},
   "outputs": [
    {
     "data": {
      "text/plain": [
       "LinearRegression()"
      ]
     },
     "execution_count": 70,
     "metadata": {},
     "output_type": "execute_result"
    }
   ],
   "source": [
    "mpg_linear_model = LinearRegression()\n",
    "mpg_linear_model.fit(x_train, y_train)\n",
    "print(\"w = 기울기 : \",mpg_linear_model.coef_)\n",
    "\n",
    "\n",
    "print(\"모델의 신뢰도  - score)\n",
    "r_squared = mpg_linear_model.score(x_test , y_test)\n",
    "print(r_squared)\n",
    "      \n",
    "print(\"예측\")\n",
    "y_pred = mpg_linear_model.score(x_test , y_test)\n",
    "print(y_pred)    \n",
    "      \n"
   ]
  },
  {
   "cell_type": "code",
   "execution_count": null,
   "id": "4c65cc91",
   "metadata": {},
   "outputs": [],
   "source": []
  }
 ],
 "metadata": {
  "kernelspec": {
   "display_name": "Python 3 (ipykernel)",
   "language": "python",
   "name": "python3"
  },
  "language_info": {
   "codemirror_mode": {
    "name": "ipython",
    "version": 3
   },
   "file_extension": ".py",
   "mimetype": "text/x-python",
   "name": "python",
   "nbconvert_exporter": "python",
   "pygments_lexer": "ipython3",
   "version": "3.9.7"
  }
 },
 "nbformat": 4,
 "nbformat_minor": 5
}
