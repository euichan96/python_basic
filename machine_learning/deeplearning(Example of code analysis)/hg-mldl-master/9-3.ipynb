{
 "cells": [
  {
   "cell_type": "markdown",
   "metadata": {
    "id": "AlaMdWF26k2H"
   },
   "source": [
    "# LSTM과 GRU 셀"
   ]
  },
  {
   "cell_type": "markdown",
   "metadata": {
    "id": "o_Csb7v96k2M"
   },
   "source": [
    "<table align=\"left\">\n",
    "  <td>\n",
    "    <a target=\"_blank\" href=\"https://colab.research.google.com/github/rickiepark/hg-mldl/blob/master/9-3.ipynb\"><img src=\"https://www.tensorflow.org/images/colab_logo_32px.png\" />구글 코랩에서 실행하기</a>\n",
    "  </td>\n",
    "</table>"
   ]
  },
  {
   "cell_type": "markdown",
   "metadata": {
    "id": "KWi9yl0q6k2N"
   },
   "source": [
    "## LSTM 신경망 훈련하기"
   ]
  },
  {
   "cell_type": "code",
   "execution_count": 1,
   "metadata": {
    "colab": {
     "base_uri": "https://localhost:8080/"
    },
    "execution": {
     "iopub.execute_input": "2022-01-08T06:32:03.992822Z",
     "iopub.status.busy": "2022-01-08T06:32:03.992104Z",
     "iopub.status.idle": "2022-01-08T06:32:10.411204Z",
     "shell.execute_reply": "2022-01-08T06:32:10.410270Z"
    },
    "id": "XL7x0NCx6k2N",
    "outputId": "d5c9f55e-6a51-49b7-e739-d2242adddcae"
   },
   "outputs": [],
   "source": [
    "from tensorflow.keras.datasets import imdb\n",
    "from sklearn.model_selection import train_test_split\n",
    "\n",
    "(train_input, train_target), (test_input, test_target) = imdb.load_data(\n",
    "    num_words=500)\n",
    "\n",
    "train_input, val_input, train_target, val_target = train_test_split(\n",
    "    train_input, train_target, test_size=0.2, random_state=42)"
   ]
  },
  {
   "cell_type": "code",
   "execution_count": 2,
   "metadata": {
    "execution": {
     "iopub.execute_input": "2022-01-08T06:32:10.420589Z",
     "iopub.status.busy": "2022-01-08T06:32:10.416057Z",
     "iopub.status.idle": "2022-01-08T06:32:10.617660Z",
     "shell.execute_reply": "2022-01-08T06:32:10.618191Z"
    },
    "id": "5bjJ14QJ6k2O"
   },
   "outputs": [],
   "source": [
    "from tensorflow.keras.preprocessing.sequence import pad_sequences\n",
    "\n",
    "train_seq = pad_sequences(train_input, maxlen=100)\n",
    "val_seq = pad_sequences(val_input, maxlen=100)"
   ]
  },
  {
   "cell_type": "code",
   "execution_count": 3,
   "metadata": {
    "colab": {
     "base_uri": "https://localhost:8080/"
    },
    "execution": {
     "iopub.execute_input": "2022-01-08T06:32:10.645231Z",
     "iopub.status.busy": "2022-01-08T06:32:10.623014Z",
     "iopub.status.idle": "2022-01-08T06:32:10.923445Z",
     "shell.execute_reply": "2022-01-08T06:32:10.922126Z"
    },
    "id": "uMlTD4zv6k2O",
    "outputId": "dc7c0080-f72c-4032-caf4-1a8e63202989"
   },
   "outputs": [
    {
     "name": "stderr",
     "output_type": "stream",
     "text": [
      "2022-01-08 06:32:10.646756: I tensorflow/core/platform/cpu_feature_guard.cc:151] This TensorFlow binary is optimized with oneAPI Deep Neural Network Library (oneDNN) to use the following CPU instructions in performance-critical operations:  AVX2 FMA\n",
      "To enable them in other operations, rebuild TensorFlow with the appropriate compiler flags.\n"
     ]
    },
    {
     "name": "stdout",
     "output_type": "stream",
     "text": [
      "Model: \"sequential\"\n",
      "_________________________________________________________________\n",
      " Layer (type)                Output Shape              Param #   \n",
      "=================================================================\n",
      " embedding (Embedding)       (None, 100, 16)           8000      \n",
      "                                                                 \n",
      " lstm (LSTM)                 (None, 8)                 800       \n",
      "                                                                 \n",
      " dense (Dense)               (None, 1)                 9         \n",
      "                                                                 \n",
      "=================================================================\n",
      "Total params: 8,809\n",
      "Trainable params: 8,809\n",
      "Non-trainable params: 0\n",
      "_________________________________________________________________\n"
     ]
    }
   ],
   "source": [
    "from tensorflow import keras\n",
    "\n",
    "model = keras.Sequential()\n",
    "\n",
    "model.add(keras.layers.Embedding(500, 16, input_length=100))\n",
    "model.add(keras.layers.LSTM(8))\n",
    "model.add(keras.layers.Dense(1, activation='sigmoid'))\n",
    "\n",
    "model.summary()"
   ]
  },
  {
   "cell_type": "code",
   "execution_count": 4,
   "metadata": {
    "colab": {
     "base_uri": "https://localhost:8080/"
    },
    "execution": {
     "iopub.execute_input": "2022-01-08T06:32:10.933595Z",
     "iopub.status.busy": "2022-01-08T06:32:10.926955Z",
     "iopub.status.idle": "2022-01-08T06:40:41.719394Z",
     "shell.execute_reply": "2022-01-08T06:40:41.718536Z"
    },
    "id": "nCmqOkjI6k2P",
    "outputId": "5057828c-5f90-48a5-fafa-c31f7407cc4c"
   },
   "outputs": [
    {
     "name": "stdout",
     "output_type": "stream",
     "text": [
      "Epoch 1/100\n",
      "313/313 [==============================] - 14s 40ms/step - loss: 0.6923 - accuracy: 0.5464 - val_loss: 0.6913 - val_accuracy: 0.5820\n",
      "Epoch 2/100\n",
      "313/313 [==============================] - 12s 38ms/step - loss: 0.6897 - accuracy: 0.6051 - val_loss: 0.6879 - val_accuracy: 0.6180\n",
      "Epoch 3/100\n",
      "313/313 [==============================] - 12s 38ms/step - loss: 0.6836 - accuracy: 0.6439 - val_loss: 0.6787 - val_accuracy: 0.6432\n",
      "Epoch 4/100\n",
      "313/313 [==============================] - 12s 38ms/step - loss: 0.6595 - accuracy: 0.6526 - val_loss: 0.6346 - val_accuracy: 0.6884\n",
      "Epoch 5/100\n",
      "313/313 [==============================] - 12s 38ms/step - loss: 0.5967 - accuracy: 0.7280 - val_loss: 0.5802 - val_accuracy: 0.7412\n",
      "Epoch 6/100\n",
      "313/313 [==============================] - 12s 39ms/step - loss: 0.5594 - accuracy: 0.7525 - val_loss: 0.5513 - val_accuracy: 0.7428\n",
      "Epoch 7/100\n",
      "313/313 [==============================] - 12s 38ms/step - loss: 0.5335 - accuracy: 0.7606 - val_loss: 0.5271 - val_accuracy: 0.7570\n",
      "Epoch 8/100\n",
      "313/313 [==============================] - 12s 39ms/step - loss: 0.5118 - accuracy: 0.7707 - val_loss: 0.5102 - val_accuracy: 0.7680\n",
      "Epoch 9/100\n",
      "313/313 [==============================] - 12s 39ms/step - loss: 0.4951 - accuracy: 0.7802 - val_loss: 0.4954 - val_accuracy: 0.7762\n",
      "Epoch 10/100\n",
      "313/313 [==============================] - 12s 39ms/step - loss: 0.4815 - accuracy: 0.7869 - val_loss: 0.4878 - val_accuracy: 0.7748\n",
      "Epoch 11/100\n",
      "313/313 [==============================] - 12s 38ms/step - loss: 0.4711 - accuracy: 0.7928 - val_loss: 0.4798 - val_accuracy: 0.7798\n",
      "Epoch 12/100\n",
      "313/313 [==============================] - 12s 38ms/step - loss: 0.4621 - accuracy: 0.7979 - val_loss: 0.4730 - val_accuracy: 0.7820\n",
      "Epoch 13/100\n",
      "313/313 [==============================] - 12s 39ms/step - loss: 0.4550 - accuracy: 0.8009 - val_loss: 0.4659 - val_accuracy: 0.7894\n",
      "Epoch 14/100\n",
      "313/313 [==============================] - 12s 39ms/step - loss: 0.4492 - accuracy: 0.8030 - val_loss: 0.4614 - val_accuracy: 0.7908\n",
      "Epoch 15/100\n",
      "313/313 [==============================] - 12s 40ms/step - loss: 0.4440 - accuracy: 0.8044 - val_loss: 0.4593 - val_accuracy: 0.7902\n",
      "Epoch 16/100\n",
      "313/313 [==============================] - 12s 39ms/step - loss: 0.4394 - accuracy: 0.8051 - val_loss: 0.4562 - val_accuracy: 0.7922\n",
      "Epoch 17/100\n",
      "313/313 [==============================] - 12s 38ms/step - loss: 0.4362 - accuracy: 0.8058 - val_loss: 0.4526 - val_accuracy: 0.7926\n",
      "Epoch 18/100\n",
      "313/313 [==============================] - 12s 39ms/step - loss: 0.4329 - accuracy: 0.8089 - val_loss: 0.4514 - val_accuracy: 0.7932\n",
      "Epoch 19/100\n",
      "313/313 [==============================] - 12s 40ms/step - loss: 0.4300 - accuracy: 0.8113 - val_loss: 0.4481 - val_accuracy: 0.7966\n",
      "Epoch 20/100\n",
      "313/313 [==============================] - 12s 39ms/step - loss: 0.4275 - accuracy: 0.8101 - val_loss: 0.4462 - val_accuracy: 0.7970\n",
      "Epoch 21/100\n",
      "313/313 [==============================] - 12s 38ms/step - loss: 0.4252 - accuracy: 0.8125 - val_loss: 0.4450 - val_accuracy: 0.7988\n",
      "Epoch 22/100\n",
      "313/313 [==============================] - 12s 38ms/step - loss: 0.4233 - accuracy: 0.8137 - val_loss: 0.4504 - val_accuracy: 0.7868\n",
      "Epoch 23/100\n",
      "313/313 [==============================] - 12s 37ms/step - loss: 0.4222 - accuracy: 0.8131 - val_loss: 0.4435 - val_accuracy: 0.7992\n",
      "Epoch 24/100\n",
      "313/313 [==============================] - 12s 37ms/step - loss: 0.4201 - accuracy: 0.8131 - val_loss: 0.4431 - val_accuracy: 0.7958\n",
      "Epoch 25/100\n",
      "313/313 [==============================] - 11s 37ms/step - loss: 0.4194 - accuracy: 0.8145 - val_loss: 0.4410 - val_accuracy: 0.7990\n",
      "Epoch 26/100\n",
      "313/313 [==============================] - 12s 37ms/step - loss: 0.4178 - accuracy: 0.8151 - val_loss: 0.4409 - val_accuracy: 0.7972\n",
      "Epoch 27/100\n",
      "313/313 [==============================] - 11s 37ms/step - loss: 0.4170 - accuracy: 0.8141 - val_loss: 0.4379 - val_accuracy: 0.7998\n",
      "Epoch 28/100\n",
      "313/313 [==============================] - 12s 37ms/step - loss: 0.4155 - accuracy: 0.8145 - val_loss: 0.4372 - val_accuracy: 0.8000\n",
      "Epoch 29/100\n",
      "313/313 [==============================] - 11s 36ms/step - loss: 0.4150 - accuracy: 0.8159 - val_loss: 0.4401 - val_accuracy: 0.7956\n",
      "Epoch 30/100\n",
      "313/313 [==============================] - 12s 37ms/step - loss: 0.4141 - accuracy: 0.8159 - val_loss: 0.4375 - val_accuracy: 0.8002\n",
      "Epoch 31/100\n",
      "313/313 [==============================] - 12s 37ms/step - loss: 0.4132 - accuracy: 0.8156 - val_loss: 0.4351 - val_accuracy: 0.8012\n",
      "Epoch 32/100\n",
      "313/313 [==============================] - 12s 37ms/step - loss: 0.4126 - accuracy: 0.8141 - val_loss: 0.4366 - val_accuracy: 0.7992\n",
      "Epoch 33/100\n",
      "313/313 [==============================] - 12s 38ms/step - loss: 0.4118 - accuracy: 0.8160 - val_loss: 0.4348 - val_accuracy: 0.7976\n",
      "Epoch 34/100\n",
      "313/313 [==============================] - 11s 37ms/step - loss: 0.4109 - accuracy: 0.8159 - val_loss: 0.4340 - val_accuracy: 0.7996\n",
      "Epoch 35/100\n",
      "313/313 [==============================] - 12s 37ms/step - loss: 0.4103 - accuracy: 0.8155 - val_loss: 0.4332 - val_accuracy: 0.8018\n",
      "Epoch 36/100\n",
      "313/313 [==============================] - 12s 38ms/step - loss: 0.4097 - accuracy: 0.8161 - val_loss: 0.4345 - val_accuracy: 0.7992\n",
      "Epoch 37/100\n",
      "313/313 [==============================] - 11s 36ms/step - loss: 0.4091 - accuracy: 0.8157 - val_loss: 0.4329 - val_accuracy: 0.8030\n",
      "Epoch 38/100\n",
      "313/313 [==============================] - 11s 37ms/step - loss: 0.4086 - accuracy: 0.8143 - val_loss: 0.4317 - val_accuracy: 0.8046\n",
      "Epoch 39/100\n",
      "313/313 [==============================] - 12s 37ms/step - loss: 0.4080 - accuracy: 0.8161 - val_loss: 0.4343 - val_accuracy: 0.8002\n",
      "Epoch 40/100\n",
      "313/313 [==============================] - 12s 37ms/step - loss: 0.4077 - accuracy: 0.8164 - val_loss: 0.4311 - val_accuracy: 0.8030\n",
      "Epoch 41/100\n",
      "313/313 [==============================] - 12s 37ms/step - loss: 0.4070 - accuracy: 0.8160 - val_loss: 0.4311 - val_accuracy: 0.8022\n",
      "Epoch 42/100\n",
      "313/313 [==============================] - 12s 37ms/step - loss: 0.4062 - accuracy: 0.8181 - val_loss: 0.4340 - val_accuracy: 0.8010\n",
      "Epoch 43/100\n",
      "313/313 [==============================] - 11s 37ms/step - loss: 0.4058 - accuracy: 0.8163 - val_loss: 0.4321 - val_accuracy: 0.8032\n"
     ]
    }
   ],
   "source": [
    "rmsprop = keras.optimizers.RMSprop(learning_rate=1e-4)\n",
    "model.compile(optimizer=rmsprop, loss='binary_crossentropy', \n",
    "              metrics=['accuracy'])\n",
    "\n",
    "checkpoint_cb = keras.callbacks.ModelCheckpoint('best-lstm-model.h5', \n",
    "                                                save_best_only=True)\n",
    "early_stopping_cb = keras.callbacks.EarlyStopping(patience=3,\n",
    "                                                  restore_best_weights=True)\n",
    "\n",
    "history = model.fit(train_seq, train_target, epochs=100, batch_size=64,\n",
    "                    validation_data=(val_seq, val_target),\n",
    "                    callbacks=[checkpoint_cb, early_stopping_cb])"
   ]
  },
  {
   "cell_type": "code",
   "execution_count": 5,
   "metadata": {
    "colab": {
     "base_uri": "https://localhost:8080/",
     "height": 279
    },
    "execution": {
     "iopub.execute_input": "2022-01-08T06:40:41.727198Z",
     "iopub.status.busy": "2022-01-08T06:40:41.724610Z",
     "iopub.status.idle": "2022-01-08T06:40:42.690300Z",
     "shell.execute_reply": "2022-01-08T06:40:42.689672Z"
    },
    "id": "Xl1bliNr6k2Q",
    "outputId": "4e6792a9-2118-4498-a4cb-f0b39d1609c0"
   },
   "outputs": [
    {
     "data": {
      "image/png": "[encoded data removed]",
      "text/plain": [
       "<Figure size 432x288 with 1 Axes>"
      ]
     },
     "metadata": {
      "needs_background": "light"
     },
     "output_type": "display_data"
    }
   ],
   "source": [
    "import matplotlib.pyplot as plt\n",
    "\n",
    "plt.plot(history.history['loss'])\n",
    "plt.plot(history.history['val_loss'])\n",
    "plt.xlabel('epoch')\n",
    "plt.ylabel('loss')\n",
    "plt.legend(['train', 'val'])\n",
    "plt.show()"
   ]
  },
  {
   "cell_type": "markdown",
   "metadata": {
    "id": "ob79h7Kc6k2Q"
   },
   "source": [
    "## 순환 층에 드롭아웃 적용하기"
   ]
  },
  {
   "cell_type": "code",
   "execution_count": 6,
   "metadata": {
    "execution": {
     "iopub.execute_input": "2022-01-08T06:40:42.697123Z",
     "iopub.status.busy": "2022-01-08T06:40:42.696482Z",
     "iopub.status.idle": "2022-01-08T06:40:42.919396Z",
     "shell.execute_reply": "2022-01-08T06:40:42.918675Z"
    },
    "id": "Fr0DUR-Y6k2R"
   },
   "outputs": [],
   "source": [
    "model2 = keras.Sequential()\n",
    "\n",
    "model2.add(keras.layers.Embedding(500, 16, input_length=100))\n",
    "model2.add(keras.layers.LSTM(8, dropout=0.3))\n",
    "model2.add(keras.layers.Dense(1, activation='sigmoid'))"
   ]
  },
  {
   "cell_type": "code",
   "execution_count": 7,
   "metadata": {
    "colab": {
     "base_uri": "https://localhost:8080/"
    },
    "execution": {
     "iopub.execute_input": "2022-01-08T06:40:42.932923Z",
     "iopub.status.busy": "2022-01-08T06:40:42.932101Z",
     "iopub.status.idle": "2022-01-08T06:50:43.260633Z",
     "shell.execute_reply": "2022-01-08T06:50:43.259967Z"
    },
    "id": "Ap8XxUO46k2R",
    "outputId": "5953909f-5c48-43e9-b321-8b5f3ed0d52a"
   },
   "outputs": [
    {
     "name": "stdout",
     "output_type": "stream",
     "text": [
      "Epoch 1/100\n",
      "313/313 [==============================] - 14s 40ms/step - loss: 0.6923 - accuracy: 0.5468 - val_loss: 0.6912 - val_accuracy: 0.6046\n",
      "Epoch 2/100\n",
      "313/313 [==============================] - 12s 39ms/step - loss: 0.6893 - accuracy: 0.6141 - val_loss: 0.6861 - val_accuracy: 0.6644\n",
      "Epoch 3/100\n",
      "313/313 [==============================] - 12s 39ms/step - loss: 0.6778 - accuracy: 0.6650 - val_loss: 0.6600 - val_accuracy: 0.7026\n",
      "Epoch 4/100\n",
      "313/313 [==============================] - 12s 40ms/step - loss: 0.6167 - accuracy: 0.7024 - val_loss: 0.5843 - val_accuracy: 0.7162\n",
      "Epoch 5/100\n",
      "313/313 [==============================] - 12s 38ms/step - loss: 0.5748 - accuracy: 0.7236 - val_loss: 0.5587 - val_accuracy: 0.7398\n",
      "Epoch 6/100\n",
      "313/313 [==============================] - 12s 38ms/step - loss: 0.5519 - accuracy: 0.7398 - val_loss: 0.5390 - val_accuracy: 0.7512\n",
      "Epoch 7/100\n",
      "313/313 [==============================] - 12s 39ms/step - loss: 0.5328 - accuracy: 0.7549 - val_loss: 0.5242 - val_accuracy: 0.7600\n",
      "Epoch 8/100\n",
      "313/313 [==============================] - 12s 38ms/step - loss: 0.5149 - accuracy: 0.7667 - val_loss: 0.5069 - val_accuracy: 0.7700\n",
      "Epoch 9/100\n",
      "313/313 [==============================] - 12s 38ms/step - loss: 0.5009 - accuracy: 0.7742 - val_loss: 0.4946 - val_accuracy: 0.7752\n",
      "Epoch 10/100\n",
      "313/313 [==============================] - 12s 38ms/step - loss: 0.4864 - accuracy: 0.7821 - val_loss: 0.4829 - val_accuracy: 0.7856\n",
      "Epoch 11/100\n",
      "313/313 [==============================] - 12s 39ms/step - loss: 0.4760 - accuracy: 0.7872 - val_loss: 0.4737 - val_accuracy: 0.7888\n",
      "Epoch 12/100\n",
      "313/313 [==============================] - 12s 39ms/step - loss: 0.4687 - accuracy: 0.7908 - val_loss: 0.4678 - val_accuracy: 0.7920\n",
      "Epoch 13/100\n",
      "313/313 [==============================] - 12s 39ms/step - loss: 0.4614 - accuracy: 0.7932 - val_loss: 0.4614 - val_accuracy: 0.7926\n",
      "Epoch 14/100\n",
      "313/313 [==============================] - 12s 39ms/step - loss: 0.4532 - accuracy: 0.7986 - val_loss: 0.4565 - val_accuracy: 0.7960\n",
      "Epoch 15/100\n",
      "313/313 [==============================] - 12s 39ms/step - loss: 0.4500 - accuracy: 0.7990 - val_loss: 0.4525 - val_accuracy: 0.7962\n",
      "Epoch 16/100\n",
      "313/313 [==============================] - 12s 39ms/step - loss: 0.4452 - accuracy: 0.8020 - val_loss: 0.4492 - val_accuracy: 0.7972\n",
      "Epoch 17/100\n",
      "313/313 [==============================] - 12s 39ms/step - loss: 0.4396 - accuracy: 0.8044 - val_loss: 0.4472 - val_accuracy: 0.7958\n",
      "Epoch 18/100\n",
      "313/313 [==============================] - 12s 39ms/step - loss: 0.4375 - accuracy: 0.8030 - val_loss: 0.4446 - val_accuracy: 0.7956\n",
      "Epoch 19/100\n",
      "313/313 [==============================] - 12s 38ms/step - loss: 0.4337 - accuracy: 0.8031 - val_loss: 0.4418 - val_accuracy: 0.7978\n",
      "Epoch 20/100\n",
      "313/313 [==============================] - 12s 38ms/step - loss: 0.4321 - accuracy: 0.8047 - val_loss: 0.4393 - val_accuracy: 0.7980\n",
      "Epoch 21/100\n",
      "313/313 [==============================] - 12s 39ms/step - loss: 0.4291 - accuracy: 0.8060 - val_loss: 0.4380 - val_accuracy: 0.8000\n",
      "Epoch 22/100\n",
      "313/313 [==============================] - 12s 40ms/step - loss: 0.4271 - accuracy: 0.8070 - val_loss: 0.4371 - val_accuracy: 0.7998\n",
      "Epoch 23/100\n",
      "313/313 [==============================] - 13s 41ms/step - loss: 0.4259 - accuracy: 0.8073 - val_loss: 0.4362 - val_accuracy: 0.7980\n",
      "Epoch 24/100\n",
      "313/313 [==============================] - 12s 39ms/step - loss: 0.4224 - accuracy: 0.8070 - val_loss: 0.4375 - val_accuracy: 0.8000\n",
      "Epoch 25/100\n",
      "313/313 [==============================] - 12s 40ms/step - loss: 0.4246 - accuracy: 0.8066 - val_loss: 0.4349 - val_accuracy: 0.7956\n",
      "Epoch 26/100\n",
      "313/313 [==============================] - 12s 40ms/step - loss: 0.4210 - accuracy: 0.8064 - val_loss: 0.4326 - val_accuracy: 0.8000\n",
      "Epoch 27/100\n",
      "313/313 [==============================] - 12s 39ms/step - loss: 0.4206 - accuracy: 0.8078 - val_loss: 0.4317 - val_accuracy: 0.7990\n",
      "Epoch 28/100\n",
      "313/313 [==============================] - 12s 39ms/step - loss: 0.4181 - accuracy: 0.8079 - val_loss: 0.4303 - val_accuracy: 0.8018\n",
      "Epoch 29/100\n",
      "313/313 [==============================] - 12s 39ms/step - loss: 0.4175 - accuracy: 0.8092 - val_loss: 0.4305 - val_accuracy: 0.8002\n",
      "Epoch 30/100\n",
      "313/313 [==============================] - 12s 39ms/step - loss: 0.4177 - accuracy: 0.8090 - val_loss: 0.4308 - val_accuracy: 0.7994\n",
      "Epoch 31/100\n",
      "313/313 [==============================] - 12s 39ms/step - loss: 0.4167 - accuracy: 0.8101 - val_loss: 0.4293 - val_accuracy: 0.8024\n",
      "Epoch 32/100\n",
      "313/313 [==============================] - 12s 39ms/step - loss: 0.4154 - accuracy: 0.8103 - val_loss: 0.4291 - val_accuracy: 0.8008\n",
      "Epoch 33/100\n",
      "313/313 [==============================] - 12s 40ms/step - loss: 0.4151 - accuracy: 0.8100 - val_loss: 0.4284 - val_accuracy: 0.7996\n",
      "Epoch 34/100\n",
      "313/313 [==============================] - 12s 40ms/step - loss: 0.4123 - accuracy: 0.8101 - val_loss: 0.4273 - val_accuracy: 0.8018\n",
      "Epoch 35/100\n",
      "313/313 [==============================] - 12s 39ms/step - loss: 0.4136 - accuracy: 0.8080 - val_loss: 0.4279 - val_accuracy: 0.8024\n",
      "Epoch 36/100\n",
      "313/313 [==============================] - 12s 39ms/step - loss: 0.4097 - accuracy: 0.8151 - val_loss: 0.4269 - val_accuracy: 0.8026\n",
      "Epoch 37/100\n",
      "313/313 [==============================] - 12s 39ms/step - loss: 0.4115 - accuracy: 0.8140 - val_loss: 0.4269 - val_accuracy: 0.8036\n",
      "Epoch 38/100\n",
      "313/313 [==============================] - 12s 39ms/step - loss: 0.4099 - accuracy: 0.8120 - val_loss: 0.4264 - val_accuracy: 0.8032\n",
      "Epoch 39/100\n",
      "313/313 [==============================] - 12s 39ms/step - loss: 0.4106 - accuracy: 0.8127 - val_loss: 0.4260 - val_accuracy: 0.8022\n",
      "Epoch 40/100\n",
      "313/313 [==============================] - 12s 39ms/step - loss: 0.4088 - accuracy: 0.8118 - val_loss: 0.4295 - val_accuracy: 0.8014\n",
      "Epoch 41/100\n",
      "313/313 [==============================] - 12s 39ms/step - loss: 0.4067 - accuracy: 0.8151 - val_loss: 0.4257 - val_accuracy: 0.8040\n",
      "Epoch 42/100\n",
      "313/313 [==============================] - 12s 39ms/step - loss: 0.4067 - accuracy: 0.8128 - val_loss: 0.4268 - val_accuracy: 0.8020\n",
      "Epoch 43/100\n",
      "313/313 [==============================] - 12s 38ms/step - loss: 0.4059 - accuracy: 0.8141 - val_loss: 0.4253 - val_accuracy: 0.8030\n",
      "Epoch 44/100\n",
      "313/313 [==============================] - 12s 39ms/step - loss: 0.4054 - accuracy: 0.8151 - val_loss: 0.4307 - val_accuracy: 0.8014\n",
      "Epoch 45/100\n",
      "313/313 [==============================] - 12s 39ms/step - loss: 0.4047 - accuracy: 0.8163 - val_loss: 0.4252 - val_accuracy: 0.8034\n",
      "Epoch 46/100\n",
      "313/313 [==============================] - 12s 39ms/step - loss: 0.4062 - accuracy: 0.8130 - val_loss: 0.4247 - val_accuracy: 0.8044\n",
      "Epoch 47/100\n",
      "313/313 [==============================] - 12s 40ms/step - loss: 0.4056 - accuracy: 0.8134 - val_loss: 0.4255 - val_accuracy: 0.8012\n",
      "Epoch 48/100\n",
      "313/313 [==============================] - 12s 39ms/step - loss: 0.4038 - accuracy: 0.8161 - val_loss: 0.4251 - val_accuracy: 0.8030\n",
      "Epoch 49/100\n",
      "313/313 [==============================] - 12s 38ms/step - loss: 0.4032 - accuracy: 0.8147 - val_loss: 0.4270 - val_accuracy: 0.8012\n"
     ]
    }
   ],
   "source": [
    "rmsprop = keras.optimizers.RMSprop(learning_rate=1e-4)\n",
    "model2.compile(optimizer=rmsprop, loss='binary_crossentropy', \n",
    "               metrics=['accuracy'])\n",
    "\n",
    "checkpoint_cb = keras.callbacks.ModelCheckpoint('best-dropout-model.h5', \n",
    "                                                save_best_only=True)\n",
    "early_stopping_cb = keras.callbacks.EarlyStopping(patience=3,\n",
    "                                                  restore_best_weights=True)\n",
    "\n",
    "history = model2.fit(train_seq, train_target, epochs=100, batch_size=64,\n",
    "                     validation_data=(val_seq, val_target),\n",
    "                     callbacks=[checkpoint_cb, early_stopping_cb])"
   ]
  },
  {
   "cell_type": "code",
   "execution_count": 8,
   "metadata": {
    "colab": {
     "base_uri": "https://localhost:8080/",
     "height": 279
    },
    "execution": {
     "iopub.execute_input": "2022-01-08T06:50:43.264141Z",
     "iopub.status.busy": "2022-01-08T06:50:43.263215Z",
     "iopub.status.idle": "2022-01-08T06:50:43.413447Z",
     "shell.execute_reply": "2022-01-08T06:50:43.412882Z"
    },
    "id": "Qzwsp3pl6k2R",
    "outputId": "97305973-3c11-4c55-c466-a608273094cb"
   },
   "outputs": [
    {
     "data": {
      "image/png": "[encoded data removed]",
      "text/plain": [
       "<Figure size 432x288 with 1 Axes>"
      ]
     },
     "metadata": {
      "needs_background": "light"
     },
     "output_type": "display_data"
    }
   ],
   "source": [
    "plt.plot(history.history['loss'])\n",
    "plt.plot(history.history['val_loss'])\n",
    "plt.xlabel('epoch')\n",
    "plt.ylabel('loss')\n",
    "plt.legend(['train', 'val'])\n",
    "plt.show()"
   ]
  },
  {
   "cell_type": "markdown",
   "metadata": {
    "id": "DKtQByM96k2S"
   },
   "source": [
    "## 2개의 층을 연결하기"
   ]
  },
  {
   "cell_type": "code",
   "execution_count": 9,
   "metadata": {
    "colab": {
     "base_uri": "https://localhost:8080/"
    },
    "execution": {
     "iopub.execute_input": "2022-01-08T06:50:43.420502Z",
     "iopub.status.busy": "2022-01-08T06:50:43.419839Z",
     "iopub.status.idle": "2022-01-08T06:50:43.869743Z",
     "shell.execute_reply": "2022-01-08T06:50:43.869180Z"
    },
    "id": "YkQboCpD6k2S",
    "outputId": "5f30a5ec-16a9-476a-95b6-3d55b36b64b4"
   },
   "outputs": [
    {
     "name": "stdout",
     "output_type": "stream",
     "text": [
      "Model: \"sequential_2\"\n",
      "_________________________________________________________________\n",
      " Layer (type)                Output Shape              Param #   \n",
      "=================================================================\n",
      " embedding_2 (Embedding)     (None, 100, 16)           8000      \n",
      "                                                                 \n",
      " lstm_2 (LSTM)               (None, 100, 8)            800       \n",
      "                                                                 \n",
      " lstm_3 (LSTM)               (None, 8)                 544       \n",
      "                                                                 \n",
      " dense_2 (Dense)             (None, 1)                 9         \n",
      "                                                                 \n",
      "=================================================================\n",
      "Total params: 9,353\n",
      "Trainable params: 9,353\n",
      "Non-trainable params: 0\n",
      "_________________________________________________________________\n"
     ]
    }
   ],
   "source": [
    "model3 = keras.Sequential()\n",
    "\n",
    "model3.add(keras.layers.Embedding(500, 16, input_length=100))\n",
    "model3.add(keras.layers.LSTM(8, dropout=0.3, return_sequences=True))\n",
    "model3.add(keras.layers.LSTM(8, dropout=0.3))\n",
    "model3.add(keras.layers.Dense(1, activation='sigmoid'))\n",
    "\n",
    "model3.summary()"
   ]
  },
  {
   "cell_type": "code",
   "execution_count": 10,
   "metadata": {
    "colab": {
     "base_uri": "https://localhost:8080/"
    },
    "execution": {
     "iopub.execute_input": "2022-01-08T06:50:43.878202Z",
     "iopub.status.busy": "2022-01-08T06:50:43.877451Z",
     "iopub.status.idle": "2022-01-08T07:03:47.427095Z",
     "shell.execute_reply": "2022-01-08T07:03:47.426473Z"
    },
    "id": "hDk_ffAo6k2S",
    "outputId": "f7439e48-073f-4124-b10e-dea60f18f69d"
   },
   "outputs": [
    {
     "name": "stdout",
     "output_type": "stream",
     "text": [
      "Epoch 1/100\n",
      "313/313 [==============================] - 28s 77ms/step - loss: 0.6926 - accuracy: 0.5441 - val_loss: 0.6918 - val_accuracy: 0.5796\n",
      "Epoch 2/100\n",
      "313/313 [==============================] - 23s 74ms/step - loss: 0.6892 - accuracy: 0.5978 - val_loss: 0.6856 - val_accuracy: 0.6170\n",
      "Epoch 3/100\n",
      "313/313 [==============================] - 23s 74ms/step - loss: 0.6687 - accuracy: 0.6461 - val_loss: 0.6383 - val_accuracy: 0.6836\n",
      "Epoch 4/100\n",
      "313/313 [==============================] - 23s 75ms/step - loss: 0.5917 - accuracy: 0.7092 - val_loss: 0.5636 - val_accuracy: 0.7230\n",
      "Epoch 5/100\n",
      "313/313 [==============================] - 23s 74ms/step - loss: 0.5468 - accuracy: 0.7393 - val_loss: 0.5349 - val_accuracy: 0.7456\n",
      "Epoch 6/100\n",
      "313/313 [==============================] - 23s 74ms/step - loss: 0.5279 - accuracy: 0.7466 - val_loss: 0.5159 - val_accuracy: 0.7574\n",
      "Epoch 7/100\n",
      "313/313 [==============================] - 23s 74ms/step - loss: 0.5141 - accuracy: 0.7578 - val_loss: 0.5025 - val_accuracy: 0.7664\n",
      "Epoch 8/100\n",
      "313/313 [==============================] - 23s 74ms/step - loss: 0.5008 - accuracy: 0.7646 - val_loss: 0.4909 - val_accuracy: 0.7710\n",
      "Epoch 9/100\n",
      "313/313 [==============================] - 23s 74ms/step - loss: 0.4883 - accuracy: 0.7752 - val_loss: 0.4842 - val_accuracy: 0.7712\n",
      "Epoch 10/100\n",
      "313/313 [==============================] - 23s 74ms/step - loss: 0.4805 - accuracy: 0.7796 - val_loss: 0.4771 - val_accuracy: 0.7754\n",
      "Epoch 11/100\n",
      "313/313 [==============================] - 24s 75ms/step - loss: 0.4765 - accuracy: 0.7801 - val_loss: 0.4715 - val_accuracy: 0.7790\n",
      "Epoch 12/100\n",
      "313/313 [==============================] - 23s 75ms/step - loss: 0.4695 - accuracy: 0.7842 - val_loss: 0.4669 - val_accuracy: 0.7820\n",
      "Epoch 13/100\n",
      "313/313 [==============================] - 23s 75ms/step - loss: 0.4669 - accuracy: 0.7847 - val_loss: 0.4630 - val_accuracy: 0.7806\n",
      "Epoch 14/100\n",
      "313/313 [==============================] - 24s 75ms/step - loss: 0.4611 - accuracy: 0.7886 - val_loss: 0.4592 - val_accuracy: 0.7860\n",
      "Epoch 15/100\n",
      "313/313 [==============================] - 23s 75ms/step - loss: 0.4568 - accuracy: 0.7914 - val_loss: 0.4588 - val_accuracy: 0.7836\n",
      "Epoch 16/100\n",
      "313/313 [==============================] - 24s 75ms/step - loss: 0.4529 - accuracy: 0.7910 - val_loss: 0.4577 - val_accuracy: 0.7874\n",
      "Epoch 17/100\n",
      "313/313 [==============================] - 24s 76ms/step - loss: 0.4515 - accuracy: 0.7948 - val_loss: 0.4532 - val_accuracy: 0.7862\n",
      "Epoch 18/100\n",
      "313/313 [==============================] - 24s 76ms/step - loss: 0.4478 - accuracy: 0.7952 - val_loss: 0.4547 - val_accuracy: 0.7864\n",
      "Epoch 19/100\n",
      "313/313 [==============================] - 24s 77ms/step - loss: 0.4446 - accuracy: 0.7961 - val_loss: 0.4495 - val_accuracy: 0.7898\n",
      "Epoch 20/100\n",
      "313/313 [==============================] - 24s 76ms/step - loss: 0.4428 - accuracy: 0.7980 - val_loss: 0.4476 - val_accuracy: 0.7930\n",
      "Epoch 21/100\n",
      "313/313 [==============================] - 24s 76ms/step - loss: 0.4400 - accuracy: 0.7995 - val_loss: 0.4460 - val_accuracy: 0.7920\n",
      "Epoch 22/100\n",
      "313/313 [==============================] - 24s 76ms/step - loss: 0.4410 - accuracy: 0.7964 - val_loss: 0.4503 - val_accuracy: 0.7884\n",
      "Epoch 23/100\n",
      "313/313 [==============================] - 24s 76ms/step - loss: 0.4366 - accuracy: 0.7993 - val_loss: 0.4510 - val_accuracy: 0.7910\n",
      "Epoch 24/100\n",
      "313/313 [==============================] - 24s 77ms/step - loss: 0.4344 - accuracy: 0.8027 - val_loss: 0.4420 - val_accuracy: 0.7968\n",
      "Epoch 25/100\n",
      "313/313 [==============================] - 24s 76ms/step - loss: 0.4340 - accuracy: 0.8012 - val_loss: 0.4416 - val_accuracy: 0.7940\n",
      "Epoch 26/100\n",
      "313/313 [==============================] - 25s 79ms/step - loss: 0.4312 - accuracy: 0.8019 - val_loss: 0.4392 - val_accuracy: 0.7984\n",
      "Epoch 27/100\n",
      "313/313 [==============================] - 24s 77ms/step - loss: 0.4297 - accuracy: 0.8025 - val_loss: 0.4383 - val_accuracy: 0.7978\n",
      "Epoch 28/100\n",
      "313/313 [==============================] - 24s 75ms/step - loss: 0.4290 - accuracy: 0.8045 - val_loss: 0.4390 - val_accuracy: 0.7994\n",
      "Epoch 29/100\n",
      "313/313 [==============================] - 23s 75ms/step - loss: 0.4289 - accuracy: 0.8032 - val_loss: 0.4376 - val_accuracy: 0.7978\n",
      "Epoch 30/100\n",
      "313/313 [==============================] - 23s 75ms/step - loss: 0.4292 - accuracy: 0.8036 - val_loss: 0.4352 - val_accuracy: 0.7990\n",
      "Epoch 31/100\n",
      "313/313 [==============================] - 24s 77ms/step - loss: 0.4261 - accuracy: 0.8038 - val_loss: 0.4410 - val_accuracy: 0.7980\n",
      "Epoch 32/100\n",
      "313/313 [==============================] - 24s 76ms/step - loss: 0.4236 - accuracy: 0.8076 - val_loss: 0.4353 - val_accuracy: 0.7992\n",
      "Epoch 33/100\n",
      "313/313 [==============================] - 24s 76ms/step - loss: 0.4239 - accuracy: 0.8050 - val_loss: 0.4371 - val_accuracy: 0.8000\n"
     ]
    }
   ],
   "source": [
    "rmsprop = keras.optimizers.RMSprop(learning_rate=1e-4)\n",
    "model3.compile(optimizer=rmsprop, loss='binary_crossentropy', \n",
    "               metrics=['accuracy'])\n",
    "\n",
    "checkpoint_cb = keras.callbacks.ModelCheckpoint('best-2rnn-model.h5', \n",
    "                                                save_best_only=True)\n",
    "early_stopping_cb = keras.callbacks.EarlyStopping(patience=3,\n",
    "                                                  restore_best_weights=True)\n",
    "\n",
    "history = model3.fit(train_seq, train_target, epochs=100, batch_size=64,\n",
    "                     validation_data=(val_seq, val_target),\n",
    "                     callbacks=[checkpoint_cb, early_stopping_cb])"
   ]
  },
  {
   "cell_type": "code",
   "execution_count": 11,
   "metadata": {
    "colab": {
     "base_uri": "https://localhost:8080/",
     "height": 279
    },
    "execution": {
     "iopub.execute_input": "2022-01-08T07:03:47.435131Z",
     "iopub.status.busy": "2022-01-08T07:03:47.434189Z",
     "iopub.status.idle": "2022-01-08T07:03:47.576747Z",
     "shell.execute_reply": "2022-01-08T07:03:47.577169Z"
    },
    "id": "1paBqczf6k2S",
    "outputId": "8dec69f9-2aa3-4b2f-f5c9-c0d2713ab4f6"
   },
   "outputs": [
    {
     "data": {
      "image/png": "[encoded data removed]",
      "text/plain": [
       "<Figure size 432x288 with 1 Axes>"
      ]
     },
     "metadata": {
      "needs_background": "light"
     },
     "output_type": "display_data"
    }
   ],
   "source": [
    "plt.plot(history.history['loss'])\n",
    "plt.plot(history.history['val_loss'])\n",
    "plt.xlabel('epoch')\n",
    "plt.ylabel('loss')\n",
    "plt.legend(['train', 'val'])\n",
    "plt.show()"
   ]
  },
  {
   "cell_type": "markdown",
   "metadata": {
    "id": "Jisn0P9h6k2T"
   },
   "source": [
    "## GRU 신경망 훈련하기"
   ]
  },
  {
   "cell_type": "code",
   "execution_count": 12,
   "metadata": {
    "colab": {
     "base_uri": "https://localhost:8080/"
    },
    "execution": {
     "iopub.execute_input": "2022-01-08T07:03:47.580725Z",
     "iopub.status.busy": "2022-01-08T07:03:47.580053Z",
     "iopub.status.idle": "2022-01-08T07:03:47.802422Z",
     "shell.execute_reply": "2022-01-08T07:03:47.802844Z"
    },
    "id": "dwYF578d6k2T",
    "outputId": "72677151-359c-4d9c-9fd0-026c778f4ad5"
   },
   "outputs": [
    {
     "name": "stdout",
     "output_type": "stream",
     "text": [
      "Model: \"sequential_3\"\n",
      "_________________________________________________________________\n",
      " Layer (type)                Output Shape              Param #   \n",
      "=================================================================\n",
      " embedding_3 (Embedding)     (None, 100, 16)           8000      \n",
      "                                                                 \n",
      " gru (GRU)                   (None, 8)                 624       \n",
      "                                                                 \n",
      " dense_3 (Dense)             (None, 1)                 9         \n",
      "                                                                 \n",
      "=================================================================\n",
      "Total params: 8,633\n",
      "Trainable params: 8,633\n",
      "Non-trainable params: 0\n",
      "_________________________________________________________________\n"
     ]
    }
   ],
   "source": [
    "model4 = keras.Sequential()\n",
    "\n",
    "model4.add(keras.layers.Embedding(500, 16, input_length=100))\n",
    "model4.add(keras.layers.GRU(8))\n",
    "model4.add(keras.layers.Dense(1, activation='sigmoid'))\n",
    "\n",
    "model4.summary()"
   ]
  },
  {
   "cell_type": "code",
   "execution_count": 13,
   "metadata": {
    "colab": {
     "base_uri": "https://localhost:8080/"
    },
    "execution": {
     "iopub.execute_input": "2022-01-08T07:03:47.818690Z",
     "iopub.status.busy": "2022-01-08T07:03:47.812276Z",
     "iopub.status.idle": "2022-01-08T07:10:35.067892Z",
     "shell.execute_reply": "2022-01-08T07:10:35.068361Z"
    },
    "id": "j2SfOZ3v6k2U",
    "outputId": "80bc83ae-1472-4c03-f372-92a6572e71b8"
   },
   "outputs": [
    {
     "name": "stdout",
     "output_type": "stream",
     "text": [
      "Epoch 1/100\n",
      "313/313 [==============================] - 16s 44ms/step - loss: 0.6920 - accuracy: 0.5408 - val_loss: 0.6912 - val_accuracy: 0.5474\n",
      "Epoch 2/100\n",
      "313/313 [==============================] - 13s 42ms/step - loss: 0.6895 - accuracy: 0.5738 - val_loss: 0.6884 - val_accuracy: 0.5764\n",
      "Epoch 3/100\n",
      "313/313 [==============================] - 13s 41ms/step - loss: 0.6856 - accuracy: 0.5958 - val_loss: 0.6839 - val_accuracy: 0.5886\n",
      "Epoch 4/100\n",
      "313/313 [==============================] - 13s 42ms/step - loss: 0.6794 - accuracy: 0.6119 - val_loss: 0.6771 - val_accuracy: 0.6008\n",
      "Epoch 5/100\n",
      "313/313 [==============================] - 13s 42ms/step - loss: 0.6703 - accuracy: 0.6244 - val_loss: 0.6668 - val_accuracy: 0.6166\n",
      "Epoch 6/100\n",
      "313/313 [==============================] - 13s 42ms/step - loss: 0.6564 - accuracy: 0.6421 - val_loss: 0.6508 - val_accuracy: 0.6352\n",
      "Epoch 7/100\n",
      "313/313 [==============================] - 13s 43ms/step - loss: 0.6350 - accuracy: 0.6601 - val_loss: 0.6252 - val_accuracy: 0.6624\n",
      "Epoch 8/100\n",
      "313/313 [==============================] - 13s 42ms/step - loss: 0.5990 - accuracy: 0.6892 - val_loss: 0.5800 - val_accuracy: 0.7088\n",
      "Epoch 9/100\n",
      "313/313 [==============================] - 13s 42ms/step - loss: 0.5439 - accuracy: 0.7344 - val_loss: 0.5377 - val_accuracy: 0.7320\n",
      "Epoch 10/100\n",
      "313/313 [==============================] - 13s 42ms/step - loss: 0.5151 - accuracy: 0.7558 - val_loss: 0.5232 - val_accuracy: 0.7430\n",
      "Epoch 11/100\n",
      "313/313 [==============================] - 13s 42ms/step - loss: 0.5008 - accuracy: 0.7656 - val_loss: 0.5108 - val_accuracy: 0.7556\n",
      "Epoch 12/100\n",
      "313/313 [==============================] - 13s 42ms/step - loss: 0.4892 - accuracy: 0.7703 - val_loss: 0.5009 - val_accuracy: 0.7636\n",
      "Epoch 13/100\n",
      "313/313 [==============================] - 13s 41ms/step - loss: 0.4788 - accuracy: 0.7796 - val_loss: 0.4948 - val_accuracy: 0.7660\n",
      "Epoch 14/100\n",
      "313/313 [==============================] - 13s 42ms/step - loss: 0.4706 - accuracy: 0.7839 - val_loss: 0.4862 - val_accuracy: 0.7758\n",
      "Epoch 15/100\n",
      "313/313 [==============================] - 13s 42ms/step - loss: 0.4628 - accuracy: 0.7889 - val_loss: 0.4807 - val_accuracy: 0.7794\n",
      "Epoch 16/100\n",
      "313/313 [==============================] - 13s 42ms/step - loss: 0.4558 - accuracy: 0.7936 - val_loss: 0.4796 - val_accuracy: 0.7706\n",
      "Epoch 17/100\n",
      "313/313 [==============================] - 13s 41ms/step - loss: 0.4508 - accuracy: 0.7966 - val_loss: 0.4728 - val_accuracy: 0.7872\n",
      "Epoch 18/100\n",
      "313/313 [==============================] - 13s 41ms/step - loss: 0.4465 - accuracy: 0.7990 - val_loss: 0.4688 - val_accuracy: 0.7870\n",
      "Epoch 19/100\n",
      "313/313 [==============================] - 13s 42ms/step - loss: 0.4426 - accuracy: 0.8016 - val_loss: 0.4663 - val_accuracy: 0.7856\n",
      "Epoch 20/100\n",
      "313/313 [==============================] - 13s 42ms/step - loss: 0.4389 - accuracy: 0.8028 - val_loss: 0.4625 - val_accuracy: 0.7884\n",
      "Epoch 21/100\n",
      "313/313 [==============================] - 13s 42ms/step - loss: 0.4362 - accuracy: 0.8045 - val_loss: 0.4628 - val_accuracy: 0.7868\n",
      "Epoch 22/100\n",
      "313/313 [==============================] - 13s 41ms/step - loss: 0.4337 - accuracy: 0.8067 - val_loss: 0.4582 - val_accuracy: 0.7900\n",
      "Epoch 23/100\n",
      "313/313 [==============================] - 13s 41ms/step - loss: 0.4311 - accuracy: 0.8084 - val_loss: 0.4573 - val_accuracy: 0.7914\n",
      "Epoch 24/100\n",
      "313/313 [==============================] - 13s 42ms/step - loss: 0.4296 - accuracy: 0.8099 - val_loss: 0.4554 - val_accuracy: 0.7918\n",
      "Epoch 25/100\n",
      "313/313 [==============================] - 13s 41ms/step - loss: 0.4274 - accuracy: 0.8116 - val_loss: 0.4569 - val_accuracy: 0.7872\n",
      "Epoch 26/100\n",
      "313/313 [==============================] - 13s 41ms/step - loss: 0.4260 - accuracy: 0.8116 - val_loss: 0.4552 - val_accuracy: 0.7908\n",
      "Epoch 27/100\n",
      "313/313 [==============================] - 13s 41ms/step - loss: 0.4249 - accuracy: 0.8109 - val_loss: 0.4595 - val_accuracy: 0.7868\n",
      "Epoch 28/100\n",
      "313/313 [==============================] - 13s 42ms/step - loss: 0.4236 - accuracy: 0.8144 - val_loss: 0.4511 - val_accuracy: 0.7908\n",
      "Epoch 29/100\n",
      "313/313 [==============================] - 13s 42ms/step - loss: 0.4227 - accuracy: 0.8134 - val_loss: 0.4534 - val_accuracy: 0.7872\n",
      "Epoch 30/100\n",
      "313/313 [==============================] - 13s 41ms/step - loss: 0.4220 - accuracy: 0.8130 - val_loss: 0.4513 - val_accuracy: 0.7920\n",
      "Epoch 31/100\n",
      "313/313 [==============================] - 13s 41ms/step - loss: 0.4205 - accuracy: 0.8154 - val_loss: 0.4520 - val_accuracy: 0.7910\n"
     ]
    }
   ],
   "source": [
    "rmsprop = keras.optimizers.RMSprop(learning_rate=1e-4)\n",
    "model4.compile(optimizer=rmsprop, loss='binary_crossentropy', \n",
    "               metrics=['accuracy'])\n",
    "\n",
    "checkpoint_cb = keras.callbacks.ModelCheckpoint('best-gru-model.h5', \n",
    "                                                save_best_only=True)\n",
    "early_stopping_cb = keras.callbacks.EarlyStopping(patience=3,\n",
    "                                                  restore_best_weights=True)\n",
    "\n",
    "history = model4.fit(train_seq, train_target, epochs=100, batch_size=64,\n",
    "                     validation_data=(val_seq, val_target),\n",
    "                     callbacks=[checkpoint_cb, early_stopping_cb])"
   ]
  },
  {
   "cell_type": "code",
   "execution_count": 14,
   "metadata": {
    "colab": {
     "base_uri": "https://localhost:8080/",
     "height": 279
    },
    "execution": {
     "iopub.execute_input": "2022-01-08T07:10:35.080183Z",
     "iopub.status.busy": "2022-01-08T07:10:35.079530Z",
     "iopub.status.idle": "2022-01-08T07:10:35.200033Z",
     "shell.execute_reply": "2022-01-08T07:10:35.200930Z"
    },
    "id": "3yUJM4nA6k2U",
    "outputId": "cf86c235-1135-4d0f-93c2-08b7cb98ead7"
   },
   "outputs": [
    {
     "data": {
      "image/png": "[encoded data removed]",
      "text/plain": [
       "<Figure size 432x288 with 1 Axes>"
      ]
     },
     "metadata": {
      "needs_background": "light"
     },
     "output_type": "display_data"
    }
   ],
   "source": [
    "plt.plot(history.history['loss'])\n",
    "plt.plot(history.history['val_loss'])\n",
    "plt.xlabel('epoch')\n",
    "plt.ylabel('loss')\n",
    "plt.legend(['train', 'val'])\n",
    "plt.show()"
   ]
  },
  {
   "cell_type": "markdown",
   "metadata": {
    "id": "Ja3-116b6k2V"
   },
   "source": [
    "## 마무리"
   ]
  },
  {
   "cell_type": "code",
   "execution_count": 15,
   "metadata": {
    "colab": {
     "base_uri": "https://localhost:8080/"
    },
    "execution": {
     "iopub.execute_input": "2022-01-08T07:10:35.206304Z",
     "iopub.status.busy": "2022-01-08T07:10:35.205183Z",
     "iopub.status.idle": "2022-01-08T07:10:47.638916Z",
     "shell.execute_reply": "2022-01-08T07:10:47.638313Z"
    },
    "id": "-5WtFRN-6k2V",
    "outputId": "dbbf3f1d-3cd9-49cf-bf90-233ecac13134"
   },
   "outputs": [
    {
     "name": "stdout",
     "output_type": "stream",
     "text": [
      "782/782 [==============================] - 12s 14ms/step - loss: 0.4306 - accuracy: 0.7988\n"
     ]
    },
    {
     "data": {
      "text/plain": [
       "[0.43062207102775574, 0.798799991607666]"
      ]
     },
     "execution_count": 15,
     "metadata": {},
     "output_type": "execute_result"
    }
   ],
   "source": [
    "test_seq = pad_sequences(test_input, maxlen=100)\n",
    "\n",
    "rnn_model = keras.models.load_model('best-2rnn-model.h5')\n",
    "\n",
    "rnn_model.evaluate(test_seq, test_target)"
   ]
  }
 ],
 "metadata": {
  "accelerator": "GPU",
  "colab": {
   "name": "9-3.ipynb",
   "provenance": []
  },
  "kernelspec": {
   "display_name": "Python 3 (ipykernel)",
   "language": "python",
   "name": "python3"
  },
  "language_info": {
   "codemirror_mode": {
    "name": "ipython",
    "version": 3
   },
   "file_extension": ".py",
   "mimetype": "text/x-python",
   "name": "python",
   "nbconvert_exporter": "python",
   "pygments_lexer": "ipython3",
   "version": "3.7.3"
  }
 },
 "nbformat": 4,
 "nbformat_minor": 1
}
