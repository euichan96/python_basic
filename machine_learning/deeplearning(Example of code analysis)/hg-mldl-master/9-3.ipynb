{
 "cells": [
  {
   "cell_type": "markdown",
   "metadata": {
    "id": "AlaMdWF26k2H"
   },
   "source": [
    "# LSTM과 GRU 셀"
   ]
  },
  {
   "cell_type": "markdown",
   "metadata": {
    "id": "o_Csb7v96k2M"
   },
   "source": [
    "<table align=\"left\">\n",
    "  <td>\n",
    "    <a target=\"_blank\" href=\"https://colab.research.google.com/github/rickiepark/hg-mldl/blob/master/9-3.ipynb\"><img src=\"https://www.tensorflow.org/images/colab_logo_32px.png\" />구글 코랩에서 실행하기</a>\n",
    "  </td>\n",
    "</table>"
   ]
  },
  {
   "cell_type": "markdown",
   "metadata": {
    "id": "KWi9yl0q6k2N"
   },
   "source": [
    "## LSTM 신경망 훈련하기"
   ]
  },
  {
   "cell_type": "code",
   "execution_count": 1,
   "metadata": {
    "colab": {
     "base_uri": "https://localhost:8080/"
    },
    "execution": {
     "iopub.execute_input": "2022-01-08T06:32:03.992822Z",
     "iopub.status.busy": "2022-01-08T06:32:03.992104Z",
     "iopub.status.idle": "2022-01-08T06:32:10.411204Z",
     "shell.execute_reply": "2022-01-08T06:32:10.410270Z"
    },
    "id": "XL7x0NCx6k2N",
    "outputId": "d5c9f55e-6a51-49b7-e739-d2242adddcae"
   },
   "outputs": [],
   "source": [
    "from tensorflow.keras.datasets import imdb\n",
    "from sklearn.model_selection import train_test_split\n",
    "\n",
    "(train_input, train_target), (test_input, test_target) = imdb.load_data(\n",
    "    num_words=500)\n",
    "\n",
    "train_input, val_input, train_target, val_target = train_test_split(\n",
    "    train_input, train_target, test_size=0.2, random_state=42)"
   ]
  },
  {
   "cell_type": "code",
   "execution_count": 2,
   "metadata": {
    "execution": {
     "iopub.execute_input": "2022-01-08T06:32:10.420589Z",
     "iopub.status.busy": "2022-01-08T06:32:10.416057Z",
     "iopub.status.idle": "2022-01-08T06:32:10.617660Z",
     "shell.execute_reply": "2022-01-08T06:32:10.618191Z"
    },
    "id": "5bjJ14QJ6k2O"
   },
   "outputs": [],
   "source": [
    "from tensorflow.keras.preprocessing.sequence import pad_sequences\n",
    "\n",
    "train_seq = pad_sequences(train_input, maxlen=100)\n",
    "val_seq = pad_sequences(val_input, maxlen=100)"
   ]
  },
  {
   "cell_type": "code",
   "execution_count": 3,
   "metadata": {
    "colab": {
     "base_uri": "https://localhost:8080/"
    },
    "execution": {
     "iopub.execute_input": "2022-01-08T06:32:10.645231Z",
     "iopub.status.busy": "2022-01-08T06:32:10.623014Z",
     "iopub.status.idle": "2022-01-08T06:32:10.923445Z",
     "shell.execute_reply": "2022-01-08T06:32:10.922126Z"
    },
    "id": "uMlTD4zv6k2O",
    "outputId": "dc7c0080-f72c-4032-caf4-1a8e63202989"
   },
   "outputs": [
    {
     "name": "stdout",
     "output_type": "stream",
     "text": [
      "Model: \"sequential\"\n",
      "_________________________________________________________________\n",
      " Layer (type)                Output Shape              Param #   \n",
      "=================================================================\n",
      " embedding (Embedding)       (None, 100, 16)           8000      \n",
      "                                                                 \n",
      " lstm (LSTM)                 (None, 8)                 800       \n",
      "                                                                 \n",
      " dense (Dense)               (None, 1)                 9         \n",
      "                                                                 \n",
      "=================================================================\n",
      "Total params: 8,809\n",
      "Trainable params: 8,809\n",
      "Non-trainable params: 0\n",
      "_________________________________________________________________\n"
     ]
    }
   ],
   "source": [
    "from tensorflow import keras\n",
    "\n",
    "model = keras.Sequential()\n",
    "\n",
    "model.add(keras.layers.Embedding(500, 16, input_length=100))\n",
    "model.add(keras.layers.LSTM(8))\n",
    "model.add(keras.layers.Dense(1, activation='sigmoid'))\n",
    "\n",
    "model.summary()"
   ]
  },
  {
   "cell_type": "code",
   "execution_count": null,
   "metadata": {
    "colab": {
     "base_uri": "https://localhost:8080/"
    },
    "execution": {
     "iopub.execute_input": "2022-01-08T06:32:10.933595Z",
     "iopub.status.busy": "2022-01-08T06:32:10.926955Z",
     "iopub.status.idle": "2022-01-08T06:40:41.719394Z",
     "shell.execute_reply": "2022-01-08T06:40:41.718536Z"
    },
    "id": "nCmqOkjI6k2P",
    "outputId": "5057828c-5f90-48a5-fafa-c31f7407cc4c"
   },
   "outputs": [
    {
     "name": "stdout",
     "output_type": "stream",
     "text": [
      "Epoch 1/100\n",
      "313/313 [==============================] - 28s 74ms/step - loss: 0.6920 - accuracy: 0.5429 - val_loss: 0.6907 - val_accuracy: 0.5874\n",
      "Epoch 2/100\n",
      "313/313 [==============================] - 21s 68ms/step - loss: 0.6879 - accuracy: 0.6175 - val_loss: 0.6848 - val_accuracy: 0.6450\n",
      "Epoch 3/100\n",
      "313/313 [==============================] - 22s 71ms/step - loss: 0.6759 - accuracy: 0.6683 - val_loss: 0.6629 - val_accuracy: 0.6912\n",
      "Epoch 4/100\n",
      "313/313 [==============================] - 22s 71ms/step - loss: 0.6187 - accuracy: 0.7158 - val_loss: 0.5881 - val_accuracy: 0.7244\n",
      "Epoch 5/100\n",
      "313/313 [==============================] - 21s 67ms/step - loss: 0.5712 - accuracy: 0.7402 - val_loss: 0.5639 - val_accuracy: 0.7366\n",
      "Epoch 6/100\n",
      "313/313 [==============================] - 22s 70ms/step - loss: 0.5483 - accuracy: 0.7535 - val_loss: 0.5437 - val_accuracy: 0.7526\n",
      "Epoch 7/100\n",
      "313/313 [==============================] - 22s 71ms/step - loss: 0.5284 - accuracy: 0.7625 - val_loss: 0.5255 - val_accuracy: 0.7644\n",
      "Epoch 8/100\n",
      "313/313 [==============================] - 22s 71ms/step - loss: 0.5107 - accuracy: 0.7713 - val_loss: 0.5099 - val_accuracy: 0.7714\n",
      "Epoch 9/100\n",
      "313/313 [==============================] - 22s 71ms/step - loss: 0.4951 - accuracy: 0.7786 - val_loss: 0.4979 - val_accuracy: 0.7752\n",
      "Epoch 10/100\n",
      "313/313 [==============================] - 22s 70ms/step - loss: 0.4816 - accuracy: 0.7862 - val_loss: 0.4841 - val_accuracy: 0.7820\n",
      "Epoch 11/100\n",
      "313/313 [==============================] - 20s 65ms/step - loss: 0.4695 - accuracy: 0.7914 - val_loss: 0.4794 - val_accuracy: 0.7806\n",
      "Epoch 12/100\n",
      "313/313 [==============================] - 20s 63ms/step - loss: 0.4595 - accuracy: 0.7958 - val_loss: 0.4665 - val_accuracy: 0.7878\n",
      "Epoch 13/100\n",
      "313/313 [==============================] - 21s 68ms/step - loss: 0.4516 - accuracy: 0.7993 - val_loss: 0.4623 - val_accuracy: 0.7884\n",
      "Epoch 14/100\n",
      "313/313 [==============================] - 21s 68ms/step - loss: 0.4446 - accuracy: 0.8020 - val_loss: 0.4562 - val_accuracy: 0.7896\n",
      "Epoch 15/100\n",
      "313/313 [==============================] - 21s 68ms/step - loss: 0.4399 - accuracy: 0.8041 - val_loss: 0.4552 - val_accuracy: 0.7880\n",
      "Epoch 16/100\n",
      "313/313 [==============================] - 22s 70ms/step - loss: 0.4357 - accuracy: 0.8058 - val_loss: 0.4508 - val_accuracy: 0.7916\n",
      "Epoch 17/100\n",
      "313/313 [==============================] - 22s 72ms/step - loss: 0.4324 - accuracy: 0.8087 - val_loss: 0.4502 - val_accuracy: 0.7914\n",
      "Epoch 18/100\n",
      "313/313 [==============================] - 22s 71ms/step - loss: 0.4295 - accuracy: 0.8101 - val_loss: 0.4463 - val_accuracy: 0.7924\n",
      "Epoch 19/100\n",
      "313/313 [==============================] - 22s 70ms/step - loss: 0.4270 - accuracy: 0.8109 - val_loss: 0.4452 - val_accuracy: 0.7914\n",
      "Epoch 20/100\n",
      "313/313 [==============================] - 22s 70ms/step - loss: 0.4251 - accuracy: 0.8120 - val_loss: 0.4438 - val_accuracy: 0.7948\n",
      "Epoch 21/100\n",
      "313/313 [==============================] - 22s 70ms/step - loss: 0.4230 - accuracy: 0.8130 - val_loss: 0.4421 - val_accuracy: 0.7960\n",
      "Epoch 22/100\n",
      "313/313 [==============================] - 22s 70ms/step - loss: 0.4213 - accuracy: 0.8128 - val_loss: 0.4415 - val_accuracy: 0.7988\n",
      "Epoch 23/100\n",
      "313/313 [==============================] - 22s 71ms/step - loss: 0.4197 - accuracy: 0.8130 - val_loss: 0.4412 - val_accuracy: 0.7944\n",
      "Epoch 24/100\n",
      "313/313 [==============================] - 22s 71ms/step - loss: 0.4185 - accuracy: 0.8138 - val_loss: 0.4400 - val_accuracy: 0.8002\n",
      "Epoch 25/100\n",
      "190/313 [=================>............] - ETA: 7s - loss: 0.4161 - accuracy: 0.8162"
     ]
    }
   ],
   "source": [
    "rmsprop = keras.optimizers.RMSprop(learning_rate=1e-4)\n",
    "model.compile(optimizer=rmsprop, loss='binary_crossentropy', \n",
    "              metrics=['accuracy'])\n",
    "\n",
    "checkpoint_cb = keras.callbacks.ModelCheckpoint('best-lstm-model.h5', \n",
    "                                                save_best_only=True)\n",
    "early_stopping_cb = keras.callbacks.EarlyStopping(patience=3,\n",
    "                                                  restore_best_weights=True)\n",
    "\n",
    "history = model.fit(train_seq, train_target, epochs=100, batch_size=64,\n",
    "                    validation_data=(val_seq, val_target),\n",
    "                    callbacks=[checkpoint_cb, early_stopping_cb])"
   ]
  },
  {
   "cell_type": "code",
   "execution_count": null,
   "metadata": {
    "colab": {
     "base_uri": "https://localhost:8080/",
     "height": 279
    },
    "execution": {
     "iopub.execute_input": "2022-01-08T06:40:41.727198Z",
     "iopub.status.busy": "2022-01-08T06:40:41.724610Z",
     "iopub.status.idle": "2022-01-08T06:40:42.690300Z",
     "shell.execute_reply": "2022-01-08T06:40:42.689672Z"
    },
    "id": "Xl1bliNr6k2Q",
    "outputId": "4e6792a9-2118-4498-a4cb-f0b39d1609c0"
   },
   "outputs": [],
   "source": [
    "import matplotlib.pyplot as plt\n",
    "\n",
    "plt.plot(history.history['loss'])\n",
    "plt.plot(history.history['val_loss'])\n",
    "plt.xlabel('epoch')\n",
    "plt.ylabel('loss')\n",
    "plt.legend(['train', 'val'])\n",
    "plt.show()"
   ]
  },
  {
   "cell_type": "markdown",
   "metadata": {
    "id": "ob79h7Kc6k2Q"
   },
   "source": [
    "## 순환 층에 드롭아웃 적용하기"
   ]
  },
  {
   "cell_type": "code",
   "execution_count": null,
   "metadata": {
    "execution": {
     "iopub.execute_input": "2022-01-08T06:40:42.697123Z",
     "iopub.status.busy": "2022-01-08T06:40:42.696482Z",
     "iopub.status.idle": "2022-01-08T06:40:42.919396Z",
     "shell.execute_reply": "2022-01-08T06:40:42.918675Z"
    },
    "id": "Fr0DUR-Y6k2R"
   },
   "outputs": [],
   "source": [
    "model2 = keras.Sequential()\n",
    "\n",
    "model2.add(keras.layers.Embedding(500, 16, input_length=100))\n",
    "model2.add(keras.layers.LSTM(8, dropout=0.3))\n",
    "model2.add(keras.layers.Dense(1, activation='sigmoid'))"
   ]
  },
  {
   "cell_type": "code",
   "execution_count": null,
   "metadata": {
    "colab": {
     "base_uri": "https://localhost:8080/"
    },
    "execution": {
     "iopub.execute_input": "2022-01-08T06:40:42.932923Z",
     "iopub.status.busy": "2022-01-08T06:40:42.932101Z",
     "iopub.status.idle": "2022-01-08T06:50:43.260633Z",
     "shell.execute_reply": "2022-01-08T06:50:43.259967Z"
    },
    "id": "Ap8XxUO46k2R",
    "outputId": "5953909f-5c48-43e9-b321-8b5f3ed0d52a"
   },
   "outputs": [],
   "source": [
    "rmsprop = keras.optimizers.RMSprop(learning_rate=1e-4)\n",
    "model2.compile(optimizer=rmsprop, loss='binary_crossentropy', \n",
    "               metrics=['accuracy'])\n",
    "\n",
    "checkpoint_cb = keras.callbacks.ModelCheckpoint('best-dropout-model.h5', \n",
    "                                                save_best_only=True)\n",
    "early_stopping_cb = keras.callbacks.EarlyStopping(patience=3,\n",
    "                                                  restore_best_weights=True)\n",
    "\n",
    "history = model2.fit(train_seq, train_target, epochs=100, batch_size=64,\n",
    "                     validation_data=(val_seq, val_target),\n",
    "                     callbacks=[checkpoint_cb, early_stopping_cb])"
   ]
  },
  {
   "cell_type": "code",
   "execution_count": null,
   "metadata": {
    "colab": {
     "base_uri": "https://localhost:8080/",
     "height": 279
    },
    "execution": {
     "iopub.execute_input": "2022-01-08T06:50:43.264141Z",
     "iopub.status.busy": "2022-01-08T06:50:43.263215Z",
     "iopub.status.idle": "2022-01-08T06:50:43.413447Z",
     "shell.execute_reply": "2022-01-08T06:50:43.412882Z"
    },
    "id": "Qzwsp3pl6k2R",
    "outputId": "97305973-3c11-4c55-c466-a608273094cb"
   },
   "outputs": [],
   "source": [
    "plt.plot(history.history['loss'])\n",
    "plt.plot(history.history['val_loss'])\n",
    "plt.xlabel('epoch')\n",
    "plt.ylabel('loss')\n",
    "plt.legend(['train', 'val'])\n",
    "plt.show()"
   ]
  },
  {
   "cell_type": "markdown",
   "metadata": {
    "id": "DKtQByM96k2S"
   },
   "source": [
    "## 2개의 층을 연결하기"
   ]
  },
  {
   "cell_type": "code",
   "execution_count": null,
   "metadata": {
    "colab": {
     "base_uri": "https://localhost:8080/"
    },
    "execution": {
     "iopub.execute_input": "2022-01-08T06:50:43.420502Z",
     "iopub.status.busy": "2022-01-08T06:50:43.419839Z",
     "iopub.status.idle": "2022-01-08T06:50:43.869743Z",
     "shell.execute_reply": "2022-01-08T06:50:43.869180Z"
    },
    "id": "YkQboCpD6k2S",
    "outputId": "5f30a5ec-16a9-476a-95b6-3d55b36b64b4"
   },
   "outputs": [],
   "source": [
    "model3 = keras.Sequential()\n",
    "\n",
    "model3.add(keras.layers.Embedding(500, 16, input_length=100))\n",
    "model3.add(keras.layers.LSTM(8, dropout=0.3, return_sequences=True))\n",
    "model3.add(keras.layers.LSTM(8, dropout=0.3))\n",
    "model3.add(keras.layers.Dense(1, activation='sigmoid'))\n",
    "\n",
    "model3.summary()"
   ]
  },
  {
   "cell_type": "code",
   "execution_count": null,
   "metadata": {
    "colab": {
     "base_uri": "https://localhost:8080/"
    },
    "execution": {
     "iopub.execute_input": "2022-01-08T06:50:43.878202Z",
     "iopub.status.busy": "2022-01-08T06:50:43.877451Z",
     "iopub.status.idle": "2022-01-08T07:03:47.427095Z",
     "shell.execute_reply": "2022-01-08T07:03:47.426473Z"
    },
    "id": "hDk_ffAo6k2S",
    "outputId": "f7439e48-073f-4124-b10e-dea60f18f69d"
   },
   "outputs": [],
   "source": [
    "rmsprop = keras.optimizers.RMSprop(learning_rate=1e-4)\n",
    "model3.compile(optimizer=rmsprop, loss='binary_crossentropy', \n",
    "               metrics=['accuracy'])\n",
    "\n",
    "checkpoint_cb = keras.callbacks.ModelCheckpoint('best-2rnn-model.h5', \n",
    "                                                save_best_only=True)\n",
    "early_stopping_cb = keras.callbacks.EarlyStopping(patience=3,\n",
    "                                                  restore_best_weights=True)\n",
    "\n",
    "history = model3.fit(train_seq, train_target, epochs=100, batch_size=64,\n",
    "                     validation_data=(val_seq, val_target),\n",
    "                     callbacks=[checkpoint_cb, early_stopping_cb])"
   ]
  },
  {
   "cell_type": "code",
   "execution_count": null,
   "metadata": {
    "colab": {
     "base_uri": "https://localhost:8080/",
     "height": 279
    },
    "execution": {
     "iopub.execute_input": "2022-01-08T07:03:47.435131Z",
     "iopub.status.busy": "2022-01-08T07:03:47.434189Z",
     "iopub.status.idle": "2022-01-08T07:03:47.576747Z",
     "shell.execute_reply": "2022-01-08T07:03:47.577169Z"
    },
    "id": "1paBqczf6k2S",
    "outputId": "8dec69f9-2aa3-4b2f-f5c9-c0d2713ab4f6"
   },
   "outputs": [],
   "source": [
    "plt.plot(history.history['loss'])\n",
    "plt.plot(history.history['val_loss'])\n",
    "plt.xlabel('epoch')\n",
    "plt.ylabel('loss')\n",
    "plt.legend(['train', 'val'])\n",
    "plt.show()"
   ]
  },
  {
   "cell_type": "markdown",
   "metadata": {
    "id": "Jisn0P9h6k2T"
   },
   "source": [
    "## GRU 신경망 훈련하기"
   ]
  },
  {
   "cell_type": "code",
   "execution_count": null,
   "metadata": {
    "colab": {
     "base_uri": "https://localhost:8080/"
    },
    "execution": {
     "iopub.execute_input": "2022-01-08T07:03:47.580725Z",
     "iopub.status.busy": "2022-01-08T07:03:47.580053Z",
     "iopub.status.idle": "2022-01-08T07:03:47.802422Z",
     "shell.execute_reply": "2022-01-08T07:03:47.802844Z"
    },
    "id": "dwYF578d6k2T",
    "outputId": "72677151-359c-4d9c-9fd0-026c778f4ad5"
   },
   "outputs": [],
   "source": [
    "model4 = keras.Sequential()\n",
    "\n",
    "model4.add(keras.layers.Embedding(500, 16, input_length=100))\n",
    "model4.add(keras.layers.GRU(8))\n",
    "model4.add(keras.layers.Dense(1, activation='sigmoid'))\n",
    "\n",
    "model4.summary()"
   ]
  },
  {
   "cell_type": "code",
   "execution_count": null,
   "metadata": {
    "colab": {
     "base_uri": "https://localhost:8080/"
    },
    "execution": {
     "iopub.execute_input": "2022-01-08T07:03:47.818690Z",
     "iopub.status.busy": "2022-01-08T07:03:47.812276Z",
     "iopub.status.idle": "2022-01-08T07:10:35.067892Z",
     "shell.execute_reply": "2022-01-08T07:10:35.068361Z"
    },
    "id": "j2SfOZ3v6k2U",
    "outputId": "80bc83ae-1472-4c03-f372-92a6572e71b8"
   },
   "outputs": [],
   "source": [
    "rmsprop = keras.optimizers.RMSprop(learning_rate=1e-4)\n",
    "model4.compile(optimizer=rmsprop, loss='binary_crossentropy', \n",
    "               metrics=['accuracy'])\n",
    "\n",
    "checkpoint_cb = keras.callbacks.ModelCheckpoint('best-gru-model.h5', \n",
    "                                                save_best_only=True)\n",
    "early_stopping_cb = keras.callbacks.EarlyStopping(patience=3,\n",
    "                                                  restore_best_weights=True)\n",
    "\n",
    "history = model4.fit(train_seq, train_target, epochs=100, batch_size=64,\n",
    "                     validation_data=(val_seq, val_target),\n",
    "                     callbacks=[checkpoint_cb, early_stopping_cb])"
   ]
  },
  {
   "cell_type": "code",
   "execution_count": null,
   "metadata": {
    "colab": {
     "base_uri": "https://localhost:8080/",
     "height": 279
    },
    "execution": {
     "iopub.execute_input": "2022-01-08T07:10:35.080183Z",
     "iopub.status.busy": "2022-01-08T07:10:35.079530Z",
     "iopub.status.idle": "2022-01-08T07:10:35.200033Z",
     "shell.execute_reply": "2022-01-08T07:10:35.200930Z"
    },
    "id": "3yUJM4nA6k2U",
    "outputId": "cf86c235-1135-4d0f-93c2-08b7cb98ead7"
   },
   "outputs": [],
   "source": [
    "plt.plot(history.history['loss'])\n",
    "plt.plot(history.history['val_loss'])\n",
    "plt.xlabel('epoch')\n",
    "plt.ylabel('loss')\n",
    "plt.legend(['train', 'val'])\n",
    "plt.show()"
   ]
  },
  {
   "cell_type": "markdown",
   "metadata": {
    "id": "Ja3-116b6k2V"
   },
   "source": [
    "## 마무리"
   ]
  },
  {
   "cell_type": "code",
   "execution_count": null,
   "metadata": {
    "colab": {
     "base_uri": "https://localhost:8080/"
    },
    "execution": {
     "iopub.execute_input": "2022-01-08T07:10:35.206304Z",
     "iopub.status.busy": "2022-01-08T07:10:35.205183Z",
     "iopub.status.idle": "2022-01-08T07:10:47.638916Z",
     "shell.execute_reply": "2022-01-08T07:10:47.638313Z"
    },
    "id": "-5WtFRN-6k2V",
    "outputId": "dbbf3f1d-3cd9-49cf-bf90-233ecac13134"
   },
   "outputs": [],
   "source": [
    "test_seq = pad_sequences(test_input, maxlen=100)\n",
    "\n",
    "rnn_model = keras.models.load_model('best-2rnn-model.h5')\n",
    "\n",
    "rnn_model.evaluate(test_seq, test_target)"
   ]
  },
  {
   "cell_type": "code",
   "execution_count": null,
   "metadata": {},
   "outputs": [],
   "source": []
  },
  {
   "cell_type": "code",
   "execution_count": null,
   "metadata": {},
   "outputs": [],
   "source": []
  },
  {
   "cell_type": "code",
   "execution_count": null,
   "metadata": {},
   "outputs": [],
   "source": []
  }
 ],
 "metadata": {
  "accelerator": "GPU",
  "colab": {
   "name": "9-3.ipynb",
   "provenance": []
  },
  "kernelspec": {
   "display_name": "Python [conda env:tensorflow] *",
   "language": "python",
   "name": "conda-env-tensorflow-py"
  },
  "language_info": {
   "codemirror_mode": {
    "name": "ipython",
    "version": 3
   },
   "file_extension": ".py",
   "mimetype": "text/x-python",
   "name": "python",
   "nbconvert_exporter": "python",
   "pygments_lexer": "ipython3",
   "version": "3.8.12"
  }
 },
 "nbformat": 4,
 "nbformat_minor": 1
}
