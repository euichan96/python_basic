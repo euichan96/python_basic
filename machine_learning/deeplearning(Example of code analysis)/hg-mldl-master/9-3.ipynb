{
 "cells": [
  {
   "cell_type": "markdown",
   "metadata": {
    "id": "AlaMdWF26k2H"
   },
   "source": [
    "# LSTM과 GRU 셀"
   ]
  },
  {
   "cell_type": "markdown",
   "metadata": {
    "id": "o_Csb7v96k2M"
   },
   "source": [
    "<table align=\"left\">\n",
    "  <td>\n",
    "    <a target=\"_blank\" href=\"https://colab.research.google.com/github/rickiepark/hg-mldl/blob/master/9-3.ipynb\"><img src=\"https://www.tensorflow.org/images/colab_logo_32px.png\" />구글 코랩에서 실행하기</a>\n",
    "  </td>\n",
    "</table>"
   ]
  },
  {
   "cell_type": "markdown",
   "metadata": {
    "id": "KWi9yl0q6k2N"
   },
   "source": [
    "## LSTM 신경망 훈련하기"
   ]
  },
  {
   "cell_type": "code",
   "execution_count": 1,
   "metadata": {
    "colab": {
     "base_uri": "https://localhost:8080/"
    },
    "execution": {
     "iopub.execute_input": "2022-01-08T06:32:03.992822Z",
     "iopub.status.busy": "2022-01-08T06:32:03.992104Z",
     "iopub.status.idle": "2022-01-08T06:32:10.411204Z",
     "shell.execute_reply": "2022-01-08T06:32:10.410270Z"
    },
    "id": "XL7x0NCx6k2N",
    "outputId": "d5c9f55e-6a51-49b7-e739-d2242adddcae"
   },
   "outputs": [],
   "source": [
    "from tensorflow.keras.datasets import imdb\n",
    "from sklearn.model_selection import train_test_split\n",
    "\n",
    "(train_input, train_target), (test_input, test_target) = imdb.load_data(\n",
    "    num_words=500)\n",
    "\n",
    "train_input, val_input, train_target, val_target = train_test_split(\n",
    "    train_input, train_target, test_size=0.2, random_state=42)"
   ]
  },
  {
   "cell_type": "code",
   "execution_count": 2,
   "metadata": {
    "execution": {
     "iopub.execute_input": "2022-01-08T06:32:10.420589Z",
     "iopub.status.busy": "2022-01-08T06:32:10.416057Z",
     "iopub.status.idle": "2022-01-08T06:32:10.617660Z",
     "shell.execute_reply": "2022-01-08T06:32:10.618191Z"
    },
    "id": "5bjJ14QJ6k2O"
   },
   "outputs": [],
   "source": [
    "from tensorflow.keras.preprocessing.sequence import pad_sequences\n",
    "\n",
    "train_seq = pad_sequences(train_input, maxlen=100)\n",
    "val_seq = pad_sequences(val_input, maxlen=100)"
   ]
  },
  {
   "cell_type": "code",
   "execution_count": 3,
   "metadata": {
    "colab": {
     "base_uri": "https://localhost:8080/"
    },
    "execution": {
     "iopub.execute_input": "2022-01-08T06:32:10.645231Z",
     "iopub.status.busy": "2022-01-08T06:32:10.623014Z",
     "iopub.status.idle": "2022-01-08T06:32:10.923445Z",
     "shell.execute_reply": "2022-01-08T06:32:10.922126Z"
    },
    "id": "uMlTD4zv6k2O",
    "outputId": "dc7c0080-f72c-4032-caf4-1a8e63202989"
   },
   "outputs": [
    {
     "name": "stdout",
     "output_type": "stream",
     "text": [
      "Model: \"sequential\"\n",
      "_________________________________________________________________\n",
      " Layer (type)                Output Shape              Param #   \n",
      "=================================================================\n",
      " embedding (Embedding)       (None, 100, 16)           8000      \n",
      "                                                                 \n",
      " lstm (LSTM)                 (None, 8)                 800       \n",
      "                                                                 \n",
      " dense (Dense)               (None, 1)                 9         \n",
      "                                                                 \n",
      "=================================================================\n",
      "Total params: 8,809\n",
      "Trainable params: 8,809\n",
      "Non-trainable params: 0\n",
      "_________________________________________________________________\n"
     ]
    }
   ],
   "source": [
    "from tensorflow import keras\n",
    "\n",
    "model = keras.Sequential()\n",
    "\n",
    "model.add(keras.layers.Embedding(500, 16, input_length=100))\n",
    "model.add(keras.layers.LSTM(8))\n",
    "model.add(keras.layers.Dense(1, activation='sigmoid'))\n",
    "\n",
    "model.summary()"
   ]
  },
  {
   "cell_type": "code",
   "execution_count": 4,
   "metadata": {
    "colab": {
     "base_uri": "https://localhost:8080/"
    },
    "execution": {
     "iopub.execute_input": "2022-01-08T06:32:10.933595Z",
     "iopub.status.busy": "2022-01-08T06:32:10.926955Z",
     "iopub.status.idle": "2022-01-08T06:40:41.719394Z",
     "shell.execute_reply": "2022-01-08T06:40:41.718536Z"
    },
    "id": "nCmqOkjI6k2P",
    "outputId": "5057828c-5f90-48a5-fafa-c31f7407cc4c"
   },
   "outputs": [
    {
     "name": "stdout",
     "output_type": "stream",
     "text": [
      "Epoch 1/100\n",
      "313/313 [==============================] - 28s 74ms/step - loss: 0.6920 - accuracy: 0.5429 - val_loss: 0.6907 - val_accuracy: 0.5874\n",
      "Epoch 2/100\n",
      "313/313 [==============================] - 21s 68ms/step - loss: 0.6879 - accuracy: 0.6175 - val_loss: 0.6848 - val_accuracy: 0.6450\n",
      "Epoch 3/100\n",
      "313/313 [==============================] - 22s 71ms/step - loss: 0.6759 - accuracy: 0.6683 - val_loss: 0.6629 - val_accuracy: 0.6912\n",
      "Epoch 4/100\n",
      "313/313 [==============================] - 22s 71ms/step - loss: 0.6187 - accuracy: 0.7158 - val_loss: 0.5881 - val_accuracy: 0.7244\n",
      "Epoch 5/100\n",
      "313/313 [==============================] - 21s 67ms/step - loss: 0.5712 - accuracy: 0.7402 - val_loss: 0.5639 - val_accuracy: 0.7366\n",
      "Epoch 6/100\n",
      "313/313 [==============================] - 22s 70ms/step - loss: 0.5483 - accuracy: 0.7535 - val_loss: 0.5437 - val_accuracy: 0.7526\n",
      "Epoch 7/100\n",
      "313/313 [==============================] - 22s 71ms/step - loss: 0.5284 - accuracy: 0.7625 - val_loss: 0.5255 - val_accuracy: 0.7644\n",
      "Epoch 8/100\n",
      "313/313 [==============================] - 22s 71ms/step - loss: 0.5107 - accuracy: 0.7713 - val_loss: 0.5099 - val_accuracy: 0.7714\n",
      "Epoch 9/100\n",
      "313/313 [==============================] - 22s 71ms/step - loss: 0.4951 - accuracy: 0.7786 - val_loss: 0.4979 - val_accuracy: 0.7752\n",
      "Epoch 10/100\n",
      "313/313 [==============================] - 22s 70ms/step - loss: 0.4816 - accuracy: 0.7862 - val_loss: 0.4841 - val_accuracy: 0.7820\n",
      "Epoch 11/100\n",
      "313/313 [==============================] - 20s 65ms/step - loss: 0.4695 - accuracy: 0.7914 - val_loss: 0.4794 - val_accuracy: 0.7806\n",
      "Epoch 12/100\n",
      "313/313 [==============================] - 20s 63ms/step - loss: 0.4595 - accuracy: 0.7958 - val_loss: 0.4665 - val_accuracy: 0.7878\n",
      "Epoch 13/100\n",
      "313/313 [==============================] - 21s 68ms/step - loss: 0.4516 - accuracy: 0.7993 - val_loss: 0.4623 - val_accuracy: 0.7884\n",
      "Epoch 14/100\n",
      "313/313 [==============================] - 21s 68ms/step - loss: 0.4446 - accuracy: 0.8020 - val_loss: 0.4562 - val_accuracy: 0.7896\n",
      "Epoch 15/100\n",
      "313/313 [==============================] - 21s 68ms/step - loss: 0.4399 - accuracy: 0.8041 - val_loss: 0.4552 - val_accuracy: 0.7880\n",
      "Epoch 16/100\n",
      "313/313 [==============================] - 22s 70ms/step - loss: 0.4357 - accuracy: 0.8058 - val_loss: 0.4508 - val_accuracy: 0.7916\n",
      "Epoch 17/100\n",
      "313/313 [==============================] - 22s 72ms/step - loss: 0.4324 - accuracy: 0.8087 - val_loss: 0.4502 - val_accuracy: 0.7914\n",
      "Epoch 18/100\n",
      "313/313 [==============================] - 22s 71ms/step - loss: 0.4295 - accuracy: 0.8101 - val_loss: 0.4463 - val_accuracy: 0.7924\n",
      "Epoch 19/100\n",
      "313/313 [==============================] - 22s 70ms/step - loss: 0.4270 - accuracy: 0.8109 - val_loss: 0.4452 - val_accuracy: 0.7914\n",
      "Epoch 20/100\n",
      "313/313 [==============================] - 22s 70ms/step - loss: 0.4251 - accuracy: 0.8120 - val_loss: 0.4438 - val_accuracy: 0.7948\n",
      "Epoch 21/100\n",
      "313/313 [==============================] - 22s 70ms/step - loss: 0.4230 - accuracy: 0.8130 - val_loss: 0.4421 - val_accuracy: 0.7960\n",
      "Epoch 22/100\n",
      "313/313 [==============================] - 22s 70ms/step - loss: 0.4213 - accuracy: 0.8128 - val_loss: 0.4415 - val_accuracy: 0.7988\n",
      "Epoch 23/100\n",
      "313/313 [==============================] - 22s 71ms/step - loss: 0.4197 - accuracy: 0.8130 - val_loss: 0.4412 - val_accuracy: 0.7944\n",
      "Epoch 24/100\n",
      "313/313 [==============================] - 22s 71ms/step - loss: 0.4185 - accuracy: 0.8138 - val_loss: 0.4400 - val_accuracy: 0.8002\n",
      "Epoch 25/100\n",
      "313/313 [==============================] - 20s 63ms/step - loss: 0.4170 - accuracy: 0.8140 - val_loss: 0.4444 - val_accuracy: 0.7972\n",
      "Epoch 26/100\n",
      "313/313 [==============================] - 24s 76ms/step - loss: 0.4159 - accuracy: 0.8149 - val_loss: 0.4370 - val_accuracy: 0.7968\n",
      "Epoch 27/100\n",
      "313/313 [==============================] - 22s 69ms/step - loss: 0.4150 - accuracy: 0.8151 - val_loss: 0.4383 - val_accuracy: 0.7976\n",
      "Epoch 28/100\n",
      "313/313 [==============================] - 22s 72ms/step - loss: 0.4138 - accuracy: 0.8148 - val_loss: 0.4371 - val_accuracy: 0.7970\n",
      "Epoch 29/100\n",
      "313/313 [==============================] - 18s 57ms/step - loss: 0.4125 - accuracy: 0.8155 - val_loss: 0.4385 - val_accuracy: 0.7952\n"
     ]
    }
   ],
   "source": [
    "rmsprop = keras.optimizers.RMSprop(learning_rate=1e-4)\n",
    "model.compile(optimizer=rmsprop, loss='binary_crossentropy', \n",
    "              metrics=['accuracy'])\n",
    "\n",
    "checkpoint_cb = keras.callbacks.ModelCheckpoint('best-lstm-model.h5', \n",
    "                                                save_best_only=True)\n",
    "early_stopping_cb = keras.callbacks.EarlyStopping(patience=3,\n",
    "                                                  restore_best_weights=True)\n",
    "\n",
    "history = model.fit(train_seq, train_target, epochs=100, batch_size=64,\n",
    "                    validation_data=(val_seq, val_target),\n",
    "                    callbacks=[checkpoint_cb, early_stopping_cb])"
   ]
  },
  {
   "cell_type": "code",
   "execution_count": 5,
   "metadata": {
    "colab": {
     "base_uri": "https://localhost:8080/",
     "height": 279
    },
    "execution": {
     "iopub.execute_input": "2022-01-08T06:40:41.727198Z",
     "iopub.status.busy": "2022-01-08T06:40:41.724610Z",
     "iopub.status.idle": "2022-01-08T06:40:42.690300Z",
     "shell.execute_reply": "2022-01-08T06:40:42.689672Z"
    },
    "id": "Xl1bliNr6k2Q",
    "outputId": "4e6792a9-2118-4498-a4cb-f0b39d1609c0"
   },
   "outputs": [
    {
     "data": {
      "image/png": "[encoded data removed]",
      "text/plain": [
       "<Figure size 432x288 with 1 Axes>"
      ]
     },
     "metadata": {
      "needs_background": "light"
     },
     "output_type": "display_data"
    }
   ],
   "source": [
    "import matplotlib.pyplot as plt\n",
    "\n",
    "plt.plot(history.history['loss'])\n",
    "plt.plot(history.history['val_loss'])\n",
    "plt.xlabel('epoch')\n",
    "plt.ylabel('loss')\n",
    "plt.legend(['train', 'val'])\n",
    "plt.show()"
   ]
  },
  {
   "cell_type": "markdown",
   "metadata": {
    "id": "ob79h7Kc6k2Q"
   },
   "source": [
    "## 순환 층에 드롭아웃 적용하기"
   ]
  },
  {
   "cell_type": "code",
   "execution_count": 6,
   "metadata": {
    "execution": {
     "iopub.execute_input": "2022-01-08T06:40:42.697123Z",
     "iopub.status.busy": "2022-01-08T06:40:42.696482Z",
     "iopub.status.idle": "2022-01-08T06:40:42.919396Z",
     "shell.execute_reply": "2022-01-08T06:40:42.918675Z"
    },
    "id": "Fr0DUR-Y6k2R"
   },
   "outputs": [],
   "source": [
    "model2 = keras.Sequential()\n",
    "\n",
    "model2.add(keras.layers.Embedding(500, 16, input_length=100))\n",
    "model2.add(keras.layers.LSTM(8, dropout=0.3))\n",
    "model2.add(keras.layers.Dense(1, activation='sigmoid'))"
   ]
  },
  {
   "cell_type": "code",
   "execution_count": 7,
   "metadata": {
    "colab": {
     "base_uri": "https://localhost:8080/"
    },
    "execution": {
     "iopub.execute_input": "2022-01-08T06:40:42.932923Z",
     "iopub.status.busy": "2022-01-08T06:40:42.932101Z",
     "iopub.status.idle": "2022-01-08T06:50:43.260633Z",
     "shell.execute_reply": "2022-01-08T06:50:43.259967Z"
    },
    "id": "Ap8XxUO46k2R",
    "outputId": "5953909f-5c48-43e9-b321-8b5f3ed0d52a"
   },
   "outputs": [
    {
     "name": "stdout",
     "output_type": "stream",
     "text": [
      "Epoch 1/100\n",
      "313/313 [==============================] - 7s 19ms/step - loss: 0.6925 - accuracy: 0.5301 - val_loss: 0.6919 - val_accuracy: 0.5758\n",
      "Epoch 2/100\n",
      "313/313 [==============================] - 5s 17ms/step - loss: 0.6905 - accuracy: 0.5936 - val_loss: 0.6889 - val_accuracy: 0.6326\n",
      "Epoch 3/100\n",
      "313/313 [==============================] - 5s 17ms/step - loss: 0.6849 - accuracy: 0.6265 - val_loss: 0.6784 - val_accuracy: 0.6342\n",
      "Epoch 4/100\n",
      "313/313 [==============================] - 5s 17ms/step - loss: 0.6573 - accuracy: 0.6493 - val_loss: 0.6278 - val_accuracy: 0.6984\n",
      "Epoch 5/100\n",
      "313/313 [==============================] - 5s 17ms/step - loss: 0.6133 - accuracy: 0.7247 - val_loss: 0.5956 - val_accuracy: 0.7432\n",
      "Epoch 6/100\n",
      "313/313 [==============================] - 5s 17ms/step - loss: 0.5901 - accuracy: 0.7429 - val_loss: 0.5799 - val_accuracy: 0.7542\n",
      "Epoch 7/100\n",
      "313/313 [==============================] - 5s 17ms/step - loss: 0.5742 - accuracy: 0.7555 - val_loss: 0.5645 - val_accuracy: 0.7580\n",
      "Epoch 8/100\n",
      "313/313 [==============================] - 6s 19ms/step - loss: 0.5594 - accuracy: 0.7607 - val_loss: 0.5534 - val_accuracy: 0.7572\n",
      "Epoch 9/100\n",
      "313/313 [==============================] - 6s 19ms/step - loss: 0.5453 - accuracy: 0.7669 - val_loss: 0.5402 - val_accuracy: 0.7694\n",
      "Epoch 10/100\n",
      "313/313 [==============================] - 6s 21ms/step - loss: 0.5318 - accuracy: 0.7732 - val_loss: 0.5297 - val_accuracy: 0.7666\n",
      "Epoch 11/100\n",
      "313/313 [==============================] - 7s 22ms/step - loss: 0.5207 - accuracy: 0.7745 - val_loss: 0.5177 - val_accuracy: 0.7778\n",
      "Epoch 12/100\n",
      "313/313 [==============================] - 7s 22ms/step - loss: 0.5083 - accuracy: 0.7796 - val_loss: 0.5078 - val_accuracy: 0.7730\n",
      "Epoch 13/100\n",
      "313/313 [==============================] - 7s 22ms/step - loss: 0.4987 - accuracy: 0.7832 - val_loss: 0.5021 - val_accuracy: 0.7680\n",
      "Epoch 14/100\n",
      "313/313 [==============================] - 7s 22ms/step - loss: 0.4887 - accuracy: 0.7862 - val_loss: 0.4896 - val_accuracy: 0.7828\n",
      "Epoch 15/100\n",
      "313/313 [==============================] - 7s 22ms/step - loss: 0.4810 - accuracy: 0.7883 - val_loss: 0.4826 - val_accuracy: 0.7808\n",
      "Epoch 16/100\n",
      "313/313 [==============================] - 7s 22ms/step - loss: 0.4725 - accuracy: 0.7926 - val_loss: 0.4753 - val_accuracy: 0.7802\n",
      "Epoch 17/100\n",
      "313/313 [==============================] - 7s 22ms/step - loss: 0.4654 - accuracy: 0.7936 - val_loss: 0.4688 - val_accuracy: 0.7858\n",
      "Epoch 18/100\n",
      "313/313 [==============================] - 7s 22ms/step - loss: 0.4590 - accuracy: 0.7956 - val_loss: 0.4612 - val_accuracy: 0.7878\n",
      "Epoch 19/100\n",
      "313/313 [==============================] - 7s 22ms/step - loss: 0.4518 - accuracy: 0.8001 - val_loss: 0.4569 - val_accuracy: 0.7930\n",
      "Epoch 20/100\n",
      "313/313 [==============================] - 7s 22ms/step - loss: 0.4477 - accuracy: 0.7980 - val_loss: 0.4524 - val_accuracy: 0.7948\n",
      "Epoch 21/100\n",
      "313/313 [==============================] - 7s 21ms/step - loss: 0.4426 - accuracy: 0.8023 - val_loss: 0.4484 - val_accuracy: 0.7942\n",
      "Epoch 22/100\n",
      "313/313 [==============================] - 7s 21ms/step - loss: 0.4393 - accuracy: 0.8012 - val_loss: 0.4455 - val_accuracy: 0.7984\n",
      "Epoch 23/100\n",
      "313/313 [==============================] - 7s 22ms/step - loss: 0.4367 - accuracy: 0.8029 - val_loss: 0.4429 - val_accuracy: 0.7988\n",
      "Epoch 24/100\n",
      "313/313 [==============================] - 7s 22ms/step - loss: 0.4316 - accuracy: 0.8055 - val_loss: 0.4417 - val_accuracy: 0.7960\n",
      "Epoch 25/100\n",
      "313/313 [==============================] - 7s 22ms/step - loss: 0.4303 - accuracy: 0.8073 - val_loss: 0.4390 - val_accuracy: 0.7982\n",
      "Epoch 26/100\n",
      "313/313 [==============================] - 7s 22ms/step - loss: 0.4290 - accuracy: 0.8054 - val_loss: 0.4380 - val_accuracy: 0.8000\n",
      "Epoch 27/100\n",
      "313/313 [==============================] - 7s 22ms/step - loss: 0.4269 - accuracy: 0.8072 - val_loss: 0.4368 - val_accuracy: 0.7992\n",
      "Epoch 28/100\n",
      "313/313 [==============================] - 7s 22ms/step - loss: 0.4245 - accuracy: 0.8072 - val_loss: 0.4362 - val_accuracy: 0.8000\n",
      "Epoch 29/100\n",
      "313/313 [==============================] - 7s 22ms/step - loss: 0.4250 - accuracy: 0.8051 - val_loss: 0.4351 - val_accuracy: 0.7978\n",
      "Epoch 30/100\n",
      "313/313 [==============================] - 7s 22ms/step - loss: 0.4221 - accuracy: 0.8081 - val_loss: 0.4342 - val_accuracy: 0.8006\n",
      "Epoch 31/100\n",
      "313/313 [==============================] - 7s 22ms/step - loss: 0.4220 - accuracy: 0.8072 - val_loss: 0.4340 - val_accuracy: 0.8004\n",
      "Epoch 32/100\n",
      "313/313 [==============================] - 7s 22ms/step - loss: 0.4202 - accuracy: 0.8092 - val_loss: 0.4350 - val_accuracy: 0.7968\n",
      "Epoch 33/100\n",
      "313/313 [==============================] - 7s 22ms/step - loss: 0.4198 - accuracy: 0.8092 - val_loss: 0.4350 - val_accuracy: 0.8010\n",
      "Epoch 34/100\n",
      "313/313 [==============================] - 7s 22ms/step - loss: 0.4182 - accuracy: 0.8104 - val_loss: 0.4331 - val_accuracy: 0.7980\n",
      "Epoch 35/100\n",
      "313/313 [==============================] - 7s 22ms/step - loss: 0.4180 - accuracy: 0.8095 - val_loss: 0.4349 - val_accuracy: 0.7938\n",
      "Epoch 36/100\n",
      "313/313 [==============================] - 7s 22ms/step - loss: 0.4176 - accuracy: 0.8097 - val_loss: 0.4320 - val_accuracy: 0.8008\n",
      "Epoch 37/100\n",
      "313/313 [==============================] - 7s 22ms/step - loss: 0.4173 - accuracy: 0.8097 - val_loss: 0.4376 - val_accuracy: 0.7938\n",
      "Epoch 38/100\n",
      "313/313 [==============================] - 7s 22ms/step - loss: 0.4170 - accuracy: 0.8094 - val_loss: 0.4321 - val_accuracy: 0.8012\n",
      "Epoch 39/100\n",
      "313/313 [==============================] - 7s 22ms/step - loss: 0.4179 - accuracy: 0.8110 - val_loss: 0.4316 - val_accuracy: 0.7996\n",
      "Epoch 40/100\n",
      "313/313 [==============================] - 7s 22ms/step - loss: 0.4160 - accuracy: 0.8086 - val_loss: 0.4309 - val_accuracy: 0.8024\n",
      "Epoch 41/100\n",
      "313/313 [==============================] - 7s 22ms/step - loss: 0.4142 - accuracy: 0.8112 - val_loss: 0.4309 - val_accuracy: 0.8000\n",
      "Epoch 42/100\n",
      "313/313 [==============================] - 7s 22ms/step - loss: 0.4144 - accuracy: 0.8105 - val_loss: 0.4316 - val_accuracy: 0.8024\n",
      "Epoch 43/100\n",
      "313/313 [==============================] - 7s 22ms/step - loss: 0.4139 - accuracy: 0.8109 - val_loss: 0.4311 - val_accuracy: 0.8000\n"
     ]
    }
   ],
   "source": [
    "rmsprop = keras.optimizers.RMSprop(learning_rate=1e-4)\n",
    "model2.compile(optimizer=rmsprop, loss='binary_crossentropy', \n",
    "               metrics=['accuracy'])\n",
    "\n",
    "checkpoint_cb = keras.callbacks.ModelCheckpoint('best-dropout-model.h5', \n",
    "                                                save_best_only=True)\n",
    "early_stopping_cb = keras.callbacks.EarlyStopping(patience=3,\n",
    "                                                  restore_best_weights=True)\n",
    "\n",
    "history = model2.fit(train_seq, train_target, epochs=100, batch_size=64,\n",
    "                     validation_data=(val_seq, val_target),\n",
    "                     callbacks=[checkpoint_cb, early_stopping_cb])"
   ]
  },
  {
   "cell_type": "code",
   "execution_count": 8,
   "metadata": {
    "colab": {
     "base_uri": "https://localhost:8080/",
     "height": 279
    },
    "execution": {
     "iopub.execute_input": "2022-01-08T06:50:43.264141Z",
     "iopub.status.busy": "2022-01-08T06:50:43.263215Z",
     "iopub.status.idle": "2022-01-08T06:50:43.413447Z",
     "shell.execute_reply": "2022-01-08T06:50:43.412882Z"
    },
    "id": "Qzwsp3pl6k2R",
    "outputId": "97305973-3c11-4c55-c466-a608273094cb"
   },
   "outputs": [
    {
     "data": {
      "image/png": "[encoded data removed]",
      "text/plain": [
       "<Figure size 432x288 with 1 Axes>"
      ]
     },
     "metadata": {
      "needs_background": "light"
     },
     "output_type": "display_data"
    }
   ],
   "source": [
    "plt.plot(history.history['loss'])\n",
    "plt.plot(history.history['val_loss'])\n",
    "plt.xlabel('epoch')\n",
    "plt.ylabel('loss')\n",
    "plt.legend(['train', 'val'])\n",
    "plt.show()"
   ]
  },
  {
   "cell_type": "markdown",
   "metadata": {
    "id": "DKtQByM96k2S"
   },
   "source": [
    "## 2개의 층을 연결하기"
   ]
  },
  {
   "cell_type": "code",
   "execution_count": 9,
   "metadata": {
    "colab": {
     "base_uri": "https://localhost:8080/"
    },
    "execution": {
     "iopub.execute_input": "2022-01-08T06:50:43.420502Z",
     "iopub.status.busy": "2022-01-08T06:50:43.419839Z",
     "iopub.status.idle": "2022-01-08T06:50:43.869743Z",
     "shell.execute_reply": "2022-01-08T06:50:43.869180Z"
    },
    "id": "YkQboCpD6k2S",
    "outputId": "5f30a5ec-16a9-476a-95b6-3d55b36b64b4"
   },
   "outputs": [
    {
     "name": "stdout",
     "output_type": "stream",
     "text": [
      "Model: \"sequential_2\"\n",
      "_________________________________________________________________\n",
      " Layer (type)                Output Shape              Param #   \n",
      "=================================================================\n",
      " embedding_2 (Embedding)     (None, 100, 16)           8000      \n",
      "                                                                 \n",
      " lstm_2 (LSTM)               (None, 100, 8)            800       \n",
      "                                                                 \n",
      " lstm_3 (LSTM)               (None, 8)                 544       \n",
      "                                                                 \n",
      " dense_2 (Dense)             (None, 1)                 9         \n",
      "                                                                 \n",
      "=================================================================\n",
      "Total params: 9,353\n",
      "Trainable params: 9,353\n",
      "Non-trainable params: 0\n",
      "_________________________________________________________________\n"
     ]
    }
   ],
   "source": [
    "model3 = keras.Sequential()\n",
    "\n",
    "model3.add(keras.layers.Embedding(500, 16, input_length=100))\n",
    "model3.add(keras.layers.LSTM(8, dropout=0.3, return_sequences=True))\n",
    "model3.add(keras.layers.LSTM(8, dropout=0.3))\n",
    "model3.add(keras.layers.Dense(1, activation='sigmoid'))\n",
    "\n",
    "model3.summary()"
   ]
  },
  {
   "cell_type": "code",
   "execution_count": 10,
   "metadata": {
    "colab": {
     "base_uri": "https://localhost:8080/"
    },
    "execution": {
     "iopub.execute_input": "2022-01-08T06:50:43.878202Z",
     "iopub.status.busy": "2022-01-08T06:50:43.877451Z",
     "iopub.status.idle": "2022-01-08T07:03:47.427095Z",
     "shell.execute_reply": "2022-01-08T07:03:47.426473Z"
    },
    "id": "hDk_ffAo6k2S",
    "outputId": "f7439e48-073f-4124-b10e-dea60f18f69d"
   },
   "outputs": [
    {
     "name": "stdout",
     "output_type": "stream",
     "text": [
      "Epoch 1/100\n",
      "313/313 [==============================] - 15s 43ms/step - loss: 0.6924 - accuracy: 0.5373 - val_loss: 0.6909 - val_accuracy: 0.6096\n",
      "Epoch 2/100\n",
      "313/313 [==============================] - 14s 44ms/step - loss: 0.6859 - accuracy: 0.6146 - val_loss: 0.6751 - val_accuracy: 0.6384\n",
      "Epoch 3/100\n",
      "313/313 [==============================] - 13s 42ms/step - loss: 0.6321 - accuracy: 0.6715 - val_loss: 0.5885 - val_accuracy: 0.7162\n",
      "Epoch 4/100\n",
      "313/313 [==============================] - 13s 41ms/step - loss: 0.5677 - accuracy: 0.7263 - val_loss: 0.5461 - val_accuracy: 0.7452\n",
      "Epoch 5/100\n",
      "313/313 [==============================] - 13s 43ms/step - loss: 0.5373 - accuracy: 0.7451 - val_loss: 0.5210 - val_accuracy: 0.7584\n",
      "Epoch 6/100\n",
      "313/313 [==============================] - 13s 42ms/step - loss: 0.5195 - accuracy: 0.7579 - val_loss: 0.5021 - val_accuracy: 0.7710\n",
      "Epoch 7/100\n",
      "313/313 [==============================] - 13s 42ms/step - loss: 0.5040 - accuracy: 0.7650 - val_loss: 0.4910 - val_accuracy: 0.7770\n",
      "Epoch 8/100\n",
      "313/313 [==============================] - 13s 42ms/step - loss: 0.4922 - accuracy: 0.7738 - val_loss: 0.4882 - val_accuracy: 0.7714\n",
      "Epoch 9/100\n",
      "313/313 [==============================] - 13s 42ms/step - loss: 0.4839 - accuracy: 0.7767 - val_loss: 0.4741 - val_accuracy: 0.7834\n",
      "Epoch 10/100\n",
      "313/313 [==============================] - 13s 41ms/step - loss: 0.4759 - accuracy: 0.7813 - val_loss: 0.4754 - val_accuracy: 0.7828\n",
      "Epoch 11/100\n",
      "313/313 [==============================] - 13s 42ms/step - loss: 0.4703 - accuracy: 0.7832 - val_loss: 0.4652 - val_accuracy: 0.7842\n",
      "Epoch 12/100\n",
      "313/313 [==============================] - 13s 42ms/step - loss: 0.4648 - accuracy: 0.7863 - val_loss: 0.4611 - val_accuracy: 0.7866\n",
      "Epoch 13/100\n",
      "313/313 [==============================] - 13s 42ms/step - loss: 0.4598 - accuracy: 0.7904 - val_loss: 0.4662 - val_accuracy: 0.7840\n",
      "Epoch 14/100\n",
      "313/313 [==============================] - 13s 42ms/step - loss: 0.4572 - accuracy: 0.7916 - val_loss: 0.4559 - val_accuracy: 0.7902\n",
      "Epoch 15/100\n",
      "313/313 [==============================] - 13s 42ms/step - loss: 0.4535 - accuracy: 0.7917 - val_loss: 0.4542 - val_accuracy: 0.7892\n",
      "Epoch 16/100\n",
      "313/313 [==============================] - 13s 42ms/step - loss: 0.4519 - accuracy: 0.7926 - val_loss: 0.4516 - val_accuracy: 0.7926\n",
      "Epoch 17/100\n",
      "313/313 [==============================] - 13s 42ms/step - loss: 0.4475 - accuracy: 0.7965 - val_loss: 0.4509 - val_accuracy: 0.7908\n",
      "Epoch 18/100\n",
      "313/313 [==============================] - 13s 42ms/step - loss: 0.4458 - accuracy: 0.7982 - val_loss: 0.4493 - val_accuracy: 0.7948\n",
      "Epoch 19/100\n",
      "313/313 [==============================] - 13s 43ms/step - loss: 0.4432 - accuracy: 0.7968 - val_loss: 0.4488 - val_accuracy: 0.7920\n",
      "Epoch 20/100\n",
      "313/313 [==============================] - 13s 42ms/step - loss: 0.4432 - accuracy: 0.7991 - val_loss: 0.4501 - val_accuracy: 0.7904\n",
      "Epoch 21/100\n",
      "313/313 [==============================] - 13s 42ms/step - loss: 0.4409 - accuracy: 0.7998 - val_loss: 0.4472 - val_accuracy: 0.7934\n",
      "Epoch 22/100\n",
      "313/313 [==============================] - 13s 42ms/step - loss: 0.4405 - accuracy: 0.7993 - val_loss: 0.4446 - val_accuracy: 0.7934\n",
      "Epoch 23/100\n",
      "313/313 [==============================] - 13s 43ms/step - loss: 0.4364 - accuracy: 0.8043 - val_loss: 0.4455 - val_accuracy: 0.7968\n",
      "Epoch 24/100\n",
      "313/313 [==============================] - 13s 42ms/step - loss: 0.4353 - accuracy: 0.8029 - val_loss: 0.4420 - val_accuracy: 0.7984\n",
      "Epoch 25/100\n",
      "313/313 [==============================] - 13s 43ms/step - loss: 0.4328 - accuracy: 0.8040 - val_loss: 0.4449 - val_accuracy: 0.7890\n",
      "Epoch 26/100\n",
      "313/313 [==============================] - 14s 44ms/step - loss: 0.4332 - accuracy: 0.8029 - val_loss: 0.4410 - val_accuracy: 0.7972\n",
      "Epoch 27/100\n",
      "313/313 [==============================] - 14s 46ms/step - loss: 0.4322 - accuracy: 0.8018 - val_loss: 0.4411 - val_accuracy: 0.7998\n",
      "Epoch 28/100\n",
      "313/313 [==============================] - 13s 43ms/step - loss: 0.4319 - accuracy: 0.8038 - val_loss: 0.4418 - val_accuracy: 0.7980\n",
      "Epoch 29/100\n",
      "313/313 [==============================] - 13s 42ms/step - loss: 0.4299 - accuracy: 0.8048 - val_loss: 0.4392 - val_accuracy: 0.7986\n",
      "Epoch 30/100\n",
      "313/313 [==============================] - 13s 42ms/step - loss: 0.4303 - accuracy: 0.8046 - val_loss: 0.4416 - val_accuracy: 0.7984\n",
      "Epoch 31/100\n",
      "313/313 [==============================] - 13s 43ms/step - loss: 0.4288 - accuracy: 0.8040 - val_loss: 0.4464 - val_accuracy: 0.7892\n",
      "Epoch 32/100\n",
      "313/313 [==============================] - 14s 43ms/step - loss: 0.4285 - accuracy: 0.8041 - val_loss: 0.4399 - val_accuracy: 0.7910\n"
     ]
    }
   ],
   "source": [
    "rmsprop = keras.optimizers.RMSprop(learning_rate=1e-4)\n",
    "model3.compile(optimizer=rmsprop, loss='binary_crossentropy', \n",
    "               metrics=['accuracy'])\n",
    "\n",
    "checkpoint_cb = keras.callbacks.ModelCheckpoint('best-2rnn-model.h5', \n",
    "                                                save_best_only=True)\n",
    "early_stopping_cb = keras.callbacks.EarlyStopping(patience=3,\n",
    "                                                  restore_best_weights=True)\n",
    "\n",
    "history = model3.fit(train_seq, train_target, epochs=100, batch_size=64,\n",
    "                     validation_data=(val_seq, val_target),\n",
    "                     callbacks=[checkpoint_cb, early_stopping_cb])"
   ]
  },
  {
   "cell_type": "code",
   "execution_count": 11,
   "metadata": {
    "colab": {
     "base_uri": "https://localhost:8080/",
     "height": 279
    },
    "execution": {
     "iopub.execute_input": "2022-01-08T07:03:47.435131Z",
     "iopub.status.busy": "2022-01-08T07:03:47.434189Z",
     "iopub.status.idle": "2022-01-08T07:03:47.576747Z",
     "shell.execute_reply": "2022-01-08T07:03:47.577169Z"
    },
    "id": "1paBqczf6k2S",
    "outputId": "8dec69f9-2aa3-4b2f-f5c9-c0d2713ab4f6"
   },
   "outputs": [
    {
     "data": {
      "image/png": "[encoded data removed]",
      "text/plain": [
       "<Figure size 432x288 with 1 Axes>"
      ]
     },
     "metadata": {
      "needs_background": "light"
     },
     "output_type": "display_data"
    }
   ],
   "source": [
    "plt.plot(history.history['loss'])\n",
    "plt.plot(history.history['val_loss'])\n",
    "plt.xlabel('epoch')\n",
    "plt.ylabel('loss')\n",
    "plt.legend(['train', 'val'])\n",
    "plt.show()"
   ]
  },
  {
   "cell_type": "markdown",
   "metadata": {
    "id": "Jisn0P9h6k2T"
   },
   "source": [
    "## GRU 신경망 훈련하기"
   ]
  },
  {
   "cell_type": "code",
   "execution_count": 12,
   "metadata": {
    "colab": {
     "base_uri": "https://localhost:8080/"
    },
    "execution": {
     "iopub.execute_input": "2022-01-08T07:03:47.580725Z",
     "iopub.status.busy": "2022-01-08T07:03:47.580053Z",
     "iopub.status.idle": "2022-01-08T07:03:47.802422Z",
     "shell.execute_reply": "2022-01-08T07:03:47.802844Z"
    },
    "id": "dwYF578d6k2T",
    "outputId": "72677151-359c-4d9c-9fd0-026c778f4ad5"
   },
   "outputs": [
    {
     "name": "stdout",
     "output_type": "stream",
     "text": [
      "Model: \"sequential_3\"\n",
      "_________________________________________________________________\n",
      " Layer (type)                Output Shape              Param #   \n",
      "=================================================================\n",
      " embedding_3 (Embedding)     (None, 100, 16)           8000      \n",
      "                                                                 \n",
      " gru (GRU)                   (None, 8)                 624       \n",
      "                                                                 \n",
      " dense_3 (Dense)             (None, 1)                 9         \n",
      "                                                                 \n",
      "=================================================================\n",
      "Total params: 8,633\n",
      "Trainable params: 8,633\n",
      "Non-trainable params: 0\n",
      "_________________________________________________________________\n"
     ]
    }
   ],
   "source": [
    "model4 = keras.Sequential()\n",
    "\n",
    "model4.add(keras.layers.Embedding(500, 16, input_length=100))\n",
    "model4.add(keras.layers.GRU(8))\n",
    "model4.add(keras.layers.Dense(1, activation='sigmoid'))\n",
    "\n",
    "model4.summary()"
   ]
  },
  {
   "cell_type": "code",
   "execution_count": 13,
   "metadata": {
    "colab": {
     "base_uri": "https://localhost:8080/"
    },
    "execution": {
     "iopub.execute_input": "2022-01-08T07:03:47.818690Z",
     "iopub.status.busy": "2022-01-08T07:03:47.812276Z",
     "iopub.status.idle": "2022-01-08T07:10:35.067892Z",
     "shell.execute_reply": "2022-01-08T07:10:35.068361Z"
    },
    "id": "j2SfOZ3v6k2U",
    "outputId": "80bc83ae-1472-4c03-f372-92a6572e71b8"
   },
   "outputs": [
    {
     "name": "stdout",
     "output_type": "stream",
     "text": [
      "Epoch 1/100\n",
      "313/313 [==============================] - 9s 25ms/step - loss: 0.6926 - accuracy: 0.5246 - val_loss: 0.6922 - val_accuracy: 0.5318\n",
      "Epoch 2/100\n",
      "313/313 [==============================] - 7s 24ms/step - loss: 0.6908 - accuracy: 0.5620 - val_loss: 0.6902 - val_accuracy: 0.5582\n",
      "Epoch 3/100\n",
      "313/313 [==============================] - 7s 24ms/step - loss: 0.6881 - accuracy: 0.5876 - val_loss: 0.6872 - val_accuracy: 0.5782\n",
      "Epoch 4/100\n",
      "313/313 [==============================] - 7s 24ms/step - loss: 0.6839 - accuracy: 0.6055 - val_loss: 0.6827 - val_accuracy: 0.5974\n",
      "Epoch 5/100\n",
      "313/313 [==============================] - 7s 24ms/step - loss: 0.6779 - accuracy: 0.6206 - val_loss: 0.6762 - val_accuracy: 0.6070\n",
      "Epoch 6/100\n",
      "313/313 [==============================] - 7s 23ms/step - loss: 0.6693 - accuracy: 0.6353 - val_loss: 0.6669 - val_accuracy: 0.6196\n",
      "Epoch 7/100\n",
      "313/313 [==============================] - 7s 24ms/step - loss: 0.6570 - accuracy: 0.6450 - val_loss: 0.6540 - val_accuracy: 0.6346\n",
      "Epoch 8/100\n",
      "313/313 [==============================] - 7s 24ms/step - loss: 0.6393 - accuracy: 0.6581 - val_loss: 0.6344 - val_accuracy: 0.6508\n",
      "Epoch 9/100\n",
      "313/313 [==============================] - 8s 25ms/step - loss: 0.6130 - accuracy: 0.6778 - val_loss: 0.6055 - val_accuracy: 0.6822\n",
      "Epoch 10/100\n",
      "313/313 [==============================] - 7s 24ms/step - loss: 0.5719 - accuracy: 0.7102 - val_loss: 0.5580 - val_accuracy: 0.7200\n",
      "Epoch 11/100\n",
      "313/313 [==============================] - 7s 23ms/step - loss: 0.5208 - accuracy: 0.7474 - val_loss: 0.5239 - val_accuracy: 0.7460\n",
      "Epoch 12/100\n",
      "313/313 [==============================] - 7s 24ms/step - loss: 0.4995 - accuracy: 0.7624 - val_loss: 0.5099 - val_accuracy: 0.7558\n",
      "Epoch 13/100\n",
      "313/313 [==============================] - 7s 24ms/step - loss: 0.4874 - accuracy: 0.7715 - val_loss: 0.5005 - val_accuracy: 0.7606\n",
      "Epoch 14/100\n",
      "313/313 [==============================] - 7s 24ms/step - loss: 0.4777 - accuracy: 0.7781 - val_loss: 0.4931 - val_accuracy: 0.7650\n",
      "Epoch 15/100\n",
      "313/313 [==============================] - 7s 23ms/step - loss: 0.4698 - accuracy: 0.7843 - val_loss: 0.4876 - val_accuracy: 0.7690\n",
      "Epoch 16/100\n",
      "313/313 [==============================] - 7s 24ms/step - loss: 0.4627 - accuracy: 0.7873 - val_loss: 0.4843 - val_accuracy: 0.7704\n",
      "Epoch 17/100\n",
      "313/313 [==============================] - 8s 27ms/step - loss: 0.4566 - accuracy: 0.7918 - val_loss: 0.4785 - val_accuracy: 0.7720\n",
      "Epoch 18/100\n",
      "313/313 [==============================] - 7s 24ms/step - loss: 0.4517 - accuracy: 0.7958 - val_loss: 0.4746 - val_accuracy: 0.7746\n",
      "Epoch 19/100\n",
      "313/313 [==============================] - 7s 24ms/step - loss: 0.4482 - accuracy: 0.7971 - val_loss: 0.4711 - val_accuracy: 0.7782\n",
      "Epoch 20/100\n",
      "313/313 [==============================] - 7s 24ms/step - loss: 0.4445 - accuracy: 0.8012 - val_loss: 0.4687 - val_accuracy: 0.7804\n",
      "Epoch 21/100\n",
      "313/313 [==============================] - 8s 24ms/step - loss: 0.4416 - accuracy: 0.8026 - val_loss: 0.4670 - val_accuracy: 0.7810\n",
      "Epoch 22/100\n",
      "313/313 [==============================] - 8s 24ms/step - loss: 0.4388 - accuracy: 0.8039 - val_loss: 0.4642 - val_accuracy: 0.7822\n",
      "Epoch 23/100\n",
      "313/313 [==============================] - 8s 24ms/step - loss: 0.4364 - accuracy: 0.8061 - val_loss: 0.4623 - val_accuracy: 0.7852\n",
      "Epoch 24/100\n",
      "313/313 [==============================] - 8s 24ms/step - loss: 0.4340 - accuracy: 0.8079 - val_loss: 0.4609 - val_accuracy: 0.7840\n",
      "Epoch 25/100\n",
      "313/313 [==============================] - 8s 24ms/step - loss: 0.4323 - accuracy: 0.8097 - val_loss: 0.4587 - val_accuracy: 0.7898\n",
      "Epoch 26/100\n",
      "313/313 [==============================] - 7s 24ms/step - loss: 0.4308 - accuracy: 0.8099 - val_loss: 0.4575 - val_accuracy: 0.7864\n",
      "Epoch 27/100\n",
      "313/313 [==============================] - 7s 24ms/step - loss: 0.4293 - accuracy: 0.8108 - val_loss: 0.4572 - val_accuracy: 0.7888\n",
      "Epoch 28/100\n",
      "313/313 [==============================] - 8s 24ms/step - loss: 0.4277 - accuracy: 0.8105 - val_loss: 0.4555 - val_accuracy: 0.7896\n",
      "Epoch 29/100\n",
      "313/313 [==============================] - 8s 24ms/step - loss: 0.4265 - accuracy: 0.8124 - val_loss: 0.4561 - val_accuracy: 0.7852\n",
      "Epoch 30/100\n",
      "313/313 [==============================] - 8s 24ms/step - loss: 0.4254 - accuracy: 0.8117 - val_loss: 0.4535 - val_accuracy: 0.7896\n",
      "Epoch 31/100\n",
      "313/313 [==============================] - 8s 24ms/step - loss: 0.4240 - accuracy: 0.8139 - val_loss: 0.4523 - val_accuracy: 0.7902\n",
      "Epoch 32/100\n",
      "313/313 [==============================] - 7s 24ms/step - loss: 0.4231 - accuracy: 0.8134 - val_loss: 0.4523 - val_accuracy: 0.7876\n",
      "Epoch 33/100\n",
      "313/313 [==============================] - 8s 24ms/step - loss: 0.4219 - accuracy: 0.8144 - val_loss: 0.4528 - val_accuracy: 0.7900\n",
      "Epoch 34/100\n",
      "313/313 [==============================] - 8s 24ms/step - loss: 0.4216 - accuracy: 0.8153 - val_loss: 0.4530 - val_accuracy: 0.7926\n",
      "Epoch 35/100\n",
      "313/313 [==============================] - 8s 24ms/step - loss: 0.4207 - accuracy: 0.8157 - val_loss: 0.4501 - val_accuracy: 0.7892\n",
      "Epoch 36/100\n",
      "313/313 [==============================] - 8s 24ms/step - loss: 0.4197 - accuracy: 0.8155 - val_loss: 0.4503 - val_accuracy: 0.7860\n",
      "Epoch 37/100\n",
      "313/313 [==============================] - 8s 24ms/step - loss: 0.4189 - accuracy: 0.8156 - val_loss: 0.4492 - val_accuracy: 0.7894\n",
      "Epoch 38/100\n",
      "313/313 [==============================] - 8s 24ms/step - loss: 0.4183 - accuracy: 0.8163 - val_loss: 0.4491 - val_accuracy: 0.7904\n",
      "Epoch 39/100\n",
      "313/313 [==============================] - 8s 24ms/step - loss: 0.4175 - accuracy: 0.8167 - val_loss: 0.4473 - val_accuracy: 0.7888\n",
      "Epoch 40/100\n",
      "313/313 [==============================] - 8s 24ms/step - loss: 0.4171 - accuracy: 0.8167 - val_loss: 0.4470 - val_accuracy: 0.7904\n",
      "Epoch 41/100\n",
      "313/313 [==============================] - 8s 24ms/step - loss: 0.4163 - accuracy: 0.8177 - val_loss: 0.4459 - val_accuracy: 0.7908\n",
      "Epoch 42/100\n",
      "313/313 [==============================] - 8s 24ms/step - loss: 0.4160 - accuracy: 0.8166 - val_loss: 0.4455 - val_accuracy: 0.7920\n",
      "Epoch 43/100\n",
      "313/313 [==============================] - 8s 24ms/step - loss: 0.4152 - accuracy: 0.8156 - val_loss: 0.4469 - val_accuracy: 0.7910\n",
      "Epoch 44/100\n",
      "313/313 [==============================] - 8s 24ms/step - loss: 0.4147 - accuracy: 0.8172 - val_loss: 0.4444 - val_accuracy: 0.7916\n",
      "Epoch 45/100\n",
      "313/313 [==============================] - 8s 24ms/step - loss: 0.4145 - accuracy: 0.8181 - val_loss: 0.4436 - val_accuracy: 0.7918\n",
      "Epoch 46/100\n",
      "313/313 [==============================] - 8s 24ms/step - loss: 0.4137 - accuracy: 0.8177 - val_loss: 0.4437 - val_accuracy: 0.7928\n",
      "Epoch 47/100\n",
      "313/313 [==============================] - 8s 24ms/step - loss: 0.4138 - accuracy: 0.8179 - val_loss: 0.4425 - val_accuracy: 0.7924\n",
      "Epoch 48/100\n",
      "313/313 [==============================] - 8s 24ms/step - loss: 0.4128 - accuracy: 0.8187 - val_loss: 0.4458 - val_accuracy: 0.7934\n",
      "Epoch 49/100\n",
      "313/313 [==============================] - 8s 25ms/step - loss: 0.4123 - accuracy: 0.8184 - val_loss: 0.4431 - val_accuracy: 0.7952\n",
      "Epoch 50/100\n",
      "313/313 [==============================] - 8s 25ms/step - loss: 0.4119 - accuracy: 0.8178 - val_loss: 0.4410 - val_accuracy: 0.7956\n",
      "Epoch 51/100\n",
      "313/313 [==============================] - 8s 24ms/step - loss: 0.4116 - accuracy: 0.8174 - val_loss: 0.4415 - val_accuracy: 0.7938\n",
      "Epoch 52/100\n",
      "313/313 [==============================] - 8s 24ms/step - loss: 0.4114 - accuracy: 0.8184 - val_loss: 0.4398 - val_accuracy: 0.7954\n",
      "Epoch 53/100\n",
      "313/313 [==============================] - 8s 24ms/step - loss: 0.4109 - accuracy: 0.8181 - val_loss: 0.4400 - val_accuracy: 0.7948\n",
      "Epoch 54/100\n",
      "313/313 [==============================] - 8s 24ms/step - loss: 0.4110 - accuracy: 0.8174 - val_loss: 0.4393 - val_accuracy: 0.7964\n",
      "Epoch 55/100\n",
      "313/313 [==============================] - 8s 24ms/step - loss: 0.4103 - accuracy: 0.8180 - val_loss: 0.4386 - val_accuracy: 0.7970\n",
      "Epoch 56/100\n",
      "313/313 [==============================] - 8s 24ms/step - loss: 0.4101 - accuracy: 0.8177 - val_loss: 0.4387 - val_accuracy: 0.7964\n",
      "Epoch 57/100\n"
     ]
    },
    {
     "name": "stdout",
     "output_type": "stream",
     "text": [
      "313/313 [==============================] - 9s 28ms/step - loss: 0.4093 - accuracy: 0.8190 - val_loss: 0.4382 - val_accuracy: 0.7962\n",
      "Epoch 58/100\n",
      "313/313 [==============================] - 8s 26ms/step - loss: 0.4090 - accuracy: 0.8195 - val_loss: 0.4371 - val_accuracy: 0.7982\n",
      "Epoch 59/100\n",
      "313/313 [==============================] - 7s 24ms/step - loss: 0.4086 - accuracy: 0.8187 - val_loss: 0.4392 - val_accuracy: 0.7984\n",
      "Epoch 60/100\n",
      "313/313 [==============================] - 8s 24ms/step - loss: 0.4086 - accuracy: 0.8180 - val_loss: 0.4367 - val_accuracy: 0.7996\n",
      "Epoch 61/100\n",
      "313/313 [==============================] - 8s 24ms/step - loss: 0.4082 - accuracy: 0.8183 - val_loss: 0.4365 - val_accuracy: 0.7982\n",
      "Epoch 62/100\n",
      "313/313 [==============================] - 8s 24ms/step - loss: 0.4077 - accuracy: 0.8181 - val_loss: 0.4360 - val_accuracy: 0.7994\n",
      "Epoch 63/100\n",
      "313/313 [==============================] - 8s 24ms/step - loss: 0.4074 - accuracy: 0.8192 - val_loss: 0.4360 - val_accuracy: 0.8000\n",
      "Epoch 64/100\n",
      "313/313 [==============================] - 8s 24ms/step - loss: 0.4071 - accuracy: 0.8186 - val_loss: 0.4372 - val_accuracy: 0.8000\n",
      "Epoch 65/100\n",
      "313/313 [==============================] - 8s 24ms/step - loss: 0.4067 - accuracy: 0.8171 - val_loss: 0.4352 - val_accuracy: 0.8018\n",
      "Epoch 66/100\n",
      "313/313 [==============================] - 8s 24ms/step - loss: 0.4065 - accuracy: 0.8181 - val_loss: 0.4354 - val_accuracy: 0.7998\n",
      "Epoch 67/100\n",
      "313/313 [==============================] - 8s 24ms/step - loss: 0.4061 - accuracy: 0.8185 - val_loss: 0.4348 - val_accuracy: 0.8002\n",
      "Epoch 68/100\n",
      "313/313 [==============================] - 8s 24ms/step - loss: 0.4059 - accuracy: 0.8204 - val_loss: 0.4369 - val_accuracy: 0.7980\n",
      "Epoch 69/100\n",
      "313/313 [==============================] - 8s 24ms/step - loss: 0.4053 - accuracy: 0.8184 - val_loss: 0.4337 - val_accuracy: 0.8008\n",
      "Epoch 70/100\n",
      "313/313 [==============================] - 8s 24ms/step - loss: 0.4052 - accuracy: 0.8194 - val_loss: 0.4344 - val_accuracy: 0.7996\n",
      "Epoch 71/100\n",
      "313/313 [==============================] - 8s 24ms/step - loss: 0.4049 - accuracy: 0.8184 - val_loss: 0.4329 - val_accuracy: 0.8028\n",
      "Epoch 72/100\n",
      "313/313 [==============================] - 8s 24ms/step - loss: 0.4044 - accuracy: 0.8188 - val_loss: 0.4333 - val_accuracy: 0.8016\n",
      "Epoch 73/100\n",
      "313/313 [==============================] - 8s 24ms/step - loss: 0.4042 - accuracy: 0.8202 - val_loss: 0.4329 - val_accuracy: 0.8008\n",
      "Epoch 74/100\n",
      "313/313 [==============================] - 8s 24ms/step - loss: 0.4037 - accuracy: 0.8187 - val_loss: 0.4330 - val_accuracy: 0.8002\n"
     ]
    }
   ],
   "source": [
    "rmsprop = keras.optimizers.RMSprop(learning_rate=1e-4)\n",
    "model4.compile(optimizer=rmsprop, loss='binary_crossentropy', \n",
    "               metrics=['accuracy'])\n",
    "\n",
    "checkpoint_cb = keras.callbacks.ModelCheckpoint('best-gru-model.h5', \n",
    "                                                save_best_only=True)\n",
    "early_stopping_cb = keras.callbacks.EarlyStopping(patience=3,\n",
    "                                                  restore_best_weights=True)\n",
    "\n",
    "history = model4.fit(train_seq, train_target, epochs=100, batch_size=64,\n",
    "                     validation_data=(val_seq, val_target),\n",
    "                     callbacks=[checkpoint_cb, early_stopping_cb])"
   ]
  },
  {
   "cell_type": "code",
   "execution_count": 14,
   "metadata": {
    "colab": {
     "base_uri": "https://localhost:8080/",
     "height": 279
    },
    "execution": {
     "iopub.execute_input": "2022-01-08T07:10:35.080183Z",
     "iopub.status.busy": "2022-01-08T07:10:35.079530Z",
     "iopub.status.idle": "2022-01-08T07:10:35.200033Z",
     "shell.execute_reply": "2022-01-08T07:10:35.200930Z"
    },
    "id": "3yUJM4nA6k2U",
    "outputId": "cf86c235-1135-4d0f-93c2-08b7cb98ead7"
   },
   "outputs": [
    {
     "data": {
      "image/png": "[encoded data removed]",
      "text/plain": [
       "<Figure size 432x288 with 1 Axes>"
      ]
     },
     "metadata": {
      "needs_background": "light"
     },
     "output_type": "display_data"
    }
   ],
   "source": [
    "plt.plot(history.history['loss'])\n",
    "plt.plot(history.history['val_loss'])\n",
    "plt.xlabel('epoch')\n",
    "plt.ylabel('loss')\n",
    "plt.legend(['train', 'val'])\n",
    "plt.show()"
   ]
  },
  {
   "cell_type": "markdown",
   "metadata": {
    "id": "Ja3-116b6k2V"
   },
   "source": [
    "## 마무리"
   ]
  },
  {
   "cell_type": "code",
   "execution_count": 15,
   "metadata": {
    "colab": {
     "base_uri": "https://localhost:8080/"
    },
    "execution": {
     "iopub.execute_input": "2022-01-08T07:10:35.206304Z",
     "iopub.status.busy": "2022-01-08T07:10:35.205183Z",
     "iopub.status.idle": "2022-01-08T07:10:47.638916Z",
     "shell.execute_reply": "2022-01-08T07:10:47.638313Z"
    },
    "id": "-5WtFRN-6k2V",
    "outputId": "dbbf3f1d-3cd9-49cf-bf90-233ecac13134"
   },
   "outputs": [
    {
     "name": "stdout",
     "output_type": "stream",
     "text": [
      "782/782 [==============================] - 6s 7ms/step - loss: 0.4343 - accuracy: 0.7989\n"
     ]
    },
    {
     "data": {
      "text/plain": [
       "[0.43428707122802734, 0.7989199757575989]"
      ]
     },
     "execution_count": 15,
     "metadata": {},
     "output_type": "execute_result"
    }
   ],
   "source": [
    "test_seq = pad_sequences(test_input, maxlen=100)\n",
    "\n",
    "rnn_model = keras.models.load_model('best-2rnn-model.h5')\n",
    "\n",
    "rnn_model.evaluate(test_seq, test_target)"
   ]
  },
  {
   "cell_type": "code",
   "execution_count": null,
   "metadata": {},
   "outputs": [],
   "source": []
  },
  {
   "cell_type": "code",
   "execution_count": null,
   "metadata": {},
   "outputs": [],
   "source": []
  },
  {
   "cell_type": "code",
   "execution_count": null,
   "metadata": {},
   "outputs": [],
   "source": []
  }
 ],
 "metadata": {
  "accelerator": "GPU",
  "colab": {
   "name": "9-3.ipynb",
   "provenance": []
  },
  "kernelspec": {
   "display_name": "Python [conda env:tensorflow] *",
   "language": "python",
   "name": "conda-env-tensorflow-py"
  },
  "language_info": {
   "codemirror_mode": {
    "name": "ipython",
    "version": 3
   },
   "file_extension": ".py",
   "mimetype": "text/x-python",
   "name": "python",
   "nbconvert_exporter": "python",
   "pygments_lexer": "ipython3",
   "version": "3.8.12"
  }
 },
 "nbformat": 4,
 "nbformat_minor": 1
}
