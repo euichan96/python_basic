{
 "cells": [
  {
   "cell_type": "markdown",
   "metadata": {
    "id": "MusV5YYT6kQF"
   },
   "source": [
    "# 순환 신경망으로 IMDB 리뷰 분류하기"
   ]
  },
  {
   "cell_type": "markdown",
   "metadata": {
    "id": "9uYfRb5-6kQQ"
   },
   "source": [
    "<table align=\"left\">\n",
    "  <td>\n",
    "    <a target=\"_blank\" href=\"https://colab.research.google.com/github/rickiepark/hg-mldl/blob/master/9-2.ipynb\"><img src=\"https://www.tensorflow.org/images/colab_logo_32px.png\" />구글 코랩에서 실행하기</a>\n",
    "  </td>\n",
    "</table>"
   ]
  },
  {
   "cell_type": "markdown",
   "metadata": {
    "id": "S1A-DDIQ6kQQ"
   },
   "source": [
    "## IMDB 리뷰 데이터셋"
   ]
  },
  {
   "cell_type": "code",
   "execution_count": 2,
   "metadata": {
    "colab": {
     "base_uri": "https://localhost:8080/"
    },
    "execution": {
     "iopub.execute_input": "2022-01-08T05:20:23.566702Z",
     "iopub.status.busy": "2022-01-08T05:20:23.565530Z",
     "iopub.status.idle": "2022-01-08T05:20:29.491800Z",
     "shell.execute_reply": "2022-01-08T05:20:29.492380Z"
    },
    "id": "sZoZm1ZO6kQR",
    "outputId": "c340dd55-629f-4615-db76-9c06bc46e2c2"
   },
   "outputs": [],
   "source": [
    "from tensorflow.keras.datasets import imdb\n",
    "\n",
    "(train_input, train_target), (test_input, test_target) = imdb.load_data(\n",
    "    num_words=500)"
   ]
  },
  {
   "cell_type": "code",
   "execution_count": 3,
   "metadata": {
    "colab": {
     "base_uri": "https://localhost:8080/"
    },
    "execution": {
     "iopub.execute_input": "2022-01-08T05:20:29.498778Z",
     "iopub.status.busy": "2022-01-08T05:20:29.497993Z",
     "iopub.status.idle": "2022-01-08T05:20:29.501675Z",
     "shell.execute_reply": "2022-01-08T05:20:29.502173Z"
    },
    "id": "HTFjz6k06kQR",
    "outputId": "1d4929d7-0a93-4bb8-cf03-682ada3d6ac9"
   },
   "outputs": [
    {
     "name": "stdout",
     "output_type": "stream",
     "text": [
      "(25000,) (25000,)\n"
     ]
    }
   ],
   "source": [
    "print(train_input.shape, test_input.shape)"
   ]
  },
  {
   "cell_type": "code",
   "execution_count": 4,
   "metadata": {
    "colab": {
     "base_uri": "https://localhost:8080/"
    },
    "execution": {
     "iopub.execute_input": "2022-01-08T05:20:29.507450Z",
     "iopub.status.busy": "2022-01-08T05:20:29.506813Z",
     "iopub.status.idle": "2022-01-08T05:20:29.509552Z",
     "shell.execute_reply": "2022-01-08T05:20:29.508923Z"
    },
    "id": "4jMLURzw6kQS",
    "outputId": "ffb635f3-a3bd-42ed-b6da-fecaa0ede408"
   },
   "outputs": [
    {
     "name": "stdout",
     "output_type": "stream",
     "text": [
      "218\n"
     ]
    }
   ],
   "source": [
    "print(len(train_input[0]))"
   ]
  },
  {
   "cell_type": "code",
   "execution_count": 5,
   "metadata": {
    "colab": {
     "base_uri": "https://localhost:8080/"
    },
    "execution": {
     "iopub.execute_input": "2022-01-08T05:20:29.514339Z",
     "iopub.status.busy": "2022-01-08T05:20:29.513627Z",
     "iopub.status.idle": "2022-01-08T05:20:29.516831Z",
     "shell.execute_reply": "2022-01-08T05:20:29.516284Z"
    },
    "id": "xdO834PL6kQT",
    "outputId": "28ba2580-b6b8-49b0-e07e-4df8026a5626"
   },
   "outputs": [
    {
     "name": "stdout",
     "output_type": "stream",
     "text": [
      "189\n"
     ]
    }
   ],
   "source": [
    "print(len(train_input[1]))"
   ]
  },
  {
   "cell_type": "code",
   "execution_count": 6,
   "metadata": {
    "colab": {
     "base_uri": "https://localhost:8080/"
    },
    "execution": {
     "iopub.execute_input": "2022-01-08T05:20:29.520851Z",
     "iopub.status.busy": "2022-01-08T05:20:29.519321Z",
     "iopub.status.idle": "2022-01-08T05:20:29.523542Z",
     "shell.execute_reply": "2022-01-08T05:20:29.523955Z"
    },
    "id": "QNuzGQ2c6kQT",
    "outputId": "88f7dd8c-188e-4ad9-edb2-f4b59c498d40"
   },
   "outputs": [
    {
     "name": "stdout",
     "output_type": "stream",
     "text": [
      "[1, 14, 22, 16, 43, 2, 2, 2, 2, 65, 458, 2, 66, 2, 4, 173, 36, 256, 5, 25, 100, 43, 2, 112, 50, 2, 2, 9, 35, 480, 284, 5, 150, 4, 172, 112, 167, 2, 336, 385, 39, 4, 172, 2, 2, 17, 2, 38, 13, 447, 4, 192, 50, 16, 6, 147, 2, 19, 14, 22, 4, 2, 2, 469, 4, 22, 71, 87, 12, 16, 43, 2, 38, 76, 15, 13, 2, 4, 22, 17, 2, 17, 12, 16, 2, 18, 2, 5, 62, 386, 12, 8, 316, 8, 106, 5, 4, 2, 2, 16, 480, 66, 2, 33, 4, 130, 12, 16, 38, 2, 5, 25, 124, 51, 36, 135, 48, 25, 2, 33, 6, 22, 12, 215, 28, 77, 52, 5, 14, 407, 16, 82, 2, 8, 4, 107, 117, 2, 15, 256, 4, 2, 7, 2, 5, 2, 36, 71, 43, 2, 476, 26, 400, 317, 46, 7, 4, 2, 2, 13, 104, 88, 4, 381, 15, 297, 98, 32, 2, 56, 26, 141, 6, 194, 2, 18, 4, 226, 22, 21, 134, 476, 26, 480, 5, 144, 30, 2, 18, 51, 36, 28, 224, 92, 25, 104, 4, 226, 65, 16, 38, 2, 88, 12, 16, 283, 5, 16, 2, 113, 103, 32, 15, 16, 2, 19, 178, 32]\n"
     ]
    }
   ],
   "source": [
    "print(train_input[0])"
   ]
  },
  {
   "cell_type": "code",
   "execution_count": 7,
   "metadata": {
    "colab": {
     "base_uri": "https://localhost:8080/"
    },
    "execution": {
     "iopub.execute_input": "2022-01-08T05:20:29.528303Z",
     "iopub.status.busy": "2022-01-08T05:20:29.527701Z",
     "iopub.status.idle": "2022-01-08T05:20:29.530858Z",
     "shell.execute_reply": "2022-01-08T05:20:29.530314Z"
    },
    "id": "In8Qzltz6kQT",
    "outputId": "78b5ddc6-d634-4755-9435-25cc8f2c9462"
   },
   "outputs": [
    {
     "name": "stdout",
     "output_type": "stream",
     "text": [
      "[1 0 0 1 0 0 1 0 1 0 1 0 0 0 0 0 1 1 0 1]\n"
     ]
    }
   ],
   "source": [
    "print(train_target[:20])"
   ]
  },
  {
   "cell_type": "code",
   "execution_count": 8,
   "metadata": {
    "execution": {
     "iopub.execute_input": "2022-01-08T05:20:29.535982Z",
     "iopub.status.busy": "2022-01-08T05:20:29.535314Z",
     "iopub.status.idle": "2022-01-08T05:20:30.003976Z",
     "shell.execute_reply": "2022-01-08T05:20:30.003182Z"
    },
    "id": "0-zjNgBw6kQU"
   },
   "outputs": [],
   "source": [
    "from sklearn.model_selection import train_test_split\n",
    "\n",
    "train_input, val_input, train_target, val_target = train_test_split(\n",
    "    train_input, train_target, test_size=0.2, random_state=42)"
   ]
  },
  {
   "cell_type": "code",
   "execution_count": 9,
   "metadata": {
    "execution": {
     "iopub.execute_input": "2022-01-08T05:20:30.014693Z",
     "iopub.status.busy": "2022-01-08T05:20:30.013910Z",
     "iopub.status.idle": "2022-01-08T05:20:30.017935Z",
     "shell.execute_reply": "2022-01-08T05:20:30.017351Z"
    },
    "id": "sRVvgntx6kQU"
   },
   "outputs": [],
   "source": [
    "import numpy as np\n",
    "\n",
    "lengths = np.array([len(x) for x in train_input])"
   ]
  },
  {
   "cell_type": "code",
   "execution_count": 10,
   "metadata": {
    "colab": {
     "base_uri": "https://localhost:8080/"
    },
    "execution": {
     "iopub.execute_input": "2022-01-08T05:20:30.023039Z",
     "iopub.status.busy": "2022-01-08T05:20:30.022404Z",
     "iopub.status.idle": "2022-01-08T05:20:30.025564Z",
     "shell.execute_reply": "2022-01-08T05:20:30.026023Z"
    },
    "id": "p76m_61w6kQU",
    "outputId": "04b533f6-45ef-4514-d87d-b484a89afde6"
   },
   "outputs": [
    {
     "name": "stdout",
     "output_type": "stream",
     "text": [
      "239.00925 178.0\n"
     ]
    }
   ],
   "source": [
    "print(np.mean(lengths), np.median(lengths))"
   ]
  },
  {
   "cell_type": "code",
   "execution_count": 11,
   "metadata": {
    "colab": {
     "base_uri": "https://localhost:8080/",
     "height": 279
    },
    "execution": {
     "iopub.execute_input": "2022-01-08T05:20:30.031474Z",
     "iopub.status.busy": "2022-01-08T05:20:30.030669Z",
     "iopub.status.idle": "2022-01-08T05:20:30.732010Z",
     "shell.execute_reply": "2022-01-08T05:20:30.731361Z"
    },
    "id": "TVDrsRYF6kQV",
    "outputId": "2610932c-ac31-480b-8a6c-fd5ac2793a34"
   },
   "outputs": [
    {
     "data": {
      "image/png": "[encoded data removed]",
      "text/plain": [
       "<Figure size 432x288 with 1 Axes>"
      ]
     },
     "metadata": {
      "needs_background": "light"
     },
     "output_type": "display_data"
    }
   ],
   "source": [
    "import matplotlib.pyplot as plt\n",
    "\n",
    "plt.hist(lengths)\n",
    "plt.xlabel('length')\n",
    "plt.ylabel('frequency')\n",
    "plt.show()"
   ]
  },
  {
   "cell_type": "code",
   "execution_count": 12,
   "metadata": {
    "execution": {
     "iopub.execute_input": "2022-01-08T05:20:30.741785Z",
     "iopub.status.busy": "2022-01-08T05:20:30.736613Z",
     "iopub.status.idle": "2022-01-08T05:20:30.889977Z",
     "shell.execute_reply": "2022-01-08T05:20:30.890504Z"
    },
    "id": "fbLSFToP6kQV"
   },
   "outputs": [],
   "source": [
    "from tensorflow.keras.preprocessing.sequence import pad_sequences\n",
    "\n",
    "train_seq = pad_sequences(train_input, maxlen=100)"
   ]
  },
  {
   "cell_type": "code",
   "execution_count": 13,
   "metadata": {
    "colab": {
     "base_uri": "https://localhost:8080/"
    },
    "execution": {
     "iopub.execute_input": "2022-01-08T05:20:30.895174Z",
     "iopub.status.busy": "2022-01-08T05:20:30.894526Z",
     "iopub.status.idle": "2022-01-08T05:20:30.897720Z",
     "shell.execute_reply": "2022-01-08T05:20:30.897208Z"
    },
    "id": "3c86x0Yj6kQV",
    "outputId": "52d4ff3a-9aa5-4ebd-e086-d9b2d490a29f"
   },
   "outputs": [
    {
     "name": "stdout",
     "output_type": "stream",
     "text": [
      "(20000, 100)\n"
     ]
    }
   ],
   "source": [
    "print(train_seq.shape)"
   ]
  },
  {
   "cell_type": "code",
   "execution_count": 14,
   "metadata": {
    "colab": {
     "base_uri": "https://localhost:8080/"
    },
    "execution": {
     "iopub.execute_input": "2022-01-08T05:20:30.902380Z",
     "iopub.status.busy": "2022-01-08T05:20:30.901721Z",
     "iopub.status.idle": "2022-01-08T05:20:30.904481Z",
     "shell.execute_reply": "2022-01-08T05:20:30.904931Z"
    },
    "id": "JuP0QJaU6kQW",
    "outputId": "95e6521e-b200-4733-f5e8-65320ff2a81f"
   },
   "outputs": [
    {
     "name": "stdout",
     "output_type": "stream",
     "text": [
      "[ 10   4  20   9   2 364 352   5  45   6   2   2  33 269   8   2 142   2\n",
      "   5   2  17  73  17 204   5   2  19  55   2   2  92  66 104  14  20  93\n",
      "  76   2 151  33   4  58  12 188   2 151  12 215  69 224 142  73 237   6\n",
      "   2   7   2   2 188   2 103  14  31  10  10 451   7   2   5   2  80  91\n",
      "   2  30   2  34  14  20 151  50  26 131  49   2  84  46  50  37  80  79\n",
      "   6   2  46   7  14  20  10  10 470 158]\n"
     ]
    }
   ],
   "source": [
    "print(train_seq[0])"
   ]
  },
  {
   "cell_type": "code",
   "execution_count": 15,
   "metadata": {
    "colab": {
     "base_uri": "https://localhost:8080/"
    },
    "execution": {
     "iopub.execute_input": "2022-01-08T05:20:30.909820Z",
     "iopub.status.busy": "2022-01-08T05:20:30.909091Z",
     "iopub.status.idle": "2022-01-08T05:20:30.911694Z",
     "shell.execute_reply": "2022-01-08T05:20:30.912135Z"
    },
    "id": "6t8kaDji6kQW",
    "outputId": "a9d5ba15-838d-4cac-c23c-18c2fa4b709f"
   },
   "outputs": [
    {
     "name": "stdout",
     "output_type": "stream",
     "text": [
      "[6, 2, 46, 7, 14, 20, 10, 10, 470, 158]\n"
     ]
    }
   ],
   "source": [
    "print(train_input[0][-10:])"
   ]
  },
  {
   "cell_type": "code",
   "execution_count": 16,
   "metadata": {
    "colab": {
     "base_uri": "https://localhost:8080/"
    },
    "execution": {
     "iopub.execute_input": "2022-01-08T05:20:30.916735Z",
     "iopub.status.busy": "2022-01-08T05:20:30.916072Z",
     "iopub.status.idle": "2022-01-08T05:20:30.919117Z",
     "shell.execute_reply": "2022-01-08T05:20:30.918545Z"
    },
    "id": "Emmoztwa6kQX",
    "outputId": "d72b6139-e876-41a1-b331-313d3199548a",
    "scrolled": true
   },
   "outputs": [
    {
     "name": "stdout",
     "output_type": "stream",
     "text": [
      "[  0   0   0   0   1   2 195  19  49   2   2 190   4   2 352   2 183  10\n",
      "  10  13  82  79   4   2  36  71 269   8   2  25  19  49   7   4   2   2\n",
      "   2   2   2  10  10  48  25  40   2  11   2   2  40   2   2   5   4   2\n",
      "   2  95  14 238  56 129   2  10  10  21   2  94 364 352   2   2  11 190\n",
      "  24 484   2   7  94 205 405  10  10  87   2  34  49   2   7   2   2   2\n",
      "   2   2 290   2  46  48  64  18   4   2]\n"
     ]
    }
   ],
   "source": [
    "print(train_seq[5])"
   ]
  },
  {
   "cell_type": "code",
   "execution_count": 17,
   "metadata": {
    "execution": {
     "iopub.execute_input": "2022-01-08T05:20:30.924446Z",
     "iopub.status.busy": "2022-01-08T05:20:30.923826Z",
     "iopub.status.idle": "2022-01-08T05:20:30.964050Z",
     "shell.execute_reply": "2022-01-08T05:20:30.964515Z"
    },
    "id": "ZeFmsjOd6kQX"
   },
   "outputs": [],
   "source": [
    "val_seq = pad_sequences(val_input, maxlen=100)"
   ]
  },
  {
   "cell_type": "markdown",
   "metadata": {
    "id": "9xab0nu_6kQX"
   },
   "source": [
    "## 순환 신경망 만들기"
   ]
  },
  {
   "cell_type": "code",
   "execution_count": 19,
   "metadata": {
    "execution": {
     "iopub.execute_input": "2022-01-08T05:20:30.971560Z",
     "iopub.status.busy": "2022-01-08T05:20:30.969365Z",
     "iopub.status.idle": "2022-01-08T05:20:31.069269Z",
     "shell.execute_reply": "2022-01-08T05:20:31.069797Z"
    },
    "id": "45BtHGKX6kQX"
   },
   "outputs": [],
   "source": [
    "from tensorflow import keras\n",
    "\n",
    "model = keras.Sequential()\n",
    "\n",
    "model.add(keras.layers.SimpleRNN(8, input_shape=(100, 500)))\n",
    "model.add(keras.layers.Dense(1, activation='sigmoid'))"
   ]
  },
  {
   "cell_type": "code",
   "execution_count": 20,
   "metadata": {
    "execution": {
     "iopub.execute_input": "2022-01-08T05:20:31.074464Z",
     "iopub.status.busy": "2022-01-08T05:20:31.073755Z",
     "iopub.status.idle": "2022-01-08T05:20:31.801381Z",
     "shell.execute_reply": "2022-01-08T05:20:31.800237Z"
    },
    "id": "oXIWyOuw6kQY"
   },
   "outputs": [],
   "source": [
    "train_oh = keras.utils.to_categorical(train_seq)"
   ]
  },
  {
   "cell_type": "code",
   "execution_count": 21,
   "metadata": {
    "colab": {
     "base_uri": "https://localhost:8080/"
    },
    "execution": {
     "iopub.execute_input": "2022-01-08T05:20:31.806214Z",
     "iopub.status.busy": "2022-01-08T05:20:31.805511Z",
     "iopub.status.idle": "2022-01-08T05:20:31.808892Z",
     "shell.execute_reply": "2022-01-08T05:20:31.808347Z"
    },
    "id": "VD94WiRT6kQY",
    "outputId": "d2074cc9-cdb3-4c73-e9ca-1318fdd34034"
   },
   "outputs": [
    {
     "name": "stdout",
     "output_type": "stream",
     "text": [
      "(20000, 100, 500)\n"
     ]
    }
   ],
   "source": [
    "print(train_oh.shape)"
   ]
  },
  {
   "cell_type": "code",
   "execution_count": 22,
   "metadata": {
    "colab": {
     "base_uri": "https://localhost:8080/"
    },
    "execution": {
     "iopub.execute_input": "2022-01-08T05:20:31.814272Z",
     "iopub.status.busy": "2022-01-08T05:20:31.813567Z",
     "iopub.status.idle": "2022-01-08T05:20:31.816686Z",
     "shell.execute_reply": "2022-01-08T05:20:31.816011Z"
    },
    "id": "VIVSHwJg6kQY",
    "outputId": "972653fa-6acd-405d-d1ee-2422708f9863"
   },
   "outputs": [
    {
     "name": "stdout",
     "output_type": "stream",
     "text": [
      "[0. 0. 0. 0. 0. 0. 0. 0. 0. 0. 1. 0.]\n"
     ]
    }
   ],
   "source": [
    "print(train_oh[0][0][:12])"
   ]
  },
  {
   "cell_type": "code",
   "execution_count": 23,
   "metadata": {
    "colab": {
     "base_uri": "https://localhost:8080/"
    },
    "execution": {
     "iopub.execute_input": "2022-01-08T05:20:31.821685Z",
     "iopub.status.busy": "2022-01-08T05:20:31.821048Z",
     "iopub.status.idle": "2022-01-08T05:20:31.823968Z",
     "shell.execute_reply": "2022-01-08T05:20:31.823398Z"
    },
    "id": "CP3ivii46kQZ",
    "outputId": "6a669f1a-41fe-486a-e0e1-bd812d2b7aeb"
   },
   "outputs": [
    {
     "name": "stdout",
     "output_type": "stream",
     "text": [
      "1.0\n"
     ]
    }
   ],
   "source": [
    "print(np.sum(train_oh[0][0]))"
   ]
  },
  {
   "cell_type": "code",
   "execution_count": 24,
   "metadata": {
    "execution": {
     "iopub.execute_input": "2022-01-08T05:20:31.828083Z",
     "iopub.status.busy": "2022-01-08T05:20:31.827427Z",
     "iopub.status.idle": "2022-01-08T05:20:32.012623Z",
     "shell.execute_reply": "2022-01-08T05:20:32.013109Z"
    },
    "id": "vgijH6m26kQZ"
   },
   "outputs": [],
   "source": [
    "val_oh = keras.utils.to_categorical(val_seq)"
   ]
  },
  {
   "cell_type": "code",
   "execution_count": 25,
   "metadata": {
    "colab": {
     "base_uri": "https://localhost:8080/"
    },
    "execution": {
     "iopub.execute_input": "2022-01-08T05:20:32.017927Z",
     "iopub.status.busy": "2022-01-08T05:20:32.017215Z",
     "iopub.status.idle": "2022-01-08T05:20:32.029398Z",
     "shell.execute_reply": "2022-01-08T05:20:32.028840Z"
    },
    "id": "0V0Svpuf6kQZ",
    "outputId": "34f0dd62-57da-4907-8032-9bb2655a986e"
   },
   "outputs": [
    {
     "name": "stdout",
     "output_type": "stream",
     "text": [
      "Model: \"sequential_1\"\n",
      "_________________________________________________________________\n",
      " Layer (type)                Output Shape              Param #   \n",
      "=================================================================\n",
      " simple_rnn_1 (SimpleRNN)    (None, 8)                 4072      \n",
      "                                                                 \n",
      " dense_1 (Dense)             (None, 1)                 9         \n",
      "                                                                 \n",
      "=================================================================\n",
      "Total params: 4,081\n",
      "Trainable params: 4,081\n",
      "Non-trainable params: 0\n",
      "_________________________________________________________________\n"
     ]
    }
   ],
   "source": [
    "model.summary()"
   ]
  },
  {
   "cell_type": "markdown",
   "metadata": {
    "id": "S22Hc-7L6kQZ"
   },
   "source": [
    "## 순환 신경망 훈련하기"
   ]
  },
  {
   "cell_type": "code",
   "execution_count": 26,
   "metadata": {
    "colab": {
     "base_uri": "https://localhost:8080/"
    },
    "execution": {
     "iopub.execute_input": "2022-01-08T05:20:32.039845Z",
     "iopub.status.busy": "2022-01-08T05:20:32.036890Z",
     "iopub.status.idle": "2022-01-08T05:27:13.437874Z",
     "shell.execute_reply": "2022-01-08T05:27:13.437279Z"
    },
    "id": "YcwM299t6kQZ",
    "outputId": "257518bf-52ab-49d8-aa91-3c2e606ffd74"
   },
   "outputs": [
    {
     "name": "stdout",
     "output_type": "stream",
     "text": [
      "Epoch 1/100\n",
      "313/313 [==============================] - 6s 17ms/step - loss: 0.7018 - accuracy: 0.5033 - val_loss: 0.7015 - val_accuracy: 0.5012\n",
      "Epoch 2/100\n",
      "313/313 [==============================] - 5s 17ms/step - loss: 0.6948 - accuracy: 0.5202 - val_loss: 0.6949 - val_accuracy: 0.5156\n",
      "Epoch 3/100\n",
      "313/313 [==============================] - 5s 17ms/step - loss: 0.6857 - accuracy: 0.5490 - val_loss: 0.6837 - val_accuracy: 0.5656\n",
      "Epoch 4/100\n",
      "313/313 [==============================] - 5s 17ms/step - loss: 0.6722 - accuracy: 0.5981 - val_loss: 0.6694 - val_accuracy: 0.6128\n",
      "Epoch 5/100\n",
      "313/313 [==============================] - 5s 17ms/step - loss: 0.6578 - accuracy: 0.6392 - val_loss: 0.6541 - val_accuracy: 0.6526\n",
      "Epoch 6/100\n",
      "313/313 [==============================] - 5s 17ms/step - loss: 0.6422 - accuracy: 0.6684 - val_loss: 0.6404 - val_accuracy: 0.6756\n",
      "Epoch 7/100\n",
      "313/313 [==============================] - 5s 17ms/step - loss: 0.6269 - accuracy: 0.6901 - val_loss: 0.6255 - val_accuracy: 0.6948\n",
      "Epoch 8/100\n",
      "313/313 [==============================] - 6s 18ms/step - loss: 0.6119 - accuracy: 0.7067 - val_loss: 0.6114 - val_accuracy: 0.7028\n",
      "Epoch 9/100\n",
      "313/313 [==============================] - 5s 17ms/step - loss: 0.5970 - accuracy: 0.7211 - val_loss: 0.5991 - val_accuracy: 0.7088\n",
      "Epoch 10/100\n",
      "313/313 [==============================] - 6s 18ms/step - loss: 0.5822 - accuracy: 0.7311 - val_loss: 0.5848 - val_accuracy: 0.7240\n",
      "Epoch 11/100\n",
      "313/313 [==============================] - 5s 17ms/step - loss: 0.5675 - accuracy: 0.7429 - val_loss: 0.5715 - val_accuracy: 0.7388\n",
      "Epoch 12/100\n",
      "313/313 [==============================] - 5s 17ms/step - loss: 0.5536 - accuracy: 0.7505 - val_loss: 0.5587 - val_accuracy: 0.7448\n",
      "Epoch 13/100\n",
      "313/313 [==============================] - 6s 18ms/step - loss: 0.5403 - accuracy: 0.7598 - val_loss: 0.5483 - val_accuracy: 0.7402\n",
      "Epoch 14/100\n",
      "313/313 [==============================] - 5s 17ms/step - loss: 0.5277 - accuracy: 0.7656 - val_loss: 0.5376 - val_accuracy: 0.7486\n",
      "Epoch 15/100\n",
      "313/313 [==============================] - 6s 18ms/step - loss: 0.5163 - accuracy: 0.7710 - val_loss: 0.5280 - val_accuracy: 0.7512\n",
      "Epoch 16/100\n",
      "313/313 [==============================] - 5s 17ms/step - loss: 0.5066 - accuracy: 0.7743 - val_loss: 0.5202 - val_accuracy: 0.7544\n",
      "Epoch 17/100\n",
      "313/313 [==============================] - 5s 17ms/step - loss: 0.4966 - accuracy: 0.7794 - val_loss: 0.5122 - val_accuracy: 0.7576\n",
      "Epoch 18/100\n",
      "313/313 [==============================] - 5s 17ms/step - loss: 0.4881 - accuracy: 0.7836 - val_loss: 0.5048 - val_accuracy: 0.7612\n",
      "Epoch 19/100\n",
      "313/313 [==============================] - 5s 17ms/step - loss: 0.4800 - accuracy: 0.7880 - val_loss: 0.4984 - val_accuracy: 0.7672\n",
      "Epoch 20/100\n",
      "313/313 [==============================] - 5s 18ms/step - loss: 0.4727 - accuracy: 0.7917 - val_loss: 0.4931 - val_accuracy: 0.7674\n",
      "Epoch 21/100\n",
      "313/313 [==============================] - 6s 18ms/step - loss: 0.4659 - accuracy: 0.7949 - val_loss: 0.4855 - val_accuracy: 0.7748\n",
      "Epoch 22/100\n",
      "313/313 [==============================] - 6s 18ms/step - loss: 0.4598 - accuracy: 0.7977 - val_loss: 0.4818 - val_accuracy: 0.7804\n",
      "Epoch 23/100\n",
      "313/313 [==============================] - 6s 18ms/step - loss: 0.4549 - accuracy: 0.7981 - val_loss: 0.4761 - val_accuracy: 0.7814\n",
      "Epoch 24/100\n",
      "313/313 [==============================] - 5s 17ms/step - loss: 0.4502 - accuracy: 0.8013 - val_loss: 0.4739 - val_accuracy: 0.7804\n",
      "Epoch 25/100\n",
      "313/313 [==============================] - 5s 17ms/step - loss: 0.4456 - accuracy: 0.8051 - val_loss: 0.4692 - val_accuracy: 0.7862\n",
      "Epoch 26/100\n",
      "313/313 [==============================] - 6s 18ms/step - loss: 0.4418 - accuracy: 0.8070 - val_loss: 0.4666 - val_accuracy: 0.7862\n",
      "Epoch 27/100\n",
      "313/313 [==============================] - 5s 17ms/step - loss: 0.4386 - accuracy: 0.8077 - val_loss: 0.4646 - val_accuracy: 0.7850\n",
      "Epoch 28/100\n",
      "313/313 [==============================] - 5s 17ms/step - loss: 0.4351 - accuracy: 0.8093 - val_loss: 0.4631 - val_accuracy: 0.7860\n",
      "Epoch 29/100\n",
      "313/313 [==============================] - 6s 18ms/step - loss: 0.4321 - accuracy: 0.8102 - val_loss: 0.4604 - val_accuracy: 0.7880\n",
      "Epoch 30/100\n",
      "313/313 [==============================] - 5s 18ms/step - loss: 0.4293 - accuracy: 0.8130 - val_loss: 0.4669 - val_accuracy: 0.7814\n",
      "Epoch 31/100\n",
      "313/313 [==============================] - 6s 18ms/step - loss: 0.4268 - accuracy: 0.8145 - val_loss: 0.4579 - val_accuracy: 0.7866\n",
      "Epoch 32/100\n",
      "313/313 [==============================] - 5s 17ms/step - loss: 0.4247 - accuracy: 0.8145 - val_loss: 0.4557 - val_accuracy: 0.7908\n",
      "Epoch 33/100\n",
      "313/313 [==============================] - 5s 17ms/step - loss: 0.4224 - accuracy: 0.8162 - val_loss: 0.4549 - val_accuracy: 0.7916\n",
      "Epoch 34/100\n",
      "313/313 [==============================] - 6s 18ms/step - loss: 0.4206 - accuracy: 0.8152 - val_loss: 0.4537 - val_accuracy: 0.7910\n",
      "Epoch 35/100\n",
      "313/313 [==============================] - 5s 17ms/step - loss: 0.4186 - accuracy: 0.8177 - val_loss: 0.4526 - val_accuracy: 0.7928\n",
      "Epoch 36/100\n",
      "313/313 [==============================] - 5s 18ms/step - loss: 0.4165 - accuracy: 0.8174 - val_loss: 0.4534 - val_accuracy: 0.7906\n",
      "Epoch 37/100\n",
      "313/313 [==============================] - 6s 18ms/step - loss: 0.4149 - accuracy: 0.8179 - val_loss: 0.4555 - val_accuracy: 0.7902\n",
      "Epoch 38/100\n",
      "313/313 [==============================] - 5s 17ms/step - loss: 0.4130 - accuracy: 0.8196 - val_loss: 0.4516 - val_accuracy: 0.7924\n",
      "Epoch 39/100\n",
      "313/313 [==============================] - 6s 18ms/step - loss: 0.4117 - accuracy: 0.8209 - val_loss: 0.4516 - val_accuracy: 0.7922\n",
      "Epoch 40/100\n",
      "313/313 [==============================] - 5s 17ms/step - loss: 0.4094 - accuracy: 0.8218 - val_loss: 0.4518 - val_accuracy: 0.7910\n",
      "Epoch 41/100\n",
      "313/313 [==============================] - 6s 18ms/step - loss: 0.4081 - accuracy: 0.8207 - val_loss: 0.4517 - val_accuracy: 0.7928\n"
     ]
    }
   ],
   "source": [
    "rmsprop = keras.optimizers.RMSprop(learning_rate=1e-4)\n",
    "model.compile(optimizer=rmsprop, loss='binary_crossentropy', \n",
    "              metrics=['accuracy'])\n",
    "\n",
    "checkpoint_cb = keras.callbacks.ModelCheckpoint('best-simplernn-model.h5', \n",
    "                                                save_best_only=True)\n",
    "early_stopping_cb = keras.callbacks.EarlyStopping(patience=3,\n",
    "                                                  restore_best_weights=True)\n",
    "\n",
    "history = model.fit(train_oh, train_target, epochs=100, batch_size=64,\n",
    "                    validation_data=(val_oh, val_target),\n",
    "                    callbacks=[checkpoint_cb, early_stopping_cb])"
   ]
  },
  {
   "cell_type": "code",
   "execution_count": 27,
   "metadata": {
    "colab": {
     "base_uri": "https://localhost:8080/",
     "height": 279
    },
    "execution": {
     "iopub.execute_input": "2022-01-08T05:27:13.450495Z",
     "iopub.status.busy": "2022-01-08T05:27:13.449785Z",
     "iopub.status.idle": "2022-01-08T05:27:13.568727Z",
     "shell.execute_reply": "2022-01-08T05:27:13.569535Z"
    },
    "id": "YS_5tIG26kQa",
    "outputId": "7affeec2-15fb-4217-daa5-2c8ef2f8a74b"
   },
   "outputs": [
    {
     "data": {
      "image/png": "[encoded data removed]",
      "text/plain": [
       "<Figure size 432x288 with 1 Axes>"
      ]
     },
     "metadata": {
      "needs_background": "light"
     },
     "output_type": "display_data"
    }
   ],
   "source": [
    "plt.plot(history.history['loss'])\n",
    "plt.plot(history.history['val_loss'])\n",
    "plt.xlabel('epoch')\n",
    "plt.ylabel('loss')\n",
    "plt.legend(['train', 'val'])\n",
    "plt.show()"
   ]
  },
  {
   "cell_type": "markdown",
   "metadata": {
    "id": "K_U_lVie6kQa"
   },
   "source": [
    "## 단어 임베딩을 사용하기"
   ]
  },
  {
   "cell_type": "code",
   "execution_count": 28,
   "metadata": {
    "colab": {
     "base_uri": "https://localhost:8080/"
    },
    "execution": {
     "iopub.execute_input": "2022-01-08T05:27:13.578088Z",
     "iopub.status.busy": "2022-01-08T05:27:13.576979Z",
     "iopub.status.idle": "2022-01-08T05:27:13.920651Z",
     "shell.execute_reply": "2022-01-08T05:27:13.921082Z"
    },
    "id": "Ofl-Ifev6kQa",
    "outputId": "5446f8dd-845c-4fea-eb3a-a8887f010da0"
   },
   "outputs": [
    {
     "name": "stdout",
     "output_type": "stream",
     "text": [
      "Model: \"sequential_2\"\n",
      "_________________________________________________________________\n",
      " Layer (type)                Output Shape              Param #   \n",
      "=================================================================\n",
      " embedding (Embedding)       (None, 100, 16)           8000      \n",
      "                                                                 \n",
      " simple_rnn_2 (SimpleRNN)    (None, 8)                 200       \n",
      "                                                                 \n",
      " dense_2 (Dense)             (None, 1)                 9         \n",
      "                                                                 \n",
      "=================================================================\n",
      "Total params: 8,209\n",
      "Trainable params: 8,209\n",
      "Non-trainable params: 0\n",
      "_________________________________________________________________\n"
     ]
    }
   ],
   "source": [
    "model2 = keras.Sequential()\n",
    "\n",
    "model2.add(keras.layers.Embedding(500, 16, input_length=100))\n",
    "model2.add(keras.layers.SimpleRNN(8))\n",
    "model2.add(keras.layers.Dense(1, activation='sigmoid'))\n",
    "\n",
    "model2.summary()"
   ]
  },
  {
   "cell_type": "code",
   "execution_count": 29,
   "metadata": {
    "colab": {
     "base_uri": "https://localhost:8080/"
    },
    "execution": {
     "iopub.execute_input": "2022-01-08T05:27:13.930484Z",
     "iopub.status.busy": "2022-01-08T05:27:13.929775Z",
     "iopub.status.idle": "2022-01-08T05:31:21.300019Z",
     "shell.execute_reply": "2022-01-08T05:31:21.299400Z"
    },
    "id": "78TUrJAs6kQa",
    "outputId": "ee782c94-cf81-4add-e0a9-5290b91bd2bf"
   },
   "outputs": [
    {
     "name": "stdout",
     "output_type": "stream",
     "text": [
      "Epoch 1/100\n",
      "313/313 [==============================] - 4s 12ms/step - loss: 0.6930 - accuracy: 0.5197 - val_loss: 0.6882 - val_accuracy: 0.5432\n",
      "Epoch 2/100\n",
      "313/313 [==============================] - 4s 11ms/step - loss: 0.6778 - accuracy: 0.6000 - val_loss: 0.6735 - val_accuracy: 0.6222\n",
      "Epoch 3/100\n",
      "313/313 [==============================] - 4s 11ms/step - loss: 0.6598 - accuracy: 0.6698 - val_loss: 0.6567 - val_accuracy: 0.6724\n",
      "Epoch 4/100\n",
      "313/313 [==============================] - 4s 11ms/step - loss: 0.6418 - accuracy: 0.7044 - val_loss: 0.6429 - val_accuracy: 0.6944\n",
      "Epoch 5/100\n",
      "313/313 [==============================] - 4s 11ms/step - loss: 0.6236 - accuracy: 0.7297 - val_loss: 0.6252 - val_accuracy: 0.7194\n",
      "Epoch 6/100\n",
      "313/313 [==============================] - 4s 11ms/step - loss: 0.6074 - accuracy: 0.7418 - val_loss: 0.6137 - val_accuracy: 0.7206\n",
      "Epoch 7/100\n",
      "313/313 [==============================] - 4s 12ms/step - loss: 0.5920 - accuracy: 0.7510 - val_loss: 0.6026 - val_accuracy: 0.7226\n",
      "Epoch 8/100\n",
      "313/313 [==============================] - 4s 11ms/step - loss: 0.5773 - accuracy: 0.7610 - val_loss: 0.5874 - val_accuracy: 0.7438\n",
      "Epoch 9/100\n",
      "313/313 [==============================] - 4s 11ms/step - loss: 0.5635 - accuracy: 0.7667 - val_loss: 0.5779 - val_accuracy: 0.7388\n",
      "Epoch 10/100\n",
      "313/313 [==============================] - 4s 11ms/step - loss: 0.5499 - accuracy: 0.7749 - val_loss: 0.5633 - val_accuracy: 0.7512\n",
      "Epoch 11/100\n",
      "313/313 [==============================] - 4s 11ms/step - loss: 0.5370 - accuracy: 0.7793 - val_loss: 0.5553 - val_accuracy: 0.7508\n",
      "Epoch 12/100\n",
      "313/313 [==============================] - 4s 11ms/step - loss: 0.5245 - accuracy: 0.7854 - val_loss: 0.5440 - val_accuracy: 0.7540\n",
      "Epoch 13/100\n",
      "313/313 [==============================] - 4s 11ms/step - loss: 0.5134 - accuracy: 0.7910 - val_loss: 0.5344 - val_accuracy: 0.7600\n",
      "Epoch 14/100\n",
      "313/313 [==============================] - 4s 11ms/step - loss: 0.5022 - accuracy: 0.7951 - val_loss: 0.5278 - val_accuracy: 0.7620\n",
      "Epoch 15/100\n",
      "313/313 [==============================] - 4s 13ms/step - loss: 0.4916 - accuracy: 0.7977 - val_loss: 0.5208 - val_accuracy: 0.7600\n",
      "Epoch 16/100\n",
      "313/313 [==============================] - 4s 14ms/step - loss: 0.4819 - accuracy: 0.8022 - val_loss: 0.5144 - val_accuracy: 0.7632\n",
      "Epoch 17/100\n",
      "313/313 [==============================] - 4s 13ms/step - loss: 0.4733 - accuracy: 0.8050 - val_loss: 0.5083 - val_accuracy: 0.7636\n",
      "Epoch 18/100\n",
      "313/313 [==============================] - 4s 13ms/step - loss: 0.4648 - accuracy: 0.8083 - val_loss: 0.5038 - val_accuracy: 0.7652\n",
      "Epoch 19/100\n",
      "313/313 [==============================] - 4s 13ms/step - loss: 0.4571 - accuracy: 0.8113 - val_loss: 0.5002 - val_accuracy: 0.7678\n",
      "Epoch 20/100\n",
      "313/313 [==============================] - 4s 13ms/step - loss: 0.4501 - accuracy: 0.8135 - val_loss: 0.4941 - val_accuracy: 0.7744\n",
      "Epoch 21/100\n",
      "313/313 [==============================] - 4s 13ms/step - loss: 0.4441 - accuracy: 0.8145 - val_loss: 0.4897 - val_accuracy: 0.7734\n",
      "Epoch 22/100\n",
      "313/313 [==============================] - 4s 13ms/step - loss: 0.4382 - accuracy: 0.8177 - val_loss: 0.4883 - val_accuracy: 0.7726\n",
      "Epoch 23/100\n",
      "313/313 [==============================] - 4s 13ms/step - loss: 0.4328 - accuracy: 0.8189 - val_loss: 0.4857 - val_accuracy: 0.7724\n",
      "Epoch 24/100\n",
      "313/313 [==============================] - 4s 13ms/step - loss: 0.4277 - accuracy: 0.8219 - val_loss: 0.4836 - val_accuracy: 0.7780\n",
      "Epoch 25/100\n",
      "313/313 [==============================] - 4s 13ms/step - loss: 0.4232 - accuracy: 0.8235 - val_loss: 0.4807 - val_accuracy: 0.7766\n",
      "Epoch 26/100\n",
      "313/313 [==============================] - 4s 13ms/step - loss: 0.4194 - accuracy: 0.8238 - val_loss: 0.4828 - val_accuracy: 0.7728\n",
      "Epoch 27/100\n",
      "313/313 [==============================] - 4s 13ms/step - loss: 0.4158 - accuracy: 0.8254 - val_loss: 0.4801 - val_accuracy: 0.7744\n",
      "Epoch 28/100\n",
      "313/313 [==============================] - 4s 13ms/step - loss: 0.4117 - accuracy: 0.8271 - val_loss: 0.4809 - val_accuracy: 0.7744\n",
      "Epoch 29/100\n",
      "313/313 [==============================] - 4s 13ms/step - loss: 0.4090 - accuracy: 0.8284 - val_loss: 0.4777 - val_accuracy: 0.7744\n",
      "Epoch 30/100\n",
      "313/313 [==============================] - 4s 13ms/step - loss: 0.4059 - accuracy: 0.8293 - val_loss: 0.4805 - val_accuracy: 0.7736\n",
      "Epoch 31/100\n",
      "313/313 [==============================] - 4s 13ms/step - loss: 0.4029 - accuracy: 0.8316 - val_loss: 0.4803 - val_accuracy: 0.7720\n",
      "Epoch 32/100\n",
      "313/313 [==============================] - 4s 13ms/step - loss: 0.4003 - accuracy: 0.8322 - val_loss: 0.4774 - val_accuracy: 0.7740\n",
      "Epoch 33/100\n",
      "313/313 [==============================] - 4s 13ms/step - loss: 0.3981 - accuracy: 0.8322 - val_loss: 0.4849 - val_accuracy: 0.7712\n",
      "Epoch 34/100\n",
      "313/313 [==============================] - 4s 13ms/step - loss: 0.3954 - accuracy: 0.8344 - val_loss: 0.4830 - val_accuracy: 0.7732\n",
      "Epoch 35/100\n",
      "313/313 [==============================] - 4s 13ms/step - loss: 0.3933 - accuracy: 0.8339 - val_loss: 0.4792 - val_accuracy: 0.7732\n"
     ]
    }
   ],
   "source": [
    "rmsprop = keras.optimizers.RMSprop(learning_rate=1e-4)\n",
    "model2.compile(optimizer=rmsprop, loss='binary_crossentropy', \n",
    "               metrics=['accuracy'])\n",
    "\n",
    "checkpoint_cb = keras.callbacks.ModelCheckpoint('best-embedding-model.h5', \n",
    "                                                save_best_only=True)\n",
    "early_stopping_cb = keras.callbacks.EarlyStopping(patience=3,\n",
    "                                                  restore_best_weights=True)\n",
    "\n",
    "history = model2.fit(train_seq, train_target, epochs=100, batch_size=64,\n",
    "                     validation_data=(val_seq, val_target),\n",
    "                     callbacks=[checkpoint_cb, early_stopping_cb])"
   ]
  },
  {
   "cell_type": "code",
   "execution_count": 30,
   "metadata": {
    "colab": {
     "base_uri": "https://localhost:8080/",
     "height": 282
    },
    "execution": {
     "iopub.execute_input": "2022-01-08T05:31:21.309740Z",
     "iopub.status.busy": "2022-01-08T05:31:21.305105Z",
     "iopub.status.idle": "2022-01-08T05:31:21.449709Z",
     "shell.execute_reply": "2022-01-08T05:31:21.450221Z"
    },
    "id": "brUvKwLt6kQb",
    "outputId": "c9907bb0-000c-4c7f-fe2c-ce8128bac52b"
   },
   "outputs": [
    {
     "data": {
      "image/png": "[encoded data removed]",
      "text/plain": [
       "<Figure size 432x288 with 1 Axes>"
      ]
     },
     "metadata": {
      "needs_background": "light"
     },
     "output_type": "display_data"
    }
   ],
   "source": [
    "plt.plot(history.history['loss'])\n",
    "plt.plot(history.history['val_loss'])\n",
    "plt.xlabel('epoch')\n",
    "plt.ylabel('loss')\n",
    "plt.legend(['train', 'val'])\n",
    "plt.show()"
   ]
  },
  {
   "cell_type": "code",
   "execution_count": null,
   "metadata": {},
   "outputs": [],
   "source": []
  }
 ],
 "metadata": {
  "accelerator": "GPU",
  "colab": {
   "name": "9-2.ipynb",
   "provenance": []
  },
  "kernelspec": {
   "display_name": "Python 3 (ipykernel)",
   "language": "python",
   "name": "python3"
  },
  "language_info": {
   "codemirror_mode": {
    "name": "ipython",
    "version": 3
   },
   "file_extension": ".py",
   "mimetype": "text/x-python",
   "name": "python",
   "nbconvert_exporter": "python",
   "pygments_lexer": "ipython3",
   "version": "3.8.12"
  }
 },
 "nbformat": 4,
 "nbformat_minor": 1
}
