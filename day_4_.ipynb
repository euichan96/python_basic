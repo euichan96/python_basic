{
 "cells": [
  {
   "cell_type": "code",
   "execution_count": 1,
   "id": "686322dd",
   "metadata": {},
   "outputs": [],
   "source": [
    "# 팩토리얼 함수 구현\n",
    "def factorial(n):\n",
    "    output = 1\n",
    "    for i in range(1, n+1):\n",
    "        output *= i\n",
    "    return output"
   ]
  },
  {
   "cell_type": "code",
   "execution_count": 4,
   "id": "5c117301",
   "metadata": {},
   "outputs": [],
   "source": [
    "# 팩토리얼 함수 구현\n",
    "def factorial1(n):\n",
    "    # n이 0이면 1을 return 아니면 n*f(n-1)\n",
    "    if n == 0:\n",
    "        return 1\n",
    "    else:\n",
    "        return n * factorial1(n-1)"
   ]
  },
  {
   "cell_type": "code",
   "execution_count": 5,
   "id": "3a759fa4",
   "metadata": {},
   "outputs": [
    {
     "name": "stdout",
     "output_type": "stream",
     "text": [
      "120\n"
     ]
    },
    {
     "data": {
      "text/plain": [
       "120"
      ]
     },
     "execution_count": 5,
     "metadata": {},
     "output_type": "execute_result"
    }
   ],
   "source": [
    "print(factorial(5))   # fatorial 실행\n",
    "factorial1(5)"
   ]
  },
  {
   "cell_type": "code",
   "execution_count": 14,
   "id": "6c0caa6c",
   "metadata": {},
   "outputs": [],
   "source": [
    "# 피보나치 수열 -> f(n) = f(n-1) + f(n-2), n==1, n==2\n",
    "def fibo(n):\n",
    "    global count \n",
    "    count += 1\n",
    "    if n == 1 or n == 2:\n",
    "        return 1\n",
    "    else:\n",
    "        return fibo(n-1) + fibo(n-2)"
   ]
  },
  {
   "cell_type": "code",
   "execution_count": 17,
   "id": "037f93c1",
   "metadata": {},
   "outputs": [],
   "source": [
    "# 피보나치 수열 -> f(n) = f(n-1) + f(n-2), n==1, n==2\n",
    "dictionary = {1:1,2:1}\n",
    "def fibo_m(n):\n",
    "    global count \n",
    "    count += 1  # 계산횟수 증가\n",
    "\n",
    "    if n in dictionary:  # 메모 되어 있으면 메모된 값을 사용\n",
    "        return dictionary[n]\n",
    "    else:               # 아니면 메모 시킴\n",
    "        output = fibo_m(n-1) + fibo_m(n-2)\n",
    "        dictionary[n] = output\n",
    "        return output"
   ]
  },
  {
   "cell_type": "code",
   "execution_count": 22,
   "id": "5e493684",
   "metadata": {},
   "outputs": [
    {
     "name": "stdout",
     "output_type": "stream",
     "text": [
      "count :  1219\n",
      "count :  171\n",
      "{1: 1, 2: 1, 3: 2, 4: 3, 5: 5, 6: 8, 7: 13, 8: 21, 9: 34, 10: 55, 11: 89, 12: 144, 13: 233, 14: 377, 15: 610, 16: 987, 17: 1597, 18: 2584, 19: 4181, 20: 6765, 21: 10946, 22: 17711, 23: 28657, 24: 46368, 25: 75025, 26: 121393, 27: 196418, 28: 317811, 29: 514229, 30: 832040, 31: 1346269, 32: 2178309, 33: 3524578, 34: 5702887, 35: 9227465, 36: 14930352, 37: 24157817, 38: 39088169, 39: 63245986, 40: 102334155, 41: 165580141, 42: 267914296, 43: 433494437, 44: 701408733, 45: 1134903170, 46: 1836311903, 47: 2971215073, 48: 4807526976, 49: 7778742049, 50: 12586269025, 51: 20365011074, 52: 32951280099, 53: 53316291173, 54: 86267571272, 55: 139583862445, 56: 225851433717, 57: 365435296162, 58: 591286729879, 59: 956722026041, 60: 1548008755920, 61: 2504730781961, 62: 4052739537881, 63: 6557470319842, 64: 10610209857723, 65: 17167680177565, 66: 27777890035288, 67: 44945570212853, 68: 72723460248141, 69: 117669030460994, 70: 190392490709135, 71: 308061521170129, 72: 498454011879264, 73: 806515533049393, 74: 1304969544928657, 75: 2111485077978050, 76: 3416454622906707, 77: 5527939700884757, 78: 8944394323791464, 79: 14472334024676221, 80: 23416728348467685, 81: 37889062373143906, 82: 61305790721611591, 83: 99194853094755497, 84: 160500643816367088, 85: 259695496911122585, 86: 420196140727489673, 87: 679891637638612258, 88: 1100087778366101931, 89: 1779979416004714189, 90: 2880067194370816120, 91: 4660046610375530309, 92: 7540113804746346429, 93: 12200160415121876738, 94: 19740274219868223167, 95: 31940434634990099905, 96: 51680708854858323072, 97: 83621143489848422977, 98: 135301852344706746049, 99: 218922995834555169026, 100: 354224848179261915075}\n"
     ]
    }
   ],
   "source": [
    "count = 0\n",
    "fibo(15)\n",
    "print(\"count : \", count)\n",
    "count = 0\n",
    "fibo_m(100)\n",
    "print(\"count : \", count)\n",
    "print(dictionary)"
   ]
  },
  {
   "cell_type": "code",
   "execution_count": 27,
   "id": "1f3c8652",
   "metadata": {},
   "outputs": [
    {
     "name": "stdout",
     "output_type": "stream",
     "text": [
      "10\n",
      "20\n",
      "30\n",
      "40\n",
      "10\n",
      "a:10, b:20, c:30\n",
      "before => a:10, b:20\n",
      "after => a:20, b:10\n"
     ]
    }
   ],
   "source": [
    "# tuple : 수정할 수 없는 자료 ( ), \n",
    "tuple_test = (10,20,30,40)\n",
    "for value in tuple_test:\n",
    "    print(value)\n",
    "print(tuple_test[0])\n",
    "# tuple_test[0] = 10  # error\n",
    "a,b,c = 10,20,30\n",
    "print(\"a:{}, b:{}, c:{}\".format(a,b,c))\n",
    "\n",
    "(a,b) = 10, 20\n",
    "print(\"before => a:{}, b:{}\".format(a,b))\n",
    "a,b = b,a  # a와 b의 값이 바뀜\n",
    "print(\"after => a:{}, b:{}\".format(a,b))"
   ]
  },
  {
   "cell_type": "code",
   "execution_count": 29,
   "id": "d2b43d20",
   "metadata": {},
   "outputs": [
    {
     "name": "stdout",
     "output_type": "stream",
     "text": [
      "0번째 값 : 1\n",
      "1번째 값 : 2\n",
      "2번째 값 : 3\n",
      "3번째 값 : 4\n",
      "4번째 값 : 5\n",
      "88 / 3 = 29, 1\n"
     ]
    }
   ],
   "source": [
    "for idx, value in enumerate([1,2,3,4,5]):   # 튜플을 리턴하는 함수 enumerate\n",
    "    print(\"{}번째 값 : {}\".format(idx, value))\n",
    "\n",
    "a, b = divmod(88,3)\n",
    "print(\"88 / 3 = {}, {}\".format(a,b))"
   ]
  },
  {
   "cell_type": "code",
   "execution_count": 33,
   "id": "913a07fc",
   "metadata": {},
   "outputs": [
    {
     "name": "stdout",
     "output_type": "stream",
     "text": [
      "[1, 4, 9, 16, 25]\n",
      "\n",
      " [1, 2]\n"
     ]
    }
   ],
   "source": [
    "# map과  filter 함수 => map(함수, 리스트), filter(함수, 리스트)\n",
    "# def power(x):\n",
    "#     return x*x\n",
    "# def under_3(x):\n",
    "#     return x < 3\n",
    "# lambda 함수로 변경 -> lambda 매개변수 : 리턴값\n",
    "power = lambda x: x*x\n",
    "under_3 = lambda x: x < 3\n",
    "\n",
    "a_list = [1,2,3,4,5]\n",
    "b_list = list(map(power, a_list))\n",
    "print(b_list)\n",
    "c_list = list(filter(under_3, a_list))\n",
    "print(\"\\n\",c_list)"
   ]
  },
  {
   "cell_type": "code",
   "execution_count": 34,
   "id": "d8ee42f5",
   "metadata": {},
   "outputs": [
    {
     "data": {
      "text/plain": [
       "[1, 4, 9, 16, 25]"
      ]
     },
     "execution_count": 34,
     "metadata": {},
     "output_type": "execute_result"
    }
   ],
   "source": [
    "b_list = list(map(lambda x: x*x, a_list))\n",
    "b_list"
   ]
  },
  {
   "cell_type": "code",
   "execution_count": 35,
   "id": "9d216a88",
   "metadata": {},
   "outputs": [
    {
     "data": {
      "text/plain": [
       "[1, 2]"
      ]
     },
     "execution_count": 35,
     "metadata": {},
     "output_type": "execute_result"
    }
   ],
   "source": [
    "c_list = list(filter(lambda x: x < 3, a_list))\n",
    "c_list"
   ]
  },
  {
   "cell_type": "code",
   "execution_count": 36,
   "id": "2cbe5b70",
   "metadata": {},
   "outputs": [],
   "source": [
    "# file 처리 : open, close, write, read ..\n",
    "file = open(\"a.txt\", \"w\")\n",
    "file.write(\"Hello Python file write !!\")\n",
    "file.close()"
   ]
  },
  {
   "cell_type": "code",
   "execution_count": 38,
   "id": "0265a308",
   "metadata": {},
   "outputs": [
    {
     "name": "stdout",
     "output_type": "stream",
     "text": [
      "Hello Python file write !!\n"
     ]
    }
   ],
   "source": [
    "# file 처리 : open, close, write, read ..\n",
    "file = open(\"a.txt\", \"r\")\n",
    "file_data = file.read()\n",
    "print(file_data)\n",
    "file.close()"
   ]
  },
  {
   "cell_type": "code",
   "execution_count": 42,
   "id": "0331ed33",
   "metadata": {},
   "outputs": [],
   "source": [
    "# 파일을 자동으로 close() 시킴\n",
    "with open(\"a.txt\", \"w\") as file:\n",
    "    file.write(\"with python file open!!\\n\")\n",
    "    file.write(\"with python file open!!\\n\")\n",
    "    file.write(\"with python file open!!\\n\")    \n",
    "# file_data = file.read()  # error    "
   ]
  },
  {
   "cell_type": "code",
   "execution_count": 43,
   "id": "58dc6e73",
   "metadata": {},
   "outputs": [
    {
     "name": "stdout",
     "output_type": "stream",
     "text": [
      "with python file open!!\n",
      "\n",
      "with python file open!!\n",
      "\n",
      "with python file open!!\n",
      "\n"
     ]
    }
   ],
   "source": [
    "# 저장된 파일의 내용을 라인 단위로 읽어옴\n",
    "with open(\"a.txt\", \"r\") as file:\n",
    "    for line in file:\n",
    "        print(line)"
   ]
  },
  {
   "cell_type": "code",
   "execution_count": null,
   "id": "6ce8997a",
   "metadata": {},
   "outputs": [],
   "source": [
    "# 키보드에서 이름 성적을 입력받아 파일에 저장\n",
    "with open(\"score.txt\", \"w+\") as file:\n",
    "    name, score = input(\"이름 성적 입력 > \").split()\n",
    "    file.write(name + ',' + score)"
   ]
  },
  {
   "cell_type": "code",
   "execution_count": 47,
   "id": "56690ebf",
   "metadata": {},
   "outputs": [
    {
     "name": "stdout",
     "output_type": "stream",
     "text": [
      "홍길동 :  90\n"
     ]
    }
   ],
   "source": [
    "with open(\"score.txt\", \"r\") as file:\n",
    "    for line in file:\n",
    "        name, score = line.split(',')\n",
    "        print(name, ': ', score)"
   ]
  },
  {
   "cell_type": "code",
   "execution_count": 55,
   "id": "bc184304",
   "metadata": {},
   "outputs": [
    {
     "name": "stdout",
     "output_type": "stream",
     "text": [
      "이름 성적 입력 > abcd 88\n",
      "홍길동 :  90\n",
      "\n",
      "김철수 :  100\n",
      "\n",
      "abcd :  88\n",
      "\n"
     ]
    }
   ],
   "source": [
    "file = open(\"score.txt\", \"a+\")  # w, a, r\n",
    "name, score = input(\"이름 성적 입력 > \").split()\n",
    "file.write(name + ',' + score + '\\n')  #  파일의 마지막 위치를 가리킴\n",
    "\n",
    "file.seek(0, 0)  # 파일의 처음 위치로 이동\n",
    "for line in file:\n",
    "    name, score = line.split(',')\n",
    "    print(name, ': ', score)\n",
    "file.close()"
   ]
  },
  {
   "cell_type": "code",
   "execution_count": null,
   "id": "4df91401",
   "metadata": {},
   "outputs": [],
   "source": [
    "# 이름, 국어, 영어, 수학 성적을 입력받아 파일 저장한 후 file_write()\n",
    "# 검색할 이름을 입력받아 파일에서 데이터 검색   file_search()\n",
    "  # 검색한 이름과 성적 출력\n",
    "# 전체 학생의 인원수와 총점 평균을 구함  file_total()"
   ]
  },
  {
   "cell_type": "code",
   "execution_count": 52,
   "id": "0053c1de",
   "metadata": {},
   "outputs": [],
   "source": [
    "def file_write(file):\n",
    "     while True:\n",
    "        name = input(\"이름 입력 >\")\n",
    "        if name == 'q':\n",
    "            return\n",
    "        # 30 40 50 -> 문자열 분리 후 \"30,40,50\" 의 형식으로 join \n",
    "        score = ','.join(input(\"점수 3과목 입력 >\").split()) \n",
    "        file.write(name + ',' + score + '\\n')\n",
    "    \n",
    "def file_search(file):\n",
    "    s_name = input(\"검색할 이름 입력 > \")\n",
    "    file.seek(0.0)\n",
    "    for line in file:\n",
    "        f_data = line.split(',')\n",
    "        if f_data[0] == s_name:\n",
    "            return s_name, f_data[1:]\n",
    "    return None, None\n",
    "    \n",
    "def file_total(file):\n",
    "    total = 0\n",
    "    count = 0\n",
    "    file.seek(0.0)\n",
    "    for line in file:\n",
    "        count += 1\n",
    "        f_data = line.split(',')\n",
    "        #f_score = list(map(lambda x : int(x),[x for x in f_data[1:]]))\n",
    "        f_score = [int(x) for x in f_data[1:]]\n",
    "        total += sum(f_score)\n",
    "    return total, count"
   ]
  },
  {
   "cell_type": "code",
   "execution_count": 53,
   "id": "502f567b",
   "metadata": {},
   "outputs": [
    {
     "name": "stdout",
     "output_type": "stream",
     "text": [
      "이름 입력 >q\n"
     ]
    }
   ],
   "source": [
    "# open\n",
    "file = open(\"score1.txt\", \"a+\")\n",
    "file_write(file)"
   ]
  },
  {
   "cell_type": "code",
   "execution_count": 54,
   "id": "3d5a9326",
   "metadata": {},
   "outputs": [
    {
     "name": "stdout",
     "output_type": "stream",
     "text": [
      "검색할 이름 입력 > 박의찬\n",
      "박의찬의 성적은 30, 70, 20\n",
      "\n",
      "총 인원수 : 4  총점 : 540  평균 : 135.00\n"
     ]
    }
   ],
   "source": [
    "name, score = file_search(file)\n",
    "if name: \n",
    "    print(\"{}의 성적은 {}, {}, {}\".format(name, score[0], score[1], score[2]))\n",
    "else:\n",
    "    print(\"자료 없음\")\n",
    "\n",
    "total, count = file_total(file)\n",
    "print(\"총 인원수 : {}  총점 : {}  평균 : {:5.2f}\".format(count, total, total/count))\n"
   ]
  },
  {
   "cell_type": "code",
   "execution_count": 57,
   "id": "dcd11aef",
   "metadata": {},
   "outputs": [
    {
     "name": "stdout",
     "output_type": "stream",
     "text": [
      "first call\n",
      "2 call\n",
      "함수 호출 1\n",
      "test\n",
      " \n",
      "함수 호출 2\n",
      "test2\n"
     ]
    }
   ],
   "source": [
    "#제너레어터 함수 실행 : next(함수명), 함수 내부에 return 대신 yield 사용\n",
    "def test():\n",
    "    print('함수 호출 1')\n",
    "    yield \"test\"\n",
    "    print('함수 호출 2')\n",
    "    yield \"test2\"\n",
    "    \n",
    "# 함수 호출\n",
    "print(\"first call\")\n",
    "test()\n",
    "\n",
    "print(\"2 call\")\n",
    "test()\n",
    "\n",
    "file_name = test()\n",
    "a = next(file_name)\n",
    "print(a)\n",
    "print(\" \")\n",
    "b = next(file_name)\n",
    "print(b)"
   ]
  },
  {
   "cell_type": "code",
   "execution_count": 60,
   "id": "2d7a46ff",
   "metadata": {},
   "outputs": [
    {
     "name": "stdout",
     "output_type": "stream",
     "text": [
      "홀수만\n",
      "[1, 3, 5, 7, 9]\n",
      "3이상 7미만 자료만\n",
      "[3, 4, 5, 6]\n",
      "제곱해서 50미만만\n",
      "[1, 2, 3, 4, 5, 6, 7]\n"
     ]
    }
   ],
   "source": [
    "# 269 연습문제2\n",
    "numbers = list(range(1, 10+1))\n",
    "\n",
    "print(\"홀수만\")\n",
    "print(list(filter(lambda x: x%2 ,numbers)))\n",
    "\n",
    "print(\"3이상 7미만 자료만\")\n",
    "print(list(filter(lambda x: 3 <= x < 7 ,numbers)))\n",
    "\n",
    "print(\"제곱해서 50미만만\")\n",
    "print(list(filter(lambda x: x*x < 50 ,numbers)))"
   ]
  },
  {
   "cell_type": "code",
   "execution_count": 65,
   "id": "1fdcd5dd",
   "metadata": {},
   "outputs": [
    {
     "name": "stdout",
     "output_type": "stream",
     "text": [
      "무조건 실행\n",
      "에러 발생 :  test\n",
      "무조건 실행\n",
      "무조건 실행\n",
      "무조건 실행\n",
      "무조건 실행\n",
      "['45', '435', '33', '44']\n"
     ]
    }
   ],
   "source": [
    "# try except else finally\n",
    "list_data = ['45', \"test\", '435', '33', '44']\n",
    "\n",
    "list_number = []\n",
    "for item in list_data:\n",
    "    try:\n",
    "        float(item)\n",
    "    except:\n",
    "        print(\"에러 발생 : \",item)\n",
    "    else:\n",
    "        list_number.append(item)\n",
    "    finally:\n",
    "        print(\"무조건 실행\")\n",
    "print(list_number)"
   ]
  },
  {
   "cell_type": "code",
   "execution_count": 66,
   "id": "06e15db8",
   "metadata": {},
   "outputs": [
    {
     "ename": "KeyboardInterrupt",
     "evalue": "Interrupted by user",
     "output_type": "error",
     "traceback": [
      "\u001b[1;31m---------------------------------------------------------------------------\u001b[0m",
      "\u001b[1;31mKeyboardInterrupt\u001b[0m                         Traceback (most recent call last)",
      "\u001b[1;32m~\\AppData\\Local\\Temp/ipykernel_3144/2600649732.py\u001b[0m in \u001b[0;36m<module>\u001b[1;34m\u001b[0m\n\u001b[0;32m      2\u001b[0m \u001b[1;33m\u001b[0m\u001b[0m\n\u001b[0;32m      3\u001b[0m \u001b[1;32mtry\u001b[0m\u001b[1;33m:\u001b[0m\u001b[1;33m\u001b[0m\u001b[1;33m\u001b[0m\u001b[0m\n\u001b[1;32m----> 4\u001b[1;33m     \u001b[0minput_number\u001b[0m \u001b[1;33m=\u001b[0m \u001b[0mint\u001b[0m\u001b[1;33m(\u001b[0m\u001b[0minput\u001b[0m\u001b[1;33m(\u001b[0m\u001b[1;34m\"정수 입력 > \"\u001b[0m\u001b[1;33m)\u001b[0m\u001b[1;33m)\u001b[0m\u001b[1;33m\u001b[0m\u001b[1;33m\u001b[0m\u001b[0m\n\u001b[0m\u001b[0;32m      5\u001b[0m     \u001b[0mprint\u001b[0m\u001b[1;33m(\u001b[0m\u001b[1;34m\"{}번째 요소 : {}\"\u001b[0m\u001b[1;33m.\u001b[0m\u001b[0mformat\u001b[0m\u001b[1;33m(\u001b[0m\u001b[0minput_number\u001b[0m\u001b[1;33m,\u001b[0m \u001b[0mlist_number\u001b[0m\u001b[1;33m[\u001b[0m\u001b[0minput_number\u001b[0m\u001b[1;33m]\u001b[0m\u001b[1;33m)\u001b[0m\u001b[1;33m)\u001b[0m\u001b[1;33m\u001b[0m\u001b[1;33m\u001b[0m\u001b[0m\n\u001b[0;32m      6\u001b[0m \u001b[1;32mexcept\u001b[0m \u001b[0mValueError\u001b[0m \u001b[1;32mas\u001b[0m \u001b[0mex\u001b[0m\u001b[1;33m:\u001b[0m\u001b[1;33m\u001b[0m\u001b[1;33m\u001b[0m\u001b[0m\n",
      "\u001b[1;32mC:\\ProgramData\\Anaconda3\\lib\\site-packages\\ipykernel\\kernelbase.py\u001b[0m in \u001b[0;36mraw_input\u001b[1;34m(self, prompt)\u001b[0m\n\u001b[0;32m   1004\u001b[0m                 \u001b[1;34m\"raw_input was called, but this frontend does not support input requests.\"\u001b[0m\u001b[1;33m\u001b[0m\u001b[1;33m\u001b[0m\u001b[0m\n\u001b[0;32m   1005\u001b[0m             )\n\u001b[1;32m-> 1006\u001b[1;33m         return self._input_request(\n\u001b[0m\u001b[0;32m   1007\u001b[0m             \u001b[0mstr\u001b[0m\u001b[1;33m(\u001b[0m\u001b[0mprompt\u001b[0m\u001b[1;33m)\u001b[0m\u001b[1;33m,\u001b[0m\u001b[1;33m\u001b[0m\u001b[1;33m\u001b[0m\u001b[0m\n\u001b[0;32m   1008\u001b[0m             \u001b[0mself\u001b[0m\u001b[1;33m.\u001b[0m\u001b[0m_parent_ident\u001b[0m\u001b[1;33m[\u001b[0m\u001b[1;34m\"shell\"\u001b[0m\u001b[1;33m]\u001b[0m\u001b[1;33m,\u001b[0m\u001b[1;33m\u001b[0m\u001b[1;33m\u001b[0m\u001b[0m\n",
      "\u001b[1;32mC:\\ProgramData\\Anaconda3\\lib\\site-packages\\ipykernel\\kernelbase.py\u001b[0m in \u001b[0;36m_input_request\u001b[1;34m(self, prompt, ident, parent, password)\u001b[0m\n\u001b[0;32m   1049\u001b[0m             \u001b[1;32mexcept\u001b[0m \u001b[0mKeyboardInterrupt\u001b[0m\u001b[1;33m:\u001b[0m\u001b[1;33m\u001b[0m\u001b[1;33m\u001b[0m\u001b[0m\n\u001b[0;32m   1050\u001b[0m                 \u001b[1;31m# re-raise KeyboardInterrupt, to truncate traceback\u001b[0m\u001b[1;33m\u001b[0m\u001b[1;33m\u001b[0m\u001b[0m\n\u001b[1;32m-> 1051\u001b[1;33m                 \u001b[1;32mraise\u001b[0m \u001b[0mKeyboardInterrupt\u001b[0m\u001b[1;33m(\u001b[0m\u001b[1;34m\"Interrupted by user\"\u001b[0m\u001b[1;33m)\u001b[0m \u001b[1;32mfrom\u001b[0m \u001b[1;32mNone\u001b[0m\u001b[1;33m\u001b[0m\u001b[1;33m\u001b[0m\u001b[0m\n\u001b[0m\u001b[0;32m   1052\u001b[0m             \u001b[1;32mexcept\u001b[0m \u001b[0mException\u001b[0m\u001b[1;33m:\u001b[0m\u001b[1;33m\u001b[0m\u001b[1;33m\u001b[0m\u001b[0m\n\u001b[0;32m   1053\u001b[0m                 \u001b[0mself\u001b[0m\u001b[1;33m.\u001b[0m\u001b[0mlog\u001b[0m\u001b[1;33m.\u001b[0m\u001b[0mwarning\u001b[0m\u001b[1;33m(\u001b[0m\u001b[1;34m\"Invalid Message:\"\u001b[0m\u001b[1;33m,\u001b[0m \u001b[0mexc_info\u001b[0m\u001b[1;33m=\u001b[0m\u001b[1;32mTrue\u001b[0m\u001b[1;33m)\u001b[0m\u001b[1;33m\u001b[0m\u001b[1;33m\u001b[0m\u001b[0m\n",
      "\u001b[1;31mKeyboardInterrupt\u001b[0m: Interrupted by user"
     ]
    }
   ],
   "source": [
    "list_number = [43,24,2515,155,244]\n",
    "\n",
    "try:\n",
    "    input_number = int(input(\"정수 입력 > \"))\n",
    "    print(\"{}번째 요소 : {}\".format(input_number, list_number[input_number]))\n",
    "except ValueError as ex:\n",
    "    print(\"정수를 입력하세요\")"
   ]
  },
  {
   "cell_type": "code",
   "execution_count": null,
   "id": "3ea39610",
   "metadata": {},
   "outputs": [],
   "source": [
    "def phone_file_open(file):\n",
    "    try:\n",
    "        file = open(file_name, file_mode)\n",
    "        return file\n",
    "    \n",
    "\n",
    "def phone_file_write(file):\n",
    "     while True:\n",
    "        try: \n",
    "            name = input(\"이름 입력 > \")\n",
    "            if name == 'q':\n",
    "                return\n",
    "            score = '-'.join(input(\"전화번호 입력 000 0000 0000 > \").split()) \n",
    "            file.write(name + ' ' + score + '\\n')\n",
    "        except:\n",
    "            print(\"phone_file_write 에러\")\n",
    "        finally:\n",
    "            file.close()\n",
    "    \n",
    "def phone_file_search(file):\n",
    "    try:\n",
    "        s_name = input(\"검색할 이름 입력 > \")\n",
    "        file.seek(0.0)\n",
    "        for line in file:\n",
    "            f_data = line.split(' ')\n",
    "            if f_data[0] == s_name:\n",
    "                return s_name, f_data[1]\n",
    "        return None, None\n",
    "    except:\n",
    "        print(\"phone_file_search 에러\")\n",
    "    finally:\n",
    "        file.close()\n",
    "\n",
    "def phone_file_read(file):\n",
    "    try:\n",
    "        \n",
    "    \n",
    "\n",
    "    "
   ]
  }
 ],
 "metadata": {
  "kernelspec": {
   "display_name": "Python 3 (ipykernel)",
   "language": "python",
   "name": "python3"
  },
  "language_info": {
   "codemirror_mode": {
    "name": "ipython",
    "version": 3
   },
   "file_extension": ".py",
   "mimetype": "text/x-python",
   "name": "python",
   "nbconvert_exporter": "python",
   "pygments_lexer": "ipython3",
   "version": "3.9.7"
  }
 },
 "nbformat": 4,
 "nbformat_minor": 5
}
