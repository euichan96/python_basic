{
  "nbformat": 4,
  "nbformat_minor": 0,
  "metadata": {
    "colab": {
      "name": "22_03_22_day06_crawlingnews_proj.ipynb의 사본",
      "provenance": [],
      "collapsed_sections": []
    },
    "kernelspec": {
      "name": "python3",
      "display_name": "Python 3"
    },
    "language_info": {
      "name": "python"
    }
  },
  "cells": [
    {
      "cell_type": "code",
      "execution_count": null,
      "metadata": {
        "id": "mJrQOKkl4vJD"
      },
      "outputs": [],
      "source": [
        "!pip install beautifulsoup4\n",
        "!pip install newspaper3k\n",
        "!pip install konlpy"
      ]
    },
    {
      "cell_type": "code",
      "source": [
        "!git clone https://github.com/SOMJANG/Mecab-ko-for-Google-Colab.git \n",
        "%cd Mecab-ko-for-Google-Colab/\n",
        "!bash install_mecab-ko_on_colab190912.sh\n",
        "%cd ../"
      ],
      "metadata": {
        "id": "1TxnKBnj_GcO"
      },
      "execution_count": null,
      "outputs": []
    },
    {
      "cell_type": "code",
      "source": [
        "!nvidia-smi"
      ],
      "metadata": {
        "colab": {
          "base_uri": "https://localhost:8080/"
        },
        "id": "Wp0AAtkLAgbZ",
        "outputId": "22ed5272-006e-4d28-85b8-b7f6b44225bd"
      },
      "execution_count": null,
      "outputs": [
        {
          "output_type": "stream",
          "name": "stdout",
          "text": [
            "Tue Mar 22 04:38:59 2022       \n",
            "+-----------------------------------------------------------------------------+\n",
            "| NVIDIA-SMI 460.32.03    Driver Version: 460.32.03    CUDA Version: 11.2     |\n",
            "|-------------------------------+----------------------+----------------------+\n",
            "| GPU  Name        Persistence-M| Bus-Id        Disp.A | Volatile Uncorr. ECC |\n",
            "| Fan  Temp  Perf  Pwr:Usage/Cap|         Memory-Usage | GPU-Util  Compute M. |\n",
            "|                               |                      |               MIG M. |\n",
            "|===============================+======================+======================|\n",
            "|   0  Tesla K80           Off  | 00000000:00:04.0 Off |                    0 |\n",
            "| N/A   39C    P8    28W / 149W |      0MiB / 11441MiB |      0%      Default |\n",
            "|                               |                      |                  N/A |\n",
            "+-------------------------------+----------------------+----------------------+\n",
            "                                                                               \n",
            "+-----------------------------------------------------------------------------+\n",
            "| Processes:                                                                  |\n",
            "|  GPU   GI   CI        PID   Type   Process name                  GPU Memory |\n",
            "|        ID   ID                                                   Usage      |\n",
            "|=============================================================================|\n",
            "|  No running processes found                                                 |\n",
            "+-----------------------------------------------------------------------------+\n"
          ]
        }
      ]
    },
    {
      "cell_type": "code",
      "source": [
        "from konlpy.tag import Mecab\n",
        "mecab = Mecab()\n",
        "mecab.morphs('하하하ㅏ하하ㅏㅎ하하')"
      ],
      "metadata": {
        "colab": {
          "base_uri": "https://localhost:8080/"
        },
        "id": "FrMlCxBOB1pw",
        "outputId": "16540fd9-7929-4e4d-8c04-02580dac6a9a"
      },
      "execution_count": null,
      "outputs": [
        {
          "output_type": "execute_result",
          "data": {
            "text/plain": [
              "['하하', '하', 'ㅏ하하ㅏㅎ하하']"
            ]
          },
          "metadata": {},
          "execution_count": 5
        }
      ]
    },
    {
      "cell_type": "markdown",
      "source": [
        "## BeautifulSoup 사용법"
      ],
      "metadata": {
        "id": "9I0GWqG-DFpf"
      }
    },
    {
      "cell_type": "code",
      "source": [
        "from bs4 import BeautifulSoup"
      ],
      "metadata": {
        "id": "4DEqdCaMDFHH"
      },
      "execution_count": null,
      "outputs": []
    },
    {
      "cell_type": "code",
      "source": [
        "html = '''\n",
        "<html>\n",
        "    <head>\n",
        "    </head>\n",
        "    <body>\n",
        "        <h1>장바구니\n",
        "            <p id = 'clothes' class='name' title='라운드티'> 라운드티\n",
        "                <span class = 'number'> 25 </span>\n",
        "                <span class = 'price'> 29000 </span>\n",
        "                <span class = 'menu'> 의류 </span>\n",
        "                <a href = \"http://www.naver.com\">바로가기 </a>\n",
        "            </p>\n",
        "            <p id = 'watch' class='name' title='시계'> 시계\n",
        "                <span class='number'> 28 </span>\n",
        "                <span class='price'> 32000 </span>\n",
        "                <span class='menu'> 악세사리 </span>\n",
        "                <a href = \"http://www.facebook.com\"> 바로가기 </a>\n",
        "            </p>\n",
        "        </h1>\n",
        "    </body>\n",
        "</html>\n",
        "'''"
      ],
      "metadata": {
        "id": "K5JlKNpuDKB-"
      },
      "execution_count": null,
      "outputs": []
    },
    {
      "cell_type": "code",
      "source": [
        "soup = BeautifulSoup(html, 'html.parser')"
      ],
      "metadata": {
        "id": "2IDZUFaJD8as"
      },
      "execution_count": null,
      "outputs": []
    },
    {
      "cell_type": "code",
      "source": [
        "print(soup.select('body'))"
      ],
      "metadata": {
        "colab": {
          "base_uri": "https://localhost:8080/"
        },
        "id": "jTTdHYZ5D_mR",
        "outputId": "c9a4e383-5300-419b-d070-f52f261d0e6b"
      },
      "execution_count": null,
      "outputs": [
        {
          "output_type": "stream",
          "name": "stdout",
          "text": [
            "[<body>\n",
            "<h1>장바구니\n",
            "            <p class=\"name\" id=\"clothes\" title=\"라운드티\"> 라운드티\n",
            "                <span class=\"number\"> 25 </span>\n",
            "<span class=\"price\"> 29000 </span>\n",
            "<span class=\"menu\"> 의류 </span>\n",
            "<a href=\"http://www.naver.com\">바로가기 </a>\n",
            "</p>\n",
            "<p class=\"name\" id=\"watch\" title=\"시계\"> 시계\n",
            "                <span class=\"number\"> 28 </span>\n",
            "<span class=\"price\"> 32000 </span>\n",
            "<span class=\"menu\"> 악세사리 </span>\n",
            "<a href=\"http://www.facebook.com\"> 바로가기 </a>\n",
            "</p>\n",
            "</h1>\n",
            "</body>]\n"
          ]
        }
      ]
    },
    {
      "cell_type": "code",
      "source": [
        "print(soup.select('p'))"
      ],
      "metadata": {
        "colab": {
          "base_uri": "https://localhost:8080/"
        },
        "id": "loTz_AgHENsf",
        "outputId": "b71e1e15-234f-4150-93c0-f22d75cd9db3"
      },
      "execution_count": null,
      "outputs": [
        {
          "output_type": "stream",
          "name": "stdout",
          "text": [
            "[<p class=\"name\" id=\"clothes\" title=\"라운드티\"> 라운드티\n",
            "                <span class=\"number\"> 25 </span>\n",
            "<span class=\"price\"> 29000 </span>\n",
            "<span class=\"menu\"> 의류 </span>\n",
            "<a href=\"http://www.naver.com\">바로가기 </a>\n",
            "</p>, <p class=\"name\" id=\"watch\" title=\"시계\"> 시계\n",
            "                <span class=\"number\"> 28 </span>\n",
            "<span class=\"price\"> 32000 </span>\n",
            "<span class=\"menu\"> 악세사리 </span>\n",
            "<a href=\"http://www.facebook.com\"> 바로가기 </a>\n",
            "</p>]\n"
          ]
        }
      ]
    },
    {
      "cell_type": "code",
      "source": [
        "print(soup.select('h1 .name .menu'))"
      ],
      "metadata": {
        "colab": {
          "base_uri": "https://localhost:8080/"
        },
        "id": "9Jq8nhfmEezk",
        "outputId": "5c47d92e-4df8-4524-b14a-beb8cb40f237"
      },
      "execution_count": null,
      "outputs": [
        {
          "output_type": "stream",
          "name": "stdout",
          "text": [
            "[<span class=\"menu\"> 의류 </span>, <span class=\"menu\"> 악세사리 </span>]\n"
          ]
        }
      ]
    },
    {
      "cell_type": "code",
      "source": [
        "print(soup.select('html > h1'))"
      ],
      "metadata": {
        "colab": {
          "base_uri": "https://localhost:8080/"
        },
        "id": "nVYls8bKEr_D",
        "outputId": "315da805-06ad-4f1d-abb2-930f0ea69ae5"
      },
      "execution_count": null,
      "outputs": [
        {
          "output_type": "stream",
          "name": "stdout",
          "text": [
            "[]\n"
          ]
        }
      ]
    },
    {
      "cell_type": "code",
      "source": [
        "print(soup.select('html h1'))"
      ],
      "metadata": {
        "colab": {
          "base_uri": "https://localhost:8080/"
        },
        "id": "5FVhDPPELsx8",
        "outputId": "56fb9724-5312-4008-d05d-b2a3cb143d68"
      },
      "execution_count": null,
      "outputs": [
        {
          "output_type": "stream",
          "name": "stdout",
          "text": [
            "[<h1>장바구니\n",
            "            <p class=\"name\" id=\"clothes\" title=\"라운드티\"> 라운드티\n",
            "                <span class=\"number\"> 25 </span>\n",
            "<span class=\"price\"> 29000 </span>\n",
            "<span class=\"menu\"> 의류 </span>\n",
            "<a href=\"http://www.naver.com\">바로가기 </a>\n",
            "</p>\n",
            "<p class=\"name\" id=\"watch\" title=\"시계\"> 시계\n",
            "                <span class=\"number\"> 28 </span>\n",
            "<span class=\"price\"> 32000 </span>\n",
            "<span class=\"menu\"> 악세사리 </span>\n",
            "<a href=\"http://www.facebook.com\"> 바로가기 </a>\n",
            "</p>\n",
            "</h1>]\n"
          ]
        }
      ]
    },
    {
      "cell_type": "markdown",
      "source": [
        "## Newspaper3k 패키지"
      ],
      "metadata": {
        "id": "E-qMYVJXLxF2"
      }
    },
    {
      "cell_type": "code",
      "source": [
        "from newspaper import Article"
      ],
      "metadata": {
        "id": "SUkMDAEsLwE9"
      },
      "execution_count": null,
      "outputs": []
    },
    {
      "cell_type": "code",
      "source": [
        "url = 'https://news.naver.com/main/read.naver?mode=LSD&mid=sec&sid1=101&oid=030&aid=0002881076'"
      ],
      "metadata": {
        "id": "tKtS43o_L1BM"
      },
      "execution_count": null,
      "outputs": []
    },
    {
      "cell_type": "code",
      "source": [
        "article = Article(url, language='ko')\n",
        "article.download()\n",
        "article.parse()"
      ],
      "metadata": {
        "id": "Xpp1iX7lL2ao"
      },
      "execution_count": null,
      "outputs": []
    },
    {
      "cell_type": "code",
      "source": [
        "print('기사 제목 :')\n",
        "print(article.title)\n",
        "print('')\n",
        "\n",
        "print('기사 내용 :')\n",
        "print(article.text)"
      ],
      "metadata": {
        "colab": {
          "base_uri": "https://localhost:8080/"
        },
        "id": "Kb1RoM7rL4AS",
        "outputId": "2da2d1dc-a68c-4cda-93c2-12f0e4ca6f71"
      },
      "execution_count": null,
      "outputs": [
        {
          "output_type": "stream",
          "name": "stdout",
          "text": [
            "기사 제목 :\n",
            "[AI 사피엔스 시대]자연어처리 기술, 컴퓨팅 파워 경쟁 시대로\n",
            "\n",
            "기사 내용 :\n",
            "[Copyright ⓒ 전자신문 & 전자신문인터넷, 무단전재 및 재배포 금지]\n",
            "\n",
            "주로 아이디어와 기술력으로 경쟁했던 자연어처리 인공지능(AI) 분야는 점차 컴퓨팅 파워 싸움으로 무게 추가 이동하고 있다. 모델이 대형화되면서 향상된 퍼포먼스 확보에 필요한 자금 규모도 커지고 있다. 자칫 대기업 자본력에 휘둘릴 수 있다는 우려도 함께 나온다.자연어처리(NLP)는 인간이 사용하는 언어 체계를 기계가 인식하도록 알고리즘을 디자인하는 기술이다. 흔히 말하는 컴퓨터 혹은 인간과 대화하는 컴퓨터 관련 기술이 포함된다.목적에 따라 세 가지 카테고리로 나뉜다. 인간이 제기한 질문에 자동으로 적절한 답을 찾아주는 '질의응답(QA)', 원하는 업무를 지시했을 때 작업을 수행하는 '테스크 컴플리션', 그리고 특별한 목적이 없는 대화를 의미하는 '오픈도메인 컨버세이션(비목적성 대화)'이 있다. 각기 발전해왔던 세 가지 기술은 지난 2018년 구글의 인공지능 언어모델 '버트(BERT)'의 등장으로 패러다임이 전환됐다. 압도적인 성능으로 대량의 프리트레이닝(사전학습)이 가능해지면서 굳이 셋을 구분할 필요가 없어진 것이다.기계학습 연구에서 모델을 학습할 때는 지도학습과 비지도학습, 강화학습 중 하나를 골라 활용한다. 지도학습은 사람이 적절한 입력과 출력을 부여하는 방식이다. 정답이 정해져 있고 기계의 정답률도 쉽게 측정할 수 있다. 반면에 비지도학습은 정답이 정해지지 않은 데이터에 대해서도 기계가 스스로 클러스터링 등을 통해 학습한다. 체계화되지 않은 대량의 데이터를 학습 가능하지만 학습이 맞게 됐는지 확인하기 어렵다.버트는 기존 AI 학습 방법을 혁신적으로 바꿔놨다는 평가를 받는다. 자연어처리를 교사 없이 양방향으로 사전 학습하는 최초의 시스템이다. 비지도학습 방식을 사용하면서도 기존 존재했던 어떤 기술보다 뛰어난 성능을 보여준다. 최근 1년 반 동안 버트를 필두로 AI 모델은 급격히 대형화되는 추세다.이는 기존의 빅데이터 개념을 훨씬 상회하는 초 대규모 데이터를 프리트레이닝 단계에서 학습 가능하게 만드는 결과로 이어졌다. 성능도 비약적으로 상승했다. 가장 최근 구글이 선보인 제너레이션 모델은 제시된 문장에 대해 인간의 80~90% 수준으로 답변 문장을 만들어 낸다.문제는 모델이 대형화되면서 기술을 구성하는 요소 중 알고리즘 대비 대량의 데이터셋과 컴퓨팅 파워 중요성이 더 커졌다는 점이다. 버트 자체는 '파인튜닝' 방식으로 다양한 분야에 확대 적용이 가능하지만 버트 성능에 준하는 최신 대형 모델을 만들어내려면 현존 최신 텐서처리장치(TPU)로도 학습에 수십 일이 걸린다.국내 한 AI 스타트업 대표는 “국내 상황은 데이터셋·인력·자금 인프라 모두 중국이나 영어권에 비해 떨어지는 게 사실이다. 자연어처리 모델 하나 만드는 데 10억~20억원씩 비용이 들어 고민이 많다”면서 “지금 글로벌 시장에서 격차가 나기 시작하면 이후에는 따라잡기 어려워진다. 정부 차원의 관심과 지원이 필요하다”고 말했다.이형두기자 dudu@etnews.com\n"
          ]
        }
      ]
    },
    {
      "cell_type": "markdown",
      "source": [
        "## BeautifulSoup와 newspaper3k를 통해 크롤러 만들기"
      ],
      "metadata": {
        "id": "wYk40V_iL7uV"
      }
    },
    {
      "cell_type": "code",
      "source": [
        "import requests\n",
        "import pandas as pd\n",
        "from bs4 import BeautifulSoup"
      ],
      "metadata": {
        "id": "TRJkyVXOL5KD"
      },
      "execution_count": null,
      "outputs": []
    },
    {
      "cell_type": "code",
      "source": [
        "def make_urllist(page_num, code, date):\n",
        "    urllist = []\n",
        "    for i in range(1, page_num + 1):\n",
        "        url = 'https://news.naver.com/main/list.nhn?mode=LSD&mid=sec&sid1='+str(code)+'&date='+str(date)+'&page='+str(i)\n",
        "        headers = {'User-Agent': 'Mozilla/5.0 (X11; Linux x86_64) AppleWebKit/537.36 (KHTML, like Gecko) Chrome/54.0.2840.90 Safari/537.36'}\n",
        "        news = requests.get(url, headers=headers)\n",
        "\n",
        "        soup = BeautifulSoup(news.content, 'html.parser')\n",
        "\n",
        "        # CASE 1\n",
        "        news_list = soup.select('.newsflash_body .type06_headline li dl')\n",
        "\n",
        "        # CASE 2\n",
        "        news_list.extend(soup.select('.newsflash_body .type06 li dl'))\n",
        "\n",
        "        # 각 뉴스로부터 a 태그인 <a href='주소'>에서 '주소'만을 가져옵니다.\n",
        "        for line in news_list:\n",
        "            print(type(line))\n",
        "            urllist.append(line.a.get('href'))\n",
        "    return urllist"
      ],
      "metadata": {
        "id": "WtOSuhXlL90H"
      },
      "execution_count": null,
      "outputs": []
    },
    {
      "cell_type": "code",
      "source": [
        "url_list = make_urllist(2, 101, 20200506) # 경제코드 101\n",
        "print('뉴스 기사의 갯수 :', len(url_list))"
      ],
      "metadata": {
        "colab": {
          "base_uri": "https://localhost:8080/"
        },
        "id": "z693Z09rNse1",
        "outputId": "517f089c-ac5d-4775-c7cd-d38d28450233"
      },
      "execution_count": null,
      "outputs": [
        {
          "output_type": "stream",
          "name": "stdout",
          "text": [
            "<class 'bs4.element.Tag'>\n",
            "<class 'bs4.element.Tag'>\n",
            "<class 'bs4.element.Tag'>\n",
            "<class 'bs4.element.Tag'>\n",
            "<class 'bs4.element.Tag'>\n",
            "<class 'bs4.element.Tag'>\n",
            "<class 'bs4.element.Tag'>\n",
            "<class 'bs4.element.Tag'>\n",
            "<class 'bs4.element.Tag'>\n",
            "<class 'bs4.element.Tag'>\n",
            "<class 'bs4.element.Tag'>\n",
            "<class 'bs4.element.Tag'>\n",
            "<class 'bs4.element.Tag'>\n",
            "<class 'bs4.element.Tag'>\n",
            "<class 'bs4.element.Tag'>\n",
            "<class 'bs4.element.Tag'>\n",
            "<class 'bs4.element.Tag'>\n",
            "<class 'bs4.element.Tag'>\n",
            "<class 'bs4.element.Tag'>\n",
            "<class 'bs4.element.Tag'>\n",
            "<class 'bs4.element.Tag'>\n",
            "<class 'bs4.element.Tag'>\n",
            "<class 'bs4.element.Tag'>\n",
            "<class 'bs4.element.Tag'>\n",
            "<class 'bs4.element.Tag'>\n",
            "<class 'bs4.element.Tag'>\n",
            "<class 'bs4.element.Tag'>\n",
            "<class 'bs4.element.Tag'>\n",
            "<class 'bs4.element.Tag'>\n",
            "<class 'bs4.element.Tag'>\n",
            "<class 'bs4.element.Tag'>\n",
            "<class 'bs4.element.Tag'>\n",
            "<class 'bs4.element.Tag'>\n",
            "<class 'bs4.element.Tag'>\n",
            "<class 'bs4.element.Tag'>\n",
            "<class 'bs4.element.Tag'>\n",
            "<class 'bs4.element.Tag'>\n",
            "<class 'bs4.element.Tag'>\n",
            "<class 'bs4.element.Tag'>\n",
            "<class 'bs4.element.Tag'>\n",
            "뉴스 기사의 갯수 : 40\n"
          ]
        }
      ]
    },
    {
      "cell_type": "code",
      "source": [
        "url_list[:5]"
      ],
      "metadata": {
        "colab": {
          "base_uri": "https://localhost:8080/"
        },
        "id": "mQEh2AkgN-aL",
        "outputId": "9df90248-4b3d-47a7-8a0d-4d07456ba6fe"
      },
      "execution_count": null,
      "outputs": [
        {
          "output_type": "execute_result",
          "data": {
            "text/plain": [
              "['https://news.naver.com/main/read.naver?mode=LSD&mid=sec&sid1=101&oid=057&aid=0001451723',\n",
              " 'https://news.naver.com/main/read.naver?mode=LSD&mid=sec&sid1=101&oid=057&aid=0001451721',\n",
              " 'https://news.naver.com/main/read.naver?mode=LSD&mid=sec&sid1=101&oid=057&aid=0001451718',\n",
              " 'https://news.naver.com/main/read.naver?mode=LSD&mid=sec&sid1=101&oid=003&aid=0009849190',\n",
              " 'https://news.naver.com/main/read.naver?mode=LSD&mid=sec&sid1=101&oid=057&aid=0001451717']"
            ]
          },
          "metadata": {},
          "execution_count": 31
        }
      ]
    },
    {
      "cell_type": "code",
      "source": [
        "idx2word = {'101':'경제', '102':'사회', '103':'생활/문화', '105':'IT/과학'}"
      ],
      "metadata": {
        "id": "laO3mpGtPeNf"
      },
      "execution_count": null,
      "outputs": []
    },
    {
      "cell_type": "code",
      "source": [
        "def make_data(urllist, code):\n",
        "    text_list = []\n",
        "    for url in urllist:\n",
        "        article = Article(url, language='ko')\n",
        "        article.download()\n",
        "        article.parse()\n",
        "        text_list.append(article.text)\n",
        "\n",
        "    # 데이터 프레임의 'news' 키 아래 파싱한 텍스트를 벨류로 붙여줍니다.\n",
        "    df = pd.DataFrame({'news' : text_list})\n",
        "\n",
        "    # 데이터 프레임의 'code'키 아래 한글 카테고리명을 붙여줍니다.\n",
        "    df['code'] = idx2word[str(code)]\n",
        "    return df"
      ],
      "metadata": {
        "id": "AqubK9YvN_uT"
      },
      "execution_count": null,
      "outputs": []
    },
    {
      "cell_type": "code",
      "source": [
        "data = make_data(url_list, 101)"
      ],
      "metadata": {
        "id": "2uvYckfGPEiL"
      },
      "execution_count": null,
      "outputs": []
    },
    {
      "cell_type": "code",
      "source": [
        "data[:10]"
      ],
      "metadata": {
        "colab": {
          "base_uri": "https://localhost:8080/",
          "height": 173
        },
        "id": "OPL6c7X1PGhx",
        "outputId": "91156efa-9671-4810-f3ae-d1306edf00ca"
      },
      "execution_count": null,
      "outputs": [
        {
          "output_type": "error",
          "ename": "NameError",
          "evalue": "ignored",
          "traceback": [
            "\u001b[0;31m---------------------------------------------------------------------------\u001b[0m",
            "\u001b[0;31mNameError\u001b[0m                                 Traceback (most recent call last)",
            "\u001b[0;32m<ipython-input-5-9415e066eabc>\u001b[0m in \u001b[0;36m<module>\u001b[0;34m()\u001b[0m\n\u001b[0;32m----> 1\u001b[0;31m \u001b[0mdata\u001b[0m\u001b[0;34m[\u001b[0m\u001b[0;36m1000\u001b[0m\u001b[0;34m:\u001b[0m\u001b[0;36m1010\u001b[0m\u001b[0;34m]\u001b[0m\u001b[0;34m\u001b[0m\u001b[0;34m\u001b[0m\u001b[0m\n\u001b[0m",
            "\u001b[0;31mNameError\u001b[0m: name 'data' is not defined"
          ]
        }
      ]
    },
    {
      "cell_type": "markdown",
      "source": [
        "## 데이터 수집 및 전처리"
      ],
      "metadata": {
        "id": "rVUN5p50PrjY"
      }
    },
    {
      "cell_type": "code",
      "source": [
        "code_list = [102, 103, 105]\n",
        "code_list"
      ],
      "metadata": {
        "colab": {
          "base_uri": "https://localhost:8080/"
        },
        "id": "HjqCkxt3PsIW",
        "outputId": "97e03766-de57-4f55-ca38-4c7542c00a0d"
      },
      "execution_count": null,
      "outputs": [
        {
          "output_type": "execute_result",
          "data": {
            "text/plain": [
              "[102, 103, 105]"
            ]
          },
          "metadata": {},
          "execution_count": 38
        }
      ]
    },
    {
      "cell_type": "code",
      "source": [
        "def make_total_data(page_num, code_list, date):\n",
        "    df = None\n",
        "\n",
        "    for code in code_list:\n",
        "        url_list = make_urllist(page_num, code, date)\n",
        "        df_temp = make_data(url_list, code)\n",
        "        print(str(code) + '번 코드에 대한 데이터를 만들었습니다.')\n",
        "\n",
        "        if df is not None:\n",
        "            df = pd.concat([df, df_temp])\n",
        "        else:\n",
        "            df = df_temp\n",
        "    return df"
      ],
      "metadata": {
        "id": "ljc8C9VRPtSo"
      },
      "execution_count": null,
      "outputs": []
    },
    {
      "cell_type": "code",
      "source": [
        "df = make_total_data(1, code_list, 20200506)"
      ],
      "metadata": {
        "colab": {
          "base_uri": "https://localhost:8080/"
        },
        "id": "Pe9fGFZjPw7w",
        "outputId": "46d1b592-062c-4f5c-9548-70452376514a"
      },
      "execution_count": null,
      "outputs": [
        {
          "output_type": "stream",
          "name": "stdout",
          "text": [
            "102번 코드에 대한 데이터를 만들었습니다.\n",
            "103번 코드에 대한 데이터를 만들었습니다.\n",
            "105번 코드에 대한 데이터를 만들었습니다.\n"
          ]
        }
      ]
    },
    {
      "cell_type": "code",
      "source": [
        "print('뉴스 기사의 갯수 :', len(df))"
      ],
      "metadata": {
        "colab": {
          "base_uri": "https://localhost:8080/"
        },
        "id": "y_SOYiyaPyca",
        "outputId": "1b865a20-1bea-4cca-e70e-601f0c88daba"
      },
      "execution_count": null,
      "outputs": [
        {
          "output_type": "stream",
          "name": "stdout",
          "text": [
            "뉴스 기사의 갯수 : 60\n"
          ]
        }
      ]
    },
    {
      "cell_type": "code",
      "source": [
        "df.sample(10)"
      ],
      "metadata": {
        "colab": {
          "base_uri": "https://localhost:8080/",
          "height": 363
        },
        "id": "Yb7x1XeJQKew",
        "outputId": "6db2ab6c-31b3-4a36-fd99-0f58e72ba797"
      },
      "execution_count": null,
      "outputs": [
        {
          "output_type": "execute_result",
          "data": {
            "text/plain": [
              "                                                 news   code\n",
              "19  동영상 뉴스\\n\\n[앵커]생활 속 거리두기가 시작되면서 박물관과 미술관 등 문화예술...  생활/문화\n",
              "11  코로나19로 텅빈 베로나 아레나와 브라광장매년 여름 오페라 축제가 열리는 베로나 아...  생활/문화\n",
              "2   (서울=연합뉴스) 대한약사회가 6일부터 코로나바이러스 감염증 대응 체계를 '사회적 ...  IT/과학\n",
              "9   (사진=PIXABAY)\\n\\n6일 국회에서 열린 과방위 법안소위의 모습. 코로나19...  IT/과학\n",
              "16  6일 국회에서 열린 과방위 법안소위 6일 국회에서 열린 과방위 법안소위\\n\\n[아이...  IT/과학\n",
              "19  넷플릭스와 유튜브, 페이스북 등에게 국내 이용자를 위한 ‘서비스 안정성’을 유지할 ...  IT/과학\n",
              "16  메건 마클 왕자비와 아들 아치의 모습[세이브더칠드런 인스타그램 캡처. 재판매 및 D...     사회\n",
              "17  [디지털데일리 이종현기자] 공공시설을 이용하거나 공공기관 운영 강좌 수강을 신청할 ...  IT/과학\n",
              "8   6일 등교수업을 앞둔 경북 한 학교의 보건실에는 손소독제, 마스크 등 방역물품이 상...     사회\n",
              "18  기사 섹션 분류 안내\\n\\n기사의 섹션 정보는 해당 언론사의 분류를 따르고 있습니다...     사회"
            ],
            "text/html": [
              "\n",
              "  <div id=\"df-18609b64-48ea-419c-9e3d-5178449150ec\">\n",
              "    <div class=\"colab-df-container\">\n",
              "      <div>\n",
              "<style scoped>\n",
              "    .dataframe tbody tr th:only-of-type {\n",
              "        vertical-align: middle;\n",
              "    }\n",
              "\n",
              "    .dataframe tbody tr th {\n",
              "        vertical-align: top;\n",
              "    }\n",
              "\n",
              "    .dataframe thead th {\n",
              "        text-align: right;\n",
              "    }\n",
              "</style>\n",
              "<table border=\"1\" class=\"dataframe\">\n",
              "  <thead>\n",
              "    <tr style=\"text-align: right;\">\n",
              "      <th></th>\n",
              "      <th>news</th>\n",
              "      <th>code</th>\n",
              "    </tr>\n",
              "  </thead>\n",
              "  <tbody>\n",
              "    <tr>\n",
              "      <th>19</th>\n",
              "      <td>동영상 뉴스\\n\\n[앵커]생활 속 거리두기가 시작되면서 박물관과 미술관 등 문화예술...</td>\n",
              "      <td>생활/문화</td>\n",
              "    </tr>\n",
              "    <tr>\n",
              "      <th>11</th>\n",
              "      <td>코로나19로 텅빈 베로나 아레나와 브라광장매년 여름 오페라 축제가 열리는 베로나 아...</td>\n",
              "      <td>생활/문화</td>\n",
              "    </tr>\n",
              "    <tr>\n",
              "      <th>2</th>\n",
              "      <td>(서울=연합뉴스) 대한약사회가 6일부터 코로나바이러스 감염증 대응 체계를 '사회적 ...</td>\n",
              "      <td>IT/과학</td>\n",
              "    </tr>\n",
              "    <tr>\n",
              "      <th>9</th>\n",
              "      <td>(사진=PIXABAY)\\n\\n6일 국회에서 열린 과방위 법안소위의 모습. 코로나19...</td>\n",
              "      <td>IT/과학</td>\n",
              "    </tr>\n",
              "    <tr>\n",
              "      <th>16</th>\n",
              "      <td>6일 국회에서 열린 과방위 법안소위 6일 국회에서 열린 과방위 법안소위\\n\\n[아이...</td>\n",
              "      <td>IT/과학</td>\n",
              "    </tr>\n",
              "    <tr>\n",
              "      <th>19</th>\n",
              "      <td>넷플릭스와 유튜브, 페이스북 등에게 국내 이용자를 위한 ‘서비스 안정성’을 유지할 ...</td>\n",
              "      <td>IT/과학</td>\n",
              "    </tr>\n",
              "    <tr>\n",
              "      <th>16</th>\n",
              "      <td>메건 마클 왕자비와 아들 아치의 모습[세이브더칠드런 인스타그램 캡처. 재판매 및 D...</td>\n",
              "      <td>사회</td>\n",
              "    </tr>\n",
              "    <tr>\n",
              "      <th>17</th>\n",
              "      <td>[디지털데일리 이종현기자] 공공시설을 이용하거나 공공기관 운영 강좌 수강을 신청할 ...</td>\n",
              "      <td>IT/과학</td>\n",
              "    </tr>\n",
              "    <tr>\n",
              "      <th>8</th>\n",
              "      <td>6일 등교수업을 앞둔 경북 한 학교의 보건실에는 손소독제, 마스크 등 방역물품이 상...</td>\n",
              "      <td>사회</td>\n",
              "    </tr>\n",
              "    <tr>\n",
              "      <th>18</th>\n",
              "      <td>기사 섹션 분류 안내\\n\\n기사의 섹션 정보는 해당 언론사의 분류를 따르고 있습니다...</td>\n",
              "      <td>사회</td>\n",
              "    </tr>\n",
              "  </tbody>\n",
              "</table>\n",
              "</div>\n",
              "      <button class=\"colab-df-convert\" onclick=\"convertToInteractive('df-18609b64-48ea-419c-9e3d-5178449150ec')\"\n",
              "              title=\"Convert this dataframe to an interactive table.\"\n",
              "              style=\"display:none;\">\n",
              "        \n",
              "  <svg xmlns=\"http://www.w3.org/2000/svg\" height=\"24px\"viewBox=\"0 0 24 24\"\n",
              "       width=\"24px\">\n",
              "    <path d=\"M0 0h24v24H0V0z\" fill=\"none\"/>\n",
              "    <path d=\"M18.56 5.44l.94 2.06.94-2.06 2.06-.94-2.06-.94-.94-2.06-.94 2.06-2.06.94zm-11 1L8.5 8.5l.94-2.06 2.06-.94-2.06-.94L8.5 2.5l-.94 2.06-2.06.94zm10 10l.94 2.06.94-2.06 2.06-.94-2.06-.94-.94-2.06-.94 2.06-2.06.94z\"/><path d=\"M17.41 7.96l-1.37-1.37c-.4-.4-.92-.59-1.43-.59-.52 0-1.04.2-1.43.59L10.3 9.45l-7.72 7.72c-.78.78-.78 2.05 0 2.83L4 21.41c.39.39.9.59 1.41.59.51 0 1.02-.2 1.41-.59l7.78-7.78 2.81-2.81c.8-.78.8-2.07 0-2.86zM5.41 20L4 18.59l7.72-7.72 1.47 1.35L5.41 20z\"/>\n",
              "  </svg>\n",
              "      </button>\n",
              "      \n",
              "  <style>\n",
              "    .colab-df-container {\n",
              "      display:flex;\n",
              "      flex-wrap:wrap;\n",
              "      gap: 12px;\n",
              "    }\n",
              "\n",
              "    .colab-df-convert {\n",
              "      background-color: #E8F0FE;\n",
              "      border: none;\n",
              "      border-radius: 50%;\n",
              "      cursor: pointer;\n",
              "      display: none;\n",
              "      fill: #1967D2;\n",
              "      height: 32px;\n",
              "      padding: 0 0 0 0;\n",
              "      width: 32px;\n",
              "    }\n",
              "\n",
              "    .colab-df-convert:hover {\n",
              "      background-color: #E2EBFA;\n",
              "      box-shadow: 0px 1px 2px rgba(60, 64, 67, 0.3), 0px 1px 3px 1px rgba(60, 64, 67, 0.15);\n",
              "      fill: #174EA6;\n",
              "    }\n",
              "\n",
              "    [theme=dark] .colab-df-convert {\n",
              "      background-color: #3B4455;\n",
              "      fill: #D2E3FC;\n",
              "    }\n",
              "\n",
              "    [theme=dark] .colab-df-convert:hover {\n",
              "      background-color: #434B5C;\n",
              "      box-shadow: 0px 1px 3px 1px rgba(0, 0, 0, 0.15);\n",
              "      filter: drop-shadow(0px 1px 2px rgba(0, 0, 0, 0.3));\n",
              "      fill: #FFFFFF;\n",
              "    }\n",
              "  </style>\n",
              "\n",
              "      <script>\n",
              "        const buttonEl =\n",
              "          document.querySelector('#df-18609b64-48ea-419c-9e3d-5178449150ec button.colab-df-convert');\n",
              "        buttonEl.style.display =\n",
              "          google.colab.kernel.accessAllowed ? 'block' : 'none';\n",
              "\n",
              "        async function convertToInteractive(key) {\n",
              "          const element = document.querySelector('#df-18609b64-48ea-419c-9e3d-5178449150ec');\n",
              "          const dataTable =\n",
              "            await google.colab.kernel.invokeFunction('convertToInteractive',\n",
              "                                                     [key], {});\n",
              "          if (!dataTable) return;\n",
              "\n",
              "          const docLinkHtml = 'Like what you see? Visit the ' +\n",
              "            '<a target=\"_blank\" href=https://colab.research.google.com/notebooks/data_table.ipynb>data table notebook</a>'\n",
              "            + ' to learn more about interactive tables.';\n",
              "          element.innerHTML = '';\n",
              "          dataTable['output_type'] = 'display_data';\n",
              "          await google.colab.output.renderOutput(dataTable, element);\n",
              "          const docLink = document.createElement('div');\n",
              "          docLink.innerHTML = docLinkHtml;\n",
              "          element.appendChild(docLink);\n",
              "        }\n",
              "      </script>\n",
              "    </div>\n",
              "  </div>\n",
              "  "
            ]
          },
          "metadata": {},
          "execution_count": 44
        }
      ]
    },
    {
      "cell_type": "code",
      "source": [
        "df = make_total_data(100, code_list, 20200506)"
      ],
      "metadata": {
        "colab": {
          "base_uri": "https://localhost:8080/"
        },
        "id": "BA-VJVgvQLjN",
        "outputId": "22b79adf-ef56-47ca-b810-61328b6ac4dc"
      },
      "execution_count": null,
      "outputs": [
        {
          "output_type": "stream",
          "name": "stdout",
          "text": [
            "102번 코드에 대한 데이터를 만들었습니다.\n",
            "103번 코드에 대한 데이터를 만들었습니다.\n",
            "105번 코드에 대한 데이터를 만들었습니다.\n"
          ]
        }
      ]
    },
    {
      "cell_type": "code",
      "source": [
        "df"
      ],
      "metadata": {
        "colab": {
          "base_uri": "https://localhost:8080/",
          "height": 424
        },
        "id": "jbCqBteaQb_Y",
        "outputId": "c53a7c91-e69e-4f81-89eb-149dc98c1cbf"
      },
      "execution_count": null,
      "outputs": [
        {
          "output_type": "execute_result",
          "data": {
            "text/plain": [
              "                                                   news   code\n",
              "0     파주시청. 사진제공=파주시 파주시청. 사진제공=파주시\\n\\n[파주=파이낸셜뉴스 강근...     사회\n",
              "1     동영상 뉴스\\n\\n이천 물류창고 화재 발화지점으로 지목된 지하 2층에서 산소절단기의...     사회\n",
              "2     황범순 의정부시 부시장 을지대학교 의정부캠퍼스 및 부속병원 공사현장 안전점검. 사진...     사회\n",
              "3     귀갓길 여성을 쫓아가 성범죄를 시도한 20대 남성이 구속됐습니다.서울 강남경찰서는 ...     사회\n",
              "4     (서울=연합뉴스) 대한약사회가 6일부터 코로나바이러스 감염증 대응 체계를 '사회적 ...     사회\n",
              "...                                                 ...    ...\n",
              "1295  신종 코로나바이러스 감염증(코로나19) 사태 이후 ‘가정의 달’ 5월에도 언택트(비...  IT/과학\n",
              "1296  는 소비자로부터 월 이용료 1만~2만원을 받고 초고속 인터넷을 제공한다. 그런 SK...  IT/과학\n",
              "1297  머리를 긁고 있는 오랑우탄. 몸을 긁는 행동을 따라 하는 것은 부정적 감정과 관련이...  IT/과학\n",
              "1298  가 오는 15일 정식 출시하는 스마트폰 'LG벨벳'이 사실상 '공짜폰'이 될 전망이...  IT/과학\n",
              "1299  이미지제공=게티이미지뱅크 이미지제공=게티이미지뱅크\\n\\n[Copyright ⓒ 전자...  IT/과학\n",
              "\n",
              "[5249 rows x 2 columns]"
            ],
            "text/html": [
              "\n",
              "  <div id=\"df-5528135a-9932-4cdc-b5f6-5220fb64f615\">\n",
              "    <div class=\"colab-df-container\">\n",
              "      <div>\n",
              "<style scoped>\n",
              "    .dataframe tbody tr th:only-of-type {\n",
              "        vertical-align: middle;\n",
              "    }\n",
              "\n",
              "    .dataframe tbody tr th {\n",
              "        vertical-align: top;\n",
              "    }\n",
              "\n",
              "    .dataframe thead th {\n",
              "        text-align: right;\n",
              "    }\n",
              "</style>\n",
              "<table border=\"1\" class=\"dataframe\">\n",
              "  <thead>\n",
              "    <tr style=\"text-align: right;\">\n",
              "      <th></th>\n",
              "      <th>news</th>\n",
              "      <th>code</th>\n",
              "    </tr>\n",
              "  </thead>\n",
              "  <tbody>\n",
              "    <tr>\n",
              "      <th>0</th>\n",
              "      <td>파주시청. 사진제공=파주시 파주시청. 사진제공=파주시\\n\\n[파주=파이낸셜뉴스 강근...</td>\n",
              "      <td>사회</td>\n",
              "    </tr>\n",
              "    <tr>\n",
              "      <th>1</th>\n",
              "      <td>동영상 뉴스\\n\\n이천 물류창고 화재 발화지점으로 지목된 지하 2층에서 산소절단기의...</td>\n",
              "      <td>사회</td>\n",
              "    </tr>\n",
              "    <tr>\n",
              "      <th>2</th>\n",
              "      <td>황범순 의정부시 부시장 을지대학교 의정부캠퍼스 및 부속병원 공사현장 안전점검. 사진...</td>\n",
              "      <td>사회</td>\n",
              "    </tr>\n",
              "    <tr>\n",
              "      <th>3</th>\n",
              "      <td>귀갓길 여성을 쫓아가 성범죄를 시도한 20대 남성이 구속됐습니다.서울 강남경찰서는 ...</td>\n",
              "      <td>사회</td>\n",
              "    </tr>\n",
              "    <tr>\n",
              "      <th>4</th>\n",
              "      <td>(서울=연합뉴스) 대한약사회가 6일부터 코로나바이러스 감염증 대응 체계를 '사회적 ...</td>\n",
              "      <td>사회</td>\n",
              "    </tr>\n",
              "    <tr>\n",
              "      <th>...</th>\n",
              "      <td>...</td>\n",
              "      <td>...</td>\n",
              "    </tr>\n",
              "    <tr>\n",
              "      <th>1295</th>\n",
              "      <td>신종 코로나바이러스 감염증(코로나19) 사태 이후 ‘가정의 달’ 5월에도 언택트(비...</td>\n",
              "      <td>IT/과학</td>\n",
              "    </tr>\n",
              "    <tr>\n",
              "      <th>1296</th>\n",
              "      <td>는 소비자로부터 월 이용료 1만~2만원을 받고 초고속 인터넷을 제공한다. 그런 SK...</td>\n",
              "      <td>IT/과학</td>\n",
              "    </tr>\n",
              "    <tr>\n",
              "      <th>1297</th>\n",
              "      <td>머리를 긁고 있는 오랑우탄. 몸을 긁는 행동을 따라 하는 것은 부정적 감정과 관련이...</td>\n",
              "      <td>IT/과학</td>\n",
              "    </tr>\n",
              "    <tr>\n",
              "      <th>1298</th>\n",
              "      <td>가 오는 15일 정식 출시하는 스마트폰 'LG벨벳'이 사실상 '공짜폰'이 될 전망이...</td>\n",
              "      <td>IT/과학</td>\n",
              "    </tr>\n",
              "    <tr>\n",
              "      <th>1299</th>\n",
              "      <td>이미지제공=게티이미지뱅크 이미지제공=게티이미지뱅크\\n\\n[Copyright ⓒ 전자...</td>\n",
              "      <td>IT/과학</td>\n",
              "    </tr>\n",
              "  </tbody>\n",
              "</table>\n",
              "<p>5249 rows × 2 columns</p>\n",
              "</div>\n",
              "      <button class=\"colab-df-convert\" onclick=\"convertToInteractive('df-5528135a-9932-4cdc-b5f6-5220fb64f615')\"\n",
              "              title=\"Convert this dataframe to an interactive table.\"\n",
              "              style=\"display:none;\">\n",
              "        \n",
              "  <svg xmlns=\"http://www.w3.org/2000/svg\" height=\"24px\"viewBox=\"0 0 24 24\"\n",
              "       width=\"24px\">\n",
              "    <path d=\"M0 0h24v24H0V0z\" fill=\"none\"/>\n",
              "    <path d=\"M18.56 5.44l.94 2.06.94-2.06 2.06-.94-2.06-.94-.94-2.06-.94 2.06-2.06.94zm-11 1L8.5 8.5l.94-2.06 2.06-.94-2.06-.94L8.5 2.5l-.94 2.06-2.06.94zm10 10l.94 2.06.94-2.06 2.06-.94-2.06-.94-.94-2.06-.94 2.06-2.06.94z\"/><path d=\"M17.41 7.96l-1.37-1.37c-.4-.4-.92-.59-1.43-.59-.52 0-1.04.2-1.43.59L10.3 9.45l-7.72 7.72c-.78.78-.78 2.05 0 2.83L4 21.41c.39.39.9.59 1.41.59.51 0 1.02-.2 1.41-.59l7.78-7.78 2.81-2.81c.8-.78.8-2.07 0-2.86zM5.41 20L4 18.59l7.72-7.72 1.47 1.35L5.41 20z\"/>\n",
              "  </svg>\n",
              "      </button>\n",
              "      \n",
              "  <style>\n",
              "    .colab-df-container {\n",
              "      display:flex;\n",
              "      flex-wrap:wrap;\n",
              "      gap: 12px;\n",
              "    }\n",
              "\n",
              "    .colab-df-convert {\n",
              "      background-color: #E8F0FE;\n",
              "      border: none;\n",
              "      border-radius: 50%;\n",
              "      cursor: pointer;\n",
              "      display: none;\n",
              "      fill: #1967D2;\n",
              "      height: 32px;\n",
              "      padding: 0 0 0 0;\n",
              "      width: 32px;\n",
              "    }\n",
              "\n",
              "    .colab-df-convert:hover {\n",
              "      background-color: #E2EBFA;\n",
              "      box-shadow: 0px 1px 2px rgba(60, 64, 67, 0.3), 0px 1px 3px 1px rgba(60, 64, 67, 0.15);\n",
              "      fill: #174EA6;\n",
              "    }\n",
              "\n",
              "    [theme=dark] .colab-df-convert {\n",
              "      background-color: #3B4455;\n",
              "      fill: #D2E3FC;\n",
              "    }\n",
              "\n",
              "    [theme=dark] .colab-df-convert:hover {\n",
              "      background-color: #434B5C;\n",
              "      box-shadow: 0px 1px 3px 1px rgba(0, 0, 0, 0.15);\n",
              "      filter: drop-shadow(0px 1px 2px rgba(0, 0, 0, 0.3));\n",
              "      fill: #FFFFFF;\n",
              "    }\n",
              "  </style>\n",
              "\n",
              "      <script>\n",
              "        const buttonEl =\n",
              "          document.querySelector('#df-5528135a-9932-4cdc-b5f6-5220fb64f615 button.colab-df-convert');\n",
              "        buttonEl.style.display =\n",
              "          google.colab.kernel.accessAllowed ? 'block' : 'none';\n",
              "\n",
              "        async function convertToInteractive(key) {\n",
              "          const element = document.querySelector('#df-5528135a-9932-4cdc-b5f6-5220fb64f615');\n",
              "          const dataTable =\n",
              "            await google.colab.kernel.invokeFunction('convertToInteractive',\n",
              "                                                     [key], {});\n",
              "          if (!dataTable) return;\n",
              "\n",
              "          const docLinkHtml = 'Like what you see? Visit the ' +\n",
              "            '<a target=\"_blank\" href=https://colab.research.google.com/notebooks/data_table.ipynb>data table notebook</a>'\n",
              "            + ' to learn more about interactive tables.';\n",
              "          element.innerHTML = '';\n",
              "          dataTable['output_type'] = 'display_data';\n",
              "          await google.colab.output.renderOutput(dataTable, element);\n",
              "          const docLink = document.createElement('div');\n",
              "          docLink.innerHTML = docLinkHtml;\n",
              "          element.appendChild(docLink);\n",
              "        }\n",
              "      </script>\n",
              "    </div>\n",
              "  </div>\n",
              "  "
            ]
          },
          "metadata": {},
          "execution_count": 46
        }
      ]
    },
    {
      "cell_type": "code",
      "source": [
        "print(len(df))"
      ],
      "metadata": {
        "colab": {
          "base_uri": "https://localhost:8080/"
        },
        "id": "MmdOVlwYhW31",
        "outputId": "c1438fdd-72db-4d00-eda1-eee48f775f5d"
      },
      "execution_count": null,
      "outputs": [
        {
          "output_type": "stream",
          "name": "stdout",
          "text": [
            "5249\n"
          ]
        }
      ]
    },
    {
      "cell_type": "code",
      "source": [
        "# 해당 경로에 csv 저장하는 코드\n",
        "csv_path = '/content/sample_data/news_data.csv'\n",
        "df.to_csv(csv_path, index=False)"
      ],
      "metadata": {
        "id": "NmpMlc9OhlDy"
      },
      "execution_count": null,
      "outputs": []
    },
    {
      "cell_type": "code",
      "source": [
        "# 해당 경로에서 csv 읽어오는 코드\n",
        "csv_path = '/content/sample_data/news_data.csv'\n",
        "df = pd.read_table(csv_path, sep=',')\n",
        "df.head()"
      ],
      "metadata": {
        "colab": {
          "base_uri": "https://localhost:8080/",
          "height": 206
        },
        "id": "N_GX1mj-h-6T",
        "outputId": "4b897cea-ec2b-4ba3-ade3-6ef5216bf298"
      },
      "execution_count": null,
      "outputs": [
        {
          "output_type": "execute_result",
          "data": {
            "text/plain": [
              "                                                news code\n",
              "0  파주시청. 사진제공=파주시 파주시청. 사진제공=파주시\\n\\n[파주=파이낸셜뉴스 강근...   사회\n",
              "1  동영상 뉴스\\n\\n이천 물류창고 화재 발화지점으로 지목된 지하 2층에서 산소절단기의...   사회\n",
              "2  황범순 의정부시 부시장 을지대학교 의정부캠퍼스 및 부속병원 공사현장 안전점검. 사진...   사회\n",
              "3  귀갓길 여성을 쫓아가 성범죄를 시도한 20대 남성이 구속됐습니다.서울 강남경찰서는 ...   사회\n",
              "4  (서울=연합뉴스) 대한약사회가 6일부터 코로나바이러스 감염증 대응 체계를 '사회적 ...   사회"
            ],
            "text/html": [
              "\n",
              "  <div id=\"df-1978cae2-4c5e-468d-868d-f3889d7e19f5\">\n",
              "    <div class=\"colab-df-container\">\n",
              "      <div>\n",
              "<style scoped>\n",
              "    .dataframe tbody tr th:only-of-type {\n",
              "        vertical-align: middle;\n",
              "    }\n",
              "\n",
              "    .dataframe tbody tr th {\n",
              "        vertical-align: top;\n",
              "    }\n",
              "\n",
              "    .dataframe thead th {\n",
              "        text-align: right;\n",
              "    }\n",
              "</style>\n",
              "<table border=\"1\" class=\"dataframe\">\n",
              "  <thead>\n",
              "    <tr style=\"text-align: right;\">\n",
              "      <th></th>\n",
              "      <th>news</th>\n",
              "      <th>code</th>\n",
              "    </tr>\n",
              "  </thead>\n",
              "  <tbody>\n",
              "    <tr>\n",
              "      <th>0</th>\n",
              "      <td>파주시청. 사진제공=파주시 파주시청. 사진제공=파주시\\n\\n[파주=파이낸셜뉴스 강근...</td>\n",
              "      <td>사회</td>\n",
              "    </tr>\n",
              "    <tr>\n",
              "      <th>1</th>\n",
              "      <td>동영상 뉴스\\n\\n이천 물류창고 화재 발화지점으로 지목된 지하 2층에서 산소절단기의...</td>\n",
              "      <td>사회</td>\n",
              "    </tr>\n",
              "    <tr>\n",
              "      <th>2</th>\n",
              "      <td>황범순 의정부시 부시장 을지대학교 의정부캠퍼스 및 부속병원 공사현장 안전점검. 사진...</td>\n",
              "      <td>사회</td>\n",
              "    </tr>\n",
              "    <tr>\n",
              "      <th>3</th>\n",
              "      <td>귀갓길 여성을 쫓아가 성범죄를 시도한 20대 남성이 구속됐습니다.서울 강남경찰서는 ...</td>\n",
              "      <td>사회</td>\n",
              "    </tr>\n",
              "    <tr>\n",
              "      <th>4</th>\n",
              "      <td>(서울=연합뉴스) 대한약사회가 6일부터 코로나바이러스 감염증 대응 체계를 '사회적 ...</td>\n",
              "      <td>사회</td>\n",
              "    </tr>\n",
              "  </tbody>\n",
              "</table>\n",
              "</div>\n",
              "      <button class=\"colab-df-convert\" onclick=\"convertToInteractive('df-1978cae2-4c5e-468d-868d-f3889d7e19f5')\"\n",
              "              title=\"Convert this dataframe to an interactive table.\"\n",
              "              style=\"display:none;\">\n",
              "        \n",
              "  <svg xmlns=\"http://www.w3.org/2000/svg\" height=\"24px\"viewBox=\"0 0 24 24\"\n",
              "       width=\"24px\">\n",
              "    <path d=\"M0 0h24v24H0V0z\" fill=\"none\"/>\n",
              "    <path d=\"M18.56 5.44l.94 2.06.94-2.06 2.06-.94-2.06-.94-.94-2.06-.94 2.06-2.06.94zm-11 1L8.5 8.5l.94-2.06 2.06-.94-2.06-.94L8.5 2.5l-.94 2.06-2.06.94zm10 10l.94 2.06.94-2.06 2.06-.94-2.06-.94-.94-2.06-.94 2.06-2.06.94z\"/><path d=\"M17.41 7.96l-1.37-1.37c-.4-.4-.92-.59-1.43-.59-.52 0-1.04.2-1.43.59L10.3 9.45l-7.72 7.72c-.78.78-.78 2.05 0 2.83L4 21.41c.39.39.9.59 1.41.59.51 0 1.02-.2 1.41-.59l7.78-7.78 2.81-2.81c.8-.78.8-2.07 0-2.86zM5.41 20L4 18.59l7.72-7.72 1.47 1.35L5.41 20z\"/>\n",
              "  </svg>\n",
              "      </button>\n",
              "      \n",
              "  <style>\n",
              "    .colab-df-container {\n",
              "      display:flex;\n",
              "      flex-wrap:wrap;\n",
              "      gap: 12px;\n",
              "    }\n",
              "\n",
              "    .colab-df-convert {\n",
              "      background-color: #E8F0FE;\n",
              "      border: none;\n",
              "      border-radius: 50%;\n",
              "      cursor: pointer;\n",
              "      display: none;\n",
              "      fill: #1967D2;\n",
              "      height: 32px;\n",
              "      padding: 0 0 0 0;\n",
              "      width: 32px;\n",
              "    }\n",
              "\n",
              "    .colab-df-convert:hover {\n",
              "      background-color: #E2EBFA;\n",
              "      box-shadow: 0px 1px 2px rgba(60, 64, 67, 0.3), 0px 1px 3px 1px rgba(60, 64, 67, 0.15);\n",
              "      fill: #174EA6;\n",
              "    }\n",
              "\n",
              "    [theme=dark] .colab-df-convert {\n",
              "      background-color: #3B4455;\n",
              "      fill: #D2E3FC;\n",
              "    }\n",
              "\n",
              "    [theme=dark] .colab-df-convert:hover {\n",
              "      background-color: #434B5C;\n",
              "      box-shadow: 0px 1px 3px 1px rgba(0, 0, 0, 0.15);\n",
              "      filter: drop-shadow(0px 1px 2px rgba(0, 0, 0, 0.3));\n",
              "      fill: #FFFFFF;\n",
              "    }\n",
              "  </style>\n",
              "\n",
              "      <script>\n",
              "        const buttonEl =\n",
              "          document.querySelector('#df-1978cae2-4c5e-468d-868d-f3889d7e19f5 button.colab-df-convert');\n",
              "        buttonEl.style.display =\n",
              "          google.colab.kernel.accessAllowed ? 'block' : 'none';\n",
              "\n",
              "        async function convertToInteractive(key) {\n",
              "          const element = document.querySelector('#df-1978cae2-4c5e-468d-868d-f3889d7e19f5');\n",
              "          const dataTable =\n",
              "            await google.colab.kernel.invokeFunction('convertToInteractive',\n",
              "                                                     [key], {});\n",
              "          if (!dataTable) return;\n",
              "\n",
              "          const docLinkHtml = 'Like what you see? Visit the ' +\n",
              "            '<a target=\"_blank\" href=https://colab.research.google.com/notebooks/data_table.ipynb>data table notebook</a>'\n",
              "            + ' to learn more about interactive tables.';\n",
              "          element.innerHTML = '';\n",
              "          dataTable['output_type'] = 'display_data';\n",
              "          await google.colab.output.renderOutput(dataTable, element);\n",
              "          const docLink = document.createElement('div');\n",
              "          docLink.innerHTML = docLinkHtml;\n",
              "          element.appendChild(docLink);\n",
              "        }\n",
              "      </script>\n",
              "    </div>\n",
              "  </div>\n",
              "  "
            ]
          },
          "metadata": {},
          "execution_count": 51
        }
      ]
    },
    {
      "cell_type": "code",
      "source": [
        "df['news'] = df['news'].str.replace(\"[^ㄱ-ㅎㅏ-ㅣ가-힣 ]\",\"\") # =, \\m, 영어 등 제거\n",
        "df['news']"
      ],
      "metadata": {
        "colab": {
          "base_uri": "https://localhost:8080/"
        },
        "id": "pTi1COfdiZ-F",
        "outputId": "6319efa4-d7ba-4844-b648-e6013bc88639"
      },
      "execution_count": null,
      "outputs": [
        {
          "output_type": "stream",
          "name": "stderr",
          "text": [
            "/usr/local/lib/python3.7/dist-packages/ipykernel_launcher.py:1: FutureWarning: The default value of regex will change from True to False in a future version.\n",
            "  \"\"\"Entry point for launching an IPython kernel.\n"
          ]
        },
        {
          "output_type": "execute_result",
          "data": {
            "text/plain": [
              "0       파주시청 사진제공파주시 파주시청 사진제공파주시파주파이낸셜뉴스 강근주 기자 파주시는 ...\n",
              "1       동영상 뉴스이천 물류창고 화재 발화지점으로 지목된 지하 층에서 산소절단기의 산소 공...\n",
              "2       황범순 의정부시 부시장 을지대학교 의정부캠퍼스 및 부속병원 공사현장 안전점검 사진제...\n",
              "3       귀갓길 여성을 쫓아가 성범죄를 시도한 대 남성이 구속됐습니다서울 강남경찰서는 강간상...\n",
              "4       서울연합뉴스 대한약사회가 일부터 코로나바이러스 감염증 대응 체계를 사회적 거리두기에...\n",
              "                              ...                        \n",
              "5244    신종 코로나바이러스 감염증코로나 사태 이후 가정의 달 월에도 언택트비대면 신풍속도가...\n",
              "5245    는 소비자로부터 월 이용료 만만원을 받고 초고속 인터넷을 제공한다 그런 브로드밴드가...\n",
              "5246    머리를 긁고 있는 오랑우탄 몸을 긁는 행동을 따라 하는 것은 부정적 감정과 관련이 ...\n",
              "5247    가 오는 일 정식 출시하는 스마트폰 벨벳이 사실상 공짜폰이 될 전망이다 단말기 가격...\n",
              "5248    이미지제공게티이미지뱅크 이미지제공게티이미지뱅크  전자신문  전자신문인터넷 무단전재 ...\n",
              "Name: news, Length: 5249, dtype: object"
            ]
          },
          "metadata": {},
          "execution_count": 52
        }
      ]
    },
    {
      "cell_type": "code",
      "source": [
        "print(df.isnull().sum())"
      ],
      "metadata": {
        "colab": {
          "base_uri": "https://localhost:8080/"
        },
        "id": "FB7owbvSiCRv",
        "outputId": "d021c62d-3858-4e33-fe2a-35d1e015b37f"
      },
      "execution_count": null,
      "outputs": [
        {
          "output_type": "stream",
          "name": "stdout",
          "text": [
            "news    0\n",
            "code    0\n",
            "dtype: int64\n"
          ]
        }
      ]
    },
    {
      "cell_type": "code",
      "source": [
        "# 중복된 샘플 제거\n",
        "df.drop_duplicates(subset=['news'], inplace=True)\n",
        "\n",
        "print('뉴스 기사의 갯수 : ', len(df))"
      ],
      "metadata": {
        "colab": {
          "base_uri": "https://localhost:8080/"
        },
        "id": "Jt7SHJ3Fir6O",
        "outputId": "36129f15-4994-46ba-fed3-093b9c9709c7"
      },
      "execution_count": null,
      "outputs": [
        {
          "output_type": "stream",
          "name": "stdout",
          "text": [
            "뉴스 기사의 갯수 :  3985\n"
          ]
        }
      ]
    },
    {
      "cell_type": "code",
      "source": [
        "import matplotlib.pyplot as plt\n",
        "plt.rcParams[\"font.family\"] = \"NanumGothic\""
      ],
      "metadata": {
        "id": "y0a53bcai7cC"
      },
      "execution_count": null,
      "outputs": []
    },
    {
      "cell_type": "code",
      "source": [
        "df['code'].value_counts().plot(kind='bar')"
      ],
      "metadata": {
        "id": "B_cLoqxJjjhv"
      },
      "execution_count": null,
      "outputs": []
    },
    {
      "cell_type": "code",
      "source": [
        "df.groupby('code').size().reset_index(name='count')"
      ],
      "metadata": {
        "colab": {
          "base_uri": "https://localhost:8080/",
          "height": 143
        },
        "id": "mtI8ETMbjkgf",
        "outputId": "2bab576e-6897-45be-ede7-19b5327d886e"
      },
      "execution_count": null,
      "outputs": [
        {
          "output_type": "execute_result",
          "data": {
            "text/plain": [
              "    code  count\n",
              "0  IT/과학    903\n",
              "1     사회   1668\n",
              "2  생활/문화   1414"
            ],
            "text/html": [
              "\n",
              "  <div id=\"df-bfa0e074-fd5c-4245-ad36-1699d9094f82\">\n",
              "    <div class=\"colab-df-container\">\n",
              "      <div>\n",
              "<style scoped>\n",
              "    .dataframe tbody tr th:only-of-type {\n",
              "        vertical-align: middle;\n",
              "    }\n",
              "\n",
              "    .dataframe tbody tr th {\n",
              "        vertical-align: top;\n",
              "    }\n",
              "\n",
              "    .dataframe thead th {\n",
              "        text-align: right;\n",
              "    }\n",
              "</style>\n",
              "<table border=\"1\" class=\"dataframe\">\n",
              "  <thead>\n",
              "    <tr style=\"text-align: right;\">\n",
              "      <th></th>\n",
              "      <th>code</th>\n",
              "      <th>count</th>\n",
              "    </tr>\n",
              "  </thead>\n",
              "  <tbody>\n",
              "    <tr>\n",
              "      <th>0</th>\n",
              "      <td>IT/과학</td>\n",
              "      <td>903</td>\n",
              "    </tr>\n",
              "    <tr>\n",
              "      <th>1</th>\n",
              "      <td>사회</td>\n",
              "      <td>1668</td>\n",
              "    </tr>\n",
              "    <tr>\n",
              "      <th>2</th>\n",
              "      <td>생활/문화</td>\n",
              "      <td>1414</td>\n",
              "    </tr>\n",
              "  </tbody>\n",
              "</table>\n",
              "</div>\n",
              "      <button class=\"colab-df-convert\" onclick=\"convertToInteractive('df-bfa0e074-fd5c-4245-ad36-1699d9094f82')\"\n",
              "              title=\"Convert this dataframe to an interactive table.\"\n",
              "              style=\"display:none;\">\n",
              "        \n",
              "  <svg xmlns=\"http://www.w3.org/2000/svg\" height=\"24px\"viewBox=\"0 0 24 24\"\n",
              "       width=\"24px\">\n",
              "    <path d=\"M0 0h24v24H0V0z\" fill=\"none\"/>\n",
              "    <path d=\"M18.56 5.44l.94 2.06.94-2.06 2.06-.94-2.06-.94-.94-2.06-.94 2.06-2.06.94zm-11 1L8.5 8.5l.94-2.06 2.06-.94-2.06-.94L8.5 2.5l-.94 2.06-2.06.94zm10 10l.94 2.06.94-2.06 2.06-.94-2.06-.94-.94-2.06-.94 2.06-2.06.94z\"/><path d=\"M17.41 7.96l-1.37-1.37c-.4-.4-.92-.59-1.43-.59-.52 0-1.04.2-1.43.59L10.3 9.45l-7.72 7.72c-.78.78-.78 2.05 0 2.83L4 21.41c.39.39.9.59 1.41.59.51 0 1.02-.2 1.41-.59l7.78-7.78 2.81-2.81c.8-.78.8-2.07 0-2.86zM5.41 20L4 18.59l7.72-7.72 1.47 1.35L5.41 20z\"/>\n",
              "  </svg>\n",
              "      </button>\n",
              "      \n",
              "  <style>\n",
              "    .colab-df-container {\n",
              "      display:flex;\n",
              "      flex-wrap:wrap;\n",
              "      gap: 12px;\n",
              "    }\n",
              "\n",
              "    .colab-df-convert {\n",
              "      background-color: #E8F0FE;\n",
              "      border: none;\n",
              "      border-radius: 50%;\n",
              "      cursor: pointer;\n",
              "      display: none;\n",
              "      fill: #1967D2;\n",
              "      height: 32px;\n",
              "      padding: 0 0 0 0;\n",
              "      width: 32px;\n",
              "    }\n",
              "\n",
              "    .colab-df-convert:hover {\n",
              "      background-color: #E2EBFA;\n",
              "      box-shadow: 0px 1px 2px rgba(60, 64, 67, 0.3), 0px 1px 3px 1px rgba(60, 64, 67, 0.15);\n",
              "      fill: #174EA6;\n",
              "    }\n",
              "\n",
              "    [theme=dark] .colab-df-convert {\n",
              "      background-color: #3B4455;\n",
              "      fill: #D2E3FC;\n",
              "    }\n",
              "\n",
              "    [theme=dark] .colab-df-convert:hover {\n",
              "      background-color: #434B5C;\n",
              "      box-shadow: 0px 1px 3px 1px rgba(0, 0, 0, 0.15);\n",
              "      filter: drop-shadow(0px 1px 2px rgba(0, 0, 0, 0.3));\n",
              "      fill: #FFFFFF;\n",
              "    }\n",
              "  </style>\n",
              "\n",
              "      <script>\n",
              "        const buttonEl =\n",
              "          document.querySelector('#df-bfa0e074-fd5c-4245-ad36-1699d9094f82 button.colab-df-convert');\n",
              "        buttonEl.style.display =\n",
              "          google.colab.kernel.accessAllowed ? 'block' : 'none';\n",
              "\n",
              "        async function convertToInteractive(key) {\n",
              "          const element = document.querySelector('#df-bfa0e074-fd5c-4245-ad36-1699d9094f82');\n",
              "          const dataTable =\n",
              "            await google.colab.kernel.invokeFunction('convertToInteractive',\n",
              "                                                     [key], {});\n",
              "          if (!dataTable) return;\n",
              "\n",
              "          const docLinkHtml = 'Like what you see? Visit the ' +\n",
              "            '<a target=\"_blank\" href=https://colab.research.google.com/notebooks/data_table.ipynb>data table notebook</a>'\n",
              "            + ' to learn more about interactive tables.';\n",
              "          element.innerHTML = '';\n",
              "          dataTable['output_type'] = 'display_data';\n",
              "          await google.colab.output.renderOutput(dataTable, element);\n",
              "          const docLink = document.createElement('div');\n",
              "          docLink.innerHTML = docLinkHtml;\n",
              "          element.appendChild(docLink);\n",
              "        }\n",
              "      </script>\n",
              "    </div>\n",
              "  </div>\n",
              "  "
            ]
          },
          "metadata": {},
          "execution_count": 57
        }
      ]
    },
    {
      "cell_type": "markdown",
      "source": [
        "## 불용어 제거"
      ],
      "metadata": {
        "id": "Vc_qRv9kjtqQ"
      }
    },
    {
      "cell_type": "code",
      "source": [
        "stopwords = ['에','는','은','을','했','에게','있','이','의','하','한','다','과','때문','할','수','무단','따른','및','금지','전재','경향신문','기자','는데','가','등','들','파이낸셜','저작','등','뉴스', '습니다', '고']"
      ],
      "metadata": {
        "id": "HtQY5Ua8jl-o"
      },
      "execution_count": null,
      "outputs": []
    },
    {
      "cell_type": "code",
      "source": [
        "def preprocessing(data):\n",
        "    text_data = []\n",
        "\n",
        "    for sentence in data:\n",
        "        temp_data = []\n",
        "        temp_data = mecab.morphs(sentence)\n",
        "        temp_data = [word for word in temp_data if not word in stopwords]\n",
        "        text_data.append(temp_data)\n",
        "\n",
        "    text_data = list(map(' '.join, text_data))\n",
        "    return text_data"
      ],
      "metadata": {
        "id": "RW-IiAYFju_E"
      },
      "execution_count": null,
      "outputs": []
    },
    {
      "cell_type": "code",
      "source": [
        "text_data = preprocessing(df['news'])"
      ],
      "metadata": {
        "id": "oRzRexA9kCjy"
      },
      "execution_count": null,
      "outputs": []
    },
    {
      "cell_type": "code",
      "source": [
        "print(text_data[1])"
      ],
      "metadata": {
        "colab": {
          "base_uri": "https://localhost:8080/"
        },
        "id": "fWS_tx1lkKwN",
        "outputId": "f41d85f8-c76a-4dc8-9fab-e4dc3ed9fef3"
      },
      "execution_count": null,
      "outputs": [
        {
          "output_type": "stream",
          "name": "stdout",
          "text": [
            "동영상 천 물류 창고 화재 발화 지점 으로 지목 된 지하 층 에서 산소 절단기 산소 공급 호스 끊어진 채 발견 돼 경찰 폭발 가능 성 수사 확보 현장 감식 사진 보 면 산소 절단기 와 연결 된 산소 공급 호스 날카롭 게 절단 돼 었 전문가 산소 공급 호스 기계 적 충격 의해 절단 됐 실제 산소 샜 다면 폭발 일어날 다는 의견 제시 지하 층 에선 밖 도 전동 절단기 와 그라인더 불꽃 발생 시킬 작업 도구 다수 나와 경찰 집중 분석 경찰 또 건물 옆 에서 우레탄 혼합 해 작업 현장 으로 보내 차량 발견 해 화재 당시 우레탄 폼 발포 작업 함께 불꽃 튀 화기 작업 동시 진행 됐 는지 를 조사 당신 제보 됩니다 여러분 소중 제보 를 기다립니다 카카오톡 검색 해 채널 추가 전화 메일 온라인 제보 권 자 재 배포\n"
          ]
        }
      ]
    },
    {
      "cell_type": "code",
      "source": [
        ""
      ],
      "metadata": {
        "id": "YEDOObyXkOob"
      },
      "execution_count": null,
      "outputs": []
    },
    {
      "cell_type": "markdown",
      "source": [
        "## 모델 학습 준비"
      ],
      "metadata": {
        "id": "ecmhURpVko7Z"
      }
    },
    {
      "cell_type": "code",
      "source": [
        "from sklearn.model_selection import train_test_split\n",
        "from sklearn.feature_extraction.text import CountVectorizer\n",
        "from sklearn.feature_extraction.text import TfidfTransformer\n",
        "from sklearn.naive_bayes import MultinomialNB\n",
        "from sklearn import metrics"
      ],
      "metadata": {
        "id": "Y82D5ETdkpbT"
      },
      "execution_count": null,
      "outputs": []
    },
    {
      "cell_type": "code",
      "source": [
        "x_train, x_test, y_train, y_test = train_test_split(text_data, df['code'], random_state=0)"
      ],
      "metadata": {
        "id": "karteWsWkrGP"
      },
      "execution_count": null,
      "outputs": []
    },
    {
      "cell_type": "code",
      "source": [
        "print('훈련용 뉴스 기사의 갯수 :', len(x_train))\n",
        "print('테스트용 뉴스 기사의 갯수 : ', len(x_test))\n",
        "print('훈련용 레이블의 갯수 :', len(y_train))\n",
        "print('테스트용 레이블의 갯수 :', len(y_test))"
      ],
      "metadata": {
        "colab": {
          "base_uri": "https://localhost:8080/"
        },
        "id": "YBRmLrH_ksDH",
        "outputId": "0674fecc-a125-4708-d1b0-cef0873df65a"
      },
      "execution_count": null,
      "outputs": [
        {
          "output_type": "stream",
          "name": "stdout",
          "text": [
            "훈련용 뉴스 기사의 갯수 : 2988\n",
            "테스트용 뉴스 기사의 갯수 :  997\n",
            "훈련용 레이블의 갯수 : 2988\n",
            "테스트용 레이블의 갯수 : 997\n"
          ]
        }
      ]
    },
    {
      "cell_type": "markdown",
      "source": [
        "### DTM"
      ],
      "metadata": {
        "id": "248Unx1_lI0f"
      }
    },
    {
      "cell_type": "code",
      "source": [
        "count_vect = CountVectorizer()\n",
        "x_train_counts = count_vect.fit_transform(x_train)"
      ],
      "metadata": {
        "id": "QF0DWmpGlJWG"
      },
      "execution_count": null,
      "outputs": []
    },
    {
      "cell_type": "markdown",
      "source": [
        "### TF-IDF 행렬"
      ],
      "metadata": {
        "id": "O9JerupNlJuz"
      }
    },
    {
      "cell_type": "code",
      "source": [
        "tfidf_transformer = TfidfTransformer()\n",
        "x_train_tfidf = tfidf_transformer.fit_transform(x_train_counts)"
      ],
      "metadata": {
        "id": "KAyQvbvikwzu"
      },
      "execution_count": null,
      "outputs": []
    },
    {
      "cell_type": "code",
      "source": [
        "print(x_train_tfidf)"
      ],
      "metadata": {
        "colab": {
          "base_uri": "https://localhost:8080/"
        },
        "id": "LuHkHe2LlW4c",
        "outputId": "af7c3c2f-4126-49b8-ae9a-86967844a3b3"
      },
      "execution_count": null,
      "outputs": [
        {
          "output_type": "stream",
          "name": "stdout",
          "text": [
            "  (0, 31554)\t0.03630911340953605\n",
            "  (0, 31493)\t0.041443406387489584\n",
            "  (0, 31491)\t0.0415519688254264\n",
            "  (0, 31397)\t0.05592545040561079\n",
            "  (0, 31270)\t0.05987154569662271\n",
            "  (0, 31190)\t0.11081463531898597\n",
            "  (0, 30763)\t0.03687782738418015\n",
            "  (0, 30639)\t0.05835722460508418\n",
            "  (0, 30637)\t0.04912403882091319\n",
            "  (0, 30621)\t0.0405207609995726\n",
            "  (0, 30268)\t0.021549896581596534\n",
            "  (0, 30266)\t0.035909839079011165\n",
            "  (0, 29492)\t0.1562218372995132\n",
            "  (0, 29306)\t0.05835722460508418\n",
            "  (0, 28913)\t0.04670708859076295\n",
            "  (0, 28771)\t0.05592545040561079\n",
            "  (0, 28709)\t0.03554592429187528\n",
            "  (0, 28649)\t0.018301074250990316\n",
            "  (0, 28573)\t0.08143566166187365\n",
            "  (0, 28533)\t0.05706003617548687\n",
            "  (0, 28366)\t0.0627582826637809\n",
            "  (0, 27763)\t0.11081463531898597\n",
            "  (0, 27324)\t0.0690415615023607\n",
            "  (0, 27214)\t0.11796281661585864\n",
            "  (0, 26244)\t0.0510840699946124\n",
            "  :\t:\n",
            "  (2987, 5056)\t0.04647899197890628\n",
            "  (2987, 4784)\t0.06442240011962572\n",
            "  (2987, 4604)\t0.05578582621158117\n",
            "  (2987, 4538)\t0.03738530141946851\n",
            "  (2987, 3858)\t0.05578582621158117\n",
            "  (2987, 3791)\t0.05578582621158117\n",
            "  (2987, 3693)\t0.04498092627192752\n",
            "  (2987, 3567)\t0.025143249000285115\n",
            "  (2987, 2704)\t0.16735747863474354\n",
            "  (2987, 2348)\t0.05578582621158117\n",
            "  (2987, 2220)\t0.030155760359608912\n",
            "  (2987, 2001)\t0.053063751698309784\n",
            "  (2987, 1632)\t0.03619748386953915\n",
            "  (2987, 1543)\t0.024703419188307187\n",
            "  (2987, 1513)\t0.19364133832788935\n",
            "  (2987, 1509)\t0.049634343388264966\n",
            "  (2987, 1132)\t0.05578582621158117\n",
            "  (2987, 1009)\t0.05307445588652445\n",
            "  (2987, 959)\t0.018785181822081557\n",
            "  (2987, 483)\t0.03676515666371356\n",
            "  (2987, 429)\t0.04647899197890628\n",
            "  (2987, 265)\t0.04526863632050171\n",
            "  (2987, 88)\t0.04375691746563489\n",
            "  (2987, 74)\t0.029522609215936427\n",
            "  (2987, 64)\t0.03518857004060926\n"
          ]
        }
      ]
    },
    {
      "cell_type": "markdown",
      "source": [
        "### 모델 학습 (나이브베이즈 모델)"
      ],
      "metadata": {
        "id": "XR0W_v24lkFE"
      }
    },
    {
      "cell_type": "code",
      "source": [
        "clf = MultinomialNB().fit(x_train_tfidf, y_train)"
      ],
      "metadata": {
        "id": "kIFk5Ujhla0t"
      },
      "execution_count": null,
      "outputs": []
    },
    {
      "cell_type": "code",
      "source": [
        "def tfidf_vectorizer(data):\n",
        "    data_counts = count_vect.transform(data)\n",
        "    data_tfidf = tfidf_transformer.transform(data_counts)\n",
        "    return data_tfidf"
      ],
      "metadata": {
        "id": "O20zg74vlnjb"
      },
      "execution_count": null,
      "outputs": []
    },
    {
      "cell_type": "code",
      "source": [
        "new_sent = preprocessing([\"민주당 일각에서 법사위의 체계·자구 심사 기능을 없애야 한다는 \\\n",
        "                           주장이 나오는데 대해 “체계·자구 심사가 법안 지연의 수단으로 \\\n",
        "                          쓰이는 것은 바람직하지 않다”면서도 “국회를 통과하는 법안 중 위헌\\\n",
        "                          법률이 1년에 10건 넘게 나온다. 그런데 체계·자구 심사까지 없애면 매우 위험하다”고 반박했다.\"           \n",
        "])"
      ],
      "metadata": {
        "id": "zBdhpJzCl8RD"
      },
      "execution_count": null,
      "outputs": []
    },
    {
      "cell_type": "code",
      "source": [
        "print(clf.predict(tfidf_vectorizer(new_sent)))"
      ],
      "metadata": {
        "colab": {
          "base_uri": "https://localhost:8080/"
        },
        "id": "fTZNNMGLmCl2",
        "outputId": "e6868c57-5033-4e55-9fd4-3638a310cdf2"
      },
      "execution_count": null,
      "outputs": [
        {
          "output_type": "stream",
          "name": "stdout",
          "text": [
            "['사회']\n"
          ]
        }
      ]
    },
    {
      "cell_type": "code",
      "source": [
        "new_sent = preprocessing([\"20분기 연속으로 적자에 시달리는 LG전자가 브랜드 이름부터 성능, 디자인까지 대대적인 변화를 \\\n",
        "                          적용한 LG 벨벳은 등장 전부터 온라인 커뮤니티를 뜨겁게 달궜다. 사용자들은 “디자인이 예쁘다”, \\\n",
        "                          “슬림하다”는 반응을 보이며 LG 벨벳에 대한 기대감을 드러냈다.\"  \n",
        "])"
      ],
      "metadata": {
        "id": "cKiOAa14mDSw"
      },
      "execution_count": null,
      "outputs": []
    },
    {
      "cell_type": "code",
      "source": [
        "print(clf.predict(tfidf_vectorizer(new_sent)))"
      ],
      "metadata": {
        "colab": {
          "base_uri": "https://localhost:8080/"
        },
        "id": "4ztAnLu1mbMc",
        "outputId": "8b3febf1-c8c8-4cbb-ad12-b209e05ad9e4"
      },
      "execution_count": null,
      "outputs": [
        {
          "output_type": "stream",
          "name": "stdout",
          "text": [
            "['IT/과학']\n"
          ]
        }
      ]
    },
    {
      "cell_type": "code",
      "source": [
        "y_pred = clf.predict(tfidf_vectorizer(x_test))\n",
        "print(metrics.classification_report(y_test, y_pred))"
      ],
      "metadata": {
        "colab": {
          "base_uri": "https://localhost:8080/"
        },
        "id": "YnZBfZkzmbZl",
        "outputId": "7a5b5d74-8228-4a4e-f06c-bf0b2dd6fbda"
      },
      "execution_count": null,
      "outputs": [
        {
          "output_type": "stream",
          "name": "stdout",
          "text": [
            "              precision    recall  f1-score   support\n",
            "\n",
            "       IT/과학       0.91      0.78      0.84       227\n",
            "          사회       0.77      0.91      0.84       437\n",
            "       생활/문화       0.84      0.74      0.79       333\n",
            "\n",
            "    accuracy                           0.82       997\n",
            "   macro avg       0.84      0.81      0.82       997\n",
            "weighted avg       0.83      0.82      0.82       997\n",
            "\n"
          ]
        }
      ]
    },
    {
      "cell_type": "code",
      "source": [
        ""
      ],
      "metadata": {
        "id": "E65wJ3yxmcyV"
      },
      "execution_count": null,
      "outputs": []
    },
    {
      "cell_type": "markdown",
      "source": [
        "모델 학습 "
      ],
      "metadata": {
        "id": "WyWxI1GXTM5r"
      }
    }
  ]
}