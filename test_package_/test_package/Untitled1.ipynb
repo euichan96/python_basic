{
 "cells": [
  {
   "cell_type": "code",
   "execution_count": null,
   "id": "f3122e06",
   "metadata": {},
   "outputs": [],
   "source": [
    "# flask 모듈\n",
    "from flask import Flask\n",
    "\n",
    "app = Flask(__name__)\n",
    "\n",
    "@app.route(\"/\")\n",
    "def hello():\n",
    "    return url_report()\n",
    "\n",
    "def url_report():\n",
    "    from urllib import request\n",
    "    from bs4 import BeautifulSoup\n",
    "\n",
    "    url = 'https://www.weather.go.kr/w/weather/forecast/mid-term.do?stnId=108'\n",
    "    target = request.urlopen(url)\n",
    "\n",
    "    soup = BeautifulSoup(target)\n",
    "    output = '<table>'\n",
    "    for location in soup.find_all('tr'):\n",
    "        output +='<tr>'\n",
    "        if location.find('td', class_='midterm-city'):\n",
    "            output += \"<td>{}</td>\".format(location.find('td',\n",
    "                                                class_='midterm-city').text)\n",
    "            output += \"<td>{}</td>\".format(location.find('span', class_='tmn').text)\n",
    "            output += \"<td>{}</td>\".format(location.find('span', class_='tmx').text)\n",
    "        output +='</tr>'\n",
    "    output += '</table>'\n",
    "    return output\n",
    "\n"
   ]
  }
 ],
 "metadata": {
  "kernelspec": {
   "display_name": "Python 3 (ipykernel)",
   "language": "python",
   "name": "python3"
  },
  "language_info": {
   "codemirror_mode": {
    "name": "ipython",
    "version": 3
   },
   "file_extension": ".py",
   "mimetype": "text/x-python",
   "name": "python",
   "nbconvert_exporter": "python",
   "pygments_lexer": "ipython3",
   "version": "3.9.7"
  }
 },
 "nbformat": 4,
 "nbformat_minor": 5
}
